{
  "cells": [
    {
      "cell_type": "markdown",
      "metadata": {
        "id": "glbuyNEBFYTh"
      },
      "source": [
        "# Data Load & Simple Preprocessing"
      ]
    },
    {
      "cell_type": "code",
      "execution_count": 1,
      "metadata": {
        "colab": {
          "base_uri": "https://localhost:8080/"
        },
        "id": "AWP46837X4XJ",
        "outputId": "a743bea8-e392-418b-898e-abd554a55a18"
      },
      "outputs": [
        {
          "output_type": "stream",
          "name": "stdout",
          "text": [
            "Mounted at /content/gdrive/\n"
          ]
        }
      ],
      "source": [
        "from google.colab import drive\n",
        "drive.mount('/content/gdrive/')"
      ]
    },
    {
      "cell_type": "code",
      "execution_count": 2,
      "metadata": {
        "colab": {
          "base_uri": "https://localhost:8080/"
        },
        "id": "o81jZN8gYBDt",
        "outputId": "d4083d90-355b-40e7-ad0a-e605de337a48"
      },
      "outputs": [
        {
          "output_type": "execute_result",
          "data": {
            "text/plain": [
              "['prediction_1224.csv',\n",
              " '참가자_제공_레이아웃.pdf',\n",
              " '속성_D_코드.csv',\n",
              " 'sample_submission.csv',\n",
              " '속성_H_코드.csv',\n",
              " '속성_L_코드.csv',\n",
              " 'test.csv',\n",
              " 'train.csv',\n",
              " 'prediction_0103.csv',\n",
              " 'prediction_0104.csv',\n",
              " 'prediction_0112.csv',\n",
              " 'prediction_0112_1.csv',\n",
              " 'prediction.csv',\n",
              " 'p_rediction.csv']"
            ]
          },
          "metadata": {},
          "execution_count": 2
        }
      ],
      "source": [
        "path = '/content/gdrive/MyDrive/dacon/jobcare/'\n",
        "import os\n",
        "os.listdir(path)"
      ]
    },
    {
      "cell_type": "markdown",
      "source": [
        "## Library & Data Load"
      ],
      "metadata": {
        "id": "wdZnooNFROru"
      }
    },
    {
      "cell_type": "code",
      "source": [
        "!pip install catboost"
      ],
      "metadata": {
        "colab": {
          "base_uri": "https://localhost:8080/"
        },
        "id": "8Ro1J4Og9B6V",
        "outputId": "f824d231-7f4f-4963-9354-d6a113b85014"
      },
      "execution_count": 5,
      "outputs": [
        {
          "output_type": "stream",
          "name": "stdout",
          "text": [
            "Collecting catboost\n",
            "  Downloading catboost-1.0.4-cp37-none-manylinux1_x86_64.whl (76.1 MB)\n",
            "\u001b[K     |████████████████████████████████| 76.1 MB 1.3 MB/s \n",
            "\u001b[?25hRequirement already satisfied: plotly in /usr/local/lib/python3.7/dist-packages (from catboost) (4.4.1)\n",
            "Requirement already satisfied: graphviz in /usr/local/lib/python3.7/dist-packages (from catboost) (0.10.1)\n",
            "Requirement already satisfied: six in /usr/local/lib/python3.7/dist-packages (from catboost) (1.15.0)\n",
            "Requirement already satisfied: pandas>=0.24.0 in /usr/local/lib/python3.7/dist-packages (from catboost) (1.1.5)\n",
            "Requirement already satisfied: matplotlib in /usr/local/lib/python3.7/dist-packages (from catboost) (3.2.2)\n",
            "Requirement already satisfied: scipy in /usr/local/lib/python3.7/dist-packages (from catboost) (1.4.1)\n",
            "Requirement already satisfied: numpy>=1.16.0 in /usr/local/lib/python3.7/dist-packages (from catboost) (1.19.5)\n",
            "Requirement already satisfied: python-dateutil>=2.7.3 in /usr/local/lib/python3.7/dist-packages (from pandas>=0.24.0->catboost) (2.8.2)\n",
            "Requirement already satisfied: pytz>=2017.2 in /usr/local/lib/python3.7/dist-packages (from pandas>=0.24.0->catboost) (2018.9)\n",
            "Requirement already satisfied: cycler>=0.10 in /usr/local/lib/python3.7/dist-packages (from matplotlib->catboost) (0.11.0)\n",
            "Requirement already satisfied: kiwisolver>=1.0.1 in /usr/local/lib/python3.7/dist-packages (from matplotlib->catboost) (1.3.2)\n",
            "Requirement already satisfied: pyparsing!=2.0.4,!=2.1.2,!=2.1.6,>=2.0.1 in /usr/local/lib/python3.7/dist-packages (from matplotlib->catboost) (3.0.6)\n",
            "Requirement already satisfied: retrying>=1.3.3 in /usr/local/lib/python3.7/dist-packages (from plotly->catboost) (1.3.3)\n",
            "Installing collected packages: catboost\n",
            "Successfully installed catboost-1.0.4\n"
          ]
        }
      ]
    },
    {
      "cell_type": "code",
      "source": [
        "!pip install bayesian-optimization"
      ],
      "metadata": {
        "colab": {
          "base_uri": "https://localhost:8080/"
        },
        "id": "FLbPBftG9SHS",
        "outputId": "d2bfd60a-9e3b-4236-e5d9-97ee2112b085"
      },
      "execution_count": 6,
      "outputs": [
        {
          "output_type": "stream",
          "name": "stdout",
          "text": [
            "Collecting bayesian-optimization\n",
            "  Downloading bayesian-optimization-1.2.0.tar.gz (14 kB)\n",
            "Requirement already satisfied: numpy>=1.9.0 in /usr/local/lib/python3.7/dist-packages (from bayesian-optimization) (1.19.5)\n",
            "Requirement already satisfied: scipy>=0.14.0 in /usr/local/lib/python3.7/dist-packages (from bayesian-optimization) (1.4.1)\n",
            "Requirement already satisfied: scikit-learn>=0.18.0 in /usr/local/lib/python3.7/dist-packages (from bayesian-optimization) (1.0.2)\n",
            "Requirement already satisfied: threadpoolctl>=2.0.0 in /usr/local/lib/python3.7/dist-packages (from scikit-learn>=0.18.0->bayesian-optimization) (3.0.0)\n",
            "Requirement already satisfied: joblib>=0.11 in /usr/local/lib/python3.7/dist-packages (from scikit-learn>=0.18.0->bayesian-optimization) (1.1.0)\n",
            "Building wheels for collected packages: bayesian-optimization\n",
            "  Building wheel for bayesian-optimization (setup.py) ... \u001b[?25l\u001b[?25hdone\n",
            "  Created wheel for bayesian-optimization: filename=bayesian_optimization-1.2.0-py3-none-any.whl size=11685 sha256=88a210c4ddb41d95b28ca6ab6eff6690ce6407091cdecc55aac310e51778aa9e\n",
            "  Stored in directory: /root/.cache/pip/wheels/fd/9b/71/f127d694e02eb40bcf18c7ae9613b88a6be4470f57a8528c5b\n",
            "Successfully built bayesian-optimization\n",
            "Installing collected packages: bayesian-optimization\n",
            "Successfully installed bayesian-optimization-1.2.0\n"
          ]
        }
      ]
    },
    {
      "cell_type": "code",
      "source": [
        "!pip install optuna"
      ],
      "metadata": {
        "id": "JzNEEIbZB2Jj"
      },
      "execution_count": null,
      "outputs": []
    },
    {
      "cell_type": "code",
      "execution_count": 43,
      "metadata": {
        "id": "kj2UVDgKYn4D"
      },
      "outputs": [],
      "source": [
        "import numpy as np\n",
        "import pandas as pd\n",
        "import seaborn as sns\n",
        "import matplotlib.pyplot as plt\n",
        "import warnings, random\n",
        "warnings.filterwarnings(action='ignore')\n",
        "\n",
        "from sklearn.preprocessing import LabelEncoder, OneHotEncoder\n",
        "from sklearn.model_selection import StratifiedKFold, KFold, train_test_split\n",
        "from sklearn.metrics import f1_score \n",
        "from bayes_opt import BayesianOptimization\n",
        "from sklearn.feature_extraction import FeatureHasher\n",
        "\n",
        "from sklearn.cluster import KMeans\n",
        "from lightgbm import LGBMClassifier \n",
        "from catboost import Pool,CatBoostClassifier"
      ]
    },
    {
      "cell_type": "code",
      "execution_count": 8,
      "metadata": {
        "id": "SZP4ffE5YYFp"
      },
      "outputs": [],
      "source": [
        "train = pd.read_csv(path + \"train.csv\")\n",
        "X_test = pd.read_csv(path + \"test.csv\")\n",
        "submission = pd.read_csv(path + \"sample_submission.csv\")\n",
        "\n",
        "d_code = pd.read_csv(path + '속성_D_코드.csv', index_col=0)\n",
        "h_code = pd.read_csv(path + '속성_H_코드.csv', index_col=0)\n",
        "l_code = pd.read_csv(path + '속성_L_코드.csv', index_col=0)"
      ]
    },
    {
      "cell_type": "code",
      "execution_count": 9,
      "metadata": {
        "id": "moUbdjWKnOo4"
      },
      "outputs": [],
      "source": [
        "encoder = LabelEncoder()"
      ]
    },
    {
      "cell_type": "code",
      "execution_count": 10,
      "metadata": {
        "id": "dhEgexySnwY5"
      },
      "outputs": [],
      "source": [
        "for i in range(d_code.shape[1]):\n",
        "  d_code.iloc[:,i] = encoder.fit_transform(d_code.astype('str').iloc[:,i])\n",
        "\n",
        "for i in range(h_code.shape[1]):\n",
        "  h_code.iloc[:,i] = encoder.fit_transform(h_code.astype('str').iloc[:,i])\n",
        "\n",
        "for i in range(l_code.shape[1]):\n",
        "  l_code.iloc[:,i] = encoder.fit_transform(l_code.astype('str').iloc[:,i])  "
      ]
    },
    {
      "cell_type": "code",
      "execution_count": 11,
      "metadata": {
        "id": "yWMjbDMcm6B3"
      },
      "outputs": [],
      "source": [
        "d_code = d_code.T.to_dict()\n",
        "h_code = h_code.T.to_dict()\n",
        "l_code = l_code.T.to_dict()"
      ]
    },
    {
      "cell_type": "markdown",
      "metadata": {
        "id": "HPFq6c8WvVsQ"
      },
      "source": [
        "분류코드에 따라 아래와 같이 구분자를 붙혀 구분합니다.\n",
        "- n: 세분류코드 \n",
        "- s: 소분류코드   \n",
        "- m: 중분류코드 \n",
        "- l: 대분류코드 \n",
        "- u: 상위코드"
      ]
    },
    {
      "cell_type": "code",
      "execution_count": 12,
      "metadata": {
        "colab": {
          "base_uri": "https://localhost:8080/"
        },
        "id": "pSZCMCZlvVv3",
        "outputId": "ccf3b432-ff0c-4f12-d2e4-b3749ede0aa2"
      },
      "outputs": [
        {
          "output_type": "stream",
          "name": "stdout",
          "text": [
            "train_data.shape:  (501951, 63)\n",
            "test_data.shape:  (46404, 62)\n"
          ]
        }
      ],
      "source": [
        "def add_code(df, d_code, h_code, l_code):\n",
        "    df = df.copy()   \n",
        "\n",
        "    # D Code\n",
        "    df['person_prefer_d_1_n'] = df['person_prefer_d_1'].apply(lambda x: d_code[x]['속성 D 세분류코드'])\n",
        "    df['person_prefer_d_1_s'] = df['person_prefer_d_1'].apply(lambda x: d_code[x]['속성 D 소분류코드'])\n",
        "    df['person_prefer_d_1_m'] = df['person_prefer_d_1'].apply(lambda x: d_code[x]['속성 D 중분류코드'])\n",
        "    df['person_prefer_d_1_l'] = df['person_prefer_d_1'].apply(lambda x: d_code[x]['속성 D 대분류코드'])\n",
        "\n",
        "    df['person_prefer_d_2_n'] = df['person_prefer_d_2'].apply(lambda x: d_code[x]['속성 D 세분류코드'])\n",
        "    df['person_prefer_d_2_s'] = df['person_prefer_d_2'].apply(lambda x: d_code[x]['속성 D 소분류코드'])\n",
        "    df['person_prefer_d_2_m'] = df['person_prefer_d_2'].apply(lambda x: d_code[x]['속성 D 중분류코드'])\n",
        "    df['person_prefer_d_2_l'] = df['person_prefer_d_2'].apply(lambda x: d_code[x]['속성 D 대분류코드'])\n",
        "\n",
        "    df['person_prefer_d_3_n'] = df['person_prefer_d_3'].apply(lambda x: d_code[x]['속성 D 세분류코드'])\n",
        "    df['person_prefer_d_3_s'] = df['person_prefer_d_3'].apply(lambda x: d_code[x]['속성 D 소분류코드'])\n",
        "    df['person_prefer_d_3_m'] = df['person_prefer_d_3'].apply(lambda x: d_code[x]['속성 D 중분류코드'])\n",
        "    df['person_prefer_d_3_l'] = df['person_prefer_d_3'].apply(lambda x: d_code[x]['속성 D 대분류코드'])\n",
        "\n",
        "    df['contents_attribute_d_n'] = df['contents_attribute_d'].apply(lambda x: d_code[x]['속성 D 세분류코드'])\n",
        "    df['contents_attribute_d_s'] = df['contents_attribute_d'].apply(lambda x: d_code[x]['속성 D 소분류코드'])\n",
        "    df['contents_attribute_d_m'] = df['contents_attribute_d'].apply(lambda x: d_code[x]['속성 D 중분류코드'])\n",
        "    df['contents_attribute_d_l'] = df['contents_attribute_d'].apply(lambda x: d_code[x]['속성 D 대분류코드'])\n",
        "\n",
        "    # H Code\n",
        "    df['person_prefer_h_1_m'] = df['person_prefer_h_1'].apply(lambda x: h_code[x]['속성 H 중분류코드'])\n",
        "    df['person_prefer_h_2_m'] = df['person_prefer_h_2'].apply(lambda x: h_code[x]['속성 H 중분류코드'])\n",
        "    df['person_prefer_h_3_m'] = df['person_prefer_h_3'].apply(lambda x: h_code[x]['속성 H 중분류코드'])\n",
        "    df['contents_attribute_h_m'] = df['contents_attribute_h'].apply(lambda x: h_code[x]['속성 H 중분류코드'])\n",
        "\n",
        "    df['person_prefer_h_1_l'] = df['person_prefer_h_1'].apply(lambda x: h_code[x]['속성 H 대분류코드'])\n",
        "    df['person_prefer_h_2_l'] = df['person_prefer_h_2'].apply(lambda x: h_code[x]['속성 H 대분류코드'])\n",
        "    df['person_prefer_h_3_l'] = df['person_prefer_h_3'].apply(lambda x: h_code[x]['속성 H 대분류코드'])\n",
        "    df['contents_attribute_h_l'] = df['contents_attribute_h'].apply(lambda x: h_code[x]['속성 H 대분류코드'])\n",
        "\n",
        "    # L Code\n",
        "    df['contents_attribute_l_n'] = df['contents_attribute_l'].apply(lambda x: l_code[x]['속성 L 세분류코드'])\n",
        "    df['contents_attribute_l_s'] = df['contents_attribute_l'].apply(lambda x: l_code[x]['속성 L 소분류코드'])\n",
        "    df['contents_attribute_l_m'] = df['contents_attribute_l'].apply(lambda x: l_code[x]['속성 L 중분류코드'])\n",
        "    df['contents_attribute_l_l'] = df['contents_attribute_l'].apply(lambda x: l_code[x]['속성 L 대분류코드'])\n",
        "    return df\n",
        "\n",
        "train = add_code(train, d_code, h_code, l_code)\n",
        "X_test = add_code(X_test, d_code, h_code, l_code)\n",
        "print(\"train_data.shape: \", train.shape)\n",
        "print(\"test_data.shape: \", X_test.shape)"
      ]
    },
    {
      "cell_type": "code",
      "execution_count": 13,
      "metadata": {
        "id": "ORF9ek6CYvnN"
      },
      "outputs": [],
      "source": [
        "data = [train, X_test]\n",
        "\n",
        "for i in range(2):\n",
        "  data[i].contents_open_dt = pd.to_datetime(data[i].contents_open_dt)\n",
        "\n",
        "  data[i]['month'] = data[i].contents_open_dt.dt.month\n",
        "  data[i]['day'] = data[i].contents_open_dt.dt.day\n",
        "  data[i]['week'] = data[i].contents_open_dt.dt.isocalendar().week\n",
        "  data[i]['dayofweek'] = data[i].contents_open_dt.dt.dayofweek\n",
        "  data[i]['hour'] = data[i].contents_open_dt.dt.hour\n",
        "#  data[i]['minute'] = data[i].contents_open_dt.dt.minute\n",
        "\n",
        "  data[i].drop(['id', 'contents_open_dt'], axis=1, inplace=True)"
      ]
    },
    {
      "cell_type": "code",
      "execution_count": 14,
      "metadata": {
        "id": "94R8xxl5aWiI"
      },
      "outputs": [],
      "source": [
        "for i in range(train.shape[1]):\n",
        "  train.iloc[:,i] = train.iloc[:,i].astype(int)\n",
        "for i in range(X_test.shape[1]):\n",
        "  X_test.iloc[:,i] = X_test.iloc[:,i].astype(int)"
      ]
    },
    {
      "cell_type": "code",
      "execution_count": 15,
      "metadata": {
        "id": "MZbZ0EMbyskK"
      },
      "outputs": [],
      "source": [
        "X_train = train.drop('target',axis=1)\n",
        "y_train = train['target']"
      ]
    },
    {
      "cell_type": "code",
      "execution_count": 16,
      "metadata": {
        "id": "FWtpSY0sISlf"
      },
      "outputs": [],
      "source": [
        "X_train = X_train.drop(['person_rn', 'contents_rn', 'person_prefer_f', 'person_prefer_g'],axis=1)\n",
        "X_test = X_test.drop(['person_rn', 'contents_rn', 'person_prefer_f', 'person_prefer_g'],axis=1)"
      ]
    },
    {
      "cell_type": "markdown",
      "metadata": {
        "id": "WdRgshmWytQG"
      },
      "source": [
        "# 시각화"
      ]
    },
    {
      "cell_type": "code",
      "execution_count": null,
      "metadata": {
        "colab": {
          "base_uri": "https://localhost:8080/"
        },
        "id": "i0urkhcILUUI",
        "outputId": "410a0da9-fd5c-40f6-d45d-e0941b962dac"
      },
      "outputs": [
        {
          "data": {
            "text/plain": [
              "Index(['d_l_match_yn', 'd_m_match_yn', 'd_s_match_yn', 'h_l_match_yn',\n",
              "       'h_m_match_yn', 'h_s_match_yn', 'person_attribute_a',\n",
              "       'person_attribute_a_1', 'person_attribute_b', 'person_prefer_c',\n",
              "       'person_prefer_d_1', 'person_prefer_d_2', 'person_prefer_d_3',\n",
              "       'person_prefer_e', 'person_prefer_h_1', 'person_prefer_h_2',\n",
              "       'person_prefer_h_3', 'contents_attribute_i', 'contents_attribute_a',\n",
              "       'contents_attribute_j_1', 'contents_attribute_j',\n",
              "       'contents_attribute_c', 'contents_attribute_k', 'contents_attribute_l',\n",
              "       'contents_attribute_d', 'contents_attribute_m', 'contents_attribute_e',\n",
              "       'contents_attribute_h', 'person_prefer_d_1_n', 'person_prefer_d_1_s',\n",
              "       'person_prefer_d_1_m', 'person_prefer_d_1_l', 'person_prefer_d_2_n',\n",
              "       'person_prefer_d_2_s', 'person_prefer_d_2_m', 'person_prefer_d_2_l',\n",
              "       'person_prefer_d_3_n', 'person_prefer_d_3_s', 'person_prefer_d_3_m',\n",
              "       'person_prefer_d_3_l', 'contents_attribute_d_n',\n",
              "       'contents_attribute_d_s', 'contents_attribute_d_m',\n",
              "       'contents_attribute_d_l', 'person_prefer_h_1_m', 'person_prefer_h_2_m',\n",
              "       'person_prefer_h_3_m', 'contents_attribute_h_m', 'person_prefer_h_1_l',\n",
              "       'person_prefer_h_2_l', 'person_prefer_h_3_l', 'contents_attribute_h_l',\n",
              "       'contents_attribute_l_n', 'contents_attribute_l_s',\n",
              "       'contents_attribute_l_m', 'contents_attribute_l_l', 'month', 'day',\n",
              "       'week', 'dayofweek', 'hour', 'minute'],\n",
              "      dtype='object')"
            ]
          },
          "execution_count": 15,
          "metadata": {},
          "output_type": "execute_result"
        }
      ],
      "source": [
        "X_train.columns"
      ]
    },
    {
      "cell_type": "markdown",
      "metadata": {
        "id": "rM25iRqLPXPT"
      },
      "source": [
        "n: 세분류코드\n",
        "s: 소분류코드\n",
        "m: 중분류코드\n",
        "l: 대분류코드\n",
        "u: 상위코드"
      ]
    },
    {
      "cell_type": "markdown",
      "metadata": {
        "id": "Vz_mJT6nR_oI"
      },
      "source": [
        "## 속성 D"
      ]
    },
    {
      "cell_type": "code",
      "execution_count": null,
      "metadata": {
        "colab": {
          "base_uri": "https://localhost:8080/"
        },
        "id": "qQUDP8y1PqDj",
        "outputId": "4a09ba9f-5ee6-410b-fd9f-8a845714ab57"
      },
      "outputs": [
        {
          "data": {
            "text/html": [
              "<style  type=\"text/css\" >\n",
              "#T_88fc006c_6c4f_11ec_af5d_0242ac1c0002row0_col0{\n",
              "            background-color:  #a6d266;\n",
              "            color:  #000000;\n",
              "        }#T_88fc006c_6c4f_11ec_af5d_0242ac1c0002row0_col1,#T_88fc006c_6c4f_11ec_af5d_0242ac1c0002row1_col1,#T_88fc006c_6c4f_11ec_af5d_0242ac1c0002row2_col0,#T_88fc006c_6c4f_11ec_af5d_0242ac1c0002row2_col2{\n",
              "            background-color:  #ffff66;\n",
              "            color:  #000000;\n",
              "        }#T_88fc006c_6c4f_11ec_af5d_0242ac1c0002row0_col2{\n",
              "            background-color:  #dbed66;\n",
              "            color:  #000000;\n",
              "        }#T_88fc006c_6c4f_11ec_af5d_0242ac1c0002row1_col0{\n",
              "            background-color:  #aad466;\n",
              "            color:  #000000;\n",
              "        }#T_88fc006c_6c4f_11ec_af5d_0242ac1c0002row1_col2{\n",
              "            background-color:  #deee66;\n",
              "            color:  #000000;\n",
              "        }#T_88fc006c_6c4f_11ec_af5d_0242ac1c0002row2_col1,#T_88fc006c_6c4f_11ec_af5d_0242ac1c0002row3_col0,#T_88fc006c_6c4f_11ec_af5d_0242ac1c0002row3_col1,#T_88fc006c_6c4f_11ec_af5d_0242ac1c0002row3_col2{\n",
              "            background-color:  #008066;\n",
              "            color:  #f1f1f1;\n",
              "        }</style><table id=\"T_88fc006c_6c4f_11ec_af5d_0242ac1c0002\" class=\"dataframe\"><thead>    <tr>        <th class=\"blank\" ></th>        <th class=\"index_name level0\" >d_s_match_yn</th>        <th class=\"col_heading level0 col0\" >0</th>        <th class=\"col_heading level0 col1\" >1</th>        <th class=\"col_heading level0 col2\" >All</th>    </tr>    <tr>        <th class=\"index_name level0\" >d_l_match_yn</th>        <th class=\"index_name level1\" >d_m_match_yn</th>        <th class=\"blank\" ></th>        <th class=\"blank\" ></th>        <th class=\"blank\" ></th>    </tr></thead><tbody>\n",
              "                <tr>\n",
              "                        <th id=\"T_88fc006c_6c4f_11ec_af5d_0242ac1c0002level0_row0\" class=\"row_heading level0 row0\" >0</th>\n",
              "                        <th id=\"T_88fc006c_6c4f_11ec_af5d_0242ac1c0002level1_row0\" class=\"row_heading level1 row0\" >0</th>\n",
              "                        <td id=\"T_88fc006c_6c4f_11ec_af5d_0242ac1c0002row0_col0\" class=\"data row0 col0\" >186683</td>\n",
              "                        <td id=\"T_88fc006c_6c4f_11ec_af5d_0242ac1c0002row0_col1\" class=\"data row0 col1\" >0</td>\n",
              "                        <td id=\"T_88fc006c_6c4f_11ec_af5d_0242ac1c0002row0_col2\" class=\"data row0 col2\" >186683</td>\n",
              "            </tr>\n",
              "            <tr>\n",
              "                        <th id=\"T_88fc006c_6c4f_11ec_af5d_0242ac1c0002level0_row1\" class=\"row_heading level0 row1\" rowspan=2>1</th>\n",
              "                        <th id=\"T_88fc006c_6c4f_11ec_af5d_0242ac1c0002level1_row1\" class=\"row_heading level1 row1\" >0</th>\n",
              "                        <td id=\"T_88fc006c_6c4f_11ec_af5d_0242ac1c0002row1_col0\" class=\"data row1 col0\" >181641</td>\n",
              "                        <td id=\"T_88fc006c_6c4f_11ec_af5d_0242ac1c0002row1_col1\" class=\"data row1 col1\" >0</td>\n",
              "                        <td id=\"T_88fc006c_6c4f_11ec_af5d_0242ac1c0002row1_col2\" class=\"data row1 col2\" >181641</td>\n",
              "            </tr>\n",
              "            <tr>\n",
              "                                <th id=\"T_88fc006c_6c4f_11ec_af5d_0242ac1c0002level1_row2\" class=\"row_heading level1 row2\" >1</th>\n",
              "                        <td id=\"T_88fc006c_6c4f_11ec_af5d_0242ac1c0002row2_col0\" class=\"data row2 col0\" >58370</td>\n",
              "                        <td id=\"T_88fc006c_6c4f_11ec_af5d_0242ac1c0002row2_col1\" class=\"data row2 col1\" >75257</td>\n",
              "                        <td id=\"T_88fc006c_6c4f_11ec_af5d_0242ac1c0002row2_col2\" class=\"data row2 col2\" >133627</td>\n",
              "            </tr>\n",
              "            <tr>\n",
              "                        <th id=\"T_88fc006c_6c4f_11ec_af5d_0242ac1c0002level0_row3\" class=\"row_heading level0 row3\" >All</th>\n",
              "                        <th id=\"T_88fc006c_6c4f_11ec_af5d_0242ac1c0002level1_row3\" class=\"row_heading level1 row3\" ></th>\n",
              "                        <td id=\"T_88fc006c_6c4f_11ec_af5d_0242ac1c0002row3_col0\" class=\"data row3 col0\" >426694</td>\n",
              "                        <td id=\"T_88fc006c_6c4f_11ec_af5d_0242ac1c0002row3_col1\" class=\"data row3 col1\" >75257</td>\n",
              "                        <td id=\"T_88fc006c_6c4f_11ec_af5d_0242ac1c0002row3_col2\" class=\"data row3 col2\" >501951</td>\n",
              "            </tr>\n",
              "    </tbody></table>"
            ],
            "text/plain": [
              "<pandas.io.formats.style.Styler at 0x7fa442dd2a90>"
            ]
          },
          "execution_count": 21,
          "metadata": {},
          "output_type": "execute_result"
        }
      ],
      "source": [
        "pd.crosstab([train.d_l_match_yn,train.d_m_match_yn],train.d_s_match_yn,\n",
        "            margins=True).style.background_gradient(cmap='summer_r')"
      ]
    },
    {
      "cell_type": "code",
      "execution_count": null,
      "metadata": {
        "colab": {
          "base_uri": "https://localhost:8080/"
        },
        "id": "NkemKGA0PJ24",
        "outputId": "5101b9b4-c842-421a-cc05-77bcd37536f4"
      },
      "outputs": [
        {
          "data": {
            "text/html": [
              "<style  type=\"text/css\" >\n",
              "#T_3df2bae6_6c51_11ec_af5d_0242ac1c0002row0_col0,#T_3df2bae6_6c51_11ec_af5d_0242ac1c0002row1_col2{\n",
              "            background-color:  #b8dc66;\n",
              "            color:  #000000;\n",
              "        }#T_3df2bae6_6c51_11ec_af5d_0242ac1c0002row0_col1,#T_3df2bae6_6c51_11ec_af5d_0242ac1c0002row1_col1{\n",
              "            background-color:  #afd766;\n",
              "            color:  #000000;\n",
              "        }#T_3df2bae6_6c51_11ec_af5d_0242ac1c0002row0_col2{\n",
              "            background-color:  #b5da66;\n",
              "            color:  #000000;\n",
              "        }#T_3df2bae6_6c51_11ec_af5d_0242ac1c0002row1_col0{\n",
              "            background-color:  #bcde66;\n",
              "            color:  #000000;\n",
              "        }#T_3df2bae6_6c51_11ec_af5d_0242ac1c0002row2_col0,#T_3df2bae6_6c51_11ec_af5d_0242ac1c0002row2_col1,#T_3df2bae6_6c51_11ec_af5d_0242ac1c0002row2_col2{\n",
              "            background-color:  #ffff66;\n",
              "            color:  #000000;\n",
              "        }#T_3df2bae6_6c51_11ec_af5d_0242ac1c0002row3_col0{\n",
              "            background-color:  #f3f966;\n",
              "            color:  #000000;\n",
              "        }#T_3df2bae6_6c51_11ec_af5d_0242ac1c0002row3_col1{\n",
              "            background-color:  #fcfe66;\n",
              "            color:  #000000;\n",
              "        }#T_3df2bae6_6c51_11ec_af5d_0242ac1c0002row3_col2{\n",
              "            background-color:  #f6fa66;\n",
              "            color:  #000000;\n",
              "        }#T_3df2bae6_6c51_11ec_af5d_0242ac1c0002row4_col0,#T_3df2bae6_6c51_11ec_af5d_0242ac1c0002row4_col1,#T_3df2bae6_6c51_11ec_af5d_0242ac1c0002row4_col2{\n",
              "            background-color:  #008066;\n",
              "            color:  #f1f1f1;\n",
              "        }</style><table id=\"T_3df2bae6_6c51_11ec_af5d_0242ac1c0002\" class=\"dataframe\"><thead>    <tr>        <th class=\"blank\" ></th>        <th class=\"blank\" ></th>        <th class=\"index_name level0\" >h_s_match_yn</th>        <th class=\"col_heading level0 col0\" >0</th>        <th class=\"col_heading level0 col1\" >1</th>        <th class=\"col_heading level0 col2\" >All</th>    </tr>    <tr>        <th class=\"index_name level0\" >d_l_match_yn</th>        <th class=\"index_name level1\" >d_m_match_yn</th>        <th class=\"index_name level2\" >d_s_match_yn</th>        <th class=\"blank\" ></th>        <th class=\"blank\" ></th>        <th class=\"blank\" ></th>    </tr></thead><tbody>\n",
              "                <tr>\n",
              "                        <th id=\"T_3df2bae6_6c51_11ec_af5d_0242ac1c0002level0_row0\" class=\"row_heading level0 row0\" >0</th>\n",
              "                        <th id=\"T_3df2bae6_6c51_11ec_af5d_0242ac1c0002level1_row0\" class=\"row_heading level1 row0\" >0</th>\n",
              "                        <th id=\"T_3df2bae6_6c51_11ec_af5d_0242ac1c0002level2_row0\" class=\"row_heading level2 row0\" >0</th>\n",
              "                        <td id=\"T_3df2bae6_6c51_11ec_af5d_0242ac1c0002row0_col0\" class=\"data row0 col0\" >133592</td>\n",
              "                        <td id=\"T_3df2bae6_6c51_11ec_af5d_0242ac1c0002row0_col1\" class=\"data row0 col1\" >53091</td>\n",
              "                        <td id=\"T_3df2bae6_6c51_11ec_af5d_0242ac1c0002row0_col2\" class=\"data row0 col2\" >186683</td>\n",
              "            </tr>\n",
              "            <tr>\n",
              "                        <th id=\"T_3df2bae6_6c51_11ec_af5d_0242ac1c0002level0_row1\" class=\"row_heading level0 row1\" rowspan=3>1</th>\n",
              "                        <th id=\"T_3df2bae6_6c51_11ec_af5d_0242ac1c0002level1_row1\" class=\"row_heading level1 row1\" >0</th>\n",
              "                        <th id=\"T_3df2bae6_6c51_11ec_af5d_0242ac1c0002level2_row1\" class=\"row_heading level2 row1\" >0</th>\n",
              "                        <td id=\"T_3df2bae6_6c51_11ec_af5d_0242ac1c0002row1_col0\" class=\"data row1 col0\" >128791</td>\n",
              "                        <td id=\"T_3df2bae6_6c51_11ec_af5d_0242ac1c0002row1_col1\" class=\"data row1 col1\" >52850</td>\n",
              "                        <td id=\"T_3df2bae6_6c51_11ec_af5d_0242ac1c0002row1_col2\" class=\"data row1 col2\" >181641</td>\n",
              "            </tr>\n",
              "            <tr>\n",
              "                                <th id=\"T_3df2bae6_6c51_11ec_af5d_0242ac1c0002level1_row2\" class=\"row_heading level1 row2\" rowspan=2>1</th>\n",
              "                        <th id=\"T_3df2bae6_6c51_11ec_af5d_0242ac1c0002level2_row2\" class=\"row_heading level2 row2\" >0</th>\n",
              "                        <td id=\"T_3df2bae6_6c51_11ec_af5d_0242ac1c0002row2_col0\" class=\"data row2 col0\" >43860</td>\n",
              "                        <td id=\"T_3df2bae6_6c51_11ec_af5d_0242ac1c0002row2_col1\" class=\"data row2 col1\" >14510</td>\n",
              "                        <td id=\"T_3df2bae6_6c51_11ec_af5d_0242ac1c0002row2_col2\" class=\"data row2 col2\" >58370</td>\n",
              "            </tr>\n",
              "            <tr>\n",
              "                                        <th id=\"T_3df2bae6_6c51_11ec_af5d_0242ac1c0002level2_row3\" class=\"row_heading level2 row3\" >1</th>\n",
              "                        <td id=\"T_3df2bae6_6c51_11ec_af5d_0242ac1c0002row3_col0\" class=\"data row3 col0\" >59079</td>\n",
              "                        <td id=\"T_3df2bae6_6c51_11ec_af5d_0242ac1c0002row3_col1\" class=\"data row3 col1\" >16178</td>\n",
              "                        <td id=\"T_3df2bae6_6c51_11ec_af5d_0242ac1c0002row3_col2\" class=\"data row3 col2\" >75257</td>\n",
              "            </tr>\n",
              "            <tr>\n",
              "                        <th id=\"T_3df2bae6_6c51_11ec_af5d_0242ac1c0002level0_row4\" class=\"row_heading level0 row4\" >All</th>\n",
              "                        <th id=\"T_3df2bae6_6c51_11ec_af5d_0242ac1c0002level1_row4\" class=\"row_heading level1 row4\" ></th>\n",
              "                        <th id=\"T_3df2bae6_6c51_11ec_af5d_0242ac1c0002level2_row4\" class=\"row_heading level2 row4\" ></th>\n",
              "                        <td id=\"T_3df2bae6_6c51_11ec_af5d_0242ac1c0002row4_col0\" class=\"data row4 col0\" >365322</td>\n",
              "                        <td id=\"T_3df2bae6_6c51_11ec_af5d_0242ac1c0002row4_col1\" class=\"data row4 col1\" >136629</td>\n",
              "                        <td id=\"T_3df2bae6_6c51_11ec_af5d_0242ac1c0002row4_col2\" class=\"data row4 col2\" >501951</td>\n",
              "            </tr>\n",
              "    </tbody></table>"
            ],
            "text/plain": [
              "<pandas.io.formats.style.Styler at 0x7fa4437aa7d0>"
            ]
          },
          "execution_count": 26,
          "metadata": {},
          "output_type": "execute_result"
        }
      ],
      "source": [
        "pd.crosstab([train.d_l_match_yn,train.d_m_match_yn,train.d_s_match_yn],train.h_s_match_yn,\n",
        "            margins=True).style.background_gradient(cmap='summer_r')"
      ]
    },
    {
      "cell_type": "code",
      "execution_count": null,
      "metadata": {
        "colab": {
          "base_uri": "https://localhost:8080/"
        },
        "id": "vhG70jZXSdcA",
        "outputId": "16a1c211-41fe-4a72-ac2d-104553865324"
      },
      "outputs": [
        {
          "data": {
            "text/html": [
              "<style  type=\"text/css\" >\n",
              "#T_3ea96a52_6c51_11ec_af5d_0242ac1c0002row0_col0{\n",
              "            background-color:  #9ece66;\n",
              "            color:  #000000;\n",
              "        }#T_3ea96a52_6c51_11ec_af5d_0242ac1c0002row0_col1{\n",
              "            background-color:  #cee666;\n",
              "            color:  #000000;\n",
              "        }#T_3ea96a52_6c51_11ec_af5d_0242ac1c0002row0_col2{\n",
              "            background-color:  #b5da66;\n",
              "            color:  #000000;\n",
              "        }#T_3ea96a52_6c51_11ec_af5d_0242ac1c0002row1_col0{\n",
              "            background-color:  #b9dc66;\n",
              "            color:  #000000;\n",
              "        }#T_3ea96a52_6c51_11ec_af5d_0242ac1c0002row1_col1,#T_3ea96a52_6c51_11ec_af5d_0242ac1c0002row1_col2{\n",
              "            background-color:  #b8dc66;\n",
              "            color:  #000000;\n",
              "        }#T_3ea96a52_6c51_11ec_af5d_0242ac1c0002row2_col0,#T_3ea96a52_6c51_11ec_af5d_0242ac1c0002row2_col1,#T_3ea96a52_6c51_11ec_af5d_0242ac1c0002row2_col2{\n",
              "            background-color:  #ffff66;\n",
              "            color:  #000000;\n",
              "        }#T_3ea96a52_6c51_11ec_af5d_0242ac1c0002row3_col0{\n",
              "            background-color:  #f9fc66;\n",
              "            color:  #000000;\n",
              "        }#T_3ea96a52_6c51_11ec_af5d_0242ac1c0002row3_col1{\n",
              "            background-color:  #f2f866;\n",
              "            color:  #000000;\n",
              "        }#T_3ea96a52_6c51_11ec_af5d_0242ac1c0002row3_col2{\n",
              "            background-color:  #f6fa66;\n",
              "            color:  #000000;\n",
              "        }#T_3ea96a52_6c51_11ec_af5d_0242ac1c0002row4_col0,#T_3ea96a52_6c51_11ec_af5d_0242ac1c0002row4_col1,#T_3ea96a52_6c51_11ec_af5d_0242ac1c0002row4_col2{\n",
              "            background-color:  #008066;\n",
              "            color:  #f1f1f1;\n",
              "        }</style><table id=\"T_3ea96a52_6c51_11ec_af5d_0242ac1c0002\" class=\"dataframe\"><thead>    <tr>        <th class=\"blank\" ></th>        <th class=\"blank\" ></th>        <th class=\"index_name level0\" >target</th>        <th class=\"col_heading level0 col0\" >0</th>        <th class=\"col_heading level0 col1\" >1</th>        <th class=\"col_heading level0 col2\" >All</th>    </tr>    <tr>        <th class=\"index_name level0\" >d_l_match_yn</th>        <th class=\"index_name level1\" >d_m_match_yn</th>        <th class=\"index_name level2\" >d_s_match_yn</th>        <th class=\"blank\" ></th>        <th class=\"blank\" ></th>        <th class=\"blank\" ></th>    </tr></thead><tbody>\n",
              "                <tr>\n",
              "                        <th id=\"T_3ea96a52_6c51_11ec_af5d_0242ac1c0002level0_row0\" class=\"row_heading level0 row0\" >0</th>\n",
              "                        <th id=\"T_3ea96a52_6c51_11ec_af5d_0242ac1c0002level1_row0\" class=\"row_heading level1 row0\" >0</th>\n",
              "                        <th id=\"T_3ea96a52_6c51_11ec_af5d_0242ac1c0002level2_row0\" class=\"row_heading level2 row0\" >0</th>\n",
              "                        <td id=\"T_3ea96a52_6c51_11ec_af5d_0242ac1c0002row0_col0\" class=\"data row0 col0\" >110696</td>\n",
              "                        <td id=\"T_3ea96a52_6c51_11ec_af5d_0242ac1c0002row0_col1\" class=\"data row0 col1\" >75987</td>\n",
              "                        <td id=\"T_3ea96a52_6c51_11ec_af5d_0242ac1c0002row0_col2\" class=\"data row0 col2\" >186683</td>\n",
              "            </tr>\n",
              "            <tr>\n",
              "                        <th id=\"T_3ea96a52_6c51_11ec_af5d_0242ac1c0002level0_row1\" class=\"row_heading level0 row1\" rowspan=3>1</th>\n",
              "                        <th id=\"T_3ea96a52_6c51_11ec_af5d_0242ac1c0002level1_row1\" class=\"row_heading level1 row1\" >0</th>\n",
              "                        <th id=\"T_3ea96a52_6c51_11ec_af5d_0242ac1c0002level2_row1\" class=\"row_heading level2 row1\" >0</th>\n",
              "                        <td id=\"T_3ea96a52_6c51_11ec_af5d_0242ac1c0002row1_col0\" class=\"data row1 col0\" >86696</td>\n",
              "                        <td id=\"T_3ea96a52_6c51_11ec_af5d_0242ac1c0002row1_col1\" class=\"data row1 col1\" >94945</td>\n",
              "                        <td id=\"T_3ea96a52_6c51_11ec_af5d_0242ac1c0002row1_col2\" class=\"data row1 col2\" >181641</td>\n",
              "            </tr>\n",
              "            <tr>\n",
              "                                <th id=\"T_3ea96a52_6c51_11ec_af5d_0242ac1c0002level1_row2\" class=\"row_heading level1 row2\" rowspan=2>1</th>\n",
              "                        <th id=\"T_3ea96a52_6c51_11ec_af5d_0242ac1c0002level2_row2\" class=\"row_heading level2 row2\" >0</th>\n",
              "                        <td id=\"T_3ea96a52_6c51_11ec_af5d_0242ac1c0002row2_col0\" class=\"data row2 col0\" >23914</td>\n",
              "                        <td id=\"T_3ea96a52_6c51_11ec_af5d_0242ac1c0002row2_col1\" class=\"data row2 col1\" >34456</td>\n",
              "                        <td id=\"T_3ea96a52_6c51_11ec_af5d_0242ac1c0002row2_col2\" class=\"data row2 col2\" >58370</td>\n",
              "            </tr>\n",
              "            <tr>\n",
              "                                        <th id=\"T_3ea96a52_6c51_11ec_af5d_0242ac1c0002level2_row3\" class=\"row_heading level2 row3\" >1</th>\n",
              "                        <td id=\"T_3ea96a52_6c51_11ec_af5d_0242ac1c0002row3_col0\" class=\"data row3 col0\" >29800</td>\n",
              "                        <td id=\"T_3ea96a52_6c51_11ec_af5d_0242ac1c0002row3_col1\" class=\"data row3 col1\" >45457</td>\n",
              "                        <td id=\"T_3ea96a52_6c51_11ec_af5d_0242ac1c0002row3_col2\" class=\"data row3 col2\" >75257</td>\n",
              "            </tr>\n",
              "            <tr>\n",
              "                        <th id=\"T_3ea96a52_6c51_11ec_af5d_0242ac1c0002level0_row4\" class=\"row_heading level0 row4\" >All</th>\n",
              "                        <th id=\"T_3ea96a52_6c51_11ec_af5d_0242ac1c0002level1_row4\" class=\"row_heading level1 row4\" ></th>\n",
              "                        <th id=\"T_3ea96a52_6c51_11ec_af5d_0242ac1c0002level2_row4\" class=\"row_heading level2 row4\" ></th>\n",
              "                        <td id=\"T_3ea96a52_6c51_11ec_af5d_0242ac1c0002row4_col0\" class=\"data row4 col0\" >251106</td>\n",
              "                        <td id=\"T_3ea96a52_6c51_11ec_af5d_0242ac1c0002row4_col1\" class=\"data row4 col1\" >250845</td>\n",
              "                        <td id=\"T_3ea96a52_6c51_11ec_af5d_0242ac1c0002row4_col2\" class=\"data row4 col2\" >501951</td>\n",
              "            </tr>\n",
              "    </tbody></table>"
            ],
            "text/plain": [
              "<pandas.io.formats.style.Styler at 0x7fa454853f90>"
            ]
          },
          "execution_count": 27,
          "metadata": {},
          "output_type": "execute_result"
        }
      ],
      "source": [
        "pd.crosstab([train.d_l_match_yn,train.d_m_match_yn,train.d_s_match_yn],train.target,\n",
        "            margins=True).style.background_gradient(cmap='summer_r')"
      ]
    },
    {
      "cell_type": "code",
      "execution_count": null,
      "metadata": {
        "id": "-wCsFvQBThMw"
      },
      "outputs": [],
      "source": [
        "import matplotlib.pyplot as plt\n",
        "import numpy as np"
      ]
    },
    {
      "cell_type": "markdown",
      "metadata": {
        "id": "ITt0lZb31UXi"
      },
      "source": [
        "### person_prefer_d_1"
      ]
    },
    {
      "cell_type": "code",
      "execution_count": null,
      "metadata": {
        "colab": {
          "base_uri": "https://localhost:8080/"
        },
        "id": "bMoUFs53TdpG",
        "outputId": "f54b4bee-21d9-455d-c8d8-1afcb508d2b8"
      },
      "outputs": [
        {
          "data": {
            "text/plain": [
              "114     61374\n",
              "1227    30041\n",
              "101     28238\n",
              "175     24567\n",
              "110     19855\n",
              "145     15539\n",
              "452     14526\n",
              "854     13180\n",
              "1086    12797\n",
              "968     12652\n",
              "Name: person_prefer_d_1_n, dtype: int64"
            ]
          },
          "execution_count": 85,
          "metadata": {},
          "output_type": "execute_result"
        }
      ],
      "source": [
        "train['person_prefer_d_1_n'].value_counts().nlargest(10)"
      ]
    },
    {
      "cell_type": "code",
      "execution_count": null,
      "metadata": {
        "colab": {
          "base_uri": "https://localhost:8080/"
        },
        "id": "ngHe0UZnU8JV",
        "outputId": "5dd5b2a0-363a-4b30-b62d-4a277e88094c"
      },
      "outputs": [
        {
          "data": {
            "text/plain": [
              "114     9793\n",
              "854     5017\n",
              "1227    4941\n",
              "968     4224\n",
              "101     3369\n",
              "452     3203\n",
              "514     2982\n",
              "110     2510\n",
              "847     2384\n",
              "145     1870\n",
              "Name: person_prefer_d_1_n, dtype: int64"
            ]
          },
          "execution_count": 59,
          "metadata": {},
          "output_type": "execute_result"
        }
      ],
      "source": [
        "train[train.d_s_match_yn==1]['person_prefer_d_1_n'].value_counts().nlargest(10)"
      ]
    },
    {
      "cell_type": "code",
      "execution_count": null,
      "metadata": {
        "colab": {
          "base_uri": "https://localhost:8080/"
        },
        "id": "vBNeROsT2Fkb",
        "outputId": "5c44e15d-7e7c-41fa-a547-0a9352858ffa"
      },
      "outputs": [
        {
          "data": {
            "text/plain": [
              "114     20714\n",
              "102     12345\n",
              "1227    10891\n",
              "857      6435\n",
              "181      6409\n",
              "452      4154\n",
              "110      4119\n",
              "851      4083\n",
              "175      3922\n",
              "122      3886\n",
              "Name: person_prefer_d_1, dtype: int64"
            ]
          },
          "execution_count": 86,
          "metadata": {},
          "output_type": "execute_result"
        }
      ],
      "source": [
        "train[train.target==1]['person_prefer_d_1'].value_counts().nlargest(10)"
      ]
    },
    {
      "cell_type": "code",
      "execution_count": null,
      "metadata": {
        "colab": {
          "base_uri": "https://localhost:8080/"
        },
        "id": "FIv79sTf2JaD",
        "outputId": "8638b0d6-589a-4a7d-f841-939b68bd7dfe"
      },
      "outputs": [
        {
          "data": {
            "text/plain": [
              "114     21006\n",
              "1227    13446\n",
              "102     13125\n",
              "181      6804\n",
              "857      6624\n",
              "452      5169\n",
              "175      4462\n",
              "851      4306\n",
              "122      4177\n",
              "110      3825\n",
              "Name: person_prefer_d_1, dtype: int64"
            ]
          },
          "execution_count": 87,
          "metadata": {},
          "output_type": "execute_result"
        }
      ],
      "source": [
        "train[train.target==0]['person_prefer_d_1'].value_counts().nlargest(10)"
      ]
    },
    {
      "cell_type": "code",
      "execution_count": null,
      "metadata": {
        "colab": {
          "base_uri": "https://localhost:8080/"
        },
        "id": "WhWsXu7BiOQt",
        "outputId": "ac248f3e-f8bf-4f2c-ec15-a207f8d67066"
      },
      "outputs": [
        {
          "data": {
            "text/plain": [
              "1       207446\n",
              "926     127675\n",
              "744      50314\n",
              "618      34409\n",
              "377      26351\n",
              "216      26244\n",
              "482      11144\n",
              "864      10069\n",
              "522       7398\n",
              "1235       897\n",
              "1258         4\n",
              "Name: person_prefer_d_1_l, dtype: int64"
            ]
          },
          "execution_count": 83,
          "metadata": {},
          "output_type": "execute_result"
        }
      ],
      "source": [
        "train['person_prefer_d_1_l'].value_counts()"
      ]
    },
    {
      "cell_type": "markdown",
      "metadata": {
        "id": "Onr5mXQ11Xdz"
      },
      "source": [
        "### person_prefer_d_2"
      ]
    },
    {
      "cell_type": "code",
      "execution_count": null,
      "metadata": {
        "colab": {
          "base_uri": "https://localhost:8080/"
        },
        "id": "IzzPCwGVfTyi",
        "outputId": "cecf642b-b5ed-4f1a-b191-a59695f5d752"
      },
      "outputs": [
        {
          "data": {
            "text/plain": [
              "175     71391\n",
              "1086    24410\n",
              "114     22957\n",
              "110     21589\n",
              "101     19643\n",
              "1227    19163\n",
              "968     14179\n",
              "847     14130\n",
              "452     13781\n",
              "136     13701\n",
              "Name: person_prefer_d_2_n, dtype: int64"
            ]
          },
          "execution_count": 61,
          "metadata": {},
          "output_type": "execute_result"
        }
      ],
      "source": [
        "train['person_prefer_d_2_n'].value_counts().nlargest(10)"
      ]
    },
    {
      "cell_type": "code",
      "execution_count": null,
      "metadata": {
        "colab": {
          "base_uri": "https://localhost:8080/"
        },
        "id": "i-ra6We2fT1w",
        "outputId": "bcccb441-b91e-4728-9b57-9699ff0a8035"
      },
      "outputs": [
        {
          "data": {
            "text/plain": [
              "175     9684\n",
              "847     4772\n",
              "968     4035\n",
              "1086    3567\n",
              "110     3514\n",
              "452     2953\n",
              "464     2494\n",
              "101     2424\n",
              "703     2269\n",
              "114     2223\n",
              "Name: person_prefer_d_2_n, dtype: int64"
            ]
          },
          "execution_count": 62,
          "metadata": {},
          "output_type": "execute_result"
        }
      ],
      "source": [
        "train[train.d_s_match_yn==1]['person_prefer_d_2_n'].value_counts().nlargest(10)"
      ]
    },
    {
      "cell_type": "code",
      "execution_count": null,
      "metadata": {
        "colab": {
          "base_uri": "https://localhost:8080/"
        },
        "id": "RMVChg6X2Tbj",
        "outputId": "557577c4-3cd7-499e-e12b-9f6c9c0f81ff"
      },
      "outputs": [
        {
          "data": {
            "text/plain": [
              "181     24539\n",
              "1086     8476\n",
              "175      8078\n",
              "113      7394\n",
              "102      7197\n",
              "851      6410\n",
              "1227     5459\n",
              "114      5156\n",
              "857      5119\n",
              "46       4018\n",
              "Name: person_prefer_d_2, dtype: int64"
            ]
          },
          "execution_count": 88,
          "metadata": {},
          "output_type": "execute_result"
        }
      ],
      "source": [
        "train[train.target==1]['person_prefer_d_2'].value_counts().nlargest(10)"
      ]
    },
    {
      "cell_type": "code",
      "execution_count": null,
      "metadata": {
        "colab": {
          "base_uri": "https://localhost:8080/"
        },
        "id": "raMneg_22TeM",
        "outputId": "62003680-f09f-491a-d2f2-6759aa89f62f"
      },
      "outputs": [
        {
          "data": {
            "text/plain": [
              "181     25320\n",
              "1086    10784\n",
              "175      8480\n",
              "102      7496\n",
              "851      6631\n",
              "113      6375\n",
              "1227     6179\n",
              "114      5441\n",
              "857      5310\n",
              "46       3757\n",
              "Name: person_prefer_d_2, dtype: int64"
            ]
          },
          "execution_count": 90,
          "metadata": {},
          "output_type": "execute_result"
        }
      ],
      "source": [
        "train[train.target==0]['person_prefer_d_2'].value_counts().nlargest(10)"
      ]
    },
    {
      "cell_type": "code",
      "execution_count": null,
      "metadata": {
        "colab": {
          "base_uri": "https://localhost:8080/"
        },
        "id": "DoQUSG65S1HQ",
        "outputId": "29a3896c-8ab0-4ec4-824a-70ed093fb5f8"
      },
      "outputs": [
        {
          "data": {
            "text/plain": [
              "1       209086\n",
              "926     128544\n",
              "744      53946\n",
              "618      39885\n",
              "377      26173\n",
              "216      21259\n",
              "864       8062\n",
              "482       7211\n",
              "522       6772\n",
              "1235      1008\n",
              "1258         5\n",
              "Name: person_prefer_d_2_l, dtype: int64"
            ]
          },
          "execution_count": 64,
          "metadata": {},
          "output_type": "execute_result"
        }
      ],
      "source": [
        "train['person_prefer_d_2_l'].value_counts()"
      ]
    },
    {
      "cell_type": "markdown",
      "metadata": {
        "id": "YutJ8zD91aXk"
      },
      "source": [
        "### person_prefer_d_3"
      ]
    },
    {
      "cell_type": "code",
      "execution_count": null,
      "metadata": {
        "colab": {
          "base_uri": "https://localhost:8080/"
        },
        "id": "1-hk0LWyj1ce",
        "outputId": "5e9581da-8238-47fa-acad-92639ddf4c5c"
      },
      "outputs": [
        {
          "data": {
            "text/plain": [
              "175     59632\n",
              "114     43089\n",
              "92      31027\n",
              "1227    27717\n",
              "854     27110\n",
              "145     23538\n",
              "101     15762\n",
              "110     13473\n",
              "1086    11498\n",
              "968      9523\n",
              "Name: person_prefer_d_3_n, dtype: int64"
            ]
          },
          "execution_count": 78,
          "metadata": {},
          "output_type": "execute_result"
        }
      ],
      "source": [
        "train['person_prefer_d_3_n'].value_counts().nlargest(10)"
      ]
    },
    {
      "cell_type": "code",
      "execution_count": null,
      "metadata": {
        "colab": {
          "base_uri": "https://localhost:8080/"
        },
        "id": "B95RD3g0i26G",
        "outputId": "8ce0a67d-4982-4ac8-ff27-928870f8237b"
      },
      "outputs": [
        {
          "data": {
            "text/plain": [
              "175     11080\n",
              "114      7124\n",
              "1227     6941\n",
              "854      4402\n",
              "92       3802\n",
              "145      3113\n",
              "968      2791\n",
              "110      1769\n",
              "452      1701\n",
              "709      1669\n",
              "Name: person_prefer_d_3_n, dtype: int64"
            ]
          },
          "execution_count": 79,
          "metadata": {},
          "output_type": "execute_result"
        }
      ],
      "source": [
        "train[train.d_s_match_yn==1]['person_prefer_d_3_n'].value_counts().nlargest(10)"
      ]
    },
    {
      "cell_type": "code",
      "execution_count": null,
      "metadata": {
        "colab": {
          "base_uri": "https://localhost:8080/"
        },
        "id": "ZZsa7fN52Z3S",
        "outputId": "081cfdab-0e01-4c74-9bd9-e412ef04f887"
      },
      "outputs": [
        {
          "data": {
            "text/plain": [
              "175     23967\n",
              "114     12902\n",
              "857     12347\n",
              "95      11473\n",
              "1227     7816\n",
              "145      6828\n",
              "122      4684\n",
              "1228     4236\n",
              "182      3999\n",
              "1085     3952\n",
              "Name: person_prefer_d_3, dtype: int64"
            ]
          },
          "execution_count": 91,
          "metadata": {},
          "output_type": "execute_result"
        }
      ],
      "source": [
        "train[train.target==1]['person_prefer_d_3'].value_counts().nlargest(10)"
      ]
    },
    {
      "cell_type": "code",
      "execution_count": null,
      "metadata": {
        "colab": {
          "base_uri": "https://localhost:8080/"
        },
        "id": "DMdq3ESR2Z6C",
        "outputId": "30eccd92-40e6-49fc-9104-56798c992e56"
      },
      "outputs": [
        {
          "data": {
            "text/plain": [
              "175     25082\n",
              "857     14667\n",
              "114     13745\n",
              "95      11882\n",
              "1227     8361\n",
              "145      5860\n",
              "1085     5011\n",
              "122      4647\n",
              "1228     4641\n",
              "1086     4100\n",
              "Name: person_prefer_d_3, dtype: int64"
            ]
          },
          "execution_count": 92,
          "metadata": {},
          "output_type": "execute_result"
        }
      ],
      "source": [
        "train[train.target==0]['person_prefer_d_3'].value_counts().nlargest(10)"
      ]
    },
    {
      "cell_type": "code",
      "execution_count": null,
      "metadata": {
        "colab": {
          "base_uri": "https://localhost:8080/"
        },
        "id": "veDNocJt1Sg2",
        "outputId": "48cfb195-2eeb-40e5-8262-d5a768434b56"
      },
      "outputs": [
        {
          "data": {
            "text/plain": [
              "1       230664\n",
              "926     126441\n",
              "744      59759\n",
              "618      34787\n",
              "216      15769\n",
              "377      13052\n",
              "864      10357\n",
              "522       6567\n",
              "482       3602\n",
              "1235       946\n",
              "1258         7\n",
              "Name: person_prefer_d_3_l, dtype: int64"
            ]
          },
          "execution_count": 81,
          "metadata": {},
          "output_type": "execute_result"
        }
      ],
      "source": [
        "train['person_prefer_d_3_l'].value_counts()"
      ]
    },
    {
      "cell_type": "markdown",
      "metadata": {
        "id": "H8ZfRkRe10AV"
      },
      "source": [
        "### contents_attribute_d"
      ]
    },
    {
      "cell_type": "code",
      "execution_count": null,
      "metadata": {
        "colab": {
          "base_uri": "https://localhost:8080/"
        },
        "id": "zbATxIEU1SjG",
        "outputId": "1153b3c7-e27b-44b9-ed2b-d32845dd950c"
      },
      "outputs": [
        {
          "data": {
            "text/plain": [
              "114     57961\n",
              "1227    37340\n",
              "101     21266\n",
              "854     19056\n",
              "175     18690\n",
              "145     17774\n",
              "136     15568\n",
              "968     14293\n",
              "110     14001\n",
              "452     13536\n",
              "Name: contents_attribute_d_n, dtype: int64"
            ]
          },
          "execution_count": 93,
          "metadata": {},
          "output_type": "execute_result"
        }
      ],
      "source": [
        "train['contents_attribute_d_n'].value_counts().nlargest(10)"
      ]
    },
    {
      "cell_type": "code",
      "execution_count": null,
      "metadata": {
        "colab": {
          "base_uri": "https://localhost:8080/"
        },
        "id": "xiSWLS311Sl6",
        "outputId": "b839aeb6-7fdd-4cfa-97b9-81cdc43e6de0"
      },
      "outputs": [
        {
          "data": {
            "text/plain": [
              "114     9793\n",
              "854     5017\n",
              "1227    4941\n",
              "968     4224\n",
              "101     3369\n",
              "452     3203\n",
              "514     2982\n",
              "110     2510\n",
              "847     2384\n",
              "145     1870\n",
              "Name: contents_attribute_d_n, dtype: int64"
            ]
          },
          "execution_count": 96,
          "metadata": {},
          "output_type": "execute_result"
        }
      ],
      "source": [
        "train[train.d_s_match_yn==1]['contents_attribute_d_n'].value_counts().nlargest(10)"
      ]
    },
    {
      "cell_type": "code",
      "execution_count": null,
      "metadata": {
        "colab": {
          "base_uri": "https://localhost:8080/"
        },
        "id": "B61d8NbV2hRK",
        "outputId": "6d008663-f7fb-4582-90cf-968848091432"
      },
      "outputs": [
        {
          "data": {
            "text/plain": [
              "114     13599\n",
              "1227    11543\n",
              "102     10699\n",
              "857      9299\n",
              "181      7258\n",
              "117      5599\n",
              "118      5580\n",
              "112      4490\n",
              "95       4461\n",
              "147      4352\n",
              "Name: contents_attribute_d, dtype: int64"
            ]
          },
          "execution_count": 97,
          "metadata": {},
          "output_type": "execute_result"
        }
      ],
      "source": [
        "train[train.target==1]['contents_attribute_d'].value_counts().nlargest(10)"
      ]
    },
    {
      "cell_type": "code",
      "execution_count": null,
      "metadata": {
        "colab": {
          "base_uri": "https://localhost:8080/"
        },
        "id": "5qGIxRzZ2hTc",
        "outputId": "93540b1f-a66d-406e-c9b9-09df694cdba3"
      },
      "outputs": [
        {
          "data": {
            "text/plain": [
              "1227    13125\n",
              "857      9509\n",
              "114      9429\n",
              "102      8022\n",
              "181      5534\n",
              "453      4370\n",
              "118      4318\n",
              "117      4022\n",
              "95       3579\n",
              "147      3499\n",
              "Name: contents_attribute_d, dtype: int64"
            ]
          },
          "execution_count": 98,
          "metadata": {},
          "output_type": "execute_result"
        }
      ],
      "source": [
        "train[train.target==0]['contents_attribute_d'].value_counts().nlargest(10)"
      ]
    },
    {
      "cell_type": "code",
      "execution_count": null,
      "metadata": {
        "colab": {
          "base_uri": "https://localhost:8080/"
        },
        "id": "pNQ8MrLV2hWJ",
        "outputId": "9633f867-679e-4e67-f97d-e033a258377a"
      },
      "outputs": [
        {
          "data": {
            "text/plain": [
              "1       183291\n",
              "926     138782\n",
              "744      56937\n",
              "618      38772\n",
              "216      28832\n",
              "377      25078\n",
              "864      11651\n",
              "482       9878\n",
              "522       7001\n",
              "1235      1725\n",
              "1258         4\n",
              "Name: contents_attribute_d_l, dtype: int64"
            ]
          },
          "execution_count": 100,
          "metadata": {},
          "output_type": "execute_result"
        }
      ],
      "source": [
        "train['contents_attribute_d_l'].value_counts()"
      ]
    },
    {
      "cell_type": "markdown",
      "metadata": {
        "id": "kuYz8PxSSFt9"
      },
      "source": [
        "## 속성 H"
      ]
    },
    {
      "cell_type": "code",
      "execution_count": null,
      "metadata": {
        "colab": {
          "base_uri": "https://localhost:8080/"
        },
        "id": "_yiIo8jpPgOH",
        "outputId": "709bf1cd-2f03-40cf-9398-63ee63e3aaa6"
      },
      "outputs": [
        {
          "data": {
            "text/html": [
              "<style  type=\"text/css\" >\n",
              "#T_dd4f98a8_6c50_11ec_af5d_0242ac1c0002row0_col0{\n",
              "            background-color:  #d2e866;\n",
              "            color:  #000000;\n",
              "        }#T_dd4f98a8_6c50_11ec_af5d_0242ac1c0002row0_col1,#T_dd4f98a8_6c50_11ec_af5d_0242ac1c0002row0_col2,#T_dd4f98a8_6c50_11ec_af5d_0242ac1c0002row1_col1,#T_dd4f98a8_6c50_11ec_af5d_0242ac1c0002row2_col0{\n",
              "            background-color:  #ffff66;\n",
              "            color:  #000000;\n",
              "        }#T_dd4f98a8_6c50_11ec_af5d_0242ac1c0002row1_col0{\n",
              "            background-color:  #77bb66;\n",
              "            color:  #000000;\n",
              "        }#T_dd4f98a8_6c50_11ec_af5d_0242ac1c0002row1_col2{\n",
              "            background-color:  #b7db66;\n",
              "            color:  #000000;\n",
              "        }#T_dd4f98a8_6c50_11ec_af5d_0242ac1c0002row2_col1,#T_dd4f98a8_6c50_11ec_af5d_0242ac1c0002row3_col0,#T_dd4f98a8_6c50_11ec_af5d_0242ac1c0002row3_col1,#T_dd4f98a8_6c50_11ec_af5d_0242ac1c0002row3_col2{\n",
              "            background-color:  #008066;\n",
              "            color:  #f1f1f1;\n",
              "        }#T_dd4f98a8_6c50_11ec_af5d_0242ac1c0002row2_col2{\n",
              "            background-color:  #cce666;\n",
              "            color:  #000000;\n",
              "        }</style><table id=\"T_dd4f98a8_6c50_11ec_af5d_0242ac1c0002\" class=\"dataframe\"><thead>    <tr>        <th class=\"blank\" ></th>        <th class=\"index_name level0\" >h_s_match_yn</th>        <th class=\"col_heading level0 col0\" >0</th>        <th class=\"col_heading level0 col1\" >1</th>        <th class=\"col_heading level0 col2\" >All</th>    </tr>    <tr>        <th class=\"index_name level0\" >h_l_match_yn</th>        <th class=\"index_name level1\" >h_m_match_yn</th>        <th class=\"blank\" ></th>        <th class=\"blank\" ></th>        <th class=\"blank\" ></th>    </tr></thead><tbody>\n",
              "                <tr>\n",
              "                        <th id=\"T_dd4f98a8_6c50_11ec_af5d_0242ac1c0002level0_row0\" class=\"row_heading level0 row0\" >0</th>\n",
              "                        <th id=\"T_dd4f98a8_6c50_11ec_af5d_0242ac1c0002level1_row0\" class=\"row_heading level1 row0\" >0</th>\n",
              "                        <td id=\"T_dd4f98a8_6c50_11ec_af5d_0242ac1c0002row0_col0\" class=\"data row0 col0\" >102613</td>\n",
              "                        <td id=\"T_dd4f98a8_6c50_11ec_af5d_0242ac1c0002row0_col1\" class=\"data row0 col1\" >0</td>\n",
              "                        <td id=\"T_dd4f98a8_6c50_11ec_af5d_0242ac1c0002row0_col2\" class=\"data row0 col2\" >102613</td>\n",
              "            </tr>\n",
              "            <tr>\n",
              "                        <th id=\"T_dd4f98a8_6c50_11ec_af5d_0242ac1c0002level0_row1\" class=\"row_heading level0 row1\" rowspan=2>1</th>\n",
              "                        <th id=\"T_dd4f98a8_6c50_11ec_af5d_0242ac1c0002level1_row1\" class=\"row_heading level1 row1\" >0</th>\n",
              "                        <td id=\"T_dd4f98a8_6c50_11ec_af5d_0242ac1c0002row1_col0\" class=\"data row1 col0\" >216205</td>\n",
              "                        <td id=\"T_dd4f98a8_6c50_11ec_af5d_0242ac1c0002row1_col1\" class=\"data row1 col1\" >0</td>\n",
              "                        <td id=\"T_dd4f98a8_6c50_11ec_af5d_0242ac1c0002row1_col2\" class=\"data row1 col2\" >216205</td>\n",
              "            </tr>\n",
              "            <tr>\n",
              "                                <th id=\"T_dd4f98a8_6c50_11ec_af5d_0242ac1c0002level1_row2\" class=\"row_heading level1 row2\" >1</th>\n",
              "                        <td id=\"T_dd4f98a8_6c50_11ec_af5d_0242ac1c0002row2_col0\" class=\"data row2 col0\" >46504</td>\n",
              "                        <td id=\"T_dd4f98a8_6c50_11ec_af5d_0242ac1c0002row2_col1\" class=\"data row2 col1\" >136629</td>\n",
              "                        <td id=\"T_dd4f98a8_6c50_11ec_af5d_0242ac1c0002row2_col2\" class=\"data row2 col2\" >183133</td>\n",
              "            </tr>\n",
              "            <tr>\n",
              "                        <th id=\"T_dd4f98a8_6c50_11ec_af5d_0242ac1c0002level0_row3\" class=\"row_heading level0 row3\" >All</th>\n",
              "                        <th id=\"T_dd4f98a8_6c50_11ec_af5d_0242ac1c0002level1_row3\" class=\"row_heading level1 row3\" ></th>\n",
              "                        <td id=\"T_dd4f98a8_6c50_11ec_af5d_0242ac1c0002row3_col0\" class=\"data row3 col0\" >365322</td>\n",
              "                        <td id=\"T_dd4f98a8_6c50_11ec_af5d_0242ac1c0002row3_col1\" class=\"data row3 col1\" >136629</td>\n",
              "                        <td id=\"T_dd4f98a8_6c50_11ec_af5d_0242ac1c0002row3_col2\" class=\"data row3 col2\" >501951</td>\n",
              "            </tr>\n",
              "    </tbody></table>"
            ],
            "text/plain": [
              "<pandas.io.formats.style.Styler at 0x7fa45478bc90>"
            ]
          },
          "execution_count": 23,
          "metadata": {},
          "output_type": "execute_result"
        }
      ],
      "source": [
        "pd.crosstab([train.h_l_match_yn,train.h_m_match_yn],train.h_s_match_yn,\n",
        "            margins=True).style.background_gradient(cmap='summer_r')"
      ]
    },
    {
      "cell_type": "code",
      "execution_count": null,
      "metadata": {
        "colab": {
          "base_uri": "https://localhost:8080/"
        },
        "id": "hde-5UacSS9I",
        "outputId": "fb2624ab-979f-4d4a-9688-043b268a37ca"
      },
      "outputs": [
        {
          "data": {
            "text/html": [
              "<style  type=\"text/css\" >\n",
              "#T_2759cf90_6c51_11ec_af5d_0242ac1c0002row0_col0{\n",
              "            background-color:  #e4f266;\n",
              "            color:  #000000;\n",
              "        }#T_2759cf90_6c51_11ec_af5d_0242ac1c0002row0_col1{\n",
              "            background-color:  #cae466;\n",
              "            color:  #000000;\n",
              "        }#T_2759cf90_6c51_11ec_af5d_0242ac1c0002row0_col2{\n",
              "            background-color:  #e0f066;\n",
              "            color:  #000000;\n",
              "        }#T_2759cf90_6c51_11ec_af5d_0242ac1c0002row1_col0{\n",
              "            background-color:  #a1d066;\n",
              "            color:  #000000;\n",
              "        }#T_2759cf90_6c51_11ec_af5d_0242ac1c0002row1_col1{\n",
              "            background-color:  #9bcd66;\n",
              "            color:  #000000;\n",
              "        }#T_2759cf90_6c51_11ec_af5d_0242ac1c0002row1_col2{\n",
              "            background-color:  #a0d066;\n",
              "            color:  #000000;\n",
              "        }#T_2759cf90_6c51_11ec_af5d_0242ac1c0002row2_col0,#T_2759cf90_6c51_11ec_af5d_0242ac1c0002row2_col1,#T_2759cf90_6c51_11ec_af5d_0242ac1c0002row2_col2{\n",
              "            background-color:  #ffff66;\n",
              "            color:  #000000;\n",
              "        }#T_2759cf90_6c51_11ec_af5d_0242ac1c0002row3_col0{\n",
              "            background-color:  #cbe566;\n",
              "            color:  #000000;\n",
              "        }#T_2759cf90_6c51_11ec_af5d_0242ac1c0002row3_col1{\n",
              "            background-color:  #d9ec66;\n",
              "            color:  #000000;\n",
              "        }#T_2759cf90_6c51_11ec_af5d_0242ac1c0002row3_col2{\n",
              "            background-color:  #cde666;\n",
              "            color:  #000000;\n",
              "        }#T_2759cf90_6c51_11ec_af5d_0242ac1c0002row4_col0,#T_2759cf90_6c51_11ec_af5d_0242ac1c0002row4_col1,#T_2759cf90_6c51_11ec_af5d_0242ac1c0002row4_col2{\n",
              "            background-color:  #008066;\n",
              "            color:  #f1f1f1;\n",
              "        }</style><table id=\"T_2759cf90_6c51_11ec_af5d_0242ac1c0002\" class=\"dataframe\"><thead>    <tr>        <th class=\"blank\" ></th>        <th class=\"blank\" ></th>        <th class=\"index_name level0\" >d_s_match_yn</th>        <th class=\"col_heading level0 col0\" >0</th>        <th class=\"col_heading level0 col1\" >1</th>        <th class=\"col_heading level0 col2\" >All</th>    </tr>    <tr>        <th class=\"index_name level0\" >h_l_match_yn</th>        <th class=\"index_name level1\" >h_m_match_yn</th>        <th class=\"index_name level2\" >h_s_match_yn</th>        <th class=\"blank\" ></th>        <th class=\"blank\" ></th>        <th class=\"blank\" ></th>    </tr></thead><tbody>\n",
              "                <tr>\n",
              "                        <th id=\"T_2759cf90_6c51_11ec_af5d_0242ac1c0002level0_row0\" class=\"row_heading level0 row0\" >0</th>\n",
              "                        <th id=\"T_2759cf90_6c51_11ec_af5d_0242ac1c0002level1_row0\" class=\"row_heading level1 row0\" >0</th>\n",
              "                        <th id=\"T_2759cf90_6c51_11ec_af5d_0242ac1c0002level2_row0\" class=\"row_heading level2 row0\" >0</th>\n",
              "                        <td id=\"T_2759cf90_6c51_11ec_af5d_0242ac1c0002row0_col0\" class=\"data row0 col0\" >82352</td>\n",
              "                        <td id=\"T_2759cf90_6c51_11ec_af5d_0242ac1c0002row0_col1\" class=\"data row0 col1\" >20261</td>\n",
              "                        <td id=\"T_2759cf90_6c51_11ec_af5d_0242ac1c0002row0_col2\" class=\"data row0 col2\" >102613</td>\n",
              "            </tr>\n",
              "            <tr>\n",
              "                        <th id=\"T_2759cf90_6c51_11ec_af5d_0242ac1c0002level0_row1\" class=\"row_heading level0 row1\" rowspan=3>1</th>\n",
              "                        <th id=\"T_2759cf90_6c51_11ec_af5d_0242ac1c0002level1_row1\" class=\"row_heading level1 row1\" >0</th>\n",
              "                        <th id=\"T_2759cf90_6c51_11ec_af5d_0242ac1c0002level2_row1\" class=\"row_heading level2 row1\" >0</th>\n",
              "                        <td id=\"T_2759cf90_6c51_11ec_af5d_0242ac1c0002row1_col0\" class=\"data row1 col0\" >183093</td>\n",
              "                        <td id=\"T_2759cf90_6c51_11ec_af5d_0242ac1c0002row1_col1\" class=\"data row1 col1\" >33112</td>\n",
              "                        <td id=\"T_2759cf90_6c51_11ec_af5d_0242ac1c0002row1_col2\" class=\"data row1 col2\" >216205</td>\n",
              "            </tr>\n",
              "            <tr>\n",
              "                                <th id=\"T_2759cf90_6c51_11ec_af5d_0242ac1c0002level1_row2\" class=\"row_heading level1 row2\" rowspan=2>1</th>\n",
              "                        <th id=\"T_2759cf90_6c51_11ec_af5d_0242ac1c0002level2_row2\" class=\"row_heading level2 row2\" >0</th>\n",
              "                        <td id=\"T_2759cf90_6c51_11ec_af5d_0242ac1c0002row2_col0\" class=\"data row2 col0\" >40798</td>\n",
              "                        <td id=\"T_2759cf90_6c51_11ec_af5d_0242ac1c0002row2_col1\" class=\"data row2 col1\" >5706</td>\n",
              "                        <td id=\"T_2759cf90_6c51_11ec_af5d_0242ac1c0002row2_col2\" class=\"data row2 col2\" >46504</td>\n",
              "            </tr>\n",
              "            <tr>\n",
              "                                        <th id=\"T_2759cf90_6c51_11ec_af5d_0242ac1c0002level2_row3\" class=\"row_heading level2 row3\" >1</th>\n",
              "                        <td id=\"T_2759cf90_6c51_11ec_af5d_0242ac1c0002row3_col0\" class=\"data row3 col0\" >120451</td>\n",
              "                        <td id=\"T_2759cf90_6c51_11ec_af5d_0242ac1c0002row3_col1\" class=\"data row3 col1\" >16178</td>\n",
              "                        <td id=\"T_2759cf90_6c51_11ec_af5d_0242ac1c0002row3_col2\" class=\"data row3 col2\" >136629</td>\n",
              "            </tr>\n",
              "            <tr>\n",
              "                        <th id=\"T_2759cf90_6c51_11ec_af5d_0242ac1c0002level0_row4\" class=\"row_heading level0 row4\" >All</th>\n",
              "                        <th id=\"T_2759cf90_6c51_11ec_af5d_0242ac1c0002level1_row4\" class=\"row_heading level1 row4\" ></th>\n",
              "                        <th id=\"T_2759cf90_6c51_11ec_af5d_0242ac1c0002level2_row4\" class=\"row_heading level2 row4\" ></th>\n",
              "                        <td id=\"T_2759cf90_6c51_11ec_af5d_0242ac1c0002row4_col0\" class=\"data row4 col0\" >426694</td>\n",
              "                        <td id=\"T_2759cf90_6c51_11ec_af5d_0242ac1c0002row4_col1\" class=\"data row4 col1\" >75257</td>\n",
              "                        <td id=\"T_2759cf90_6c51_11ec_af5d_0242ac1c0002row4_col2\" class=\"data row4 col2\" >501951</td>\n",
              "            </tr>\n",
              "    </tbody></table>"
            ],
            "text/plain": [
              "<pandas.io.formats.style.Styler at 0x7fa443774a90>"
            ]
          },
          "execution_count": 25,
          "metadata": {},
          "output_type": "execute_result"
        }
      ],
      "source": [
        "pd.crosstab([train.h_l_match_yn,train.h_m_match_yn,train.h_s_match_yn],train.d_s_match_yn,\n",
        "            margins=True).style.background_gradient(cmap='summer_r')"
      ]
    },
    {
      "cell_type": "code",
      "execution_count": null,
      "metadata": {
        "colab": {
          "base_uri": "https://localhost:8080/"
        },
        "id": "ziaoSlxkR48d",
        "outputId": "9582fa6d-fb90-4bfe-fb9d-e5f1b306892a"
      },
      "outputs": [
        {
          "data": {
            "text/html": [
              "<style  type=\"text/css\" >\n",
              "#T_ebe10398_6c50_11ec_af5d_0242ac1c0002row0_col0{\n",
              "            background-color:  #deee66;\n",
              "            color:  #000000;\n",
              "        }#T_ebe10398_6c50_11ec_af5d_0242ac1c0002row0_col1{\n",
              "            background-color:  #e2f066;\n",
              "            color:  #000000;\n",
              "        }#T_ebe10398_6c50_11ec_af5d_0242ac1c0002row0_col2{\n",
              "            background-color:  #e0f066;\n",
              "            color:  #000000;\n",
              "        }#T_ebe10398_6c50_11ec_af5d_0242ac1c0002row1_col0{\n",
              "            background-color:  #a2d066;\n",
              "            color:  #000000;\n",
              "        }#T_ebe10398_6c50_11ec_af5d_0242ac1c0002row1_col1{\n",
              "            background-color:  #9ece66;\n",
              "            color:  #000000;\n",
              "        }#T_ebe10398_6c50_11ec_af5d_0242ac1c0002row1_col2{\n",
              "            background-color:  #a0d066;\n",
              "            color:  #000000;\n",
              "        }#T_ebe10398_6c50_11ec_af5d_0242ac1c0002row2_col0,#T_ebe10398_6c50_11ec_af5d_0242ac1c0002row2_col1,#T_ebe10398_6c50_11ec_af5d_0242ac1c0002row2_col2{\n",
              "            background-color:  #ffff66;\n",
              "            color:  #000000;\n",
              "        }#T_ebe10398_6c50_11ec_af5d_0242ac1c0002row3_col0{\n",
              "            background-color:  #cee666;\n",
              "            color:  #000000;\n",
              "        }#T_ebe10398_6c50_11ec_af5d_0242ac1c0002row3_col1{\n",
              "            background-color:  #cce666;\n",
              "            color:  #000000;\n",
              "        }#T_ebe10398_6c50_11ec_af5d_0242ac1c0002row3_col2{\n",
              "            background-color:  #cde666;\n",
              "            color:  #000000;\n",
              "        }#T_ebe10398_6c50_11ec_af5d_0242ac1c0002row4_col0,#T_ebe10398_6c50_11ec_af5d_0242ac1c0002row4_col1,#T_ebe10398_6c50_11ec_af5d_0242ac1c0002row4_col2{\n",
              "            background-color:  #008066;\n",
              "            color:  #f1f1f1;\n",
              "        }</style><table id=\"T_ebe10398_6c50_11ec_af5d_0242ac1c0002\" class=\"dataframe\"><thead>    <tr>        <th class=\"blank\" ></th>        <th class=\"blank\" ></th>        <th class=\"index_name level0\" >target</th>        <th class=\"col_heading level0 col0\" >0</th>        <th class=\"col_heading level0 col1\" >1</th>        <th class=\"col_heading level0 col2\" >All</th>    </tr>    <tr>        <th class=\"index_name level0\" >h_l_match_yn</th>        <th class=\"index_name level1\" >h_m_match_yn</th>        <th class=\"index_name level2\" >h_s_match_yn</th>        <th class=\"blank\" ></th>        <th class=\"blank\" ></th>        <th class=\"blank\" ></th>    </tr></thead><tbody>\n",
              "                <tr>\n",
              "                        <th id=\"T_ebe10398_6c50_11ec_af5d_0242ac1c0002level0_row0\" class=\"row_heading level0 row0\" >0</th>\n",
              "                        <th id=\"T_ebe10398_6c50_11ec_af5d_0242ac1c0002level1_row0\" class=\"row_heading level1 row0\" >0</th>\n",
              "                        <th id=\"T_ebe10398_6c50_11ec_af5d_0242ac1c0002level2_row0\" class=\"row_heading level2 row0\" >0</th>\n",
              "                        <td id=\"T_ebe10398_6c50_11ec_af5d_0242ac1c0002row0_col0\" class=\"data row0 col0\" >53255</td>\n",
              "                        <td id=\"T_ebe10398_6c50_11ec_af5d_0242ac1c0002row0_col1\" class=\"data row0 col1\" >49358</td>\n",
              "                        <td id=\"T_ebe10398_6c50_11ec_af5d_0242ac1c0002row0_col2\" class=\"data row0 col2\" >102613</td>\n",
              "            </tr>\n",
              "            <tr>\n",
              "                        <th id=\"T_ebe10398_6c50_11ec_af5d_0242ac1c0002level0_row1\" class=\"row_heading level0 row1\" rowspan=3>1</th>\n",
              "                        <th id=\"T_ebe10398_6c50_11ec_af5d_0242ac1c0002level1_row1\" class=\"row_heading level1 row1\" >0</th>\n",
              "                        <th id=\"T_ebe10398_6c50_11ec_af5d_0242ac1c0002level2_row1\" class=\"row_heading level2 row1\" >0</th>\n",
              "                        <td id=\"T_ebe10398_6c50_11ec_af5d_0242ac1c0002row1_col0\" class=\"data row1 col0\" >106752</td>\n",
              "                        <td id=\"T_ebe10398_6c50_11ec_af5d_0242ac1c0002row1_col1\" class=\"data row1 col1\" >109453</td>\n",
              "                        <td id=\"T_ebe10398_6c50_11ec_af5d_0242ac1c0002row1_col2\" class=\"data row1 col2\" >216205</td>\n",
              "            </tr>\n",
              "            <tr>\n",
              "                                <th id=\"T_ebe10398_6c50_11ec_af5d_0242ac1c0002level1_row2\" class=\"row_heading level1 row2\" rowspan=2>1</th>\n",
              "                        <th id=\"T_ebe10398_6c50_11ec_af5d_0242ac1c0002level2_row2\" class=\"row_heading level2 row2\" >0</th>\n",
              "                        <td id=\"T_ebe10398_6c50_11ec_af5d_0242ac1c0002row2_col0\" class=\"data row2 col0\" >23454</td>\n",
              "                        <td id=\"T_ebe10398_6c50_11ec_af5d_0242ac1c0002row2_col1\" class=\"data row2 col1\" >23050</td>\n",
              "                        <td id=\"T_ebe10398_6c50_11ec_af5d_0242ac1c0002row2_col2\" class=\"data row2 col2\" >46504</td>\n",
              "            </tr>\n",
              "            <tr>\n",
              "                                        <th id=\"T_ebe10398_6c50_11ec_af5d_0242ac1c0002level2_row3\" class=\"row_heading level2 row3\" >1</th>\n",
              "                        <td id=\"T_ebe10398_6c50_11ec_af5d_0242ac1c0002row3_col0\" class=\"data row3 col0\" >67645</td>\n",
              "                        <td id=\"T_ebe10398_6c50_11ec_af5d_0242ac1c0002row3_col1\" class=\"data row3 col1\" >68984</td>\n",
              "                        <td id=\"T_ebe10398_6c50_11ec_af5d_0242ac1c0002row3_col2\" class=\"data row3 col2\" >136629</td>\n",
              "            </tr>\n",
              "            <tr>\n",
              "                        <th id=\"T_ebe10398_6c50_11ec_af5d_0242ac1c0002level0_row4\" class=\"row_heading level0 row4\" >All</th>\n",
              "                        <th id=\"T_ebe10398_6c50_11ec_af5d_0242ac1c0002level1_row4\" class=\"row_heading level1 row4\" ></th>\n",
              "                        <th id=\"T_ebe10398_6c50_11ec_af5d_0242ac1c0002level2_row4\" class=\"row_heading level2 row4\" ></th>\n",
              "                        <td id=\"T_ebe10398_6c50_11ec_af5d_0242ac1c0002row4_col0\" class=\"data row4 col0\" >251106</td>\n",
              "                        <td id=\"T_ebe10398_6c50_11ec_af5d_0242ac1c0002row4_col1\" class=\"data row4 col1\" >250845</td>\n",
              "                        <td id=\"T_ebe10398_6c50_11ec_af5d_0242ac1c0002row4_col2\" class=\"data row4 col2\" >501951</td>\n",
              "            </tr>\n",
              "    </tbody></table>"
            ],
            "text/plain": [
              "<pandas.io.formats.style.Styler at 0x7fa443738210>"
            ]
          },
          "execution_count": 24,
          "metadata": {},
          "output_type": "execute_result"
        }
      ],
      "source": [
        "pd.crosstab([train.h_l_match_yn,train.h_m_match_yn,train.h_s_match_yn],train.target,\n",
        "            margins=True).style.background_gradient(cmap='summer_r')"
      ]
    },
    {
      "cell_type": "markdown",
      "metadata": {
        "id": "k6dNrOOA5iIy"
      },
      "source": [
        "### person_prefer_h_1"
      ]
    },
    {
      "cell_type": "code",
      "execution_count": null,
      "metadata": {
        "colab": {
          "base_uri": "https://localhost:8080/"
        },
        "id": "iFj0vpCv5iI8",
        "outputId": "53038ee5-6256-41a0-f98d-f7813a59b985"
      },
      "outputs": [
        {
          "data": {
            "text/plain": [
              "316    35257\n",
              "342    31393\n",
              "315    22458\n",
              "543    22381\n",
              "368    20938\n",
              "359    19155\n",
              "379    13124\n",
              "391    12664\n",
              "407    10619\n",
              "547    10256\n",
              "Name: person_prefer_h_1_m, dtype: int64"
            ]
          },
          "execution_count": 113,
          "metadata": {},
          "output_type": "execute_result"
        }
      ],
      "source": [
        "train['person_prefer_h_1_m'].value_counts().nlargest(10)"
      ]
    },
    {
      "cell_type": "code",
      "execution_count": null,
      "metadata": {
        "colab": {
          "base_uri": "https://localhost:8080/"
        },
        "id": "8YumCUni5iI8",
        "outputId": "a869b358-1c87-45bc-984f-d5990fcfb1e4"
      },
      "outputs": [
        {
          "data": {
            "text/plain": [
              "547    7588\n",
              "523    5479\n",
              "422    4997\n",
              "413    4628\n",
              "403    4115\n",
              "434    3925\n",
              "405    3585\n",
              "550    3455\n",
              "543    3403\n",
              "421    3318\n",
              "Name: person_prefer_h_1_m, dtype: int64"
            ]
          },
          "execution_count": 114,
          "metadata": {},
          "output_type": "execute_result"
        }
      ],
      "source": [
        "train[train.h_s_match_yn==1]['person_prefer_h_1_m'].value_counts().nlargest(10)"
      ]
    },
    {
      "cell_type": "code",
      "execution_count": null,
      "metadata": {
        "colab": {
          "base_uri": "https://localhost:8080/"
        },
        "id": "cV5Z2pri5iI8",
        "outputId": "e1104536-0142-4a3e-9880-eaac2f50d245"
      },
      "outputs": [
        {
          "data": {
            "text/plain": [
              "4      20199\n",
              "31     15995\n",
              "2      11559\n",
              "59     10734\n",
              "49      9011\n",
              "279     6421\n",
              "86      6301\n",
              "72      6075\n",
              "95      5083\n",
              "288     4865\n",
              "Name: person_prefer_h_1, dtype: int64"
            ]
          },
          "execution_count": 115,
          "metadata": {},
          "output_type": "execute_result"
        }
      ],
      "source": [
        "train[train.target==1]['person_prefer_h_1'].value_counts().nlargest(10)"
      ]
    },
    {
      "cell_type": "code",
      "execution_count": null,
      "metadata": {
        "colab": {
          "base_uri": "https://localhost:8080/"
        },
        "id": "Zs1-xqqn5iI8",
        "outputId": "a244aa53-1d46-4484-c754-881dc9175beb"
      },
      "outputs": [
        {
          "data": {
            "text/plain": [
              "31     15398\n",
              "4      15058\n",
              "2      10899\n",
              "59     10204\n",
              "49     10144\n",
              "72      7049\n",
              "279     6432\n",
              "86      6363\n",
              "288     5391\n",
              "95      4816\n",
              "Name: person_prefer_h_1, dtype: int64"
            ]
          },
          "execution_count": 116,
          "metadata": {},
          "output_type": "execute_result"
        }
      ],
      "source": [
        "train[train.target==0]['person_prefer_h_1'].value_counts().nlargest(10)"
      ]
    },
    {
      "cell_type": "code",
      "execution_count": null,
      "metadata": {
        "colab": {
          "base_uri": "https://localhost:8080/"
        },
        "id": "mruaXBba5iI9",
        "outputId": "03d68350-82bb-4f42-e102-f8cf10884e6c"
      },
      "outputs": [
        {
          "data": {
            "text/plain": [
              "94     104841\n",
              "3       57367\n",
              "277     50147\n",
              "30      49806\n",
              "58      39580\n",
              "48      29714\n",
              "250     26399\n",
              "1       22458\n",
              "85      19092\n",
              "208     18482\n",
              "71      17564\n",
              "188     16261\n",
              "169     13645\n",
              "226     11556\n",
              "78      10159\n",
              "149      9291\n",
              "308      3564\n",
              "92       1911\n",
              "312       114\n",
              "Name: person_prefer_h_1_l, dtype: int64"
            ]
          },
          "execution_count": 117,
          "metadata": {},
          "output_type": "execute_result"
        }
      ],
      "source": [
        "train['person_prefer_h_1_l'].value_counts()"
      ]
    },
    {
      "cell_type": "markdown",
      "metadata": {
        "id": "O-ghxuga6An6"
      },
      "source": [
        "### person_prefer_h_2"
      ]
    },
    {
      "cell_type": "code",
      "execution_count": null,
      "metadata": {
        "colab": {
          "base_uri": "https://localhost:8080/"
        },
        "id": "bN9rqVTl6AoE",
        "outputId": "8563b353-d4f8-4e34-f610-30e57dc9b19f"
      },
      "outputs": [
        {
          "data": {
            "text/plain": [
              "398    42383\n",
              "316    36033\n",
              "542    32846\n",
              "518    23068\n",
              "543    22593\n",
              "342    15713\n",
              "368    13137\n",
              "495    13033\n",
              "407    11649\n",
              "408    10351\n",
              "Name: person_prefer_h_2_m, dtype: int64"
            ]
          },
          "execution_count": 108,
          "metadata": {},
          "output_type": "execute_result"
        }
      ],
      "source": [
        "train['person_prefer_h_2_m'].value_counts().nlargest(10)"
      ]
    },
    {
      "cell_type": "code",
      "execution_count": null,
      "metadata": {
        "colab": {
          "base_uri": "https://localhost:8080/"
        },
        "id": "yAL341r56AoE",
        "outputId": "ad476879-7eae-42f0-fc50-d1d14e5587de"
      },
      "outputs": [
        {
          "data": {
            "text/plain": [
              "543    10425\n",
              "368     5733\n",
              "408     5698\n",
              "432     5499\n",
              "481     5402\n",
              "407     4796\n",
              "518     4389\n",
              "399     4196\n",
              "464     3048\n",
              "379     3015\n",
              "Name: person_prefer_h_2_m, dtype: int64"
            ]
          },
          "execution_count": 109,
          "metadata": {},
          "output_type": "execute_result"
        }
      ],
      "source": [
        "train[train.h_s_match_yn==1]['person_prefer_h_2_m'].value_counts().nlargest(10)"
      ]
    },
    {
      "cell_type": "code",
      "execution_count": null,
      "metadata": {
        "colab": {
          "base_uri": "https://localhost:8080/"
        },
        "id": "KwXa87wD6AoE",
        "outputId": "a1a3edd7-fb1e-4dae-c6af-a0c8013bf43a"
      },
      "outputs": [
        {
          "data": {
            "text/plain": [
              "95     22968\n",
              "4      18885\n",
              "278    16736\n",
              "251    10508\n",
              "31      7912\n",
              "59      6808\n",
              "227     6038\n",
              "279     5966\n",
              "189     5255\n",
              "96      4399\n",
              "Name: person_prefer_h_2, dtype: int64"
            ]
          },
          "execution_count": 110,
          "metadata": {},
          "output_type": "execute_result"
        }
      ],
      "source": [
        "train[train.target==1]['person_prefer_h_2'].value_counts().nlargest(10)"
      ]
    },
    {
      "cell_type": "code",
      "execution_count": null,
      "metadata": {
        "colab": {
          "base_uri": "https://localhost:8080/"
        },
        "id": "30ncLQ6m6AoF",
        "outputId": "4f57479e-9302-41ef-98a8-fd63cf569df8"
      },
      "outputs": [
        {
          "data": {
            "text/plain": [
              "95     19415\n",
              "4      17148\n",
              "278    16110\n",
              "251    12560\n",
              "31      7801\n",
              "227     6995\n",
              "279     6552\n",
              "59      6329\n",
              "189     5091\n",
              "116     4521\n",
              "Name: person_prefer_h_2, dtype: int64"
            ]
          },
          "execution_count": 111,
          "metadata": {},
          "output_type": "execute_result"
        }
      ],
      "source": [
        "train[train.target==0]['person_prefer_h_2'].value_counts().nlargest(10)"
      ]
    },
    {
      "cell_type": "code",
      "execution_count": null,
      "metadata": {
        "colab": {
          "base_uri": "https://localhost:8080/"
        },
        "id": "04e3bqX36AoF",
        "outputId": "f6f3500b-e7e3-4c1f-f61d-fd6e46e4e662"
      },
      "outputs": [
        {
          "data": {
            "text/plain": [
              "94     132520\n",
              "277     71442\n",
              "3       62029\n",
              "250     38109\n",
              "30      36536\n",
              "58      27943\n",
              "188     22271\n",
              "226     20101\n",
              "208     18141\n",
              "48      15545\n",
              "169     13430\n",
              "85      10092\n",
              "149      8774\n",
              "71       8327\n",
              "1        7254\n",
              "78       5244\n",
              "92       1954\n",
              "312      1162\n",
              "308      1077\n",
              "Name: person_prefer_h_2_l, dtype: int64"
            ]
          },
          "execution_count": 112,
          "metadata": {},
          "output_type": "execute_result"
        }
      ],
      "source": [
        "train['person_prefer_h_2_l'].value_counts()"
      ]
    },
    {
      "cell_type": "markdown",
      "metadata": {
        "id": "9OcCr6f46DHW"
      },
      "source": [
        "### person_prefer_h_3"
      ]
    },
    {
      "cell_type": "code",
      "execution_count": null,
      "metadata": {
        "colab": {
          "base_uri": "https://localhost:8080/"
        },
        "id": "pIbdm8dW6DHW",
        "outputId": "e3dcb2e2-8926-455d-d585-323940cbb787"
      },
      "outputs": [
        {
          "data": {
            "text/plain": [
              "368    36745\n",
              "398    33260\n",
              "316    29087\n",
              "391    27323\n",
              "542    21123\n",
              "523    18309\n",
              "547    18249\n",
              "315    17665\n",
              "359    15965\n",
              "543    14559\n",
              "Name: person_prefer_h_3_m, dtype: int64"
            ]
          },
          "execution_count": 118,
          "metadata": {},
          "output_type": "execute_result"
        }
      ],
      "source": [
        "train['person_prefer_h_3_m'].value_counts().nlargest(10)"
      ]
    },
    {
      "cell_type": "code",
      "execution_count": null,
      "metadata": {
        "colab": {
          "base_uri": "https://localhost:8080/"
        },
        "id": "nESpC-eG6DHX",
        "outputId": "899fc5c2-e5c0-463c-8252-44eddd8e7ca9"
      },
      "outputs": [
        {
          "data": {
            "text/plain": [
              "359    7887\n",
              "403    7413\n",
              "543    6887\n",
              "398    6739\n",
              "542    6729\n",
              "407    5425\n",
              "480    5251\n",
              "399    4238\n",
              "547    4237\n",
              "402    4050\n",
              "Name: person_prefer_h_3_m, dtype: int64"
            ]
          },
          "execution_count": 119,
          "metadata": {},
          "output_type": "execute_result"
        }
      ],
      "source": [
        "train[train.h_s_match_yn==1]['person_prefer_h_3_m'].value_counts().nlargest(10)"
      ]
    },
    {
      "cell_type": "code",
      "execution_count": null,
      "metadata": {
        "colab": {
          "base_uri": "https://localhost:8080/"
        },
        "id": "3sJkOo4e6DHX",
        "outputId": "977109b4-792f-4689-fd15-5eabae00cb68"
      },
      "outputs": [
        {
          "data": {
            "text/plain": [
              "59     20527\n",
              "95     16896\n",
              "4      14868\n",
              "86     13888\n",
              "278    10277\n",
              "288     8887\n",
              "258     8580\n",
              "2       8519\n",
              "49      7291\n",
              "109     6421\n",
              "Name: person_prefer_h_3, dtype: int64"
            ]
          },
          "execution_count": 120,
          "metadata": {},
          "output_type": "execute_result"
        }
      ],
      "source": [
        "train[train.target==1]['person_prefer_h_3'].value_counts().nlargest(10)"
      ]
    },
    {
      "cell_type": "code",
      "execution_count": null,
      "metadata": {
        "colab": {
          "base_uri": "https://localhost:8080/"
        },
        "id": "b0n9fzfp6DHX",
        "outputId": "e4af3b88-b91e-49a4-c97f-070a7dac84d1"
      },
      "outputs": [
        {
          "data": {
            "text/plain": [
              "95     16364\n",
              "59     16218\n",
              "4      14219\n",
              "86     13435\n",
              "278    10846\n",
              "258     9729\n",
              "288     9362\n",
              "2       9146\n",
              "49      8674\n",
              "109     6464\n",
              "Name: person_prefer_h_3, dtype: int64"
            ]
          },
          "execution_count": 121,
          "metadata": {},
          "output_type": "execute_result"
        }
      ],
      "source": [
        "train[train.target==0]['person_prefer_h_3'].value_counts().nlargest(10)"
      ]
    },
    {
      "cell_type": "code",
      "execution_count": null,
      "metadata": {
        "colab": {
          "base_uri": "https://localhost:8080/"
        },
        "id": "BwqtU7j56DHY",
        "outputId": "905b7c62-faa1-4b10-c2e6-aed4175ef7cf"
      },
      "outputs": [
        {
          "data": {
            "text/plain": [
              "94     126049\n",
              "277     61468\n",
              "3       56545\n",
              "58      50513\n",
              "250     32090\n",
              "85      30162\n",
              "30      24318\n",
              "48      23601\n",
              "208     18498\n",
              "1       17665\n",
              "188     14361\n",
              "92      12188\n",
              "226     11261\n",
              "169      7988\n",
              "71       5896\n",
              "78       4807\n",
              "149      3179\n",
              "312       824\n",
              "308       538\n",
              "Name: person_prefer_h_3_l, dtype: int64"
            ]
          },
          "execution_count": 122,
          "metadata": {},
          "output_type": "execute_result"
        }
      ],
      "source": [
        "train['person_prefer_h_3_l'].value_counts()"
      ]
    },
    {
      "cell_type": "markdown",
      "metadata": {
        "id": "EFJiSgA-6oEV"
      },
      "source": [
        "### contents_attribute_h"
      ]
    },
    {
      "cell_type": "code",
      "execution_count": null,
      "metadata": {
        "colab": {
          "base_uri": "https://localhost:8080/"
        },
        "id": "yhklQiWt6oEc",
        "outputId": "3d9931f5-5020-40e5-eda3-16e67c5af546"
      },
      "outputs": [
        {
          "data": {
            "text/plain": [
              "94     120548\n",
              "277     53943\n",
              "30      49515\n",
              "3       48204\n",
              "58      38628\n",
              "250     31035\n",
              "48      28241\n",
              "208     19843\n",
              "188     19523\n",
              "85      18687\n",
              "Name: contents_attribute_h_l, dtype: int64"
            ]
          },
          "execution_count": 123,
          "metadata": {},
          "output_type": "execute_result"
        }
      ],
      "source": [
        "train['contents_attribute_h_l'].value_counts().nlargest(10)"
      ]
    },
    {
      "cell_type": "code",
      "execution_count": null,
      "metadata": {
        "colab": {
          "base_uri": "https://localhost:8080/"
        },
        "id": "zpV0mGi86oEd",
        "outputId": "ce7e4c3e-b866-4f35-fee2-f34676cd0edd"
      },
      "outputs": [
        {
          "data": {
            "text/plain": [
              "94     39579\n",
              "277    20196\n",
              "250    13348\n",
              "58      7828\n",
              "208     7156\n",
              "149     7007\n",
              "226     6698\n",
              "30      6672\n",
              "188     5760\n",
              "48      4847\n",
              "Name: contents_attribute_h_l, dtype: int64"
            ]
          },
          "execution_count": 125,
          "metadata": {},
          "output_type": "execute_result"
        }
      ],
      "source": [
        "train[train.h_s_match_yn==1]['contents_attribute_h_l'].value_counts().nlargest(10)"
      ]
    },
    {
      "cell_type": "code",
      "execution_count": null,
      "metadata": {
        "colab": {
          "base_uri": "https://localhost:8080/"
        },
        "id": "iGdWAzbK6oEd",
        "outputId": "682b77c9-a370-4b39-db5e-6100c26e92f8"
      },
      "outputs": [
        {
          "data": {
            "text/plain": [
              "139    6960\n",
              "288    6178\n",
              "68     5884\n",
              "65     5856\n",
              "127    5606\n",
              "43     5572\n",
              "118    5043\n",
              "109    4384\n",
              "280    4267\n",
              "27     3875\n",
              "Name: contents_attribute_h, dtype: int64"
            ]
          },
          "execution_count": 126,
          "metadata": {},
          "output_type": "execute_result"
        }
      ],
      "source": [
        "train[train.target==1]['contents_attribute_h'].value_counts().nlargest(10)"
      ]
    },
    {
      "cell_type": "code",
      "execution_count": null,
      "metadata": {
        "colab": {
          "base_uri": "https://localhost:8080/"
        },
        "id": "BXk6Vxfk6oEd",
        "outputId": "7a51f6c8-947f-4d1f-f7bb-87ab0e623fcc"
      },
      "outputs": [
        {
          "data": {
            "text/plain": [
              "139    8070\n",
              "288    7252\n",
              "68     5993\n",
              "127    5637\n",
              "43     5446\n",
              "65     5080\n",
              "118    4344\n",
              "109    3940\n",
              "138    3810\n",
              "280    3740\n",
              "Name: contents_attribute_h, dtype: int64"
            ]
          },
          "execution_count": 127,
          "metadata": {},
          "output_type": "execute_result"
        }
      ],
      "source": [
        "train[train.target==0]['contents_attribute_h'].value_counts().nlargest(10)"
      ]
    },
    {
      "cell_type": "code",
      "execution_count": null,
      "metadata": {
        "colab": {
          "base_uri": "https://localhost:8080/"
        },
        "id": "clGSxVTS6oEd",
        "outputId": "8d8bb210-c4f1-4463-a300-508e83fb598d"
      },
      "outputs": [
        {
          "data": {
            "text/plain": [
              "94     120548\n",
              "277     53943\n",
              "30      49515\n",
              "3       48204\n",
              "58      38628\n",
              "250     31035\n",
              "48      28241\n",
              "208     19843\n",
              "188     19523\n",
              "85      18687\n",
              "71      17622\n",
              "169     15654\n",
              "226     13845\n",
              "149     10291\n",
              "78       9616\n",
              "308      4344\n",
              "92       2412\n",
              "Name: contents_attribute_h_l, dtype: int64"
            ]
          },
          "execution_count": 128,
          "metadata": {},
          "output_type": "execute_result"
        }
      ],
      "source": [
        "train['contents_attribute_h_l'].value_counts()"
      ]
    },
    {
      "cell_type": "markdown",
      "metadata": {
        "id": "zWIJK4NpSHsy"
      },
      "source": [
        "## 속성 L"
      ]
    },
    {
      "cell_type": "code",
      "execution_count": null,
      "metadata": {
        "colab": {
          "base_uri": "https://localhost:8080/"
        },
        "id": "Abj_BxKx8PsY",
        "outputId": "07917ac3-c37f-40dc-8f06-d6b0f6f6e3d6"
      },
      "outputs": [
        {
          "data": {
            "text/plain": [
              "2006    219214\n",
              "2010     57894\n",
              "2020     42533\n",
              "2009     42458\n",
              "2017     39593\n",
              "2016     24713\n",
              "2011     13881\n",
              "2019     10472\n",
              "2022      8926\n",
              "2015      8478\n",
              "2013      7835\n",
              "2012      7232\n",
              "2008      6310\n",
              "2021      2868\n",
              "2014      2656\n",
              "2004      2353\n",
              "2007      2101\n",
              "2018      2048\n",
              "2005       319\n",
              "2023        62\n",
              "2024         5\n",
              "Name: contents_attribute_l_l, dtype: int64"
            ]
          },
          "execution_count": 131,
          "metadata": {},
          "output_type": "execute_result"
        }
      ],
      "source": [
        "train['contents_attribute_l_l'].value_counts()"
      ]
    },
    {
      "cell_type": "code",
      "execution_count": null,
      "metadata": {
        "colab": {
          "base_uri": "https://localhost:8080/"
        },
        "id": "ejNA1hcx8c4H",
        "outputId": "12ed1065-0b86-401f-ac44-90c09f172e85"
      },
      "outputs": [
        {
          "data": {
            "text/plain": [
              "2006    108497\n",
              "2010     27519\n",
              "2020     24847\n",
              "2009     20084\n",
              "2017     18726\n",
              "2016     10960\n",
              "2011      6719\n",
              "2019      6258\n",
              "2022      4891\n",
              "2012      4223\n",
              "Name: contents_attribute_l_l, dtype: int64"
            ]
          },
          "execution_count": 133,
          "metadata": {},
          "output_type": "execute_result"
        }
      ],
      "source": [
        "train[train.target==0]['contents_attribute_l_l'].value_counts().nlargest(10)"
      ]
    },
    {
      "cell_type": "code",
      "execution_count": null,
      "metadata": {
        "colab": {
          "base_uri": "https://localhost:8080/"
        },
        "id": "bLgVkTla7YPK",
        "outputId": "0a6e8471-9204-4fdf-ab86-e813d16e1dff"
      },
      "outputs": [
        {
          "data": {
            "text/plain": [
              "2006    110717\n",
              "2010     30375\n",
              "2009     22374\n",
              "2017     20867\n",
              "2020     17686\n",
              "2016     13753\n",
              "2011      7162\n",
              "2015      4621\n",
              "2013      4282\n",
              "2019      4214\n",
              "Name: contents_attribute_l_l, dtype: int64"
            ]
          },
          "execution_count": 132,
          "metadata": {},
          "output_type": "execute_result"
        }
      ],
      "source": [
        "train[train.target==1]['contents_attribute_l_l'].value_counts().nlargest(10)"
      ]
    },
    {
      "cell_type": "markdown",
      "metadata": {
        "id": "Bl3y2ROG6Sz5"
      },
      "source": [
        "### sweetviz 시각화"
      ]
    },
    {
      "cell_type": "code",
      "execution_count": null,
      "metadata": {
        "colab": {
          "base_uri": "https://localhost:8080/"
        },
        "id": "H2E8hatt44g6",
        "outputId": "7ecdb0f9-e1b1-4541-902d-7592095e9412"
      },
      "outputs": [
        {
          "name": "stdout",
          "output_type": "stream",
          "text": [
            "Collecting sweetviz\n",
            "  Downloading sweetviz-2.1.3-py3-none-any.whl (15.1 MB)\n",
            "\u001b[K     |████████████████████████████████| 15.1 MB 5.9 MB/s \n",
            "\u001b[?25hRequirement already satisfied: pandas!=1.0.0,!=1.0.1,!=1.0.2,>=0.25.3 in /usr/local/lib/python3.7/dist-packages (from sweetviz) (1.1.5)\n",
            "Requirement already satisfied: jinja2>=2.11.1 in /usr/local/lib/python3.7/dist-packages (from sweetviz) (2.11.3)\n",
            "Requirement already satisfied: tqdm>=4.43.0 in /usr/local/lib/python3.7/dist-packages (from sweetviz) (4.62.3)\n",
            "Requirement already satisfied: matplotlib>=3.1.3 in /usr/local/lib/python3.7/dist-packages (from sweetviz) (3.2.2)\n",
            "Requirement already satisfied: numpy>=1.16.0 in /usr/local/lib/python3.7/dist-packages (from sweetviz) (1.19.5)\n",
            "Requirement already satisfied: importlib-resources>=1.2.0 in /usr/local/lib/python3.7/dist-packages (from sweetviz) (5.4.0)\n",
            "Requirement already satisfied: scipy>=1.3.2 in /usr/local/lib/python3.7/dist-packages (from sweetviz) (1.4.1)\n",
            "Requirement already satisfied: zipp>=3.1.0 in /usr/local/lib/python3.7/dist-packages (from importlib-resources>=1.2.0->sweetviz) (3.6.0)\n",
            "Requirement already satisfied: MarkupSafe>=0.23 in /usr/local/lib/python3.7/dist-packages (from jinja2>=2.11.1->sweetviz) (2.0.1)\n",
            "Requirement already satisfied: kiwisolver>=1.0.1 in /usr/local/lib/python3.7/dist-packages (from matplotlib>=3.1.3->sweetviz) (1.3.2)\n",
            "Requirement already satisfied: pyparsing!=2.0.4,!=2.1.2,!=2.1.6,>=2.0.1 in /usr/local/lib/python3.7/dist-packages (from matplotlib>=3.1.3->sweetviz) (3.0.6)\n",
            "Requirement already satisfied: python-dateutil>=2.1 in /usr/local/lib/python3.7/dist-packages (from matplotlib>=3.1.3->sweetviz) (2.8.2)\n",
            "Requirement already satisfied: cycler>=0.10 in /usr/local/lib/python3.7/dist-packages (from matplotlib>=3.1.3->sweetviz) (0.11.0)\n",
            "Requirement already satisfied: pytz>=2017.2 in /usr/local/lib/python3.7/dist-packages (from pandas!=1.0.0,!=1.0.1,!=1.0.2,>=0.25.3->sweetviz) (2018.9)\n",
            "Requirement already satisfied: six>=1.5 in /usr/local/lib/python3.7/dist-packages (from python-dateutil>=2.1->matplotlib>=3.1.3->sweetviz) (1.15.0)\n",
            "Installing collected packages: sweetviz\n",
            "Successfully installed sweetviz-2.1.3\n"
          ]
        }
      ],
      "source": [
        "!pip install sweetviz"
      ]
    },
    {
      "cell_type": "code",
      "execution_count": null,
      "metadata": {
        "id": "bfmTKLkpulNI"
      },
      "outputs": [],
      "source": [
        "import sweetviz as sv"
      ]
    },
    {
      "cell_type": "code",
      "execution_count": null,
      "metadata": {
        "colab": {
          "base_uri": "https://localhost:8080/"
        },
        "id": "drUTLOfnulPv",
        "outputId": "bd78580d-6d71-4c30-c80d-249495bb0ca3"
      },
      "outputs": [
        {
          "data": {
            "application/vnd.jupyter.widget-view+json": {
              "model_id": "86af8a69d9354ecd8bde25420bd5b309",
              "version_major": 2,
              "version_minor": 0
            },
            "text/plain": [
              "                                             |          | [  0%]   00:00 -> (? left)"
            ]
          },
          "metadata": {},
          "output_type": "display_data"
        },
        {
          "name": "stdout",
          "output_type": "stream",
          "text": [
            "Report ./sweetviz_Advertising.html was generated! NOTEBOOK/COLAB USERS: the web browser MAY not pop up, regardless, the report IS saved in your notebook/colab files.\n"
          ]
        }
      ],
      "source": [
        "advert_report = sv.analyze(train)\n",
        "#display the report\n",
        "advert_report.show_html('./sweetviz_Advertising.html')"
      ]
    },
    {
      "cell_type": "code",
      "execution_count": null,
      "metadata": {
        "id": "sZST9fjWAQjg"
      },
      "outputs": [],
      "source": [
        "from sklearn.feature_extraction import FeatureHasher"
      ]
    },
    {
      "cell_type": "markdown",
      "metadata": {
        "id": "LYyBENdLJR99"
      },
      "source": [
        "# 변수처리"
      ]
    },
    {
      "cell_type": "markdown",
      "source": [
        "## 카테고리 10개 이하 변수처리"
      ],
      "metadata": {
        "id": "Z2WNooxlLjXi"
      }
    },
    {
      "cell_type": "code",
      "execution_count": 17,
      "metadata": {
        "id": "ltKzijZtqPHQ"
      },
      "outputs": [],
      "source": [
        "col_name = list(X_train.columns)"
      ]
    },
    {
      "cell_type": "code",
      "execution_count": 18,
      "metadata": {
        "colab": {
          "base_uri": "https://localhost:8080/"
        },
        "id": "MmvzkavXqE9W",
        "outputId": "6b4dca02-7de5-417a-e7e8-0d5a61a718a7"
      },
      "outputs": [
        {
          "output_type": "execute_result",
          "data": {
            "text/plain": [
              "[('d_l_match_yn', 2),\n",
              " ('d_m_match_yn', 2),\n",
              " ('d_s_match_yn', 2),\n",
              " ('h_l_match_yn', 2),\n",
              " ('h_m_match_yn', 2),\n",
              " ('h_s_match_yn', 2),\n",
              " ('person_attribute_a', 2),\n",
              " ('contents_attribute_j', 2),\n",
              " ('contents_attribute_k', 2),\n",
              " ('contents_attribute_i', 3),\n",
              " ('contents_attribute_a', 3),\n",
              " ('contents_attribute_c', 4),\n",
              " ('person_prefer_c', 5),\n",
              " ('contents_attribute_m', 5),\n",
              " ('person_attribute_b', 6),\n",
              " ('dayofweek', 7),\n",
              " ('person_attribute_a_1', 8),\n",
              " ('contents_attribute_j_1', 9),\n",
              " ('person_prefer_d_1_l', 11),\n",
              " ('person_prefer_d_2_l', 11),\n",
              " ('person_prefer_d_3_l', 11),\n",
              " ('contents_attribute_d_l', 11),\n",
              " ('month', 11),\n",
              " ('person_prefer_e', 12),\n",
              " ('contents_attribute_e', 12),\n",
              " ('contents_attribute_h_l', 17),\n",
              " ('person_prefer_h_1_l', 19),\n",
              " ('person_prefer_h_2_l', 19),\n",
              " ('person_prefer_h_3_l', 19),\n",
              " ('contents_attribute_l_l', 21),\n",
              " ('hour', 24),\n",
              " ('day', 31),\n",
              " ('person_prefer_d_1_m', 36),\n",
              " ('person_prefer_d_2_m', 36),\n",
              " ('person_prefer_d_3_m', 36),\n",
              " ('contents_attribute_d_m', 36),\n",
              " ('week', 49),\n",
              " ('contents_attribute_l_m', 79),\n",
              " ('person_prefer_d_3_s', 136),\n",
              " ('person_prefer_d_1_s', 137),\n",
              " ('person_prefer_d_2_s', 137),\n",
              " ('contents_attribute_d_s', 137),\n",
              " ('contents_attribute_h_m', 228),\n",
              " ('person_prefer_h_1_m', 246),\n",
              " ('person_prefer_h_2_m', 246),\n",
              " ('person_prefer_h_3_m', 246),\n",
              " ('contents_attribute_h', 250),\n",
              " ('person_prefer_h_1', 279),\n",
              " ('person_prefer_h_2', 279),\n",
              " ('person_prefer_h_3', 279),\n",
              " ('contents_attribute_l_s', 305),\n",
              " ('person_prefer_d_3_n', 420),\n",
              " ('contents_attribute_d_n', 431),\n",
              " ('person_prefer_d_2_n', 435),\n",
              " ('person_prefer_d_1_n', 443),\n",
              " ('contents_attribute_l_n', 736),\n",
              " ('person_prefer_d_3', 1043),\n",
              " ('contents_attribute_d', 1065),\n",
              " ('person_prefer_d_2', 1081),\n",
              " ('person_prefer_d_1', 1093),\n",
              " ('contents_attribute_l', 1752)]"
            ]
          },
          "metadata": {},
          "execution_count": 18
        }
      ],
      "source": [
        "object_nunique = list(map(lambda col: X_train[col].nunique(), col_name))\n",
        "d = dict(zip(col_name, object_nunique))\n",
        "\n",
        "# Print number of unique entries by column, in ascending order\n",
        "sorted(d.items(), key=lambda x: x[1])"
      ]
    },
    {
      "cell_type": "code",
      "execution_count": 19,
      "metadata": {
        "id": "lRvYwM-tqkHn"
      },
      "outputs": [],
      "source": [
        "d = pd.DataFrame([col_name, object_nunique]).T\n",
        "onehot_list = list(d[(d[1]>2)&(d[1]<=10)][0])"
      ]
    },
    {
      "cell_type": "markdown",
      "metadata": {
        "id": "srM7zomgtkGT"
      },
      "source": [
        "#### 범주 갯수가 10개 이하인 변수에 대해서 타겟값이 0.5이상이면 1 아니면 0인 변수 추가\n",
        "\n",
        "#### 범주 갯수가 10개 이하인 변수에 대해서 타겟값이 0.55이상이면 1, 0.45~0.55사이면 2, 0.45 이하이면 3인 변수 추가"
      ]
    },
    {
      "cell_type": "code",
      "execution_count": 20,
      "metadata": {
        "id": "qiJH2bbesflx"
      },
      "outputs": [],
      "source": [
        "df = pd.concat([X_train, y_train], axis=1)\n",
        "df_test = X_test.copy()\n",
        "\n",
        "for col in onehot_list:\n",
        "    temp_df = []\n",
        "        \n",
        "    # 명목형 변수에서 각 값 별로 타겟값의 평균을 대입\n",
        "    feat = df.groupby(col)[\"target\"].agg(\"mean\")\n",
        "    feat = feat.to_dict()\n",
        "    df_test.loc[:, f\"tar_enc_{col}\"] = X_test[col].map(feat)\n",
        "    temp_df.append(df_test)\n",
        "\n",
        "    temp_train_feat = df[col].map(feat)\n",
        "    temp_test_feat = df_test[col].map(feat)\n",
        "\n",
        "    df.loc[:, f\"tar_enc_{col}\"] = temp_train_feat\n",
        "    df_test.loc[:, f\"tar_enc_{col}\"] = temp_test_feat\n",
        "\n",
        "df.drop('target', axis=1, inplace=True)"
      ]
    },
    {
      "cell_type": "code",
      "execution_count": 21,
      "metadata": {
        "id": "XLdDHq2jxkU3"
      },
      "outputs": [],
      "source": [
        "def div_value_2(temp):\n",
        "    new_value = ''\n",
        "\n",
        "    if temp >=0.5 : new_value = 1\n",
        "    else : new_value = 0\n",
        "    \n",
        "    return new_value\n",
        "\n",
        "\n",
        "def div_value_3(temp):\n",
        "    new_value = ''\n",
        "\n",
        "    if temp >=0.55 : new_value = 1\n",
        "    elif temp <=0.45 : new_value = -1\n",
        "    else : new_value = 0\n",
        "    \n",
        "    return new_value"
      ]
    },
    {
      "cell_type": "code",
      "execution_count": 22,
      "metadata": {
        "id": "blQzzG_x2JVx"
      },
      "outputs": [],
      "source": [
        "div_value = list(df.iloc[:,X_train.shape[1]:X_train.shape[1]+abs(X_train.shape[1] - df.shape[1])].columns)\n",
        "\n",
        "for i in range(len(div_value)):\n",
        "  X_train.loc[:, f\"tar_div2_{onehot_list[i]}\"] = df.loc[:,div_value[i]].apply(lambda x : div_value_2(x))\n",
        "  X_test.loc[:, f\"tar_div2_{onehot_list[i]}\"] = df_test.loc[:, div_value[i]].apply(lambda x : div_value_2(x))\n",
        "  \n",
        "for i in range(len(div_value)):\n",
        "  X_train.loc[:, f\"tar_div3_{onehot_list[i]}\"] = df.loc[:, div_value[i]].apply(lambda x : div_value_3(x))\n",
        "  X_test.loc[:, f\"tar_div3_{onehot_list[i]}\"] = df_test.loc[:, div_value[i]].apply(lambda x : div_value_3(x))"
      ]
    },
    {
      "cell_type": "code",
      "execution_count": 23,
      "metadata": {
        "id": "rB8zM98l4mxw"
      },
      "outputs": [],
      "source": [
        "drop_feature = X_train.columns[X_train.nunique() < 2].tolist()"
      ]
    },
    {
      "cell_type": "code",
      "execution_count": 24,
      "metadata": {
        "id": "3Fc4Tign5Bts"
      },
      "outputs": [],
      "source": [
        "X_train.drop(drop_feature,axis=1, inplace=True)\n",
        "X_test.drop(drop_feature,axis=1, inplace=True)"
      ]
    },
    {
      "cell_type": "markdown",
      "source": [
        "## 카테고리 10개 초과 변수 처리"
      ],
      "metadata": {
        "id": "GtxDxy_uL3rm"
      }
    },
    {
      "cell_type": "code",
      "source": [
        "up10_cat = list(d[d[1]>10][0])"
      ],
      "metadata": {
        "id": "jLLV4FTSL98A"
      },
      "execution_count": 25,
      "outputs": []
    },
    {
      "cell_type": "code",
      "source": [
        "train_up = df[up10_cat]\n",
        "test_up  = X_test[up10_cat]\n",
        "\n",
        "train_up['target'] = y_train"
      ],
      "metadata": {
        "id": "BRsf1Si7L9-h"
      },
      "execution_count": 26,
      "outputs": []
    },
    {
      "cell_type": "code",
      "source": [
        "train_1 = train_up[train_up['target']==1]\n",
        "train_0 = train_up[train_up['target']==0]"
      ],
      "metadata": {
        "id": "DcXslwwwL-BF"
      },
      "execution_count": 27,
      "outputs": []
    },
    {
      "cell_type": "code",
      "source": [
        "# 타겟의 비율 0.5%이상 차이나는 카테고리 구하기\n",
        "list_diff=[]\n",
        "for i in up10_cat[:-1]:\n",
        "  serise=abs((train_1[i].value_counts()/train_1[i].shape[0])*100 - (train_0[i].value_counts()/train_0[i].shape[0])*100)\n",
        "  temp_list=serise[serise>=0.5].index.tolist()\n",
        "  list_diff.append(temp_list)\n",
        "\n",
        "# 0.5차이 나는 값이 1개 이상인 카테고리 딕셔너리로 담기 / 0.5 차이가 나는 변수가 하나인 컬럼은 dict에서 제외\n",
        "dict1 = {up10_cat[i]:list_diff[i] for i in range(len(up10_cat[:-1])) if len(list_diff[i])>1 }"
      ],
      "metadata": {
        "id": "F-CWaVUzL-Dl"
      },
      "execution_count": 28,
      "outputs": []
    },
    {
      "cell_type": "code",
      "source": [
        "# 컬럼 추가\n",
        "for data in [train_up,test_up]:\n",
        "  for key,values in dict1.items():\n",
        "    data.loc[:, f\"tar_enc_1_10_div_{key}\"] = 0\n",
        "    for i in values:\n",
        "      con=data[data[key]==i].index\n",
        "      data.loc[con, f\"tar_enc_1_10_div_{key}\"] = 1"
      ],
      "metadata": {
        "id": "i_BIlE_CL-Ge"
      },
      "execution_count": 29,
      "outputs": []
    },
    {
      "cell_type": "code",
      "source": [
        "#기존의 0.5이상인 컬럼 값은 들고오고, 이하인것만 0으로 된 컬럼 추가\n",
        "for data in [train_up,test_up]:\n",
        "  for key,values in dict1.items():\n",
        "    data.loc[:, f\"tar_enc_2_10_div_{key}\"] = 0\n",
        "    for i in values:\n",
        "      con=data[data[key]==i].index\n",
        "      data.loc[con, f\"tar_enc_2_10_div_{key}\"] = i"
      ],
      "metadata": {
        "id": "foUhhoBIMLlA"
      },
      "execution_count": 30,
      "outputs": []
    },
    {
      "cell_type": "code",
      "source": [
        "X_train = pd.concat([X_train, train_up.iloc[:,44:]], axis=1)\n",
        "X_test = pd.concat([X_test, test_up.iloc[:,43:]], axis=1)"
      ],
      "metadata": {
        "id": "9HQxLarlOwA1"
      },
      "execution_count": 31,
      "outputs": []
    },
    {
      "cell_type": "markdown",
      "metadata": {
        "id": "iQkSb3QI3NAR"
      },
      "source": [
        "## 비지도학습으로 데이터 그룹 변수 추가"
      ]
    },
    {
      "cell_type": "code",
      "source": [
        "kmeans = KMeans(n_clusters=5, random_state=42).fit(X_train)\n",
        "X_train['cluster_5'] = kmeans.predict(X_train)\n",
        "X_test['cluster_5'] = kmeans.predict(X_test)"
      ],
      "metadata": {
        "id": "rawLhWXx7g0-"
      },
      "execution_count": 32,
      "outputs": []
    },
    {
      "cell_type": "code",
      "source": [
        "kmeans = KMeans(n_clusters=10, random_state=42).fit(X_train)\n",
        "X_train['cluster_10'] = kmeans.predict(X_train)\n",
        "X_test['cluster_10'] = kmeans.predict(X_test)"
      ],
      "metadata": {
        "id": "54QcjKPw7hCy"
      },
      "execution_count": 33,
      "outputs": []
    },
    {
      "cell_type": "code",
      "source": [
        "kmeans = KMeans(n_clusters=20, random_state=42).fit(X_train)\n",
        "X_train['cluster_20'] = kmeans.predict(X_train)\n",
        "X_test['cluster_20'] = kmeans.predict(X_test)"
      ],
      "metadata": {
        "id": "6f93xOYZ7iR9"
      },
      "execution_count": 34,
      "outputs": []
    },
    {
      "cell_type": "code",
      "source": [
        "kmeans = KMeans(n_clusters=30, random_state=42).fit(X_train)\n",
        "X_train['cluster_30'] = kmeans.predict(X_train)\n",
        "X_test['cluster_30'] = kmeans.predict(X_test)"
      ],
      "metadata": {
        "id": "m7pTkloF7iVX"
      },
      "execution_count": 35,
      "outputs": []
    },
    {
      "cell_type": "code",
      "source": [
        "kmeans = KMeans(n_clusters=40, random_state=42).fit(X_train)\n",
        "X_train['cluster_40'] = kmeans.predict(X_train)\n",
        "X_test['cluster_40'] = kmeans.predict(X_test)"
      ],
      "metadata": {
        "id": "huHmzjy67oLb"
      },
      "execution_count": 36,
      "outputs": []
    },
    {
      "cell_type": "code",
      "source": [
        "kmeans = KMeans(n_clusters=50, random_state=42).fit(X_train)\n",
        "X_train['cluster_50'] = kmeans.predict(X_train)\n",
        "X_test['cluster_50'] = kmeans.predict(X_test)"
      ],
      "metadata": {
        "id": "J49NRMH25QzE"
      },
      "execution_count": 37,
      "outputs": []
    },
    {
      "cell_type": "code",
      "source": [
        "X_train.to_csv(path + \"X_train_last.csv\", index=False)\n",
        "X_test.to_csv(path + \"X_test_last.csv\", index=False)"
      ],
      "metadata": {
        "id": "RUd4-6o3CI-0"
      },
      "execution_count": null,
      "outputs": []
    },
    {
      "cell_type": "markdown",
      "metadata": {
        "id": "DK5treqKfNji"
      },
      "source": [
        "#EDA"
      ]
    },
    {
      "cell_type": "code",
      "execution_count": null,
      "metadata": {
        "id": "LOv46kE4fKyy"
      },
      "outputs": [],
      "source": [
        "X_train_hash=X_train.copy()\n",
        "X_test_hash=X_test.copy()\n",
        "\n",
        "for i in range(X_train.shape[1]):\n",
        "    X_train_hash.iloc[:,i]=X_train.iloc[:,i].astype('str')      \n",
        "    X_test_hash.iloc[:,i]=X_test.iloc[:,i].astype('str')  \n",
        "hashing = FeatureHasher(input_type='string')\n",
        "X_train_hash = hashing.transform(X_train_hash.values)\n",
        "X_test_hash = hashing.transform(X_test_hash.values)"
      ]
    },
    {
      "cell_type": "code",
      "execution_count": null,
      "metadata": {
        "id": "vNVWwdvtmlMg"
      },
      "outputs": [],
      "source": [
        "X_train_onehot=X_train.copy()\n",
        "X_test_onehot=X_test.copy()\n",
        "\n",
        "for i in range(X_train.shape[1]):\n",
        "    X_train_onehot.iloc[:,i]=X_train.iloc[:,i].astype('str')      \n",
        "    X_test_onehot.iloc[:,i]=X_test.iloc[:,i].astype('str')     "
      ]
    },
    {
      "cell_type": "code",
      "execution_count": null,
      "metadata": {
        "id": "zRkXiAWEpi_N"
      },
      "outputs": [],
      "source": [
        "oneH = OneHotEncoder()\n",
        "X_train_onehot = oneH.fit_transform(X_train_onehot)"
      ]
    },
    {
      "cell_type": "code",
      "execution_count": null,
      "metadata": {
        "colab": {
          "base_uri": "https://localhost:8080/"
        },
        "id": "0rAsdUEslW5g",
        "outputId": "72f3f98c-31be-4429-92ff-e71d92b2d641"
      },
      "outputs": [
        {
          "data": {
            "text/plain": [
              "0.6172796508657897"
            ]
          },
          "execution_count": 97,
          "metadata": {},
          "output_type": "execute_result"
        }
      ],
      "source": [
        "# 기존 데이터\n",
        "model = LGBMClassifier(\n",
        "        random_state=42,\n",
        "        n_jobs=-1)\n",
        "\n",
        "cross_val_score(model, X_train, y_train, cv=5, scoring = 'f1', n_jobs=-1).mean()"
      ]
    },
    {
      "cell_type": "code",
      "execution_count": null,
      "metadata": {
        "colab": {
          "base_uri": "https://localhost:8080/"
        },
        "id": "jlIVRIXBphe-",
        "outputId": "e3e8716c-6df2-4e55-d0c7-9183535c7ee3"
      },
      "outputs": [
        {
          "data": {
            "text/plain": [
              "0.6174978294350812"
            ]
          },
          "execution_count": 30,
          "metadata": {},
          "output_type": "execute_result"
        }
      ],
      "source": [
        "# D, H, L 속성 LabelEncoding\n",
        "model = LGBMClassifier(\n",
        "        random_state=42,\n",
        "        n_jobs=-1)\n",
        "\n",
        "cross_val_score(model, X_train, y_train, cv=5, scoring = 'f1', n_jobs=-1).mean()"
      ]
    },
    {
      "cell_type": "code",
      "execution_count": null,
      "metadata": {
        "colab": {
          "base_uri": "https://localhost:8080/"
        },
        "id": "EwNdcmaDguNa",
        "outputId": "14de04c2-c40b-445e-9d84-34e67a5aced7"
      },
      "outputs": [
        {
          "data": {
            "text/plain": [
              "0.5913334041123397"
            ]
          },
          "execution_count": 96,
          "metadata": {},
          "output_type": "execute_result"
        }
      ],
      "source": [
        "# FeatureHasher\n",
        "model = LGBMClassifier(\n",
        "        random_state=42,\n",
        "        n_jobs=-1)\n",
        "\n",
        "cross_val_score(model, X_train_hash, y_train, cv=5, scoring = 'f1', n_jobs=-1).mean()"
      ]
    },
    {
      "cell_type": "code",
      "execution_count": null,
      "metadata": {
        "colab": {
          "base_uri": "https://localhost:8080/"
        },
        "id": "-KfBmP2TnrvU",
        "outputId": "ccbfa752-a0a6-4f33-f62e-2d836d8544b8"
      },
      "outputs": [
        {
          "data": {
            "text/plain": [
              "0.6089657380855458"
            ]
          },
          "execution_count": 17,
          "metadata": {},
          "output_type": "execute_result"
        }
      ],
      "source": [
        "# OneHotEncoding\n",
        "model = LGBMClassifier(\n",
        "        random_state=42,\n",
        "        n_jobs=-1)\n",
        "\n",
        "cross_val_score(model, X_train_onehot, y_train, cv=5, scoring = 'f1', n_jobs=-1).mean()"
      ]
    },
    {
      "cell_type": "markdown",
      "metadata": {
        "id": "eVRZ2QRxmZP6"
      },
      "source": [
        "FeatureHasher 이건 아닌듯"
      ]
    },
    {
      "cell_type": "markdown",
      "metadata": {
        "id": "Cj3XNhvCz0Xz"
      },
      "source": [
        "# Model (Catboost)"
      ]
    },
    {
      "cell_type": "code",
      "execution_count": null,
      "metadata": {
        "colab": {
          "base_uri": "https://localhost:8080/"
        },
        "id": "LlYOgGRaQKG4",
        "outputId": "ed180912-864c-460c-ac40-15bbce126182"
      },
      "outputs": [
        {
          "name": "stdout",
          "output_type": "stream",
          "text": [
            "Learning rate set to 0.023946\n",
            "0:\tlearn: 0.6208178\ttotal: 31.8ms\tremaining: 31.8s\n",
            "1:\tlearn: 0.6208399\ttotal: 60.2ms\tremaining: 30s\n",
            "2:\tlearn: 0.5804360\ttotal: 87.7ms\tremaining: 29.1s\n",
            "3:\tlearn: 0.5992765\ttotal: 119ms\tremaining: 29.8s\n",
            "4:\tlearn: 0.6198778\ttotal: 147ms\tremaining: 29.3s\n",
            "5:\tlearn: 0.6170347\ttotal: 176ms\tremaining: 29.1s\n",
            "6:\tlearn: 0.6053132\ttotal: 204ms\tremaining: 29s\n",
            "7:\tlearn: 0.6143202\ttotal: 239ms\tremaining: 29.7s\n",
            "8:\tlearn: 0.6171703\ttotal: 268ms\tremaining: 29.5s\n",
            "9:\tlearn: 0.6185076\ttotal: 306ms\tremaining: 30.3s\n",
            "10:\tlearn: 0.6144278\ttotal: 334ms\tremaining: 30.1s\n",
            "11:\tlearn: 0.6166647\ttotal: 362ms\tremaining: 29.8s\n",
            "12:\tlearn: 0.5963827\ttotal: 389ms\tremaining: 29.6s\n",
            "13:\tlearn: 0.6150622\ttotal: 417ms\tremaining: 29.4s\n",
            "14:\tlearn: 0.5933797\ttotal: 455ms\tremaining: 29.9s\n",
            "15:\tlearn: 0.5963806\ttotal: 482ms\tremaining: 29.6s\n",
            "16:\tlearn: 0.5987368\ttotal: 510ms\tremaining: 29.5s\n",
            "17:\tlearn: 0.5975641\ttotal: 538ms\tremaining: 29.3s\n",
            "18:\tlearn: 0.6157741\ttotal: 566ms\tremaining: 29.2s\n",
            "19:\tlearn: 0.6049877\ttotal: 593ms\tremaining: 29.1s\n",
            "20:\tlearn: 0.6154228\ttotal: 621ms\tremaining: 28.9s\n",
            "21:\tlearn: 0.6160578\ttotal: 649ms\tremaining: 28.8s\n",
            "22:\tlearn: 0.6151888\ttotal: 681ms\tremaining: 28.9s\n",
            "23:\tlearn: 0.6160329\ttotal: 714ms\tremaining: 29s\n",
            "24:\tlearn: 0.6167880\ttotal: 741ms\tremaining: 28.9s\n",
            "25:\tlearn: 0.6170460\ttotal: 769ms\tremaining: 28.8s\n",
            "26:\tlearn: 0.6170344\ttotal: 798ms\tremaining: 28.7s\n",
            "27:\tlearn: 0.6169658\ttotal: 829ms\tremaining: 28.8s\n",
            "28:\tlearn: 0.6183905\ttotal: 858ms\tremaining: 28.7s\n",
            "29:\tlearn: 0.6185086\ttotal: 891ms\tremaining: 28.8s\n",
            "30:\tlearn: 0.6188726\ttotal: 919ms\tremaining: 28.7s\n",
            "31:\tlearn: 0.6190861\ttotal: 955ms\tremaining: 28.9s\n",
            "32:\tlearn: 0.6193543\ttotal: 984ms\tremaining: 28.8s\n",
            "33:\tlearn: 0.6190304\ttotal: 1.01s\tremaining: 28.8s\n",
            "34:\tlearn: 0.6185020\ttotal: 1.04s\tremaining: 28.7s\n",
            "35:\tlearn: 0.6188642\ttotal: 1.07s\tremaining: 28.6s\n",
            "36:\tlearn: 0.6188095\ttotal: 1.1s\tremaining: 28.7s\n",
            "37:\tlearn: 0.6186950\ttotal: 1.13s\tremaining: 28.6s\n",
            "38:\tlearn: 0.6186583\ttotal: 1.16s\tremaining: 28.5s\n",
            "39:\tlearn: 0.6185311\ttotal: 1.19s\tremaining: 28.5s\n",
            "40:\tlearn: 0.6181356\ttotal: 1.21s\tremaining: 28.4s\n",
            "41:\tlearn: 0.6168772\ttotal: 1.24s\tremaining: 28.3s\n",
            "42:\tlearn: 0.6173737\ttotal: 1.27s\tremaining: 28.3s\n",
            "43:\tlearn: 0.6169576\ttotal: 1.31s\tremaining: 28.6s\n",
            "44:\tlearn: 0.6171389\ttotal: 1.34s\tremaining: 28.6s\n",
            "45:\tlearn: 0.6167975\ttotal: 1.37s\tremaining: 28.5s\n",
            "46:\tlearn: 0.6166863\ttotal: 1.4s\tremaining: 28.4s\n",
            "47:\tlearn: 0.6162886\ttotal: 1.43s\tremaining: 28.4s\n",
            "48:\tlearn: 0.6160555\ttotal: 1.46s\tremaining: 28.4s\n",
            "49:\tlearn: 0.6158426\ttotal: 1.49s\tremaining: 28.3s\n",
            "50:\tlearn: 0.6155936\ttotal: 1.53s\tremaining: 28.4s\n",
            "51:\tlearn: 0.6158868\ttotal: 1.55s\tremaining: 28.3s\n",
            "52:\tlearn: 0.6156307\ttotal: 1.58s\tremaining: 28.3s\n",
            "53:\tlearn: 0.6157135\ttotal: 1.61s\tremaining: 28.2s\n",
            "54:\tlearn: 0.6152246\ttotal: 1.64s\tremaining: 28.1s\n",
            "55:\tlearn: 0.6150946\ttotal: 1.66s\tremaining: 28s\n",
            "56:\tlearn: 0.6156501\ttotal: 1.69s\tremaining: 28s\n",
            "57:\tlearn: 0.6153734\ttotal: 1.72s\tremaining: 27.9s\n",
            "58:\tlearn: 0.6153472\ttotal: 1.75s\tremaining: 27.9s\n",
            "59:\tlearn: 0.6151623\ttotal: 1.78s\tremaining: 27.9s\n",
            "60:\tlearn: 0.6150149\ttotal: 1.81s\tremaining: 27.9s\n",
            "61:\tlearn: 0.6150872\ttotal: 1.84s\tremaining: 27.8s\n",
            "62:\tlearn: 0.6149823\ttotal: 1.86s\tremaining: 27.7s\n",
            "63:\tlearn: 0.6149193\ttotal: 1.89s\tremaining: 27.7s\n",
            "64:\tlearn: 0.6147784\ttotal: 1.92s\tremaining: 27.6s\n",
            "65:\tlearn: 0.6144816\ttotal: 1.94s\tremaining: 27.5s\n",
            "66:\tlearn: 0.6142060\ttotal: 1.98s\tremaining: 27.5s\n",
            "67:\tlearn: 0.6142161\ttotal: 2.01s\tremaining: 27.5s\n",
            "68:\tlearn: 0.6142241\ttotal: 2.04s\tremaining: 27.5s\n",
            "69:\tlearn: 0.6135438\ttotal: 2.06s\tremaining: 27.4s\n",
            "70:\tlearn: 0.6131415\ttotal: 2.09s\tremaining: 27.4s\n",
            "71:\tlearn: 0.6132796\ttotal: 2.12s\tremaining: 27.3s\n",
            "72:\tlearn: 0.6129632\ttotal: 2.14s\tremaining: 27.2s\n",
            "73:\tlearn: 0.6132067\ttotal: 2.17s\tremaining: 27.2s\n",
            "74:\tlearn: 0.6134149\ttotal: 2.2s\tremaining: 27.2s\n",
            "75:\tlearn: 0.6129475\ttotal: 2.23s\tremaining: 27.1s\n",
            "76:\tlearn: 0.6131402\ttotal: 2.26s\tremaining: 27.1s\n",
            "77:\tlearn: 0.6136381\ttotal: 2.28s\tremaining: 27s\n",
            "78:\tlearn: 0.6134089\ttotal: 2.33s\tremaining: 27.1s\n",
            "79:\tlearn: 0.6133412\ttotal: 2.35s\tremaining: 27.1s\n",
            "80:\tlearn: 0.6133729\ttotal: 2.38s\tremaining: 27s\n",
            "81:\tlearn: 0.6134004\ttotal: 2.42s\tremaining: 27.1s\n",
            "82:\tlearn: 0.6137124\ttotal: 2.44s\tremaining: 27s\n",
            "83:\tlearn: 0.6136329\ttotal: 2.48s\tremaining: 27s\n",
            "84:\tlearn: 0.6132768\ttotal: 2.5s\tremaining: 27s\n",
            "85:\tlearn: 0.6132328\ttotal: 2.53s\tremaining: 26.9s\n",
            "86:\tlearn: 0.6133165\ttotal: 2.56s\tremaining: 26.8s\n",
            "87:\tlearn: 0.6135541\ttotal: 2.59s\tremaining: 26.8s\n",
            "88:\tlearn: 0.6133948\ttotal: 2.62s\tremaining: 26.8s\n",
            "89:\tlearn: 0.6132076\ttotal: 2.65s\tremaining: 26.8s\n",
            "90:\tlearn: 0.6132803\ttotal: 2.68s\tremaining: 26.7s\n",
            "91:\tlearn: 0.6136019\ttotal: 2.71s\tremaining: 26.8s\n",
            "92:\tlearn: 0.6137880\ttotal: 2.74s\tremaining: 26.7s\n",
            "93:\tlearn: 0.6136532\ttotal: 2.77s\tremaining: 26.7s\n",
            "94:\tlearn: 0.6137650\ttotal: 2.79s\tremaining: 26.6s\n",
            "95:\tlearn: 0.6137042\ttotal: 2.83s\tremaining: 26.6s\n",
            "96:\tlearn: 0.6135963\ttotal: 2.85s\tremaining: 26.6s\n",
            "97:\tlearn: 0.6134449\ttotal: 2.88s\tremaining: 26.5s\n",
            "98:\tlearn: 0.6136911\ttotal: 2.91s\tremaining: 26.5s\n",
            "99:\tlearn: 0.6138331\ttotal: 2.94s\tremaining: 26.5s\n",
            "100:\tlearn: 0.6139432\ttotal: 2.97s\tremaining: 26.5s\n",
            "101:\tlearn: 0.6138084\ttotal: 3s\tremaining: 26.4s\n",
            "102:\tlearn: 0.6137200\ttotal: 3.03s\tremaining: 26.4s\n",
            "103:\tlearn: 0.6135434\ttotal: 3.06s\tremaining: 26.4s\n",
            "104:\tlearn: 0.6134627\ttotal: 3.09s\tremaining: 26.3s\n",
            "105:\tlearn: 0.6132951\ttotal: 3.11s\tremaining: 26.3s\n",
            "106:\tlearn: 0.6133558\ttotal: 3.14s\tremaining: 26.2s\n",
            "107:\tlearn: 0.6132551\ttotal: 3.17s\tremaining: 26.2s\n",
            "108:\tlearn: 0.6134970\ttotal: 3.21s\tremaining: 26.2s\n",
            "109:\tlearn: 0.6133969\ttotal: 3.24s\tremaining: 26.2s\n",
            "110:\tlearn: 0.6132989\ttotal: 3.27s\tremaining: 26.2s\n",
            "111:\tlearn: 0.6134767\ttotal: 3.3s\tremaining: 26.1s\n",
            "112:\tlearn: 0.6134780\ttotal: 3.33s\tremaining: 26.1s\n",
            "113:\tlearn: 0.6138089\ttotal: 3.36s\tremaining: 26.1s\n",
            "114:\tlearn: 0.6137773\ttotal: 3.38s\tremaining: 26s\n",
            "115:\tlearn: 0.6138387\ttotal: 3.41s\tremaining: 26s\n",
            "116:\tlearn: 0.6139505\ttotal: 3.45s\tremaining: 26s\n",
            "117:\tlearn: 0.6140180\ttotal: 3.48s\tremaining: 26s\n",
            "118:\tlearn: 0.6142836\ttotal: 3.5s\tremaining: 26s\n",
            "119:\tlearn: 0.6142328\ttotal: 3.53s\tremaining: 25.9s\n",
            "120:\tlearn: 0.6140593\ttotal: 3.56s\tremaining: 25.9s\n",
            "121:\tlearn: 0.6141315\ttotal: 3.59s\tremaining: 25.8s\n",
            "122:\tlearn: 0.6140822\ttotal: 3.61s\tremaining: 25.8s\n",
            "123:\tlearn: 0.6141206\ttotal: 3.65s\tremaining: 25.8s\n",
            "124:\tlearn: 0.6142916\ttotal: 3.68s\tremaining: 25.7s\n",
            "125:\tlearn: 0.6144141\ttotal: 3.71s\tremaining: 25.7s\n",
            "126:\tlearn: 0.6145838\ttotal: 3.74s\tremaining: 25.7s\n",
            "127:\tlearn: 0.6144609\ttotal: 3.77s\tremaining: 25.7s\n",
            "128:\tlearn: 0.6144571\ttotal: 3.79s\tremaining: 25.6s\n",
            "129:\tlearn: 0.6143928\ttotal: 3.82s\tremaining: 25.6s\n",
            "130:\tlearn: 0.6143786\ttotal: 3.85s\tremaining: 25.6s\n",
            "131:\tlearn: 0.6144631\ttotal: 3.88s\tremaining: 25.5s\n",
            "132:\tlearn: 0.6144942\ttotal: 3.91s\tremaining: 25.5s\n",
            "133:\tlearn: 0.6145450\ttotal: 3.93s\tremaining: 25.4s\n",
            "134:\tlearn: 0.6146349\ttotal: 3.96s\tremaining: 25.4s\n",
            "135:\tlearn: 0.6148058\ttotal: 3.99s\tremaining: 25.4s\n",
            "136:\tlearn: 0.6149811\ttotal: 4.02s\tremaining: 25.3s\n",
            "137:\tlearn: 0.6151344\ttotal: 4.05s\tremaining: 25.3s\n",
            "138:\tlearn: 0.6151452\ttotal: 4.1s\tremaining: 25.4s\n",
            "139:\tlearn: 0.6151902\ttotal: 4.13s\tremaining: 25.3s\n",
            "140:\tlearn: 0.6152263\ttotal: 4.15s\tremaining: 25.3s\n",
            "141:\tlearn: 0.6153044\ttotal: 4.18s\tremaining: 25.3s\n",
            "142:\tlearn: 0.6152695\ttotal: 4.21s\tremaining: 25.2s\n",
            "143:\tlearn: 0.6153435\ttotal: 4.24s\tremaining: 25.2s\n",
            "144:\tlearn: 0.6154880\ttotal: 4.27s\tremaining: 25.2s\n",
            "145:\tlearn: 0.6155597\ttotal: 4.29s\tremaining: 25.1s\n",
            "146:\tlearn: 0.6157451\ttotal: 4.33s\tremaining: 25.1s\n",
            "147:\tlearn: 0.6158182\ttotal: 4.36s\tremaining: 25.1s\n",
            "148:\tlearn: 0.6158318\ttotal: 4.39s\tremaining: 25.1s\n",
            "149:\tlearn: 0.6157006\ttotal: 4.42s\tremaining: 25s\n",
            "150:\tlearn: 0.6157844\ttotal: 4.45s\tremaining: 25s\n",
            "151:\tlearn: 0.6158317\ttotal: 4.48s\tremaining: 25s\n",
            "152:\tlearn: 0.6159871\ttotal: 4.51s\tremaining: 25s\n",
            "153:\tlearn: 0.6159391\ttotal: 4.54s\tremaining: 24.9s\n",
            "154:\tlearn: 0.6159675\ttotal: 4.57s\tremaining: 24.9s\n",
            "155:\tlearn: 0.6158932\ttotal: 4.59s\tremaining: 24.8s\n",
            "156:\tlearn: 0.6159294\ttotal: 4.62s\tremaining: 24.8s\n",
            "157:\tlearn: 0.6161614\ttotal: 4.65s\tremaining: 24.8s\n",
            "158:\tlearn: 0.6161918\ttotal: 4.68s\tremaining: 24.8s\n",
            "159:\tlearn: 0.6162716\ttotal: 4.71s\tremaining: 24.7s\n",
            "160:\tlearn: 0.6163478\ttotal: 4.74s\tremaining: 24.7s\n",
            "161:\tlearn: 0.6163181\ttotal: 4.77s\tremaining: 24.7s\n",
            "162:\tlearn: 0.6163555\ttotal: 4.79s\tremaining: 24.6s\n",
            "163:\tlearn: 0.6163309\ttotal: 4.83s\tremaining: 24.6s\n",
            "164:\tlearn: 0.6165575\ttotal: 4.86s\tremaining: 24.6s\n",
            "165:\tlearn: 0.6165470\ttotal: 4.88s\tremaining: 24.5s\n",
            "166:\tlearn: 0.6165840\ttotal: 4.92s\tremaining: 24.5s\n",
            "167:\tlearn: 0.6166045\ttotal: 4.94s\tremaining: 24.5s\n",
            "168:\tlearn: 0.6166173\ttotal: 4.98s\tremaining: 24.5s\n",
            "169:\tlearn: 0.6166332\ttotal: 5.01s\tremaining: 24.5s\n",
            "170:\tlearn: 0.6168975\ttotal: 5.04s\tremaining: 24.4s\n",
            "171:\tlearn: 0.6169810\ttotal: 5.07s\tremaining: 24.4s\n",
            "172:\tlearn: 0.6170144\ttotal: 5.09s\tremaining: 24.4s\n",
            "173:\tlearn: 0.6171245\ttotal: 5.12s\tremaining: 24.3s\n",
            "174:\tlearn: 0.6172598\ttotal: 5.15s\tremaining: 24.3s\n",
            "175:\tlearn: 0.6171397\ttotal: 5.19s\tremaining: 24.3s\n",
            "176:\tlearn: 0.6170376\ttotal: 5.21s\tremaining: 24.3s\n",
            "177:\tlearn: 0.6171863\ttotal: 5.24s\tremaining: 24.2s\n",
            "178:\tlearn: 0.6172319\ttotal: 5.27s\tremaining: 24.2s\n",
            "179:\tlearn: 0.6172841\ttotal: 5.29s\tremaining: 24.1s\n",
            "180:\tlearn: 0.6173533\ttotal: 5.32s\tremaining: 24.1s\n",
            "181:\tlearn: 0.6173138\ttotal: 5.36s\tremaining: 24.1s\n",
            "182:\tlearn: 0.6172868\ttotal: 5.4s\tremaining: 24.1s\n",
            "183:\tlearn: 0.6174022\ttotal: 5.43s\tremaining: 24.1s\n",
            "184:\tlearn: 0.6174095\ttotal: 5.46s\tremaining: 24s\n",
            "185:\tlearn: 0.6175030\ttotal: 5.48s\tremaining: 24s\n",
            "186:\tlearn: 0.6174955\ttotal: 5.51s\tremaining: 24s\n",
            "187:\tlearn: 0.6174314\ttotal: 5.54s\tremaining: 23.9s\n",
            "188:\tlearn: 0.6176068\ttotal: 5.57s\tremaining: 23.9s\n",
            "189:\tlearn: 0.6178162\ttotal: 5.59s\tremaining: 23.9s\n",
            "190:\tlearn: 0.6178880\ttotal: 5.63s\tremaining: 23.9s\n",
            "191:\tlearn: 0.6179273\ttotal: 5.66s\tremaining: 23.8s\n",
            "192:\tlearn: 0.6179337\ttotal: 5.69s\tremaining: 23.8s\n",
            "193:\tlearn: 0.6179913\ttotal: 5.71s\tremaining: 23.7s\n",
            "194:\tlearn: 0.6180941\ttotal: 5.74s\tremaining: 23.7s\n",
            "195:\tlearn: 0.6181773\ttotal: 5.77s\tremaining: 23.7s\n",
            "196:\tlearn: 0.6183513\ttotal: 5.79s\tremaining: 23.6s\n",
            "197:\tlearn: 0.6184269\ttotal: 5.82s\tremaining: 23.6s\n",
            "198:\tlearn: 0.6185097\ttotal: 5.86s\tremaining: 23.6s\n",
            "199:\tlearn: 0.6186168\ttotal: 5.88s\tremaining: 23.5s\n",
            "200:\tlearn: 0.6187568\ttotal: 5.91s\tremaining: 23.5s\n",
            "201:\tlearn: 0.6187805\ttotal: 5.94s\tremaining: 23.5s\n",
            "202:\tlearn: 0.6188149\ttotal: 5.96s\tremaining: 23.4s\n",
            "203:\tlearn: 0.6188448\ttotal: 5.99s\tremaining: 23.4s\n",
            "204:\tlearn: 0.6187855\ttotal: 6.02s\tremaining: 23.3s\n",
            "205:\tlearn: 0.6187539\ttotal: 6.05s\tremaining: 23.3s\n",
            "206:\tlearn: 0.6189207\ttotal: 6.09s\tremaining: 23.3s\n",
            "207:\tlearn: 0.6189217\ttotal: 6.11s\tremaining: 23.3s\n",
            "208:\tlearn: 0.6189516\ttotal: 6.14s\tremaining: 23.2s\n",
            "209:\tlearn: 0.6190134\ttotal: 6.17s\tremaining: 23.2s\n",
            "210:\tlearn: 0.6189255\ttotal: 6.2s\tremaining: 23.2s\n",
            "211:\tlearn: 0.6190622\ttotal: 6.22s\tremaining: 23.1s\n",
            "212:\tlearn: 0.6191618\ttotal: 6.25s\tremaining: 23.1s\n",
            "213:\tlearn: 0.6193108\ttotal: 6.27s\tremaining: 23s\n",
            "214:\tlearn: 0.6194377\ttotal: 6.31s\tremaining: 23s\n",
            "215:\tlearn: 0.6195085\ttotal: 6.33s\tremaining: 23s\n",
            "216:\tlearn: 0.6195408\ttotal: 6.37s\tremaining: 23s\n",
            "217:\tlearn: 0.6195728\ttotal: 6.4s\tremaining: 23s\n",
            "218:\tlearn: 0.6194936\ttotal: 6.42s\tremaining: 22.9s\n",
            "219:\tlearn: 0.6197017\ttotal: 6.45s\tremaining: 22.9s\n",
            "220:\tlearn: 0.6196739\ttotal: 6.48s\tremaining: 22.9s\n",
            "221:\tlearn: 0.6198570\ttotal: 6.52s\tremaining: 22.8s\n",
            "222:\tlearn: 0.6198450\ttotal: 6.55s\tremaining: 22.8s\n",
            "223:\tlearn: 0.6199230\ttotal: 6.57s\tremaining: 22.8s\n",
            "224:\tlearn: 0.6199850\ttotal: 6.6s\tremaining: 22.7s\n",
            "225:\tlearn: 0.6200251\ttotal: 6.63s\tremaining: 22.7s\n",
            "226:\tlearn: 0.6201312\ttotal: 6.65s\tremaining: 22.7s\n",
            "227:\tlearn: 0.6201730\ttotal: 6.68s\tremaining: 22.6s\n",
            "228:\tlearn: 0.6201688\ttotal: 6.71s\tremaining: 22.6s\n",
            "229:\tlearn: 0.6202085\ttotal: 6.74s\tremaining: 22.6s\n",
            "230:\tlearn: 0.6202614\ttotal: 6.77s\tremaining: 22.5s\n",
            "231:\tlearn: 0.6202879\ttotal: 6.79s\tremaining: 22.5s\n",
            "232:\tlearn: 0.6203062\ttotal: 6.82s\tremaining: 22.4s\n",
            "233:\tlearn: 0.6203662\ttotal: 6.85s\tremaining: 22.4s\n",
            "234:\tlearn: 0.6204669\ttotal: 6.88s\tremaining: 22.4s\n",
            "235:\tlearn: 0.6205411\ttotal: 6.9s\tremaining: 22.3s\n",
            "236:\tlearn: 0.6206061\ttotal: 6.93s\tremaining: 22.3s\n",
            "237:\tlearn: 0.6206018\ttotal: 6.96s\tremaining: 22.3s\n",
            "238:\tlearn: 0.6205810\ttotal: 7s\tremaining: 22.3s\n",
            "239:\tlearn: 0.6205657\ttotal: 7.03s\tremaining: 22.3s\n",
            "240:\tlearn: 0.6206658\ttotal: 7.06s\tremaining: 22.2s\n",
            "241:\tlearn: 0.6206837\ttotal: 7.08s\tremaining: 22.2s\n",
            "242:\tlearn: 0.6208384\ttotal: 7.11s\tremaining: 22.2s\n",
            "243:\tlearn: 0.6208400\ttotal: 7.14s\tremaining: 22.1s\n",
            "244:\tlearn: 0.6208093\ttotal: 7.17s\tremaining: 22.1s\n",
            "245:\tlearn: 0.6208513\ttotal: 7.2s\tremaining: 22.1s\n",
            "246:\tlearn: 0.6208478\ttotal: 7.23s\tremaining: 22s\n",
            "247:\tlearn: 0.6208920\ttotal: 7.26s\tremaining: 22s\n",
            "248:\tlearn: 0.6209161\ttotal: 7.28s\tremaining: 22s\n",
            "249:\tlearn: 0.6210368\ttotal: 7.31s\tremaining: 21.9s\n",
            "250:\tlearn: 0.6211720\ttotal: 7.34s\tremaining: 21.9s\n",
            "251:\tlearn: 0.6212694\ttotal: 7.38s\tremaining: 21.9s\n",
            "252:\tlearn: 0.6213956\ttotal: 7.41s\tremaining: 21.9s\n",
            "253:\tlearn: 0.6214572\ttotal: 7.43s\tremaining: 21.8s\n",
            "254:\tlearn: 0.6215457\ttotal: 7.46s\tremaining: 21.8s\n",
            "255:\tlearn: 0.6215178\ttotal: 7.5s\tremaining: 21.8s\n",
            "256:\tlearn: 0.6216346\ttotal: 7.52s\tremaining: 21.7s\n",
            "257:\tlearn: 0.6216600\ttotal: 7.54s\tremaining: 21.7s\n",
            "258:\tlearn: 0.6216301\ttotal: 7.57s\tremaining: 21.7s\n",
            "259:\tlearn: 0.6216721\ttotal: 7.6s\tremaining: 21.6s\n",
            "260:\tlearn: 0.6216801\ttotal: 7.63s\tremaining: 21.6s\n",
            "261:\tlearn: 0.6218291\ttotal: 7.66s\tremaining: 21.6s\n",
            "262:\tlearn: 0.6218339\ttotal: 7.68s\tremaining: 21.5s\n",
            "263:\tlearn: 0.6219073\ttotal: 7.71s\tremaining: 21.5s\n",
            "264:\tlearn: 0.6219716\ttotal: 7.74s\tremaining: 21.5s\n",
            "265:\tlearn: 0.6220936\ttotal: 7.77s\tremaining: 21.4s\n",
            "266:\tlearn: 0.6222205\ttotal: 7.8s\tremaining: 21.4s\n",
            "267:\tlearn: 0.6222317\ttotal: 7.83s\tremaining: 21.4s\n",
            "268:\tlearn: 0.6223130\ttotal: 7.86s\tremaining: 21.4s\n",
            "269:\tlearn: 0.6223342\ttotal: 7.88s\tremaining: 21.3s\n",
            "270:\tlearn: 0.6223899\ttotal: 7.91s\tremaining: 21.3s\n",
            "271:\tlearn: 0.6224838\ttotal: 7.95s\tremaining: 21.3s\n",
            "272:\tlearn: 0.6224470\ttotal: 7.97s\tremaining: 21.2s\n",
            "273:\tlearn: 0.6224650\ttotal: 8s\tremaining: 21.2s\n",
            "274:\tlearn: 0.6225104\ttotal: 8.03s\tremaining: 21.2s\n",
            "275:\tlearn: 0.6226268\ttotal: 8.05s\tremaining: 21.1s\n",
            "276:\tlearn: 0.6226524\ttotal: 8.08s\tremaining: 21.1s\n",
            "277:\tlearn: 0.6226072\ttotal: 8.11s\tremaining: 21.1s\n",
            "278:\tlearn: 0.6226937\ttotal: 8.14s\tremaining: 21s\n",
            "279:\tlearn: 0.6226654\ttotal: 8.17s\tremaining: 21s\n",
            "280:\tlearn: 0.6227098\ttotal: 8.2s\tremaining: 21s\n",
            "281:\tlearn: 0.6228159\ttotal: 8.23s\tremaining: 21s\n",
            "282:\tlearn: 0.6229079\ttotal: 8.26s\tremaining: 20.9s\n",
            "283:\tlearn: 0.6230606\ttotal: 8.29s\tremaining: 20.9s\n",
            "284:\tlearn: 0.6230800\ttotal: 8.31s\tremaining: 20.9s\n",
            "285:\tlearn: 0.6231934\ttotal: 8.34s\tremaining: 20.8s\n",
            "286:\tlearn: 0.6232206\ttotal: 8.37s\tremaining: 20.8s\n",
            "287:\tlearn: 0.6231480\ttotal: 8.42s\tremaining: 20.8s\n",
            "288:\tlearn: 0.6232232\ttotal: 8.45s\tremaining: 20.8s\n",
            "289:\tlearn: 0.6232251\ttotal: 8.48s\tremaining: 20.8s\n",
            "290:\tlearn: 0.6231635\ttotal: 8.51s\tremaining: 20.7s\n",
            "291:\tlearn: 0.6232790\ttotal: 8.53s\tremaining: 20.7s\n",
            "292:\tlearn: 0.6233012\ttotal: 8.56s\tremaining: 20.7s\n",
            "293:\tlearn: 0.6233239\ttotal: 8.59s\tremaining: 20.6s\n",
            "294:\tlearn: 0.6233975\ttotal: 8.62s\tremaining: 20.6s\n",
            "295:\tlearn: 0.6234364\ttotal: 8.65s\tremaining: 20.6s\n",
            "296:\tlearn: 0.6234721\ttotal: 8.68s\tremaining: 20.5s\n",
            "297:\tlearn: 0.6234443\ttotal: 8.71s\tremaining: 20.5s\n",
            "298:\tlearn: 0.6235098\ttotal: 8.73s\tremaining: 20.5s\n",
            "299:\tlearn: 0.6235524\ttotal: 8.76s\tremaining: 20.4s\n",
            "300:\tlearn: 0.6235572\ttotal: 8.78s\tremaining: 20.4s\n",
            "301:\tlearn: 0.6235590\ttotal: 8.81s\tremaining: 20.4s\n",
            "302:\tlearn: 0.6235945\ttotal: 8.84s\tremaining: 20.3s\n",
            "303:\tlearn: 0.6236104\ttotal: 8.87s\tremaining: 20.3s\n",
            "304:\tlearn: 0.6236328\ttotal: 8.9s\tremaining: 20.3s\n",
            "305:\tlearn: 0.6236892\ttotal: 8.93s\tremaining: 20.2s\n",
            "306:\tlearn: 0.6236307\ttotal: 8.95s\tremaining: 20.2s\n",
            "307:\tlearn: 0.6236887\ttotal: 8.98s\tremaining: 20.2s\n",
            "308:\tlearn: 0.6237230\ttotal: 9.01s\tremaining: 20.1s\n",
            "309:\tlearn: 0.6237626\ttotal: 9.04s\tremaining: 20.1s\n",
            "310:\tlearn: 0.6237800\ttotal: 9.06s\tremaining: 20.1s\n",
            "311:\tlearn: 0.6238287\ttotal: 9.09s\tremaining: 20s\n",
            "312:\tlearn: 0.6238046\ttotal: 9.12s\tremaining: 20s\n",
            "313:\tlearn: 0.6238377\ttotal: 9.15s\tremaining: 20s\n",
            "314:\tlearn: 0.6238455\ttotal: 9.17s\tremaining: 19.9s\n",
            "315:\tlearn: 0.6239305\ttotal: 9.2s\tremaining: 19.9s\n",
            "316:\tlearn: 0.6239742\ttotal: 9.22s\tremaining: 19.9s\n",
            "317:\tlearn: 0.6239987\ttotal: 9.26s\tremaining: 19.8s\n",
            "318:\tlearn: 0.6240223\ttotal: 9.28s\tremaining: 19.8s\n",
            "319:\tlearn: 0.6240768\ttotal: 9.31s\tremaining: 19.8s\n",
            "320:\tlearn: 0.6240016\ttotal: 9.34s\tremaining: 19.8s\n",
            "321:\tlearn: 0.6240183\ttotal: 9.37s\tremaining: 19.7s\n",
            "322:\tlearn: 0.6240837\ttotal: 9.39s\tremaining: 19.7s\n",
            "323:\tlearn: 0.6241307\ttotal: 9.43s\tremaining: 19.7s\n",
            "324:\tlearn: 0.6242184\ttotal: 9.47s\tremaining: 19.7s\n",
            "325:\tlearn: 0.6242615\ttotal: 9.5s\tremaining: 19.6s\n",
            "326:\tlearn: 0.6243265\ttotal: 9.53s\tremaining: 19.6s\n",
            "327:\tlearn: 0.6243661\ttotal: 9.56s\tremaining: 19.6s\n",
            "328:\tlearn: 0.6244202\ttotal: 9.58s\tremaining: 19.5s\n",
            "329:\tlearn: 0.6244405\ttotal: 9.61s\tremaining: 19.5s\n",
            "330:\tlearn: 0.6245870\ttotal: 9.64s\tremaining: 19.5s\n",
            "331:\tlearn: 0.6245971\ttotal: 9.67s\tremaining: 19.4s\n",
            "332:\tlearn: 0.6246230\ttotal: 9.71s\tremaining: 19.4s\n",
            "333:\tlearn: 0.6246471\ttotal: 9.74s\tremaining: 19.4s\n",
            "334:\tlearn: 0.6247050\ttotal: 9.77s\tremaining: 19.4s\n",
            "335:\tlearn: 0.6247358\ttotal: 9.8s\tremaining: 19.4s\n",
            "336:\tlearn: 0.6248111\ttotal: 9.82s\tremaining: 19.3s\n",
            "337:\tlearn: 0.6248459\ttotal: 9.86s\tremaining: 19.3s\n",
            "338:\tlearn: 0.6248867\ttotal: 9.89s\tremaining: 19.3s\n",
            "339:\tlearn: 0.6249797\ttotal: 9.92s\tremaining: 19.2s\n",
            "340:\tlearn: 0.6250684\ttotal: 9.95s\tremaining: 19.2s\n",
            "341:\tlearn: 0.6251054\ttotal: 9.98s\tremaining: 19.2s\n",
            "342:\tlearn: 0.6251824\ttotal: 10s\tremaining: 19.2s\n",
            "343:\tlearn: 0.6252505\ttotal: 10s\tremaining: 19.1s\n",
            "344:\tlearn: 0.6252920\ttotal: 10.1s\tremaining: 19.1s\n",
            "345:\tlearn: 0.6253961\ttotal: 10.1s\tremaining: 19.1s\n",
            "346:\tlearn: 0.6253796\ttotal: 10.1s\tremaining: 19s\n",
            "347:\tlearn: 0.6255547\ttotal: 10.1s\tremaining: 19s\n",
            "348:\tlearn: 0.6255797\ttotal: 10.2s\tremaining: 19s\n",
            "349:\tlearn: 0.6256543\ttotal: 10.2s\tremaining: 18.9s\n",
            "350:\tlearn: 0.6257444\ttotal: 10.2s\tremaining: 18.9s\n",
            "351:\tlearn: 0.6256958\ttotal: 10.3s\tremaining: 18.9s\n",
            "352:\tlearn: 0.6257499\ttotal: 10.3s\tremaining: 18.9s\n",
            "353:\tlearn: 0.6257806\ttotal: 10.3s\tremaining: 18.8s\n",
            "354:\tlearn: 0.6257563\ttotal: 10.3s\tremaining: 18.8s\n",
            "355:\tlearn: 0.6257256\ttotal: 10.4s\tremaining: 18.8s\n",
            "356:\tlearn: 0.6258658\ttotal: 10.4s\tremaining: 18.8s\n",
            "357:\tlearn: 0.6258456\ttotal: 10.5s\tremaining: 18.7s\n",
            "358:\tlearn: 0.6258504\ttotal: 10.5s\tremaining: 18.7s\n",
            "359:\tlearn: 0.6258903\ttotal: 10.5s\tremaining: 18.7s\n",
            "360:\tlearn: 0.6259167\ttotal: 10.5s\tremaining: 18.7s\n",
            "361:\tlearn: 0.6259105\ttotal: 10.6s\tremaining: 18.6s\n",
            "362:\tlearn: 0.6258917\ttotal: 10.6s\tremaining: 18.6s\n",
            "363:\tlearn: 0.6259479\ttotal: 10.6s\tremaining: 18.6s\n",
            "364:\tlearn: 0.6260350\ttotal: 10.7s\tremaining: 18.5s\n",
            "365:\tlearn: 0.6260422\ttotal: 10.7s\tremaining: 18.5s\n",
            "366:\tlearn: 0.6260443\ttotal: 10.7s\tremaining: 18.5s\n",
            "367:\tlearn: 0.6261172\ttotal: 10.7s\tremaining: 18.4s\n",
            "368:\tlearn: 0.6260839\ttotal: 10.8s\tremaining: 18.4s\n",
            "369:\tlearn: 0.6261791\ttotal: 10.8s\tremaining: 18.4s\n",
            "370:\tlearn: 0.6261994\ttotal: 10.8s\tremaining: 18.4s\n",
            "371:\tlearn: 0.6262855\ttotal: 10.9s\tremaining: 18.3s\n",
            "372:\tlearn: 0.6263138\ttotal: 10.9s\tremaining: 18.3s\n",
            "373:\tlearn: 0.6264340\ttotal: 10.9s\tremaining: 18.3s\n",
            "374:\tlearn: 0.6264442\ttotal: 10.9s\tremaining: 18.2s\n",
            "375:\tlearn: 0.6264746\ttotal: 11s\tremaining: 18.2s\n",
            "376:\tlearn: 0.6264928\ttotal: 11s\tremaining: 18.2s\n",
            "377:\tlearn: 0.6265410\ttotal: 11s\tremaining: 18.2s\n",
            "378:\tlearn: 0.6266342\ttotal: 11.1s\tremaining: 18.1s\n",
            "379:\tlearn: 0.6267660\ttotal: 11.1s\tremaining: 18.1s\n",
            "380:\tlearn: 0.6267775\ttotal: 11.1s\tremaining: 18.1s\n",
            "381:\tlearn: 0.6267751\ttotal: 11.2s\tremaining: 18s\n",
            "382:\tlearn: 0.6268195\ttotal: 11.2s\tremaining: 18s\n",
            "383:\tlearn: 0.6267798\ttotal: 11.2s\tremaining: 18s\n",
            "384:\tlearn: 0.6268235\ttotal: 11.2s\tremaining: 18s\n",
            "385:\tlearn: 0.6267700\ttotal: 11.3s\tremaining: 17.9s\n",
            "386:\tlearn: 0.6267593\ttotal: 11.3s\tremaining: 17.9s\n",
            "387:\tlearn: 0.6268607\ttotal: 11.3s\tremaining: 17.9s\n",
            "388:\tlearn: 0.6268954\ttotal: 11.4s\tremaining: 17.8s\n",
            "389:\tlearn: 0.6268934\ttotal: 11.4s\tremaining: 17.8s\n",
            "390:\tlearn: 0.6269446\ttotal: 11.4s\tremaining: 17.8s\n",
            "391:\tlearn: 0.6269733\ttotal: 11.5s\tremaining: 17.8s\n",
            "392:\tlearn: 0.6269321\ttotal: 11.5s\tremaining: 17.7s\n",
            "393:\tlearn: 0.6269509\ttotal: 11.5s\tremaining: 17.7s\n",
            "394:\tlearn: 0.6269415\ttotal: 11.5s\tremaining: 17.7s\n",
            "395:\tlearn: 0.6269910\ttotal: 11.6s\tremaining: 17.6s\n",
            "396:\tlearn: 0.6269629\ttotal: 11.6s\tremaining: 17.6s\n",
            "397:\tlearn: 0.6270577\ttotal: 11.6s\tremaining: 17.6s\n",
            "398:\tlearn: 0.6270248\ttotal: 11.7s\tremaining: 17.6s\n",
            "399:\tlearn: 0.6270681\ttotal: 11.7s\tremaining: 17.5s\n",
            "400:\tlearn: 0.6271330\ttotal: 11.7s\tremaining: 17.5s\n",
            "401:\tlearn: 0.6271275\ttotal: 11.7s\tremaining: 17.5s\n",
            "402:\tlearn: 0.6271764\ttotal: 11.8s\tremaining: 17.4s\n",
            "403:\tlearn: 0.6272082\ttotal: 11.8s\tremaining: 17.4s\n",
            "404:\tlearn: 0.6272637\ttotal: 11.8s\tremaining: 17.4s\n",
            "405:\tlearn: 0.6272835\ttotal: 11.9s\tremaining: 17.3s\n",
            "406:\tlearn: 0.6272372\ttotal: 11.9s\tremaining: 17.3s\n",
            "407:\tlearn: 0.6273947\ttotal: 11.9s\tremaining: 17.3s\n",
            "408:\tlearn: 0.6274060\ttotal: 11.9s\tremaining: 17.3s\n",
            "409:\tlearn: 0.6274583\ttotal: 12s\tremaining: 17.2s\n",
            "410:\tlearn: 0.6274835\ttotal: 12s\tremaining: 17.2s\n",
            "411:\tlearn: 0.6274772\ttotal: 12s\tremaining: 17.2s\n",
            "412:\tlearn: 0.6275535\ttotal: 12.1s\tremaining: 17.1s\n",
            "413:\tlearn: 0.6275910\ttotal: 12.1s\tremaining: 17.1s\n",
            "414:\tlearn: 0.6276485\ttotal: 12.1s\tremaining: 17.1s\n",
            "415:\tlearn: 0.6277047\ttotal: 12.1s\tremaining: 17s\n",
            "416:\tlearn: 0.6277262\ttotal: 12.2s\tremaining: 17s\n",
            "417:\tlearn: 0.6277524\ttotal: 12.2s\tremaining: 17s\n",
            "418:\tlearn: 0.6277634\ttotal: 12.2s\tremaining: 16.9s\n",
            "419:\tlearn: 0.6277762\ttotal: 12.3s\tremaining: 16.9s\n",
            "420:\tlearn: 0.6277794\ttotal: 12.3s\tremaining: 16.9s\n",
            "421:\tlearn: 0.6278279\ttotal: 12.3s\tremaining: 16.9s\n",
            "422:\tlearn: 0.6279173\ttotal: 12.3s\tremaining: 16.8s\n",
            "423:\tlearn: 0.6278312\ttotal: 12.4s\tremaining: 16.8s\n",
            "424:\tlearn: 0.6279612\ttotal: 12.4s\tremaining: 16.8s\n",
            "425:\tlearn: 0.6279072\ttotal: 12.4s\tremaining: 16.7s\n",
            "426:\tlearn: 0.6279275\ttotal: 12.5s\tremaining: 16.7s\n",
            "427:\tlearn: 0.6279223\ttotal: 12.5s\tremaining: 16.7s\n",
            "428:\tlearn: 0.6279931\ttotal: 12.5s\tremaining: 16.7s\n",
            "429:\tlearn: 0.6279889\ttotal: 12.5s\tremaining: 16.6s\n",
            "430:\tlearn: 0.6279259\ttotal: 12.6s\tremaining: 16.6s\n",
            "431:\tlearn: 0.6278743\ttotal: 12.6s\tremaining: 16.6s\n",
            "432:\tlearn: 0.6279011\ttotal: 12.6s\tremaining: 16.5s\n",
            "433:\tlearn: 0.6279938\ttotal: 12.7s\tremaining: 16.5s\n",
            "434:\tlearn: 0.6279597\ttotal: 12.7s\tremaining: 16.5s\n",
            "435:\tlearn: 0.6280070\ttotal: 12.7s\tremaining: 16.4s\n",
            "436:\tlearn: 0.6279652\ttotal: 12.7s\tremaining: 16.4s\n",
            "437:\tlearn: 0.6280531\ttotal: 12.8s\tremaining: 16.4s\n",
            "438:\tlearn: 0.6281190\ttotal: 12.8s\tremaining: 16.4s\n",
            "439:\tlearn: 0.6282077\ttotal: 12.8s\tremaining: 16.3s\n",
            "440:\tlearn: 0.6282493\ttotal: 12.9s\tremaining: 16.3s\n",
            "441:\tlearn: 0.6283228\ttotal: 12.9s\tremaining: 16.3s\n",
            "442:\tlearn: 0.6284285\ttotal: 12.9s\tremaining: 16.3s\n",
            "443:\tlearn: 0.6284414\ttotal: 13s\tremaining: 16.2s\n",
            "444:\tlearn: 0.6284706\ttotal: 13s\tremaining: 16.2s\n",
            "445:\tlearn: 0.6285256\ttotal: 13s\tremaining: 16.2s\n",
            "446:\tlearn: 0.6286056\ttotal: 13s\tremaining: 16.1s\n",
            "447:\tlearn: 0.6286823\ttotal: 13.1s\tremaining: 16.1s\n",
            "448:\tlearn: 0.6287019\ttotal: 13.1s\tremaining: 16.1s\n",
            "449:\tlearn: 0.6287101\ttotal: 13.1s\tremaining: 16.1s\n",
            "450:\tlearn: 0.6287218\ttotal: 13.2s\tremaining: 16s\n",
            "451:\tlearn: 0.6287975\ttotal: 13.2s\tremaining: 16s\n",
            "452:\tlearn: 0.6287291\ttotal: 13.2s\tremaining: 16s\n",
            "453:\tlearn: 0.6288381\ttotal: 13.3s\tremaining: 15.9s\n",
            "454:\tlearn: 0.6289116\ttotal: 13.3s\tremaining: 15.9s\n",
            "455:\tlearn: 0.6289334\ttotal: 13.3s\tremaining: 15.9s\n",
            "456:\tlearn: 0.6289955\ttotal: 13.3s\tremaining: 15.9s\n",
            "457:\tlearn: 0.6289621\ttotal: 13.4s\tremaining: 15.8s\n",
            "458:\tlearn: 0.6289592\ttotal: 13.4s\tremaining: 15.8s\n",
            "459:\tlearn: 0.6289863\ttotal: 13.4s\tremaining: 15.8s\n",
            "460:\tlearn: 0.6290116\ttotal: 13.5s\tremaining: 15.7s\n",
            "461:\tlearn: 0.6289266\ttotal: 13.5s\tremaining: 15.7s\n",
            "462:\tlearn: 0.6289194\ttotal: 13.5s\tremaining: 15.7s\n",
            "463:\tlearn: 0.6289908\ttotal: 13.5s\tremaining: 15.6s\n",
            "464:\tlearn: 0.6290502\ttotal: 13.6s\tremaining: 15.6s\n",
            "465:\tlearn: 0.6290791\ttotal: 13.6s\tremaining: 15.6s\n",
            "466:\tlearn: 0.6290697\ttotal: 13.6s\tremaining: 15.5s\n",
            "467:\tlearn: 0.6290911\ttotal: 13.6s\tremaining: 15.5s\n",
            "468:\tlearn: 0.6291127\ttotal: 13.7s\tremaining: 15.5s\n",
            "469:\tlearn: 0.6290240\ttotal: 13.7s\tremaining: 15.4s\n",
            "470:\tlearn: 0.6290357\ttotal: 13.7s\tremaining: 15.4s\n",
            "471:\tlearn: 0.6290294\ttotal: 13.8s\tremaining: 15.4s\n",
            "472:\tlearn: 0.6291049\ttotal: 13.8s\tremaining: 15.4s\n",
            "473:\tlearn: 0.6290635\ttotal: 13.8s\tremaining: 15.3s\n",
            "474:\tlearn: 0.6291064\ttotal: 13.8s\tremaining: 15.3s\n",
            "475:\tlearn: 0.6291985\ttotal: 13.9s\tremaining: 15.3s\n",
            "476:\tlearn: 0.6292561\ttotal: 13.9s\tremaining: 15.3s\n",
            "477:\tlearn: 0.6292828\ttotal: 13.9s\tremaining: 15.2s\n",
            "478:\tlearn: 0.6293028\ttotal: 14s\tremaining: 15.2s\n",
            "479:\tlearn: 0.6293626\ttotal: 14s\tremaining: 15.2s\n",
            "480:\tlearn: 0.6294090\ttotal: 14s\tremaining: 15.1s\n",
            "481:\tlearn: 0.6294858\ttotal: 14s\tremaining: 15.1s\n",
            "482:\tlearn: 0.6295511\ttotal: 14.1s\tremaining: 15.1s\n",
            "483:\tlearn: 0.6296041\ttotal: 14.1s\tremaining: 15s\n",
            "484:\tlearn: 0.6295880\ttotal: 14.1s\tremaining: 15s\n",
            "485:\tlearn: 0.6296227\ttotal: 14.2s\tremaining: 15s\n",
            "486:\tlearn: 0.6295996\ttotal: 14.2s\tremaining: 14.9s\n",
            "487:\tlearn: 0.6296712\ttotal: 14.2s\tremaining: 14.9s\n",
            "488:\tlearn: 0.6296630\ttotal: 14.2s\tremaining: 14.9s\n",
            "489:\tlearn: 0.6296346\ttotal: 14.3s\tremaining: 14.9s\n",
            "490:\tlearn: 0.6296875\ttotal: 14.3s\tremaining: 14.8s\n",
            "491:\tlearn: 0.6296506\ttotal: 14.4s\tremaining: 14.8s\n",
            "492:\tlearn: 0.6296762\ttotal: 14.4s\tremaining: 14.8s\n",
            "493:\tlearn: 0.6297340\ttotal: 14.4s\tremaining: 14.8s\n",
            "494:\tlearn: 0.6297331\ttotal: 14.4s\tremaining: 14.7s\n",
            "495:\tlearn: 0.6297532\ttotal: 14.5s\tremaining: 14.7s\n",
            "496:\tlearn: 0.6298016\ttotal: 14.5s\tremaining: 14.7s\n",
            "497:\tlearn: 0.6298474\ttotal: 14.5s\tremaining: 14.7s\n",
            "498:\tlearn: 0.6298815\ttotal: 14.6s\tremaining: 14.6s\n",
            "499:\tlearn: 0.6299374\ttotal: 14.6s\tremaining: 14.6s\n",
            "500:\tlearn: 0.6299069\ttotal: 14.6s\tremaining: 14.6s\n",
            "501:\tlearn: 0.6299180\ttotal: 14.7s\tremaining: 14.5s\n",
            "502:\tlearn: 0.6298733\ttotal: 14.7s\tremaining: 14.5s\n",
            "503:\tlearn: 0.6299605\ttotal: 14.7s\tremaining: 14.5s\n",
            "504:\tlearn: 0.6299690\ttotal: 14.7s\tremaining: 14.5s\n",
            "505:\tlearn: 0.6300466\ttotal: 14.8s\tremaining: 14.4s\n",
            "506:\tlearn: 0.6300291\ttotal: 14.8s\tremaining: 14.4s\n",
            "507:\tlearn: 0.6300622\ttotal: 14.8s\tremaining: 14.4s\n",
            "508:\tlearn: 0.6301080\ttotal: 14.9s\tremaining: 14.3s\n",
            "509:\tlearn: 0.6301051\ttotal: 14.9s\tremaining: 14.3s\n",
            "510:\tlearn: 0.6300869\ttotal: 14.9s\tremaining: 14.3s\n",
            "511:\tlearn: 0.6301239\ttotal: 14.9s\tremaining: 14.2s\n",
            "512:\tlearn: 0.6301181\ttotal: 15s\tremaining: 14.2s\n",
            "513:\tlearn: 0.6301920\ttotal: 15s\tremaining: 14.2s\n",
            "514:\tlearn: 0.6302399\ttotal: 15s\tremaining: 14.1s\n",
            "515:\tlearn: 0.6302623\ttotal: 15s\tremaining: 14.1s\n",
            "516:\tlearn: 0.6302003\ttotal: 15.1s\tremaining: 14.1s\n",
            "517:\tlearn: 0.6302928\ttotal: 15.1s\tremaining: 14.1s\n",
            "518:\tlearn: 0.6302627\ttotal: 15.1s\tremaining: 14s\n",
            "519:\tlearn: 0.6302486\ttotal: 15.2s\tremaining: 14s\n",
            "520:\tlearn: 0.6303554\ttotal: 15.2s\tremaining: 14s\n",
            "521:\tlearn: 0.6303618\ttotal: 15.2s\tremaining: 13.9s\n",
            "522:\tlearn: 0.6304118\ttotal: 15.2s\tremaining: 13.9s\n",
            "523:\tlearn: 0.6304124\ttotal: 15.3s\tremaining: 13.9s\n",
            "524:\tlearn: 0.6304342\ttotal: 15.3s\tremaining: 13.9s\n",
            "525:\tlearn: 0.6305048\ttotal: 15.3s\tremaining: 13.8s\n",
            "526:\tlearn: 0.6304900\ttotal: 15.4s\tremaining: 13.8s\n",
            "527:\tlearn: 0.6305057\ttotal: 15.4s\tremaining: 13.8s\n",
            "528:\tlearn: 0.6305722\ttotal: 15.4s\tremaining: 13.7s\n",
            "529:\tlearn: 0.6305897\ttotal: 15.4s\tremaining: 13.7s\n",
            "530:\tlearn: 0.6305509\ttotal: 15.5s\tremaining: 13.7s\n",
            "531:\tlearn: 0.6306014\ttotal: 15.5s\tremaining: 13.6s\n",
            "532:\tlearn: 0.6306417\ttotal: 15.5s\tremaining: 13.6s\n",
            "533:\tlearn: 0.6306423\ttotal: 15.6s\tremaining: 13.6s\n",
            "534:\tlearn: 0.6306303\ttotal: 15.6s\tremaining: 13.6s\n",
            "535:\tlearn: 0.6306231\ttotal: 15.6s\tremaining: 13.5s\n",
            "536:\tlearn: 0.6306438\ttotal: 15.6s\tremaining: 13.5s\n",
            "537:\tlearn: 0.6306242\ttotal: 15.7s\tremaining: 13.5s\n",
            "538:\tlearn: 0.6306669\ttotal: 15.7s\tremaining: 13.4s\n",
            "539:\tlearn: 0.6307333\ttotal: 15.7s\tremaining: 13.4s\n",
            "540:\tlearn: 0.6307487\ttotal: 15.8s\tremaining: 13.4s\n",
            "541:\tlearn: 0.6307926\ttotal: 15.8s\tremaining: 13.3s\n",
            "542:\tlearn: 0.6308343\ttotal: 15.8s\tremaining: 13.3s\n",
            "543:\tlearn: 0.6308281\ttotal: 15.8s\tremaining: 13.3s\n",
            "544:\tlearn: 0.6307743\ttotal: 15.9s\tremaining: 13.2s\n",
            "545:\tlearn: 0.6308725\ttotal: 15.9s\tremaining: 13.2s\n",
            "546:\tlearn: 0.6309117\ttotal: 15.9s\tremaining: 13.2s\n",
            "547:\tlearn: 0.6308958\ttotal: 16s\tremaining: 13.2s\n",
            "548:\tlearn: 0.6309599\ttotal: 16s\tremaining: 13.1s\n",
            "549:\tlearn: 0.6310008\ttotal: 16s\tremaining: 13.1s\n",
            "550:\tlearn: 0.6309966\ttotal: 16s\tremaining: 13.1s\n",
            "551:\tlearn: 0.6310353\ttotal: 16.1s\tremaining: 13s\n",
            "552:\tlearn: 0.6309739\ttotal: 16.1s\tremaining: 13s\n",
            "553:\tlearn: 0.6310105\ttotal: 16.1s\tremaining: 13s\n",
            "554:\tlearn: 0.6310804\ttotal: 16.2s\tremaining: 13s\n",
            "555:\tlearn: 0.6311145\ttotal: 16.2s\tremaining: 12.9s\n",
            "556:\tlearn: 0.6311731\ttotal: 16.2s\tremaining: 12.9s\n",
            "557:\tlearn: 0.6311888\ttotal: 16.2s\tremaining: 12.9s\n",
            "558:\tlearn: 0.6312036\ttotal: 16.3s\tremaining: 12.8s\n",
            "559:\tlearn: 0.6312166\ttotal: 16.3s\tremaining: 12.8s\n",
            "560:\tlearn: 0.6312394\ttotal: 16.3s\tremaining: 12.8s\n",
            "561:\tlearn: 0.6313199\ttotal: 16.4s\tremaining: 12.7s\n",
            "562:\tlearn: 0.6313520\ttotal: 16.4s\tremaining: 12.7s\n",
            "563:\tlearn: 0.6312923\ttotal: 16.4s\tremaining: 12.7s\n",
            "564:\tlearn: 0.6313081\ttotal: 16.4s\tremaining: 12.7s\n",
            "565:\tlearn: 0.6313367\ttotal: 16.5s\tremaining: 12.6s\n",
            "566:\tlearn: 0.6313177\ttotal: 16.5s\tremaining: 12.6s\n",
            "567:\tlearn: 0.6312734\ttotal: 16.5s\tremaining: 12.6s\n",
            "568:\tlearn: 0.6312710\ttotal: 16.6s\tremaining: 12.5s\n",
            "569:\tlearn: 0.6313219\ttotal: 16.6s\tremaining: 12.5s\n",
            "570:\tlearn: 0.6313446\ttotal: 16.6s\tremaining: 12.5s\n",
            "571:\tlearn: 0.6314590\ttotal: 16.6s\tremaining: 12.4s\n",
            "572:\tlearn: 0.6314551\ttotal: 16.7s\tremaining: 12.4s\n",
            "573:\tlearn: 0.6314818\ttotal: 16.7s\tremaining: 12.4s\n",
            "574:\tlearn: 0.6314744\ttotal: 16.7s\tremaining: 12.4s\n",
            "575:\tlearn: 0.6314714\ttotal: 16.7s\tremaining: 12.3s\n",
            "576:\tlearn: 0.6315475\ttotal: 16.8s\tremaining: 12.3s\n",
            "577:\tlearn: 0.6315627\ttotal: 16.8s\tremaining: 12.3s\n",
            "578:\tlearn: 0.6315830\ttotal: 16.8s\tremaining: 12.2s\n",
            "579:\tlearn: 0.6316571\ttotal: 16.9s\tremaining: 12.2s\n",
            "580:\tlearn: 0.6316160\ttotal: 16.9s\tremaining: 12.2s\n",
            "581:\tlearn: 0.6316262\ttotal: 16.9s\tremaining: 12.1s\n",
            "582:\tlearn: 0.6317224\ttotal: 16.9s\tremaining: 12.1s\n",
            "583:\tlearn: 0.6317659\ttotal: 17s\tremaining: 12.1s\n",
            "584:\tlearn: 0.6317726\ttotal: 17s\tremaining: 12.1s\n",
            "585:\tlearn: 0.6317969\ttotal: 17s\tremaining: 12s\n",
            "586:\tlearn: 0.6318245\ttotal: 17s\tremaining: 12s\n",
            "587:\tlearn: 0.6317975\ttotal: 17.1s\tremaining: 12s\n",
            "588:\tlearn: 0.6318215\ttotal: 17.1s\tremaining: 11.9s\n",
            "589:\tlearn: 0.6319411\ttotal: 17.1s\tremaining: 11.9s\n",
            "590:\tlearn: 0.6319946\ttotal: 17.2s\tremaining: 11.9s\n",
            "591:\tlearn: 0.6320167\ttotal: 17.2s\tremaining: 11.8s\n",
            "592:\tlearn: 0.6319902\ttotal: 17.2s\tremaining: 11.8s\n",
            "593:\tlearn: 0.6320521\ttotal: 17.2s\tremaining: 11.8s\n",
            "594:\tlearn: 0.6321551\ttotal: 17.3s\tremaining: 11.8s\n",
            "595:\tlearn: 0.6321852\ttotal: 17.3s\tremaining: 11.7s\n",
            "596:\tlearn: 0.6321913\ttotal: 17.3s\tremaining: 11.7s\n",
            "597:\tlearn: 0.6322506\ttotal: 17.4s\tremaining: 11.7s\n",
            "598:\tlearn: 0.6322584\ttotal: 17.4s\tremaining: 11.6s\n",
            "599:\tlearn: 0.6322476\ttotal: 17.4s\tremaining: 11.6s\n",
            "600:\tlearn: 0.6322258\ttotal: 17.4s\tremaining: 11.6s\n",
            "601:\tlearn: 0.6322464\ttotal: 17.5s\tremaining: 11.5s\n",
            "602:\tlearn: 0.6322955\ttotal: 17.5s\tremaining: 11.5s\n",
            "603:\tlearn: 0.6322563\ttotal: 17.5s\tremaining: 11.5s\n",
            "604:\tlearn: 0.6322843\ttotal: 17.6s\tremaining: 11.5s\n",
            "605:\tlearn: 0.6322992\ttotal: 17.6s\tremaining: 11.4s\n",
            "606:\tlearn: 0.6322878\ttotal: 17.6s\tremaining: 11.4s\n",
            "607:\tlearn: 0.6323463\ttotal: 17.7s\tremaining: 11.4s\n",
            "608:\tlearn: 0.6323435\ttotal: 17.7s\tremaining: 11.4s\n",
            "609:\tlearn: 0.6323626\ttotal: 17.7s\tremaining: 11.3s\n",
            "610:\tlearn: 0.6323730\ttotal: 17.7s\tremaining: 11.3s\n",
            "611:\tlearn: 0.6324117\ttotal: 17.8s\tremaining: 11.3s\n",
            "612:\tlearn: 0.6324080\ttotal: 17.8s\tremaining: 11.2s\n",
            "613:\tlearn: 0.6324611\ttotal: 17.8s\tremaining: 11.2s\n",
            "614:\tlearn: 0.6324437\ttotal: 17.9s\tremaining: 11.2s\n",
            "615:\tlearn: 0.6324994\ttotal: 17.9s\tremaining: 11.1s\n",
            "616:\tlearn: 0.6325480\ttotal: 17.9s\tremaining: 11.1s\n",
            "617:\tlearn: 0.6325685\ttotal: 17.9s\tremaining: 11.1s\n",
            "618:\tlearn: 0.6326125\ttotal: 18s\tremaining: 11.1s\n",
            "619:\tlearn: 0.6326177\ttotal: 18s\tremaining: 11s\n",
            "620:\tlearn: 0.6326081\ttotal: 18s\tremaining: 11s\n",
            "621:\tlearn: 0.6326870\ttotal: 18.1s\tremaining: 11s\n",
            "622:\tlearn: 0.6326968\ttotal: 18.1s\tremaining: 10.9s\n",
            "623:\tlearn: 0.6327563\ttotal: 18.1s\tremaining: 10.9s\n",
            "624:\tlearn: 0.6327861\ttotal: 18.1s\tremaining: 10.9s\n",
            "625:\tlearn: 0.6328167\ttotal: 18.2s\tremaining: 10.9s\n",
            "626:\tlearn: 0.6328072\ttotal: 18.2s\tremaining: 10.8s\n",
            "627:\tlearn: 0.6327531\ttotal: 18.2s\tremaining: 10.8s\n",
            "628:\tlearn: 0.6327361\ttotal: 18.3s\tremaining: 10.8s\n",
            "629:\tlearn: 0.6327364\ttotal: 18.3s\tremaining: 10.7s\n",
            "630:\tlearn: 0.6328369\ttotal: 18.3s\tremaining: 10.7s\n",
            "631:\tlearn: 0.6328335\ttotal: 18.3s\tremaining: 10.7s\n",
            "632:\tlearn: 0.6328343\ttotal: 18.4s\tremaining: 10.7s\n",
            "633:\tlearn: 0.6328475\ttotal: 18.4s\tremaining: 10.6s\n",
            "634:\tlearn: 0.6328247\ttotal: 18.4s\tremaining: 10.6s\n",
            "635:\tlearn: 0.6328141\ttotal: 18.5s\tremaining: 10.6s\n",
            "636:\tlearn: 0.6328398\ttotal: 18.5s\tremaining: 10.5s\n",
            "637:\tlearn: 0.6328488\ttotal: 18.5s\tremaining: 10.5s\n",
            "638:\tlearn: 0.6328861\ttotal: 18.5s\tremaining: 10.5s\n",
            "639:\tlearn: 0.6329110\ttotal: 18.6s\tremaining: 10.4s\n",
            "640:\tlearn: 0.6329743\ttotal: 18.6s\tremaining: 10.4s\n",
            "641:\tlearn: 0.6329859\ttotal: 18.6s\tremaining: 10.4s\n",
            "642:\tlearn: 0.6329743\ttotal: 18.7s\tremaining: 10.4s\n",
            "643:\tlearn: 0.6329582\ttotal: 18.7s\tremaining: 10.3s\n",
            "644:\tlearn: 0.6330295\ttotal: 18.7s\tremaining: 10.3s\n",
            "645:\tlearn: 0.6330645\ttotal: 18.7s\tremaining: 10.3s\n",
            "646:\tlearn: 0.6330571\ttotal: 18.8s\tremaining: 10.2s\n",
            "647:\tlearn: 0.6330850\ttotal: 18.8s\tremaining: 10.2s\n",
            "648:\tlearn: 0.6331294\ttotal: 18.8s\tremaining: 10.2s\n",
            "649:\tlearn: 0.6331792\ttotal: 18.8s\tremaining: 10.1s\n",
            "650:\tlearn: 0.6333056\ttotal: 18.9s\tremaining: 10.1s\n",
            "651:\tlearn: 0.6333541\ttotal: 18.9s\tremaining: 10.1s\n",
            "652:\tlearn: 0.6333354\ttotal: 18.9s\tremaining: 10.1s\n",
            "653:\tlearn: 0.6333376\ttotal: 19s\tremaining: 10s\n",
            "654:\tlearn: 0.6333801\ttotal: 19s\tremaining: 10s\n",
            "655:\tlearn: 0.6333096\ttotal: 19s\tremaining: 9.97s\n",
            "656:\tlearn: 0.6333507\ttotal: 19s\tremaining: 9.94s\n",
            "657:\tlearn: 0.6333480\ttotal: 19.1s\tremaining: 9.92s\n",
            "658:\tlearn: 0.6333160\ttotal: 19.1s\tremaining: 9.89s\n",
            "659:\tlearn: 0.6333475\ttotal: 19.2s\tremaining: 9.87s\n",
            "660:\tlearn: 0.6334379\ttotal: 19.2s\tremaining: 9.84s\n",
            "661:\tlearn: 0.6334141\ttotal: 19.2s\tremaining: 9.81s\n",
            "662:\tlearn: 0.6334082\ttotal: 19.2s\tremaining: 9.78s\n",
            "663:\tlearn: 0.6334566\ttotal: 19.3s\tremaining: 9.75s\n",
            "664:\tlearn: 0.6335011\ttotal: 19.3s\tremaining: 9.72s\n",
            "665:\tlearn: 0.6335595\ttotal: 19.3s\tremaining: 9.69s\n",
            "666:\tlearn: 0.6334968\ttotal: 19.3s\tremaining: 9.66s\n",
            "667:\tlearn: 0.6335754\ttotal: 19.4s\tremaining: 9.63s\n",
            "668:\tlearn: 0.6336139\ttotal: 19.4s\tremaining: 9.6s\n",
            "669:\tlearn: 0.6336239\ttotal: 19.4s\tremaining: 9.57s\n",
            "670:\tlearn: 0.6336304\ttotal: 19.5s\tremaining: 9.54s\n",
            "671:\tlearn: 0.6335908\ttotal: 19.5s\tremaining: 9.51s\n",
            "672:\tlearn: 0.6336472\ttotal: 19.5s\tremaining: 9.48s\n",
            "673:\tlearn: 0.6337283\ttotal: 19.5s\tremaining: 9.45s\n",
            "674:\tlearn: 0.6337813\ttotal: 19.6s\tremaining: 9.42s\n",
            "675:\tlearn: 0.6338115\ttotal: 19.6s\tremaining: 9.39s\n",
            "676:\tlearn: 0.6338318\ttotal: 19.6s\tremaining: 9.36s\n",
            "677:\tlearn: 0.6338752\ttotal: 19.7s\tremaining: 9.33s\n",
            "678:\tlearn: 0.6339066\ttotal: 19.7s\tremaining: 9.3s\n",
            "679:\tlearn: 0.6339547\ttotal: 19.7s\tremaining: 9.27s\n",
            "680:\tlearn: 0.6340094\ttotal: 19.7s\tremaining: 9.24s\n",
            "681:\tlearn: 0.6340062\ttotal: 19.8s\tremaining: 9.21s\n",
            "682:\tlearn: 0.6340292\ttotal: 19.8s\tremaining: 9.19s\n",
            "683:\tlearn: 0.6341066\ttotal: 19.8s\tremaining: 9.16s\n",
            "684:\tlearn: 0.6340974\ttotal: 19.9s\tremaining: 9.13s\n",
            "685:\tlearn: 0.6340833\ttotal: 19.9s\tremaining: 9.1s\n",
            "686:\tlearn: 0.6341054\ttotal: 19.9s\tremaining: 9.07s\n",
            "687:\tlearn: 0.6341333\ttotal: 19.9s\tremaining: 9.04s\n",
            "688:\tlearn: 0.6341356\ttotal: 20s\tremaining: 9.01s\n",
            "689:\tlearn: 0.6341091\ttotal: 20s\tremaining: 8.98s\n",
            "690:\tlearn: 0.6340907\ttotal: 20s\tremaining: 8.95s\n",
            "691:\tlearn: 0.6341091\ttotal: 20.1s\tremaining: 8.92s\n",
            "692:\tlearn: 0.6340764\ttotal: 20.1s\tremaining: 8.89s\n",
            "693:\tlearn: 0.6341111\ttotal: 20.1s\tremaining: 8.86s\n",
            "694:\tlearn: 0.6340568\ttotal: 20.1s\tremaining: 8.84s\n",
            "695:\tlearn: 0.6341378\ttotal: 20.2s\tremaining: 8.81s\n",
            "696:\tlearn: 0.6341693\ttotal: 20.2s\tremaining: 8.78s\n",
            "697:\tlearn: 0.6341560\ttotal: 20.2s\tremaining: 8.75s\n",
            "698:\tlearn: 0.6342311\ttotal: 20.2s\tremaining: 8.72s\n",
            "699:\tlearn: 0.6342754\ttotal: 20.3s\tremaining: 8.69s\n",
            "700:\tlearn: 0.6342586\ttotal: 20.3s\tremaining: 8.66s\n",
            "701:\tlearn: 0.6342681\ttotal: 20.3s\tremaining: 8.63s\n",
            "702:\tlearn: 0.6343191\ttotal: 20.4s\tremaining: 8.6s\n",
            "703:\tlearn: 0.6343260\ttotal: 20.4s\tremaining: 8.57s\n",
            "704:\tlearn: 0.6343418\ttotal: 20.4s\tremaining: 8.54s\n",
            "705:\tlearn: 0.6343828\ttotal: 20.4s\tremaining: 8.51s\n",
            "706:\tlearn: 0.6343767\ttotal: 20.5s\tremaining: 8.49s\n",
            "707:\tlearn: 0.6344601\ttotal: 20.5s\tremaining: 8.46s\n",
            "708:\tlearn: 0.6344535\ttotal: 20.5s\tremaining: 8.43s\n",
            "709:\tlearn: 0.6344258\ttotal: 20.6s\tremaining: 8.4s\n",
            "710:\tlearn: 0.6343992\ttotal: 20.6s\tremaining: 8.37s\n",
            "711:\tlearn: 0.6344420\ttotal: 20.6s\tremaining: 8.34s\n",
            "712:\tlearn: 0.6345155\ttotal: 20.6s\tremaining: 8.31s\n",
            "713:\tlearn: 0.6345112\ttotal: 20.7s\tremaining: 8.28s\n",
            "714:\tlearn: 0.6345279\ttotal: 20.7s\tremaining: 8.26s\n",
            "715:\tlearn: 0.6345572\ttotal: 20.7s\tremaining: 8.23s\n",
            "716:\tlearn: 0.6345318\ttotal: 20.8s\tremaining: 8.2s\n",
            "717:\tlearn: 0.6345476\ttotal: 20.8s\tremaining: 8.17s\n",
            "718:\tlearn: 0.6345601\ttotal: 20.8s\tremaining: 8.14s\n",
            "719:\tlearn: 0.6345901\ttotal: 20.9s\tremaining: 8.11s\n",
            "720:\tlearn: 0.6346097\ttotal: 20.9s\tremaining: 8.08s\n",
            "721:\tlearn: 0.6346246\ttotal: 20.9s\tremaining: 8.05s\n",
            "722:\tlearn: 0.6345859\ttotal: 20.9s\tremaining: 8.02s\n",
            "723:\tlearn: 0.6346091\ttotal: 21s\tremaining: 7.99s\n",
            "724:\tlearn: 0.6346133\ttotal: 21s\tremaining: 7.96s\n",
            "725:\tlearn: 0.6346425\ttotal: 21s\tremaining: 7.93s\n",
            "726:\tlearn: 0.6346477\ttotal: 21.1s\tremaining: 7.91s\n",
            "727:\tlearn: 0.6346631\ttotal: 21.1s\tremaining: 7.88s\n",
            "728:\tlearn: 0.6347011\ttotal: 21.1s\tremaining: 7.85s\n",
            "729:\tlearn: 0.6347149\ttotal: 21.1s\tremaining: 7.82s\n",
            "730:\tlearn: 0.6347517\ttotal: 21.2s\tremaining: 7.79s\n",
            "731:\tlearn: 0.6347697\ttotal: 21.2s\tremaining: 7.76s\n",
            "732:\tlearn: 0.6347958\ttotal: 21.2s\tremaining: 7.73s\n",
            "733:\tlearn: 0.6348000\ttotal: 21.3s\tremaining: 7.7s\n",
            "734:\tlearn: 0.6348644\ttotal: 21.3s\tremaining: 7.67s\n",
            "735:\tlearn: 0.6348738\ttotal: 21.3s\tremaining: 7.64s\n",
            "736:\tlearn: 0.6348714\ttotal: 21.3s\tremaining: 7.62s\n",
            "737:\tlearn: 0.6349108\ttotal: 21.4s\tremaining: 7.58s\n",
            "738:\tlearn: 0.6349048\ttotal: 21.4s\tremaining: 7.56s\n",
            "739:\tlearn: 0.6349460\ttotal: 21.4s\tremaining: 7.53s\n",
            "740:\tlearn: 0.6349613\ttotal: 21.5s\tremaining: 7.5s\n",
            "741:\tlearn: 0.6350262\ttotal: 21.5s\tremaining: 7.47s\n",
            "742:\tlearn: 0.6349777\ttotal: 21.5s\tremaining: 7.44s\n",
            "743:\tlearn: 0.6350291\ttotal: 21.5s\tremaining: 7.41s\n",
            "744:\tlearn: 0.6350853\ttotal: 21.6s\tremaining: 7.39s\n",
            "745:\tlearn: 0.6350981\ttotal: 21.6s\tremaining: 7.36s\n",
            "746:\tlearn: 0.6351000\ttotal: 21.6s\tremaining: 7.33s\n",
            "747:\tlearn: 0.6350888\ttotal: 21.7s\tremaining: 7.3s\n",
            "748:\tlearn: 0.6351442\ttotal: 21.7s\tremaining: 7.27s\n",
            "749:\tlearn: 0.6351464\ttotal: 21.7s\tremaining: 7.24s\n",
            "750:\tlearn: 0.6351746\ttotal: 21.8s\tremaining: 7.21s\n",
            "751:\tlearn: 0.6351973\ttotal: 21.8s\tremaining: 7.18s\n",
            "752:\tlearn: 0.6351902\ttotal: 21.8s\tremaining: 7.15s\n",
            "753:\tlearn: 0.6351900\ttotal: 21.8s\tremaining: 7.13s\n",
            "754:\tlearn: 0.6352160\ttotal: 21.9s\tremaining: 7.1s\n",
            "755:\tlearn: 0.6352651\ttotal: 21.9s\tremaining: 7.07s\n",
            "756:\tlearn: 0.6353024\ttotal: 21.9s\tremaining: 7.04s\n",
            "757:\tlearn: 0.6353447\ttotal: 22s\tremaining: 7.01s\n",
            "758:\tlearn: 0.6353545\ttotal: 22s\tremaining: 6.98s\n",
            "759:\tlearn: 0.6353786\ttotal: 22s\tremaining: 6.95s\n",
            "760:\tlearn: 0.6353978\ttotal: 22s\tremaining: 6.92s\n",
            "761:\tlearn: 0.6354065\ttotal: 22.1s\tremaining: 6.89s\n",
            "762:\tlearn: 0.6354312\ttotal: 22.1s\tremaining: 6.86s\n",
            "763:\tlearn: 0.6354762\ttotal: 22.1s\tremaining: 6.84s\n",
            "764:\tlearn: 0.6354833\ttotal: 22.2s\tremaining: 6.81s\n",
            "765:\tlearn: 0.6354929\ttotal: 22.2s\tremaining: 6.78s\n",
            "766:\tlearn: 0.6354427\ttotal: 22.2s\tremaining: 6.75s\n",
            "767:\tlearn: 0.6355010\ttotal: 22.2s\tremaining: 6.72s\n",
            "768:\tlearn: 0.6355078\ttotal: 22.3s\tremaining: 6.69s\n",
            "769:\tlearn: 0.6355628\ttotal: 22.3s\tremaining: 6.66s\n",
            "770:\tlearn: 0.6355718\ttotal: 22.3s\tremaining: 6.63s\n",
            "771:\tlearn: 0.6355399\ttotal: 22.4s\tremaining: 6.6s\n",
            "772:\tlearn: 0.6355377\ttotal: 22.4s\tremaining: 6.57s\n",
            "773:\tlearn: 0.6355835\ttotal: 22.4s\tremaining: 6.54s\n",
            "774:\tlearn: 0.6355711\ttotal: 22.4s\tremaining: 6.51s\n",
            "775:\tlearn: 0.6355780\ttotal: 22.5s\tremaining: 6.48s\n",
            "776:\tlearn: 0.6355629\ttotal: 22.5s\tremaining: 6.45s\n",
            "777:\tlearn: 0.6355585\ttotal: 22.5s\tremaining: 6.42s\n",
            "778:\tlearn: 0.6356282\ttotal: 22.6s\tremaining: 6.4s\n",
            "779:\tlearn: 0.6356161\ttotal: 22.6s\tremaining: 6.37s\n",
            "780:\tlearn: 0.6356709\ttotal: 22.6s\tremaining: 6.34s\n",
            "781:\tlearn: 0.6357084\ttotal: 22.6s\tremaining: 6.31s\n",
            "782:\tlearn: 0.6357077\ttotal: 22.7s\tremaining: 6.28s\n",
            "783:\tlearn: 0.6357567\ttotal: 22.7s\tremaining: 6.25s\n",
            "784:\tlearn: 0.6357472\ttotal: 22.7s\tremaining: 6.22s\n",
            "785:\tlearn: 0.6357937\ttotal: 22.8s\tremaining: 6.2s\n",
            "786:\tlearn: 0.6357885\ttotal: 22.8s\tremaining: 6.17s\n",
            "787:\tlearn: 0.6357728\ttotal: 22.8s\tremaining: 6.14s\n",
            "788:\tlearn: 0.6357442\ttotal: 22.9s\tremaining: 6.11s\n",
            "789:\tlearn: 0.6357374\ttotal: 22.9s\tremaining: 6.08s\n",
            "790:\tlearn: 0.6357287\ttotal: 22.9s\tremaining: 6.05s\n",
            "791:\tlearn: 0.6357807\ttotal: 22.9s\tremaining: 6.02s\n",
            "792:\tlearn: 0.6358191\ttotal: 23s\tremaining: 5.99s\n",
            "793:\tlearn: 0.6358686\ttotal: 23s\tremaining: 5.96s\n",
            "794:\tlearn: 0.6358350\ttotal: 23s\tremaining: 5.93s\n",
            "795:\tlearn: 0.6358977\ttotal: 23s\tremaining: 5.91s\n",
            "796:\tlearn: 0.6359266\ttotal: 23.1s\tremaining: 5.88s\n",
            "797:\tlearn: 0.6359982\ttotal: 23.1s\tremaining: 5.85s\n",
            "798:\tlearn: 0.6360003\ttotal: 23.1s\tremaining: 5.82s\n",
            "799:\tlearn: 0.6359996\ttotal: 23.2s\tremaining: 5.79s\n",
            "800:\tlearn: 0.6360226\ttotal: 23.2s\tremaining: 5.76s\n",
            "801:\tlearn: 0.6360015\ttotal: 23.2s\tremaining: 5.73s\n",
            "802:\tlearn: 0.6360447\ttotal: 23.3s\tremaining: 5.71s\n",
            "803:\tlearn: 0.6360565\ttotal: 23.3s\tremaining: 5.68s\n",
            "804:\tlearn: 0.6360480\ttotal: 23.3s\tremaining: 5.65s\n",
            "805:\tlearn: 0.6360542\ttotal: 23.3s\tremaining: 5.62s\n",
            "806:\tlearn: 0.6361023\ttotal: 23.4s\tremaining: 5.59s\n",
            "807:\tlearn: 0.6361476\ttotal: 23.4s\tremaining: 5.56s\n",
            "808:\tlearn: 0.6361181\ttotal: 23.4s\tremaining: 5.53s\n",
            "809:\tlearn: 0.6361672\ttotal: 23.4s\tremaining: 5.5s\n",
            "810:\tlearn: 0.6361364\ttotal: 23.5s\tremaining: 5.47s\n",
            "811:\tlearn: 0.6361355\ttotal: 23.5s\tremaining: 5.44s\n",
            "812:\tlearn: 0.6361799\ttotal: 23.5s\tremaining: 5.41s\n",
            "813:\tlearn: 0.6361711\ttotal: 23.6s\tremaining: 5.38s\n",
            "814:\tlearn: 0.6361965\ttotal: 23.6s\tremaining: 5.36s\n",
            "815:\tlearn: 0.6362171\ttotal: 23.6s\tremaining: 5.33s\n",
            "816:\tlearn: 0.6362069\ttotal: 23.7s\tremaining: 5.3s\n",
            "817:\tlearn: 0.6362502\ttotal: 23.7s\tremaining: 5.27s\n",
            "818:\tlearn: 0.6362455\ttotal: 23.7s\tremaining: 5.24s\n",
            "819:\tlearn: 0.6362685\ttotal: 23.7s\tremaining: 5.21s\n",
            "820:\tlearn: 0.6363223\ttotal: 23.8s\tremaining: 5.18s\n",
            "821:\tlearn: 0.6363349\ttotal: 23.8s\tremaining: 5.15s\n",
            "822:\tlearn: 0.6363114\ttotal: 23.8s\tremaining: 5.12s\n",
            "823:\tlearn: 0.6362896\ttotal: 23.9s\tremaining: 5.09s\n",
            "824:\tlearn: 0.6363214\ttotal: 23.9s\tremaining: 5.07s\n",
            "825:\tlearn: 0.6363837\ttotal: 23.9s\tremaining: 5.04s\n",
            "826:\tlearn: 0.6363457\ttotal: 23.9s\tremaining: 5.01s\n",
            "827:\tlearn: 0.6363688\ttotal: 24s\tremaining: 4.98s\n",
            "828:\tlearn: 0.6364489\ttotal: 24s\tremaining: 4.95s\n",
            "829:\tlearn: 0.6364524\ttotal: 24s\tremaining: 4.92s\n",
            "830:\tlearn: 0.6364394\ttotal: 24.1s\tremaining: 4.89s\n",
            "831:\tlearn: 0.6364631\ttotal: 24.1s\tremaining: 4.86s\n",
            "832:\tlearn: 0.6365013\ttotal: 24.1s\tremaining: 4.83s\n",
            "833:\tlearn: 0.6364776\ttotal: 24.1s\tremaining: 4.8s\n",
            "834:\tlearn: 0.6365141\ttotal: 24.2s\tremaining: 4.78s\n",
            "835:\tlearn: 0.6365004\ttotal: 24.2s\tremaining: 4.75s\n",
            "836:\tlearn: 0.6365088\ttotal: 24.2s\tremaining: 4.72s\n",
            "837:\tlearn: 0.6365285\ttotal: 24.2s\tremaining: 4.69s\n",
            "838:\tlearn: 0.6364923\ttotal: 24.3s\tremaining: 4.66s\n",
            "839:\tlearn: 0.6365411\ttotal: 24.3s\tremaining: 4.63s\n",
            "840:\tlearn: 0.6365842\ttotal: 24.3s\tremaining: 4.6s\n",
            "841:\tlearn: 0.6365710\ttotal: 24.4s\tremaining: 4.57s\n",
            "842:\tlearn: 0.6366220\ttotal: 24.4s\tremaining: 4.54s\n",
            "843:\tlearn: 0.6366168\ttotal: 24.4s\tremaining: 4.51s\n",
            "844:\tlearn: 0.6366824\ttotal: 24.4s\tremaining: 4.48s\n",
            "845:\tlearn: 0.6367052\ttotal: 24.5s\tremaining: 4.45s\n",
            "846:\tlearn: 0.6366625\ttotal: 24.5s\tremaining: 4.42s\n",
            "847:\tlearn: 0.6366846\ttotal: 24.5s\tremaining: 4.39s\n",
            "848:\tlearn: 0.6366853\ttotal: 24.6s\tremaining: 4.37s\n",
            "849:\tlearn: 0.6367126\ttotal: 24.6s\tremaining: 4.34s\n",
            "850:\tlearn: 0.6367373\ttotal: 24.6s\tremaining: 4.31s\n",
            "851:\tlearn: 0.6367802\ttotal: 24.7s\tremaining: 4.29s\n",
            "852:\tlearn: 0.6367450\ttotal: 24.7s\tremaining: 4.26s\n",
            "853:\tlearn: 0.6367531\ttotal: 24.7s\tremaining: 4.23s\n",
            "854:\tlearn: 0.6367415\ttotal: 24.8s\tremaining: 4.2s\n",
            "855:\tlearn: 0.6368103\ttotal: 24.8s\tremaining: 4.17s\n",
            "856:\tlearn: 0.6368031\ttotal: 24.8s\tremaining: 4.14s\n",
            "857:\tlearn: 0.6368330\ttotal: 24.8s\tremaining: 4.11s\n",
            "858:\tlearn: 0.6368917\ttotal: 24.9s\tremaining: 4.08s\n",
            "859:\tlearn: 0.6368494\ttotal: 24.9s\tremaining: 4.05s\n",
            "860:\tlearn: 0.6368599\ttotal: 24.9s\tremaining: 4.02s\n",
            "861:\tlearn: 0.6369066\ttotal: 25s\tremaining: 4s\n",
            "862:\tlearn: 0.6369004\ttotal: 25s\tremaining: 3.97s\n",
            "863:\tlearn: 0.6369636\ttotal: 25s\tremaining: 3.94s\n",
            "864:\tlearn: 0.6369550\ttotal: 25s\tremaining: 3.91s\n",
            "865:\tlearn: 0.6369389\ttotal: 25.1s\tremaining: 3.88s\n",
            "866:\tlearn: 0.6369943\ttotal: 25.1s\tremaining: 3.85s\n",
            "867:\tlearn: 0.6369927\ttotal: 25.1s\tremaining: 3.82s\n",
            "868:\tlearn: 0.6370164\ttotal: 25.2s\tremaining: 3.79s\n",
            "869:\tlearn: 0.6370780\ttotal: 25.2s\tremaining: 3.76s\n",
            "870:\tlearn: 0.6370902\ttotal: 25.2s\tremaining: 3.73s\n",
            "871:\tlearn: 0.6370723\ttotal: 25.2s\tremaining: 3.7s\n",
            "872:\tlearn: 0.6371022\ttotal: 25.3s\tremaining: 3.68s\n",
            "873:\tlearn: 0.6370709\ttotal: 25.3s\tremaining: 3.65s\n",
            "874:\tlearn: 0.6371178\ttotal: 25.3s\tremaining: 3.62s\n",
            "875:\tlearn: 0.6371064\ttotal: 25.4s\tremaining: 3.59s\n",
            "876:\tlearn: 0.6371477\ttotal: 25.4s\tremaining: 3.56s\n",
            "877:\tlearn: 0.6372036\ttotal: 25.4s\tremaining: 3.53s\n",
            "878:\tlearn: 0.6372224\ttotal: 25.4s\tremaining: 3.5s\n",
            "879:\tlearn: 0.6372328\ttotal: 25.5s\tremaining: 3.47s\n",
            "880:\tlearn: 0.6372339\ttotal: 25.5s\tremaining: 3.44s\n",
            "881:\tlearn: 0.6372512\ttotal: 25.5s\tremaining: 3.41s\n",
            "882:\tlearn: 0.6372700\ttotal: 25.6s\tremaining: 3.38s\n",
            "883:\tlearn: 0.6373068\ttotal: 25.6s\tremaining: 3.36s\n",
            "884:\tlearn: 0.6373298\ttotal: 25.6s\tremaining: 3.33s\n",
            "885:\tlearn: 0.6373456\ttotal: 25.6s\tremaining: 3.3s\n",
            "886:\tlearn: 0.6372964\ttotal: 25.7s\tremaining: 3.27s\n",
            "887:\tlearn: 0.6373814\ttotal: 25.7s\tremaining: 3.24s\n",
            "888:\tlearn: 0.6374454\ttotal: 25.7s\tremaining: 3.21s\n",
            "889:\tlearn: 0.6374601\ttotal: 25.8s\tremaining: 3.19s\n",
            "890:\tlearn: 0.6374221\ttotal: 25.8s\tremaining: 3.16s\n",
            "891:\tlearn: 0.6374190\ttotal: 25.8s\tremaining: 3.13s\n",
            "892:\tlearn: 0.6374210\ttotal: 25.9s\tremaining: 3.1s\n",
            "893:\tlearn: 0.6373945\ttotal: 25.9s\tremaining: 3.07s\n",
            "894:\tlearn: 0.6374060\ttotal: 25.9s\tremaining: 3.04s\n",
            "895:\tlearn: 0.6375055\ttotal: 26s\tremaining: 3.01s\n",
            "896:\tlearn: 0.6375060\ttotal: 26s\tremaining: 2.98s\n",
            "897:\tlearn: 0.6375065\ttotal: 26s\tremaining: 2.95s\n",
            "898:\tlearn: 0.6375239\ttotal: 26s\tremaining: 2.92s\n",
            "899:\tlearn: 0.6375270\ttotal: 26.1s\tremaining: 2.9s\n",
            "900:\tlearn: 0.6375855\ttotal: 26.1s\tremaining: 2.87s\n",
            "901:\tlearn: 0.6375514\ttotal: 26.1s\tremaining: 2.84s\n",
            "902:\tlearn: 0.6375257\ttotal: 26.2s\tremaining: 2.81s\n",
            "903:\tlearn: 0.6375339\ttotal: 26.2s\tremaining: 2.78s\n",
            "904:\tlearn: 0.6375831\ttotal: 26.2s\tremaining: 2.75s\n",
            "905:\tlearn: 0.6376090\ttotal: 26.2s\tremaining: 2.72s\n",
            "906:\tlearn: 0.6376082\ttotal: 26.3s\tremaining: 2.69s\n",
            "907:\tlearn: 0.6376743\ttotal: 26.3s\tremaining: 2.66s\n",
            "908:\tlearn: 0.6377008\ttotal: 26.3s\tremaining: 2.63s\n",
            "909:\tlearn: 0.6377481\ttotal: 26.3s\tremaining: 2.6s\n",
            "910:\tlearn: 0.6377132\ttotal: 26.4s\tremaining: 2.58s\n",
            "911:\tlearn: 0.6376952\ttotal: 26.4s\tremaining: 2.55s\n",
            "912:\tlearn: 0.6377159\ttotal: 26.4s\tremaining: 2.52s\n",
            "913:\tlearn: 0.6377151\ttotal: 26.5s\tremaining: 2.49s\n",
            "914:\tlearn: 0.6377518\ttotal: 26.5s\tremaining: 2.46s\n",
            "915:\tlearn: 0.6377786\ttotal: 26.5s\tremaining: 2.43s\n",
            "916:\tlearn: 0.6377774\ttotal: 26.6s\tremaining: 2.4s\n",
            "917:\tlearn: 0.6378149\ttotal: 26.6s\tremaining: 2.38s\n",
            "918:\tlearn: 0.6378429\ttotal: 26.6s\tremaining: 2.35s\n",
            "919:\tlearn: 0.6378458\ttotal: 26.7s\tremaining: 2.32s\n",
            "920:\tlearn: 0.6378207\ttotal: 26.7s\tremaining: 2.29s\n",
            "921:\tlearn: 0.6377967\ttotal: 26.7s\tremaining: 2.26s\n",
            "922:\tlearn: 0.6378595\ttotal: 26.8s\tremaining: 2.23s\n",
            "923:\tlearn: 0.6378896\ttotal: 26.8s\tremaining: 2.2s\n",
            "924:\tlearn: 0.6379214\ttotal: 26.8s\tremaining: 2.17s\n",
            "925:\tlearn: 0.6378748\ttotal: 26.8s\tremaining: 2.15s\n",
            "926:\tlearn: 0.6379086\ttotal: 26.9s\tremaining: 2.12s\n",
            "927:\tlearn: 0.6379476\ttotal: 26.9s\tremaining: 2.09s\n",
            "928:\tlearn: 0.6379752\ttotal: 26.9s\tremaining: 2.06s\n",
            "929:\tlearn: 0.6379827\ttotal: 27s\tremaining: 2.03s\n",
            "930:\tlearn: 0.6380456\ttotal: 27s\tremaining: 2s\n",
            "931:\tlearn: 0.6380325\ttotal: 27s\tremaining: 1.97s\n",
            "932:\tlearn: 0.6380425\ttotal: 27s\tremaining: 1.94s\n",
            "933:\tlearn: 0.6381385\ttotal: 27.1s\tremaining: 1.91s\n",
            "934:\tlearn: 0.6381384\ttotal: 27.1s\tremaining: 1.88s\n",
            "935:\tlearn: 0.6381547\ttotal: 27.1s\tremaining: 1.86s\n",
            "936:\tlearn: 0.6381715\ttotal: 27.2s\tremaining: 1.83s\n",
            "937:\tlearn: 0.6381738\ttotal: 27.2s\tremaining: 1.8s\n",
            "938:\tlearn: 0.6381633\ttotal: 27.2s\tremaining: 1.77s\n",
            "939:\tlearn: 0.6382152\ttotal: 27.3s\tremaining: 1.74s\n",
            "940:\tlearn: 0.6382067\ttotal: 27.3s\tremaining: 1.71s\n",
            "941:\tlearn: 0.6382379\ttotal: 27.3s\tremaining: 1.68s\n",
            "942:\tlearn: 0.6382271\ttotal: 27.4s\tremaining: 1.65s\n",
            "943:\tlearn: 0.6382405\ttotal: 27.4s\tremaining: 1.62s\n",
            "944:\tlearn: 0.6382651\ttotal: 27.4s\tremaining: 1.59s\n",
            "945:\tlearn: 0.6383005\ttotal: 27.4s\tremaining: 1.57s\n",
            "946:\tlearn: 0.6383423\ttotal: 27.5s\tremaining: 1.54s\n",
            "947:\tlearn: 0.6383629\ttotal: 27.5s\tremaining: 1.51s\n",
            "948:\tlearn: 0.6382947\ttotal: 27.5s\tremaining: 1.48s\n",
            "949:\tlearn: 0.6382858\ttotal: 27.6s\tremaining: 1.45s\n",
            "950:\tlearn: 0.6383060\ttotal: 27.6s\tremaining: 1.42s\n",
            "951:\tlearn: 0.6383355\ttotal: 27.6s\tremaining: 1.39s\n",
            "952:\tlearn: 0.6383707\ttotal: 27.6s\tremaining: 1.36s\n",
            "953:\tlearn: 0.6383610\ttotal: 27.7s\tremaining: 1.33s\n",
            "954:\tlearn: 0.6383803\ttotal: 27.7s\tremaining: 1.3s\n",
            "955:\tlearn: 0.6383340\ttotal: 27.7s\tremaining: 1.28s\n",
            "956:\tlearn: 0.6383563\ttotal: 27.8s\tremaining: 1.25s\n",
            "957:\tlearn: 0.6383561\ttotal: 27.8s\tremaining: 1.22s\n",
            "958:\tlearn: 0.6384011\ttotal: 27.8s\tremaining: 1.19s\n",
            "959:\tlearn: 0.6384525\ttotal: 27.8s\tremaining: 1.16s\n",
            "960:\tlearn: 0.6384406\ttotal: 27.9s\tremaining: 1.13s\n",
            "961:\tlearn: 0.6384622\ttotal: 27.9s\tremaining: 1.1s\n",
            "962:\tlearn: 0.6385242\ttotal: 27.9s\tremaining: 1.07s\n",
            "963:\tlearn: 0.6385145\ttotal: 28s\tremaining: 1.04s\n",
            "964:\tlearn: 0.6385077\ttotal: 28s\tremaining: 1.01s\n",
            "965:\tlearn: 0.6384882\ttotal: 28s\tremaining: 986ms\n",
            "966:\tlearn: 0.6385045\ttotal: 28s\tremaining: 957ms\n",
            "967:\tlearn: 0.6385292\ttotal: 28.1s\tremaining: 928ms\n",
            "968:\tlearn: 0.6385281\ttotal: 28.1s\tremaining: 899ms\n",
            "969:\tlearn: 0.6384978\ttotal: 28.1s\tremaining: 870ms\n",
            "970:\tlearn: 0.6385436\ttotal: 28.2s\tremaining: 841ms\n",
            "971:\tlearn: 0.6386192\ttotal: 28.2s\tremaining: 812ms\n",
            "972:\tlearn: 0.6386098\ttotal: 28.2s\tremaining: 783ms\n",
            "973:\tlearn: 0.6386209\ttotal: 28.2s\tremaining: 754ms\n",
            "974:\tlearn: 0.6386252\ttotal: 28.3s\tremaining: 725ms\n",
            "975:\tlearn: 0.6386526\ttotal: 28.3s\tremaining: 696ms\n",
            "976:\tlearn: 0.6386624\ttotal: 28.3s\tremaining: 667ms\n",
            "977:\tlearn: 0.6386355\ttotal: 28.4s\tremaining: 638ms\n",
            "978:\tlearn: 0.6386824\ttotal: 28.4s\tremaining: 609ms\n",
            "979:\tlearn: 0.6387039\ttotal: 28.4s\tremaining: 580ms\n",
            "980:\tlearn: 0.6387162\ttotal: 28.4s\tremaining: 551ms\n",
            "981:\tlearn: 0.6387402\ttotal: 28.5s\tremaining: 522ms\n",
            "982:\tlearn: 0.6387426\ttotal: 28.5s\tremaining: 493ms\n",
            "983:\tlearn: 0.6387624\ttotal: 28.5s\tremaining: 464ms\n",
            "984:\tlearn: 0.6388009\ttotal: 28.6s\tremaining: 435ms\n",
            "985:\tlearn: 0.6387941\ttotal: 28.6s\tremaining: 406ms\n",
            "986:\tlearn: 0.6388571\ttotal: 28.6s\tremaining: 377ms\n",
            "987:\tlearn: 0.6388323\ttotal: 28.6s\tremaining: 348ms\n",
            "988:\tlearn: 0.6388562\ttotal: 28.7s\tremaining: 319ms\n",
            "989:\tlearn: 0.6388753\ttotal: 28.7s\tremaining: 290ms\n",
            "990:\tlearn: 0.6389164\ttotal: 28.7s\tremaining: 261ms\n",
            "991:\tlearn: 0.6389277\ttotal: 28.8s\tremaining: 232ms\n",
            "992:\tlearn: 0.6389044\ttotal: 28.8s\tremaining: 203ms\n",
            "993:\tlearn: 0.6389348\ttotal: 28.8s\tremaining: 174ms\n",
            "994:\tlearn: 0.6389500\ttotal: 28.9s\tremaining: 145ms\n",
            "995:\tlearn: 0.6389751\ttotal: 28.9s\tremaining: 116ms\n",
            "996:\tlearn: 0.6389936\ttotal: 28.9s\tremaining: 87ms\n",
            "997:\tlearn: 0.6389930\ttotal: 28.9s\tremaining: 58ms\n",
            "998:\tlearn: 0.6389670\ttotal: 29s\tremaining: 29ms\n",
            "999:\tlearn: 0.6389770\ttotal: 29s\tremaining: 0us\n"
          ]
        },
        {
          "data": {
            "text/plain": [
              "<catboost.core.CatBoostClassifier at 0x7f0444fd6710>"
            ]
          },
          "execution_count": 26,
          "metadata": {},
          "output_type": "execute_result"
        }
      ],
      "source": [
        "model = CatBoostClassifier(random_state=123,task_type='GPU',\n",
        "                               eval_metric=\"F1\")\n",
        "    \n",
        "model.fit(X_train, y_train)"
      ]
    },
    {
      "cell_type": "code",
      "execution_count": null,
      "metadata": {
        "colab": {
          "base_uri": "https://localhost:8080/"
        },
        "id": "hL5gdl5wQKJW",
        "outputId": "24a55ed8-02c8-4f9c-eff3-76ef71fbbd9b"
      },
      "outputs": [
        {
          "data": {
            "text/plain": [
              "d_l_match_yn              9.951124\n",
              "contents_attribute_j_1    6.390700\n",
              "contents_attribute_d      5.925581\n",
              "contents_attribute_e      4.541132\n",
              "person_prefer_d_1_n       3.877647\n",
              "                            ...   \n",
              "8                         0.000000\n",
              "6                         0.000000\n",
              "2                         0.000000\n",
              "1                         0.000000\n",
              "20                        0.000000\n",
              "Length: 120, dtype: float64"
            ]
          },
          "execution_count": 28,
          "metadata": {},
          "output_type": "execute_result"
        }
      ],
      "source": [
        "pd.Series(model.feature_importances_,X_train.columns).sort_values(ascending=False)"
      ]
    },
    {
      "cell_type": "code",
      "execution_count": 41,
      "metadata": {
        "id": "oYnbOYBLVH6s"
      },
      "outputs": [],
      "source": [
        "n_est = 3000\n",
        "seed = 42\n",
        "n_fold = 7\n",
        "n_class = 1\n",
        "\n",
        "X = X_train.copy()\n",
        "y = y_train"
      ]
    },
    {
      "cell_type": "code",
      "execution_count": 44,
      "metadata": {
        "colab": {
          "base_uri": "https://localhost:8080/"
        },
        "id": "KapZoHGNVH_3",
        "outputId": "9303aded-8ec8-46e8-af86-63bb79dcae9e"
      },
      "outputs": [
        {
          "output_type": "stream",
          "name": "stdout",
          "text": [
            "\n",
            "----------------- Fold 0 -----------------\n",
            "\n",
            "Learning rate set to 0.042526\n",
            "0:\tlearn: 0.5989088\ttest: 0.6027335\tbest: 0.6027335 (0)\ttotal: 732ms\tremaining: 12m 11s\n",
            "100:\tlearn: 0.6449051\ttest: 0.6580487\tbest: 0.6580487 (100)\ttotal: 1m 7s\tremaining: 9m 59s\n",
            "200:\tlearn: 0.6538745\ttest: 0.6693628\tbest: 0.6693628 (200)\ttotal: 2m 7s\tremaining: 8m 27s\n",
            "300:\tlearn: 0.6595767\ttest: 0.6734015\tbest: 0.6739130 (291)\ttotal: 3m 7s\tremaining: 7m 15s\n",
            "400:\tlearn: 0.6636661\ttest: 0.6775199\tbest: 0.6775199 (400)\ttotal: 4m 5s\tremaining: 6m 6s\n",
            "500:\tlearn: 0.6673565\ttest: 0.6764620\tbest: 0.6776740 (450)\ttotal: 5m 4s\tremaining: 5m 3s\n",
            "bestTest = 0.6776739712\n",
            "bestIteration = 450\n",
            "Shrink model to first 451 iterations.\n",
            "CV F1 score: 0.707395\n",
            "\n",
            "----------------- Fold 1 -----------------\n",
            "\n",
            "Learning rate set to 0.042526\n",
            "0:\tlearn: 0.6128201\ttest: 0.6174224\tbest: 0.6174224 (0)\ttotal: 731ms\tremaining: 12m 10s\n",
            "100:\tlearn: 0.6433431\ttest: 0.6553459\tbest: 0.6553459 (100)\ttotal: 1m 6s\tremaining: 9m 48s\n",
            "200:\tlearn: 0.6531491\ttest: 0.6712953\tbest: 0.6713869 (194)\ttotal: 2m 7s\tremaining: 8m 25s\n",
            "300:\tlearn: 0.6588986\ttest: 0.6756046\tbest: 0.6756046 (300)\ttotal: 3m 7s\tremaining: 7m 15s\n",
            "400:\tlearn: 0.6641589\ttest: 0.6782105\tbest: 0.6790544 (355)\ttotal: 4m 7s\tremaining: 6m 9s\n",
            "bestTest = 0.6790543624\n",
            "bestIteration = 355\n",
            "Shrink model to first 356 iterations.\n",
            "CV F1 score: 0.705106\n",
            "\n",
            "----------------- Fold 2 -----------------\n",
            "\n",
            "Learning rate set to 0.042526\n",
            "0:\tlearn: 0.6128748\ttest: 0.6083786\tbest: 0.6083786 (0)\ttotal: 729ms\tremaining: 12m 7s\n",
            "100:\tlearn: 0.6458902\ttest: 0.6536291\tbest: 0.6539407 (99)\ttotal: 1m 4s\tremaining: 9m 37s\n",
            "200:\tlearn: 0.6545821\ttest: 0.6640383\tbest: 0.6640383 (200)\ttotal: 2m 6s\tremaining: 8m 24s\n",
            "300:\tlearn: 0.6609589\ttest: 0.6689746\tbest: 0.6689824 (299)\ttotal: 3m 7s\tremaining: 7m 15s\n",
            "400:\tlearn: 0.6656628\ttest: 0.6735367\tbest: 0.6736683 (394)\ttotal: 4m 6s\tremaining: 6m 7s\n",
            "500:\tlearn: 0.6687485\ttest: 0.6754951\tbest: 0.6756019 (490)\ttotal: 5m 4s\tremaining: 5m 2s\n",
            "600:\tlearn: 0.6715710\ttest: 0.6766770\tbest: 0.6770496 (589)\ttotal: 6m 2s\tremaining: 4m\n",
            "700:\tlearn: 0.6734425\ttest: 0.6770633\tbest: 0.6772872 (695)\ttotal: 6m 59s\tremaining: 2m 59s\n",
            "800:\tlearn: 0.6748829\ttest: 0.6772445\tbest: 0.6775688 (786)\ttotal: 7m 57s\tremaining: 1m 58s\n",
            "900:\tlearn: 0.6761549\ttest: 0.6776484\tbest: 0.6776951 (896)\ttotal: 8m 54s\tremaining: 58.7s\n",
            "999:\tlearn: 0.6772502\ttest: 0.6779546\tbest: 0.6784241 (957)\ttotal: 9m 50s\tremaining: 0us\n",
            "bestTest = 0.6784241064\n",
            "bestIteration = 957\n",
            "Shrink model to first 958 iterations.\n",
            "CV F1 score: 0.709146\n",
            "\n",
            "----------------- Fold 3 -----------------\n",
            "\n",
            "Learning rate set to 0.042526\n",
            "0:\tlearn: 0.6263964\ttest: 0.6266737\tbest: 0.6266737 (0)\ttotal: 875ms\tremaining: 14m 34s\n",
            "100:\tlearn: 0.6422922\ttest: 0.6567507\tbest: 0.6567507 (100)\ttotal: 1m 5s\tremaining: 9m 42s\n",
            "200:\tlearn: 0.6537095\ttest: 0.6696144\tbest: 0.6696910 (197)\ttotal: 2m 7s\tremaining: 8m 27s\n",
            "300:\tlearn: 0.6593627\ttest: 0.6746677\tbest: 0.6746677 (300)\ttotal: 3m 6s\tremaining: 7m 12s\n",
            "400:\tlearn: 0.6641392\ttest: 0.6759799\tbest: 0.6761005 (387)\ttotal: 4m 4s\tremaining: 6m 4s\n",
            "500:\tlearn: 0.6678072\ttest: 0.6761221\tbest: 0.6779065 (447)\ttotal: 5m 2s\tremaining: 5m 1s\n",
            "bestTest = 0.6779064576\n",
            "bestIteration = 447\n",
            "Shrink model to first 448 iterations.\n",
            "CV F1 score: 0.706297\n",
            "\n",
            "----------------- Fold 4 -----------------\n",
            "\n",
            "Learning rate set to 0.042526\n",
            "0:\tlearn: 0.6142469\ttest: 0.6165823\tbest: 0.6165823 (0)\ttotal: 722ms\tremaining: 12m 1s\n",
            "100:\tlearn: 0.6432189\ttest: 0.6597936\tbest: 0.6597936 (100)\ttotal: 1m 5s\tremaining: 9m 44s\n",
            "200:\tlearn: 0.6540342\ttest: 0.6726216\tbest: 0.6726216 (200)\ttotal: 2m 7s\tremaining: 8m 26s\n",
            "300:\tlearn: 0.6600797\ttest: 0.6762876\tbest: 0.6765551 (295)\ttotal: 3m 6s\tremaining: 7m 12s\n",
            "400:\tlearn: 0.6651860\ttest: 0.6780965\tbest: 0.6783754 (392)\ttotal: 4m 5s\tremaining: 6m 6s\n",
            "500:\tlearn: 0.6686531\ttest: 0.6784081\tbest: 0.6787810 (448)\ttotal: 5m 3s\tremaining: 5m 2s\n",
            "bestTest = 0.6787810056\n",
            "bestIteration = 448\n",
            "Shrink model to first 449 iterations.\n",
            "CV F1 score: 0.708300\n",
            "\n",
            "----------------- Fold 5 -----------------\n",
            "\n",
            "Learning rate set to 0.042526\n",
            "0:\tlearn: 0.6056353\ttest: 0.6081692\tbest: 0.6081692 (0)\ttotal: 705ms\tremaining: 11m 44s\n",
            "100:\tlearn: 0.6437015\ttest: 0.6553697\tbest: 0.6556021 (99)\ttotal: 1m 5s\tremaining: 9m 42s\n",
            "200:\tlearn: 0.6542278\ttest: 0.6687629\tbest: 0.6687629 (200)\ttotal: 2m 6s\tremaining: 8m 22s\n",
            "300:\tlearn: 0.6604046\ttest: 0.6735003\tbest: 0.6736471 (298)\ttotal: 3m 6s\tremaining: 7m 13s\n",
            "400:\tlearn: 0.6649474\ttest: 0.6747424\tbest: 0.6748687 (392)\ttotal: 4m 5s\tremaining: 6m 6s\n",
            "500:\tlearn: 0.6686960\ttest: 0.6758586\tbest: 0.6768230 (493)\ttotal: 5m 3s\tremaining: 5m 2s\n",
            "600:\tlearn: 0.6709962\ttest: 0.6772682\tbest: 0.6775898 (563)\ttotal: 6m 1s\tremaining: 3m 59s\n",
            "bestTest = 0.6775898098\n",
            "bestIteration = 563\n",
            "Shrink model to first 564 iterations.\n",
            "CV F1 score: 0.707699\n",
            "\n",
            "----------------- Fold 6 -----------------\n",
            "\n",
            "Learning rate set to 0.042526\n",
            "0:\tlearn: 0.6059896\ttest: 0.6113461\tbest: 0.6113461 (0)\ttotal: 666ms\tremaining: 11m 5s\n",
            "100:\tlearn: 0.6431669\ttest: 0.6597179\tbest: 0.6599698 (97)\ttotal: 1m 5s\tremaining: 9m 41s\n",
            "200:\tlearn: 0.6530628\ttest: 0.6728375\tbest: 0.6728688 (198)\ttotal: 2m 5s\tremaining: 8m 19s\n",
            "300:\tlearn: 0.6592996\ttest: 0.6770502\tbest: 0.6773118 (292)\ttotal: 3m 5s\tremaining: 7m 10s\n",
            "400:\tlearn: 0.6649926\ttest: 0.6795107\tbest: 0.6795468 (399)\ttotal: 4m 4s\tremaining: 6m 5s\n",
            "500:\tlearn: 0.6678303\ttest: 0.6806794\tbest: 0.6807046 (499)\ttotal: 5m 2s\tremaining: 5m\n",
            "600:\tlearn: 0.6705972\ttest: 0.6810943\tbest: 0.6814729 (582)\ttotal: 6m\tremaining: 3m 59s\n",
            "700:\tlearn: 0.6721937\ttest: 0.6817021\tbest: 0.6819518 (692)\ttotal: 6m 58s\tremaining: 2m 58s\n",
            "800:\tlearn: 0.6737361\ttest: 0.6819522\tbest: 0.6820265 (730)\ttotal: 7m 54s\tremaining: 1m 57s\n",
            "900:\tlearn: 0.6749912\ttest: 0.6812085\tbest: 0.6823077 (814)\ttotal: 8m 53s\tremaining: 58.6s\n",
            "bestTest = 0.6823077231\n",
            "bestIteration = 814\n",
            "Shrink model to first 815 iterations.\n",
            "CV F1 score: 0.712414\n",
            "\tF1 score: 0.708028\n"
          ]
        }
      ],
      "source": [
        "skfold = StratifiedKFold(n_splits=n_fold, shuffle=True, random_state=seed)\n",
        "folds=[]\n",
        "for train_idx, valid_idx in skfold.split(X, y):\n",
        "        folds.append((train_idx, valid_idx))\n",
        "\n",
        "cat_pred = np.zeros((X.shape[0], n_class))\n",
        "cat_pred_test = 0\n",
        "cat_cols = X_train.columns[X_train.nunique() > 2].tolist()\n",
        "for fold in range(n_fold):\n",
        "  print(f'\\n----------------- Fold {fold} -----------------\\n')\n",
        "  train_idx, valid_idx = folds[fold]\n",
        "  X_train, X_valid, y_train, y_valid = X.iloc[train_idx], X.iloc[valid_idx], y[train_idx], y[valid_idx]\n",
        "  train_data = Pool(data=X_train, label=y_train, cat_features=cat_cols)\n",
        "  valid_data = Pool(data=X_valid, label=y_valid, cat_features=cat_cols)\n",
        "\n",
        "  model_cat = CatBoostClassifier(eval_metric=\"F1\", task_type='GPU')\n",
        "  model_cat.fit(train_data, eval_set=valid_data, use_best_model=True, early_stopping_rounds=100, verbose=100)\n",
        "  \n",
        "  cat_pred[valid_idx] = pd.DataFrame(model_cat.predict_proba(X_valid)[:, 1], index=X_valid.index)\n",
        "  cat_pred_test = cat_pred_test + (model_cat.predict_proba(X_test)[:, 1] / n_fold)\n",
        "  pred = np.where(cat_pred >= 0.4 , 1, 0)\n",
        "  pred_test = np.where(cat_pred_test >= 0.4 , 1, 0)\n",
        "\n",
        "  print(f'CV F1 score: {f1_score(y_valid, pred[valid_idx]):.6f}')\n",
        "    \n",
        "print(f'\\tF1 score: {f1_score(y, pred):.6f}')"
      ]
    },
    {
      "cell_type": "code",
      "source": [
        "submission['target'] = pred_test\n",
        "submission"
      ],
      "metadata": {
        "colab": {
          "base_uri": "https://localhost:8080/",
          "height": 424
        },
        "id": "lBQvTiJiQpIz",
        "outputId": "540b84ae-e1c6-4377-af9a-9694758ef0d6"
      },
      "execution_count": 46,
      "outputs": [
        {
          "output_type": "execute_result",
          "data": {
            "text/html": [
              "\n",
              "  <div id=\"df-512c50a9-e203-483a-9fa5-9c90912eab73\">\n",
              "    <div class=\"colab-df-container\">\n",
              "      <div>\n",
              "<style scoped>\n",
              "    .dataframe tbody tr th:only-of-type {\n",
              "        vertical-align: middle;\n",
              "    }\n",
              "\n",
              "    .dataframe tbody tr th {\n",
              "        vertical-align: top;\n",
              "    }\n",
              "\n",
              "    .dataframe thead th {\n",
              "        text-align: right;\n",
              "    }\n",
              "</style>\n",
              "<table border=\"1\" class=\"dataframe\">\n",
              "  <thead>\n",
              "    <tr style=\"text-align: right;\">\n",
              "      <th></th>\n",
              "      <th>id</th>\n",
              "      <th>target</th>\n",
              "    </tr>\n",
              "  </thead>\n",
              "  <tbody>\n",
              "    <tr>\n",
              "      <th>0</th>\n",
              "      <td>0</td>\n",
              "      <td>0</td>\n",
              "    </tr>\n",
              "    <tr>\n",
              "      <th>1</th>\n",
              "      <td>1</td>\n",
              "      <td>0</td>\n",
              "    </tr>\n",
              "    <tr>\n",
              "      <th>2</th>\n",
              "      <td>2</td>\n",
              "      <td>1</td>\n",
              "    </tr>\n",
              "    <tr>\n",
              "      <th>3</th>\n",
              "      <td>3</td>\n",
              "      <td>0</td>\n",
              "    </tr>\n",
              "    <tr>\n",
              "      <th>4</th>\n",
              "      <td>4</td>\n",
              "      <td>1</td>\n",
              "    </tr>\n",
              "    <tr>\n",
              "      <th>...</th>\n",
              "      <td>...</td>\n",
              "      <td>...</td>\n",
              "    </tr>\n",
              "    <tr>\n",
              "      <th>46399</th>\n",
              "      <td>46399</td>\n",
              "      <td>1</td>\n",
              "    </tr>\n",
              "    <tr>\n",
              "      <th>46400</th>\n",
              "      <td>46400</td>\n",
              "      <td>1</td>\n",
              "    </tr>\n",
              "    <tr>\n",
              "      <th>46401</th>\n",
              "      <td>46401</td>\n",
              "      <td>1</td>\n",
              "    </tr>\n",
              "    <tr>\n",
              "      <th>46402</th>\n",
              "      <td>46402</td>\n",
              "      <td>1</td>\n",
              "    </tr>\n",
              "    <tr>\n",
              "      <th>46403</th>\n",
              "      <td>46403</td>\n",
              "      <td>1</td>\n",
              "    </tr>\n",
              "  </tbody>\n",
              "</table>\n",
              "<p>46404 rows × 2 columns</p>\n",
              "</div>\n",
              "      <button class=\"colab-df-convert\" onclick=\"convertToInteractive('df-512c50a9-e203-483a-9fa5-9c90912eab73')\"\n",
              "              title=\"Convert this dataframe to an interactive table.\"\n",
              "              style=\"display:none;\">\n",
              "        \n",
              "  <svg xmlns=\"http://www.w3.org/2000/svg\" height=\"24px\"viewBox=\"0 0 24 24\"\n",
              "       width=\"24px\">\n",
              "    <path d=\"M0 0h24v24H0V0z\" fill=\"none\"/>\n",
              "    <path d=\"M18.56 5.44l.94 2.06.94-2.06 2.06-.94-2.06-.94-.94-2.06-.94 2.06-2.06.94zm-11 1L8.5 8.5l.94-2.06 2.06-.94-2.06-.94L8.5 2.5l-.94 2.06-2.06.94zm10 10l.94 2.06.94-2.06 2.06-.94-2.06-.94-.94-2.06-.94 2.06-2.06.94z\"/><path d=\"M17.41 7.96l-1.37-1.37c-.4-.4-.92-.59-1.43-.59-.52 0-1.04.2-1.43.59L10.3 9.45l-7.72 7.72c-.78.78-.78 2.05 0 2.83L4 21.41c.39.39.9.59 1.41.59.51 0 1.02-.2 1.41-.59l7.78-7.78 2.81-2.81c.8-.78.8-2.07 0-2.86zM5.41 20L4 18.59l7.72-7.72 1.47 1.35L5.41 20z\"/>\n",
              "  </svg>\n",
              "      </button>\n",
              "      \n",
              "  <style>\n",
              "    .colab-df-container {\n",
              "      display:flex;\n",
              "      flex-wrap:wrap;\n",
              "      gap: 12px;\n",
              "    }\n",
              "\n",
              "    .colab-df-convert {\n",
              "      background-color: #E8F0FE;\n",
              "      border: none;\n",
              "      border-radius: 50%;\n",
              "      cursor: pointer;\n",
              "      display: none;\n",
              "      fill: #1967D2;\n",
              "      height: 32px;\n",
              "      padding: 0 0 0 0;\n",
              "      width: 32px;\n",
              "    }\n",
              "\n",
              "    .colab-df-convert:hover {\n",
              "      background-color: #E2EBFA;\n",
              "      box-shadow: 0px 1px 2px rgba(60, 64, 67, 0.3), 0px 1px 3px 1px rgba(60, 64, 67, 0.15);\n",
              "      fill: #174EA6;\n",
              "    }\n",
              "\n",
              "    [theme=dark] .colab-df-convert {\n",
              "      background-color: #3B4455;\n",
              "      fill: #D2E3FC;\n",
              "    }\n",
              "\n",
              "    [theme=dark] .colab-df-convert:hover {\n",
              "      background-color: #434B5C;\n",
              "      box-shadow: 0px 1px 3px 1px rgba(0, 0, 0, 0.15);\n",
              "      filter: drop-shadow(0px 1px 2px rgba(0, 0, 0, 0.3));\n",
              "      fill: #FFFFFF;\n",
              "    }\n",
              "  </style>\n",
              "\n",
              "      <script>\n",
              "        const buttonEl =\n",
              "          document.querySelector('#df-512c50a9-e203-483a-9fa5-9c90912eab73 button.colab-df-convert');\n",
              "        buttonEl.style.display =\n",
              "          google.colab.kernel.accessAllowed ? 'block' : 'none';\n",
              "\n",
              "        async function convertToInteractive(key) {\n",
              "          const element = document.querySelector('#df-512c50a9-e203-483a-9fa5-9c90912eab73');\n",
              "          const dataTable =\n",
              "            await google.colab.kernel.invokeFunction('convertToInteractive',\n",
              "                                                     [key], {});\n",
              "          if (!dataTable) return;\n",
              "\n",
              "          const docLinkHtml = 'Like what you see? Visit the ' +\n",
              "            '<a target=\"_blank\" href=https://colab.research.google.com/notebooks/data_table.ipynb>data table notebook</a>'\n",
              "            + ' to learn more about interactive tables.';\n",
              "          element.innerHTML = '';\n",
              "          dataTable['output_type'] = 'display_data';\n",
              "          await google.colab.output.renderOutput(dataTable, element);\n",
              "          const docLink = document.createElement('div');\n",
              "          docLink.innerHTML = docLinkHtml;\n",
              "          element.appendChild(docLink);\n",
              "        }\n",
              "      </script>\n",
              "    </div>\n",
              "  </div>\n",
              "  "
            ],
            "text/plain": [
              "          id  target\n",
              "0          0       0\n",
              "1          1       0\n",
              "2          2       1\n",
              "3          3       0\n",
              "4          4       1\n",
              "...      ...     ...\n",
              "46399  46399       1\n",
              "46400  46400       1\n",
              "46401  46401       1\n",
              "46402  46402       1\n",
              "46403  46403       1\n",
              "\n",
              "[46404 rows x 2 columns]"
            ]
          },
          "metadata": {},
          "execution_count": 46
        }
      ]
    },
    {
      "cell_type": "code",
      "source": [
        "submission.to_csv(path + \"prediction_0117.csv\", index=False)"
      ],
      "metadata": {
        "id": "vDK9JM2tPtvf"
      },
      "execution_count": 47,
      "outputs": []
    },
    {
      "cell_type": "code",
      "execution_count": null,
      "metadata": {
        "id": "u-6BK_l3VIE3"
      },
      "outputs": [],
      "source": [
        "is_holdout = False\n",
        "n_splits = 5\n",
        "iterations = 1000\n",
        "patience = 20\n",
        "\n",
        "cv = KFold(n_splits=n_splits, shuffle=True, random_state=123)"
      ]
    },
    {
      "cell_type": "code",
      "source": [
        "scores = []\n",
        "models = []\n",
        "\n",
        "\n",
        "models = []\n",
        "for tri, vai in cv.split(X_train):\n",
        "    print(\"=\"*50)\n",
        "    preds = []\n",
        "\n",
        "    model = CatBoostClassifier(iterations=iterations,random_state=123,task_type='GPU',\n",
        "                               eval_metric=\"F1\", cat_features=cat_features,\n",
        "                               one_hot_max_size=4)\n",
        "    \n",
        "    model.fit(X_train.iloc[tri], y_train[tri], \n",
        "            eval_set=[(X_train.iloc[vai], y_train[vai])], \n",
        "            early_stopping_rounds=patience,\n",
        "            verbose = 100\n",
        "        )\n",
        "    \n",
        "    models.append(model)\n",
        "    scores.append(model.get_best_score()[\"validation\"][\"F1\"])\n",
        "    if is_holdout:\n",
        "        break    "
      ],
      "metadata": {
        "id": "x2dTObmyC4rk"
      },
      "execution_count": null,
      "outputs": []
    },
    {
      "cell_type": "code",
      "source": [
        "threshold = 0.4\n",
        "pred_list = []\n",
        "scores = []\n",
        "\n",
        "for i,(tri, vai) in enumerate( cv.split(X_train) ):\n",
        "    pred = models[i].predict_proba(X_train.iloc[vai])[:, 1]\n",
        "    pred = np.where(pred >= threshold , 1, 0)\n",
        "    score = f1_score(y_train[vai],pred)\n",
        "    scores.append(score)\n",
        "    pred = models[i].predict_proba(X_test)[:, 1]\n",
        "    pred_list.append(pred)\n",
        "    \n",
        "pred = np.mean(pred_list , axis = 0 )\n",
        "pred = np.where(pred >= threshold , 1, 0)\n",
        "submission['target'] = pred\n",
        "submission.to_csv(path + \"prediction_0117_2.csv\", index=False)"
      ],
      "metadata": {
        "id": "iNCD4MJlC7OJ"
      },
      "execution_count": null,
      "outputs": []
    },
    {
      "cell_type": "markdown",
      "source": [
        "----------------"
      ],
      "metadata": {
        "id": "gx2ljcO6Aa9C"
      }
    },
    {
      "cell_type": "markdown",
      "source": [
        "# 번외"
      ],
      "metadata": {
        "id": "28C1M-GPAeCt"
      }
    },
    {
      "cell_type": "markdown",
      "metadata": {
        "id": "16mdSPcQFKXZ"
      },
      "source": [
        "## AutoML"
      ]
    },
    {
      "cell_type": "code",
      "execution_count": null,
      "metadata": {
        "colab": {
          "base_uri": "https://localhost:8080/",
          "height": 1000
        },
        "id": "uf0XLl-2X4Zl",
        "outputId": "f8a6a560-e409-48e7-a669-4f2c960ae4ef"
      },
      "outputs": [
        {
          "name": "stdout",
          "output_type": "stream",
          "text": [
            "Collecting pycaret\n",
            "  Downloading pycaret-2.3.5-py3-none-any.whl (288 kB)\n",
            "\u001b[?25l\r\u001b[K     |█▏                              | 10 kB 27.7 MB/s eta 0:00:01\r\u001b[K     |██▎                             | 20 kB 13.8 MB/s eta 0:00:01\r\u001b[K     |███▍                            | 30 kB 10.7 MB/s eta 0:00:01\r\u001b[K     |████▌                           | 40 kB 9.3 MB/s eta 0:00:01\r\u001b[K     |█████▊                          | 51 kB 5.5 MB/s eta 0:00:01\r\u001b[K     |██████▉                         | 61 kB 5.7 MB/s eta 0:00:01\r\u001b[K     |████████                        | 71 kB 5.5 MB/s eta 0:00:01\r\u001b[K     |█████████                       | 81 kB 6.2 MB/s eta 0:00:01\r\u001b[K     |██████████▏                     | 92 kB 4.8 MB/s eta 0:00:01\r\u001b[K     |███████████▍                    | 102 kB 5.1 MB/s eta 0:00:01\r\u001b[K     |████████████▌                   | 112 kB 5.1 MB/s eta 0:00:01\r\u001b[K     |█████████████▋                  | 122 kB 5.1 MB/s eta 0:00:01\r\u001b[K     |██████████████▊                 | 133 kB 5.1 MB/s eta 0:00:01\r\u001b[K     |████████████████                | 143 kB 5.1 MB/s eta 0:00:01\r\u001b[K     |█████████████████               | 153 kB 5.1 MB/s eta 0:00:01\r\u001b[K     |██████████████████▏             | 163 kB 5.1 MB/s eta 0:00:01\r\u001b[K     |███████████████████▎            | 174 kB 5.1 MB/s eta 0:00:01\r\u001b[K     |████████████████████▍           | 184 kB 5.1 MB/s eta 0:00:01\r\u001b[K     |█████████████████████▋          | 194 kB 5.1 MB/s eta 0:00:01\r\u001b[K     |██████████████████████▊         | 204 kB 5.1 MB/s eta 0:00:01\r\u001b[K     |███████████████████████▉        | 215 kB 5.1 MB/s eta 0:00:01\r\u001b[K     |█████████████████████████       | 225 kB 5.1 MB/s eta 0:00:01\r\u001b[K     |██████████████████████████▏     | 235 kB 5.1 MB/s eta 0:00:01\r\u001b[K     |███████████████████████████▎    | 245 kB 5.1 MB/s eta 0:00:01\r\u001b[K     |████████████████████████████▍   | 256 kB 5.1 MB/s eta 0:00:01\r\u001b[K     |█████████████████████████████▌  | 266 kB 5.1 MB/s eta 0:00:01\r\u001b[K     |██████████████████████████████▋ | 276 kB 5.1 MB/s eta 0:00:01\r\u001b[K     |███████████████████████████████▉| 286 kB 5.1 MB/s eta 0:00:01\r\u001b[K     |████████████████████████████████| 288 kB 5.1 MB/s \n",
            "\u001b[?25hRequirement already satisfied: matplotlib in /usr/local/lib/python3.7/dist-packages (from pycaret) (3.2.2)\n",
            "Requirement already satisfied: cufflinks>=0.17.0 in /usr/local/lib/python3.7/dist-packages (from pycaret) (0.17.3)\n",
            "Collecting pandas-profiling>=2.8.0\n",
            "  Downloading pandas_profiling-3.1.0-py2.py3-none-any.whl (261 kB)\n",
            "\u001b[K     |████████████████████████████████| 261 kB 51.6 MB/s \n",
            "\u001b[?25hRequirement already satisfied: plotly>=4.4.1 in /usr/local/lib/python3.7/dist-packages (from pycaret) (4.4.1)\n",
            "Collecting mlxtend>=0.17.0\n",
            "  Downloading mlxtend-0.19.0-py2.py3-none-any.whl (1.3 MB)\n",
            "\u001b[K     |████████████████████████████████| 1.3 MB 47.3 MB/s \n",
            "\u001b[?25hRequirement already satisfied: scipy<=1.5.4 in /usr/local/lib/python3.7/dist-packages (from pycaret) (1.4.1)\n",
            "Requirement already satisfied: ipywidgets in /usr/local/lib/python3.7/dist-packages (from pycaret) (7.6.5)\n",
            "Requirement already satisfied: nltk in /usr/local/lib/python3.7/dist-packages (from pycaret) (3.2.5)\n",
            "Collecting lightgbm>=2.3.1\n",
            "  Downloading lightgbm-3.3.1-py3-none-manylinux1_x86_64.whl (2.0 MB)\n",
            "\u001b[K     |████████████████████████████████| 2.0 MB 42.8 MB/s \n",
            "\u001b[?25hCollecting kmodes>=0.10.1\n",
            "  Downloading kmodes-0.11.1-py2.py3-none-any.whl (19 kB)\n",
            "Requirement already satisfied: yellowbrick>=1.0.1 in /usr/local/lib/python3.7/dist-packages (from pycaret) (1.3.post1)\n",
            "Requirement already satisfied: wordcloud in /usr/local/lib/python3.7/dist-packages (from pycaret) (1.5.0)\n",
            "Requirement already satisfied: IPython in /usr/local/lib/python3.7/dist-packages (from pycaret) (5.5.0)\n",
            "Collecting Boruta\n",
            "  Downloading Boruta-0.3-py3-none-any.whl (56 kB)\n",
            "\u001b[K     |████████████████████████████████| 56 kB 3.8 MB/s \n",
            "\u001b[?25hRequirement already satisfied: joblib in /usr/local/lib/python3.7/dist-packages (from pycaret) (1.1.0)\n",
            "Requirement already satisfied: gensim<4.0.0 in /usr/local/lib/python3.7/dist-packages (from pycaret) (3.6.0)\n",
            "Collecting pyod\n",
            "  Downloading pyod-0.9.6.tar.gz (113 kB)\n",
            "\u001b[K     |████████████████████████████████| 113 kB 54.0 MB/s \n",
            "\u001b[?25hRequirement already satisfied: seaborn in /usr/local/lib/python3.7/dist-packages (from pycaret) (0.11.2)\n",
            "Requirement already satisfied: numpy==1.19.5 in /usr/local/lib/python3.7/dist-packages (from pycaret) (1.19.5)\n",
            "Collecting mlflow\n",
            "  Downloading mlflow-1.22.0-py3-none-any.whl (15.5 MB)\n",
            "\u001b[K     |████████████████████████████████| 15.5 MB 23.2 MB/s \n",
            "\u001b[?25hCollecting umap-learn\n",
            "  Downloading umap-learn-0.5.2.tar.gz (86 kB)\n",
            "\u001b[K     |████████████████████████████████| 86 kB 5.6 MB/s \n",
            "\u001b[?25hCollecting scikit-learn==0.23.2\n",
            "  Downloading scikit_learn-0.23.2-cp37-cp37m-manylinux1_x86_64.whl (6.8 MB)\n",
            "\u001b[K     |████████████████████████████████| 6.8 MB 46.1 MB/s \n",
            "\u001b[?25hCollecting pyLDAvis\n",
            "  Downloading pyLDAvis-3.3.1.tar.gz (1.7 MB)\n",
            "\u001b[K     |████████████████████████████████| 1.7 MB 46.2 MB/s \n",
            "\u001b[?25h  Installing build dependencies ... \u001b[?25l\u001b[?25hdone\n",
            "  Getting requirements to build wheel ... \u001b[?25l\u001b[?25hdone\n",
            "  Installing backend dependencies ... \u001b[?25l\u001b[?25hdone\n",
            "    Preparing wheel metadata ... \u001b[?25l\u001b[?25hdone\n",
            "Requirement already satisfied: pandas in /usr/local/lib/python3.7/dist-packages (from pycaret) (1.1.5)\n",
            "Requirement already satisfied: textblob in /usr/local/lib/python3.7/dist-packages (from pycaret) (0.15.3)\n",
            "Requirement already satisfied: spacy<2.4.0 in /usr/local/lib/python3.7/dist-packages (from pycaret) (2.2.4)\n",
            "Collecting scikit-plot\n",
            "  Downloading scikit_plot-0.3.7-py3-none-any.whl (33 kB)\n",
            "Collecting imbalanced-learn==0.7.0\n",
            "  Downloading imbalanced_learn-0.7.0-py3-none-any.whl (167 kB)\n",
            "\u001b[K     |████████████████████████████████| 167 kB 59.3 MB/s \n",
            "\u001b[?25hRequirement already satisfied: threadpoolctl>=2.0.0 in /usr/local/lib/python3.7/dist-packages (from scikit-learn==0.23.2->pycaret) (3.0.0)\n",
            "Requirement already satisfied: six>=1.9.0 in /usr/local/lib/python3.7/dist-packages (from cufflinks>=0.17.0->pycaret) (1.15.0)\n",
            "Requirement already satisfied: colorlover>=0.2.1 in /usr/local/lib/python3.7/dist-packages (from cufflinks>=0.17.0->pycaret) (0.3.0)\n",
            "Requirement already satisfied: setuptools>=34.4.1 in /usr/local/lib/python3.7/dist-packages (from cufflinks>=0.17.0->pycaret) (57.4.0)\n",
            "Requirement already satisfied: smart-open>=1.2.1 in /usr/local/lib/python3.7/dist-packages (from gensim<4.0.0->pycaret) (5.2.1)\n",
            "Requirement already satisfied: prompt-toolkit<2.0.0,>=1.0.4 in /usr/local/lib/python3.7/dist-packages (from IPython->pycaret) (1.0.18)\n",
            "Requirement already satisfied: pygments in /usr/local/lib/python3.7/dist-packages (from IPython->pycaret) (2.6.1)\n",
            "Requirement already satisfied: traitlets>=4.2 in /usr/local/lib/python3.7/dist-packages (from IPython->pycaret) (5.1.1)\n",
            "Requirement already satisfied: pexpect in /usr/local/lib/python3.7/dist-packages (from IPython->pycaret) (4.8.0)\n",
            "Requirement already satisfied: simplegeneric>0.8 in /usr/local/lib/python3.7/dist-packages (from IPython->pycaret) (0.8.1)\n",
            "Requirement already satisfied: decorator in /usr/local/lib/python3.7/dist-packages (from IPython->pycaret) (4.4.2)\n",
            "Requirement already satisfied: pickleshare in /usr/local/lib/python3.7/dist-packages (from IPython->pycaret) (0.7.5)\n",
            "Requirement already satisfied: jupyterlab-widgets>=1.0.0 in /usr/local/lib/python3.7/dist-packages (from ipywidgets->pycaret) (1.0.2)\n",
            "Requirement already satisfied: ipython-genutils~=0.2.0 in /usr/local/lib/python3.7/dist-packages (from ipywidgets->pycaret) (0.2.0)\n",
            "Requirement already satisfied: nbformat>=4.2.0 in /usr/local/lib/python3.7/dist-packages (from ipywidgets->pycaret) (5.1.3)\n",
            "Requirement already satisfied: widgetsnbextension~=3.5.0 in /usr/local/lib/python3.7/dist-packages (from ipywidgets->pycaret) (3.5.2)\n",
            "Requirement already satisfied: ipykernel>=4.5.1 in /usr/local/lib/python3.7/dist-packages (from ipywidgets->pycaret) (4.10.1)\n",
            "Requirement already satisfied: tornado>=4.0 in /usr/local/lib/python3.7/dist-packages (from ipykernel>=4.5.1->ipywidgets->pycaret) (5.1.1)\n",
            "Requirement already satisfied: jupyter-client in /usr/local/lib/python3.7/dist-packages (from ipykernel>=4.5.1->ipywidgets->pycaret) (5.3.5)\n",
            "Requirement already satisfied: wheel in /usr/local/lib/python3.7/dist-packages (from lightgbm>=2.3.1->pycaret) (0.37.0)\n",
            "Requirement already satisfied: kiwisolver>=1.0.1 in /usr/local/lib/python3.7/dist-packages (from matplotlib->pycaret) (1.3.2)\n",
            "Requirement already satisfied: python-dateutil>=2.1 in /usr/local/lib/python3.7/dist-packages (from matplotlib->pycaret) (2.8.2)\n",
            "Requirement already satisfied: pyparsing!=2.0.4,!=2.1.2,!=2.1.6,>=2.0.1 in /usr/local/lib/python3.7/dist-packages (from matplotlib->pycaret) (3.0.6)\n",
            "Requirement already satisfied: cycler>=0.10 in /usr/local/lib/python3.7/dist-packages (from matplotlib->pycaret) (0.11.0)\n",
            "Requirement already satisfied: jsonschema!=2.5.0,>=2.4 in /usr/local/lib/python3.7/dist-packages (from nbformat>=4.2.0->ipywidgets->pycaret) (2.6.0)\n",
            "Requirement already satisfied: jupyter-core in /usr/local/lib/python3.7/dist-packages (from nbformat>=4.2.0->ipywidgets->pycaret) (4.9.1)\n",
            "Requirement already satisfied: pytz>=2017.2 in /usr/local/lib/python3.7/dist-packages (from pandas->pycaret) (2018.9)\n",
            "Collecting requests>=2.24.0\n",
            "  Downloading requests-2.26.0-py2.py3-none-any.whl (62 kB)\n",
            "\u001b[K     |████████████████████████████████| 62 kB 763 kB/s \n",
            "\u001b[?25hCollecting multimethod>=1.4\n",
            "  Downloading multimethod-1.6-py3-none-any.whl (9.4 kB)\n",
            "Collecting visions[type_image_path]==0.7.4\n",
            "  Downloading visions-0.7.4-py3-none-any.whl (102 kB)\n",
            "\u001b[K     |████████████████████████████████| 102 kB 11.1 MB/s \n",
            "\u001b[?25hCollecting pydantic>=1.8.1\n",
            "  Downloading pydantic-1.8.2-cp37-cp37m-manylinux2014_x86_64.whl (10.1 MB)\n",
            "\u001b[K     |████████████████████████████████| 10.1 MB 41.5 MB/s \n",
            "\u001b[?25hRequirement already satisfied: jinja2>=2.11.1 in /usr/local/lib/python3.7/dist-packages (from pandas-profiling>=2.8.0->pycaret) (2.11.3)\n",
            "Requirement already satisfied: missingno>=0.4.2 in /usr/local/lib/python3.7/dist-packages (from pandas-profiling>=2.8.0->pycaret) (0.5.0)\n",
            "Requirement already satisfied: markupsafe~=2.0.1 in /usr/local/lib/python3.7/dist-packages (from pandas-profiling>=2.8.0->pycaret) (2.0.1)\n",
            "Collecting phik>=0.11.1\n",
            "  Downloading phik-0.12.0-cp37-cp37m-manylinux2010_x86_64.whl (675 kB)\n",
            "\u001b[K     |████████████████████████████████| 675 kB 65.3 MB/s \n",
            "\u001b[?25hCollecting tangled-up-in-unicode==0.1.0\n",
            "  Downloading tangled_up_in_unicode-0.1.0-py3-none-any.whl (3.1 MB)\n",
            "\u001b[K     |████████████████████████████████| 3.1 MB 50.5 MB/s \n",
            "\u001b[?25hCollecting joblib\n",
            "  Downloading joblib-1.0.1-py3-none-any.whl (303 kB)\n",
            "\u001b[K     |████████████████████████████████| 303 kB 73.5 MB/s \n",
            "\u001b[?25hCollecting PyYAML>=5.0.0\n",
            "  Downloading PyYAML-6.0-cp37-cp37m-manylinux_2_5_x86_64.manylinux1_x86_64.manylinux_2_12_x86_64.manylinux2010_x86_64.whl (596 kB)\n",
            "\u001b[K     |████████████████████████████████| 596 kB 69.6 MB/s \n",
            "\u001b[?25hCollecting htmlmin>=0.1.12\n",
            "  Downloading htmlmin-0.1.12.tar.gz (19 kB)\n",
            "Requirement already satisfied: tqdm>=4.48.2 in /usr/local/lib/python3.7/dist-packages (from pandas-profiling>=2.8.0->pycaret) (4.62.3)\n",
            "Requirement already satisfied: networkx>=2.4 in /usr/local/lib/python3.7/dist-packages (from visions[type_image_path]==0.7.4->pandas-profiling>=2.8.0->pycaret) (2.6.3)\n",
            "Requirement already satisfied: attrs>=19.3.0 in /usr/local/lib/python3.7/dist-packages (from visions[type_image_path]==0.7.4->pandas-profiling>=2.8.0->pycaret) (21.2.0)\n",
            "Requirement already satisfied: Pillow in /usr/local/lib/python3.7/dist-packages (from visions[type_image_path]==0.7.4->pandas-profiling>=2.8.0->pycaret) (7.1.2)\n",
            "Collecting imagehash\n",
            "  Downloading ImageHash-4.2.1.tar.gz (812 kB)\n",
            "\u001b[K     |████████████████████████████████| 812 kB 46.2 MB/s \n",
            "\u001b[?25hCollecting scipy<=1.5.4\n",
            "  Downloading scipy-1.5.4-cp37-cp37m-manylinux1_x86_64.whl (25.9 MB)\n",
            "\u001b[K     |████████████████████████████████| 25.9 MB 1.4 MB/s \n",
            "\u001b[?25hRequirement already satisfied: retrying>=1.3.3 in /usr/local/lib/python3.7/dist-packages (from plotly>=4.4.1->pycaret) (1.3.3)\n",
            "Requirement already satisfied: wcwidth in /usr/local/lib/python3.7/dist-packages (from prompt-toolkit<2.0.0,>=1.0.4->IPython->pycaret) (0.2.5)\n",
            "Requirement already satisfied: typing-extensions>=3.7.4.3 in /usr/local/lib/python3.7/dist-packages (from pydantic>=1.8.1->pandas-profiling>=2.8.0->pycaret) (3.10.0.2)\n",
            "Requirement already satisfied: urllib3<1.27,>=1.21.1 in /usr/local/lib/python3.7/dist-packages (from requests>=2.24.0->pandas-profiling>=2.8.0->pycaret) (1.24.3)\n",
            "Requirement already satisfied: charset-normalizer~=2.0.0 in /usr/local/lib/python3.7/dist-packages (from requests>=2.24.0->pandas-profiling>=2.8.0->pycaret) (2.0.8)\n",
            "Requirement already satisfied: idna<4,>=2.5 in /usr/local/lib/python3.7/dist-packages (from requests>=2.24.0->pandas-profiling>=2.8.0->pycaret) (2.10)\n",
            "Requirement already satisfied: certifi>=2017.4.17 in /usr/local/lib/python3.7/dist-packages (from requests>=2.24.0->pandas-profiling>=2.8.0->pycaret) (2021.10.8)\n",
            "Requirement already satisfied: blis<0.5.0,>=0.4.0 in /usr/local/lib/python3.7/dist-packages (from spacy<2.4.0->pycaret) (0.4.1)\n",
            "Requirement already satisfied: srsly<1.1.0,>=1.0.2 in /usr/local/lib/python3.7/dist-packages (from spacy<2.4.0->pycaret) (1.0.5)\n",
            "Requirement already satisfied: wasabi<1.1.0,>=0.4.0 in /usr/local/lib/python3.7/dist-packages (from spacy<2.4.0->pycaret) (0.8.2)\n",
            "Requirement already satisfied: murmurhash<1.1.0,>=0.28.0 in /usr/local/lib/python3.7/dist-packages (from spacy<2.4.0->pycaret) (1.0.6)\n",
            "Requirement already satisfied: plac<1.2.0,>=0.9.6 in /usr/local/lib/python3.7/dist-packages (from spacy<2.4.0->pycaret) (1.1.3)\n",
            "Requirement already satisfied: thinc==7.4.0 in /usr/local/lib/python3.7/dist-packages (from spacy<2.4.0->pycaret) (7.4.0)\n",
            "Requirement already satisfied: preshed<3.1.0,>=3.0.2 in /usr/local/lib/python3.7/dist-packages (from spacy<2.4.0->pycaret) (3.0.6)\n",
            "Requirement already satisfied: catalogue<1.1.0,>=0.0.7 in /usr/local/lib/python3.7/dist-packages (from spacy<2.4.0->pycaret) (1.0.0)\n",
            "Requirement already satisfied: cymem<2.1.0,>=2.0.2 in /usr/local/lib/python3.7/dist-packages (from spacy<2.4.0->pycaret) (2.0.6)\n",
            "Requirement already satisfied: importlib-metadata>=0.20 in /usr/local/lib/python3.7/dist-packages (from catalogue<1.1.0,>=0.0.7->spacy<2.4.0->pycaret) (4.8.2)\n",
            "Requirement already satisfied: zipp>=0.5 in /usr/local/lib/python3.7/dist-packages (from importlib-metadata>=0.20->catalogue<1.1.0,>=0.0.7->spacy<2.4.0->pycaret) (3.6.0)\n",
            "Requirement already satisfied: notebook>=4.4.1 in /usr/local/lib/python3.7/dist-packages (from widgetsnbextension~=3.5.0->ipywidgets->pycaret) (5.3.1)\n",
            "Requirement already satisfied: nbconvert in /usr/local/lib/python3.7/dist-packages (from notebook>=4.4.1->widgetsnbextension~=3.5.0->ipywidgets->pycaret) (5.6.1)\n",
            "Requirement already satisfied: terminado>=0.8.1 in /usr/local/lib/python3.7/dist-packages (from notebook>=4.4.1->widgetsnbextension~=3.5.0->ipywidgets->pycaret) (0.12.1)\n",
            "Requirement already satisfied: Send2Trash in /usr/local/lib/python3.7/dist-packages (from notebook>=4.4.1->widgetsnbextension~=3.5.0->ipywidgets->pycaret) (1.8.0)\n",
            "Requirement already satisfied: pyzmq>=13 in /usr/local/lib/python3.7/dist-packages (from jupyter-client->ipykernel>=4.5.1->ipywidgets->pycaret) (22.3.0)\n",
            "Requirement already satisfied: ptyprocess in /usr/local/lib/python3.7/dist-packages (from terminado>=0.8.1->notebook>=4.4.1->widgetsnbextension~=3.5.0->ipywidgets->pycaret) (0.7.0)\n",
            "Requirement already satisfied: PyWavelets in /usr/local/lib/python3.7/dist-packages (from imagehash->visions[type_image_path]==0.7.4->pandas-profiling>=2.8.0->pycaret) (1.2.0)\n",
            "Requirement already satisfied: entrypoints in /usr/local/lib/python3.7/dist-packages (from mlflow->pycaret) (0.3)\n",
            "Collecting gitpython>=2.1.0\n",
            "  Downloading GitPython-3.1.24-py3-none-any.whl (180 kB)\n",
            "\u001b[K     |████████████████████████████████| 180 kB 68.6 MB/s \n",
            "\u001b[?25hCollecting docker>=4.0.0\n",
            "  Downloading docker-5.0.3-py2.py3-none-any.whl (146 kB)\n",
            "\u001b[K     |████████████████████████████████| 146 kB 63.3 MB/s \n",
            "\u001b[?25hRequirement already satisfied: protobuf>=3.7.0 in /usr/local/lib/python3.7/dist-packages (from mlflow->pycaret) (3.17.3)\n",
            "Requirement already satisfied: Flask in /usr/local/lib/python3.7/dist-packages (from mlflow->pycaret) (1.1.4)\n",
            "Requirement already satisfied: cloudpickle in /usr/local/lib/python3.7/dist-packages (from mlflow->pycaret) (1.3.0)\n",
            "Collecting alembic<=1.4.1\n",
            "  Downloading alembic-1.4.1.tar.gz (1.1 MB)\n",
            "\u001b[K     |████████████████████████████████| 1.1 MB 45.2 MB/s \n",
            "\u001b[?25hCollecting prometheus-flask-exporter\n",
            "  Downloading prometheus_flask_exporter-0.18.7-py3-none-any.whl (17 kB)\n",
            "Collecting databricks-cli>=0.8.7\n",
            "  Downloading databricks-cli-0.16.2.tar.gz (58 kB)\n",
            "\u001b[K     |████████████████████████████████| 58 kB 5.4 MB/s \n",
            "\u001b[?25hRequirement already satisfied: click>=7.0 in /usr/local/lib/python3.7/dist-packages (from mlflow->pycaret) (7.1.2)\n",
            "Requirement already satisfied: packaging in /usr/local/lib/python3.7/dist-packages (from mlflow->pycaret) (21.3)\n",
            "Collecting gunicorn\n",
            "  Downloading gunicorn-20.1.0-py3-none-any.whl (79 kB)\n",
            "\u001b[K     |████████████████████████████████| 79 kB 7.7 MB/s \n",
            "\u001b[?25hRequirement already satisfied: sqlparse>=0.3.1 in /usr/local/lib/python3.7/dist-packages (from mlflow->pycaret) (0.4.2)\n",
            "Requirement already satisfied: sqlalchemy in /usr/local/lib/python3.7/dist-packages (from mlflow->pycaret) (1.4.27)\n",
            "Collecting querystring-parser\n",
            "  Downloading querystring_parser-1.2.4-py2.py3-none-any.whl (7.9 kB)\n",
            "Collecting Mako\n",
            "  Downloading Mako-1.1.6-py2.py3-none-any.whl (75 kB)\n",
            "\u001b[K     |████████████████████████████████| 75 kB 4.5 MB/s \n",
            "\u001b[?25hCollecting python-editor>=0.3\n",
            "  Downloading python_editor-1.0.4-py3-none-any.whl (4.9 kB)\n",
            "Requirement already satisfied: tabulate>=0.7.7 in /usr/local/lib/python3.7/dist-packages (from databricks-cli>=0.8.7->mlflow->pycaret) (0.8.9)\n",
            "Collecting websocket-client>=0.32.0\n",
            "  Downloading websocket_client-1.2.3-py3-none-any.whl (53 kB)\n",
            "\u001b[K     |████████████████████████████████| 53 kB 1.9 MB/s \n",
            "\u001b[?25hCollecting gitdb<5,>=4.0.1\n",
            "  Downloading gitdb-4.0.9-py3-none-any.whl (63 kB)\n",
            "\u001b[K     |████████████████████████████████| 63 kB 1.7 MB/s \n",
            "\u001b[?25hCollecting smmap<6,>=3.0.1\n",
            "  Downloading smmap-5.0.0-py3-none-any.whl (24 kB)\n",
            "Requirement already satisfied: greenlet!=0.4.17 in /usr/local/lib/python3.7/dist-packages (from sqlalchemy->mlflow->pycaret) (1.1.2)\n",
            "Requirement already satisfied: Werkzeug<2.0,>=0.15 in /usr/local/lib/python3.7/dist-packages (from Flask->mlflow->pycaret) (1.0.1)\n",
            "Requirement already satisfied: itsdangerous<2.0,>=0.24 in /usr/local/lib/python3.7/dist-packages (from Flask->mlflow->pycaret) (1.1.0)\n",
            "Requirement already satisfied: pandocfilters>=1.4.1 in /usr/local/lib/python3.7/dist-packages (from nbconvert->notebook>=4.4.1->widgetsnbextension~=3.5.0->ipywidgets->pycaret) (1.5.0)\n",
            "Requirement already satisfied: defusedxml in /usr/local/lib/python3.7/dist-packages (from nbconvert->notebook>=4.4.1->widgetsnbextension~=3.5.0->ipywidgets->pycaret) (0.7.1)\n",
            "Requirement already satisfied: mistune<2,>=0.8.1 in /usr/local/lib/python3.7/dist-packages (from nbconvert->notebook>=4.4.1->widgetsnbextension~=3.5.0->ipywidgets->pycaret) (0.8.4)\n",
            "Requirement already satisfied: testpath in /usr/local/lib/python3.7/dist-packages (from nbconvert->notebook>=4.4.1->widgetsnbextension~=3.5.0->ipywidgets->pycaret) (0.5.0)\n",
            "Requirement already satisfied: bleach in /usr/local/lib/python3.7/dist-packages (from nbconvert->notebook>=4.4.1->widgetsnbextension~=3.5.0->ipywidgets->pycaret) (4.1.0)\n",
            "Requirement already satisfied: webencodings in /usr/local/lib/python3.7/dist-packages (from bleach->nbconvert->notebook>=4.4.1->widgetsnbextension~=3.5.0->ipywidgets->pycaret) (0.5.1)\n",
            "Requirement already satisfied: prometheus-client in /usr/local/lib/python3.7/dist-packages (from prometheus-flask-exporter->mlflow->pycaret) (0.12.0)\n",
            "Requirement already satisfied: future in /usr/local/lib/python3.7/dist-packages (from pyLDAvis->pycaret) (0.16.0)\n",
            "Collecting pyLDAvis\n",
            "  Downloading pyLDAvis-3.3.0.tar.gz (1.7 MB)\n",
            "\u001b[K     |████████████████████████████████| 1.7 MB 48.0 MB/s \n",
            "\u001b[?25h  Installing build dependencies ... \u001b[?25l\u001b[?25hdone\n",
            "  Getting requirements to build wheel ... \u001b[?25l\u001b[?25hdone\n",
            "  Installing backend dependencies ... \u001b[?25l\u001b[?25hdone\n",
            "    Preparing wheel metadata ... \u001b[?25l\u001b[?25hdone\n",
            "  Downloading pyLDAvis-3.2.2.tar.gz (1.7 MB)\n",
            "\u001b[K     |████████████████████████████████| 1.7 MB 51.8 MB/s \n",
            "\u001b[?25hRequirement already satisfied: numexpr in /usr/local/lib/python3.7/dist-packages (from pyLDAvis->pycaret) (2.7.3)\n",
            "Collecting funcy\n",
            "  Downloading funcy-1.17-py2.py3-none-any.whl (33 kB)\n",
            "Requirement already satisfied: numba>=0.35 in /usr/local/lib/python3.7/dist-packages (from pyod->pycaret) (0.51.2)\n",
            "Requirement already satisfied: statsmodels in /usr/local/lib/python3.7/dist-packages (from pyod->pycaret) (0.10.2)\n",
            "Requirement already satisfied: llvmlite<0.35,>=0.34.0.dev0 in /usr/local/lib/python3.7/dist-packages (from numba>=0.35->pyod->pycaret) (0.34.0)\n",
            "Requirement already satisfied: patsy>=0.4.0 in /usr/local/lib/python3.7/dist-packages (from statsmodels->pyod->pycaret) (0.5.2)\n",
            "Collecting pynndescent>=0.5\n",
            "  Downloading pynndescent-0.5.5.tar.gz (1.1 MB)\n",
            "\u001b[K     |████████████████████████████████| 1.1 MB 41.6 MB/s \n",
            "\u001b[?25hBuilding wheels for collected packages: htmlmin, imagehash, alembic, databricks-cli, pyLDAvis, pyod, umap-learn, pynndescent\n",
            "  Building wheel for htmlmin (setup.py) ... \u001b[?25l\u001b[?25hdone\n",
            "  Created wheel for htmlmin: filename=htmlmin-0.1.12-py3-none-any.whl size=27098 sha256=620cacd1b2fb216f4ad4e7c06a77292223886eb7fc1de1850f1ac78f1836d152\n",
            "  Stored in directory: /root/.cache/pip/wheels/70/e1/52/5b14d250ba868768823940c3229e9950d201a26d0bd3ee8655\n",
            "  Building wheel for imagehash (setup.py) ... \u001b[?25l\u001b[?25hdone\n",
            "  Created wheel for imagehash: filename=ImageHash-4.2.1-py2.py3-none-any.whl size=295207 sha256=b4b4d52c1d88e8fa9db6e6495778ae5f8211db91414e82abff8d9ced45541b8a\n",
            "  Stored in directory: /root/.cache/pip/wheels/4c/d5/59/5e3e297533ddb09407769762985d134135064c6831e29a914e\n",
            "  Building wheel for alembic (setup.py) ... \u001b[?25l\u001b[?25hdone\n",
            "  Created wheel for alembic: filename=alembic-1.4.1-py2.py3-none-any.whl size=158172 sha256=99c3a2b2a5a3646deec65e3265f0dfd81fa44e69e3bed6bc316f13f4dce6327b\n",
            "  Stored in directory: /root/.cache/pip/wheels/be/5d/0a/9e13f53f4f5dfb67cd8d245bb7cdffe12f135846f491a283e3\n",
            "  Building wheel for databricks-cli (setup.py) ... \u001b[?25l\u001b[?25hdone\n",
            "  Created wheel for databricks-cli: filename=databricks_cli-0.16.2-py3-none-any.whl size=106811 sha256=6ac1e6a497a255ae2d96eac01e6d977c89af330222c097dbb729d6a33b6b835f\n",
            "  Stored in directory: /root/.cache/pip/wheels/f4/5c/ed/e1ce20a53095f63b27b4964abbad03e59cf3472822addf7d29\n",
            "  Building wheel for pyLDAvis (setup.py) ... \u001b[?25l\u001b[?25hdone\n",
            "  Created wheel for pyLDAvis: filename=pyLDAvis-3.2.2-py2.py3-none-any.whl size=135618 sha256=d67a9f338a6d8f79d9c5f23d1214f4e3767713167ef0bb0f54167235eada17a7\n",
            "  Stored in directory: /root/.cache/pip/wheels/f8/b1/9b/560ac1931796b7303f7b517b949d2d31a4fbc512aad3b9f284\n",
            "  Building wheel for pyod (setup.py) ... \u001b[?25l\u001b[?25hdone\n",
            "  Created wheel for pyod: filename=pyod-0.9.6-py3-none-any.whl size=132985 sha256=1fdc80e4796a91668bc43d6456f2450c40ff4d280c79fe33cbb8562ae124e735\n",
            "  Stored in directory: /root/.cache/pip/wheels/36/43/f2/27f4cd7bb70081fbde28ceee541781437934c47caa4ea31c56\n",
            "  Building wheel for umap-learn (setup.py) ... \u001b[?25l\u001b[?25hdone\n",
            "  Created wheel for umap-learn: filename=umap_learn-0.5.2-py3-none-any.whl size=82709 sha256=4c04cb2fda8ac9f0e9514562dd71a8f3d62366e1a8f4ff55fe0ec61aa8569cb4\n",
            "  Stored in directory: /root/.cache/pip/wheels/84/1b/c6/aaf68a748122632967cef4dffef68224eb16798b6793257d82\n",
            "  Building wheel for pynndescent (setup.py) ... \u001b[?25l\u001b[?25hdone\n",
            "  Created wheel for pynndescent: filename=pynndescent-0.5.5-py3-none-any.whl size=52603 sha256=8f30aff92b096087e7e639cc15e1912ffd5fcd2981048f7fba3775d57e5a335a\n",
            "  Stored in directory: /root/.cache/pip/wheels/af/e9/33/04db1436df0757c42fda8ea6796d7a8586e23c85fac355f476\n",
            "Successfully built htmlmin imagehash alembic databricks-cli pyLDAvis pyod umap-learn pynndescent\n",
            "Installing collected packages: tangled-up-in-unicode, smmap, scipy, multimethod, joblib, websocket-client, visions, scikit-learn, requests, python-editor, Mako, imagehash, gitdb, querystring-parser, PyYAML, pynndescent, pydantic, prometheus-flask-exporter, phik, htmlmin, gunicorn, gitpython, funcy, docker, databricks-cli, alembic, umap-learn, scikit-plot, pyod, pyLDAvis, pandas-profiling, mlxtend, mlflow, lightgbm, kmodes, imbalanced-learn, Boruta, pycaret\n",
            "  Attempting uninstall: scipy\n",
            "    Found existing installation: scipy 1.4.1\n",
            "    Uninstalling scipy-1.4.1:\n",
            "      Successfully uninstalled scipy-1.4.1\n",
            "  Attempting uninstall: joblib\n",
            "    Found existing installation: joblib 1.1.0\n",
            "    Uninstalling joblib-1.1.0:\n",
            "      Successfully uninstalled joblib-1.1.0\n",
            "  Attempting uninstall: scikit-learn\n",
            "    Found existing installation: scikit-learn 1.0.1\n",
            "    Uninstalling scikit-learn-1.0.1:\n",
            "      Successfully uninstalled scikit-learn-1.0.1\n",
            "  Attempting uninstall: requests\n",
            "    Found existing installation: requests 2.23.0\n",
            "    Uninstalling requests-2.23.0:\n",
            "      Successfully uninstalled requests-2.23.0\n",
            "  Attempting uninstall: PyYAML\n",
            "    Found existing installation: PyYAML 3.13\n",
            "    Uninstalling PyYAML-3.13:\n",
            "      Successfully uninstalled PyYAML-3.13\n",
            "  Attempting uninstall: pandas-profiling\n",
            "    Found existing installation: pandas-profiling 1.4.1\n",
            "    Uninstalling pandas-profiling-1.4.1:\n",
            "      Successfully uninstalled pandas-profiling-1.4.1\n",
            "  Attempting uninstall: mlxtend\n",
            "    Found existing installation: mlxtend 0.14.0\n",
            "    Uninstalling mlxtend-0.14.0:\n",
            "      Successfully uninstalled mlxtend-0.14.0\n",
            "  Attempting uninstall: lightgbm\n",
            "    Found existing installation: lightgbm 2.2.3\n",
            "    Uninstalling lightgbm-2.2.3:\n",
            "      Successfully uninstalled lightgbm-2.2.3\n",
            "  Attempting uninstall: imbalanced-learn\n",
            "    Found existing installation: imbalanced-learn 0.8.1\n",
            "    Uninstalling imbalanced-learn-0.8.1:\n",
            "      Successfully uninstalled imbalanced-learn-0.8.1\n",
            "\u001b[31mERROR: pip's dependency resolver does not currently take into account all the packages that are installed. This behaviour is the source of the following dependency conflicts.\n",
            "google-colab 1.0.0 requires requests~=2.23.0, but you have requests 2.26.0 which is incompatible.\n",
            "datascience 0.10.6 requires folium==0.2.1, but you have folium 0.8.3 which is incompatible.\n",
            "albumentations 0.1.12 requires imgaug<0.2.7,>=0.2.5, but you have imgaug 0.2.9 which is incompatible.\u001b[0m\n",
            "Successfully installed Boruta-0.3 Mako-1.1.6 PyYAML-6.0 alembic-1.4.1 databricks-cli-0.16.2 docker-5.0.3 funcy-1.17 gitdb-4.0.9 gitpython-3.1.24 gunicorn-20.1.0 htmlmin-0.1.12 imagehash-4.2.1 imbalanced-learn-0.7.0 joblib-1.0.1 kmodes-0.11.1 lightgbm-3.3.1 mlflow-1.22.0 mlxtend-0.19.0 multimethod-1.6 pandas-profiling-3.1.0 phik-0.12.0 prometheus-flask-exporter-0.18.7 pyLDAvis-3.2.2 pycaret-2.3.5 pydantic-1.8.2 pynndescent-0.5.5 pyod-0.9.6 python-editor-1.0.4 querystring-parser-1.2.4 requests-2.26.0 scikit-learn-0.23.2 scikit-plot-0.3.7 scipy-1.5.4 smmap-5.0.0 tangled-up-in-unicode-0.1.0 umap-learn-0.5.2 visions-0.7.4 websocket-client-1.2.3\n"
          ]
        },
        {
          "data": {
            "application/vnd.colab-display-data+json": {
              "pip_warning": {
                "packages": [
                  "joblib",
                  "scipy",
                  "sklearn"
                ]
              }
            }
          },
          "metadata": {},
          "output_type": "display_data"
        }
      ],
      "source": [
        "!pip install pycaret"
      ]
    },
    {
      "cell_type": "code",
      "execution_count": null,
      "metadata": {
        "id": "-mvMQZ96X4e6"
      },
      "outputs": [],
      "source": [
        "from pycaret.classification import *"
      ]
    },
    {
      "cell_type": "code",
      "execution_count": null,
      "metadata": {
        "id": "vygM8rwgbiGN"
      },
      "outputs": [],
      "source": [
        "train_automl = X_train.copy()\n",
        "train_automl['target'] = y_train"
      ]
    },
    {
      "cell_type": "code",
      "execution_count": null,
      "metadata": {
        "colab": {
          "base_uri": "https://localhost:8080/"
        },
        "id": "UXc4KoJ0zA1C",
        "outputId": "e2d93ddc-1764-4561-83d3-bd770018ed40"
      },
      "outputs": [
        {
          "name": "stdout",
          "output_type": "stream",
          "text": [
            "<class 'pandas.core.frame.DataFrame'>\n",
            "RangeIndex: 501951 entries, 0 to 501950\n",
            "Data columns (total 63 columns):\n",
            " #   Column                  Non-Null Count   Dtype\n",
            "---  ------                  --------------   -----\n",
            " 0   d_l_match_yn            501951 non-null  int64\n",
            " 1   d_m_match_yn            501951 non-null  int64\n",
            " 2   d_s_match_yn            501951 non-null  int64\n",
            " 3   h_l_match_yn            501951 non-null  int64\n",
            " 4   h_m_match_yn            501951 non-null  int64\n",
            " 5   h_s_match_yn            501951 non-null  int64\n",
            " 6   person_attribute_a      501951 non-null  int64\n",
            " 7   person_attribute_a_1    501951 non-null  int64\n",
            " 8   person_attribute_b      501951 non-null  int64\n",
            " 9   person_prefer_c         501951 non-null  int64\n",
            " 10  person_prefer_d_1       501951 non-null  int64\n",
            " 11  person_prefer_d_2       501951 non-null  int64\n",
            " 12  person_prefer_d_3       501951 non-null  int64\n",
            " 13  person_prefer_e         501951 non-null  int64\n",
            " 14  person_prefer_h_1       501951 non-null  int64\n",
            " 15  person_prefer_h_2       501951 non-null  int64\n",
            " 16  person_prefer_h_3       501951 non-null  int64\n",
            " 17  contents_attribute_i    501951 non-null  int64\n",
            " 18  contents_attribute_a    501951 non-null  int64\n",
            " 19  contents_attribute_j_1  501951 non-null  int64\n",
            " 20  contents_attribute_j    501951 non-null  int64\n",
            " 21  contents_attribute_c    501951 non-null  int64\n",
            " 22  contents_attribute_k    501951 non-null  int64\n",
            " 23  contents_attribute_l    501951 non-null  int64\n",
            " 24  contents_attribute_d    501951 non-null  int64\n",
            " 25  contents_attribute_m    501951 non-null  int64\n",
            " 26  contents_attribute_e    501951 non-null  int64\n",
            " 27  contents_attribute_h    501951 non-null  int64\n",
            " 28  person_prefer_d_1_n     501951 non-null  int64\n",
            " 29  person_prefer_d_1_s     501951 non-null  int64\n",
            " 30  person_prefer_d_1_m     501951 non-null  int64\n",
            " 31  person_prefer_d_1_l     501951 non-null  int64\n",
            " 32  person_prefer_d_2_n     501951 non-null  int64\n",
            " 33  person_prefer_d_2_s     501951 non-null  int64\n",
            " 34  person_prefer_d_2_m     501951 non-null  int64\n",
            " 35  person_prefer_d_2_l     501951 non-null  int64\n",
            " 36  person_prefer_d_3_n     501951 non-null  int64\n",
            " 37  person_prefer_d_3_s     501951 non-null  int64\n",
            " 38  person_prefer_d_3_m     501951 non-null  int64\n",
            " 39  person_prefer_d_3_l     501951 non-null  int64\n",
            " 40  contents_attribute_d_n  501951 non-null  int64\n",
            " 41  contents_attribute_d_s  501951 non-null  int64\n",
            " 42  contents_attribute_d_m  501951 non-null  int64\n",
            " 43  contents_attribute_d_l  501951 non-null  int64\n",
            " 44  person_prefer_h_1_m     501951 non-null  int64\n",
            " 45  person_prefer_h_2_m     501951 non-null  int64\n",
            " 46  person_prefer_h_3_m     501951 non-null  int64\n",
            " 47  contents_attribute_h_m  501951 non-null  int64\n",
            " 48  person_prefer_h_1_l     501951 non-null  int64\n",
            " 49  person_prefer_h_2_l     501951 non-null  int64\n",
            " 50  person_prefer_h_3_l     501951 non-null  int64\n",
            " 51  contents_attribute_h_l  501951 non-null  int64\n",
            " 52  contents_attribute_l_n  501951 non-null  int64\n",
            " 53  contents_attribute_l_s  501951 non-null  int64\n",
            " 54  contents_attribute_l_m  501951 non-null  int64\n",
            " 55  contents_attribute_l_l  501951 non-null  int64\n",
            " 56  month                   501951 non-null  int64\n",
            " 57  day                     501951 non-null  int64\n",
            " 58  week                    501951 non-null  int64\n",
            " 59  dayofweek               501951 non-null  int64\n",
            " 60  hour                    501951 non-null  int64\n",
            " 61  minute                  501951 non-null  int64\n",
            " 62  target                  501951 non-null  int64\n",
            "dtypes: int64(63)\n",
            "memory usage: 241.3 MB\n"
          ]
        }
      ],
      "source": [
        "train_automl.info()"
      ]
    },
    {
      "cell_type": "code",
      "execution_count": null,
      "metadata": {
        "colab": {
          "base_uri": "https://localhost:8080/",
          "height": 1000
        },
        "id": "wCl9atTAX4hV",
        "outputId": "af396ab9-eff5-4b1a-ac66-cdf9143379a3"
      },
      "outputs": [
        {
          "data": {
            "text/html": [
              "\n",
              "  <div id=\"df-41f6f2c6-ed53-4563-8e0f-0702a730c325\">\n",
              "    <div class=\"colab-df-container\">\n",
              "      <div>\n",
              "<style scoped>\n",
              "    .dataframe tbody tr th:only-of-type {\n",
              "        vertical-align: middle;\n",
              "    }\n",
              "\n",
              "    .dataframe tbody tr th {\n",
              "        vertical-align: top;\n",
              "    }\n",
              "\n",
              "    .dataframe thead th {\n",
              "        text-align: right;\n",
              "    }\n",
              "</style>\n",
              "<table border=\"1\" class=\"dataframe\">\n",
              "  <thead>\n",
              "    <tr style=\"text-align: right;\">\n",
              "      <th></th>\n",
              "      <th>Description</th>\n",
              "      <th>Value</th>\n",
              "    </tr>\n",
              "  </thead>\n",
              "  <tbody>\n",
              "    <tr>\n",
              "      <th>0</th>\n",
              "      <td>session_id</td>\n",
              "      <td>123</td>\n",
              "    </tr>\n",
              "    <tr>\n",
              "      <th>1</th>\n",
              "      <td>Target</td>\n",
              "      <td>target</td>\n",
              "    </tr>\n",
              "    <tr>\n",
              "      <th>2</th>\n",
              "      <td>Target Type</td>\n",
              "      <td>Binary</td>\n",
              "    </tr>\n",
              "    <tr>\n",
              "      <th>3</th>\n",
              "      <td>Label Encoded</td>\n",
              "      <td>None</td>\n",
              "    </tr>\n",
              "    <tr>\n",
              "      <th>4</th>\n",
              "      <td>Original Data</td>\n",
              "      <td>(501951, 63)</td>\n",
              "    </tr>\n",
              "    <tr>\n",
              "      <th>5</th>\n",
              "      <td>Missing Values</td>\n",
              "      <td>False</td>\n",
              "    </tr>\n",
              "    <tr>\n",
              "      <th>6</th>\n",
              "      <td>Numeric Features</td>\n",
              "      <td>33</td>\n",
              "    </tr>\n",
              "    <tr>\n",
              "      <th>7</th>\n",
              "      <td>Categorical Features</td>\n",
              "      <td>29</td>\n",
              "    </tr>\n",
              "    <tr>\n",
              "      <th>8</th>\n",
              "      <td>Ordinal Features</td>\n",
              "      <td>False</td>\n",
              "    </tr>\n",
              "    <tr>\n",
              "      <th>9</th>\n",
              "      <td>High Cardinality Features</td>\n",
              "      <td>False</td>\n",
              "    </tr>\n",
              "    <tr>\n",
              "      <th>10</th>\n",
              "      <td>High Cardinality Method</td>\n",
              "      <td>None</td>\n",
              "    </tr>\n",
              "    <tr>\n",
              "      <th>11</th>\n",
              "      <td>Transformed Train Set</td>\n",
              "      <td>(351365, 240)</td>\n",
              "    </tr>\n",
              "    <tr>\n",
              "      <th>12</th>\n",
              "      <td>Transformed Test Set</td>\n",
              "      <td>(150586, 240)</td>\n",
              "    </tr>\n",
              "    <tr>\n",
              "      <th>13</th>\n",
              "      <td>Shuffle Train-Test</td>\n",
              "      <td>True</td>\n",
              "    </tr>\n",
              "    <tr>\n",
              "      <th>14</th>\n",
              "      <td>Stratify Train-Test</td>\n",
              "      <td>False</td>\n",
              "    </tr>\n",
              "    <tr>\n",
              "      <th>15</th>\n",
              "      <td>Fold Generator</td>\n",
              "      <td>StratifiedKFold</td>\n",
              "    </tr>\n",
              "    <tr>\n",
              "      <th>16</th>\n",
              "      <td>Fold Number</td>\n",
              "      <td>10</td>\n",
              "    </tr>\n",
              "    <tr>\n",
              "      <th>17</th>\n",
              "      <td>CPU Jobs</td>\n",
              "      <td>-1</td>\n",
              "    </tr>\n",
              "    <tr>\n",
              "      <th>18</th>\n",
              "      <td>Use GPU</td>\n",
              "      <td>False</td>\n",
              "    </tr>\n",
              "    <tr>\n",
              "      <th>19</th>\n",
              "      <td>Log Experiment</td>\n",
              "      <td>False</td>\n",
              "    </tr>\n",
              "    <tr>\n",
              "      <th>20</th>\n",
              "      <td>Experiment Name</td>\n",
              "      <td>clf-default-name</td>\n",
              "    </tr>\n",
              "    <tr>\n",
              "      <th>21</th>\n",
              "      <td>USI</td>\n",
              "      <td>9026</td>\n",
              "    </tr>\n",
              "    <tr>\n",
              "      <th>22</th>\n",
              "      <td>Imputation Type</td>\n",
              "      <td>simple</td>\n",
              "    </tr>\n",
              "    <tr>\n",
              "      <th>23</th>\n",
              "      <td>Iterative Imputation Iteration</td>\n",
              "      <td>None</td>\n",
              "    </tr>\n",
              "    <tr>\n",
              "      <th>24</th>\n",
              "      <td>Numeric Imputer</td>\n",
              "      <td>mean</td>\n",
              "    </tr>\n",
              "    <tr>\n",
              "      <th>25</th>\n",
              "      <td>Iterative Imputation Numeric Model</td>\n",
              "      <td>None</td>\n",
              "    </tr>\n",
              "    <tr>\n",
              "      <th>26</th>\n",
              "      <td>Categorical Imputer</td>\n",
              "      <td>constant</td>\n",
              "    </tr>\n",
              "    <tr>\n",
              "      <th>27</th>\n",
              "      <td>Iterative Imputation Categorical Model</td>\n",
              "      <td>None</td>\n",
              "    </tr>\n",
              "    <tr>\n",
              "      <th>28</th>\n",
              "      <td>Unknown Categoricals Handling</td>\n",
              "      <td>least_frequent</td>\n",
              "    </tr>\n",
              "    <tr>\n",
              "      <th>29</th>\n",
              "      <td>Normalize</td>\n",
              "      <td>False</td>\n",
              "    </tr>\n",
              "    <tr>\n",
              "      <th>30</th>\n",
              "      <td>Normalize Method</td>\n",
              "      <td>None</td>\n",
              "    </tr>\n",
              "    <tr>\n",
              "      <th>31</th>\n",
              "      <td>Transformation</td>\n",
              "      <td>False</td>\n",
              "    </tr>\n",
              "    <tr>\n",
              "      <th>32</th>\n",
              "      <td>Transformation Method</td>\n",
              "      <td>None</td>\n",
              "    </tr>\n",
              "    <tr>\n",
              "      <th>33</th>\n",
              "      <td>PCA</td>\n",
              "      <td>False</td>\n",
              "    </tr>\n",
              "    <tr>\n",
              "      <th>34</th>\n",
              "      <td>PCA Method</td>\n",
              "      <td>None</td>\n",
              "    </tr>\n",
              "    <tr>\n",
              "      <th>35</th>\n",
              "      <td>PCA Components</td>\n",
              "      <td>None</td>\n",
              "    </tr>\n",
              "    <tr>\n",
              "      <th>36</th>\n",
              "      <td>Ignore Low Variance</td>\n",
              "      <td>False</td>\n",
              "    </tr>\n",
              "    <tr>\n",
              "      <th>37</th>\n",
              "      <td>Combine Rare Levels</td>\n",
              "      <td>False</td>\n",
              "    </tr>\n",
              "    <tr>\n",
              "      <th>38</th>\n",
              "      <td>Rare Level Threshold</td>\n",
              "      <td>None</td>\n",
              "    </tr>\n",
              "    <tr>\n",
              "      <th>39</th>\n",
              "      <td>Numeric Binning</td>\n",
              "      <td>False</td>\n",
              "    </tr>\n",
              "    <tr>\n",
              "      <th>40</th>\n",
              "      <td>Remove Outliers</td>\n",
              "      <td>False</td>\n",
              "    </tr>\n",
              "    <tr>\n",
              "      <th>41</th>\n",
              "      <td>Outliers Threshold</td>\n",
              "      <td>None</td>\n",
              "    </tr>\n",
              "    <tr>\n",
              "      <th>42</th>\n",
              "      <td>Remove Multicollinearity</td>\n",
              "      <td>False</td>\n",
              "    </tr>\n",
              "    <tr>\n",
              "      <th>43</th>\n",
              "      <td>Multicollinearity Threshold</td>\n",
              "      <td>None</td>\n",
              "    </tr>\n",
              "    <tr>\n",
              "      <th>44</th>\n",
              "      <td>Remove Perfect Collinearity</td>\n",
              "      <td>True</td>\n",
              "    </tr>\n",
              "    <tr>\n",
              "      <th>45</th>\n",
              "      <td>Clustering</td>\n",
              "      <td>False</td>\n",
              "    </tr>\n",
              "    <tr>\n",
              "      <th>46</th>\n",
              "      <td>Clustering Iteration</td>\n",
              "      <td>None</td>\n",
              "    </tr>\n",
              "    <tr>\n",
              "      <th>47</th>\n",
              "      <td>Polynomial Features</td>\n",
              "      <td>False</td>\n",
              "    </tr>\n",
              "    <tr>\n",
              "      <th>48</th>\n",
              "      <td>Polynomial Degree</td>\n",
              "      <td>None</td>\n",
              "    </tr>\n",
              "    <tr>\n",
              "      <th>49</th>\n",
              "      <td>Trignometry Features</td>\n",
              "      <td>False</td>\n",
              "    </tr>\n",
              "    <tr>\n",
              "      <th>50</th>\n",
              "      <td>Polynomial Threshold</td>\n",
              "      <td>None</td>\n",
              "    </tr>\n",
              "    <tr>\n",
              "      <th>51</th>\n",
              "      <td>Group Features</td>\n",
              "      <td>False</td>\n",
              "    </tr>\n",
              "    <tr>\n",
              "      <th>52</th>\n",
              "      <td>Feature Selection</td>\n",
              "      <td>False</td>\n",
              "    </tr>\n",
              "    <tr>\n",
              "      <th>53</th>\n",
              "      <td>Feature Selection Method</td>\n",
              "      <td>classic</td>\n",
              "    </tr>\n",
              "    <tr>\n",
              "      <th>54</th>\n",
              "      <td>Features Selection Threshold</td>\n",
              "      <td>None</td>\n",
              "    </tr>\n",
              "    <tr>\n",
              "      <th>55</th>\n",
              "      <td>Feature Interaction</td>\n",
              "      <td>False</td>\n",
              "    </tr>\n",
              "    <tr>\n",
              "      <th>56</th>\n",
              "      <td>Feature Ratio</td>\n",
              "      <td>False</td>\n",
              "    </tr>\n",
              "    <tr>\n",
              "      <th>57</th>\n",
              "      <td>Interaction Threshold</td>\n",
              "      <td>None</td>\n",
              "    </tr>\n",
              "    <tr>\n",
              "      <th>58</th>\n",
              "      <td>Fix Imbalance</td>\n",
              "      <td>False</td>\n",
              "    </tr>\n",
              "    <tr>\n",
              "      <th>59</th>\n",
              "      <td>Fix Imbalance Method</td>\n",
              "      <td>SMOTE</td>\n",
              "    </tr>\n",
              "  </tbody>\n",
              "</table>\n",
              "</div>\n",
              "      <button class=\"colab-df-convert\" onclick=\"convertToInteractive('df-41f6f2c6-ed53-4563-8e0f-0702a730c325')\"\n",
              "              title=\"Convert this dataframe to an interactive table.\"\n",
              "              style=\"display:none;\">\n",
              "        \n",
              "  <svg xmlns=\"http://www.w3.org/2000/svg\" height=\"24px\"viewBox=\"0 0 24 24\"\n",
              "       width=\"24px\">\n",
              "    <path d=\"M0 0h24v24H0V0z\" fill=\"none\"/>\n",
              "    <path d=\"M18.56 5.44l.94 2.06.94-2.06 2.06-.94-2.06-.94-.94-2.06-.94 2.06-2.06.94zm-11 1L8.5 8.5l.94-2.06 2.06-.94-2.06-.94L8.5 2.5l-.94 2.06-2.06.94zm10 10l.94 2.06.94-2.06 2.06-.94-2.06-.94-.94-2.06-.94 2.06-2.06.94z\"/><path d=\"M17.41 7.96l-1.37-1.37c-.4-.4-.92-.59-1.43-.59-.52 0-1.04.2-1.43.59L10.3 9.45l-7.72 7.72c-.78.78-.78 2.05 0 2.83L4 21.41c.39.39.9.59 1.41.59.51 0 1.02-.2 1.41-.59l7.78-7.78 2.81-2.81c.8-.78.8-2.07 0-2.86zM5.41 20L4 18.59l7.72-7.72 1.47 1.35L5.41 20z\"/>\n",
              "  </svg>\n",
              "      </button>\n",
              "      \n",
              "  <style>\n",
              "    .colab-df-container {\n",
              "      display:flex;\n",
              "      flex-wrap:wrap;\n",
              "      gap: 12px;\n",
              "    }\n",
              "\n",
              "    .colab-df-convert {\n",
              "      background-color: #E8F0FE;\n",
              "      border: none;\n",
              "      border-radius: 50%;\n",
              "      cursor: pointer;\n",
              "      display: none;\n",
              "      fill: #1967D2;\n",
              "      height: 32px;\n",
              "      padding: 0 0 0 0;\n",
              "      width: 32px;\n",
              "    }\n",
              "\n",
              "    .colab-df-convert:hover {\n",
              "      background-color: #E2EBFA;\n",
              "      box-shadow: 0px 1px 2px rgba(60, 64, 67, 0.3), 0px 1px 3px 1px rgba(60, 64, 67, 0.15);\n",
              "      fill: #174EA6;\n",
              "    }\n",
              "\n",
              "    [theme=dark] .colab-df-convert {\n",
              "      background-color: #3B4455;\n",
              "      fill: #D2E3FC;\n",
              "    }\n",
              "\n",
              "    [theme=dark] .colab-df-convert:hover {\n",
              "      background-color: #434B5C;\n",
              "      box-shadow: 0px 1px 3px 1px rgba(0, 0, 0, 0.15);\n",
              "      filter: drop-shadow(0px 1px 2px rgba(0, 0, 0, 0.3));\n",
              "      fill: #FFFFFF;\n",
              "    }\n",
              "  </style>\n",
              "\n",
              "      <script>\n",
              "        const buttonEl =\n",
              "          document.querySelector('#df-41f6f2c6-ed53-4563-8e0f-0702a730c325 button.colab-df-convert');\n",
              "        buttonEl.style.display =\n",
              "          google.colab.kernel.accessAllowed ? 'block' : 'none';\n",
              "\n",
              "        async function convertToInteractive(key) {\n",
              "          const element = document.querySelector('#df-41f6f2c6-ed53-4563-8e0f-0702a730c325');\n",
              "          const dataTable =\n",
              "            await google.colab.kernel.invokeFunction('convertToInteractive',\n",
              "                                                     [key], {});\n",
              "          if (!dataTable) return;\n",
              "\n",
              "          const docLinkHtml = 'Like what you see? Visit the ' +\n",
              "            '<a target=\"_blank\" href=https://colab.research.google.com/notebooks/data_table.ipynb>data table notebook</a>'\n",
              "            + ' to learn more about interactive tables.';\n",
              "          element.innerHTML = '';\n",
              "          dataTable['output_type'] = 'display_data';\n",
              "          await google.colab.output.renderOutput(dataTable, element);\n",
              "          const docLink = document.createElement('div');\n",
              "          docLink.innerHTML = docLinkHtml;\n",
              "          element.appendChild(docLink);\n",
              "        }\n",
              "      </script>\n",
              "    </div>\n",
              "  </div>\n",
              "  "
            ],
            "text/plain": [
              "                               Description             Value\n",
              "0                               session_id               123\n",
              "1                                   Target            target\n",
              "2                              Target Type            Binary\n",
              "3                            Label Encoded              None\n",
              "4                            Original Data      (501951, 63)\n",
              "5                           Missing Values             False\n",
              "6                         Numeric Features                33\n",
              "7                     Categorical Features                29\n",
              "8                         Ordinal Features             False\n",
              "9                High Cardinality Features             False\n",
              "10                 High Cardinality Method              None\n",
              "11                   Transformed Train Set     (351365, 240)\n",
              "12                    Transformed Test Set     (150586, 240)\n",
              "13                      Shuffle Train-Test              True\n",
              "14                     Stratify Train-Test             False\n",
              "15                          Fold Generator   StratifiedKFold\n",
              "16                             Fold Number                10\n",
              "17                                CPU Jobs                -1\n",
              "18                                 Use GPU             False\n",
              "19                          Log Experiment             False\n",
              "20                         Experiment Name  clf-default-name\n",
              "21                                     USI              9026\n",
              "22                         Imputation Type            simple\n",
              "23          Iterative Imputation Iteration              None\n",
              "24                         Numeric Imputer              mean\n",
              "25      Iterative Imputation Numeric Model              None\n",
              "26                     Categorical Imputer          constant\n",
              "27  Iterative Imputation Categorical Model              None\n",
              "28           Unknown Categoricals Handling    least_frequent\n",
              "29                               Normalize             False\n",
              "30                        Normalize Method              None\n",
              "31                          Transformation             False\n",
              "32                   Transformation Method              None\n",
              "33                                     PCA             False\n",
              "34                              PCA Method              None\n",
              "35                          PCA Components              None\n",
              "36                     Ignore Low Variance             False\n",
              "37                     Combine Rare Levels             False\n",
              "38                    Rare Level Threshold              None\n",
              "39                         Numeric Binning             False\n",
              "40                         Remove Outliers             False\n",
              "41                      Outliers Threshold              None\n",
              "42                Remove Multicollinearity             False\n",
              "43             Multicollinearity Threshold              None\n",
              "44             Remove Perfect Collinearity              True\n",
              "45                              Clustering             False\n",
              "46                    Clustering Iteration              None\n",
              "47                     Polynomial Features             False\n",
              "48                       Polynomial Degree              None\n",
              "49                    Trignometry Features             False\n",
              "50                    Polynomial Threshold              None\n",
              "51                          Group Features             False\n",
              "52                       Feature Selection             False\n",
              "53                Feature Selection Method           classic\n",
              "54            Features Selection Threshold              None\n",
              "55                     Feature Interaction             False\n",
              "56                           Feature Ratio             False\n",
              "57                   Interaction Threshold              None\n",
              "58                           Fix Imbalance             False\n",
              "59                    Fix Imbalance Method             SMOTE"
            ]
          },
          "metadata": {},
          "output_type": "display_data"
        }
      ],
      "source": [
        "clf = setup(data = train_automl, target = 'target', silent = True, session_id=123)"
      ]
    },
    {
      "cell_type": "code",
      "execution_count": null,
      "metadata": {
        "colab": {
          "base_uri": "https://localhost:8080/",
          "height": 951
        },
        "id": "tcnWaRXg0Ge5",
        "outputId": "d12cb52b-b822-4ea2-dbf4-50ab005fd17d"
      },
      "outputs": [
        {
          "data": {
            "text/html": [
              "\n",
              "  <div id=\"df-af2764cf-8fe6-413d-be73-21614cd4fde5\">\n",
              "    <div class=\"colab-df-container\">\n",
              "      <div>\n",
              "<style scoped>\n",
              "    .dataframe tbody tr th:only-of-type {\n",
              "        vertical-align: middle;\n",
              "    }\n",
              "\n",
              "    .dataframe tbody tr th {\n",
              "        vertical-align: top;\n",
              "    }\n",
              "\n",
              "    .dataframe thead th {\n",
              "        text-align: right;\n",
              "    }\n",
              "</style>\n",
              "<table border=\"1\" class=\"dataframe\">\n",
              "  <thead>\n",
              "    <tr style=\"text-align: right;\">\n",
              "      <th></th>\n",
              "      <th>Model</th>\n",
              "      <th>Accuracy</th>\n",
              "      <th>AUC</th>\n",
              "      <th>Recall</th>\n",
              "      <th>Prec.</th>\n",
              "      <th>F1</th>\n",
              "      <th>Kappa</th>\n",
              "      <th>MCC</th>\n",
              "      <th>TT (Sec)</th>\n",
              "    </tr>\n",
              "  </thead>\n",
              "  <tbody>\n",
              "    <tr>\n",
              "      <th>lightgbm</th>\n",
              "      <td>Light Gradient Boosting Machine</td>\n",
              "      <td>0.6132</td>\n",
              "      <td>0.6603</td>\n",
              "      <td>0.6634</td>\n",
              "      <td>0.6028</td>\n",
              "      <td>0.6317</td>\n",
              "      <td>0.2264</td>\n",
              "      <td>0.2276</td>\n",
              "      <td>11.958</td>\n",
              "    </tr>\n",
              "    <tr>\n",
              "      <th>rf</th>\n",
              "      <td>Random Forest Classifier</td>\n",
              "      <td>0.6134</td>\n",
              "      <td>0.6606</td>\n",
              "      <td>0.6329</td>\n",
              "      <td>0.6091</td>\n",
              "      <td>0.6208</td>\n",
              "      <td>0.2268</td>\n",
              "      <td>0.2270</td>\n",
              "      <td>140.336</td>\n",
              "    </tr>\n",
              "    <tr>\n",
              "      <th>et</th>\n",
              "      <td>Extra Trees Classifier</td>\n",
              "      <td>0.6133</td>\n",
              "      <td>0.6595</td>\n",
              "      <td>0.6259</td>\n",
              "      <td>0.6105</td>\n",
              "      <td>0.6181</td>\n",
              "      <td>0.2267</td>\n",
              "      <td>0.2268</td>\n",
              "      <td>194.106</td>\n",
              "    </tr>\n",
              "    <tr>\n",
              "      <th>gbc</th>\n",
              "      <td>Gradient Boosting Classifier</td>\n",
              "      <td>0.6018</td>\n",
              "      <td>0.6437</td>\n",
              "      <td>0.6438</td>\n",
              "      <td>0.5939</td>\n",
              "      <td>0.6178</td>\n",
              "      <td>0.2037</td>\n",
              "      <td>0.2044</td>\n",
              "      <td>269.602</td>\n",
              "    </tr>\n",
              "    <tr>\n",
              "      <th>ridge</th>\n",
              "      <td>Ridge Classifier</td>\n",
              "      <td>0.5947</td>\n",
              "      <td>0.0000</td>\n",
              "      <td>0.6247</td>\n",
              "      <td>0.5893</td>\n",
              "      <td>0.6065</td>\n",
              "      <td>0.1894</td>\n",
              "      <td>0.1898</td>\n",
              "      <td>1.412</td>\n",
              "    </tr>\n",
              "    <tr>\n",
              "      <th>lda</th>\n",
              "      <td>Linear Discriminant Analysis</td>\n",
              "      <td>0.5947</td>\n",
              "      <td>0.6340</td>\n",
              "      <td>0.6246</td>\n",
              "      <td>0.5893</td>\n",
              "      <td>0.6064</td>\n",
              "      <td>0.1894</td>\n",
              "      <td>0.1897</td>\n",
              "      <td>22.864</td>\n",
              "    </tr>\n",
              "    <tr>\n",
              "      <th>ada</th>\n",
              "      <td>Ada Boost Classifier</td>\n",
              "      <td>0.5943</td>\n",
              "      <td>0.6334</td>\n",
              "      <td>0.6243</td>\n",
              "      <td>0.5889</td>\n",
              "      <td>0.6061</td>\n",
              "      <td>0.1886</td>\n",
              "      <td>0.1889</td>\n",
              "      <td>55.416</td>\n",
              "    </tr>\n",
              "    <tr>\n",
              "      <th>nb</th>\n",
              "      <td>Naive Bayes</td>\n",
              "      <td>0.5507</td>\n",
              "      <td>0.5799</td>\n",
              "      <td>0.6903</td>\n",
              "      <td>0.5396</td>\n",
              "      <td>0.6057</td>\n",
              "      <td>0.1015</td>\n",
              "      <td>0.1057</td>\n",
              "      <td>1.404</td>\n",
              "    </tr>\n",
              "    <tr>\n",
              "      <th>lr</th>\n",
              "      <td>Logistic Regression</td>\n",
              "      <td>0.5848</td>\n",
              "      <td>0.6208</td>\n",
              "      <td>0.5854</td>\n",
              "      <td>0.5846</td>\n",
              "      <td>0.5850</td>\n",
              "      <td>0.1696</td>\n",
              "      <td>0.1696</td>\n",
              "      <td>132.736</td>\n",
              "    </tr>\n",
              "    <tr>\n",
              "      <th>knn</th>\n",
              "      <td>K Neighbors Classifier</td>\n",
              "      <td>0.5546</td>\n",
              "      <td>0.5725</td>\n",
              "      <td>0.5765</td>\n",
              "      <td>0.5523</td>\n",
              "      <td>0.5641</td>\n",
              "      <td>0.1092</td>\n",
              "      <td>0.1093</td>\n",
              "      <td>215.042</td>\n",
              "    </tr>\n",
              "    <tr>\n",
              "      <th>qda</th>\n",
              "      <td>Quadratic Discriminant Analysis</td>\n",
              "      <td>0.5031</td>\n",
              "      <td>0.5031</td>\n",
              "      <td>0.6578</td>\n",
              "      <td>0.5032</td>\n",
              "      <td>0.5550</td>\n",
              "      <td>0.0063</td>\n",
              "      <td>0.0072</td>\n",
              "      <td>15.816</td>\n",
              "    </tr>\n",
              "    <tr>\n",
              "      <th>dt</th>\n",
              "      <td>Decision Tree Classifier</td>\n",
              "      <td>0.5436</td>\n",
              "      <td>0.5436</td>\n",
              "      <td>0.5456</td>\n",
              "      <td>0.5434</td>\n",
              "      <td>0.5445</td>\n",
              "      <td>0.0872</td>\n",
              "      <td>0.0872</td>\n",
              "      <td>21.686</td>\n",
              "    </tr>\n",
              "    <tr>\n",
              "      <th>svm</th>\n",
              "      <td>SVM - Linear Kernel</td>\n",
              "      <td>0.5317</td>\n",
              "      <td>0.0000</td>\n",
              "      <td>0.6736</td>\n",
              "      <td>0.5489</td>\n",
              "      <td>0.5249</td>\n",
              "      <td>0.0634</td>\n",
              "      <td>0.0872</td>\n",
              "      <td>202.354</td>\n",
              "    </tr>\n",
              "    <tr>\n",
              "      <th>dummy</th>\n",
              "      <td>Dummy Classifier</td>\n",
              "      <td>0.5000</td>\n",
              "      <td>0.5000</td>\n",
              "      <td>0.0000</td>\n",
              "      <td>0.0000</td>\n",
              "      <td>0.0000</td>\n",
              "      <td>0.0000</td>\n",
              "      <td>0.0000</td>\n",
              "      <td>0.484</td>\n",
              "    </tr>\n",
              "  </tbody>\n",
              "</table>\n",
              "</div>\n",
              "      <button class=\"colab-df-convert\" onclick=\"convertToInteractive('df-af2764cf-8fe6-413d-be73-21614cd4fde5')\"\n",
              "              title=\"Convert this dataframe to an interactive table.\"\n",
              "              style=\"display:none;\">\n",
              "        \n",
              "  <svg xmlns=\"http://www.w3.org/2000/svg\" height=\"24px\"viewBox=\"0 0 24 24\"\n",
              "       width=\"24px\">\n",
              "    <path d=\"M0 0h24v24H0V0z\" fill=\"none\"/>\n",
              "    <path d=\"M18.56 5.44l.94 2.06.94-2.06 2.06-.94-2.06-.94-.94-2.06-.94 2.06-2.06.94zm-11 1L8.5 8.5l.94-2.06 2.06-.94-2.06-.94L8.5 2.5l-.94 2.06-2.06.94zm10 10l.94 2.06.94-2.06 2.06-.94-2.06-.94-.94-2.06-.94 2.06-2.06.94z\"/><path d=\"M17.41 7.96l-1.37-1.37c-.4-.4-.92-.59-1.43-.59-.52 0-1.04.2-1.43.59L10.3 9.45l-7.72 7.72c-.78.78-.78 2.05 0 2.83L4 21.41c.39.39.9.59 1.41.59.51 0 1.02-.2 1.41-.59l7.78-7.78 2.81-2.81c.8-.78.8-2.07 0-2.86zM5.41 20L4 18.59l7.72-7.72 1.47 1.35L5.41 20z\"/>\n",
              "  </svg>\n",
              "      </button>\n",
              "      \n",
              "  <style>\n",
              "    .colab-df-container {\n",
              "      display:flex;\n",
              "      flex-wrap:wrap;\n",
              "      gap: 12px;\n",
              "    }\n",
              "\n",
              "    .colab-df-convert {\n",
              "      background-color: #E8F0FE;\n",
              "      border: none;\n",
              "      border-radius: 50%;\n",
              "      cursor: pointer;\n",
              "      display: none;\n",
              "      fill: #1967D2;\n",
              "      height: 32px;\n",
              "      padding: 0 0 0 0;\n",
              "      width: 32px;\n",
              "    }\n",
              "\n",
              "    .colab-df-convert:hover {\n",
              "      background-color: #E2EBFA;\n",
              "      box-shadow: 0px 1px 2px rgba(60, 64, 67, 0.3), 0px 1px 3px 1px rgba(60, 64, 67, 0.15);\n",
              "      fill: #174EA6;\n",
              "    }\n",
              "\n",
              "    [theme=dark] .colab-df-convert {\n",
              "      background-color: #3B4455;\n",
              "      fill: #D2E3FC;\n",
              "    }\n",
              "\n",
              "    [theme=dark] .colab-df-convert:hover {\n",
              "      background-color: #434B5C;\n",
              "      box-shadow: 0px 1px 3px 1px rgba(0, 0, 0, 0.15);\n",
              "      filter: drop-shadow(0px 1px 2px rgba(0, 0, 0, 0.3));\n",
              "      fill: #FFFFFF;\n",
              "    }\n",
              "  </style>\n",
              "\n",
              "      <script>\n",
              "        const buttonEl =\n",
              "          document.querySelector('#df-af2764cf-8fe6-413d-be73-21614cd4fde5 button.colab-df-convert');\n",
              "        buttonEl.style.display =\n",
              "          google.colab.kernel.accessAllowed ? 'block' : 'none';\n",
              "\n",
              "        async function convertToInteractive(key) {\n",
              "          const element = document.querySelector('#df-af2764cf-8fe6-413d-be73-21614cd4fde5');\n",
              "          const dataTable =\n",
              "            await google.colab.kernel.invokeFunction('convertToInteractive',\n",
              "                                                     [key], {});\n",
              "          if (!dataTable) return;\n",
              "\n",
              "          const docLinkHtml = 'Like what you see? Visit the ' +\n",
              "            '<a target=\"_blank\" href=https://colab.research.google.com/notebooks/data_table.ipynb>data table notebook</a>'\n",
              "            + ' to learn more about interactive tables.';\n",
              "          element.innerHTML = '';\n",
              "          dataTable['output_type'] = 'display_data';\n",
              "          await google.colab.output.renderOutput(dataTable, element);\n",
              "          const docLink = document.createElement('div');\n",
              "          docLink.innerHTML = docLinkHtml;\n",
              "          element.appendChild(docLink);\n",
              "        }\n",
              "      </script>\n",
              "    </div>\n",
              "  </div>\n",
              "  "
            ],
            "text/plain": [
              "                                    Model  Accuracy     AUC  Recall   Prec.  \\\n",
              "lightgbm  Light Gradient Boosting Machine    0.6132  0.6603  0.6634  0.6028   \n",
              "rf               Random Forest Classifier    0.6134  0.6606  0.6329  0.6091   \n",
              "et                 Extra Trees Classifier    0.6133  0.6595  0.6259  0.6105   \n",
              "gbc          Gradient Boosting Classifier    0.6018  0.6437  0.6438  0.5939   \n",
              "ridge                    Ridge Classifier    0.5947  0.0000  0.6247  0.5893   \n",
              "lda          Linear Discriminant Analysis    0.5947  0.6340  0.6246  0.5893   \n",
              "ada                  Ada Boost Classifier    0.5943  0.6334  0.6243  0.5889   \n",
              "nb                            Naive Bayes    0.5507  0.5799  0.6903  0.5396   \n",
              "lr                    Logistic Regression    0.5848  0.6208  0.5854  0.5846   \n",
              "knn                K Neighbors Classifier    0.5546  0.5725  0.5765  0.5523   \n",
              "qda       Quadratic Discriminant Analysis    0.5031  0.5031  0.6578  0.5032   \n",
              "dt               Decision Tree Classifier    0.5436  0.5436  0.5456  0.5434   \n",
              "svm                   SVM - Linear Kernel    0.5317  0.0000  0.6736  0.5489   \n",
              "dummy                    Dummy Classifier    0.5000  0.5000  0.0000  0.0000   \n",
              "\n",
              "              F1   Kappa     MCC  TT (Sec)  \n",
              "lightgbm  0.6317  0.2264  0.2276    11.958  \n",
              "rf        0.6208  0.2268  0.2270   140.336  \n",
              "et        0.6181  0.2267  0.2268   194.106  \n",
              "gbc       0.6178  0.2037  0.2044   269.602  \n",
              "ridge     0.6065  0.1894  0.1898     1.412  \n",
              "lda       0.6064  0.1894  0.1897    22.864  \n",
              "ada       0.6061  0.1886  0.1889    55.416  \n",
              "nb        0.6057  0.1015  0.1057     1.404  \n",
              "lr        0.5850  0.1696  0.1696   132.736  \n",
              "knn       0.5641  0.1092  0.1093   215.042  \n",
              "qda       0.5550  0.0063  0.0072    15.816  \n",
              "dt        0.5445  0.0872  0.0872    21.686  \n",
              "svm       0.5249  0.0634  0.0872   202.354  \n",
              "dummy     0.0000  0.0000  0.0000     0.484  "
            ]
          },
          "metadata": {},
          "output_type": "display_data"
        }
      ],
      "source": [
        "# 라벨 변경 후\n",
        "best_3 = compare_models(sort = 'F1', n_select = 3, fold= 5)"
      ]
    },
    {
      "cell_type": "code",
      "execution_count": null,
      "metadata": {
        "colab": {
          "base_uri": "https://localhost:8080/",
          "height": 488
        },
        "id": "6TKqw00YX5FG",
        "outputId": "8b83fb82-cf7e-4c34-f369-26c939fd219e"
      },
      "outputs": [
        {
          "data": {
            "text/html": [
              "<div>\n",
              "<style scoped>\n",
              "    .dataframe tbody tr th:only-of-type {\n",
              "        vertical-align: middle;\n",
              "    }\n",
              "\n",
              "    .dataframe tbody tr th {\n",
              "        vertical-align: top;\n",
              "    }\n",
              "\n",
              "    .dataframe thead th {\n",
              "        text-align: right;\n",
              "    }\n",
              "</style>\n",
              "<table border=\"1\" class=\"dataframe\">\n",
              "  <thead>\n",
              "    <tr style=\"text-align: right;\">\n",
              "      <th></th>\n",
              "      <th>Model</th>\n",
              "      <th>Accuracy</th>\n",
              "      <th>AUC</th>\n",
              "      <th>Recall</th>\n",
              "      <th>Prec.</th>\n",
              "      <th>F1</th>\n",
              "      <th>Kappa</th>\n",
              "      <th>MCC</th>\n",
              "      <th>TT (Sec)</th>\n",
              "    </tr>\n",
              "  </thead>\n",
              "  <tbody>\n",
              "    <tr>\n",
              "      <th>qda</th>\n",
              "      <td>Quadratic Discriminant Analysis</td>\n",
              "      <td>0.5014</td>\n",
              "      <td>0.5015</td>\n",
              "      <td>0.8875</td>\n",
              "      <td>0.5008</td>\n",
              "      <td>0.6382</td>\n",
              "      <td>0.0029</td>\n",
              "      <td>0.0044</td>\n",
              "      <td>7.368</td>\n",
              "    </tr>\n",
              "    <tr>\n",
              "      <th>lightgbm</th>\n",
              "      <td>Light Gradient Boosting Machine</td>\n",
              "      <td>0.6128</td>\n",
              "      <td>0.6593</td>\n",
              "      <td>0.6640</td>\n",
              "      <td>0.6023</td>\n",
              "      <td>0.6317</td>\n",
              "      <td>0.2256</td>\n",
              "      <td>0.2268</td>\n",
              "      <td>8.144</td>\n",
              "    </tr>\n",
              "    <tr>\n",
              "      <th>rf</th>\n",
              "      <td>Random Forest Classifier</td>\n",
              "      <td>0.6083</td>\n",
              "      <td>0.6542</td>\n",
              "      <td>0.6211</td>\n",
              "      <td>0.6055</td>\n",
              "      <td>0.6132</td>\n",
              "      <td>0.2166</td>\n",
              "      <td>0.2166</td>\n",
              "      <td>102.734</td>\n",
              "    </tr>\n",
              "    <tr>\n",
              "      <th>gbc</th>\n",
              "      <td>Gradient Boosting Classifier</td>\n",
              "      <td>0.5992</td>\n",
              "      <td>0.6417</td>\n",
              "      <td>0.6339</td>\n",
              "      <td>0.5927</td>\n",
              "      <td>0.6126</td>\n",
              "      <td>0.1983</td>\n",
              "      <td>0.1988</td>\n",
              "      <td>162.244</td>\n",
              "    </tr>\n",
              "    <tr>\n",
              "      <th>ada</th>\n",
              "      <td>Ada Boost Classifier</td>\n",
              "      <td>0.5931</td>\n",
              "      <td>0.6322</td>\n",
              "      <td>0.6221</td>\n",
              "      <td>0.5879</td>\n",
              "      <td>0.6045</td>\n",
              "      <td>0.1862</td>\n",
              "      <td>0.1865</td>\n",
              "      <td>33.644</td>\n",
              "    </tr>\n",
              "    <tr>\n",
              "      <th>et</th>\n",
              "      <td>Extra Trees Classifier</td>\n",
              "      <td>0.6011</td>\n",
              "      <td>0.6429</td>\n",
              "      <td>0.6055</td>\n",
              "      <td>0.6002</td>\n",
              "      <td>0.6028</td>\n",
              "      <td>0.2023</td>\n",
              "      <td>0.2023</td>\n",
              "      <td>112.454</td>\n",
              "    </tr>\n",
              "    <tr>\n",
              "      <th>ridge</th>\n",
              "      <td>Ridge Classifier</td>\n",
              "      <td>0.5884</td>\n",
              "      <td>0.0000</td>\n",
              "      <td>0.6047</td>\n",
              "      <td>0.5856</td>\n",
              "      <td>0.5950</td>\n",
              "      <td>0.1769</td>\n",
              "      <td>0.1770</td>\n",
              "      <td>0.762</td>\n",
              "    </tr>\n",
              "    <tr>\n",
              "      <th>lda</th>\n",
              "      <td>Linear Discriminant Analysis</td>\n",
              "      <td>0.5884</td>\n",
              "      <td>0.6235</td>\n",
              "      <td>0.6047</td>\n",
              "      <td>0.5856</td>\n",
              "      <td>0.5950</td>\n",
              "      <td>0.1769</td>\n",
              "      <td>0.1770</td>\n",
              "      <td>11.082</td>\n",
              "    </tr>\n",
              "    <tr>\n",
              "      <th>dt</th>\n",
              "      <td>Decision Tree Classifier</td>\n",
              "      <td>0.5440</td>\n",
              "      <td>0.5440</td>\n",
              "      <td>0.5440</td>\n",
              "      <td>0.5440</td>\n",
              "      <td>0.5440</td>\n",
              "      <td>0.0881</td>\n",
              "      <td>0.0881</td>\n",
              "      <td>11.580</td>\n",
              "    </tr>\n",
              "    <tr>\n",
              "      <th>knn</th>\n",
              "      <td>K Neighbors Classifier</td>\n",
              "      <td>0.5324</td>\n",
              "      <td>0.5422</td>\n",
              "      <td>0.5475</td>\n",
              "      <td>0.5314</td>\n",
              "      <td>0.5393</td>\n",
              "      <td>0.0648</td>\n",
              "      <td>0.0648</td>\n",
              "      <td>20.422</td>\n",
              "    </tr>\n",
              "    <tr>\n",
              "      <th>nb</th>\n",
              "      <td>Naive Bayes</td>\n",
              "      <td>0.5360</td>\n",
              "      <td>0.5520</td>\n",
              "      <td>0.5382</td>\n",
              "      <td>0.5358</td>\n",
              "      <td>0.5370</td>\n",
              "      <td>0.0721</td>\n",
              "      <td>0.0721</td>\n",
              "      <td>0.832</td>\n",
              "    </tr>\n",
              "    <tr>\n",
              "      <th>lr</th>\n",
              "      <td>Logistic Regression</td>\n",
              "      <td>0.5239</td>\n",
              "      <td>0.5364</td>\n",
              "      <td>0.4101</td>\n",
              "      <td>0.5309</td>\n",
              "      <td>0.4627</td>\n",
              "      <td>0.0478</td>\n",
              "      <td>0.0491</td>\n",
              "      <td>5.288</td>\n",
              "    </tr>\n",
              "    <tr>\n",
              "      <th>svm</th>\n",
              "      <td>SVM - Linear Kernel</td>\n",
              "      <td>0.5010</td>\n",
              "      <td>0.0000</td>\n",
              "      <td>0.4101</td>\n",
              "      <td>0.5409</td>\n",
              "      <td>0.2862</td>\n",
              "      <td>0.0019</td>\n",
              "      <td>0.0069</td>\n",
              "      <td>93.228</td>\n",
              "    </tr>\n",
              "    <tr>\n",
              "      <th>dummy</th>\n",
              "      <td>Dummy Classifier</td>\n",
              "      <td>0.5000</td>\n",
              "      <td>0.5000</td>\n",
              "      <td>0.0000</td>\n",
              "      <td>0.0000</td>\n",
              "      <td>0.0000</td>\n",
              "      <td>0.0000</td>\n",
              "      <td>0.0000</td>\n",
              "      <td>0.390</td>\n",
              "    </tr>\n",
              "  </tbody>\n",
              "</table>\n",
              "</div>"
            ],
            "text/plain": [
              "                                    Model  Accuracy     AUC  Recall   Prec.  \\\n",
              "qda       Quadratic Discriminant Analysis    0.5014  0.5015  0.8875  0.5008   \n",
              "lightgbm  Light Gradient Boosting Machine    0.6128  0.6593  0.6640  0.6023   \n",
              "rf               Random Forest Classifier    0.6083  0.6542  0.6211  0.6055   \n",
              "gbc          Gradient Boosting Classifier    0.5992  0.6417  0.6339  0.5927   \n",
              "ada                  Ada Boost Classifier    0.5931  0.6322  0.6221  0.5879   \n",
              "et                 Extra Trees Classifier    0.6011  0.6429  0.6055  0.6002   \n",
              "ridge                    Ridge Classifier    0.5884  0.0000  0.6047  0.5856   \n",
              "lda          Linear Discriminant Analysis    0.5884  0.6235  0.6047  0.5856   \n",
              "dt               Decision Tree Classifier    0.5440  0.5440  0.5440  0.5440   \n",
              "knn                K Neighbors Classifier    0.5324  0.5422  0.5475  0.5314   \n",
              "nb                            Naive Bayes    0.5360  0.5520  0.5382  0.5358   \n",
              "lr                    Logistic Regression    0.5239  0.5364  0.4101  0.5309   \n",
              "svm                   SVM - Linear Kernel    0.5010  0.0000  0.4101  0.5409   \n",
              "dummy                    Dummy Classifier    0.5000  0.5000  0.0000  0.0000   \n",
              "\n",
              "              F1   Kappa     MCC  TT (Sec)  \n",
              "qda       0.6382  0.0029  0.0044     7.368  \n",
              "lightgbm  0.6317  0.2256  0.2268     8.144  \n",
              "rf        0.6132  0.2166  0.2166   102.734  \n",
              "gbc       0.6126  0.1983  0.1988   162.244  \n",
              "ada       0.6045  0.1862  0.1865    33.644  \n",
              "et        0.6028  0.2023  0.2023   112.454  \n",
              "ridge     0.5950  0.1769  0.1770     0.762  \n",
              "lda       0.5950  0.1769  0.1770    11.082  \n",
              "dt        0.5440  0.0881  0.0881    11.580  \n",
              "knn       0.5393  0.0648  0.0648    20.422  \n",
              "nb        0.5370  0.0721  0.0721     0.832  \n",
              "lr        0.4627  0.0478  0.0491     5.288  \n",
              "svm       0.2862  0.0019  0.0069    93.228  \n",
              "dummy     0.0000  0.0000  0.0000     0.390  "
            ]
          },
          "metadata": {},
          "output_type": "display_data"
        }
      ],
      "source": [
        "# 카테고리 처리전\n",
        "best_3 = compare_models(sort = 'F1', n_select = 3, fold= 5)"
      ]
    },
    {
      "cell_type": "markdown",
      "metadata": {
        "id": "X6lbfp3iLaIN"
      },
      "source": [
        "- 베이즈 통계와 생성모델에 기반한 나이브 베이즈\n",
        "  - Naive Bayes\t\n",
        "\n",
        "- 독립변수와 종속변수의 선형 관계성에 기반한 로지스틱 회귀\n",
        "  - Logistic Regression\t\n",
        ": 회귀를 사용하여 데이터가 어떤 범주에 속할 확률을 0에서 1 사이의 값으로 예측하고 그 확률에 따라 가능성이 더 높은 범주에 속하는 것으로 분류해주는 지도 학습 알고리즘\n",
        "  - https://hleecaster.com/ml-logistic-regression-concept/\n",
        "\n",
        "- 데이터 균일도에 따른 규칙 기반의 결정트리\n",
        "  - Decision Tree Classifier\t\n",
        "\n",
        "- 개별 글래스 간의 최대 분류 마진을 효과적으로 찾아주는 서포트 벡터 머신\n",
        "  - SVM - Linear Kernel\t\n",
        "  - https://ko.wikipedia.org/wiki/%EC%84%9C%ED%8F%AC%ED%8A%B8_%EB%B2%A1%ED%84%B0_%EB%A8%B8%EC%8B%A0\n",
        "\n",
        "- 근접 거리를 기준으로 하는 최소 근접 알고리즘\n",
        "  - K Neighbors Classifier\t\n",
        "  - https://ko.wikipedia.org/wiki/K-%EC%B5%9C%EA%B7%BC%EC%A0%91_%EC%9D%B4%EC%9B%83_%EC%95%8C%EA%B3%A0%EB%A6%AC%EC%A6%98\n",
        "\n",
        "- 심층 연결 기반의 신경망\n",
        "\n",
        "- 다변량 데이터에서의 차원축소를 사용한 클래스 분류 방법\n",
        "\n",
        "  - Linear Discriminant Analysis (가정 - 다변량 정규성 만족)\n",
        "  - Quadratic Discriminant Analysis\t\n",
        "  - https://ratsgo.github.io/machine%20learning/2017/03/21/LDA/\n",
        "\n",
        "- 서로 다른 머신러닝 알고리즘을 결합한 앙상블\n",
        "\n",
        "  - 보팅\n",
        "    - 하드보팅\n",
        "    - 소프트보팅\n",
        "\n",
        "- 배깅\n",
        "  - Random Forest Classifier (모든 데이터 사용)\n",
        "\n",
        "\n",
        "- ? 어디에 분류 ??\n",
        "  - Extra Trees Classifier(랜포 보다 더 랜덤한 모델, 랜덤한 피처사용)\n",
        "  - https://wyatt37.tistory.com/6\n",
        "\n",
        "- 부스팅\n",
        "  - Ada Boost Classifier (오분류 가중치)\n",
        "  - Gradient Boosting Classifier (경사하강법)\n",
        "  - XG Boosting Machine (컴퓨팅 성능 강화)\n",
        "  - Light Gradient Boosting Machine\t(비대칭 리프노드 분할)\n",
        "  - Cat Boosting Classifier\t(범주형 변수의 잔치를 반영)\n",
        "    - https://dailyheumsi.tistory.com/136\n",
        "  - NG Boosting Classifier (신경망 기반 부스팅)\t\n",
        "\n",
        "\n",
        "- 흐음\n",
        "  - Ridge Classifier\t\n",
        "  - Dummy Classifier (모델의 base line 명시)"
      ]
    },
    {
      "cell_type": "code",
      "execution_count": null,
      "metadata": {
        "colab": {
          "base_uri": "https://localhost:8080/",
          "height": 426
        },
        "id": "5aflnxgL6z8h",
        "outputId": "5b802878-fa82-450d-edf0-31e780d595ee"
      },
      "outputs": [
        {
          "data": {
            "text/html": [
              "<div>\n",
              "<style scoped>\n",
              "    .dataframe tbody tr th:only-of-type {\n",
              "        vertical-align: middle;\n",
              "    }\n",
              "\n",
              "    .dataframe tbody tr th {\n",
              "        vertical-align: top;\n",
              "    }\n",
              "\n",
              "    .dataframe thead th {\n",
              "        text-align: right;\n",
              "    }\n",
              "</style>\n",
              "<table border=\"1\" class=\"dataframe\">\n",
              "  <thead>\n",
              "    <tr style=\"text-align: right;\">\n",
              "      <th></th>\n",
              "      <th>Accuracy</th>\n",
              "      <th>AUC</th>\n",
              "      <th>Recall</th>\n",
              "      <th>Prec.</th>\n",
              "      <th>F1</th>\n",
              "      <th>Kappa</th>\n",
              "      <th>MCC</th>\n",
              "    </tr>\n",
              "  </thead>\n",
              "  <tbody>\n",
              "    <tr>\n",
              "      <th>0</th>\n",
              "      <td>0.6156</td>\n",
              "      <td>0.6587</td>\n",
              "      <td>0.6669</td>\n",
              "      <td>0.6049</td>\n",
              "      <td>0.6344</td>\n",
              "      <td>0.2313</td>\n",
              "      <td>0.2325</td>\n",
              "    </tr>\n",
              "    <tr>\n",
              "      <th>1</th>\n",
              "      <td>0.6085</td>\n",
              "      <td>0.6563</td>\n",
              "      <td>0.6587</td>\n",
              "      <td>0.5985</td>\n",
              "      <td>0.6272</td>\n",
              "      <td>0.2170</td>\n",
              "      <td>0.2181</td>\n",
              "    </tr>\n",
              "    <tr>\n",
              "      <th>2</th>\n",
              "      <td>0.6129</td>\n",
              "      <td>0.6609</td>\n",
              "      <td>0.6640</td>\n",
              "      <td>0.6024</td>\n",
              "      <td>0.6317</td>\n",
              "      <td>0.2258</td>\n",
              "      <td>0.2270</td>\n",
              "    </tr>\n",
              "    <tr>\n",
              "      <th>3</th>\n",
              "      <td>0.6104</td>\n",
              "      <td>0.6574</td>\n",
              "      <td>0.6625</td>\n",
              "      <td>0.5999</td>\n",
              "      <td>0.6297</td>\n",
              "      <td>0.2208</td>\n",
              "      <td>0.2220</td>\n",
              "    </tr>\n",
              "    <tr>\n",
              "      <th>4</th>\n",
              "      <td>0.6104</td>\n",
              "      <td>0.6576</td>\n",
              "      <td>0.6667</td>\n",
              "      <td>0.5992</td>\n",
              "      <td>0.6312</td>\n",
              "      <td>0.2208</td>\n",
              "      <td>0.2222</td>\n",
              "    </tr>\n",
              "    <tr>\n",
              "      <th>5</th>\n",
              "      <td>0.6115</td>\n",
              "      <td>0.6581</td>\n",
              "      <td>0.6626</td>\n",
              "      <td>0.6011</td>\n",
              "      <td>0.6304</td>\n",
              "      <td>0.2230</td>\n",
              "      <td>0.2242</td>\n",
              "    </tr>\n",
              "    <tr>\n",
              "      <th>6</th>\n",
              "      <td>0.6110</td>\n",
              "      <td>0.6586</td>\n",
              "      <td>0.6597</td>\n",
              "      <td>0.6011</td>\n",
              "      <td>0.6290</td>\n",
              "      <td>0.2219</td>\n",
              "      <td>0.2230</td>\n",
              "    </tr>\n",
              "    <tr>\n",
              "      <th>7</th>\n",
              "      <td>0.6119</td>\n",
              "      <td>0.6609</td>\n",
              "      <td>0.6604</td>\n",
              "      <td>0.6020</td>\n",
              "      <td>0.6299</td>\n",
              "      <td>0.2239</td>\n",
              "      <td>0.2249</td>\n",
              "    </tr>\n",
              "    <tr>\n",
              "      <th>8</th>\n",
              "      <td>0.6173</td>\n",
              "      <td>0.6642</td>\n",
              "      <td>0.6650</td>\n",
              "      <td>0.6070</td>\n",
              "      <td>0.6347</td>\n",
              "      <td>0.2345</td>\n",
              "      <td>0.2356</td>\n",
              "    </tr>\n",
              "    <tr>\n",
              "      <th>9</th>\n",
              "      <td>0.6147</td>\n",
              "      <td>0.6627</td>\n",
              "      <td>0.6629</td>\n",
              "      <td>0.6046</td>\n",
              "      <td>0.6324</td>\n",
              "      <td>0.2294</td>\n",
              "      <td>0.2305</td>\n",
              "    </tr>\n",
              "    <tr>\n",
              "      <th>Mean</th>\n",
              "      <td>0.6124</td>\n",
              "      <td>0.6596</td>\n",
              "      <td>0.6630</td>\n",
              "      <td>0.6021</td>\n",
              "      <td>0.6310</td>\n",
              "      <td>0.2248</td>\n",
              "      <td>0.2260</td>\n",
              "    </tr>\n",
              "    <tr>\n",
              "      <th>SD</th>\n",
              "      <td>0.0026</td>\n",
              "      <td>0.0024</td>\n",
              "      <td>0.0027</td>\n",
              "      <td>0.0026</td>\n",
              "      <td>0.0022</td>\n",
              "      <td>0.0051</td>\n",
              "      <td>0.0051</td>\n",
              "    </tr>\n",
              "  </tbody>\n",
              "</table>\n",
              "</div>"
            ],
            "text/plain": [
              "      Accuracy     AUC  Recall   Prec.      F1   Kappa     MCC\n",
              "0       0.6156  0.6587  0.6669  0.6049  0.6344  0.2313  0.2325\n",
              "1       0.6085  0.6563  0.6587  0.5985  0.6272  0.2170  0.2181\n",
              "2       0.6129  0.6609  0.6640  0.6024  0.6317  0.2258  0.2270\n",
              "3       0.6104  0.6574  0.6625  0.5999  0.6297  0.2208  0.2220\n",
              "4       0.6104  0.6576  0.6667  0.5992  0.6312  0.2208  0.2222\n",
              "5       0.6115  0.6581  0.6626  0.6011  0.6304  0.2230  0.2242\n",
              "6       0.6110  0.6586  0.6597  0.6011  0.6290  0.2219  0.2230\n",
              "7       0.6119  0.6609  0.6604  0.6020  0.6299  0.2239  0.2249\n",
              "8       0.6173  0.6642  0.6650  0.6070  0.6347  0.2345  0.2356\n",
              "9       0.6147  0.6627  0.6629  0.6046  0.6324  0.2294  0.2305\n",
              "Mean    0.6124  0.6596  0.6630  0.6021  0.6310  0.2248  0.2260\n",
              "SD      0.0026  0.0024  0.0027  0.0026  0.0022  0.0051  0.0051"
            ]
          },
          "metadata": {},
          "output_type": "display_data"
        }
      ],
      "source": [
        "lightgbm = create_model('lightgbm')"
      ]
    },
    {
      "cell_type": "code",
      "execution_count": null,
      "metadata": {
        "colab": {
          "base_uri": "https://localhost:8080/",
          "height": 426
        },
        "id": "rNKYWNDtBvUg",
        "outputId": "57c87966-453c-4779-eb44-aa5604b21555"
      },
      "outputs": [
        {
          "data": {
            "text/html": [
              "<div>\n",
              "<style scoped>\n",
              "    .dataframe tbody tr th:only-of-type {\n",
              "        vertical-align: middle;\n",
              "    }\n",
              "\n",
              "    .dataframe tbody tr th {\n",
              "        vertical-align: top;\n",
              "    }\n",
              "\n",
              "    .dataframe thead th {\n",
              "        text-align: right;\n",
              "    }\n",
              "</style>\n",
              "<table border=\"1\" class=\"dataframe\">\n",
              "  <thead>\n",
              "    <tr style=\"text-align: right;\">\n",
              "      <th></th>\n",
              "      <th>Accuracy</th>\n",
              "      <th>AUC</th>\n",
              "      <th>Recall</th>\n",
              "      <th>Prec.</th>\n",
              "      <th>F1</th>\n",
              "      <th>Kappa</th>\n",
              "      <th>MCC</th>\n",
              "    </tr>\n",
              "  </thead>\n",
              "  <tbody>\n",
              "    <tr>\n",
              "      <th>0</th>\n",
              "      <td>0.6110</td>\n",
              "      <td>0.6532</td>\n",
              "      <td>0.6249</td>\n",
              "      <td>0.6079</td>\n",
              "      <td>0.6163</td>\n",
              "      <td>0.2219</td>\n",
              "      <td>0.2220</td>\n",
              "    </tr>\n",
              "    <tr>\n",
              "      <th>1</th>\n",
              "      <td>0.6038</td>\n",
              "      <td>0.6480</td>\n",
              "      <td>0.6103</td>\n",
              "      <td>0.6025</td>\n",
              "      <td>0.6064</td>\n",
              "      <td>0.2077</td>\n",
              "      <td>0.2077</td>\n",
              "    </tr>\n",
              "    <tr>\n",
              "      <th>2</th>\n",
              "      <td>0.6109</td>\n",
              "      <td>0.6561</td>\n",
              "      <td>0.6196</td>\n",
              "      <td>0.6090</td>\n",
              "      <td>0.6142</td>\n",
              "      <td>0.2218</td>\n",
              "      <td>0.2218</td>\n",
              "    </tr>\n",
              "    <tr>\n",
              "      <th>3</th>\n",
              "      <td>0.6109</td>\n",
              "      <td>0.6548</td>\n",
              "      <td>0.6231</td>\n",
              "      <td>0.6082</td>\n",
              "      <td>0.6156</td>\n",
              "      <td>0.2218</td>\n",
              "      <td>0.2219</td>\n",
              "    </tr>\n",
              "    <tr>\n",
              "      <th>4</th>\n",
              "      <td>0.6107</td>\n",
              "      <td>0.6555</td>\n",
              "      <td>0.6311</td>\n",
              "      <td>0.6063</td>\n",
              "      <td>0.6184</td>\n",
              "      <td>0.2213</td>\n",
              "      <td>0.2215</td>\n",
              "    </tr>\n",
              "    <tr>\n",
              "      <th>5</th>\n",
              "      <td>0.6094</td>\n",
              "      <td>0.6557</td>\n",
              "      <td>0.6243</td>\n",
              "      <td>0.6062</td>\n",
              "      <td>0.6151</td>\n",
              "      <td>0.2189</td>\n",
              "      <td>0.2190</td>\n",
              "    </tr>\n",
              "    <tr>\n",
              "      <th>6</th>\n",
              "      <td>0.6126</td>\n",
              "      <td>0.6561</td>\n",
              "      <td>0.6236</td>\n",
              "      <td>0.6101</td>\n",
              "      <td>0.6168</td>\n",
              "      <td>0.2251</td>\n",
              "      <td>0.2252</td>\n",
              "    </tr>\n",
              "    <tr>\n",
              "      <th>7</th>\n",
              "      <td>0.6124</td>\n",
              "      <td>0.6612</td>\n",
              "      <td>0.6246</td>\n",
              "      <td>0.6096</td>\n",
              "      <td>0.6170</td>\n",
              "      <td>0.2247</td>\n",
              "      <td>0.2248</td>\n",
              "    </tr>\n",
              "    <tr>\n",
              "      <th>8</th>\n",
              "      <td>0.6112</td>\n",
              "      <td>0.6577</td>\n",
              "      <td>0.6206</td>\n",
              "      <td>0.6091</td>\n",
              "      <td>0.6148</td>\n",
              "      <td>0.2224</td>\n",
              "      <td>0.2224</td>\n",
              "    </tr>\n",
              "    <tr>\n",
              "      <th>9</th>\n",
              "      <td>0.6117</td>\n",
              "      <td>0.6591</td>\n",
              "      <td>0.6234</td>\n",
              "      <td>0.6091</td>\n",
              "      <td>0.6162</td>\n",
              "      <td>0.2234</td>\n",
              "      <td>0.2235</td>\n",
              "    </tr>\n",
              "    <tr>\n",
              "      <th>Mean</th>\n",
              "      <td>0.6105</td>\n",
              "      <td>0.6557</td>\n",
              "      <td>0.6226</td>\n",
              "      <td>0.6078</td>\n",
              "      <td>0.6151</td>\n",
              "      <td>0.2209</td>\n",
              "      <td>0.2210</td>\n",
              "    </tr>\n",
              "    <tr>\n",
              "      <th>SD</th>\n",
              "      <td>0.0024</td>\n",
              "      <td>0.0033</td>\n",
              "      <td>0.0050</td>\n",
              "      <td>0.0022</td>\n",
              "      <td>0.0031</td>\n",
              "      <td>0.0047</td>\n",
              "      <td>0.0047</td>\n",
              "    </tr>\n",
              "  </tbody>\n",
              "</table>\n",
              "</div>"
            ],
            "text/plain": [
              "      Accuracy     AUC  Recall   Prec.      F1   Kappa     MCC\n",
              "0       0.6110  0.6532  0.6249  0.6079  0.6163  0.2219  0.2220\n",
              "1       0.6038  0.6480  0.6103  0.6025  0.6064  0.2077  0.2077\n",
              "2       0.6109  0.6561  0.6196  0.6090  0.6142  0.2218  0.2218\n",
              "3       0.6109  0.6548  0.6231  0.6082  0.6156  0.2218  0.2219\n",
              "4       0.6107  0.6555  0.6311  0.6063  0.6184  0.2213  0.2215\n",
              "5       0.6094  0.6557  0.6243  0.6062  0.6151  0.2189  0.2190\n",
              "6       0.6126  0.6561  0.6236  0.6101  0.6168  0.2251  0.2252\n",
              "7       0.6124  0.6612  0.6246  0.6096  0.6170  0.2247  0.2248\n",
              "8       0.6112  0.6577  0.6206  0.6091  0.6148  0.2224  0.2224\n",
              "9       0.6117  0.6591  0.6234  0.6091  0.6162  0.2234  0.2235\n",
              "Mean    0.6105  0.6557  0.6226  0.6078  0.6151  0.2209  0.2210\n",
              "SD      0.0024  0.0033  0.0050  0.0022  0.0031  0.0047  0.0047"
            ]
          },
          "metadata": {},
          "output_type": "display_data"
        }
      ],
      "source": [
        "qda = create_model('qda')\n",
        "lightgbm = create_model('lightgbm')\n",
        "rf = create_model('rf')"
      ]
    },
    {
      "cell_type": "code",
      "execution_count": null,
      "metadata": {
        "colab": {
          "base_uri": "https://localhost:8080/",
          "height": 426
        },
        "id": "pZVj3gOIX5KA",
        "outputId": "87dd3060-7d11-4c06-bb4f-194fe482b8c4"
      },
      "outputs": [
        {
          "data": {
            "text/html": [
              "<div>\n",
              "<style scoped>\n",
              "    .dataframe tbody tr th:only-of-type {\n",
              "        vertical-align: middle;\n",
              "    }\n",
              "\n",
              "    .dataframe tbody tr th {\n",
              "        vertical-align: top;\n",
              "    }\n",
              "\n",
              "    .dataframe thead th {\n",
              "        text-align: right;\n",
              "    }\n",
              "</style>\n",
              "<table border=\"1\" class=\"dataframe\">\n",
              "  <thead>\n",
              "    <tr style=\"text-align: right;\">\n",
              "      <th></th>\n",
              "      <th>Accuracy</th>\n",
              "      <th>AUC</th>\n",
              "      <th>Recall</th>\n",
              "      <th>Prec.</th>\n",
              "      <th>F1</th>\n",
              "      <th>Kappa</th>\n",
              "      <th>MCC</th>\n",
              "    </tr>\n",
              "  </thead>\n",
              "  <tbody>\n",
              "    <tr>\n",
              "      <th>0</th>\n",
              "      <td>0.5855</td>\n",
              "      <td>0.6200</td>\n",
              "      <td>0.6630</td>\n",
              "      <td>0.5740</td>\n",
              "      <td>0.6153</td>\n",
              "      <td>0.1711</td>\n",
              "      <td>0.1732</td>\n",
              "    </tr>\n",
              "    <tr>\n",
              "      <th>1</th>\n",
              "      <td>0.5848</td>\n",
              "      <td>0.6201</td>\n",
              "      <td>0.6627</td>\n",
              "      <td>0.5734</td>\n",
              "      <td>0.6148</td>\n",
              "      <td>0.1697</td>\n",
              "      <td>0.1718</td>\n",
              "    </tr>\n",
              "    <tr>\n",
              "      <th>2</th>\n",
              "      <td>0.5890</td>\n",
              "      <td>0.6254</td>\n",
              "      <td>0.6693</td>\n",
              "      <td>0.5766</td>\n",
              "      <td>0.6195</td>\n",
              "      <td>0.1780</td>\n",
              "      <td>0.1803</td>\n",
              "    </tr>\n",
              "    <tr>\n",
              "      <th>3</th>\n",
              "      <td>0.5902</td>\n",
              "      <td>0.6260</td>\n",
              "      <td>0.6668</td>\n",
              "      <td>0.5782</td>\n",
              "      <td>0.6193</td>\n",
              "      <td>0.1804</td>\n",
              "      <td>0.1826</td>\n",
              "    </tr>\n",
              "    <tr>\n",
              "      <th>4</th>\n",
              "      <td>0.5824</td>\n",
              "      <td>0.6210</td>\n",
              "      <td>0.6653</td>\n",
              "      <td>0.5706</td>\n",
              "      <td>0.6143</td>\n",
              "      <td>0.1648</td>\n",
              "      <td>0.1671</td>\n",
              "    </tr>\n",
              "    <tr>\n",
              "      <th>5</th>\n",
              "      <td>0.5899</td>\n",
              "      <td>0.6238</td>\n",
              "      <td>0.6706</td>\n",
              "      <td>0.5774</td>\n",
              "      <td>0.6205</td>\n",
              "      <td>0.1799</td>\n",
              "      <td>0.1823</td>\n",
              "    </tr>\n",
              "    <tr>\n",
              "      <th>6</th>\n",
              "      <td>0.5912</td>\n",
              "      <td>0.6266</td>\n",
              "      <td>0.6689</td>\n",
              "      <td>0.5788</td>\n",
              "      <td>0.6206</td>\n",
              "      <td>0.1823</td>\n",
              "      <td>0.1846</td>\n",
              "    </tr>\n",
              "    <tr>\n",
              "      <th>7</th>\n",
              "      <td>0.5917</td>\n",
              "      <td>0.6273</td>\n",
              "      <td>0.6678</td>\n",
              "      <td>0.5795</td>\n",
              "      <td>0.6205</td>\n",
              "      <td>0.1834</td>\n",
              "      <td>0.1855</td>\n",
              "    </tr>\n",
              "    <tr>\n",
              "      <th>8</th>\n",
              "      <td>0.5875</td>\n",
              "      <td>0.6253</td>\n",
              "      <td>0.6681</td>\n",
              "      <td>0.5753</td>\n",
              "      <td>0.6182</td>\n",
              "      <td>0.1750</td>\n",
              "      <td>0.1773</td>\n",
              "    </tr>\n",
              "    <tr>\n",
              "      <th>9</th>\n",
              "      <td>0.5941</td>\n",
              "      <td>0.6311</td>\n",
              "      <td>0.6748</td>\n",
              "      <td>0.5810</td>\n",
              "      <td>0.6244</td>\n",
              "      <td>0.1883</td>\n",
              "      <td>0.1908</td>\n",
              "    </tr>\n",
              "    <tr>\n",
              "      <th>Mean</th>\n",
              "      <td>0.5886</td>\n",
              "      <td>0.6247</td>\n",
              "      <td>0.6677</td>\n",
              "      <td>0.5765</td>\n",
              "      <td>0.6188</td>\n",
              "      <td>0.1773</td>\n",
              "      <td>0.1795</td>\n",
              "    </tr>\n",
              "    <tr>\n",
              "      <th>SD</th>\n",
              "      <td>0.0034</td>\n",
              "      <td>0.0033</td>\n",
              "      <td>0.0034</td>\n",
              "      <td>0.0030</td>\n",
              "      <td>0.0030</td>\n",
              "      <td>0.0068</td>\n",
              "      <td>0.0068</td>\n",
              "    </tr>\n",
              "  </tbody>\n",
              "</table>\n",
              "</div>"
            ],
            "text/plain": [
              "      Accuracy     AUC  Recall   Prec.      F1   Kappa     MCC\n",
              "0       0.5855  0.6200  0.6630  0.5740  0.6153  0.1711  0.1732\n",
              "1       0.5848  0.6201  0.6627  0.5734  0.6148  0.1697  0.1718\n",
              "2       0.5890  0.6254  0.6693  0.5766  0.6195  0.1780  0.1803\n",
              "3       0.5902  0.6260  0.6668  0.5782  0.6193  0.1804  0.1826\n",
              "4       0.5824  0.6210  0.6653  0.5706  0.6143  0.1648  0.1671\n",
              "5       0.5899  0.6238  0.6706  0.5774  0.6205  0.1799  0.1823\n",
              "6       0.5912  0.6266  0.6689  0.5788  0.6206  0.1823  0.1846\n",
              "7       0.5917  0.6273  0.6678  0.5795  0.6205  0.1834  0.1855\n",
              "8       0.5875  0.6253  0.6681  0.5753  0.6182  0.1750  0.1773\n",
              "9       0.5941  0.6311  0.6748  0.5810  0.6244  0.1883  0.1908\n",
              "Mean    0.5886  0.6247  0.6677  0.5765  0.6188  0.1773  0.1795\n",
              "SD      0.0034  0.0033  0.0034  0.0030  0.0030  0.0068  0.0068"
            ]
          },
          "metadata": {},
          "output_type": "display_data"
        }
      ],
      "source": [
        "qda = tune_model(qda, optimize = 'F1') "
      ]
    },
    {
      "cell_type": "code",
      "execution_count": null,
      "metadata": {
        "colab": {
          "base_uri": "https://localhost:8080/",
          "height": 426
        },
        "id": "BN1gUbCgCVc3",
        "outputId": "6545e64e-0fd7-4615-a129-fac0148f12db"
      },
      "outputs": [
        {
          "data": {
            "text/html": [
              "<div>\n",
              "<style scoped>\n",
              "    .dataframe tbody tr th:only-of-type {\n",
              "        vertical-align: middle;\n",
              "    }\n",
              "\n",
              "    .dataframe tbody tr th {\n",
              "        vertical-align: top;\n",
              "    }\n",
              "\n",
              "    .dataframe thead th {\n",
              "        text-align: right;\n",
              "    }\n",
              "</style>\n",
              "<table border=\"1\" class=\"dataframe\">\n",
              "  <thead>\n",
              "    <tr style=\"text-align: right;\">\n",
              "      <th></th>\n",
              "      <th>Accuracy</th>\n",
              "      <th>AUC</th>\n",
              "      <th>Recall</th>\n",
              "      <th>Prec.</th>\n",
              "      <th>F1</th>\n",
              "      <th>Kappa</th>\n",
              "      <th>MCC</th>\n",
              "    </tr>\n",
              "  </thead>\n",
              "  <tbody>\n",
              "    <tr>\n",
              "      <th>0</th>\n",
              "      <td>0.6217</td>\n",
              "      <td>0.6699</td>\n",
              "      <td>0.6624</td>\n",
              "      <td>0.6124</td>\n",
              "      <td>0.6365</td>\n",
              "      <td>0.2433</td>\n",
              "      <td>0.2441</td>\n",
              "    </tr>\n",
              "    <tr>\n",
              "      <th>1</th>\n",
              "      <td>0.6195</td>\n",
              "      <td>0.6660</td>\n",
              "      <td>0.6580</td>\n",
              "      <td>0.6109</td>\n",
              "      <td>0.6336</td>\n",
              "      <td>0.2389</td>\n",
              "      <td>0.2396</td>\n",
              "    </tr>\n",
              "    <tr>\n",
              "      <th>2</th>\n",
              "      <td>0.6220</td>\n",
              "      <td>0.6707</td>\n",
              "      <td>0.6657</td>\n",
              "      <td>0.6121</td>\n",
              "      <td>0.6378</td>\n",
              "      <td>0.2440</td>\n",
              "      <td>0.2449</td>\n",
              "    </tr>\n",
              "    <tr>\n",
              "      <th>3</th>\n",
              "      <td>0.6213</td>\n",
              "      <td>0.6681</td>\n",
              "      <td>0.6607</td>\n",
              "      <td>0.6125</td>\n",
              "      <td>0.6356</td>\n",
              "      <td>0.2427</td>\n",
              "      <td>0.2434</td>\n",
              "    </tr>\n",
              "    <tr>\n",
              "      <th>4</th>\n",
              "      <td>0.6211</td>\n",
              "      <td>0.6704</td>\n",
              "      <td>0.6740</td>\n",
              "      <td>0.6095</td>\n",
              "      <td>0.6402</td>\n",
              "      <td>0.2423</td>\n",
              "      <td>0.2437</td>\n",
              "    </tr>\n",
              "    <tr>\n",
              "      <th>5</th>\n",
              "      <td>0.6203</td>\n",
              "      <td>0.6674</td>\n",
              "      <td>0.6619</td>\n",
              "      <td>0.6110</td>\n",
              "      <td>0.6354</td>\n",
              "      <td>0.2406</td>\n",
              "      <td>0.2415</td>\n",
              "    </tr>\n",
              "    <tr>\n",
              "      <th>6</th>\n",
              "      <td>0.6206</td>\n",
              "      <td>0.6709</td>\n",
              "      <td>0.6600</td>\n",
              "      <td>0.6117</td>\n",
              "      <td>0.6350</td>\n",
              "      <td>0.2412</td>\n",
              "      <td>0.2419</td>\n",
              "    </tr>\n",
              "    <tr>\n",
              "      <th>7</th>\n",
              "      <td>0.6222</td>\n",
              "      <td>0.6740</td>\n",
              "      <td>0.6632</td>\n",
              "      <td>0.6129</td>\n",
              "      <td>0.6370</td>\n",
              "      <td>0.2444</td>\n",
              "      <td>0.2452</td>\n",
              "    </tr>\n",
              "    <tr>\n",
              "      <th>8</th>\n",
              "      <td>0.6272</td>\n",
              "      <td>0.6751</td>\n",
              "      <td>0.6692</td>\n",
              "      <td>0.6173</td>\n",
              "      <td>0.6422</td>\n",
              "      <td>0.2544</td>\n",
              "      <td>0.2553</td>\n",
              "    </tr>\n",
              "    <tr>\n",
              "      <th>9</th>\n",
              "      <td>0.6263</td>\n",
              "      <td>0.6741</td>\n",
              "      <td>0.6688</td>\n",
              "      <td>0.6163</td>\n",
              "      <td>0.6415</td>\n",
              "      <td>0.2525</td>\n",
              "      <td>0.2534</td>\n",
              "    </tr>\n",
              "    <tr>\n",
              "      <th>Mean</th>\n",
              "      <td>0.6222</td>\n",
              "      <td>0.6706</td>\n",
              "      <td>0.6644</td>\n",
              "      <td>0.6127</td>\n",
              "      <td>0.6375</td>\n",
              "      <td>0.2444</td>\n",
              "      <td>0.2453</td>\n",
              "    </tr>\n",
              "    <tr>\n",
              "      <th>SD</th>\n",
              "      <td>0.0024</td>\n",
              "      <td>0.0029</td>\n",
              "      <td>0.0047</td>\n",
              "      <td>0.0023</td>\n",
              "      <td>0.0028</td>\n",
              "      <td>0.0048</td>\n",
              "      <td>0.0048</td>\n",
              "    </tr>\n",
              "  </tbody>\n",
              "</table>\n",
              "</div>"
            ],
            "text/plain": [
              "      Accuracy     AUC  Recall   Prec.      F1   Kappa     MCC\n",
              "0       0.6217  0.6699  0.6624  0.6124  0.6365  0.2433  0.2441\n",
              "1       0.6195  0.6660  0.6580  0.6109  0.6336  0.2389  0.2396\n",
              "2       0.6220  0.6707  0.6657  0.6121  0.6378  0.2440  0.2449\n",
              "3       0.6213  0.6681  0.6607  0.6125  0.6356  0.2427  0.2434\n",
              "4       0.6211  0.6704  0.6740  0.6095  0.6402  0.2423  0.2437\n",
              "5       0.6203  0.6674  0.6619  0.6110  0.6354  0.2406  0.2415\n",
              "6       0.6206  0.6709  0.6600  0.6117  0.6350  0.2412  0.2419\n",
              "7       0.6222  0.6740  0.6632  0.6129  0.6370  0.2444  0.2452\n",
              "8       0.6272  0.6751  0.6692  0.6173  0.6422  0.2544  0.2553\n",
              "9       0.6263  0.6741  0.6688  0.6163  0.6415  0.2525  0.2534\n",
              "Mean    0.6222  0.6706  0.6644  0.6127  0.6375  0.2444  0.2453\n",
              "SD      0.0024  0.0029  0.0047  0.0023  0.0028  0.0048  0.0048"
            ]
          },
          "metadata": {},
          "output_type": "display_data"
        }
      ],
      "source": [
        "lightgbm = tune_model(lightgbm, optimize = 'F1') "
      ]
    },
    {
      "cell_type": "code",
      "execution_count": null,
      "metadata": {
        "colab": {
          "base_uri": "https://localhost:8080/",
          "height": 260,
          "referenced_widgets": [
            "bde408214eed4078b1af18a856998d90"
          ]
        },
        "id": "JF7R7PhNCVfh",
        "outputId": "9dc5173f-e3a0-413e-90e9-7389a7863bec"
      },
      "outputs": [
        {
          "data": {
            "application/vnd.jupyter.widget-view+json": {
              "model_id": "bde408214eed4078b1af18a856998d90",
              "version_major": 2,
              "version_minor": 0
            },
            "text/plain": [
              "IntProgress(value=0, description='Processing: ', max=7)"
            ]
          },
          "metadata": {},
          "output_type": "display_data"
        },
        {
          "data": {
            "text/html": [
              "<div>\n",
              "<style scoped>\n",
              "    .dataframe tbody tr th:only-of-type {\n",
              "        vertical-align: middle;\n",
              "    }\n",
              "\n",
              "    .dataframe tbody tr th {\n",
              "        vertical-align: top;\n",
              "    }\n",
              "\n",
              "    .dataframe thead th {\n",
              "        text-align: right;\n",
              "    }\n",
              "</style>\n",
              "<table border=\"1\" class=\"dataframe\">\n",
              "  <thead>\n",
              "    <tr style=\"text-align: right;\">\n",
              "      <th></th>\n",
              "      <th></th>\n",
              "      <th></th>\n",
              "    </tr>\n",
              "    <tr>\n",
              "      <th></th>\n",
              "      <th></th>\n",
              "      <th></th>\n",
              "    </tr>\n",
              "  </thead>\n",
              "  <tbody>\n",
              "    <tr>\n",
              "      <th>Initiated</th>\n",
              "      <td>. . . . . . . . . . . . . . . . . .</td>\n",
              "      <td>15:55:25</td>\n",
              "    </tr>\n",
              "    <tr>\n",
              "      <th>Status</th>\n",
              "      <td>. . . . . . . . . . . . . . . . . .</td>\n",
              "      <td>Searching Hyperparameters</td>\n",
              "    </tr>\n",
              "    <tr>\n",
              "      <th>Estimator</th>\n",
              "      <td>. . . . . . . . . . . . . . . . . .</td>\n",
              "      <td>Random Forest Classifier</td>\n",
              "    </tr>\n",
              "  </tbody>\n",
              "</table>\n",
              "</div>"
            ],
            "text/plain": [
              "                                                                         \n",
              "                                                                         \n",
              "Initiated  . . . . . . . . . . . . . . . . . .                   15:55:25\n",
              "Status     . . . . . . . . . . . . . . . . . .  Searching Hyperparameters\n",
              "Estimator  . . . . . . . . . . . . . . . . . .   Random Forest Classifier"
            ]
          },
          "metadata": {},
          "output_type": "display_data"
        },
        {
          "data": {
            "text/html": [
              "<div>\n",
              "<style scoped>\n",
              "    .dataframe tbody tr th:only-of-type {\n",
              "        vertical-align: middle;\n",
              "    }\n",
              "\n",
              "    .dataframe tbody tr th {\n",
              "        vertical-align: top;\n",
              "    }\n",
              "\n",
              "    .dataframe thead th {\n",
              "        text-align: right;\n",
              "    }\n",
              "</style>\n",
              "<table border=\"1\" class=\"dataframe\">\n",
              "  <thead>\n",
              "    <tr style=\"text-align: right;\">\n",
              "      <th></th>\n",
              "      <th>Accuracy</th>\n",
              "      <th>AUC</th>\n",
              "      <th>Recall</th>\n",
              "      <th>Prec.</th>\n",
              "      <th>F1</th>\n",
              "      <th>Kappa</th>\n",
              "      <th>MCC</th>\n",
              "    </tr>\n",
              "  </thead>\n",
              "  <tbody>\n",
              "  </tbody>\n",
              "</table>\n",
              "</div>"
            ],
            "text/plain": [
              "Empty DataFrame\n",
              "Columns: [Accuracy, AUC, Recall, Prec., F1, Kappa, MCC]\n",
              "Index: []"
            ]
          },
          "metadata": {},
          "output_type": "display_data"
        },
        {
          "name": "stdout",
          "output_type": "stream",
          "text": [
            "Fitting 10 folds for each of 10 candidates, totalling 100 fits\n"
          ]
        },
        {
          "name": "stderr",
          "output_type": "stream",
          "text": [
            "[Parallel(n_jobs=-1)]: Using backend LokyBackend with 2 concurrent workers.\n",
            "[Parallel(n_jobs=-1)]: Done  46 tasks      | elapsed: 13.3min\n"
          ]
        }
      ],
      "source": [
        "rf = tune_model(rf, optimize = 'F1') "
      ]
    },
    {
      "cell_type": "code",
      "execution_count": null,
      "metadata": {
        "id": "3rxJy9BjX5M5"
      },
      "outputs": [],
      "source": [
        "blender_top3 = blend_models(estimator_list = [qda,lightgbm,rf], method = 'soft')"
      ]
    },
    {
      "cell_type": "code",
      "execution_count": null,
      "metadata": {
        "id": "JAN7gHPsp09q"
      },
      "outputs": [],
      "source": [
        "pred_holdout = predict_model(blender_top3)"
      ]
    },
    {
      "cell_type": "code",
      "execution_count": null,
      "metadata": {
        "id": "o5zfUFV3X5Pq"
      },
      "outputs": [],
      "source": [
        "final_model = finalize_model(lightgbm)\n",
        "prediction = predict_model(final_model, data=X_test)"
      ]
    },
    {
      "cell_type": "code",
      "execution_count": null,
      "metadata": {
        "id": "owObBUorX5SK"
      },
      "outputs": [],
      "source": [
        "prediction.to_csv(path + 'prediction.csv')"
      ]
    },
    {
      "cell_type": "code",
      "execution_count": null,
      "metadata": {
        "colab": {
          "base_uri": "https://localhost:8080/",
          "height": 443
        },
        "id": "AYWdNF19X5Um",
        "outputId": "ae6f4527-b0de-44c9-bffb-f40af30f8a24"
      },
      "outputs": [
        {
          "data": {
            "text/html": [
              "<div>\n",
              "<style scoped>\n",
              "    .dataframe tbody tr th:only-of-type {\n",
              "        vertical-align: middle;\n",
              "    }\n",
              "\n",
              "    .dataframe tbody tr th {\n",
              "        vertical-align: top;\n",
              "    }\n",
              "\n",
              "    .dataframe thead th {\n",
              "        text-align: right;\n",
              "    }\n",
              "</style>\n",
              "<table border=\"1\" class=\"dataframe\">\n",
              "  <thead>\n",
              "    <tr style=\"text-align: right;\">\n",
              "      <th></th>\n",
              "      <th>d_l_match_yn</th>\n",
              "      <th>d_m_match_yn</th>\n",
              "      <th>d_s_match_yn</th>\n",
              "      <th>h_l_match_yn</th>\n",
              "      <th>h_m_match_yn</th>\n",
              "      <th>h_s_match_yn</th>\n",
              "      <th>person_attribute_a</th>\n",
              "      <th>person_attribute_a_1</th>\n",
              "      <th>person_attribute_b</th>\n",
              "      <th>person_prefer_c</th>\n",
              "      <th>person_prefer_d_1</th>\n",
              "      <th>person_prefer_d_2</th>\n",
              "      <th>person_prefer_d_3</th>\n",
              "      <th>person_prefer_e</th>\n",
              "      <th>person_prefer_f</th>\n",
              "      <th>person_prefer_g</th>\n",
              "      <th>person_prefer_h_1</th>\n",
              "      <th>person_prefer_h_2</th>\n",
              "      <th>person_prefer_h_3</th>\n",
              "      <th>contents_attribute_i</th>\n",
              "      <th>contents_attribute_a</th>\n",
              "      <th>contents_attribute_j_1</th>\n",
              "      <th>contents_attribute_j</th>\n",
              "      <th>contents_attribute_c</th>\n",
              "      <th>contents_attribute_k</th>\n",
              "      <th>contents_attribute_l</th>\n",
              "      <th>contents_attribute_d</th>\n",
              "      <th>contents_attribute_m</th>\n",
              "      <th>contents_attribute_e</th>\n",
              "      <th>contents_attribute_h</th>\n",
              "      <th>person_rn</th>\n",
              "      <th>contents_rn</th>\n",
              "      <th>month</th>\n",
              "      <th>day</th>\n",
              "      <th>week</th>\n",
              "      <th>dayofweek</th>\n",
              "      <th>hour</th>\n",
              "      <th>minute</th>\n",
              "      <th>Label</th>\n",
              "      <th>Score</th>\n",
              "    </tr>\n",
              "  </thead>\n",
              "  <tbody>\n",
              "    <tr>\n",
              "      <th>0</th>\n",
              "      <td>1</td>\n",
              "      <td>0</td>\n",
              "      <td>0</td>\n",
              "      <td>1</td>\n",
              "      <td>1</td>\n",
              "      <td>1</td>\n",
              "      <td>1</td>\n",
              "      <td>1</td>\n",
              "      <td>2</td>\n",
              "      <td>1</td>\n",
              "      <td>857</td>\n",
              "      <td>851</td>\n",
              "      <td>1227</td>\n",
              "      <td>4</td>\n",
              "      <td>1</td>\n",
              "      <td>1</td>\n",
              "      <td>263</td>\n",
              "      <td>56</td>\n",
              "      <td>49</td>\n",
              "      <td>1</td>\n",
              "      <td>3</td>\n",
              "      <td>10</td>\n",
              "      <td>2</td>\n",
              "      <td>1</td>\n",
              "      <td>2</td>\n",
              "      <td>1147</td>\n",
              "      <td>839</td>\n",
              "      <td>1</td>\n",
              "      <td>5</td>\n",
              "      <td>263</td>\n",
              "      <td>393790</td>\n",
              "      <td>236865</td>\n",
              "      <td>12</td>\n",
              "      <td>1</td>\n",
              "      <td>49</td>\n",
              "      <td>1</td>\n",
              "      <td>2</td>\n",
              "      <td>24</td>\n",
              "      <td>0</td>\n",
              "      <td>0.5952</td>\n",
              "    </tr>\n",
              "    <tr>\n",
              "      <th>1</th>\n",
              "      <td>0</td>\n",
              "      <td>0</td>\n",
              "      <td>0</td>\n",
              "      <td>1</td>\n",
              "      <td>0</td>\n",
              "      <td>0</td>\n",
              "      <td>2</td>\n",
              "      <td>0</td>\n",
              "      <td>2</td>\n",
              "      <td>2</td>\n",
              "      <td>683</td>\n",
              "      <td>1086</td>\n",
              "      <td>662</td>\n",
              "      <td>2</td>\n",
              "      <td>1</td>\n",
              "      <td>1</td>\n",
              "      <td>258</td>\n",
              "      <td>263</td>\n",
              "      <td>49</td>\n",
              "      <td>1</td>\n",
              "      <td>3</td>\n",
              "      <td>5</td>\n",
              "      <td>1</td>\n",
              "      <td>1</td>\n",
              "      <td>2</td>\n",
              "      <td>1611</td>\n",
              "      <td>278</td>\n",
              "      <td>1</td>\n",
              "      <td>4</td>\n",
              "      <td>263</td>\n",
              "      <td>394058</td>\n",
              "      <td>236572</td>\n",
              "      <td>12</td>\n",
              "      <td>17</td>\n",
              "      <td>51</td>\n",
              "      <td>3</td>\n",
              "      <td>5</td>\n",
              "      <td>42</td>\n",
              "      <td>0</td>\n",
              "      <td>0.7370</td>\n",
              "    </tr>\n",
              "    <tr>\n",
              "      <th>2</th>\n",
              "      <td>1</td>\n",
              "      <td>0</td>\n",
              "      <td>0</td>\n",
              "      <td>1</td>\n",
              "      <td>1</td>\n",
              "      <td>1</td>\n",
              "      <td>2</td>\n",
              "      <td>3</td>\n",
              "      <td>2</td>\n",
              "      <td>1</td>\n",
              "      <td>514</td>\n",
              "      <td>790</td>\n",
              "      <td>1233</td>\n",
              "      <td>0</td>\n",
              "      <td>1</td>\n",
              "      <td>1</td>\n",
              "      <td>177</td>\n",
              "      <td>170</td>\n",
              "      <td>171</td>\n",
              "      <td>3</td>\n",
              "      <td>3</td>\n",
              "      <td>3</td>\n",
              "      <td>1</td>\n",
              "      <td>1</td>\n",
              "      <td>2</td>\n",
              "      <td>1817</td>\n",
              "      <td>490</td>\n",
              "      <td>3</td>\n",
              "      <td>4</td>\n",
              "      <td>177</td>\n",
              "      <td>1002061</td>\n",
              "      <td>704612</td>\n",
              "      <td>12</td>\n",
              "      <td>10</td>\n",
              "      <td>50</td>\n",
              "      <td>3</td>\n",
              "      <td>23</td>\n",
              "      <td>33</td>\n",
              "      <td>0</td>\n",
              "      <td>0.7228</td>\n",
              "    </tr>\n",
              "    <tr>\n",
              "      <th>3</th>\n",
              "      <td>1</td>\n",
              "      <td>0</td>\n",
              "      <td>0</td>\n",
              "      <td>1</td>\n",
              "      <td>1</td>\n",
              "      <td>1</td>\n",
              "      <td>1</td>\n",
              "      <td>2</td>\n",
              "      <td>2</td>\n",
              "      <td>5</td>\n",
              "      <td>114</td>\n",
              "      <td>181</td>\n",
              "      <td>175</td>\n",
              "      <td>4</td>\n",
              "      <td>1</td>\n",
              "      <td>1</td>\n",
              "      <td>177</td>\n",
              "      <td>170</td>\n",
              "      <td>171</td>\n",
              "      <td>3</td>\n",
              "      <td>3</td>\n",
              "      <td>5</td>\n",
              "      <td>1</td>\n",
              "      <td>1</td>\n",
              "      <td>2</td>\n",
              "      <td>101</td>\n",
              "      <td>150</td>\n",
              "      <td>5</td>\n",
              "      <td>3</td>\n",
              "      <td>177</td>\n",
              "      <td>1000813</td>\n",
              "      <td>704652</td>\n",
              "      <td>12</td>\n",
              "      <td>3</td>\n",
              "      <td>49</td>\n",
              "      <td>3</td>\n",
              "      <td>19</td>\n",
              "      <td>44</td>\n",
              "      <td>1</td>\n",
              "      <td>0.7092</td>\n",
              "    </tr>\n",
              "    <tr>\n",
              "      <th>4</th>\n",
              "      <td>1</td>\n",
              "      <td>0</td>\n",
              "      <td>0</td>\n",
              "      <td>1</td>\n",
              "      <td>0</td>\n",
              "      <td>0</td>\n",
              "      <td>1</td>\n",
              "      <td>6</td>\n",
              "      <td>4</td>\n",
              "      <td>5</td>\n",
              "      <td>1082</td>\n",
              "      <td>1078</td>\n",
              "      <td>1056</td>\n",
              "      <td>5</td>\n",
              "      <td>1</td>\n",
              "      <td>1</td>\n",
              "      <td>178</td>\n",
              "      <td>177</td>\n",
              "      <td>4</td>\n",
              "      <td>3</td>\n",
              "      <td>1</td>\n",
              "      <td>5</td>\n",
              "      <td>1</td>\n",
              "      <td>1</td>\n",
              "      <td>1</td>\n",
              "      <td>985</td>\n",
              "      <td>1097</td>\n",
              "      <td>1</td>\n",
              "      <td>4</td>\n",
              "      <td>177</td>\n",
              "      <td>111146</td>\n",
              "      <td>704413</td>\n",
              "      <td>12</td>\n",
              "      <td>11</td>\n",
              "      <td>50</td>\n",
              "      <td>4</td>\n",
              "      <td>21</td>\n",
              "      <td>24</td>\n",
              "      <td>1</td>\n",
              "      <td>0.5974</td>\n",
              "    </tr>\n",
              "    <tr>\n",
              "      <th>...</th>\n",
              "      <td>...</td>\n",
              "      <td>...</td>\n",
              "      <td>...</td>\n",
              "      <td>...</td>\n",
              "      <td>...</td>\n",
              "      <td>...</td>\n",
              "      <td>...</td>\n",
              "      <td>...</td>\n",
              "      <td>...</td>\n",
              "      <td>...</td>\n",
              "      <td>...</td>\n",
              "      <td>...</td>\n",
              "      <td>...</td>\n",
              "      <td>...</td>\n",
              "      <td>...</td>\n",
              "      <td>...</td>\n",
              "      <td>...</td>\n",
              "      <td>...</td>\n",
              "      <td>...</td>\n",
              "      <td>...</td>\n",
              "      <td>...</td>\n",
              "      <td>...</td>\n",
              "      <td>...</td>\n",
              "      <td>...</td>\n",
              "      <td>...</td>\n",
              "      <td>...</td>\n",
              "      <td>...</td>\n",
              "      <td>...</td>\n",
              "      <td>...</td>\n",
              "      <td>...</td>\n",
              "      <td>...</td>\n",
              "      <td>...</td>\n",
              "      <td>...</td>\n",
              "      <td>...</td>\n",
              "      <td>...</td>\n",
              "      <td>...</td>\n",
              "      <td>...</td>\n",
              "      <td>...</td>\n",
              "      <td>...</td>\n",
              "      <td>...</td>\n",
              "    </tr>\n",
              "    <tr>\n",
              "      <th>46399</th>\n",
              "      <td>1</td>\n",
              "      <td>1</td>\n",
              "      <td>1</td>\n",
              "      <td>0</td>\n",
              "      <td>0</td>\n",
              "      <td>0</td>\n",
              "      <td>2</td>\n",
              "      <td>0</td>\n",
              "      <td>4</td>\n",
              "      <td>1</td>\n",
              "      <td>147</td>\n",
              "      <td>46</td>\n",
              "      <td>145</td>\n",
              "      <td>4</td>\n",
              "      <td>1</td>\n",
              "      <td>1</td>\n",
              "      <td>2</td>\n",
              "      <td>4</td>\n",
              "      <td>95</td>\n",
              "      <td>3</td>\n",
              "      <td>3</td>\n",
              "      <td>5</td>\n",
              "      <td>1</td>\n",
              "      <td>1</td>\n",
              "      <td>2</td>\n",
              "      <td>759</td>\n",
              "      <td>147</td>\n",
              "      <td>1</td>\n",
              "      <td>5</td>\n",
              "      <td>91</td>\n",
              "      <td>425040</td>\n",
              "      <td>726084</td>\n",
              "      <td>12</td>\n",
              "      <td>17</td>\n",
              "      <td>51</td>\n",
              "      <td>3</td>\n",
              "      <td>1</td>\n",
              "      <td>6</td>\n",
              "      <td>1</td>\n",
              "      <td>0.6952</td>\n",
              "    </tr>\n",
              "    <tr>\n",
              "      <th>46400</th>\n",
              "      <td>1</td>\n",
              "      <td>0</td>\n",
              "      <td>0</td>\n",
              "      <td>1</td>\n",
              "      <td>0</td>\n",
              "      <td>0</td>\n",
              "      <td>2</td>\n",
              "      <td>0</td>\n",
              "      <td>4</td>\n",
              "      <td>1</td>\n",
              "      <td>176</td>\n",
              "      <td>120</td>\n",
              "      <td>159</td>\n",
              "      <td>4</td>\n",
              "      <td>1</td>\n",
              "      <td>1</td>\n",
              "      <td>86</td>\n",
              "      <td>31</td>\n",
              "      <td>278</td>\n",
              "      <td>3</td>\n",
              "      <td>3</td>\n",
              "      <td>10</td>\n",
              "      <td>2</td>\n",
              "      <td>1</td>\n",
              "      <td>2</td>\n",
              "      <td>759</td>\n",
              "      <td>147</td>\n",
              "      <td>1</td>\n",
              "      <td>4</td>\n",
              "      <td>91</td>\n",
              "      <td>290061</td>\n",
              "      <td>156948</td>\n",
              "      <td>12</td>\n",
              "      <td>29</td>\n",
              "      <td>53</td>\n",
              "      <td>1</td>\n",
              "      <td>21</td>\n",
              "      <td>57</td>\n",
              "      <td>1</td>\n",
              "      <td>0.6190</td>\n",
              "    </tr>\n",
              "    <tr>\n",
              "      <th>46401</th>\n",
              "      <td>1</td>\n",
              "      <td>1</td>\n",
              "      <td>0</td>\n",
              "      <td>1</td>\n",
              "      <td>1</td>\n",
              "      <td>1</td>\n",
              "      <td>2</td>\n",
              "      <td>0</td>\n",
              "      <td>3</td>\n",
              "      <td>1</td>\n",
              "      <td>145</td>\n",
              "      <td>46</td>\n",
              "      <td>147</td>\n",
              "      <td>5</td>\n",
              "      <td>1</td>\n",
              "      <td>1</td>\n",
              "      <td>288</td>\n",
              "      <td>279</td>\n",
              "      <td>278</td>\n",
              "      <td>3</td>\n",
              "      <td>3</td>\n",
              "      <td>10</td>\n",
              "      <td>2</td>\n",
              "      <td>1</td>\n",
              "      <td>2</td>\n",
              "      <td>759</td>\n",
              "      <td>147</td>\n",
              "      <td>1</td>\n",
              "      <td>4</td>\n",
              "      <td>288</td>\n",
              "      <td>307951</td>\n",
              "      <td>175069</td>\n",
              "      <td>12</td>\n",
              "      <td>10</td>\n",
              "      <td>50</td>\n",
              "      <td>3</td>\n",
              "      <td>19</td>\n",
              "      <td>9</td>\n",
              "      <td>1</td>\n",
              "      <td>0.7283</td>\n",
              "    </tr>\n",
              "    <tr>\n",
              "      <th>46402</th>\n",
              "      <td>1</td>\n",
              "      <td>1</td>\n",
              "      <td>0</td>\n",
              "      <td>1</td>\n",
              "      <td>1</td>\n",
              "      <td>1</td>\n",
              "      <td>1</td>\n",
              "      <td>3</td>\n",
              "      <td>3</td>\n",
              "      <td>2</td>\n",
              "      <td>145</td>\n",
              "      <td>46</td>\n",
              "      <td>147</td>\n",
              "      <td>6</td>\n",
              "      <td>1</td>\n",
              "      <td>1</td>\n",
              "      <td>288</td>\n",
              "      <td>279</td>\n",
              "      <td>278</td>\n",
              "      <td>3</td>\n",
              "      <td>1</td>\n",
              "      <td>5</td>\n",
              "      <td>1</td>\n",
              "      <td>3</td>\n",
              "      <td>2</td>\n",
              "      <td>759</td>\n",
              "      <td>147</td>\n",
              "      <td>1</td>\n",
              "      <td>5</td>\n",
              "      <td>288</td>\n",
              "      <td>308354</td>\n",
              "      <td>174849</td>\n",
              "      <td>12</td>\n",
              "      <td>7</td>\n",
              "      <td>50</td>\n",
              "      <td>0</td>\n",
              "      <td>14</td>\n",
              "      <td>4</td>\n",
              "      <td>1</td>\n",
              "      <td>0.6984</td>\n",
              "    </tr>\n",
              "    <tr>\n",
              "      <th>46403</th>\n",
              "      <td>1</td>\n",
              "      <td>1</td>\n",
              "      <td>0</td>\n",
              "      <td>1</td>\n",
              "      <td>1</td>\n",
              "      <td>1</td>\n",
              "      <td>1</td>\n",
              "      <td>2</td>\n",
              "      <td>4</td>\n",
              "      <td>1</td>\n",
              "      <td>145</td>\n",
              "      <td>46</td>\n",
              "      <td>147</td>\n",
              "      <td>0</td>\n",
              "      <td>1</td>\n",
              "      <td>1</td>\n",
              "      <td>288</td>\n",
              "      <td>280</td>\n",
              "      <td>283</td>\n",
              "      <td>3</td>\n",
              "      <td>1</td>\n",
              "      <td>5</td>\n",
              "      <td>1</td>\n",
              "      <td>1</td>\n",
              "      <td>2</td>\n",
              "      <td>759</td>\n",
              "      <td>147</td>\n",
              "      <td>2</td>\n",
              "      <td>5</td>\n",
              "      <td>288</td>\n",
              "      <td>309401</td>\n",
              "      <td>173406</td>\n",
              "      <td>12</td>\n",
              "      <td>22</td>\n",
              "      <td>52</td>\n",
              "      <td>1</td>\n",
              "      <td>16</td>\n",
              "      <td>43</td>\n",
              "      <td>1</td>\n",
              "      <td>0.7299</td>\n",
              "    </tr>\n",
              "  </tbody>\n",
              "</table>\n",
              "<p>46404 rows × 40 columns</p>\n",
              "</div>"
            ],
            "text/plain": [
              "       d_l_match_yn  d_m_match_yn  d_s_match_yn  ...  minute  Label   Score\n",
              "0                 1             0             0  ...      24      0  0.5952\n",
              "1                 0             0             0  ...      42      0  0.7370\n",
              "2                 1             0             0  ...      33      0  0.7228\n",
              "3                 1             0             0  ...      44      1  0.7092\n",
              "4                 1             0             0  ...      24      1  0.5974\n",
              "...             ...           ...           ...  ...     ...    ...     ...\n",
              "46399             1             1             1  ...       6      1  0.6952\n",
              "46400             1             0             0  ...      57      1  0.6190\n",
              "46401             1             1             0  ...       9      1  0.7283\n",
              "46402             1             1             0  ...       4      1  0.6984\n",
              "46403             1             1             0  ...      43      1  0.7299\n",
              "\n",
              "[46404 rows x 40 columns]"
            ]
          },
          "execution_count": 17,
          "metadata": {},
          "output_type": "execute_result"
        }
      ],
      "source": [
        "prediction"
      ]
    },
    {
      "cell_type": "code",
      "execution_count": null,
      "metadata": {
        "id": "IwFz5LHYX5ZV"
      },
      "outputs": [],
      "source": [
        "submission['target'] = prediction['Label']"
      ]
    },
    {
      "cell_type": "code",
      "execution_count": null,
      "metadata": {
        "id": "lsNf2z6CX5cA"
      },
      "outputs": [],
      "source": [
        "submission.to_csv(path + 'prediction.csv', index = False)"
      ]
    },
    {
      "cell_type": "code",
      "execution_count": null,
      "metadata": {
        "colab": {
          "base_uri": "https://localhost:8080/",
          "height": 423
        },
        "id": "Kt53SIrEX5fS",
        "outputId": "2c326a35-3f74-43f0-ad63-133bb6b81e1f"
      },
      "outputs": [
        {
          "data": {
            "text/html": [
              "<div>\n",
              "<style scoped>\n",
              "    .dataframe tbody tr th:only-of-type {\n",
              "        vertical-align: middle;\n",
              "    }\n",
              "\n",
              "    .dataframe tbody tr th {\n",
              "        vertical-align: top;\n",
              "    }\n",
              "\n",
              "    .dataframe thead th {\n",
              "        text-align: right;\n",
              "    }\n",
              "</style>\n",
              "<table border=\"1\" class=\"dataframe\">\n",
              "  <thead>\n",
              "    <tr style=\"text-align: right;\">\n",
              "      <th></th>\n",
              "      <th>id</th>\n",
              "      <th>target</th>\n",
              "    </tr>\n",
              "  </thead>\n",
              "  <tbody>\n",
              "    <tr>\n",
              "      <th>0</th>\n",
              "      <td>0</td>\n",
              "      <td>0</td>\n",
              "    </tr>\n",
              "    <tr>\n",
              "      <th>1</th>\n",
              "      <td>1</td>\n",
              "      <td>0</td>\n",
              "    </tr>\n",
              "    <tr>\n",
              "      <th>2</th>\n",
              "      <td>2</td>\n",
              "      <td>0</td>\n",
              "    </tr>\n",
              "    <tr>\n",
              "      <th>3</th>\n",
              "      <td>3</td>\n",
              "      <td>1</td>\n",
              "    </tr>\n",
              "    <tr>\n",
              "      <th>4</th>\n",
              "      <td>4</td>\n",
              "      <td>1</td>\n",
              "    </tr>\n",
              "    <tr>\n",
              "      <th>...</th>\n",
              "      <td>...</td>\n",
              "      <td>...</td>\n",
              "    </tr>\n",
              "    <tr>\n",
              "      <th>46399</th>\n",
              "      <td>46399</td>\n",
              "      <td>1</td>\n",
              "    </tr>\n",
              "    <tr>\n",
              "      <th>46400</th>\n",
              "      <td>46400</td>\n",
              "      <td>1</td>\n",
              "    </tr>\n",
              "    <tr>\n",
              "      <th>46401</th>\n",
              "      <td>46401</td>\n",
              "      <td>1</td>\n",
              "    </tr>\n",
              "    <tr>\n",
              "      <th>46402</th>\n",
              "      <td>46402</td>\n",
              "      <td>1</td>\n",
              "    </tr>\n",
              "    <tr>\n",
              "      <th>46403</th>\n",
              "      <td>46403</td>\n",
              "      <td>1</td>\n",
              "    </tr>\n",
              "  </tbody>\n",
              "</table>\n",
              "<p>46404 rows × 2 columns</p>\n",
              "</div>"
            ],
            "text/plain": [
              "          id  target\n",
              "0          0       0\n",
              "1          1       0\n",
              "2          2       0\n",
              "3          3       1\n",
              "4          4       1\n",
              "...      ...     ...\n",
              "46399  46399       1\n",
              "46400  46400       1\n",
              "46401  46401       1\n",
              "46402  46402       1\n",
              "46403  46403       1\n",
              "\n",
              "[46404 rows x 2 columns]"
            ]
          },
          "execution_count": 20,
          "metadata": {},
          "output_type": "execute_result"
        }
      ],
      "source": [
        "submission"
      ]
    },
    {
      "cell_type": "markdown",
      "metadata": {
        "id": "jxZKFdWFFVgp"
      },
      "source": [
        ""
      ]
    },
    {
      "cell_type": "code",
      "source": [
        ""
      ],
      "metadata": {
        "id": "IKBpxUY3AgBM"
      },
      "execution_count": null,
      "outputs": []
    },
    {
      "cell_type": "markdown",
      "source": [
        "## Hyper Parameter tuning"
      ],
      "metadata": {
        "id": "HFnfojg1SE0z"
      }
    },
    {
      "cell_type": "markdown",
      "source": [
        "### Grid Search"
      ],
      "metadata": {
        "id": "Fo_Tr2wxBguZ"
      }
    },
    {
      "cell_type": "code",
      "source": [
        "learn_rate=[0.1,0.01,0.001]\n",
        "max_depth=[5,10,15,20]\n",
        "n_estimators=[100,1000,5000,10000]\n",
        "\n",
        "hyper={'n_estimators':n_estimators,'learning_rate':learn_rate,'max_depth':max_depth}\n",
        "gd=GridSearchCV(estimator=CatBoostClassifier(n_jobs=-1),param_grid=hyper,verbose=True, n_jobs=-1, cv=3, scoring='f1')\n",
        "gd.fit(X_train, y_train)\n",
        "print(gd.best_score_)\n",
        "print(gd.best_estimator_)"
      ],
      "metadata": {
        "id": "RxF69QrHBfmQ"
      },
      "execution_count": null,
      "outputs": []
    },
    {
      "cell_type": "markdown",
      "source": [
        "### BayesianOptimization"
      ],
      "metadata": {
        "id": "8VJpBrnJSJYn"
      }
    },
    {
      "cell_type": "code",
      "execution_count": null,
      "metadata": {
        "id": "oDzqXA7I8iCU"
      },
      "outputs": [],
      "source": [
        "def CB_opt(n_estimators, depth, learning_rate, max_bin,\n",
        "             subsample, num_leaves, l2_leaf_reg, model_size_reg): \n",
        "  scores = []\n",
        "  skf = StratifiedKFold(n_splits = 5, shuffle = True, random_state = 1944)\n",
        "  for train_index, test_index in skf.split(X_train, y_train):\n",
        "    \n",
        "    trainx, valx = X_train.iloc[train_index], X_train.iloc[test_index]\n",
        "    trainy, valy = y_train.iloc[train_index], y_train.iloc[test_index]\n",
        " \n",
        "    reg = CatBoostClassifier(verbose = 0,\n",
        "                            n_estimators = int(n_estimators),\n",
        "                            learning_rate = learning_rate,\n",
        "                            subsample = subsample, \n",
        "                            l2_leaf_reg = l2_leaf_reg,\n",
        "                            max_depth = int(depth),\n",
        "                            num_leaves = int(num_leaves),\n",
        "                            random_state = 88,\n",
        "                            grow_policy = \"Lossguide\",\n",
        "                            max_bin = int(max_bin),  \n",
        "                            use_best_model = True, \n",
        "                            model_size_reg = model_size_reg,\n",
        "                            eval_metric=\"F1\"\n",
        "                           )\n",
        "    \n",
        "    reg.fit(trainx, trainy, eval_set = (valx, valy))\n",
        "    scores.append(matthews_corrcoef(valy, reg.predict(valx)))\n",
        "  return np.mean(scores)"
      ]
    },
    {
      "cell_type": "code",
      "execution_count": null,
      "metadata": {
        "colab": {
          "base_uri": "https://localhost:8080/",
          "height": 706
        },
        "id": "V0a6TYZY85fs",
        "outputId": "ebcbdad9-63d8-4156-d4c5-48d2a317af03"
      },
      "outputs": [
        {
          "name": "stdout",
          "output_type": "stream",
          "text": [
            "|   iter    |  target   |   depth   | l2_lea... | learni... |  max_bin  | model_... | n_esti... | num_le... | subsample |\n",
            "-------------------------------------------------------------------------------------------------------------------------\n"
          ]
        },
        {
          "name": "stderr",
          "output_type": "stream",
          "text": [
            "Custom logger is already specified. Specify more than one logger at same time is not thread safe."
          ]
        },
        {
          "name": "stdout",
          "output_type": "stream",
          "text": [
            "| \u001b[0m 1       \u001b[0m | \u001b[0m 0.2571  \u001b[0m | \u001b[0m 21.77   \u001b[0m | \u001b[0m 1.646   \u001b[0m | \u001b[0m 0.1019  \u001b[0m | \u001b[0m 288.2   \u001b[0m | \u001b[0m 4.286   \u001b[0m | \u001b[0m 643.7   \u001b[0m | \u001b[0m 38.2    \u001b[0m | \u001b[0m 0.863   \u001b[0m |\n",
            "| \u001b[95m 2       \u001b[0m | \u001b[95m 0.2591  \u001b[0m | \u001b[95m 5.058   \u001b[0m | \u001b[95m 5.334   \u001b[0m | \u001b[95m 0.1809  \u001b[0m | \u001b[95m 187.3   \u001b[0m | \u001b[95m 0.3017  \u001b[0m | \u001b[95m 681.1   \u001b[0m | \u001b[95m 36.98   \u001b[0m | \u001b[95m 0.8234  \u001b[0m |\n"
          ]
        },
        {
          "ename": "KeyboardInterrupt",
          "evalue": "ignored",
          "output_type": "error",
          "traceback": [
            "\u001b[0;31m---------------------------------------------------------------------------\u001b[0m",
            "\u001b[0;31mKeyError\u001b[0m                                  Traceback (most recent call last)",
            "\u001b[0;32m/usr/local/lib/python3.7/dist-packages/bayes_opt/target_space.py\u001b[0m in \u001b[0;36mprobe\u001b[0;34m(self, params)\u001b[0m\n\u001b[1;32m    190\u001b[0m         \u001b[0;32mtry\u001b[0m\u001b[0;34m:\u001b[0m\u001b[0;34m\u001b[0m\u001b[0;34m\u001b[0m\u001b[0m\n\u001b[0;32m--> 191\u001b[0;31m             \u001b[0mtarget\u001b[0m \u001b[0;34m=\u001b[0m \u001b[0mself\u001b[0m\u001b[0;34m.\u001b[0m\u001b[0m_cache\u001b[0m\u001b[0;34m[\u001b[0m\u001b[0m_hashable\u001b[0m\u001b[0;34m(\u001b[0m\u001b[0mx\u001b[0m\u001b[0;34m)\u001b[0m\u001b[0;34m]\u001b[0m\u001b[0;34m\u001b[0m\u001b[0;34m\u001b[0m\u001b[0m\n\u001b[0m\u001b[1;32m    192\u001b[0m         \u001b[0;32mexcept\u001b[0m \u001b[0mKeyError\u001b[0m\u001b[0;34m:\u001b[0m\u001b[0;34m\u001b[0m\u001b[0;34m\u001b[0m\u001b[0m\n",
            "\u001b[0;31mKeyError\u001b[0m: (23.069089217824644, 6.3346044602519775, 0.06381799598216484, 204.80532143589292, 0.9223385593292277, 1431.281457354134, 24.338146694585955, 0.8820683064085246)",
            "\nDuring handling of the above exception, another exception occurred:\n",
            "\u001b[0;31mKeyboardInterrupt\u001b[0m                         Traceback (most recent call last)",
            "\u001b[0;32m<ipython-input-27-6cbe2d752217>\u001b[0m in \u001b[0;36m<module>\u001b[0;34m()\u001b[0m\n\u001b[1;32m     16\u001b[0m )\n\u001b[1;32m     17\u001b[0m \u001b[0;34m\u001b[0m\u001b[0m\n\u001b[0;32m---> 18\u001b[0;31m \u001b[0moptimizer\u001b[0m\u001b[0;34m.\u001b[0m\u001b[0mmaximize\u001b[0m\u001b[0;34m(\u001b[0m\u001b[0minit_points\u001b[0m\u001b[0;34m=\u001b[0m\u001b[0;36m5\u001b[0m\u001b[0;34m,\u001b[0m \u001b[0mn_iter\u001b[0m \u001b[0;34m=\u001b[0m \u001b[0;36m20\u001b[0m\u001b[0;34m,\u001b[0m \u001b[0macq\u001b[0m\u001b[0;34m=\u001b[0m\u001b[0;34m'ei'\u001b[0m\u001b[0;34m,\u001b[0m \u001b[0mxi\u001b[0m\u001b[0;34m=\u001b[0m\u001b[0;36m0.01\u001b[0m\u001b[0;34m)\u001b[0m\u001b[0;34m\u001b[0m\u001b[0;34m\u001b[0m\u001b[0m\n\u001b[0m",
            "\u001b[0;32m/usr/local/lib/python3.7/dist-packages/bayes_opt/bayesian_optimization.py\u001b[0m in \u001b[0;36mmaximize\u001b[0;34m(self, init_points, n_iter, acq, kappa, kappa_decay, kappa_decay_delay, xi, **gp_params)\u001b[0m\n\u001b[1;32m    183\u001b[0m                 \u001b[0miteration\u001b[0m \u001b[0;34m+=\u001b[0m \u001b[0;36m1\u001b[0m\u001b[0;34m\u001b[0m\u001b[0;34m\u001b[0m\u001b[0m\n\u001b[1;32m    184\u001b[0m \u001b[0;34m\u001b[0m\u001b[0m\n\u001b[0;32m--> 185\u001b[0;31m             \u001b[0mself\u001b[0m\u001b[0;34m.\u001b[0m\u001b[0mprobe\u001b[0m\u001b[0;34m(\u001b[0m\u001b[0mx_probe\u001b[0m\u001b[0;34m,\u001b[0m \u001b[0mlazy\u001b[0m\u001b[0;34m=\u001b[0m\u001b[0;32mFalse\u001b[0m\u001b[0;34m)\u001b[0m\u001b[0;34m\u001b[0m\u001b[0;34m\u001b[0m\u001b[0m\n\u001b[0m\u001b[1;32m    186\u001b[0m \u001b[0;34m\u001b[0m\u001b[0m\n\u001b[1;32m    187\u001b[0m             \u001b[0;32mif\u001b[0m \u001b[0mself\u001b[0m\u001b[0;34m.\u001b[0m\u001b[0m_bounds_transformer\u001b[0m\u001b[0;34m:\u001b[0m\u001b[0;34m\u001b[0m\u001b[0;34m\u001b[0m\u001b[0m\n",
            "\u001b[0;32m/usr/local/lib/python3.7/dist-packages/bayes_opt/bayesian_optimization.py\u001b[0m in \u001b[0;36mprobe\u001b[0;34m(self, params, lazy)\u001b[0m\n\u001b[1;32m    114\u001b[0m             \u001b[0mself\u001b[0m\u001b[0;34m.\u001b[0m\u001b[0m_queue\u001b[0m\u001b[0;34m.\u001b[0m\u001b[0madd\u001b[0m\u001b[0;34m(\u001b[0m\u001b[0mparams\u001b[0m\u001b[0;34m)\u001b[0m\u001b[0;34m\u001b[0m\u001b[0;34m\u001b[0m\u001b[0m\n\u001b[1;32m    115\u001b[0m         \u001b[0;32melse\u001b[0m\u001b[0;34m:\u001b[0m\u001b[0;34m\u001b[0m\u001b[0;34m\u001b[0m\u001b[0m\n\u001b[0;32m--> 116\u001b[0;31m             \u001b[0mself\u001b[0m\u001b[0;34m.\u001b[0m\u001b[0m_space\u001b[0m\u001b[0;34m.\u001b[0m\u001b[0mprobe\u001b[0m\u001b[0;34m(\u001b[0m\u001b[0mparams\u001b[0m\u001b[0;34m)\u001b[0m\u001b[0;34m\u001b[0m\u001b[0;34m\u001b[0m\u001b[0m\n\u001b[0m\u001b[1;32m    117\u001b[0m             \u001b[0mself\u001b[0m\u001b[0;34m.\u001b[0m\u001b[0mdispatch\u001b[0m\u001b[0;34m(\u001b[0m\u001b[0mEvents\u001b[0m\u001b[0;34m.\u001b[0m\u001b[0mOPTIMIZATION_STEP\u001b[0m\u001b[0;34m)\u001b[0m\u001b[0;34m\u001b[0m\u001b[0;34m\u001b[0m\u001b[0m\n\u001b[1;32m    118\u001b[0m \u001b[0;34m\u001b[0m\u001b[0m\n",
            "\u001b[0;32m/usr/local/lib/python3.7/dist-packages/bayes_opt/target_space.py\u001b[0m in \u001b[0;36mprobe\u001b[0;34m(self, params)\u001b[0m\n\u001b[1;32m    192\u001b[0m         \u001b[0;32mexcept\u001b[0m \u001b[0mKeyError\u001b[0m\u001b[0;34m:\u001b[0m\u001b[0;34m\u001b[0m\u001b[0;34m\u001b[0m\u001b[0m\n\u001b[1;32m    193\u001b[0m             \u001b[0mparams\u001b[0m \u001b[0;34m=\u001b[0m \u001b[0mdict\u001b[0m\u001b[0;34m(\u001b[0m\u001b[0mzip\u001b[0m\u001b[0;34m(\u001b[0m\u001b[0mself\u001b[0m\u001b[0;34m.\u001b[0m\u001b[0m_keys\u001b[0m\u001b[0;34m,\u001b[0m \u001b[0mx\u001b[0m\u001b[0;34m)\u001b[0m\u001b[0;34m)\u001b[0m\u001b[0;34m\u001b[0m\u001b[0;34m\u001b[0m\u001b[0m\n\u001b[0;32m--> 194\u001b[0;31m             \u001b[0mtarget\u001b[0m \u001b[0;34m=\u001b[0m \u001b[0mself\u001b[0m\u001b[0;34m.\u001b[0m\u001b[0mtarget_func\u001b[0m\u001b[0;34m(\u001b[0m\u001b[0;34m**\u001b[0m\u001b[0mparams\u001b[0m\u001b[0;34m)\u001b[0m\u001b[0;34m\u001b[0m\u001b[0;34m\u001b[0m\u001b[0m\n\u001b[0m\u001b[1;32m    195\u001b[0m             \u001b[0mself\u001b[0m\u001b[0;34m.\u001b[0m\u001b[0mregister\u001b[0m\u001b[0;34m(\u001b[0m\u001b[0mx\u001b[0m\u001b[0;34m,\u001b[0m \u001b[0mtarget\u001b[0m\u001b[0;34m)\u001b[0m\u001b[0;34m\u001b[0m\u001b[0;34m\u001b[0m\u001b[0m\n\u001b[1;32m    196\u001b[0m         \u001b[0;32mreturn\u001b[0m \u001b[0mtarget\u001b[0m\u001b[0;34m\u001b[0m\u001b[0;34m\u001b[0m\u001b[0m\n",
            "\u001b[0;32m<ipython-input-26-2e83b81d6f0b>\u001b[0m in \u001b[0;36mCB_opt\u001b[0;34m(n_estimators, depth, learning_rate, max_bin, subsample, num_leaves, l2_leaf_reg, model_size_reg)\u001b[0m\n\u001b[1;32m     29\u001b[0m                            )\n\u001b[1;32m     30\u001b[0m \u001b[0;34m\u001b[0m\u001b[0m\n\u001b[0;32m---> 31\u001b[0;31m     \u001b[0mreg\u001b[0m\u001b[0;34m.\u001b[0m\u001b[0mfit\u001b[0m\u001b[0;34m(\u001b[0m\u001b[0mtrainx\u001b[0m\u001b[0;34m,\u001b[0m \u001b[0mtrainy\u001b[0m\u001b[0;34m,\u001b[0m \u001b[0meval_set\u001b[0m \u001b[0;34m=\u001b[0m \u001b[0;34m(\u001b[0m\u001b[0mvalx\u001b[0m\u001b[0;34m,\u001b[0m \u001b[0mvaly\u001b[0m\u001b[0;34m)\u001b[0m\u001b[0;34m)\u001b[0m\u001b[0;34m\u001b[0m\u001b[0;34m\u001b[0m\u001b[0m\n\u001b[0m\u001b[1;32m     32\u001b[0m     \u001b[0mscores\u001b[0m\u001b[0;34m.\u001b[0m\u001b[0mappend\u001b[0m\u001b[0;34m(\u001b[0m\u001b[0mmatthews_corrcoef\u001b[0m\u001b[0;34m(\u001b[0m\u001b[0mvaly\u001b[0m\u001b[0;34m,\u001b[0m \u001b[0mreg\u001b[0m\u001b[0;34m.\u001b[0m\u001b[0mpredict\u001b[0m\u001b[0;34m(\u001b[0m\u001b[0mvalx\u001b[0m\u001b[0;34m)\u001b[0m\u001b[0;34m)\u001b[0m\u001b[0;34m)\u001b[0m\u001b[0;34m\u001b[0m\u001b[0;34m\u001b[0m\u001b[0m\n\u001b[1;32m     33\u001b[0m   \u001b[0;32mreturn\u001b[0m \u001b[0mnp\u001b[0m\u001b[0;34m.\u001b[0m\u001b[0mmean\u001b[0m\u001b[0;34m(\u001b[0m\u001b[0mscores\u001b[0m\u001b[0;34m)\u001b[0m\u001b[0;34m\u001b[0m\u001b[0;34m\u001b[0m\u001b[0m\n",
            "\u001b[0;32m/usr/local/lib/python3.7/dist-packages/catboost/core.py\u001b[0m in \u001b[0;36mfit\u001b[0;34m(self, X, y, cat_features, text_features, embedding_features, sample_weight, baseline, use_best_model, eval_set, verbose, logging_level, plot, column_description, verbose_eval, metric_period, silent, early_stopping_rounds, save_snapshot, snapshot_file, snapshot_interval, init_model, callbacks, log_cout, log_cerr)\u001b[0m\n\u001b[1;32m   4716\u001b[0m         self._fit(X, y, cat_features, text_features, embedding_features, None, sample_weight, None, None, None, None, baseline, use_best_model,\n\u001b[1;32m   4717\u001b[0m                   \u001b[0meval_set\u001b[0m\u001b[0;34m,\u001b[0m \u001b[0mverbose\u001b[0m\u001b[0;34m,\u001b[0m \u001b[0mlogging_level\u001b[0m\u001b[0;34m,\u001b[0m \u001b[0mplot\u001b[0m\u001b[0;34m,\u001b[0m \u001b[0mcolumn_description\u001b[0m\u001b[0;34m,\u001b[0m \u001b[0mverbose_eval\u001b[0m\u001b[0;34m,\u001b[0m \u001b[0mmetric_period\u001b[0m\u001b[0;34m,\u001b[0m\u001b[0;34m\u001b[0m\u001b[0;34m\u001b[0m\u001b[0m\n\u001b[0;32m-> 4718\u001b[0;31m                   silent, early_stopping_rounds, save_snapshot, snapshot_file, snapshot_interval, init_model, callbacks, log_cout, log_cerr)\n\u001b[0m\u001b[1;32m   4719\u001b[0m         \u001b[0;32mreturn\u001b[0m \u001b[0mself\u001b[0m\u001b[0;34m\u001b[0m\u001b[0;34m\u001b[0m\u001b[0m\n\u001b[1;32m   4720\u001b[0m \u001b[0;34m\u001b[0m\u001b[0m\n",
            "\u001b[0;32m/usr/local/lib/python3.7/dist-packages/catboost/core.py\u001b[0m in \u001b[0;36m_fit\u001b[0;34m(self, X, y, cat_features, text_features, embedding_features, pairs, sample_weight, group_id, group_weight, subgroup_id, pairs_weight, baseline, use_best_model, eval_set, verbose, logging_level, plot, column_description, verbose_eval, metric_period, silent, early_stopping_rounds, save_snapshot, snapshot_file, snapshot_interval, init_model, callbacks, log_cout, log_cerr)\u001b[0m\n\u001b[1;32m   2040\u001b[0m                 \u001b[0mparams\u001b[0m\u001b[0;34m,\u001b[0m\u001b[0;34m\u001b[0m\u001b[0;34m\u001b[0m\u001b[0m\n\u001b[1;32m   2041\u001b[0m                 \u001b[0mallow_clear_pool\u001b[0m\u001b[0;34m,\u001b[0m\u001b[0;34m\u001b[0m\u001b[0;34m\u001b[0m\u001b[0m\n\u001b[0;32m-> 2042\u001b[0;31m                 \u001b[0mtrain_params\u001b[0m\u001b[0;34m[\u001b[0m\u001b[0;34m\"init_model\"\u001b[0m\u001b[0;34m]\u001b[0m\u001b[0;34m\u001b[0m\u001b[0;34m\u001b[0m\u001b[0m\n\u001b[0m\u001b[1;32m   2043\u001b[0m             )\n\u001b[1;32m   2044\u001b[0m \u001b[0;34m\u001b[0m\u001b[0m\n",
            "\u001b[0;32m/usr/local/lib/python3.7/dist-packages/catboost/core.py\u001b[0m in \u001b[0;36m_train\u001b[0;34m(self, train_pool, test_pool, params, allow_clear_pool, init_model)\u001b[0m\n\u001b[1;32m   1462\u001b[0m \u001b[0;34m\u001b[0m\u001b[0m\n\u001b[1;32m   1463\u001b[0m     \u001b[0;32mdef\u001b[0m \u001b[0m_train\u001b[0m\u001b[0;34m(\u001b[0m\u001b[0mself\u001b[0m\u001b[0;34m,\u001b[0m \u001b[0mtrain_pool\u001b[0m\u001b[0;34m,\u001b[0m \u001b[0mtest_pool\u001b[0m\u001b[0;34m,\u001b[0m \u001b[0mparams\u001b[0m\u001b[0;34m,\u001b[0m \u001b[0mallow_clear_pool\u001b[0m\u001b[0;34m,\u001b[0m \u001b[0minit_model\u001b[0m\u001b[0;34m)\u001b[0m\u001b[0;34m:\u001b[0m\u001b[0;34m\u001b[0m\u001b[0;34m\u001b[0m\u001b[0m\n\u001b[0;32m-> 1464\u001b[0;31m         \u001b[0mself\u001b[0m\u001b[0;34m.\u001b[0m\u001b[0m_object\u001b[0m\u001b[0;34m.\u001b[0m\u001b[0m_train\u001b[0m\u001b[0;34m(\u001b[0m\u001b[0mtrain_pool\u001b[0m\u001b[0;34m,\u001b[0m \u001b[0mtest_pool\u001b[0m\u001b[0;34m,\u001b[0m \u001b[0mparams\u001b[0m\u001b[0;34m,\u001b[0m \u001b[0mallow_clear_pool\u001b[0m\u001b[0;34m,\u001b[0m \u001b[0minit_model\u001b[0m\u001b[0;34m.\u001b[0m\u001b[0m_object\u001b[0m \u001b[0;32mif\u001b[0m \u001b[0minit_model\u001b[0m \u001b[0;32melse\u001b[0m \u001b[0;32mNone\u001b[0m\u001b[0;34m)\u001b[0m\u001b[0;34m\u001b[0m\u001b[0;34m\u001b[0m\u001b[0m\n\u001b[0m\u001b[1;32m   1465\u001b[0m         \u001b[0mself\u001b[0m\u001b[0;34m.\u001b[0m\u001b[0m_set_trained_model_attributes\u001b[0m\u001b[0;34m(\u001b[0m\u001b[0;34m)\u001b[0m\u001b[0;34m\u001b[0m\u001b[0;34m\u001b[0m\u001b[0m\n\u001b[1;32m   1466\u001b[0m \u001b[0;34m\u001b[0m\u001b[0m\n",
            "\u001b[0;32m_catboost.pyx\u001b[0m in \u001b[0;36m_catboost._CatBoost._train\u001b[0;34m()\u001b[0m\n",
            "\u001b[0;32m_catboost.pyx\u001b[0m in \u001b[0;36m_catboost._CatBoost._train\u001b[0;34m()\u001b[0m\n",
            "\u001b[0;31mKeyboardInterrupt\u001b[0m: "
          ]
        }
      ],
      "source": [
        "pbounds = {\"n_estimators\": (500,3000),\n",
        "           \"depth\": (2,25),\n",
        "           \"learning_rate\": (.01, 0.2),\n",
        "           \"subsample\":(0.6, 1.),\n",
        "           \"num_leaves\": (16,40),\n",
        "           \"max_bin\":(150,300),\n",
        "           \"l2_leaf_reg\":(0,10),\n",
        "           \"model_size_reg\": (0,10)\n",
        "}\n",
        "\n",
        "optimizer = BayesianOptimization(\n",
        "    f = CB_opt,\n",
        "    pbounds = pbounds,\n",
        "    verbose = 2,\n",
        "    random_state = 888,\n",
        ")\n",
        "\n",
        "optimizer.maximize(init_points=5, n_iter = 20, acq='ei', xi=0.01)"
      ]
    },
    {
      "cell_type": "code",
      "execution_count": null,
      "metadata": {
        "id": "OhSs1vYf88vd"
      },
      "outputs": [],
      "source": [
        "print(optimizer.max)"
      ]
    },
    {
      "cell_type": "markdown",
      "metadata": {
        "id": "G8bb_h6sONfI"
      },
      "source": [
        "##optuna"
      ]
    },
    {
      "cell_type": "code",
      "execution_count": null,
      "metadata": {
        "colab": {
          "base_uri": "https://localhost:8080/"
        },
        "id": "flBW1AdPFldJ",
        "outputId": "9175b016-67b7-4561-97ed-493d4e564949"
      },
      "outputs": [
        {
          "name": "stdout",
          "output_type": "stream",
          "text": [
            "Drive already mounted at /content/gdrive/; to attempt to forcibly remount, call drive.mount(\"/content/gdrive/\", force_remount=True).\n"
          ]
        }
      ],
      "source": [
        "import pandas as pd\n",
        "import numpy as np\n",
        "from google.colab import drive\n",
        "drive.mount('/content/gdrive/')\n",
        "\n",
        "import matplotlib.pyplot as plt\n",
        "import matplotlib.cm as cm\n",
        "import seaborn as sns\n",
        "plt.style.use('fivethirtyeight')\n",
        "import warnings\n",
        "warnings.filterwarnings('ignore')\n",
        "%matplotlib inline\n",
        "from tqdm import tnrange, tqdm_notebook, notebook, tqdm\n",
        "import time\n",
        "import random\n",
        "\n",
        "from sklearn import preprocessing\n",
        "#import optuna # 하이퍼파라미터 튜닝 라이브러리\n",
        "from sklearn.model_selection import cross_val_score, train_test_split, KFold\n",
        "\n",
        "from lightgbm import LGBMClassifier\n",
        "from sklearn.model_selection import GridSearchCV, cross_validate\n",
        "from sklearn.metrics import f1_score"
      ]
    },
    {
      "cell_type": "code",
      "execution_count": null,
      "metadata": {
        "id": "rfBUTVOlFlfg"
      },
      "outputs": [],
      "source": [
        "def run(trial):\n",
        "\n",
        "    # 구하고자하는 변수들의 범위 설정\n",
        "    n_estimators = trial.suggest_int(\"n_estimators\", 100, 2000)\n",
        "    learning_rate = trial.suggest_float(\"learning_rate\", 1e-2, 0.25, log=True)\n",
        "    max_depth = trial.suggest_int(\"max_depth\", 1, 10)\n",
        "\n",
        "    num = random.randrange(1, 1000) # 1부터 1000 사이의 난수 생성\n",
        "\n",
        "    X_tra, X_val, y_tra, y_val = train_test_split(X_train, y_train, test_size=0.2, random_state=num)\n",
        "\n",
        "    model = LGBMClassifier(\n",
        "        random_state=42,\n",
        "        # LGBM 파라미터\n",
        "        n_estimators=n_estimators,\n",
        "        learning_rate=learning_rate,\n",
        "        max_depth=max_depth,\n",
        "    )\n",
        "    model.fit(X_tra, y_tra, early_stopping_rounds=300, eval_set=[(X_val, y_val)], verbose=1000)\n",
        "    preds_valid = model.predict(X_val)\n",
        "    f1 = f1_score(y_val, preds_valid) # 평가지표 설정\n",
        "    return f1"
      ]
    },
    {
      "cell_type": "code",
      "execution_count": null,
      "metadata": {
        "colab": {
          "base_uri": "https://localhost:8080/"
        },
        "id": "i7taUI5gFliE",
        "outputId": "025b669b-e673-49d5-f45b-e419294179f7"
      },
      "outputs": [
        {
          "name": "stderr",
          "output_type": "stream",
          "text": [
            "\u001b[32m[I 2021-12-18 15:28:24,963]\u001b[0m A new study created in memory with name: no-name-04fd2086-a1c8-4c72-b639-d4c877ea9a68\u001b[0m\n"
          ]
        },
        {
          "name": "stdout",
          "output_type": "stream",
          "text": [
            "Training until validation scores don't improve for 300 rounds.\n",
            "[1000]\tvalid_0's binary_logloss: 0.656947\n",
            "Did not meet early stopping. Best iteration is:\n",
            "[1097]\tvalid_0's binary_logloss: 0.656463\n"
          ]
        },
        {
          "name": "stderr",
          "output_type": "stream",
          "text": [
            "\u001b[32m[I 2021-12-18 15:29:35,863]\u001b[0m Trial 0 finished with value: 0.6179963429891252 and parameters: {'n_estimators': 1097, 'learning_rate': 0.04577302083100789, 'max_depth': 2}. Best is trial 0 with value: 0.6179963429891252.\u001b[0m\n"
          ]
        },
        {
          "name": "stdout",
          "output_type": "stream",
          "text": [
            "Training until validation scores don't improve for 300 rounds.\n",
            "[1000]\tvalid_0's binary_logloss: 0.657263\n",
            "Did not meet early stopping. Best iteration is:\n",
            "[1879]\tvalid_0's binary_logloss: 0.653507\n"
          ]
        },
        {
          "name": "stderr",
          "output_type": "stream",
          "text": [
            "\u001b[32m[I 2021-12-18 15:32:47,764]\u001b[0m Trial 1 finished with value: 0.6233386828626067 and parameters: {'n_estimators': 1879, 'learning_rate': 0.029569802979263416, 'max_depth': 2}. Best is trial 1 with value: 0.6233386828626067.\u001b[0m\n"
          ]
        },
        {
          "name": "stdout",
          "output_type": "stream",
          "text": [
            "Training until validation scores don't improve for 300 rounds.\n",
            "[1000]\tvalid_0's binary_logloss: 0.63825\n",
            "Did not meet early stopping. Best iteration is:\n",
            "[1670]\tvalid_0's binary_logloss: 0.637185\n"
          ]
        },
        {
          "name": "stderr",
          "output_type": "stream",
          "text": [
            "\u001b[32m[I 2021-12-18 15:35:02,740]\u001b[0m Trial 2 finished with value: 0.646217782522495 and parameters: {'n_estimators': 1684, 'learning_rate': 0.10451681258471457, 'max_depth': 7}. Best is trial 2 with value: 0.646217782522495.\u001b[0m\n"
          ]
        },
        {
          "name": "stdout",
          "output_type": "stream",
          "text": [
            "Training until validation scores don't improve for 300 rounds.\n",
            "[1000]\tvalid_0's binary_logloss: 0.648354\n",
            "Did not meet early stopping. Best iteration is:\n",
            "[1428]\tvalid_0's binary_logloss: 0.646517\n"
          ]
        },
        {
          "name": "stderr",
          "output_type": "stream",
          "text": [
            "\u001b[32m[I 2021-12-18 15:37:44,487]\u001b[0m Trial 3 finished with value: 0.6385812673481182 and parameters: {'n_estimators': 1428, 'learning_rate': 0.010742199141231973, 'max_depth': 8}. Best is trial 2 with value: 0.646217782522495.\u001b[0m\n"
          ]
        },
        {
          "name": "stdout",
          "output_type": "stream",
          "text": [
            "Training until validation scores don't improve for 300 rounds.\n",
            "Did not meet early stopping. Best iteration is:\n",
            "[163]\tvalid_0's binary_logloss: 0.659743\n"
          ]
        },
        {
          "name": "stderr",
          "output_type": "stream",
          "text": [
            "\u001b[32m[I 2021-12-18 15:38:07,447]\u001b[0m Trial 4 finished with value: 0.6230550695189178 and parameters: {'n_estimators': 163, 'learning_rate': 0.017199886017550063, 'max_depth': 7}. Best is trial 2 with value: 0.646217782522495.\u001b[0m\n"
          ]
        },
        {
          "name": "stdout",
          "output_type": "stream",
          "text": [
            "Training until validation scores don't improve for 300 rounds.\n",
            "[1000]\tvalid_0's binary_logloss: 0.668523\n",
            "Did not meet early stopping. Best iteration is:\n",
            "[1876]\tvalid_0's binary_logloss: 0.665769\n"
          ]
        },
        {
          "name": "stderr",
          "output_type": "stream",
          "text": [
            "\u001b[32m[I 2021-12-18 15:39:34,158]\u001b[0m Trial 5 finished with value: 0.6007058869410916 and parameters: {'n_estimators': 1876, 'learning_rate': 0.01952413585705188, 'max_depth': 1}. Best is trial 2 with value: 0.646217782522495.\u001b[0m\n"
          ]
        },
        {
          "name": "stdout",
          "output_type": "stream",
          "text": [
            "Training until validation scores don't improve for 300 rounds.\n",
            "Did not meet early stopping. Best iteration is:\n",
            "[908]\tvalid_0's binary_logloss: 0.638168\n"
          ]
        },
        {
          "name": "stderr",
          "output_type": "stream",
          "text": [
            "\u001b[32m[I 2021-12-18 15:40:47,233]\u001b[0m Trial 6 finished with value: 0.6449751623996943 and parameters: {'n_estimators': 912, 'learning_rate': 0.14524371535123784, 'max_depth': 6}. Best is trial 2 with value: 0.646217782522495.\u001b[0m\n"
          ]
        },
        {
          "name": "stdout",
          "output_type": "stream",
          "text": [
            "Training until validation scores don't improve for 300 rounds.\n",
            "Did not meet early stopping. Best iteration is:\n",
            "[918]\tvalid_0's binary_logloss: 0.652173\n"
          ]
        },
        {
          "name": "stderr",
          "output_type": "stream",
          "text": [
            "\u001b[32m[I 2021-12-18 15:42:20,683]\u001b[0m Trial 7 finished with value: 0.6273207403530476 and parameters: {'n_estimators': 918, 'learning_rate': 0.013550806843135123, 'max_depth': 5}. Best is trial 2 with value: 0.646217782522495.\u001b[0m\n"
          ]
        },
        {
          "name": "stdout",
          "output_type": "stream",
          "text": [
            "Training until validation scores don't improve for 300 rounds.\n",
            "Did not meet early stopping. Best iteration is:\n",
            "[620]\tvalid_0's binary_logloss: 0.642887\n"
          ]
        },
        {
          "name": "stderr",
          "output_type": "stream",
          "text": [
            "\u001b[32m[I 2021-12-18 15:43:10,954]\u001b[0m Trial 8 finished with value: 0.6406312615689941 and parameters: {'n_estimators': 621, 'learning_rate': 0.08305095786362104, 'max_depth': 4}. Best is trial 2 with value: 0.646217782522495.\u001b[0m\n"
          ]
        },
        {
          "name": "stdout",
          "output_type": "stream",
          "text": [
            "Training until validation scores don't improve for 300 rounds.\n",
            "[1000]\tvalid_0's binary_logloss: 0.64067\n",
            "Did not meet early stopping. Best iteration is:\n",
            "[1931]\tvalid_0's binary_logloss: 0.638333\n"
          ]
        },
        {
          "name": "stderr",
          "output_type": "stream",
          "text": [
            "\u001b[32m[I 2021-12-18 15:45:35,909]\u001b[0m Trial 9 finished with value: 0.6484093737235569 and parameters: {'n_estimators': 1937, 'learning_rate': 0.06425204697640233, 'max_depth': 10}. Best is trial 9 with value: 0.6484093737235569.\u001b[0m\n"
          ]
        },
        {
          "name": "stdout",
          "output_type": "stream",
          "text": [
            "Training until validation scores don't improve for 300 rounds.\n",
            "[1000]\tvalid_0's binary_logloss: 0.640415\n",
            "Did not meet early stopping. Best iteration is:\n",
            "[1452]\tvalid_0's binary_logloss: 0.639063\n"
          ]
        },
        {
          "name": "stderr",
          "output_type": "stream",
          "text": [
            "\u001b[32m[I 2021-12-18 15:47:29,320]\u001b[0m Trial 10 finished with value: 0.646978516847115 and parameters: {'n_estimators': 1452, 'learning_rate': 0.0610627871106448, 'max_depth': 10}. Best is trial 9 with value: 0.6484093737235569.\u001b[0m\n"
          ]
        },
        {
          "name": "stdout",
          "output_type": "stream",
          "text": [
            "Training until validation scores don't improve for 300 rounds.\n",
            "[1000]\tvalid_0's binary_logloss: 0.639764\n",
            "Did not meet early stopping. Best iteration is:\n",
            "[1383]\tvalid_0's binary_logloss: 0.638604\n"
          ]
        },
        {
          "name": "stderr",
          "output_type": "stream",
          "text": [
            "\u001b[32m[I 2021-12-18 15:49:18,881]\u001b[0m Trial 11 finished with value: 0.6474708171206227 and parameters: {'n_estimators': 1386, 'learning_rate': 0.05792021311984691, 'max_depth': 10}. Best is trial 9 with value: 0.6484093737235569.\u001b[0m\n"
          ]
        },
        {
          "name": "stdout",
          "output_type": "stream",
          "text": [
            "Training until validation scores don't improve for 300 rounds.\n",
            "Early stopping, best iteration is:\n",
            "[435]\tvalid_0's binary_logloss: 0.640474\n"
          ]
        },
        {
          "name": "stderr",
          "output_type": "stream",
          "text": [
            "\u001b[32m[I 2021-12-18 15:50:10,784]\u001b[0m Trial 12 finished with value: 0.642096345862801 and parameters: {'n_estimators': 1454, 'learning_rate': 0.2294328860980347, 'max_depth': 10}. Best is trial 9 with value: 0.6484093737235569.\u001b[0m\n"
          ]
        },
        {
          "name": "stdout",
          "output_type": "stream",
          "text": [
            "Training until validation scores don't improve for 300 rounds.\n",
            "[1000]\tvalid_0's binary_logloss: 0.643724\n",
            "Did not meet early stopping. Best iteration is:\n",
            "[1209]\tvalid_0's binary_logloss: 0.642796\n"
          ]
        },
        {
          "name": "stderr",
          "output_type": "stream",
          "text": [
            "\u001b[32m[I 2021-12-18 15:51:56,215]\u001b[0m Trial 13 finished with value: 0.6410847200493055 and parameters: {'n_estimators': 1209, 'learning_rate': 0.036026593432219506, 'max_depth': 9}. Best is trial 9 with value: 0.6484093737235569.\u001b[0m\n"
          ]
        },
        {
          "name": "stdout",
          "output_type": "stream",
          "text": [
            "Training until validation scores don't improve for 300 rounds.\n",
            "[1000]\tvalid_0's binary_logloss: 0.640306\n",
            "Did not meet early stopping. Best iteration is:\n",
            "[1972]\tvalid_0's binary_logloss: 0.638213\n"
          ]
        },
        {
          "name": "stderr",
          "output_type": "stream",
          "text": [
            "\u001b[32m[I 2021-12-18 15:54:21,794]\u001b[0m Trial 14 finished with value: 0.6443515444883434 and parameters: {'n_estimators': 1991, 'learning_rate': 0.06984787004602953, 'max_depth': 9}. Best is trial 9 with value: 0.6484093737235569.\u001b[0m\n"
          ]
        },
        {
          "name": "stdout",
          "output_type": "stream",
          "text": [
            "Training until validation scores don't improve for 300 rounds.\n",
            "[1000]\tvalid_0's binary_logloss: 0.640705\n",
            "Did not meet early stopping. Best iteration is:\n",
            "[1548]\tvalid_0's binary_logloss: 0.640078\n"
          ]
        },
        {
          "name": "stderr",
          "output_type": "stream",
          "text": [
            "\u001b[32m[I 2021-12-18 15:56:17,352]\u001b[0m Trial 15 finished with value: 0.6431069672955855 and parameters: {'n_estimators': 1642, 'learning_rate': 0.13372937857396458, 'max_depth': 10}. Best is trial 9 with value: 0.6484093737235569.\u001b[0m\n"
          ]
        },
        {
          "name": "stdout",
          "output_type": "stream",
          "text": [
            "Training until validation scores don't improve for 300 rounds.\n",
            "Did not meet early stopping. Best iteration is:\n",
            "[600]\tvalid_0's binary_logloss: 0.64565\n"
          ]
        },
        {
          "name": "stderr",
          "output_type": "stream",
          "text": [
            "\u001b[32m[I 2021-12-18 15:57:24,366]\u001b[0m Trial 16 finished with value: 0.6387914858128471 and parameters: {'n_estimators': 600, 'learning_rate': 0.025423581340048806, 'max_depth': 8}. Best is trial 9 with value: 0.6484093737235569.\u001b[0m\n"
          ]
        },
        {
          "name": "stdout",
          "output_type": "stream",
          "text": [
            "Training until validation scores don't improve for 300 rounds.\n",
            "[1000]\tvalid_0's binary_logloss: 0.646965\n",
            "Did not meet early stopping. Best iteration is:\n",
            "[1692]\tvalid_0's binary_logloss: 0.643918\n"
          ]
        },
        {
          "name": "stderr",
          "output_type": "stream",
          "text": [
            "\u001b[32m[I 2021-12-18 15:59:34,628]\u001b[0m Trial 17 finished with value: 0.6377751497348644 and parameters: {'n_estimators': 1692, 'learning_rate': 0.03970286010577623, 'max_depth': 4}. Best is trial 9 with value: 0.6484093737235569.\u001b[0m\n"
          ]
        },
        {
          "name": "stdout",
          "output_type": "stream",
          "text": [
            "Training until validation scores don't improve for 300 rounds.\n",
            "[1000]\tvalid_0's binary_logloss: 0.640788\n",
            "Did not meet early stopping. Best iteration is:\n",
            "[1277]\tvalid_0's binary_logloss: 0.639777\n"
          ]
        },
        {
          "name": "stderr",
          "output_type": "stream",
          "text": [
            "\u001b[32m[I 2021-12-18 16:01:18,295]\u001b[0m Trial 18 finished with value: 0.6441205791597436 and parameters: {'n_estimators': 1277, 'learning_rate': 0.057088677032402356, 'max_depth': 9}. Best is trial 9 with value: 0.6484093737235569.\u001b[0m\n"
          ]
        },
        {
          "name": "stdout",
          "output_type": "stream",
          "text": [
            "Training until validation scores don't improve for 300 rounds.\n",
            "[1000]\tvalid_0's binary_logloss: 0.6383\n",
            "Did not meet early stopping. Best iteration is:\n",
            "[1617]\tvalid_0's binary_logloss: 0.636864\n"
          ]
        },
        {
          "name": "stderr",
          "output_type": "stream",
          "text": [
            "\u001b[32m[I 2021-12-18 16:03:17,383]\u001b[0m Trial 19 finished with value: 0.6446642353884635 and parameters: {'n_estimators': 1617, 'learning_rate': 0.0936052426824625, 'max_depth': 8}. Best is trial 9 with value: 0.6484093737235569.\u001b[0m\n"
          ]
        }
      ],
      "source": [
        "study = optuna.create_study(direction=\"maximize\")\n",
        "study.optimize(run, n_trials=20)"
      ]
    },
    {
      "cell_type": "code",
      "execution_count": null,
      "metadata": {
        "colab": {
          "base_uri": "https://localhost:8080/"
        },
        "id": "7VlO7X9RFlki",
        "outputId": "9af05ccd-7b7f-49c8-90e6-f4b9a838c311"
      },
      "outputs": [
        {
          "data": {
            "text/plain": [
              "{'learning_rate': 0.06425204697640233, 'max_depth': 10, 'n_estimators': 1937}"
            ]
          },
          "execution_count": 43,
          "metadata": {},
          "output_type": "execute_result"
        }
      ],
      "source": [
        "study.best_params"
      ]
    },
    {
      "cell_type": "code",
      "execution_count": null,
      "metadata": {
        "colab": {
          "base_uri": "https://localhost:8080/"
        },
        "id": "HbiSY0_hJGI3",
        "outputId": "05a03916-069f-45d0-9fb3-62832c29b4c2"
      },
      "outputs": [
        {
          "data": {
            "text/plain": [
              "0.6172961468596128"
            ]
          },
          "execution_count": 45,
          "metadata": {},
          "output_type": "execute_result"
        }
      ],
      "source": [
        "para = study.best_params\n",
        "\n",
        "model = LGBMClassifier(\n",
        "        random_state=42,\n",
        "        n_jobs=-1,\n",
        "        ** para\n",
        "    )\n",
        "\n",
        "cross_val_score(model, X_train, y_train, cv=5, scoring = 'f1', n_jobs=-1).mean()"
      ]
    },
    {
      "cell_type": "code",
      "execution_count": null,
      "metadata": {
        "colab": {
          "base_uri": "https://localhost:8080/"
        },
        "id": "-km-EVAyJGLV",
        "outputId": "731177cf-90d9-4c34-81aa-4323efd27e6e"
      },
      "outputs": [
        {
          "name": "stderr",
          "output_type": "stream",
          "text": [
            "\u001b[32m[I 2021-12-18 16:16:43,785]\u001b[0m A new study created in memory with name: no-name-e3a4958c-2913-4052-bc22-57789df00d15\u001b[0m\n"
          ]
        },
        {
          "name": "stdout",
          "output_type": "stream",
          "text": [
            "Training until validation scores don't improve for 300 rounds.\n",
            "Did not meet early stopping. Best iteration is:\n",
            "[778]\tvalid_0's binary_logloss: 0.64106\n"
          ]
        },
        {
          "name": "stderr",
          "output_type": "stream",
          "text": [
            "\u001b[32m[I 2021-12-18 16:17:44,571]\u001b[0m Trial 0 finished with value: 0.6418082541618624 and parameters: {'n_estimators': 778, 'learning_rate': 0.11676717063658815, 'max_depth': 4}. Best is trial 0 with value: 0.6418082541618624.\u001b[0m\n"
          ]
        },
        {
          "name": "stdout",
          "output_type": "stream",
          "text": [
            "Training until validation scores don't improve for 300 rounds.\n",
            "[1000]\tvalid_0's binary_logloss: 0.639327\n",
            "Early stopping, best iteration is:\n",
            "[1250]\tvalid_0's binary_logloss: 0.638877\n"
          ]
        },
        {
          "name": "stderr",
          "output_type": "stream",
          "text": [
            "\u001b[32m[I 2021-12-18 16:19:37,444]\u001b[0m Trial 1 finished with value: 0.6438403172303352 and parameters: {'n_estimators': 1843, 'learning_rate': 0.10526241755657029, 'max_depth': 9}. Best is trial 1 with value: 0.6438403172303352.\u001b[0m\n"
          ]
        },
        {
          "name": "stdout",
          "output_type": "stream",
          "text": [
            "Training until validation scores don't improve for 300 rounds.\n",
            "[1000]\tvalid_0's binary_logloss: 0.648142\n",
            "Did not meet early stopping. Best iteration is:\n",
            "[1294]\tvalid_0's binary_logloss: 0.646531\n"
          ]
        },
        {
          "name": "stderr",
          "output_type": "stream",
          "text": [
            "\u001b[32m[I 2021-12-18 16:21:56,119]\u001b[0m Trial 2 finished with value: 0.6372263050231077 and parameters: {'n_estimators': 1294, 'learning_rate': 0.013173318105807855, 'max_depth': 6}. Best is trial 1 with value: 0.6438403172303352.\u001b[0m\n"
          ]
        },
        {
          "name": "stdout",
          "output_type": "stream",
          "text": [
            "Training until validation scores don't improve for 300 rounds.\n",
            "[1000]\tvalid_0's binary_logloss: 0.641114\n",
            "Did not meet early stopping. Best iteration is:\n",
            "[1691]\tvalid_0's binary_logloss: 0.638807\n"
          ]
        },
        {
          "name": "stderr",
          "output_type": "stream",
          "text": [
            "\u001b[32m[I 2021-12-18 16:24:25,396]\u001b[0m Trial 3 finished with value: 0.6455675701424285 and parameters: {'n_estimators': 1698, 'learning_rate': 0.06265203286433035, 'max_depth': 5}. Best is trial 3 with value: 0.6455675701424285.\u001b[0m\n"
          ]
        },
        {
          "name": "stdout",
          "output_type": "stream",
          "text": [
            "Training until validation scores don't improve for 300 rounds.\n",
            "Did not meet early stopping. Best iteration is:\n",
            "[945]\tvalid_0's binary_logloss: 0.661809\n"
          ]
        },
        {
          "name": "stderr",
          "output_type": "stream",
          "text": [
            "\u001b[32m[I 2021-12-18 16:25:09,643]\u001b[0m Trial 4 finished with value: 0.6047099792807603 and parameters: {'n_estimators': 945, 'learning_rate': 0.1893756145205277, 'max_depth': 1}. Best is trial 3 with value: 0.6455675701424285.\u001b[0m\n"
          ]
        },
        {
          "name": "stdout",
          "output_type": "stream",
          "text": [
            "Training until validation scores don't improve for 300 rounds.\n",
            "Did not meet early stopping. Best iteration is:\n",
            "[175]\tvalid_0's binary_logloss: 0.649035\n"
          ]
        },
        {
          "name": "stderr",
          "output_type": "stream",
          "text": [
            "\u001b[32m[I 2021-12-18 16:25:34,020]\u001b[0m Trial 5 finished with value: 0.6351702059141109 and parameters: {'n_estimators': 175, 'learning_rate': 0.045240841889378124, 'max_depth': 9}. Best is trial 3 with value: 0.6455675701424285.\u001b[0m\n"
          ]
        },
        {
          "name": "stdout",
          "output_type": "stream",
          "text": [
            "Training until validation scores don't improve for 300 rounds.\n",
            "Did not meet early stopping. Best iteration is:\n",
            "[181]\tvalid_0's binary_logloss: 0.65434\n"
          ]
        },
        {
          "name": "stderr",
          "output_type": "stream",
          "text": [
            "\u001b[32m[I 2021-12-18 16:25:59,821]\u001b[0m Trial 6 finished with value: 0.6289893366046994 and parameters: {'n_estimators': 181, 'learning_rate': 0.0326594668797057, 'max_depth': 10}. Best is trial 3 with value: 0.6455675701424285.\u001b[0m\n"
          ]
        },
        {
          "name": "stdout",
          "output_type": "stream",
          "text": [
            "Training until validation scores don't improve for 300 rounds.\n",
            "Did not meet early stopping. Best iteration is:\n",
            "[716]\tvalid_0's binary_logloss: 0.645613\n"
          ]
        },
        {
          "name": "stderr",
          "output_type": "stream",
          "text": [
            "\u001b[32m[I 2021-12-18 16:27:21,572]\u001b[0m Trial 7 finished with value: 0.638030303030303 and parameters: {'n_estimators': 716, 'learning_rate': 0.022247324671014014, 'max_depth': 10}. Best is trial 3 with value: 0.6455675701424285.\u001b[0m\n"
          ]
        },
        {
          "name": "stdout",
          "output_type": "stream",
          "text": [
            "Training until validation scores don't improve for 300 rounds.\n",
            "[1000]\tvalid_0's binary_logloss: 0.66879\n",
            "Did not meet early stopping. Best iteration is:\n",
            "[1832]\tvalid_0's binary_logloss: 0.665984\n"
          ]
        },
        {
          "name": "stderr",
          "output_type": "stream",
          "text": [
            "\u001b[32m[I 2021-12-18 16:28:45,898]\u001b[0m Trial 8 finished with value: 0.6004441241210043 and parameters: {'n_estimators': 1832, 'learning_rate': 0.016179549023100724, 'max_depth': 1}. Best is trial 3 with value: 0.6455675701424285.\u001b[0m\n"
          ]
        },
        {
          "name": "stdout",
          "output_type": "stream",
          "text": [
            "Training until validation scores don't improve for 300 rounds.\n",
            "[1000]\tvalid_0's binary_logloss: 0.638908\n",
            "Early stopping, best iteration is:\n",
            "[714]\tvalid_0's binary_logloss: 0.638625\n"
          ]
        },
        {
          "name": "stderr",
          "output_type": "stream",
          "text": [
            "\u001b[32m[I 2021-12-18 16:30:02,734]\u001b[0m Trial 9 finished with value: 0.6440648838563696 and parameters: {'n_estimators': 1051, 'learning_rate': 0.20595575622101112, 'max_depth': 6}. Best is trial 3 with value: 0.6455675701424285.\u001b[0m\n"
          ]
        },
        {
          "name": "stdout",
          "output_type": "stream",
          "text": [
            "Training until validation scores don't improve for 300 rounds.\n",
            "[1000]\tvalid_0's binary_logloss: 0.646636\n",
            "Did not meet early stopping. Best iteration is:\n",
            "[1446]\tvalid_0's binary_logloss: 0.644638\n"
          ]
        },
        {
          "name": "stderr",
          "output_type": "stream",
          "text": [
            "\u001b[32m[I 2021-12-18 16:31:39,213]\u001b[0m Trial 10 finished with value: 0.638008447167155 and parameters: {'n_estimators': 1446, 'learning_rate': 0.07463099410514616, 'max_depth': 3}. Best is trial 3 with value: 0.6455675701424285.\u001b[0m\n"
          ]
        },
        {
          "name": "stdout",
          "output_type": "stream",
          "text": [
            "Training until validation scores don't improve for 300 rounds.\n",
            "Early stopping, best iteration is:\n",
            "[414]\tvalid_0's binary_logloss: 0.641895\n"
          ]
        },
        {
          "name": "stderr",
          "output_type": "stream",
          "text": [
            "\u001b[32m[I 2021-12-18 16:32:34,304]\u001b[0m Trial 11 finished with value: 0.6412551774159683 and parameters: {'n_estimators': 1419, 'learning_rate': 0.24561133551400355, 'max_depth': 6}. Best is trial 3 with value: 0.6455675701424285.\u001b[0m\n"
          ]
        },
        {
          "name": "stdout",
          "output_type": "stream",
          "text": [
            "Training until validation scores don't improve for 300 rounds.\n",
            "[1000]\tvalid_0's binary_logloss: 0.638985\n",
            "Did not meet early stopping. Best iteration is:\n",
            "[1150]\tvalid_0's binary_logloss: 0.638456\n"
          ]
        },
        {
          "name": "stderr",
          "output_type": "stream",
          "text": [
            "\u001b[32m[I 2021-12-18 16:34:07,169]\u001b[0m Trial 12 finished with value: 0.6467971868466071 and parameters: {'n_estimators': 1151, 'learning_rate': 0.06598057876494431, 'max_depth': 7}. Best is trial 12 with value: 0.6467971868466071.\u001b[0m\n"
          ]
        },
        {
          "name": "stdout",
          "output_type": "stream",
          "text": [
            "Training until validation scores don't improve for 300 rounds.\n",
            "[1000]\tvalid_0's binary_logloss: 0.639759\n",
            "Did not meet early stopping. Best iteration is:\n",
            "[1610]\tvalid_0's binary_logloss: 0.637966\n"
          ]
        },
        {
          "name": "stderr",
          "output_type": "stream",
          "text": [
            "\u001b[32m[I 2021-12-18 16:36:10,551]\u001b[0m Trial 13 finished with value: 0.647569262937794 and parameters: {'n_estimators': 1611, 'learning_rate': 0.06294795286579005, 'max_depth': 8}. Best is trial 13 with value: 0.647569262937794.\u001b[0m\n"
          ]
        },
        {
          "name": "stdout",
          "output_type": "stream",
          "text": [
            "Training until validation scores don't improve for 300 rounds.\n",
            "[1000]\tvalid_0's binary_logloss: 0.640149\n",
            "Did not meet early stopping. Best iteration is:\n",
            "[1174]\tvalid_0's binary_logloss: 0.63946\n"
          ]
        },
        {
          "name": "stderr",
          "output_type": "stream",
          "text": [
            "\u001b[32m[I 2021-12-18 16:37:50,833]\u001b[0m Trial 14 finished with value: 0.64535180873417 and parameters: {'n_estimators': 1174, 'learning_rate': 0.04156359369600465, 'max_depth': 8}. Best is trial 13 with value: 0.647569262937794.\u001b[0m\n"
          ]
        },
        {
          "name": "stdout",
          "output_type": "stream",
          "text": [
            "Training until validation scores don't improve for 300 rounds.\n",
            "[1000]\tvalid_0's binary_logloss: 0.638814\n",
            "Did not meet early stopping. Best iteration is:\n",
            "[1512]\tvalid_0's binary_logloss: 0.638036\n"
          ]
        },
        {
          "name": "stderr",
          "output_type": "stream",
          "text": [
            "\u001b[32m[I 2021-12-18 16:39:42,880]\u001b[0m Trial 15 finished with value: 0.6456329210566499 and parameters: {'n_estimators': 1560, 'learning_rate': 0.11633706918096447, 'max_depth': 8}. Best is trial 13 with value: 0.647569262937794.\u001b[0m\n"
          ]
        },
        {
          "name": "stdout",
          "output_type": "stream",
          "text": [
            "Training until validation scores don't improve for 300 rounds.\n",
            "[1000]\tvalid_0's binary_logloss: 0.643476\n",
            "Did not meet early stopping. Best iteration is:\n",
            "[1976]\tvalid_0's binary_logloss: 0.639866\n"
          ]
        },
        {
          "name": "stderr",
          "output_type": "stream",
          "text": [
            "\u001b[32m[I 2021-12-18 16:42:28,441]\u001b[0m Trial 16 finished with value: 0.6455657724751122 and parameters: {'n_estimators': 1976, 'learning_rate': 0.029064272370530952, 'max_depth': 7}. Best is trial 13 with value: 0.647569262937794.\u001b[0m\n"
          ]
        },
        {
          "name": "stdout",
          "output_type": "stream",
          "text": [
            "Training until validation scores don't improve for 300 rounds.\n",
            "Did not meet early stopping. Best iteration is:\n",
            "[527]\tvalid_0's binary_logloss: 0.641158\n"
          ]
        },
        {
          "name": "stderr",
          "output_type": "stream",
          "text": [
            "\u001b[32m[I 2021-12-18 16:43:15,752]\u001b[0m Trial 17 finished with value: 0.6446882282726084 and parameters: {'n_estimators': 527, 'learning_rate': 0.07334916830804662, 'max_depth': 8}. Best is trial 13 with value: 0.647569262937794.\u001b[0m\n"
          ]
        },
        {
          "name": "stdout",
          "output_type": "stream",
          "text": [
            "Training until validation scores don't improve for 300 rounds.\n",
            "[1000]\tvalid_0's binary_logloss: 0.639196\n",
            "Did not meet early stopping. Best iteration is:\n",
            "[1588]\tvalid_0's binary_logloss: 0.636983\n"
          ]
        },
        {
          "name": "stderr",
          "output_type": "stream",
          "text": [
            "\u001b[32m[I 2021-12-18 16:45:20,763]\u001b[0m Trial 18 finished with value: 0.6473801412230448 and parameters: {'n_estimators': 1590, 'learning_rate': 0.05934973921071716, 'max_depth': 7}. Best is trial 13 with value: 0.647569262937794.\u001b[0m\n"
          ]
        },
        {
          "name": "stdout",
          "output_type": "stream",
          "text": [
            "Training until validation scores don't improve for 300 rounds.\n",
            "[1000]\tvalid_0's binary_logloss: 0.64785\n",
            "Did not meet early stopping. Best iteration is:\n",
            "[1607]\tvalid_0's binary_logloss: 0.644642\n"
          ]
        },
        {
          "name": "stderr",
          "output_type": "stream",
          "text": [
            "\u001b[32m[I 2021-12-18 16:47:29,219]\u001b[0m Trial 19 finished with value: 0.6363619047619048 and parameters: {'n_estimators': 1607, 'learning_rate': 0.02786887668911511, 'max_depth': 4}. Best is trial 13 with value: 0.647569262937794.\u001b[0m\n"
          ]
        }
      ],
      "source": [
        "from optuna import Trial\n",
        "from optuna.samplers import *\n",
        "\n",
        "study = optuna.create_study(direction=\"maximize\", sampler=TPESampler())\n",
        "study.optimize(run, n_trials=20)"
      ]
    },
    {
      "cell_type": "code",
      "execution_count": null,
      "metadata": {
        "colab": {
          "base_uri": "https://localhost:8080/"
        },
        "id": "dZswV1SJJGNg",
        "outputId": "4edc6b08-189f-4e1f-ee94-cadd9339fa2d"
      },
      "outputs": [
        {
          "data": {
            "text/plain": [
              "{'learning_rate': 0.06294795286579005, 'max_depth': 8, 'n_estimators': 1611}"
            ]
          },
          "execution_count": 47,
          "metadata": {},
          "output_type": "execute_result"
        }
      ],
      "source": [
        "study.best_params"
      ]
    },
    {
      "cell_type": "code",
      "execution_count": null,
      "metadata": {
        "colab": {
          "base_uri": "https://localhost:8080/"
        },
        "id": "xH5aYlV_JGP8",
        "outputId": "1bb9f1ef-d3e9-4261-9759-e15b7060a2da"
      },
      "outputs": [
        {
          "data": {
            "text/plain": [
              "0.6170931536618904"
            ]
          },
          "execution_count": 48,
          "metadata": {},
          "output_type": "execute_result"
        }
      ],
      "source": [
        "para = study.best_params\n",
        "\n",
        "model = LGBMClassifier(\n",
        "        random_state=42,\n",
        "        n_jobs=-1,\n",
        "        ** para\n",
        "    )\n",
        "\n",
        "cross_val_score(model, X_train, y_train, cv=5, scoring = 'f1', n_jobs=-1).mean()"
      ]
    },
    {
      "cell_type": "code",
      "execution_count": null,
      "metadata": {
        "colab": {
          "base_uri": "https://localhost:8080/",
          "height": 602
        },
        "id": "G4QFPitcJGSN",
        "outputId": "2df3f60f-1097-4418-85a2-c64baf097ec1"
      },
      "outputs": [
        {
          "ename": "ImportError",
          "evalue": "ignored",
          "output_type": "error",
          "traceback": [
            "\u001b[0;31m---------------------------------------------------------------------------\u001b[0m",
            "\u001b[0;31mModuleNotFoundError\u001b[0m                       Traceback (most recent call last)",
            "\u001b[0;32m/usr/local/lib/python3.7/dist-packages/optuna/integration/skopt.py\u001b[0m in \u001b[0;36m<module>\u001b[0;34m()\u001b[0m\n\u001b[1;32m     24\u001b[0m \u001b[0;32mwith\u001b[0m \u001b[0mtry_import\u001b[0m\u001b[0;34m(\u001b[0m\u001b[0;34m)\u001b[0m \u001b[0;32mas\u001b[0m \u001b[0m_imports\u001b[0m\u001b[0;34m:\u001b[0m\u001b[0;34m\u001b[0m\u001b[0;34m\u001b[0m\u001b[0m\n\u001b[0;32m---> 25\u001b[0;31m     \u001b[0;32mimport\u001b[0m \u001b[0mskopt\u001b[0m\u001b[0;34m\u001b[0m\u001b[0;34m\u001b[0m\u001b[0m\n\u001b[0m\u001b[1;32m     26\u001b[0m     \u001b[0;32mfrom\u001b[0m \u001b[0mskopt\u001b[0m\u001b[0;34m.\u001b[0m\u001b[0mspace\u001b[0m \u001b[0;32mimport\u001b[0m \u001b[0mspace\u001b[0m\u001b[0;34m\u001b[0m\u001b[0;34m\u001b[0m\u001b[0m\n",
            "\u001b[0;31mModuleNotFoundError\u001b[0m: No module named 'skopt'",
            "\nThe above exception was the direct cause of the following exception:\n",
            "\u001b[0;31mImportError\u001b[0m                               Traceback (most recent call last)",
            "\u001b[0;32m<ipython-input-49-4a1de202a4dc>\u001b[0m in \u001b[0;36m<module>\u001b[0;34m()\u001b[0m\n\u001b[1;32m      1\u001b[0m \u001b[0;32mfrom\u001b[0m \u001b[0moptuna\u001b[0m\u001b[0;34m.\u001b[0m\u001b[0mintegration\u001b[0m \u001b[0;32mimport\u001b[0m \u001b[0mSkoptSampler\u001b[0m\u001b[0;34m\u001b[0m\u001b[0;34m\u001b[0m\u001b[0m\n\u001b[1;32m      2\u001b[0m \u001b[0;34m\u001b[0m\u001b[0m\n\u001b[0;32m----> 3\u001b[0;31m \u001b[0mstudy\u001b[0m \u001b[0;34m=\u001b[0m \u001b[0moptuna\u001b[0m\u001b[0;34m.\u001b[0m\u001b[0mcreate_study\u001b[0m\u001b[0;34m(\u001b[0m\u001b[0mdirection\u001b[0m\u001b[0;34m=\u001b[0m\u001b[0;34m\"maximize\"\u001b[0m\u001b[0;34m,\u001b[0m \u001b[0msampler\u001b[0m\u001b[0;34m=\u001b[0m\u001b[0mSkoptSampler\u001b[0m\u001b[0;34m(\u001b[0m\u001b[0;34m)\u001b[0m\u001b[0;34m)\u001b[0m\u001b[0;34m\u001b[0m\u001b[0;34m\u001b[0m\u001b[0m\n\u001b[0m\u001b[1;32m      4\u001b[0m \u001b[0mstudy\u001b[0m\u001b[0;34m.\u001b[0m\u001b[0moptimize\u001b[0m\u001b[0;34m(\u001b[0m\u001b[0mrun\u001b[0m\u001b[0;34m,\u001b[0m \u001b[0mn_trials\u001b[0m\u001b[0;34m=\u001b[0m\u001b[0;36m20\u001b[0m\u001b[0;34m)\u001b[0m\u001b[0;34m\u001b[0m\u001b[0;34m\u001b[0m\u001b[0m\n",
            "\u001b[0;32m/usr/local/lib/python3.7/dist-packages/optuna/integration/skopt.py\u001b[0m in \u001b[0;36m__init__\u001b[0;34m(self, independent_sampler, warn_independent_sampling, skopt_kwargs, n_startup_trials, consider_pruned_trials)\u001b[0m\n\u001b[1;32m    111\u001b[0m     ) -> None:\n\u001b[1;32m    112\u001b[0m \u001b[0;34m\u001b[0m\u001b[0m\n\u001b[0;32m--> 113\u001b[0;31m         \u001b[0m_imports\u001b[0m\u001b[0;34m.\u001b[0m\u001b[0mcheck\u001b[0m\u001b[0;34m(\u001b[0m\u001b[0;34m)\u001b[0m\u001b[0;34m\u001b[0m\u001b[0;34m\u001b[0m\u001b[0m\n\u001b[0m\u001b[1;32m    114\u001b[0m \u001b[0;34m\u001b[0m\u001b[0m\n\u001b[1;32m    115\u001b[0m         \u001b[0mself\u001b[0m\u001b[0;34m.\u001b[0m\u001b[0m_skopt_kwargs\u001b[0m \u001b[0;34m=\u001b[0m \u001b[0mskopt_kwargs\u001b[0m \u001b[0;32mor\u001b[0m \u001b[0;34m{\u001b[0m\u001b[0;34m}\u001b[0m\u001b[0;34m\u001b[0m\u001b[0;34m\u001b[0m\u001b[0m\n",
            "\u001b[0;32m/usr/local/lib/python3.7/dist-packages/optuna/_imports.py\u001b[0m in \u001b[0;36mcheck\u001b[0;34m(self)\u001b[0m\n\u001b[1;32m     84\u001b[0m         \u001b[0;32mif\u001b[0m \u001b[0mself\u001b[0m\u001b[0;34m.\u001b[0m\u001b[0m_deferred\u001b[0m \u001b[0;32mis\u001b[0m \u001b[0;32mnot\u001b[0m \u001b[0;32mNone\u001b[0m\u001b[0;34m:\u001b[0m\u001b[0;34m\u001b[0m\u001b[0;34m\u001b[0m\u001b[0m\n\u001b[1;32m     85\u001b[0m             \u001b[0mexc_value\u001b[0m\u001b[0;34m,\u001b[0m \u001b[0mmessage\u001b[0m \u001b[0;34m=\u001b[0m \u001b[0mself\u001b[0m\u001b[0;34m.\u001b[0m\u001b[0m_deferred\u001b[0m\u001b[0;34m\u001b[0m\u001b[0;34m\u001b[0m\u001b[0m\n\u001b[0;32m---> 86\u001b[0;31m             \u001b[0;32mraise\u001b[0m \u001b[0mImportError\u001b[0m\u001b[0;34m(\u001b[0m\u001b[0mmessage\u001b[0m\u001b[0;34m)\u001b[0m \u001b[0;32mfrom\u001b[0m \u001b[0mexc_value\u001b[0m\u001b[0;34m\u001b[0m\u001b[0;34m\u001b[0m\u001b[0m\n\u001b[0m\u001b[1;32m     87\u001b[0m \u001b[0;34m\u001b[0m\u001b[0m\n\u001b[1;32m     88\u001b[0m \u001b[0;34m\u001b[0m\u001b[0m\n",
            "\u001b[0;31mImportError\u001b[0m: Tried to import 'skopt' but failed. Please make sure that the package is installed correctly to use this feature. Actual error: No module named 'skopt'.",
            "",
            "\u001b[0;31m---------------------------------------------------------------------------\u001b[0;32m\nNOTE: If your import is failing due to a missing package, you can\nmanually install dependencies using either !pip or !apt.\n\nTo view examples of installing some common dependencies, click the\n\"Open Examples\" button below.\n\u001b[0;31m---------------------------------------------------------------------------\u001b[0m\n"
          ]
        }
      ],
      "source": [
        "from optuna.integration import SkoptSampler\n",
        "\n",
        "study = optuna.create_study(direction=\"maximize\", sampler=SkoptSampler())\n",
        "study.optimize(run, n_trials=20)"
      ]
    },
    {
      "cell_type": "code",
      "execution_count": null,
      "metadata": {
        "id": "nXf4BtRAJGUH"
      },
      "outputs": [],
      "source": [
        "study.best_params"
      ]
    },
    {
      "cell_type": "code",
      "execution_count": null,
      "metadata": {
        "id": "VV270N6mJGWd"
      },
      "outputs": [],
      "source": [
        "para = study.best_params\n",
        "\n",
        "model = LGBMClassifier(\n",
        "        random_state=42,\n",
        "        n_jobs=-1,\n",
        "        ** para\n",
        "    )\n",
        "\n",
        "cross_val_score(model, X_train, y_train, cv=5, scoring = 'f1', n_jobs=-1).mean()"
      ]
    },
    {
      "cell_type": "code",
      "execution_count": null,
      "metadata": {
        "colab": {
          "base_uri": "https://localhost:8080/",
          "height": 602
        },
        "id": "h2B_PJxNFlnE",
        "outputId": "8105b734-bb00-4f15-a6fe-05b870e6c030"
      },
      "outputs": [
        {
          "ename": "ImportError",
          "evalue": "ignored",
          "output_type": "error",
          "traceback": [
            "\u001b[0;31m---------------------------------------------------------------------------\u001b[0m",
            "\u001b[0;31mModuleNotFoundError\u001b[0m                       Traceback (most recent call last)",
            "\u001b[0;32m/usr/local/lib/python3.7/dist-packages/optuna/integration/skopt.py\u001b[0m in \u001b[0;36m<module>\u001b[0;34m()\u001b[0m\n\u001b[1;32m     24\u001b[0m \u001b[0;32mwith\u001b[0m \u001b[0mtry_import\u001b[0m\u001b[0;34m(\u001b[0m\u001b[0;34m)\u001b[0m \u001b[0;32mas\u001b[0m \u001b[0m_imports\u001b[0m\u001b[0;34m:\u001b[0m\u001b[0;34m\u001b[0m\u001b[0;34m\u001b[0m\u001b[0m\n\u001b[0;32m---> 25\u001b[0;31m     \u001b[0;32mimport\u001b[0m \u001b[0mskopt\u001b[0m\u001b[0;34m\u001b[0m\u001b[0;34m\u001b[0m\u001b[0m\n\u001b[0m\u001b[1;32m     26\u001b[0m     \u001b[0;32mfrom\u001b[0m \u001b[0mskopt\u001b[0m\u001b[0;34m.\u001b[0m\u001b[0mspace\u001b[0m \u001b[0;32mimport\u001b[0m \u001b[0mspace\u001b[0m\u001b[0;34m\u001b[0m\u001b[0;34m\u001b[0m\u001b[0m\n",
            "\u001b[0;31mModuleNotFoundError\u001b[0m: No module named 'skopt'",
            "\nThe above exception was the direct cause of the following exception:\n",
            "\u001b[0;31mImportError\u001b[0m                               Traceback (most recent call last)",
            "\u001b[0;32m<ipython-input-14-50472978644f>\u001b[0m in \u001b[0;36m<module>\u001b[0;34m()\u001b[0m\n\u001b[1;32m      1\u001b[0m \u001b[0;32mfrom\u001b[0m \u001b[0moptuna\u001b[0m\u001b[0;34m.\u001b[0m\u001b[0mintegration\u001b[0m \u001b[0;32mimport\u001b[0m \u001b[0mSkoptSampler\u001b[0m\u001b[0;34m\u001b[0m\u001b[0;34m\u001b[0m\u001b[0m\n\u001b[1;32m      2\u001b[0m \u001b[0;34m\u001b[0m\u001b[0m\n\u001b[0;32m----> 3\u001b[0;31m \u001b[0msampler\u001b[0m\u001b[0;34m=\u001b[0m\u001b[0mSkoptSampler\u001b[0m\u001b[0;34m(\u001b[0m\u001b[0mskopt_kwargs\u001b[0m\u001b[0;34m=\u001b[0m\u001b[0;34m{\u001b[0m\u001b[0;34m'base_estimator'\u001b[0m\u001b[0;34m:\u001b[0m\u001b[0;34m'RF'\u001b[0m\u001b[0;34m,\u001b[0m \u001b[0;34m'base_estimator'\u001b[0m\u001b[0;34m:\u001b[0m\u001b[0;34m'ET'\u001b[0m\u001b[0;34m,\u001b[0m \u001b[0;34m'n_random_starts'\u001b[0m\u001b[0;34m:\u001b[0m \u001b[0;36m0\u001b[0m\u001b[0;34m,\u001b[0m \u001b[0;34m'acq_func'\u001b[0m\u001b[0;34m:\u001b[0m\u001b[0;34m'EI'\u001b[0m\u001b[0;34m,\u001b[0m \u001b[0;34m'acq_func_kwargs'\u001b[0m\u001b[0;34m:\u001b[0m \u001b[0;34m{\u001b[0m\u001b[0;34m'xi'\u001b[0m\u001b[0;34m:\u001b[0m\u001b[0;36m0.01\u001b[0m\u001b[0;34m}\u001b[0m\u001b[0;34m}\u001b[0m\u001b[0;34m)\u001b[0m\u001b[0;34m\u001b[0m\u001b[0;34m\u001b[0m\u001b[0m\n\u001b[0m\u001b[1;32m      4\u001b[0m \u001b[0;34m\u001b[0m\u001b[0m\n\u001b[1;32m      5\u001b[0m \u001b[0mstudy\u001b[0m \u001b[0;34m=\u001b[0m \u001b[0moptuna\u001b[0m\u001b[0;34m.\u001b[0m\u001b[0mcreate_study\u001b[0m\u001b[0;34m(\u001b[0m\u001b[0mdirection\u001b[0m\u001b[0;34m=\u001b[0m\u001b[0;34m\"maximize\"\u001b[0m\u001b[0;34m,\u001b[0m \u001b[0msampler\u001b[0m\u001b[0;34m=\u001b[0m\u001b[0msampler\u001b[0m\u001b[0;34m)\u001b[0m\u001b[0;34m\u001b[0m\u001b[0;34m\u001b[0m\u001b[0m\n",
            "\u001b[0;32m/usr/local/lib/python3.7/dist-packages/optuna/integration/skopt.py\u001b[0m in \u001b[0;36m__init__\u001b[0;34m(self, independent_sampler, warn_independent_sampling, skopt_kwargs, n_startup_trials, consider_pruned_trials)\u001b[0m\n\u001b[1;32m    111\u001b[0m     ) -> None:\n\u001b[1;32m    112\u001b[0m \u001b[0;34m\u001b[0m\u001b[0m\n\u001b[0;32m--> 113\u001b[0;31m         \u001b[0m_imports\u001b[0m\u001b[0;34m.\u001b[0m\u001b[0mcheck\u001b[0m\u001b[0;34m(\u001b[0m\u001b[0;34m)\u001b[0m\u001b[0;34m\u001b[0m\u001b[0;34m\u001b[0m\u001b[0m\n\u001b[0m\u001b[1;32m    114\u001b[0m \u001b[0;34m\u001b[0m\u001b[0m\n\u001b[1;32m    115\u001b[0m         \u001b[0mself\u001b[0m\u001b[0;34m.\u001b[0m\u001b[0m_skopt_kwargs\u001b[0m \u001b[0;34m=\u001b[0m \u001b[0mskopt_kwargs\u001b[0m \u001b[0;32mor\u001b[0m \u001b[0;34m{\u001b[0m\u001b[0;34m}\u001b[0m\u001b[0;34m\u001b[0m\u001b[0;34m\u001b[0m\u001b[0m\n",
            "\u001b[0;32m/usr/local/lib/python3.7/dist-packages/optuna/_imports.py\u001b[0m in \u001b[0;36mcheck\u001b[0;34m(self)\u001b[0m\n\u001b[1;32m     84\u001b[0m         \u001b[0;32mif\u001b[0m \u001b[0mself\u001b[0m\u001b[0;34m.\u001b[0m\u001b[0m_deferred\u001b[0m \u001b[0;32mis\u001b[0m \u001b[0;32mnot\u001b[0m \u001b[0;32mNone\u001b[0m\u001b[0;34m:\u001b[0m\u001b[0;34m\u001b[0m\u001b[0;34m\u001b[0m\u001b[0m\n\u001b[1;32m     85\u001b[0m             \u001b[0mexc_value\u001b[0m\u001b[0;34m,\u001b[0m \u001b[0mmessage\u001b[0m \u001b[0;34m=\u001b[0m \u001b[0mself\u001b[0m\u001b[0;34m.\u001b[0m\u001b[0m_deferred\u001b[0m\u001b[0;34m\u001b[0m\u001b[0;34m\u001b[0m\u001b[0m\n\u001b[0;32m---> 86\u001b[0;31m             \u001b[0;32mraise\u001b[0m \u001b[0mImportError\u001b[0m\u001b[0;34m(\u001b[0m\u001b[0mmessage\u001b[0m\u001b[0;34m)\u001b[0m \u001b[0;32mfrom\u001b[0m \u001b[0mexc_value\u001b[0m\u001b[0;34m\u001b[0m\u001b[0;34m\u001b[0m\u001b[0m\n\u001b[0m\u001b[1;32m     87\u001b[0m \u001b[0;34m\u001b[0m\u001b[0m\n\u001b[1;32m     88\u001b[0m \u001b[0;34m\u001b[0m\u001b[0m\n",
            "\u001b[0;31mImportError\u001b[0m: Tried to import 'skopt' but failed. Please make sure that the package is installed correctly to use this feature. Actual error: No module named 'skopt'.",
            "",
            "\u001b[0;31m---------------------------------------------------------------------------\u001b[0;32m\nNOTE: If your import is failing due to a missing package, you can\nmanually install dependencies using either !pip or !apt.\n\nTo view examples of installing some common dependencies, click the\n\"Open Examples\" button below.\n\u001b[0;31m---------------------------------------------------------------------------\u001b[0m\n"
          ]
        }
      ],
      "source": [
        "from optuna.integration import SkoptSampler\n",
        "\n",
        "sampler=SkoptSampler(skopt_kwargs={'base_estimator':'RF', 'base_estimator':'ET', 'n_random_starts': 0, 'acq_func':'EI', 'acq_func_kwargs': {'xi':0.01}})\n",
        "\n",
        "study = optuna.create_study(direction=\"maximize\", sampler=sampler)\n",
        "study.optimize(run, n_trials=20)"
      ]
    },
    {
      "cell_type": "code",
      "execution_count": null,
      "metadata": {
        "id": "4tOjA44JJ0Vx"
      },
      "outputs": [],
      "source": [
        "study.best_params"
      ]
    },
    {
      "cell_type": "code",
      "execution_count": null,
      "metadata": {
        "id": "GhVOee92J0YB"
      },
      "outputs": [],
      "source": [
        "para = study.best_params\n",
        "\n",
        "model = LGBMClassifier(\n",
        "        random_state=42,\n",
        "        n_jobs=-1,\n",
        "        ** para\n",
        "    )\n",
        "\n",
        "cross_val_score(model, X_train, y_train, cv=5, scoring = 'f1', n_jobs=-1).mean()"
      ]
    },
    {
      "cell_type": "code",
      "execution_count": null,
      "metadata": {
        "id": "oLt9xXYzK9h0"
      },
      "outputs": [],
      "source": [
        ""
      ]
    },
    {
      "cell_type": "code",
      "execution_count": null,
      "metadata": {
        "id": "C0mU4Fh6K9kJ"
      },
      "outputs": [],
      "source": [
        ""
      ]
    }
  ],
  "metadata": {
    "accelerator": "GPU",
    "colab": {
      "collapsed_sections": [
        "glbuyNEBFYTh",
        "WdRgshmWytQG",
        "Vz_mJT6nR_oI",
        "Onr5mXQ11Xdz",
        "YutJ8zD91aXk",
        "H8ZfRkRe10AV",
        "kuYz8PxSSFt9",
        "O-ghxuga6An6",
        "9OcCr6f46DHW",
        "zWIJK4NpSHsy",
        "DK5treqKfNji",
        "16mdSPcQFKXZ"
      ],
      "name": "dacon jobcare",
      "provenance": []
    },
    "kernelspec": {
      "display_name": "Python 3",
      "name": "python3"
    }
  },
  "nbformat": 4,
  "nbformat_minor": 0
}
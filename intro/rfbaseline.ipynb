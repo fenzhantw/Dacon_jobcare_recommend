{
  "nbformat": 4,
  "nbformat_minor": 0,
  "metadata": {
    "colab": {
      "name": "rfbaseline.ipynb",
      "provenance": [],
      "mount_file_id": "1ax3bKCuaZdatU6PoBx5B307g110aXt4-",
      "authorship_tag": "ABX9TyMqipFSFuQDnKZj2TqJSwA6",
      "include_colab_link": true
    },
    "kernelspec": {
      "name": "python3",
      "display_name": "Python 3"
    },
    "language_info": {
      "name": "python"
    }
  },
  "cells": [
    {
      "cell_type": "markdown",
      "metadata": {
        "id": "view-in-github",
        "colab_type": "text"
      },
      "source": [
        "<a href=\"https://colab.research.google.com/github/fenzhantw/dacon_jobcare/blob/main/intro/rfbaseline.ipynb\" target=\"_parent\"><img src=\"https://colab.research.google.com/assets/colab-badge.svg\" alt=\"Open In Colab\"/></a>"
      ]
    },
    {
      "cell_type": "code",
      "execution_count": 4,
      "metadata": {
        "colab": {
          "base_uri": "https://localhost:8080/"
        },
        "id": "paPf3BB8V4pq",
        "outputId": "4001ded0-8312-40dc-aad1-84f19600dc09"
      },
      "outputs": [
        {
          "output_type": "execute_result",
          "data": {
            "text/plain": [
              "['sample_submission.csv',\n",
              " 'test.csv',\n",
              " 'train.csv',\n",
              " '참가자 제공 레이아웃.pdf',\n",
              " '속성_D_코드.csv',\n",
              " '속성_H_코드.csv',\n",
              " '속성_L_코드.csv',\n",
              " 'prediction.csv',\n",
              " 'submission_atml.csv']"
            ]
          },
          "metadata": {},
          "execution_count": 4
        }
      ],
      "source": [
        "path = '/content/drive/MyDrive/Colab Notebooks/job_care/'\n",
        "import os\n",
        "os.listdir(path)"
      ]
    },
    {
      "cell_type": "code",
      "source": [
        "from sklearn.preprocessing import LabelEncoder\n",
        "from tqdm import tqdm\n",
        "import numpy as np\n",
        "from sklearn.ensemble import RandomForestClassifier\n",
        "from sklearn.metrics import f1_score\n",
        "\n",
        "import pandas as pd\n",
        "import warnings\n",
        "warnings.filterwarnings(action='ignore')"
      ],
      "metadata": {
        "id": "xMbkK0E0V_u-"
      },
      "execution_count": 9,
      "outputs": []
    },
    {
      "cell_type": "code",
      "source": [
        "test = pd.read_csv(path+'test.csv')\n",
        "train = pd.read_csv(path+'train.csv')"
      ],
      "metadata": {
        "id": "qhL94ttVV_2E"
      },
      "execution_count": 8,
      "outputs": []
    },
    {
      "cell_type": "code",
      "source": [
        "train = train.drop(['id', 'contents_open_dt'], axis=1) \n",
        "\n",
        "test = test.drop(['id', 'contents_open_dt'], axis=1)"
      ],
      "metadata": {
        "id": "Np9CB5CsV_4p"
      },
      "execution_count": 10,
      "outputs": []
    },
    {
      "cell_type": "code",
      "source": [
        "model = RandomForestClassifier(n_estimators=300, max_depth=60, n_jobs=-1)\n",
        "\n",
        "x = train.iloc[:, :-1]\n",
        "y = train.iloc[:, -1]\n",
        "\n",
        "model.fit(x,y)"
      ],
      "metadata": {
        "colab": {
          "base_uri": "https://localhost:8080/"
        },
        "id": "0yx6EOlMV_7n",
        "outputId": "781d8d11-1436-40c0-f532-79b30e20fd45"
      },
      "execution_count": 11,
      "outputs": [
        {
          "output_type": "execute_result",
          "data": {
            "text/plain": [
              "RandomForestClassifier(max_depth=60, n_estimators=300, n_jobs=-1)"
            ]
          },
          "metadata": {},
          "execution_count": 11
        }
      ]
    },
    {
      "cell_type": "code",
      "source": [
        "preds = model.predict(test)"
      ],
      "metadata": {
        "id": "3EU_Kx8VWphI"
      },
      "execution_count": 12,
      "outputs": []
    },
    {
      "cell_type": "code",
      "source": [
        "preds"
      ],
      "metadata": {
        "colab": {
          "base_uri": "https://localhost:8080/"
        },
        "id": "YrzEs4o5Z82r",
        "outputId": "f892cded-d2de-465c-9d62-fca5bef6032a"
      },
      "execution_count": 18,
      "outputs": [
        {
          "output_type": "execute_result",
          "data": {
            "text/plain": [
              "array([1, 0, 0, ..., 1, 1, 0])"
            ]
          },
          "metadata": {},
          "execution_count": 18
        }
      ]
    },
    {
      "cell_type": "code",
      "source": [
        "submission = pd.read_csv(path+'sample_submission.csv')\n",
        "submission['target'] = preds\n",
        "\n",
        "submission.to_csv('submission_rf.csv', index=False)"
      ],
      "metadata": {
        "id": "xJ40_cMUWrqn"
      },
      "execution_count": 16,
      "outputs": []
    },
    {
      "cell_type": "code",
      "source": [
        ""
      ],
      "metadata": {
        "id": "jZVq1oa6Zhlf"
      },
      "execution_count": null,
      "outputs": []
    },
    {
      "cell_type": "code",
      "source": [
        ""
      ],
      "metadata": {
        "id": "C9xF7O62W_gr"
      },
      "execution_count": null,
      "outputs": []
    }
  ]
}
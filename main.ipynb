{
  "cells": [
    {
      "cell_type": "markdown",
      "metadata": {
        "id": "view-in-github",
        "colab_type": "text"
      },
      "source": [
        "<a href=\"https://colab.research.google.com/github/fenzhantw/Dacon_jobcare_recommend/blob/main/main.ipynb\" target=\"_parent\"><img src=\"https://colab.research.google.com/assets/colab-badge.svg\" alt=\"Open In Colab\"/></a>"
      ]
    },
    {
      "cell_type": "markdown",
      "metadata": {
        "id": "QAyUDGOfE8Xf"
      },
      "source": [
        "## 모듈 불러오기"
      ]
    },
    {
      "cell_type": "code",
      "execution_count": 1,
      "metadata": {
        "colab": {
          "base_uri": "https://localhost:8080/"
        },
        "id": "OLX11KrabPJB",
        "outputId": "623d2f84-82a5-47eb-98a2-76dc8a59e3f6"
      },
      "outputs": [
        {
          "output_type": "stream",
          "name": "stdout",
          "text": [
            "Collecting catboost\n",
            "  Downloading catboost-1.0.4-cp37-none-manylinux1_x86_64.whl (76.1 MB)\n",
            "\u001b[K     |████████████████████████████████| 76.1 MB 3.0 MB/s \n",
            "\u001b[?25hRequirement already satisfied: graphviz in /usr/local/lib/python3.7/dist-packages (from catboost) (0.10.1)\n",
            "Requirement already satisfied: matplotlib in /usr/local/lib/python3.7/dist-packages (from catboost) (3.2.2)\n",
            "Requirement already satisfied: pandas>=0.24.0 in /usr/local/lib/python3.7/dist-packages (from catboost) (1.1.5)\n",
            "Requirement already satisfied: plotly in /usr/local/lib/python3.7/dist-packages (from catboost) (5.5.0)\n",
            "Requirement already satisfied: numpy>=1.16.0 in /usr/local/lib/python3.7/dist-packages (from catboost) (1.19.5)\n",
            "Requirement already satisfied: scipy in /usr/local/lib/python3.7/dist-packages (from catboost) (1.4.1)\n",
            "Requirement already satisfied: six in /usr/local/lib/python3.7/dist-packages (from catboost) (1.15.0)\n",
            "Requirement already satisfied: python-dateutil>=2.7.3 in /usr/local/lib/python3.7/dist-packages (from pandas>=0.24.0->catboost) (2.8.2)\n",
            "Requirement already satisfied: pytz>=2017.2 in /usr/local/lib/python3.7/dist-packages (from pandas>=0.24.0->catboost) (2018.9)\n",
            "Requirement already satisfied: kiwisolver>=1.0.1 in /usr/local/lib/python3.7/dist-packages (from matplotlib->catboost) (1.3.2)\n",
            "Requirement already satisfied: cycler>=0.10 in /usr/local/lib/python3.7/dist-packages (from matplotlib->catboost) (0.11.0)\n",
            "Requirement already satisfied: pyparsing!=2.0.4,!=2.1.2,!=2.1.6,>=2.0.1 in /usr/local/lib/python3.7/dist-packages (from matplotlib->catboost) (3.0.7)\n",
            "Requirement already satisfied: tenacity>=6.2.0 in /usr/local/lib/python3.7/dist-packages (from plotly->catboost) (8.0.1)\n",
            "Installing collected packages: catboost\n",
            "Successfully installed catboost-1.0.4\n"
          ]
        }
      ],
      "source": [
        "!pip install catboost"
      ]
    },
    {
      "cell_type": "code",
      "execution_count": 2,
      "metadata": {
        "colab": {
          "base_uri": "https://localhost:8080/"
        },
        "id": "ildDNlVzoHpA",
        "outputId": "63eebcf7-8bf4-447b-e758-61891d15c561"
      },
      "outputs": [
        {
          "output_type": "stream",
          "name": "stdout",
          "text": [
            "Collecting kmodes\n",
            "  Downloading kmodes-0.11.1-py2.py3-none-any.whl (19 kB)\n",
            "Requirement already satisfied: scipy>=0.13.3 in /usr/local/lib/python3.7/dist-packages (from kmodes) (1.4.1)\n",
            "Requirement already satisfied: joblib>=0.11 in /usr/local/lib/python3.7/dist-packages (from kmodes) (1.1.0)\n",
            "Requirement already satisfied: scikit-learn>=0.22.0 in /usr/local/lib/python3.7/dist-packages (from kmodes) (1.0.2)\n",
            "Requirement already satisfied: numpy>=1.10.4 in /usr/local/lib/python3.7/dist-packages (from kmodes) (1.19.5)\n",
            "Requirement already satisfied: threadpoolctl>=2.0.0 in /usr/local/lib/python3.7/dist-packages (from scikit-learn>=0.22.0->kmodes) (3.0.0)\n",
            "Installing collected packages: kmodes\n",
            "Successfully installed kmodes-0.11.1\n"
          ]
        }
      ],
      "source": [
        "!pip install kmodes"
      ]
    },
    {
      "cell_type": "code",
      "execution_count": 3,
      "metadata": {
        "colab": {
          "base_uri": "https://localhost:8080/"
        },
        "id": "ZODhz7XDq7SA",
        "outputId": "717cbef6-99e7-4958-835e-6b2436bdc782"
      },
      "outputs": [
        {
          "output_type": "stream",
          "name": "stdout",
          "text": [
            "Collecting kprototypes\n",
            "  Downloading kprototypes-0.1.1-py3-none-any.whl (3.5 kB)\n",
            "Requirement already satisfied: numpy in /usr/local/lib/python3.7/dist-packages (from kprototypes) (1.19.5)\n",
            "Installing collected packages: kprototypes\n",
            "Successfully installed kprototypes-0.1.1\n"
          ]
        }
      ],
      "source": [
        "!pip install kprototypes"
      ]
    },
    {
      "cell_type": "code",
      "execution_count": 4,
      "metadata": {
        "id": "59XUhxW0Ymle"
      },
      "outputs": [],
      "source": [
        "import numpy as np\n",
        "import pandas as pd\n",
        "import seaborn as sns\n",
        "import matplotlib.pyplot as plt\n",
        "import warnings, random\n",
        "warnings.filterwarnings(action='ignore')\n",
        "\n",
        "from sklearn.preprocessing import LabelEncoder, OneHotEncoder\n",
        "from sklearn.model_selection import StratifiedKFold, KFold, train_test_split\n",
        "from sklearn.metrics import f1_score \n",
        "from sklearn.feature_extraction import FeatureHasher\n",
        "\n",
        "from sklearn.cluster import KMeans\n",
        "from lightgbm import LGBMClassifier \n",
        "from catboost import Pool,CatBoostClassifier\n",
        "from kmodes.kprototypes import KPrototypes\n",
        "from kmodes.kmodes import KModes"
      ]
    },
    {
      "cell_type": "markdown",
      "metadata": {
        "id": "TgoBV3cv83hn"
      },
      "source": [
        "##함수화 작업"
      ]
    },
    {
      "cell_type": "code",
      "execution_count": null,
      "metadata": {
        "colab": {
          "base_uri": "https://localhost:8080/"
        },
        "id": "mTGup3iKas0L",
        "outputId": "ec031e8f-23dc-4698-8b4e-90fe31748ab0"
      },
      "outputs": [
        {
          "name": "stdout",
          "output_type": "stream",
          "text": [
            "Drive already mounted at /content/drive/; to attempt to forcibly remount, call drive.mount(\"/content/drive/\", force_remount=True).\n"
          ]
        }
      ],
      "source": [
        "from google.colab import drive\n",
        "drive.mount('/content/drive/')\n",
        "path = '/content/drive/MyDrive/Colab Notebooks/job_care/'\n",
        "\n",
        "\n",
        "#분류 추가\n",
        "def add_code(df, d_code, h_code, l_code):\n",
        "    df = df.copy()   \n",
        "\n",
        "    # D Code\n",
        "    df['person_prefer_d_1_n'] = df['person_prefer_d_1'].apply(lambda x: d_code[x]['속성 D 세분류코드'])\n",
        "    df['person_prefer_d_1_s'] = df['person_prefer_d_1'].apply(lambda x: d_code[x]['속성 D 소분류코드'])\n",
        "    df['person_prefer_d_1_m'] = df['person_prefer_d_1'].apply(lambda x: d_code[x]['속성 D 중분류코드'])\n",
        "    df['person_prefer_d_1_l'] = df['person_prefer_d_1'].apply(lambda x: d_code[x]['속성 D 대분류코드'])\n",
        "\n",
        "    df['person_prefer_d_2_n'] = df['person_prefer_d_2'].apply(lambda x: d_code[x]['속성 D 세분류코드'])\n",
        "    df['person_prefer_d_2_s'] = df['person_prefer_d_2'].apply(lambda x: d_code[x]['속성 D 소분류코드'])\n",
        "    df['person_prefer_d_2_m'] = df['person_prefer_d_2'].apply(lambda x: d_code[x]['속성 D 중분류코드'])\n",
        "    df['person_prefer_d_2_l'] = df['person_prefer_d_2'].apply(lambda x: d_code[x]['속성 D 대분류코드'])\n",
        "\n",
        "    df['person_prefer_d_3_n'] = df['person_prefer_d_3'].apply(lambda x: d_code[x]['속성 D 세분류코드'])\n",
        "    df['person_prefer_d_3_s'] = df['person_prefer_d_3'].apply(lambda x: d_code[x]['속성 D 소분류코드'])\n",
        "    df['person_prefer_d_3_m'] = df['person_prefer_d_3'].apply(lambda x: d_code[x]['속성 D 중분류코드'])\n",
        "    df['person_prefer_d_3_l'] = df['person_prefer_d_3'].apply(lambda x: d_code[x]['속성 D 대분류코드'])\n",
        "\n",
        "    df['contents_attribute_d_n'] = df['contents_attribute_d'].apply(lambda x: d_code[x]['속성 D 세분류코드'])\n",
        "    df['contents_attribute_d_s'] = df['contents_attribute_d'].apply(lambda x: d_code[x]['속성 D 소분류코드'])\n",
        "    df['contents_attribute_d_m'] = df['contents_attribute_d'].apply(lambda x: d_code[x]['속성 D 중분류코드'])\n",
        "    df['contents_attribute_d_l'] = df['contents_attribute_d'].apply(lambda x: d_code[x]['속성 D 대분류코드'])\n",
        "\n",
        "    # H Code\n",
        "    df['person_prefer_h_1_m'] = df['person_prefer_h_1'].apply(lambda x: h_code[x]['속성 H 중분류코드'])\n",
        "    df['person_prefer_h_2_m'] = df['person_prefer_h_2'].apply(lambda x: h_code[x]['속성 H 중분류코드'])\n",
        "    df['person_prefer_h_3_m'] = df['person_prefer_h_3'].apply(lambda x: h_code[x]['속성 H 중분류코드'])\n",
        "    df['contents_attribute_h_m'] = df['contents_attribute_h'].apply(lambda x: h_code[x]['속성 H 중분류코드'])\n",
        "\n",
        "    df['person_prefer_h_1_l'] = df['person_prefer_h_1'].apply(lambda x: h_code[x]['속성 H 대분류코드'])\n",
        "    df['person_prefer_h_2_l'] = df['person_prefer_h_2'].apply(lambda x: h_code[x]['속성 H 대분류코드'])\n",
        "    df['person_prefer_h_3_l'] = df['person_prefer_h_3'].apply(lambda x: h_code[x]['속성 H 대분류코드'])\n",
        "    df['contents_attribute_h_l'] = df['contents_attribute_h'].apply(lambda x: h_code[x]['속성 H 대분류코드'])\n",
        "\n",
        "    # L Code\n",
        "    df['contents_attribute_l_n'] = df['contents_attribute_l'].apply(lambda x: l_code[x]['속성 L 세분류코드'])\n",
        "    df['contents_attribute_l_s'] = df['contents_attribute_l'].apply(lambda x: l_code[x]['속성 L 소분류코드'])\n",
        "    df['contents_attribute_l_m'] = df['contents_attribute_l'].apply(lambda x: l_code[x]['속성 L 중분류코드'])\n",
        "    df['contents_attribute_l_l'] = df['contents_attribute_l'].apply(lambda x: l_code[x]['속성 L 대분류코드'])\n",
        "    return df\n",
        " \n",
        "\n",
        "def drop_features(df):\n",
        "  df = df.drop(['id','person_rn','contents_rn','person_prefer_f','person_prefer_g'],axis=1)\n",
        "  return df\n",
        "\n",
        "def get_date(df):\n",
        "  for i in range(2):\n",
        "    df[i].contents_open_dt = pd.to_datetime(df[i].contents_open_dt)\n",
        "\n",
        "    df[i]['month'] = df[i].contents_open_dt.dt.month\n",
        "    df[i]['day'] = df[i].contents_open_dt.dt.day\n",
        "    df[i]['week'] = df[i].contents_open_dt.dt.isocalendar().week\n",
        "    df[i]['dayofweek'] = df[i].contents_open_dt.dt.dayofweek\n",
        "    df[i]['hour'] = df[i].contents_open_dt.dt.hour\n",
        "  #  df[i]['minute'] = df[i].contents_open_dt.dt.minute\n",
        "\n",
        "    df[i].drop(['id', 'contents_open_dt'], axis=1, inplace=True)\n",
        "\n",
        "def show_hist_by_target(df,columns):\n",
        "  cond_1 = (df['target'] == 1)\n",
        "  cond_0 = (df['target'] == 0)\n",
        "\n",
        "  for column in columns:\n",
        "    fix,axs = plt.subplots(nrows=1,ncols=2,figsize = (12, 4),squeeze=False)\n",
        "    sns.violinplot(x='target',y=column,data=df,ax=axs[0][0])\n",
        "    sns.distplot(df[cond_0][column],ax=axs[0][1],label='0',color='blue')\n",
        "    sns.distplot(df[cond_1][column],ax=axs[0][1],label='1',color='red')\n",
        "\n",
        "# 10개 이상 카테고리 얻기\n",
        "def get_data_up10(df):\n",
        "  up10_cat = []\n",
        "  columns_names=df.columns.values\n",
        "  for i in columns_names:\n",
        "    if df[i].value_counts().count() >=10:\n",
        "      up10_cat.append(i)\n",
        "\n",
        "  up10_cat.append('target')\n",
        "  up10_cat.remove('contents_open_dt')\n",
        "\n",
        "  df2 = df[up10_cat]\n",
        "  train_target_1 = df[df['target']==1]\n",
        "  train_target_0 = df[df['target']==0]\n",
        "  \n",
        "  return train_target_1,train_target_0,up10_cat\n",
        "\n",
        "# 데이터 비율 차이 구하기\n",
        "def get_data_dict(train_target_1,train_target_0,up10_cat):\n",
        "  list_diff=[]\n",
        "  for i in up10_cat[:-1]:\n",
        "    serise=abs((train_target_1[i].value_counts()/train_target_1[i].shape[0])*100 - (train_target_0[i].value_counts()/train_target_0[i].shape[0])*100)\n",
        "    temp_list=serise[serise>=0.5].index.tolist()\n",
        "    list_diff.append(temp_list)\n",
        "\n",
        "  dict1 = {up10_cat[i]:list_diff[i] for i in range(len(up10_cat[:-1])) if len(list_diff[i])>1 }\n",
        "  return dict1\n",
        "\n",
        "# 데이터 비율의 차이가 0.5보다 크면 1 아니면 0\n",
        "def get_data_1_or_0(train,test,dict1):\n",
        "  for data in [train,test]:\n",
        "    for key,values in dict1.items():\n",
        "      data.loc[:, f\"tar_enc_{key}\"] = 0\n",
        "      for i in values:\n",
        "        con=data[data[key]==i].index\n",
        "        data.loc[con, f\"tar_enc_{key}\"] =1\n",
        "  return train,test\n",
        "\n",
        "# 기존의 0.5이상인 컬럼 값은 들고오고,이하인것만 0으로 된 컬럼 추가\n",
        "def get_data_data_or_0(train,test,dict1):\n",
        "  for data in [train,test]:\n",
        "    for key,values in dict1.items():\n",
        "      data.loc[:, f\"tar_enc_div_{key}\"] = 0\n",
        "      for i in values:\n",
        "        con=data[data[key]==i].index\n",
        "        data.loc[con, f\"tar_enc_div_{key}\"] = i  \n",
        "  return train,test\n",
        "\n",
        "# 10개 이하 카테고리 얻기\n",
        "\n",
        "def get_data_down10(df):\n",
        "  col_name = list(df.columns)\n",
        "  object_nunique = list(map(lambda col: df[col].nunique(), col_name))\n",
        "  d = dict(zip(col_name, object_nunique))\n",
        "  d = pd.DataFrame([col_name, object_nunique]).T\n",
        "  onehot_list = list(d[(d[1]>2)&(d[1]<=10)][0])\n",
        "\n",
        "  return onehot_list\n",
        "\n",
        "# 범주 갯수가 10개 이하인 변수에 대해서 타겟값이 0.5이상이면 1 아니면 0인 변수 추가/ 범주 갯수가 10개 이하인 변수에 대해서 타겟값이 0.55이상이면 1, 0.45~0.55사이면 2, 0.45 이하이면 3인 변수 추가\n",
        "\n",
        "def get_down10_1_or_0(train,test,onehot_list):\n",
        "  for col in onehot_list:\n",
        "    temp_df = []\n",
        "        \n",
        "    # 명목형 변수에서 각 값 별로 타겟값의 평균을 대입\n",
        "    feat = train.groupby(col)[\"target\"].agg(\"mean\")\n",
        "    feat = feat.to_dict()\n",
        "    test.loc[:, f\"tar_enc_{col}\"] = X_test[col].map(feat)\n",
        "    temp_df.append(test)\n",
        "\n",
        "    temp_train_feat = train[col].map(feat)\n",
        "    temp_test_feat = test[col].map(feat)\n",
        "\n",
        "    train.loc[:, f\"tar_enc_{col}\"] = temp_train_feat\n",
        "    test.loc[:, f\"tar_enc_{col}\"] = temp_test_feat\n",
        "    train.drop('target', axis=1, inplace=True)\n",
        "\n",
        "    return train,test,temp_df\n",
        "\n",
        "def div_value_2(temp):\n",
        "    new_value = ''\n",
        "\n",
        "    if temp >=0.5 : new_value = 1\n",
        "    else : new_value = 0\n",
        "    \n",
        "    return new_value\n",
        "\n",
        "\n",
        "def div_value_3(temp):\n",
        "    new_value = ''\n",
        "\n",
        "    if temp >=0.55 : new_value = 1\n",
        "    elif temp <=0.45 : new_value = -1\n",
        "    else : new_value = 0\n",
        "    \n",
        "    return new_value\n",
        "\n",
        "def get_down10_1_or_00(train,X_train,test,onehot_list):\n",
        "    div_value = list(train.iloc[:,X_train.shape[1]:X_train.shape[1]+abs(X_train.shape[1] - train.shape[1])].columns)\n",
        "\n",
        "    for i in range(len(div_value)):\n",
        "      X_train.loc[:, f\"tar_div2_{onehot_list[i]}\"] = train.loc[:,div_value[i]].apply(lambda x : div_value_2(x))\n",
        "      test.loc[:, f\"tar_div2_{onehot_list[i]}\"] = test.loc[:, div_value[i]].apply(lambda x : div_value_2(x))\n",
        "      \n",
        "    for i in range(len(div_value)):\n",
        "      X_train.loc[:, f\"tar_div3_{onehot_list[i]}\"] = train.loc[:, div_value[i]].apply(lambda x : div_value_3(x))\n",
        "      test.loc[:, f\"tar_div3_{onehot_list[i]}\"] = test.loc[:, div_value[i]].apply(lambda x : div_value_3(x))\n",
        "\n",
        "    return X_train,test\n",
        "\n"
      ]
    },
    {
      "cell_type": "code",
      "execution_count": null,
      "metadata": {
        "id": "0n79o67nl1i6"
      },
      "outputs": [],
      "source": [
        "def drop_features(df):\n",
        "  df = df.drop(['id','person_rn','contents_rn','person_prefer_f','person_prefer_g'],axis=1)\n",
        "  return df\n",
        "\n",
        "def get_date(df):\n",
        "  for i in range(2):\n",
        "    df[i].contents_open_dt = pd.to_datetime(df[i].contents_open_dt)\n",
        "\n",
        "    df[i]['month'] = df[i].contents_open_dt.dt.month\n",
        "    df[i]['day'] = df[i].contents_open_dt.dt.day\n",
        "    df[i]['week'] = df[i].contents_open_dt.dt.isocalendar().week\n",
        "    df[i]['dayofweek'] = df[i].contents_open_dt.dt.dayofweek\n",
        "    df[i]['hour'] = df[i].contents_open_dt.dt.hour\n",
        "  #  df[i]['minute'] = df[i].contents_open_dt.dt.minute\n",
        "\n",
        "    df[i].drop(['id', 'contents_open_dt'], axis=1, inplace=True)\n",
        "\n",
        "def show_hist_by_target(df,columns):\n",
        "  cond_1 = (df['target'] == 1)\n",
        "  cond_0 = (df['target'] == 0)\n",
        "\n",
        "  for column in columns:\n",
        "    fix,axs = plt.subplots(nrows=1,ncols=2,figsize = (12, 4),squeeze=False)\n",
        "    sns.violinplot(x='target',y=column,data=df,ax=axs[0][0])\n",
        "    sns.distplot(df[cond_0][column],ax=axs[0][1],label='0',color='blue')\n",
        "    sns.distplot(df[cond_1][column],ax=axs[0][1],label='1',color='red')\n"
      ]
    },
    {
      "cell_type": "code",
      "execution_count": null,
      "metadata": {
        "id": "Z4G53YyTkntQ"
      },
      "outputs": [],
      "source": [
        "  train = pd.read_csv(path + \"train.csv\")\n",
        "  test = pd.read_csv(path + \"test.csv\")\n",
        "  submission = pd.read_csv(path + \"sample_submission.csv\")\n",
        "  d_code = pd.read_csv(path + '속성_D_코드.csv', index_col=0).T.to_dict()\n",
        "  h_code = pd.read_csv(path + '속성_H_코드.csv', index_col=0).T.to_dict()\n",
        "  l_code = pd.read_csv(path + '속성_L_코드.csv', index_col=0).T.to_dict()"
      ]
    },
    {
      "cell_type": "code",
      "execution_count": null,
      "metadata": {
        "id": "aCa3DuHSrk-U"
      },
      "outputs": [],
      "source": [
        "# 10개 이상 카테고리 얻기\n",
        "def get_data_up10(df):\n",
        "  up10_cat = []\n",
        "  columns_names=df.columns.values\n",
        "  for i in columns_names:\n",
        "    if df[i].value_counts().count() >=10:\n",
        "      up10_cat.append(i)\n",
        "\n",
        "  up10_cat.append('target')\n",
        "  up10_cat.remove('contents_open_dt')\n",
        "\n",
        "  df2 = df[up10_cat]\n",
        "  train_target_1 = df[df['target']==1]\n",
        "  train_target_0 = df[df['target']==0]\n",
        "  \n",
        "  return train_target_1,train_target_0,up10_cat\n",
        "\n",
        "# 데이터 비율 차이 구하기\n",
        "def get_data_dict(train_target_1,train_target_0,up10_cat):\n",
        "  list_diff=[]\n",
        "  for i in up10_cat[:-1]:\n",
        "    serise=abs((train_target_1[i].value_counts()/train_target_1[i].shape[0])*100 - (train_target_0[i].value_counts()/train_target_0[i].shape[0])*100)\n",
        "    temp_list=serise[serise>=0.5].index.tolist()\n",
        "    list_diff.append(temp_list)\n",
        "\n",
        "  dict1 = {up10_cat[i]:list_diff[i] for i in range(len(up10_cat[:-1])) if len(list_diff[i])>1 }\n",
        "  return dict1\n",
        "\n",
        "# 데이터 비율의 차이가 0.5보다 크면 1 아니면 0\n",
        "def get_data_1_or_0(train,test,dict1):\n",
        "  for data in [train,test]:\n",
        "    for key,values in dict1.items():\n",
        "      data.loc[:, f\"tar_enc_{key}\"] = 0\n",
        "      for i in values:\n",
        "        con=data[data[key]==i].index\n",
        "        data.loc[con, f\"tar_enc_{key}\"] =1\n",
        "  return train,test\n",
        "\n",
        "# 기존의 0.5이상인 컬럼 값은 들고오고,이하인것만 0으로 된 컬럼 추가\n",
        "def get_data_data_or_0(train,test,dict1):\n",
        "  for data in [train,test]:\n",
        "    for key,values in dict1.items():\n",
        "      data.loc[:, f\"tar_enc_div_{key}\"] = 0\n",
        "      for i in values:\n",
        "        con=data[data[key]==i].index\n",
        "        data.loc[con, f\"tar_enc_div_{key}\"] = i  \n",
        "  return train,test\n"
      ]
    },
    {
      "cell_type": "code",
      "execution_count": null,
      "metadata": {
        "id": "X1wThD_fztZk"
      },
      "outputs": [],
      "source": [
        "# 10개 이하 카테고리 얻기\n",
        "\n",
        "def get_data_down10(df):\n",
        "  col_name = list(df.columns)\n",
        "  object_nunique = list(map(lambda col: df[col].nunique(), col_name))\n",
        "  d = dict(zip(col_name, object_nunique))\n",
        "  d = pd.DataFrame([col_name, object_nunique]).T\n",
        "  onehot_list = list(d[(d[1]>2)&(d[1]<=10)][0])\n",
        "\n",
        "  return onehot_list\n",
        "\n",
        "# 범주 갯수가 10개 이하인 변수에 대해서 타겟값이 0.5이상이면 1 아니면 0인 변수 추가/ 범주 갯수가 10개 이하인 변수에 대해서 타겟값이 0.55이상이면 1, 0.45~0.55사이면 2, 0.45 이하이면 3인 변수 추가\n",
        "\n",
        "def get_down10_1_or_0(train,test,onehot_list):\n",
        "  for col in onehot_list:\n",
        "    temp_df = []\n",
        "        \n",
        "    # 명목형 변수에서 각 값 별로 타겟값의 평균을 대입\n",
        "    feat = train.groupby(col)[\"target\"].agg(\"mean\")\n",
        "    feat = feat.to_dict()\n",
        "    test.loc[:, f\"tar_enc_{col}\"] = X_test[col].map(feat)\n",
        "    temp_df.append(test)\n",
        "\n",
        "    temp_train_feat = train[col].map(feat)\n",
        "    temp_test_feat = test[col].map(feat)\n",
        "\n",
        "    train.loc[:, f\"tar_enc_{col}\"] = temp_train_feat\n",
        "    test.loc[:, f\"tar_enc_{col}\"] = temp_test_feat\n",
        "    train.drop('target', axis=1, inplace=True)\n",
        "\n",
        "    return train,test,temp_df\n",
        "\n",
        "def div_value_2(temp):\n",
        "    new_value = ''\n",
        "\n",
        "    if temp >=0.5 : new_value = 1\n",
        "    else : new_value = 0\n",
        "    \n",
        "    return new_value\n",
        "\n",
        "\n",
        "def div_value_3(temp):\n",
        "    new_value = ''\n",
        "\n",
        "    if temp >=0.55 : new_value = 1\n",
        "    elif temp <=0.45 : new_value = -1\n",
        "    else : new_value = 0\n",
        "    \n",
        "    return new_value\n",
        "\n",
        "def get_down10_1_or_00(train,X_train,test,onehot_list):\n",
        "    div_value = list(train.iloc[:,X_train.shape[1]:X_train.shape[1]+abs(X_train.shape[1] - train.shape[1])].columns)\n",
        "\n",
        "    for i in range(len(div_value)):\n",
        "      X_train.loc[:, f\"tar_div2_{onehot_list[i]}\"] = train.loc[:,div_value[i]].apply(lambda x : div_value_2(x))\n",
        "      test.loc[:, f\"tar_div2_{onehot_list[i]}\"] = test.loc[:, div_value[i]].apply(lambda x : div_value_2(x))\n",
        "      \n",
        "    for i in range(len(div_value)):\n",
        "      X_train.loc[:, f\"tar_div3_{onehot_list[i]}\"] = train.loc[:, div_value[i]].apply(lambda x : div_value_3(x))\n",
        "      test.loc[:, f\"tar_div3_{onehot_list[i]}\"] = test.loc[:, div_value[i]].apply(lambda x : div_value_3(x))\n",
        "\n",
        "    return X_train,test\n"
      ]
    },
    {
      "cell_type": "code",
      "execution_count": null,
      "metadata": {
        "id": "PxKoGyd-mqnp"
      },
      "outputs": [],
      "source": [
        "train = add_code(train, d_code, h_code, l_code)\n",
        "train = drop_features(train)\n",
        "test = add_code(test, d_code, h_code, l_code)\n",
        "test = drop_features(test)\n",
        "y_train = train.loc[:,'target']\n",
        "X_train = train.drop(['target'],axis=1)\n",
        "train_target_1,train_target_0,up10_cat = get_data_up10(train)\n",
        "dict1 = get_data_dict(train_target_1,train_target_0,up10_cat)\n",
        "train,test = get_data_1_or_0(train,test,dict1)\n",
        "train,test = get_data_data_or_0(train,test,dict1)\n"
      ]
    },
    {
      "cell_type": "markdown",
      "metadata": {
        "id": "uVWiyejo89u9"
      },
      "source": [
        "## 시작"
      ]
    },
    {
      "cell_type": "code",
      "execution_count": 37,
      "metadata": {
        "colab": {
          "base_uri": "https://localhost:8080/"
        },
        "id": "eBMjRaDF-fm4",
        "outputId": "fce604ef-5bc6-4c84-984b-180de96a8f0f"
      },
      "outputs": [
        {
          "output_type": "stream",
          "name": "stdout",
          "text": [
            "Drive already mounted at /content/drive/; to attempt to forcibly remount, call drive.mount(\"/content/drive/\", force_remount=True).\n"
          ]
        }
      ],
      "source": [
        "from google.colab import drive\n",
        "drive.mount('/content/drive/')\n",
        "path = '/content/drive/MyDrive/Colab Notebooks/job_care/'"
      ]
    },
    {
      "cell_type": "code",
      "execution_count": 38,
      "metadata": {
        "id": "7VW4OYAY9cLi"
      },
      "outputs": [],
      "source": [
        "train = pd.read_csv(path + \"train.csv\")\n",
        "X_test = pd.read_csv(path + \"test.csv\")\n",
        "submission = pd.read_csv(path + \"sample_submission.csv\")\n",
        "\n",
        "d_code = pd.read_csv(path + '속성_D_코드.csv', index_col=0)\n",
        "h_code = pd.read_csv(path + '속성_H_코드.csv', index_col=0)\n",
        "l_code = pd.read_csv(path + '속성_L_코드.csv', index_col=0)"
      ]
    },
    {
      "cell_type": "code",
      "execution_count": 39,
      "metadata": {
        "id": "uTeLq19c9fKo"
      },
      "outputs": [],
      "source": [
        "d_code = d_code.T.to_dict()\n",
        "h_code = h_code.T.to_dict()\n",
        "l_code = l_code.T.to_dict()"
      ]
    },
    {
      "cell_type": "code",
      "execution_count": 40,
      "metadata": {
        "colab": {
          "base_uri": "https://localhost:8080/"
        },
        "id": "aU8S5j-99gPa",
        "outputId": "4bc10604-f132-4565-a79d-f707ea9b6638"
      },
      "outputs": [
        {
          "output_type": "stream",
          "name": "stdout",
          "text": [
            "train_data.shape:  (501951, 63)\n",
            "test_data.shape:  (46404, 62)\n"
          ]
        }
      ],
      "source": [
        "def add_code(df, d_code, h_code, l_code):\n",
        "    df = df.copy()   \n",
        "\n",
        "    # D Code\n",
        "    df['person_prefer_d_1_n'] = df['person_prefer_d_1'].apply(lambda x: d_code[x]['속성 D 세분류코드'])\n",
        "    df['person_prefer_d_1_s'] = df['person_prefer_d_1'].apply(lambda x: d_code[x]['속성 D 소분류코드'])\n",
        "    df['person_prefer_d_1_m'] = df['person_prefer_d_1'].apply(lambda x: d_code[x]['속성 D 중분류코드'])\n",
        "    df['person_prefer_d_1_l'] = df['person_prefer_d_1'].apply(lambda x: d_code[x]['속성 D 대분류코드'])\n",
        "\n",
        "    df['person_prefer_d_2_n'] = df['person_prefer_d_2'].apply(lambda x: d_code[x]['속성 D 세분류코드'])\n",
        "    df['person_prefer_d_2_s'] = df['person_prefer_d_2'].apply(lambda x: d_code[x]['속성 D 소분류코드'])\n",
        "    df['person_prefer_d_2_m'] = df['person_prefer_d_2'].apply(lambda x: d_code[x]['속성 D 중분류코드'])\n",
        "    df['person_prefer_d_2_l'] = df['person_prefer_d_2'].apply(lambda x: d_code[x]['속성 D 대분류코드'])\n",
        "\n",
        "    df['person_prefer_d_3_n'] = df['person_prefer_d_3'].apply(lambda x: d_code[x]['속성 D 세분류코드'])\n",
        "    df['person_prefer_d_3_s'] = df['person_prefer_d_3'].apply(lambda x: d_code[x]['속성 D 소분류코드'])\n",
        "    df['person_prefer_d_3_m'] = df['person_prefer_d_3'].apply(lambda x: d_code[x]['속성 D 중분류코드'])\n",
        "    df['person_prefer_d_3_l'] = df['person_prefer_d_3'].apply(lambda x: d_code[x]['속성 D 대분류코드'])\n",
        "\n",
        "    df['contents_attribute_d_n'] = df['contents_attribute_d'].apply(lambda x: d_code[x]['속성 D 세분류코드'])\n",
        "    df['contents_attribute_d_s'] = df['contents_attribute_d'].apply(lambda x: d_code[x]['속성 D 소분류코드'])\n",
        "    df['contents_attribute_d_m'] = df['contents_attribute_d'].apply(lambda x: d_code[x]['속성 D 중분류코드'])\n",
        "    df['contents_attribute_d_l'] = df['contents_attribute_d'].apply(lambda x: d_code[x]['속성 D 대분류코드'])\n",
        "\n",
        "    # H Code\n",
        "    df['person_prefer_h_1_m'] = df['person_prefer_h_1'].apply(lambda x: h_code[x]['속성 H 중분류코드'])\n",
        "    df['person_prefer_h_2_m'] = df['person_prefer_h_2'].apply(lambda x: h_code[x]['속성 H 중분류코드'])\n",
        "    df['person_prefer_h_3_m'] = df['person_prefer_h_3'].apply(lambda x: h_code[x]['속성 H 중분류코드'])\n",
        "    df['contents_attribute_h_m'] = df['contents_attribute_h'].apply(lambda x: h_code[x]['속성 H 중분류코드'])\n",
        "\n",
        "    df['person_prefer_h_1_l'] = df['person_prefer_h_1'].apply(lambda x: h_code[x]['속성 H 대분류코드'])\n",
        "    df['person_prefer_h_2_l'] = df['person_prefer_h_2'].apply(lambda x: h_code[x]['속성 H 대분류코드'])\n",
        "    df['person_prefer_h_3_l'] = df['person_prefer_h_3'].apply(lambda x: h_code[x]['속성 H 대분류코드'])\n",
        "    df['contents_attribute_h_l'] = df['contents_attribute_h'].apply(lambda x: h_code[x]['속성 H 대분류코드'])\n",
        "\n",
        "    # L Code\n",
        "    df['contents_attribute_l_n'] = df['contents_attribute_l'].apply(lambda x: l_code[x]['속성 L 세분류코드'])\n",
        "    df['contents_attribute_l_s'] = df['contents_attribute_l'].apply(lambda x: l_code[x]['속성 L 소분류코드'])\n",
        "    df['contents_attribute_l_m'] = df['contents_attribute_l'].apply(lambda x: l_code[x]['속성 L 중분류코드'])\n",
        "    df['contents_attribute_l_l'] = df['contents_attribute_l'].apply(lambda x: l_code[x]['속성 L 대분류코드'])\n",
        "    return df\n",
        "\n",
        "train = add_code(train, d_code, h_code, l_code)\n",
        "X_test = add_code(X_test, d_code, h_code, l_code)\n",
        "print(\"train_data.shape: \", train.shape)\n",
        "print(\"test_data.shape: \", X_test.shape)"
      ]
    },
    {
      "cell_type": "markdown",
      "metadata": {
        "id": "LuepCjx4EGYT"
      },
      "source": [
        "## 컬럼 추가"
      ]
    },
    {
      "cell_type": "code",
      "execution_count": 41,
      "metadata": {
        "id": "vQmILZNO9huo"
      },
      "outputs": [],
      "source": [
        "data = [train, X_test]\n",
        "\n",
        "for i in range(2):\n",
        "#   data[i].contents_open_dt = pd.to_datetime(data[i].contents_open_dt)\n",
        "\n",
        "#   data[i]['month'] = data[i].contents_open_dt.dt.month\n",
        "#   data[i]['day'] = data[i].contents_open_dt.dt.day\n",
        "#   data[i]['week'] = data[i].contents_open_dt.dt.isocalendar().week\n",
        "#   data[i]['dayofweek'] = data[i].contents_open_dt.dt.dayofweek\n",
        "#   data[i]['hour'] = data[i].contents_open_dt.dt.hour\n",
        "# #  data[i]['minute'] = data[i].contents_open_dt.dt.minute\n",
        "\n",
        "  data[i].drop(['id', 'contents_open_dt'], axis=1, inplace=True)"
      ]
    },
    {
      "cell_type": "code",
      "execution_count": 42,
      "metadata": {
        "id": "mx35Imdh9vpj"
      },
      "outputs": [],
      "source": [
        "X_train = train.drop('target',axis=1)\n",
        "y_train = train['target']"
      ]
    },
    {
      "cell_type": "code",
      "execution_count": 43,
      "metadata": {
        "id": "lKdY-YgY9vsj"
      },
      "outputs": [],
      "source": [
        "X_train = X_train.drop(['person_rn', 'contents_rn', 'person_prefer_f', 'person_prefer_g'],axis=1)\n",
        "X_test = X_test.drop(['person_rn', 'contents_rn', 'person_prefer_f', 'person_prefer_g'],axis=1)"
      ]
    },
    {
      "cell_type": "code",
      "execution_count": 44,
      "metadata": {
        "id": "0eZXba8f9vvy"
      },
      "outputs": [],
      "source": [
        "col_name = list(X_train.columns)"
      ]
    },
    {
      "cell_type": "code",
      "execution_count": 45,
      "metadata": {
        "id": "uDIUQ56X9vyS"
      },
      "outputs": [],
      "source": [
        "object_nunique = list(map(lambda col: X_train[col].nunique(), col_name))\n",
        "d = dict(zip(col_name, object_nunique))\n",
        "\n",
        "# # Print number of unique entries by column, in ascending order\n",
        "# sorted(d.items(), key=lambda x: x[1])"
      ]
    },
    {
      "cell_type": "code",
      "execution_count": 46,
      "metadata": {
        "id": "dcuUElmK-Dpl"
      },
      "outputs": [],
      "source": [
        "d = pd.DataFrame([col_name, object_nunique]).T\n",
        "onehot_list = list(d[(d[1]>2)&(d[1]<=10)][0])"
      ]
    },
    {
      "cell_type": "code",
      "execution_count": 47,
      "metadata": {
        "id": "c2IwoMKs-IJD"
      },
      "outputs": [],
      "source": [
        "df = pd.concat([X_train, y_train], axis=1)\n",
        "df_test = X_test.copy()\n",
        "\n",
        "for col in onehot_list:\n",
        "    # 명목형 변수에서 각 값 별로 타겟값의 평균을 대입\n",
        "    feat = df.groupby(col)[\"target\"].agg(\"mean\")\n",
        "    feat = feat.to_dict()\n",
        "\n",
        "    # 명목형 변수에 매칭되는 각 평균값을 temp_train/test_feat로 생성\n",
        "    temp_train_feat = df[col].map(feat)\n",
        "    temp_test_feat = df_test[col].map(feat)\n",
        "\n",
        "    #temp_train/test_feat를 tar_enc_{col} 형태로 컬럼 생성\n",
        "    df.loc[:, f\"tar_enc_{col}\"] = temp_train_feat\n",
        "    df_test.loc[:, f\"tar_enc_{col}\"] = temp_test_feat\n",
        "\n",
        "df.drop('target', axis=1, inplace=True)"
      ]
    },
    {
      "cell_type": "code",
      "execution_count": 48,
      "metadata": {
        "id": "z-VKoqDPAMH_"
      },
      "outputs": [],
      "source": [
        "#분기 함수 생성\n",
        "def div_value_2(temp):\n",
        "    new_value = ''\n",
        "\n",
        "    if temp >=0.5 : new_value = 1\n",
        "    else : new_value = 0\n",
        "    \n",
        "    return new_value\n",
        "\n",
        "\n",
        "def div_value_3(temp):\n",
        "    new_value = ''\n",
        "\n",
        "    if temp >=0.55 : new_value = 1\n",
        "    elif temp <=0.45 : new_value = -1\n",
        "    else : new_value = 0\n",
        "    \n",
        "    return new_value"
      ]
    },
    {
      "cell_type": "code",
      "execution_count": 49,
      "metadata": {
        "id": "M67o5GoRAMKL"
      },
      "outputs": [],
      "source": [
        "#위에서 생성된 새로운 컬럼 div_value에 저장\n",
        "div_value = list(df.iloc[:,X_train.shape[1]:X_train.shape[1]+abs(X_train.shape[1] - df.shape[1])].columns)\n",
        "\n",
        "#lambda 함수로 위에 생성한 분기값 입력(div_value_2)\n",
        "for i in range(len(div_value)):\n",
        "  X_train.loc[:, f\"tar_div2_{onehot_list[i]}\"] = df.loc[:,div_value[i]].apply(lambda x : div_value_2(x))\n",
        "  X_test.loc[:, f\"tar_div2_{onehot_list[i]}\"] = df_test.loc[:, div_value[i]].apply(lambda x : div_value_2(x))\n",
        "\n",
        "#lambda 함수로 위에 생성한 분기값 입력(div_value_3)\n",
        "for i in range(len(div_value)):\n",
        "  X_train.loc[:, f\"tar_div3_{onehot_list[i]}\"] = df.loc[:, div_value[i]].apply(lambda x : div_value_3(x))\n",
        "  X_test.loc[:, f\"tar_div3_{onehot_list[i]}\"] = df_test.loc[:, div_value[i]].apply(lambda x : div_value_3(x))"
      ]
    },
    {
      "cell_type": "code",
      "execution_count": 50,
      "metadata": {
        "id": "ZJkKOawvCD3Y"
      },
      "outputs": [],
      "source": [
        "# 하나의 값만 가지는 컬럼 drop\n",
        "drop_feature = X_train.columns[X_train.nunique() < 2].tolist()\n",
        "\n",
        "X_train.drop(drop_feature,axis=1, inplace=True)\n",
        "X_test.drop(drop_feature,axis=1, inplace=True)"
      ]
    },
    {
      "cell_type": "code",
      "execution_count": 51,
      "metadata": {
        "colab": {
          "base_uri": "https://localhost:8080/"
        },
        "id": "8ig2uBVNDIAk",
        "outputId": "d9987b09-6456-40ff-cdad-405992bb5fc1"
      },
      "outputs": [
        {
          "output_type": "execute_result",
          "data": {
            "text/plain": [
              "['person_prefer_d_1',\n",
              " 'person_prefer_d_2',\n",
              " 'person_prefer_d_3',\n",
              " 'person_prefer_e',\n",
              " 'person_prefer_h_1',\n",
              " 'person_prefer_h_2',\n",
              " 'person_prefer_h_3',\n",
              " 'contents_attribute_l',\n",
              " 'contents_attribute_d',\n",
              " 'contents_attribute_e',\n",
              " 'contents_attribute_h',\n",
              " 'person_prefer_d_1_n',\n",
              " 'person_prefer_d_1_s',\n",
              " 'person_prefer_d_1_m',\n",
              " 'person_prefer_d_1_l',\n",
              " 'person_prefer_d_2_n',\n",
              " 'person_prefer_d_2_s',\n",
              " 'person_prefer_d_2_m',\n",
              " 'person_prefer_d_2_l',\n",
              " 'person_prefer_d_3_n',\n",
              " 'person_prefer_d_3_s',\n",
              " 'person_prefer_d_3_m',\n",
              " 'person_prefer_d_3_l',\n",
              " 'contents_attribute_d_n',\n",
              " 'contents_attribute_d_s',\n",
              " 'contents_attribute_d_m',\n",
              " 'contents_attribute_d_l',\n",
              " 'person_prefer_h_1_m',\n",
              " 'person_prefer_h_2_m',\n",
              " 'person_prefer_h_3_m',\n",
              " 'contents_attribute_h_m',\n",
              " 'person_prefer_h_1_l',\n",
              " 'person_prefer_h_2_l',\n",
              " 'person_prefer_h_3_l',\n",
              " 'contents_attribute_h_l',\n",
              " 'contents_attribute_l_n',\n",
              " 'contents_attribute_l_s',\n",
              " 'contents_attribute_l_m',\n",
              " 'contents_attribute_l_l']"
            ]
          },
          "metadata": {},
          "execution_count": 51
        }
      ],
      "source": [
        "# 10개 이상 카테고리 출력\n",
        "up10_cat = list(d[d[1]>10][0])\n",
        "up10_cat"
      ]
    },
    {
      "cell_type": "code",
      "execution_count": 52,
      "metadata": {
        "colab": {
          "base_uri": "https://localhost:8080/"
        },
        "id": "-ICW0xJKDPNM",
        "outputId": "e3ce8167-85d2-4be0-d482-8e6562075b95"
      },
      "outputs": [
        {
          "output_type": "stream",
          "name": "stdout",
          "text": [
            "False\n"
          ]
        }
      ],
      "source": [
        "if onehot_list in  up10_cat:\n",
        "  print(True)\n",
        "else: print(False)"
      ]
    },
    {
      "cell_type": "code",
      "execution_count": 53,
      "metadata": {
        "id": "6tr5FMKDDphJ"
      },
      "outputs": [],
      "source": [
        "train_up = df[up10_cat]\n",
        "test_up  = X_test[up10_cat]\n",
        "\n",
        "train_up['target'] = y_train"
      ]
    },
    {
      "cell_type": "code",
      "execution_count": 54,
      "metadata": {
        "id": "q_wn44OEDtZs"
      },
      "outputs": [],
      "source": [
        "train_1 = train_up[train_up['target']==1]\n",
        "train_0 = train_up[train_up['target']==0]"
      ]
    },
    {
      "cell_type": "code",
      "execution_count": 55,
      "metadata": {
        "id": "W_mna2nXDwSj"
      },
      "outputs": [],
      "source": [
        "list_diff=[]\n",
        "for i in up10_cat[:-1]:\n",
        "  serise=abs((train_1[i].value_counts()/train_1[i].shape[0])*100 - (train_0[i].value_counts()/train_0[i].shape[0])*100)\n",
        "  temp_list=serise[serise>=0.5].index.tolist()\n",
        "  list_diff.append(temp_list)\n",
        "\n",
        "# 0.5차이 나는 값이 1개 이상인 카테고리 딕셔너리로 담기 / 0.5 차이가 나는 변수가 하나인 컬럼은 dict에서 제외\n",
        "dict1 = {up10_cat[i]:list_diff[i] for i in range(len(up10_cat[:-1])) if len(list_diff[i])>1 }"
      ]
    },
    {
      "cell_type": "code",
      "execution_count": 56,
      "metadata": {
        "id": "hHE-6D5sD1IL"
      },
      "outputs": [],
      "source": [
        "# 컬럼 추가\n",
        "for data in [train_up,test_up]:\n",
        "  for key,values in dict1.items():\n",
        "    data.loc[:, f\"tar_enc_1_10_div_{key}\"] = 0\n",
        "    for i in values:\n",
        "      con=data[data[key]==i].index\n",
        "      data.loc[con, f\"tar_enc_1_10_div_{key}\"] = 1"
      ]
    },
    {
      "cell_type": "code",
      "execution_count": 57,
      "metadata": {
        "id": "CCrdt9AUD3QQ"
      },
      "outputs": [],
      "source": [
        "#기존의 0.5이상인 컬럼 값은 들고오고, 이하인것만 0으로 된 컬럼 추가\n",
        "for data in [train_up,test_up]:\n",
        "  for key,values in dict1.items():\n",
        "    data.loc[:, f\"tar_enc_2_10_div_{key}\"] = 0\n",
        "    for i in values:\n",
        "      con=data[data[key]==i].index\n",
        "      data.loc[con, f\"tar_enc_2_10_div_{key}\"] = i"
      ]
    },
    {
      "cell_type": "code",
      "execution_count": 58,
      "metadata": {
        "id": "HoBKa5KvD6O8"
      },
      "outputs": [],
      "source": [
        "X_train = pd.concat([X_train, train_up.iloc[:,44:]], axis=1)\n",
        "X_test = pd.concat([X_test, test_up.iloc[:,43:]], axis=1)"
      ]
    },
    {
      "cell_type": "markdown",
      "metadata": {
        "id": "cSZzzRHgEJmH"
      },
      "source": [
        "##K-means 학습으로 그룹 변수 추가"
      ]
    },
    {
      "cell_type": "code",
      "execution_count": null,
      "metadata": {
        "id": "EvEEiNuQELIA"
      },
      "outputs": [],
      "source": [
        "kmeans = KMeans(n_clusters=5, random_state=42).fit(X_train)\n",
        "X_train['cluster_5'] = kmeans.predict(X_train)\n",
        "X_test['cluster_5'] = kmeans.predict(X_test)"
      ]
    },
    {
      "cell_type": "code",
      "execution_count": null,
      "metadata": {
        "id": "j9DvnAP4EPWy"
      },
      "outputs": [],
      "source": [
        "kmeans = KMeans(n_clusters=10, random_state=42).fit(X_train)\n",
        "X_train['cluster_10'] = kmeans.predict(X_train)\n",
        "X_test['cluster_10'] = kmeans.predict(X_test)"
      ]
    },
    {
      "cell_type": "code",
      "execution_count": null,
      "metadata": {
        "id": "8Sm7UIt6EQgl"
      },
      "outputs": [],
      "source": [
        "kmeans = KMeans(n_clusters=20, random_state=42).fit(X_train)\n",
        "X_train['cluster_20'] = kmeans.predict(X_train)\n",
        "X_test['cluster_20'] = kmeans.predict(X_test)"
      ]
    },
    {
      "cell_type": "code",
      "execution_count": null,
      "metadata": {
        "id": "lx1To_ENERkY"
      },
      "outputs": [],
      "source": [
        "kmeans = KMeans(n_clusters=30, random_state=42).fit(X_train)\n",
        "X_train['cluster_30'] = kmeans.predict(X_train)\n",
        "X_test['cluster_30'] = kmeans.predict(X_test)"
      ]
    },
    {
      "cell_type": "code",
      "execution_count": null,
      "metadata": {
        "id": "ZRjSKKtLESXu"
      },
      "outputs": [],
      "source": [
        "kmeans = KMeans(n_clusters=40, random_state=42).fit(X_train)\n",
        "X_train['cluster_40'] = kmeans.predict(X_train)\n",
        "X_test['cluster_40'] = kmeans.predict(X_test)"
      ]
    },
    {
      "cell_type": "markdown",
      "metadata": {
        "id": "iSdBfToHpLId"
      },
      "source": [
        " # k Prototypes 그룹 변수 추가"
      ]
    },
    {
      "cell_type": "code",
      "execution_count": null,
      "metadata": {
        "colab": {
          "base_uri": "https://localhost:8080/"
        },
        "id": "QwBr9qDBpTUN",
        "outputId": "413298cb-26a2-48ad-af87-101694b73fae"
      },
      "outputs": [
        {
          "metadata": {
            "tags": null
          },
          "name": "stdout",
          "output_type": "stream",
          "text": [
            "Init: initializing centroids\n",
            "Init: initializing clusters\n",
            "Starting iterations...\n",
            "Run: 1, iteration: 1/100, moves: 63710, ncost: 450853584.86998093\n"
          ]
        }
      ],
      "source": [
        "categorical_columns = [0, 1, 2, 3, 4, 5, 6, 7, 8, 9, 10, 11, 12, 13, 14, 15, 16, 17, 18, 19, 20, 21 ,22 ,23, 24, 25, 26, 27, 28, 29, 30, 31, 32, 33, 34, 35, 36, 37, 38, 39, 40, 41, 42, 43, 44, 45, 46, 47, 48, 49,50,51,52,53,54,55,61,62,63,64,65,66,67,68,69,70,71,72,73,74,75,76,77,78,79,80,81,82,83,84,85,86,87,88,89,90,91,92,93,94,95,96,97,98,99,100,101,102,103,104,105,106,107,108,109,110,111,112,113,114,115,116,117,118,119,120,121,122,123,124,125,126,127,128,129,130,131,132,133,134,135,136,137,138]\n",
        "\n",
        "kp = KPrototypes(n_clusters=3, init='Huang', n_init=5, verbose=True).fit(X_train,categorical=categorical_columns)\n",
        "X_train['KPcluster_3'] = kb.predict(X_train)\n",
        "X_test['KPcluster_3'] = kb.predict(X_test)"
      ]
    },
    {
      "cell_type": "code",
      "execution_count": null,
      "metadata": {
        "id": "lYx3VP9LpTa6"
      },
      "outputs": [],
      "source": [
        "kp = KPrototypes(n_clusters=10, init='Huang', n_init=5, verbose=True).fit(X_train,categorical=categorical_columns)\n",
        "X_train['KPcluster_10'] = kb.predict(X_train)\n",
        "X_test['KPcluster_10'] = kb.predict(X_test)"
      ]
    },
    {
      "cell_type": "code",
      "execution_count": null,
      "metadata": {
        "id": "vScVTkcppTj4"
      },
      "outputs": [],
      "source": [
        "kp = KPrototypes(n_clusters=20, init='Huang', n_init=5, verbose=True).fit(X_train,categorical=categorical_columns)\n",
        "X_train['KPcluster_20'] = kb.predict(X_train)\n",
        "X_test['KPcluster_20'] = kb.predict(X_test)"
      ]
    },
    {
      "cell_type": "code",
      "execution_count": null,
      "metadata": {
        "id": "2trbOw1uqHNj"
      },
      "outputs": [],
      "source": [
        "kp = KPrototypes(n_clusters=30, init='Huang', n_init=5, verbose=True).fit(X_train,categorical=categorical_columns)\n",
        "X_train['KPcluster_30'] = kb.predict(X_train)\n",
        "X_test['KPcluster_30'] = kb.predict(X_test)"
      ]
    },
    {
      "cell_type": "code",
      "execution_count": null,
      "metadata": {
        "id": "n7v-wBDdxaz3"
      },
      "outputs": [],
      "source": [
        "kp = KPrototypes(n_clusters=40, init='Huang', n_init=5, verbose=True).fit(X_train,categorical=categorical_columns)\n",
        "X_train['KPcluster_40'] = kb.predict(X_train)\n",
        "X_test['KPcluster_40'] = kb.predict(X_test)"
      ]
    },
    {
      "cell_type": "markdown",
      "metadata": {
        "id": "ESMdLGzpx5sZ"
      },
      "source": [
        " # k mode 그룹 변수 추가"
      ]
    },
    {
      "cell_type": "code",
      "source": [
        "km_cao = KModes(n_clusters=5, init = \"Cao\", n_init = 1, verbose=1)\n",
        "X_train['KMcluster_5'] = km_cao.fit_predict(X_train)\n",
        "X_test['KMcluster_5'] = km_cao.fit_predict(X_test)"
      ],
      "metadata": {
        "id": "XXLM3JXEvqF8",
        "outputId": "a57f35c3-caa8-4c70-fd5b-c6f315f8e94e",
        "colab": {
          "base_uri": "https://localhost:8080/"
        }
      },
      "execution_count": 16,
      "outputs": [
        {
          "output_type": "stream",
          "name": "stdout",
          "text": [
            "Init: initializing centroids\n",
            "Init: initializing clusters\n",
            "Starting iterations...\n",
            "Run 1, iteration: 1/100, moves: 138905, cost: 16774970.0\n",
            "Run 1, iteration: 2/100, moves: 49977, cost: 16758511.0\n",
            "Run 1, iteration: 3/100, moves: 2661, cost: 16757523.0\n",
            "Run 1, iteration: 4/100, moves: 16168, cost: 16721902.0\n",
            "Run 1, iteration: 5/100, moves: 15519, cost: 16716904.0\n",
            "Run 1, iteration: 6/100, moves: 1044, cost: 16716904.0\n",
            "Init: initializing centroids\n",
            "Init: initializing clusters\n",
            "Starting iterations...\n",
            "Run 1, iteration: 1/100, moves: 13103, cost: 1561293.0\n",
            "Run 1, iteration: 2/100, moves: 4296, cost: 1559547.0\n",
            "Run 1, iteration: 3/100, moves: 511, cost: 1559547.0\n"
          ]
        }
      ]
    },
    {
      "cell_type": "code",
      "execution_count": 18,
      "metadata": {
        "id": "0ByLeDr2ymqL",
        "colab": {
          "base_uri": "https://localhost:8080/"
        },
        "outputId": "c8f26447-9801-4fc6-d868-4f61d2df52c9"
      },
      "outputs": [
        {
          "output_type": "stream",
          "name": "stdout",
          "text": [
            "Init: initializing centroids\n",
            "Init: initializing clusters\n",
            "Starting iterations...\n",
            "Run 1, iteration: 1/10, moves: 171621, cost: 15984367.0\n",
            "Run 1, iteration: 2/10, moves: 51849, cost: 15956625.0\n",
            "Run 1, iteration: 3/10, moves: 12475, cost: 15955900.0\n",
            "Run 1, iteration: 4/10, moves: 336, cost: 15955900.0\n"
          ]
        }
      ],
      "source": [
        "km_cao = KModes(n_clusters=10, max_iter=10, init = \"Cao\", n_init = 1, verbose=1,random_state=123).fit(X_train)\n",
        "X_train['KMcluster_10'] = km_cao.predict(X_train)\n",
        "X_test['KMcluster_10'] = km_cao.predict(X_test)"
      ]
    },
    {
      "cell_type": "code",
      "execution_count": 12,
      "metadata": {
        "id": "2PjIV1Nhypub",
        "outputId": "994873f4-d668-4bb1-9533-a1e1485c0804",
        "colab": {
          "base_uri": "https://localhost:8080/"
        }
      },
      "outputs": [
        {
          "output_type": "stream",
          "name": "stdout",
          "text": [
            "Init: initializing centroids\n",
            "Init: initializing clusters\n",
            "Starting iterations...\n",
            "Run 1, iteration: 1/10, moves: 188174, cost: 15250214.0\n",
            "Run 1, iteration: 2/10, moves: 75300, cost: 15164616.0\n",
            "Run 1, iteration: 3/10, moves: 32781, cost: 15140350.0\n",
            "Run 1, iteration: 4/10, moves: 10622, cost: 15139073.0\n",
            "Run 1, iteration: 5/10, moves: 2311, cost: 15138139.0\n",
            "Run 1, iteration: 6/10, moves: 350, cost: 15138139.0\n"
          ]
        }
      ],
      "source": [
        "km_cao = KModes(n_clusters=20, max_iter=10, init = \"Cao\", n_init = 1, verbose=1,random_state=123).fit(X_train)\n",
        "X_train['KMcluster_20'] = km_cao.predict(X_train)\n",
        "X_test['KMcluster_20'] = km_cao.predict(X_test)"
      ]
    },
    {
      "cell_type": "code",
      "execution_count": 16,
      "metadata": {
        "id": "fn3LEWlGyrpM",
        "outputId": "fdb904b8-8f2b-4b4d-8d02-4c82a8210c22",
        "colab": {
          "base_uri": "https://localhost:8080/",
          "height": 0
        }
      },
      "outputs": [
        {
          "metadata": {
            "tags": null
          },
          "name": "stdout",
          "output_type": "stream",
          "text": [
            "Init: initializing centroids\n",
            "Init: initializing clusters\n",
            "Starting iterations...\n",
            "Run 1, iteration: 1/10, moves: 189274, cost: 14796066.0\n",
            "Run 1, iteration: 2/10, moves: 65538, cost: 14667147.0\n",
            "Run 1, iteration: 3/10, moves: 24600, cost: 14654868.0\n"
          ]
        },
        {
          "output_type": "error",
          "ename": "KeyboardInterrupt",
          "evalue": "ignored",
          "traceback": [
            "\u001b[0;31m---------------------------------------------------------------------------\u001b[0m",
            "\u001b[0;31mKeyboardInterrupt\u001b[0m                         Traceback (most recent call last)",
            "\u001b[0;32m<ipython-input-16-b149b14c8d90>\u001b[0m in \u001b[0;36m<module>\u001b[0;34m()\u001b[0m\n\u001b[0;32m----> 1\u001b[0;31m \u001b[0mkm_cao\u001b[0m \u001b[0;34m=\u001b[0m \u001b[0mKModes\u001b[0m\u001b[0;34m(\u001b[0m\u001b[0mn_clusters\u001b[0m\u001b[0;34m=\u001b[0m\u001b[0;36m30\u001b[0m\u001b[0;34m,\u001b[0m \u001b[0mmax_iter\u001b[0m\u001b[0;34m=\u001b[0m\u001b[0;36m10\u001b[0m\u001b[0;34m,\u001b[0m \u001b[0minit\u001b[0m \u001b[0;34m=\u001b[0m \u001b[0;34m\"Cao\"\u001b[0m\u001b[0;34m,\u001b[0m \u001b[0mn_init\u001b[0m \u001b[0;34m=\u001b[0m \u001b[0;36m1\u001b[0m\u001b[0;34m,\u001b[0m \u001b[0mverbose\u001b[0m\u001b[0;34m=\u001b[0m\u001b[0;36m1\u001b[0m\u001b[0;34m,\u001b[0m\u001b[0mrandom_state\u001b[0m\u001b[0;34m=\u001b[0m\u001b[0;36m123\u001b[0m\u001b[0;34m)\u001b[0m\u001b[0;34m.\u001b[0m\u001b[0mfit\u001b[0m\u001b[0;34m(\u001b[0m\u001b[0mX_train\u001b[0m\u001b[0;34m)\u001b[0m\u001b[0;34m\u001b[0m\u001b[0;34m\u001b[0m\u001b[0m\n\u001b[0m\u001b[1;32m      2\u001b[0m \u001b[0mX_train\u001b[0m\u001b[0;34m[\u001b[0m\u001b[0;34m'KMcluster_30'\u001b[0m\u001b[0;34m]\u001b[0m \u001b[0;34m=\u001b[0m \u001b[0mkm_cao\u001b[0m\u001b[0;34m.\u001b[0m\u001b[0mpredict\u001b[0m\u001b[0;34m(\u001b[0m\u001b[0mX_train\u001b[0m\u001b[0;34m)\u001b[0m\u001b[0;34m\u001b[0m\u001b[0;34m\u001b[0m\u001b[0m\n\u001b[1;32m      3\u001b[0m \u001b[0mX_test\u001b[0m\u001b[0;34m[\u001b[0m\u001b[0;34m'KMcluster_30'\u001b[0m\u001b[0;34m]\u001b[0m \u001b[0;34m=\u001b[0m \u001b[0mkm_cao\u001b[0m\u001b[0;34m.\u001b[0m\u001b[0mpredict\u001b[0m\u001b[0;34m(\u001b[0m\u001b[0mX_test\u001b[0m\u001b[0;34m)\u001b[0m\u001b[0;34m\u001b[0m\u001b[0;34m\u001b[0m\u001b[0m\n",
            "\u001b[0;32m/usr/local/lib/python3.7/dist-packages/kmodes/kmodes.py\u001b[0m in \u001b[0;36mfit\u001b[0;34m(self, X, y, **kwargs)\u001b[0m\n\u001b[1;32m    134\u001b[0m             \u001b[0mself\u001b[0m\u001b[0;34m.\u001b[0m\u001b[0mverbose\u001b[0m\u001b[0;34m,\u001b[0m\u001b[0;34m\u001b[0m\u001b[0;34m\u001b[0m\u001b[0m\n\u001b[1;32m    135\u001b[0m             \u001b[0mrandom_state\u001b[0m\u001b[0;34m,\u001b[0m\u001b[0;34m\u001b[0m\u001b[0;34m\u001b[0m\u001b[0m\n\u001b[0;32m--> 136\u001b[0;31m             \u001b[0mself\u001b[0m\u001b[0;34m.\u001b[0m\u001b[0mn_jobs\u001b[0m\u001b[0;34m,\u001b[0m\u001b[0;34m\u001b[0m\u001b[0;34m\u001b[0m\u001b[0m\n\u001b[0m\u001b[1;32m    137\u001b[0m         )\n\u001b[1;32m    138\u001b[0m         \u001b[0;32mreturn\u001b[0m \u001b[0mself\u001b[0m\u001b[0;34m\u001b[0m\u001b[0;34m\u001b[0m\u001b[0m\n",
            "\u001b[0;32m/usr/local/lib/python3.7/dist-packages/kmodes/kmodes.py\u001b[0m in \u001b[0;36mk_modes\u001b[0;34m(X, n_clusters, max_iter, dissim, init, n_init, verbose, random_state, n_jobs)\u001b[0m\n\u001b[1;32m    231\u001b[0m         \u001b[0;32mfor\u001b[0m \u001b[0minit_no\u001b[0m \u001b[0;32min\u001b[0m \u001b[0mrange\u001b[0m\u001b[0;34m(\u001b[0m\u001b[0mn_init\u001b[0m\u001b[0;34m)\u001b[0m\u001b[0;34m:\u001b[0m\u001b[0;34m\u001b[0m\u001b[0;34m\u001b[0m\u001b[0m\n\u001b[1;32m    232\u001b[0m             results.append(_k_modes_single(X, n_clusters, n_points, n_attrs, max_iter,\n\u001b[0;32m--> 233\u001b[0;31m                                            dissim, init, init_no, verbose, seeds[init_no]))\n\u001b[0m\u001b[1;32m    234\u001b[0m     \u001b[0;32melse\u001b[0m\u001b[0;34m:\u001b[0m\u001b[0;34m\u001b[0m\u001b[0;34m\u001b[0m\u001b[0m\n\u001b[1;32m    235\u001b[0m         results = Parallel(n_jobs=n_jobs, verbose=0)(\n",
            "\u001b[0;32m/usr/local/lib/python3.7/dist-packages/kmodes/kmodes.py\u001b[0m in \u001b[0;36m_k_modes_single\u001b[0;34m(X, n_clusters, n_points, n_attrs, max_iter, dissim, init, init_no, verbose, random_state)\u001b[0m\n\u001b[1;32m    318\u001b[0m         )\n\u001b[1;32m    319\u001b[0m         \u001b[0;31m# All points seen in this iteration\u001b[0m\u001b[0;34m\u001b[0m\u001b[0;34m\u001b[0m\u001b[0;34m\u001b[0m\u001b[0m\n\u001b[0;32m--> 320\u001b[0;31m         \u001b[0mlabels\u001b[0m\u001b[0;34m,\u001b[0m \u001b[0mncost\u001b[0m \u001b[0;34m=\u001b[0m \u001b[0mlabels_cost\u001b[0m\u001b[0;34m(\u001b[0m\u001b[0mX\u001b[0m\u001b[0;34m,\u001b[0m \u001b[0mcentroids\u001b[0m\u001b[0;34m,\u001b[0m \u001b[0mdissim\u001b[0m\u001b[0;34m,\u001b[0m \u001b[0mmembship\u001b[0m\u001b[0;34m)\u001b[0m\u001b[0;34m\u001b[0m\u001b[0;34m\u001b[0m\u001b[0m\n\u001b[0m\u001b[1;32m    321\u001b[0m         \u001b[0mconverged\u001b[0m \u001b[0;34m=\u001b[0m \u001b[0;34m(\u001b[0m\u001b[0mmoves\u001b[0m \u001b[0;34m==\u001b[0m \u001b[0;36m0\u001b[0m\u001b[0;34m)\u001b[0m \u001b[0;32mor\u001b[0m \u001b[0;34m(\u001b[0m\u001b[0mncost\u001b[0m \u001b[0;34m>=\u001b[0m \u001b[0mcost\u001b[0m\u001b[0;34m)\u001b[0m\u001b[0;34m\u001b[0m\u001b[0;34m\u001b[0m\u001b[0m\n\u001b[1;32m    322\u001b[0m         \u001b[0mepoch_costs\u001b[0m\u001b[0;34m.\u001b[0m\u001b[0mappend\u001b[0m\u001b[0;34m(\u001b[0m\u001b[0mncost\u001b[0m\u001b[0;34m)\u001b[0m\u001b[0;34m\u001b[0m\u001b[0;34m\u001b[0m\u001b[0m\n",
            "\u001b[0;32m/usr/local/lib/python3.7/dist-packages/kmodes/kmodes.py\u001b[0m in \u001b[0;36mlabels_cost\u001b[0;34m(X, centroids, dissim, membship)\u001b[0m\n\u001b[1;32m    192\u001b[0m     \u001b[0mlabels\u001b[0m \u001b[0;34m=\u001b[0m \u001b[0mnp\u001b[0m\u001b[0;34m.\u001b[0m\u001b[0mempty\u001b[0m\u001b[0;34m(\u001b[0m\u001b[0mn_points\u001b[0m\u001b[0;34m,\u001b[0m \u001b[0mdtype\u001b[0m\u001b[0;34m=\u001b[0m\u001b[0mnp\u001b[0m\u001b[0;34m.\u001b[0m\u001b[0muint16\u001b[0m\u001b[0;34m)\u001b[0m\u001b[0;34m\u001b[0m\u001b[0;34m\u001b[0m\u001b[0m\n\u001b[1;32m    193\u001b[0m     \u001b[0;32mfor\u001b[0m \u001b[0mipoint\u001b[0m\u001b[0;34m,\u001b[0m \u001b[0mcurpoint\u001b[0m \u001b[0;32min\u001b[0m \u001b[0menumerate\u001b[0m\u001b[0;34m(\u001b[0m\u001b[0mX\u001b[0m\u001b[0;34m)\u001b[0m\u001b[0;34m:\u001b[0m\u001b[0;34m\u001b[0m\u001b[0;34m\u001b[0m\u001b[0m\n\u001b[0;32m--> 194\u001b[0;31m         \u001b[0mdiss\u001b[0m \u001b[0;34m=\u001b[0m \u001b[0mdissim\u001b[0m\u001b[0;34m(\u001b[0m\u001b[0mcentroids\u001b[0m\u001b[0;34m,\u001b[0m \u001b[0mcurpoint\u001b[0m\u001b[0;34m,\u001b[0m \u001b[0mX\u001b[0m\u001b[0;34m=\u001b[0m\u001b[0mX\u001b[0m\u001b[0;34m,\u001b[0m \u001b[0mmembship\u001b[0m\u001b[0;34m=\u001b[0m\u001b[0mmembship\u001b[0m\u001b[0;34m)\u001b[0m\u001b[0;34m\u001b[0m\u001b[0;34m\u001b[0m\u001b[0m\n\u001b[0m\u001b[1;32m    195\u001b[0m         \u001b[0mclust\u001b[0m \u001b[0;34m=\u001b[0m \u001b[0mnp\u001b[0m\u001b[0;34m.\u001b[0m\u001b[0margmin\u001b[0m\u001b[0;34m(\u001b[0m\u001b[0mdiss\u001b[0m\u001b[0;34m)\u001b[0m\u001b[0;34m\u001b[0m\u001b[0;34m\u001b[0m\u001b[0m\n\u001b[1;32m    196\u001b[0m         \u001b[0mlabels\u001b[0m\u001b[0;34m[\u001b[0m\u001b[0mipoint\u001b[0m\u001b[0;34m]\u001b[0m \u001b[0;34m=\u001b[0m \u001b[0mclust\u001b[0m\u001b[0;34m\u001b[0m\u001b[0;34m\u001b[0m\u001b[0m\n",
            "\u001b[0;32m/usr/local/lib/python3.7/dist-packages/kmodes/util/dissim.py\u001b[0m in \u001b[0;36mmatching_dissim\u001b[0;34m(a, b, **_)\u001b[0m\n\u001b[1;32m      8\u001b[0m \u001b[0;32mdef\u001b[0m \u001b[0mmatching_dissim\u001b[0m\u001b[0;34m(\u001b[0m\u001b[0ma\u001b[0m\u001b[0;34m,\u001b[0m \u001b[0mb\u001b[0m\u001b[0;34m,\u001b[0m \u001b[0;34m**\u001b[0m\u001b[0m_\u001b[0m\u001b[0;34m)\u001b[0m\u001b[0;34m:\u001b[0m\u001b[0;34m\u001b[0m\u001b[0;34m\u001b[0m\u001b[0m\n\u001b[1;32m      9\u001b[0m     \u001b[0;34m\"\"\"Simple matching dissimilarity function\"\"\"\u001b[0m\u001b[0;34m\u001b[0m\u001b[0;34m\u001b[0m\u001b[0m\n\u001b[0;32m---> 10\u001b[0;31m     \u001b[0;32mreturn\u001b[0m \u001b[0mnp\u001b[0m\u001b[0;34m.\u001b[0m\u001b[0msum\u001b[0m\u001b[0;34m(\u001b[0m\u001b[0ma\u001b[0m \u001b[0;34m!=\u001b[0m \u001b[0mb\u001b[0m\u001b[0;34m,\u001b[0m \u001b[0maxis\u001b[0m\u001b[0;34m=\u001b[0m\u001b[0;36m1\u001b[0m\u001b[0;34m)\u001b[0m\u001b[0;34m\u001b[0m\u001b[0;34m\u001b[0m\u001b[0m\n\u001b[0m\u001b[1;32m     11\u001b[0m \u001b[0;34m\u001b[0m\u001b[0m\n\u001b[1;32m     12\u001b[0m \u001b[0;34m\u001b[0m\u001b[0m\n",
            "\u001b[0;31mKeyboardInterrupt\u001b[0m: "
          ]
        }
      ],
      "source": [
        "km_cao = KModes(n_clusters=30, max_iter=10, init = \"Cao\", n_init = 1, verbose=1,random_state=123).fit(X_train)\n",
        "X_train['KMcluster_30'] = km_cao.predict(X_train)\n",
        "X_test['KMcluster_30'] = km_cao.predict(X_test)"
      ]
    },
    {
      "cell_type": "code",
      "source": [
        "X_train.to_csv(path + \"X_train_last_cluster30.csv\", index=False)\n",
        "X_test.to_csv(path + \"X_test_last_cluster30.csv\", index=False)"
      ],
      "metadata": {
        "id": "lGUmlCeoWzOU"
      },
      "execution_count": null,
      "outputs": []
    },
    {
      "cell_type": "markdown",
      "metadata": {
        "id": "3tXzTcDHEZo0"
      },
      "source": [
        "## 최종 데이터셋 출력"
      ]
    },
    {
      "cell_type": "code",
      "execution_count": null,
      "metadata": {
        "id": "8cn92qKFEUNc"
      },
      "outputs": [],
      "source": [
        "X_train.to_csv(path + \"X_train_last__2.csv\", index=False)\n",
        "X_test.to_csv(path + \"X_test_last__2.csv\", index=False)"
      ]
    },
    {
      "cell_type": "code",
      "execution_count": null,
      "metadata": {
        "id": "SP505UV8IqZ-",
        "colab": {
          "base_uri": "https://localhost:8080/"
        },
        "outputId": "fa4418a6-e14f-4130-d83d-d16a502d870a"
      },
      "outputs": [
        {
          "output_type": "stream",
          "name": "stdout",
          "text": [
            "Drive already mounted at /content/drive/; to attempt to forcibly remount, call drive.mount(\"/content/drive/\", force_remount=True).\n"
          ]
        }
      ],
      "source": [
        "from google.colab import drive\n",
        "drive.mount('/content/drive/')\n",
        "path = '/content/drive/MyDrive/Colab Notebooks/job_care/'\n",
        "\n",
        "X_train = pd.read_csv(path + \"X_train_last.csv\")\n",
        "X_test = pd.read_csv(path + \"X_test_last.csv\")\n",
        "train = pd.read_csv(path + \"train.csv\")\n",
        "y_train = train[\"target\"]\n",
        "submission = pd.read_csv(path +\"sample_submission.csv\")"
      ]
    },
    {
      "cell_type": "markdown",
      "source": [
        "#K-mode 데이터셋 입력"
      ],
      "metadata": {
        "id": "HIt2uO8sN7bU"
      }
    },
    {
      "cell_type": "code",
      "source": [
        "X_train1 = pd.read_csv(path + \"X_train_last_2:02.csv\")\n",
        "X_test1 = pd.read_csv(path + \"X_test_last__2:02.csv\")\n",
        "X_train2 = pd.read_csv(path + \"X_train_last_cluster20.csv\")\n",
        "X_test2 = pd.read_csv(path + \"X_test_last_cluster20.csv\")"
      ],
      "metadata": {
        "id": "A9zyjmqKOLcx"
      },
      "execution_count": 59,
      "outputs": []
    },
    {
      "cell_type": "code",
      "source": [
        "X_train[['KMcluster_5','KMcluster_10']]=X_train1[['KMcluster_5','KMcluster_10']]\n",
        "X_test[['KMcluster_5','KMcluster_10']]=X_test1[['KMcluster_5','KMcluster_10']]\n",
        "X_train['KMcluster_20']=X_train2['KMcluster_20']\n",
        "X_test['KMcluster_20']=X_test2['KMcluster_20']"
      ],
      "metadata": {
        "id": "upf7zW0JOLmQ"
      },
      "execution_count": 60,
      "outputs": []
    },
    {
      "cell_type": "code",
      "source": [
        "X_train.to_csv(path + \"X_train_1_28_no_means.csv\", index=False)\n",
        "X_test.to_csv(path + \"X_test_1_28_no_means.csv\", index=False)"
      ],
      "metadata": {
        "id": "wFK0PaczeLhe"
      },
      "execution_count": 61,
      "outputs": []
    },
    {
      "cell_type": "markdown",
      "metadata": {
        "id": "US_Moit-EeaT"
      },
      "source": [
        "## Origin Model(catboost)\n",
        "\n",
        "- OOF Ensemble\n",
        "\n"
      ]
    },
    {
      "cell_type": "code",
      "execution_count": 29,
      "metadata": {
        "id": "1Uik_HWWJl6L"
      },
      "outputs": [],
      "source": [
        "n_est = 3000\n",
        "seed = 42\n",
        "n_fold = 7\n",
        "n_class = 1\n",
        "\n",
        "X = X_train.copy()\n",
        "y = y_train"
      ]
    },
    {
      "cell_type": "code",
      "execution_count": 31,
      "metadata": {
        "id": "NC5_V-WJJrdi",
        "outputId": "e2b05120-74d6-46a1-d43a-34f40fd982ff",
        "colab": {
          "base_uri": "https://localhost:8080/"
        }
      },
      "outputs": [
        {
          "output_type": "stream",
          "name": "stdout",
          "text": [
            "\n",
            "----------------- Fold 0 -----------------\n",
            "\n",
            "Learning rate set to 0.042526\n",
            "0:\tlearn: 0.6207187\ttest: 0.6248706\tbest: 0.6248706 (0)\ttotal: 702ms\tremaining: 11m 41s\n",
            "100:\tlearn: 0.6447296\ttest: 0.6567642\tbest: 0.6574337 (89)\ttotal: 1m 2s\tremaining: 9m 15s\n",
            "200:\tlearn: 0.6554367\ttest: 0.6701740\tbest: 0.6701740 (200)\ttotal: 1m 59s\tremaining: 7m 54s\n",
            "300:\tlearn: 0.6603406\ttest: 0.6732227\tbest: 0.6734397 (294)\ttotal: 2m 54s\tremaining: 6m 44s\n",
            "400:\tlearn: 0.6642132\ttest: 0.6766138\tbest: 0.6767778 (394)\ttotal: 3m 47s\tremaining: 5m 40s\n",
            "500:\tlearn: 0.6671709\ttest: 0.6777919\tbest: 0.6780638 (465)\ttotal: 4m 40s\tremaining: 4m 39s\n",
            "600:\tlearn: 0.6691731\ttest: 0.6782856\tbest: 0.6789288 (587)\ttotal: 5m 33s\tremaining: 3m 41s\n",
            "700:\tlearn: 0.6706606\ttest: 0.6785976\tbest: 0.6792357 (671)\ttotal: 6m 25s\tremaining: 2m 44s\n",
            "bestTest = 0.6792357299\n",
            "bestIteration = 671\n",
            "Shrink model to first 672 iterations.\n",
            "CV F1 score: 0.710451\n",
            "\n",
            "----------------- Fold 1 -----------------\n",
            "\n",
            "Learning rate set to 0.042526\n",
            "0:\tlearn: 0.6064398\ttest: 0.6090982\tbest: 0.6090982 (0)\ttotal: 667ms\tremaining: 11m 6s\n",
            "100:\tlearn: 0.6468769\ttest: 0.6613075\tbest: 0.6615003 (98)\ttotal: 1m 1s\tremaining: 9m 3s\n",
            "200:\tlearn: 0.6562975\ttest: 0.6733473\tbest: 0.6733473 (200)\ttotal: 1m 57s\tremaining: 7m 45s\n",
            "300:\tlearn: 0.6615344\ttest: 0.6794375\tbest: 0.6798301 (296)\ttotal: 2m 51s\tremaining: 6m 38s\n",
            "400:\tlearn: 0.6652145\ttest: 0.6825318\tbest: 0.6829198 (389)\ttotal: 3m 45s\tremaining: 5m 37s\n",
            "500:\tlearn: 0.6682678\ttest: 0.6837890\tbest: 0.6840290 (495)\ttotal: 4m 39s\tremaining: 4m 37s\n",
            "600:\tlearn: 0.6704571\ttest: 0.6836418\tbest: 0.6841946 (517)\ttotal: 5m 32s\tremaining: 3m 40s\n",
            "bestTest = 0.6841946207\n",
            "bestIteration = 517\n",
            "Shrink model to first 518 iterations.\n",
            "CV F1 score: 0.708154\n",
            "\n",
            "----------------- Fold 2 -----------------\n",
            "\n",
            "Learning rate set to 0.042526\n",
            "0:\tlearn: 0.6122998\ttest: 0.6097410\tbest: 0.6097410 (0)\ttotal: 634ms\tremaining: 10m 33s\n",
            "100:\tlearn: 0.6484927\ttest: 0.6572872\tbest: 0.6575916 (99)\ttotal: 1m\tremaining: 8m 57s\n",
            "200:\tlearn: 0.6571190\ttest: 0.6668755\tbest: 0.6668755 (200)\ttotal: 1m 57s\tremaining: 7m 48s\n",
            "300:\tlearn: 0.6619692\ttest: 0.6714833\tbest: 0.6715172 (298)\ttotal: 2m 53s\tremaining: 6m 42s\n",
            "400:\tlearn: 0.6663748\ttest: 0.6741796\tbest: 0.6741959 (394)\ttotal: 3m 47s\tremaining: 5m 39s\n",
            "500:\tlearn: 0.6692616\ttest: 0.6761991\tbest: 0.6764078 (489)\ttotal: 4m 40s\tremaining: 4m 39s\n",
            "600:\tlearn: 0.6712073\ttest: 0.6774447\tbest: 0.6776761 (580)\ttotal: 5m 32s\tremaining: 3m 40s\n",
            "700:\tlearn: 0.6727097\ttest: 0.6781585\tbest: 0.6782460 (693)\ttotal: 6m 24s\tremaining: 2m 44s\n",
            "800:\tlearn: 0.6737633\ttest: 0.6789641\tbest: 0.6790099 (799)\ttotal: 7m 16s\tremaining: 1m 48s\n",
            "900:\tlearn: 0.6750516\ttest: 0.6794572\tbest: 0.6794925 (898)\ttotal: 8m 8s\tremaining: 53.7s\n",
            "999:\tlearn: 0.6761780\ttest: 0.6790422\tbest: 0.6795689 (912)\ttotal: 9m\tremaining: 0us\n",
            "bestTest = 0.6795689172\n",
            "bestIteration = 912\n",
            "Shrink model to first 913 iterations.\n",
            "CV F1 score: 0.709499\n",
            "\n",
            "----------------- Fold 3 -----------------\n",
            "\n",
            "Learning rate set to 0.042526\n",
            "0:\tlearn: 0.6051503\ttest: 0.6107737\tbest: 0.6107737 (0)\ttotal: 688ms\tremaining: 11m 27s\n",
            "100:\tlearn: 0.6476060\ttest: 0.6619293\tbest: 0.6619293 (100)\ttotal: 1m 1s\tremaining: 9m 7s\n",
            "200:\tlearn: 0.6563933\ttest: 0.6708687\tbest: 0.6708687 (200)\ttotal: 1m 57s\tremaining: 7m 46s\n",
            "300:\tlearn: 0.6611404\ttest: 0.6758090\tbest: 0.6760782 (292)\ttotal: 2m 50s\tremaining: 6m 36s\n",
            "400:\tlearn: 0.6655790\ttest: 0.6774101\tbest: 0.6776816 (390)\ttotal: 3m 43s\tremaining: 5m 34s\n",
            "500:\tlearn: 0.6687253\ttest: 0.6796076\tbest: 0.6797885 (482)\ttotal: 4m 37s\tremaining: 4m 35s\n",
            "600:\tlearn: 0.6709962\ttest: 0.6812229\tbest: 0.6816324 (584)\ttotal: 5m 30s\tremaining: 3m 39s\n",
            "bestTest = 0.6816324378\n",
            "bestIteration = 584\n",
            "Shrink model to first 585 iterations.\n",
            "CV F1 score: 0.709968\n",
            "\n",
            "----------------- Fold 4 -----------------\n",
            "\n",
            "Learning rate set to 0.042526\n",
            "0:\tlearn: 0.6007612\ttest: 0.6006008\tbest: 0.6006008 (0)\ttotal: 636ms\tremaining: 10m 35s\n",
            "100:\tlearn: 0.6456225\ttest: 0.6613665\tbest: 0.6613665 (100)\ttotal: 1m\tremaining: 8m 55s\n",
            "200:\tlearn: 0.6558193\ttest: 0.6726275\tbest: 0.6726498 (199)\ttotal: 1m 56s\tremaining: 7m 41s\n",
            "300:\tlearn: 0.6608974\ttest: 0.6762527\tbest: 0.6763602 (299)\ttotal: 2m 50s\tremaining: 6m 35s\n",
            "400:\tlearn: 0.6653482\ttest: 0.6788854\tbest: 0.6788854 (400)\ttotal: 3m 44s\tremaining: 5m 35s\n",
            "500:\tlearn: 0.6683564\ttest: 0.6798839\tbest: 0.6802510 (499)\ttotal: 4m 36s\tremaining: 4m 35s\n",
            "600:\tlearn: 0.6705084\ttest: 0.6807444\tbest: 0.6808656 (542)\ttotal: 5m 30s\tremaining: 3m 39s\n",
            "700:\tlearn: 0.6720177\ttest: 0.6806077\tbest: 0.6816069 (628)\ttotal: 6m 22s\tremaining: 2m 43s\n",
            "bestTest = 0.6816068882\n",
            "bestIteration = 628\n",
            "Shrink model to first 629 iterations.\n",
            "CV F1 score: 0.710989\n",
            "\n",
            "----------------- Fold 5 -----------------\n",
            "\n",
            "Learning rate set to 0.042526\n",
            "0:\tlearn: 0.5897957\ttest: 0.5904562\tbest: 0.5904562 (0)\ttotal: 642ms\tremaining: 10m 41s\n",
            "100:\tlearn: 0.6469546\ttest: 0.6602138\tbest: 0.6604389 (99)\ttotal: 1m\tremaining: 8m 57s\n",
            "200:\tlearn: 0.6550512\ttest: 0.6692625\tbest: 0.6692625 (200)\ttotal: 1m 55s\tremaining: 7m 40s\n",
            "300:\tlearn: 0.6610407\ttest: 0.6738793\tbest: 0.6739913 (299)\ttotal: 2m 50s\tremaining: 6m 35s\n",
            "400:\tlearn: 0.6656445\ttest: 0.6767222\tbest: 0.6767222 (400)\ttotal: 3m 44s\tremaining: 5m 35s\n",
            "500:\tlearn: 0.6685659\ttest: 0.6785498\tbest: 0.6785498 (500)\ttotal: 4m 38s\tremaining: 4m 37s\n",
            "600:\tlearn: 0.6703332\ttest: 0.6788541\tbest: 0.6794015 (585)\ttotal: 5m 30s\tremaining: 3m 39s\n",
            "700:\tlearn: 0.6721590\ttest: 0.6799575\tbest: 0.6800983 (698)\ttotal: 6m 22s\tremaining: 2m 43s\n",
            "800:\tlearn: 0.6733531\ttest: 0.6807028\tbest: 0.6809212 (786)\ttotal: 7m 14s\tremaining: 1m 48s\n",
            "bestTest = 0.6809212276\n",
            "bestIteration = 786\n",
            "Shrink model to first 787 iterations.\n",
            "CV F1 score: 0.710712\n",
            "\n",
            "----------------- Fold 6 -----------------\n",
            "\n",
            "Learning rate set to 0.042526\n",
            "0:\tlearn: 0.6170080\ttest: 0.6219989\tbest: 0.6219989 (0)\ttotal: 793ms\tremaining: 13m 12s\n",
            "100:\tlearn: 0.6472981\ttest: 0.6658071\tbest: 0.6661821 (97)\ttotal: 1m\tremaining: 8m 58s\n",
            "200:\tlearn: 0.6553164\ttest: 0.6736259\tbest: 0.6737498 (196)\ttotal: 1m 55s\tremaining: 7m 39s\n",
            "300:\tlearn: 0.6607433\ttest: 0.6788841\tbest: 0.6790046 (294)\ttotal: 2m 49s\tremaining: 6m 33s\n",
            "400:\tlearn: 0.6647074\ttest: 0.6804817\tbest: 0.6806008 (392)\ttotal: 3m 43s\tremaining: 5m 33s\n",
            "500:\tlearn: 0.6677562\ttest: 0.6832892\tbest: 0.6836378 (495)\ttotal: 4m 36s\tremaining: 4m 34s\n",
            "600:\tlearn: 0.6697544\ttest: 0.6837353\tbest: 0.6837867 (556)\ttotal: 5m 29s\tremaining: 3m 38s\n",
            "700:\tlearn: 0.6717148\ttest: 0.6841147\tbest: 0.6844459 (685)\ttotal: 6m 21s\tremaining: 2m 42s\n",
            "bestTest = 0.6844458513\n",
            "bestIteration = 685\n",
            "Shrink model to first 686 iterations.\n",
            "CV F1 score: 0.712078\n",
            "\tF1 score: 0.710262\n"
          ]
        }
      ],
      "source": [
        "#k 개의  모델을 다 사용하되 앙상블 처럼 각 모델에서 주는 output 들의 평균값을 사용하여 최종 pred 산출(OOF Ensemble)\n",
        "\n",
        "skfold = StratifiedKFold(n_splits=n_fold, shuffle=True, random_state=seed)\n",
        "folds=[]\n",
        "for train_idx, valid_idx in skfold.split(X, y):\n",
        "        folds.append((train_idx, valid_idx))\n",
        "\n",
        "cat_pred = np.zeros((X.shape[0], n_class))\n",
        "cat_pred_test = 0\n",
        "cat_cols = X_train.columns[X_train.nunique() > 2].tolist()\n",
        "for fold in range(n_fold):\n",
        "  print(f'\\n----------------- Fold {fold} -----------------\\n')\n",
        "  train_idx, valid_idx = folds[fold]\n",
        "  X_train, X_valid, y_train, y_valid = X.iloc[train_idx], X.iloc[valid_idx], y[train_idx], y[valid_idx]\n",
        "  train_data = Pool(data=X_train, label=y_train, cat_features=cat_cols)\n",
        "  valid_data = Pool(data=X_valid, label=y_valid, cat_features=cat_cols)\n",
        "\n",
        "  model_cat = CatBoostClassifier(eval_metric=\"F1\", task_type='GPU')\n",
        "  model_cat.fit(train_data, eval_set=valid_data, use_best_model=True, early_stopping_rounds=100, verbose=100)\n",
        "  \n",
        "  cat_pred[valid_idx] = pd.DataFrame(model_cat.predict_proba(X_valid)[:, 1], index=X_valid.index)\n",
        "  cat_pred_test = cat_pred_test + (model_cat.predict_proba(X_test)[:, 1] / n_fold)\n",
        "  pred = np.where(cat_pred >= 0.4 , 1, 0)\n",
        "  pred_test = np.where(cat_pred_test >= 0.4 , 1, 0)\n",
        "\n",
        "  print(f'CV F1 score: {f1_score(y_valid, pred[valid_idx]):.6f}')\n",
        "    \n",
        "print(f'\\tF1 score: {f1_score(y, pred):.6f}')"
      ]
    },
    {
      "cell_type": "code",
      "execution_count": 32,
      "metadata": {
        "id": "m9P6q5MLXDx6",
        "outputId": "c08e00de-088f-47c7-a808-c321518c7ee3",
        "colab": {
          "base_uri": "https://localhost:8080/",
          "height": 423
        }
      },
      "outputs": [
        {
          "output_type": "execute_result",
          "data": {
            "text/html": [
              "\n",
              "  <div id=\"df-8afa44f6-0f1c-4fb6-8e42-83c093ec4a45\">\n",
              "    <div class=\"colab-df-container\">\n",
              "      <div>\n",
              "<style scoped>\n",
              "    .dataframe tbody tr th:only-of-type {\n",
              "        vertical-align: middle;\n",
              "    }\n",
              "\n",
              "    .dataframe tbody tr th {\n",
              "        vertical-align: top;\n",
              "    }\n",
              "\n",
              "    .dataframe thead th {\n",
              "        text-align: right;\n",
              "    }\n",
              "</style>\n",
              "<table border=\"1\" class=\"dataframe\">\n",
              "  <thead>\n",
              "    <tr style=\"text-align: right;\">\n",
              "      <th></th>\n",
              "      <th>id</th>\n",
              "      <th>target</th>\n",
              "    </tr>\n",
              "  </thead>\n",
              "  <tbody>\n",
              "    <tr>\n",
              "      <th>0</th>\n",
              "      <td>0</td>\n",
              "      <td>1</td>\n",
              "    </tr>\n",
              "    <tr>\n",
              "      <th>1</th>\n",
              "      <td>1</td>\n",
              "      <td>0</td>\n",
              "    </tr>\n",
              "    <tr>\n",
              "      <th>2</th>\n",
              "      <td>2</td>\n",
              "      <td>1</td>\n",
              "    </tr>\n",
              "    <tr>\n",
              "      <th>3</th>\n",
              "      <td>3</td>\n",
              "      <td>0</td>\n",
              "    </tr>\n",
              "    <tr>\n",
              "      <th>4</th>\n",
              "      <td>4</td>\n",
              "      <td>0</td>\n",
              "    </tr>\n",
              "    <tr>\n",
              "      <th>...</th>\n",
              "      <td>...</td>\n",
              "      <td>...</td>\n",
              "    </tr>\n",
              "    <tr>\n",
              "      <th>46399</th>\n",
              "      <td>46399</td>\n",
              "      <td>1</td>\n",
              "    </tr>\n",
              "    <tr>\n",
              "      <th>46400</th>\n",
              "      <td>46400</td>\n",
              "      <td>1</td>\n",
              "    </tr>\n",
              "    <tr>\n",
              "      <th>46401</th>\n",
              "      <td>46401</td>\n",
              "      <td>1</td>\n",
              "    </tr>\n",
              "    <tr>\n",
              "      <th>46402</th>\n",
              "      <td>46402</td>\n",
              "      <td>1</td>\n",
              "    </tr>\n",
              "    <tr>\n",
              "      <th>46403</th>\n",
              "      <td>46403</td>\n",
              "      <td>1</td>\n",
              "    </tr>\n",
              "  </tbody>\n",
              "</table>\n",
              "<p>46404 rows × 2 columns</p>\n",
              "</div>\n",
              "      <button class=\"colab-df-convert\" onclick=\"convertToInteractive('df-8afa44f6-0f1c-4fb6-8e42-83c093ec4a45')\"\n",
              "              title=\"Convert this dataframe to an interactive table.\"\n",
              "              style=\"display:none;\">\n",
              "        \n",
              "  <svg xmlns=\"http://www.w3.org/2000/svg\" height=\"24px\"viewBox=\"0 0 24 24\"\n",
              "       width=\"24px\">\n",
              "    <path d=\"M0 0h24v24H0V0z\" fill=\"none\"/>\n",
              "    <path d=\"M18.56 5.44l.94 2.06.94-2.06 2.06-.94-2.06-.94-.94-2.06-.94 2.06-2.06.94zm-11 1L8.5 8.5l.94-2.06 2.06-.94-2.06-.94L8.5 2.5l-.94 2.06-2.06.94zm10 10l.94 2.06.94-2.06 2.06-.94-2.06-.94-.94-2.06-.94 2.06-2.06.94z\"/><path d=\"M17.41 7.96l-1.37-1.37c-.4-.4-.92-.59-1.43-.59-.52 0-1.04.2-1.43.59L10.3 9.45l-7.72 7.72c-.78.78-.78 2.05 0 2.83L4 21.41c.39.39.9.59 1.41.59.51 0 1.02-.2 1.41-.59l7.78-7.78 2.81-2.81c.8-.78.8-2.07 0-2.86zM5.41 20L4 18.59l7.72-7.72 1.47 1.35L5.41 20z\"/>\n",
              "  </svg>\n",
              "      </button>\n",
              "      \n",
              "  <style>\n",
              "    .colab-df-container {\n",
              "      display:flex;\n",
              "      flex-wrap:wrap;\n",
              "      gap: 12px;\n",
              "    }\n",
              "\n",
              "    .colab-df-convert {\n",
              "      background-color: #E8F0FE;\n",
              "      border: none;\n",
              "      border-radius: 50%;\n",
              "      cursor: pointer;\n",
              "      display: none;\n",
              "      fill: #1967D2;\n",
              "      height: 32px;\n",
              "      padding: 0 0 0 0;\n",
              "      width: 32px;\n",
              "    }\n",
              "\n",
              "    .colab-df-convert:hover {\n",
              "      background-color: #E2EBFA;\n",
              "      box-shadow: 0px 1px 2px rgba(60, 64, 67, 0.3), 0px 1px 3px 1px rgba(60, 64, 67, 0.15);\n",
              "      fill: #174EA6;\n",
              "    }\n",
              "\n",
              "    [theme=dark] .colab-df-convert {\n",
              "      background-color: #3B4455;\n",
              "      fill: #D2E3FC;\n",
              "    }\n",
              "\n",
              "    [theme=dark] .colab-df-convert:hover {\n",
              "      background-color: #434B5C;\n",
              "      box-shadow: 0px 1px 3px 1px rgba(0, 0, 0, 0.15);\n",
              "      filter: drop-shadow(0px 1px 2px rgba(0, 0, 0, 0.3));\n",
              "      fill: #FFFFFF;\n",
              "    }\n",
              "  </style>\n",
              "\n",
              "      <script>\n",
              "        const buttonEl =\n",
              "          document.querySelector('#df-8afa44f6-0f1c-4fb6-8e42-83c093ec4a45 button.colab-df-convert');\n",
              "        buttonEl.style.display =\n",
              "          google.colab.kernel.accessAllowed ? 'block' : 'none';\n",
              "\n",
              "        async function convertToInteractive(key) {\n",
              "          const element = document.querySelector('#df-8afa44f6-0f1c-4fb6-8e42-83c093ec4a45');\n",
              "          const dataTable =\n",
              "            await google.colab.kernel.invokeFunction('convertToInteractive',\n",
              "                                                     [key], {});\n",
              "          if (!dataTable) return;\n",
              "\n",
              "          const docLinkHtml = 'Like what you see? Visit the ' +\n",
              "            '<a target=\"_blank\" href=https://colab.research.google.com/notebooks/data_table.ipynb>data table notebook</a>'\n",
              "            + ' to learn more about interactive tables.';\n",
              "          element.innerHTML = '';\n",
              "          dataTable['output_type'] = 'display_data';\n",
              "          await google.colab.output.renderOutput(dataTable, element);\n",
              "          const docLink = document.createElement('div');\n",
              "          docLink.innerHTML = docLinkHtml;\n",
              "          element.appendChild(docLink);\n",
              "        }\n",
              "      </script>\n",
              "    </div>\n",
              "  </div>\n",
              "  "
            ],
            "text/plain": [
              "          id  target\n",
              "0          0       1\n",
              "1          1       0\n",
              "2          2       1\n",
              "3          3       0\n",
              "4          4       0\n",
              "...      ...     ...\n",
              "46399  46399       1\n",
              "46400  46400       1\n",
              "46401  46401       1\n",
              "46402  46402       1\n",
              "46403  46403       1\n",
              "\n",
              "[46404 rows x 2 columns]"
            ]
          },
          "metadata": {},
          "execution_count": 32
        }
      ],
      "source": [
        "submission['target'] = pred_test\n",
        "submission"
      ]
    },
    {
      "cell_type": "code",
      "execution_count": 33,
      "metadata": {
        "id": "oJtZk4bCXYUJ"
      },
      "outputs": [],
      "source": [
        "submission['target'] = pred_test\n",
        "submission\n",
        "submission.to_csv(path + \"prediction_0128_1.csv\", index=False)"
      ]
    },
    {
      "cell_type": "code",
      "execution_count": null,
      "metadata": {
        "id": "tOefClojxxLK"
      },
      "outputs": [],
      "source": [
        ""
      ]
    },
    {
      "cell_type": "code",
      "source": [
        ""
      ],
      "metadata": {
        "id": "XEnd5Lf0N4ho"
      },
      "execution_count": null,
      "outputs": []
    },
    {
      "cell_type": "markdown",
      "metadata": {
        "id": "2Xr0fcR4VDNA"
      },
      "source": [
        "# Model 2(catboost)\n",
        "\n",
        "- 하이퍼 파라미터 적용, k =10\n",
        "\n",
        "\n"
      ]
    },
    {
      "cell_type": "code",
      "execution_count": null,
      "metadata": {
        "id": "WmKojGJBdJKL"
      },
      "outputs": [],
      "source": [
        "import optuna"
      ]
    },
    {
      "cell_type": "code",
      "execution_count": null,
      "metadata": {
        "id": "aboY7J8KcoVP"
      },
      "outputs": [],
      "source": [
        "def objective(trial, data=X, target=y):\n",
        "    X_train, X_val, y_train, y_val = train_test_split(X, y, test_size=0.2, random_state=42)\n",
        "\n",
        "    params = {\n",
        "        'max_depth': trial.suggest_int('max_depth', 3, 16),\n",
        "        'learning_rate': trial.suggest_categorical('learning_rate', [0.005, 0.02, 0.05, 0.08, 0.1]),\n",
        "        'n_estimators': trial.suggest_int('n_estimators', 2000, 8000),\n",
        "        'max_bin': trial.suggest_int('max_bin', 200, 400),\n",
        "        'min_data_in_leaf': trial.suggest_int('min_data_in_leaf', 1, 300),\n",
        "        'l2_leaf_reg': trial.suggest_float('l2_leaf_reg', 0.0001, 1.0, log = True),\n",
        "        'subsample': trial.suggest_float('subsample', 0.1, 0.8),\n",
        "        'random_seed': 42,\n",
        "        'task_type': 'GPU',\n",
        "        'loss_function': 'Logloss',\n",
        "        'eval_metric': 'F1',\n",
        "        'bootstrap_type': 'Poisson'\n",
        "    }\n",
        "    \n",
        "    model = CatBoostClassifier(**params)  \n",
        "    model.fit(X_train, y_train, eval_set = [(X_val,y_val)], early_stopping_rounds = 222, verbose = False)\n",
        "    cat_pred = model.predict_proba(X_val)[:,1]\n",
        "    y_pred = np.where(cat_pred >= 0.4 , 1, 0)\n",
        "    F1_score = f1_score(y_val, y_pred)\n",
        "\n",
        "    return F1_score"
      ]
    },
    {
      "cell_type": "code",
      "execution_count": null,
      "metadata": {
        "id": "C-IAuce3c8Mx"
      },
      "outputs": [],
      "source": [
        "study = optuna.create_study(direction = 'maximize')\n",
        "study.optimize(objective, n_trials = 30)\n",
        "print('Number of finished trials:', len(study.trials))\n",
        "print('Best trial:', study.best_trial.params)\n",
        "print('Best value:', study.best_value)"
      ]
    },
    {
      "cell_type": "markdown",
      "metadata": {
        "id": "CLv4xrJBAihP"
      },
      "source": [
        "Number of finished trials: 30\n",
        "\n",
        "Best trial: {'max_depth': 10, 'learning_rate': 0.02, 'n_estimators': 2099, 'max_bin': 231, 'min_data_in_leaf': 61, 'l2_leaf_reg': 0.21933100943955486, 'subsample': 0.6525918984479465}\n",
        "\n",
        "Best value: 0.6913040754315071"
      ]
    },
    {
      "cell_type": "code",
      "execution_count": null,
      "metadata": {
        "id": "dFJDFexk4qxK"
      },
      "outputs": [],
      "source": [
        "seed = 42\n",
        "n_fold = 7\n",
        "n_class = 1\n",
        "\n",
        "X = X_train.copy()\n",
        "y = y_train"
      ]
    },
    {
      "cell_type": "code",
      "execution_count": null,
      "metadata": {
        "id": "BXeHBQ-H4yTd"
      },
      "outputs": [],
      "source": [
        "#k 개의  모델을 다 사용하되 앙상블 처럼 각 모델에서 주는 output 들의 평균값을 사용하여 최종 pred 산출(OOF Ensemble)\n",
        "\n",
        "skfold = StratifiedKFold(n_splits=n_fold, shuffle=True, random_state=seed)\n",
        "folds=[]\n",
        "for train_idx, valid_idx in skfold.split(X, y):\n",
        "        folds.append((train_idx, valid_idx))\n",
        "\n",
        "cat_pred = np.zeros((X.shape[0], n_class))\n",
        "cat_pred_test = 0\n",
        "cat_cols = X_train.columns[X_train.nunique() > 2].tolist()\n",
        "for fold in range(n_fold):\n",
        "  print(f'\\n----------------- Fold {fold} -----------------\\n')\n",
        "  train_idx, valid_idx = folds[fold]\n",
        "  X_train, X_valid, y_train, y_valid = X.iloc[train_idx], X.iloc[valid_idx], y[train_idx], y[valid_idx]\n",
        "  train_data = Pool(data=X_train, label=y_train, cat_features=cat_cols)\n",
        "  valid_data = Pool(data=X_valid, label=y_valid, cat_features=cat_cols)\n",
        "\n",
        "  model_cat = CatBoostClassifier(max_depth=10,learning_rate=0.02,n_estimators=2099,max_bin=231,min_data_in_leaf=61,l2_leaf_reg=0.2193,subsample=0.6525,eval_metric=\"F1\", task_type='GPU',bootstrap_type='Poisson')\n",
        "  model_cat.fit(train_data, eval_set=valid_data, use_best_model=True, early_stopping_rounds=100, verbose=100)\n",
        "  \n",
        "  cat_pred[valid_idx] = pd.DataFrame(model_cat.predict_proba(X_valid)[:, 1], index=X_valid.index)\n",
        "  cat_pred_test = cat_pred_test + (model_cat.predict_proba(X_test)[:, 1] / n_fold)\n",
        "  pred = np.where(cat_pred >= 0.4 , 1, 0)\n",
        "  pred_test = np.where(cat_pred_test >= 0.4 , 1, 0)\n",
        "\n",
        "  print(f'CV F1 score: {f1_score(y_valid, pred[valid_idx]):.6f}')\n",
        "    \n",
        "print(f'\\tF1 score: {f1_score(y, pred):.6f}')"
      ]
    },
    {
      "cell_type": "markdown",
      "metadata": {
        "id": "RXVLsbGbMrVw"
      },
      "source": [
        "##### 1. 현재 모델 성능 보기 \n",
        "- (1) 제출 : 0.697899159\n",
        "- (2) valid: 0.708\n",
        "\n",
        "##### 2. K-fold 앙상블 적용하지 않고, 모델 생성 후 점수 보기\n",
        "##### 3. fold 개수 변경해보기 \n",
        "- (1) k=15 => 제출: 0.69691\n",
        "- (2) k=20 =>\t\n",
        "\n",
        "##### 4. 피처 인포턴스 기반으로 피처 개수 정리\n",
        "- 5개 정도 피처 제거 해보고 나머지 다른거\n",
        "\n",
        "##### 5. one-hot-max 파라미터 수정\n",
        "(1) \n",
        "- one_hot_max_size = 20\n",
        "- k=7\n",
        "- optuna 최적 하이퍼 파라미터 적용\n",
        "(2)\n",
        "- one_hot_max_size =10\n",
        "- k=7\n",
        "- optuna 최적 하이퍼 파라미터 적용\n",
        "\n",
        "##### 6. 결정트리 스태킹\n",
        "##### 7. 하이퍼 파라미터 적용\n",
        "- optuna 최적 하이퍼 파라미터 적용 \n",
        "- valid :0.71 제출: 0.69843\n"
      ]
    },
    {
      "cell_type": "markdown",
      "metadata": {
        "id": "VUNTN7i-rvx7"
      },
      "source": [
        "#Model 3 one_hot_max_size = 20"
      ]
    },
    {
      "cell_type": "code",
      "execution_count": null,
      "metadata": {
        "id": "epdjpUqrJQ12"
      },
      "outputs": [],
      "source": [
        "#k 개의  모델을 다 사용하되 앙상블 처럼 각 모델에서 주는 output 들의 평균값을 사용하여 최종 pred 산출(OOF Ensemble)\n",
        "\n",
        "skfold = StratifiedKFold(n_splits=n_fold, shuffle=True, random_state=seed)\n",
        "folds=[]\n",
        "for train_idx, valid_idx in skfold.split(X, y):\n",
        "        folds.append((train_idx, valid_idx))\n",
        "\n",
        "cat_pred = np.zeros((X.shape[0], n_class))\n",
        "cat_pred_test = 0\n",
        "cat_cols = X_train.columns[X_train.nunique() > 2].tolist()\n",
        "for fold in range(n_fold):\n",
        "  print(f'\\n----------------- Fold {fold} -----------------\\n')\n",
        "  train_idx, valid_idx = folds[fold]\n",
        "  X_train, X_valid, y_train, y_valid = X.iloc[train_idx], X.iloc[valid_idx], y[train_idx], y[valid_idx]\n",
        "  train_data = Pool(data=X_train, label=y_train, cat_features=cat_cols)\n",
        "  valid_data = Pool(data=X_valid, label=y_valid, cat_features=cat_cols)\n",
        "\n",
        "  model_cat = CatBoostClassifier(max_depth=10,learning_rate=0.02,n_estimators=2099,max_bin=231,min_data_in_leaf=61,l2_leaf_reg=0.2193,subsample=0.6525,eval_metric=\"F1\", task_type='GPU',bootstrap_type='Poisson', one_hot_max_size=20)\n",
        "  model_cat.fit(train_data, eval_set=valid_data, use_best_model=True, early_stopping_rounds=100, verbose=100)\n",
        "  \n",
        "  cat_pred[valid_idx] = pd.DataFrame(model_cat.predict_proba(X_valid)[:, 1], index=X_valid.index)\n",
        "  cat_pred_test = cat_pred_test + (model_cat.predict_proba(X_test)[:, 1] / n_fold)\n",
        "  pred = np.where(cat_pred >= 0.4 , 1, 0)\n",
        "  pred_test = np.where(cat_pred_test >= 0.4 , 1, 0)\n",
        "\n",
        "  print(f'CV F1 score: {f1_score(y_valid, pred[valid_idx]):.6f}')\n",
        "    \n",
        "print(f'\\tF1 score: {f1_score(y, pred):.6f}')"
      ]
    },
    {
      "cell_type": "markdown",
      "metadata": {
        "id": "eKu2tauSbLIu"
      },
      "source": [
        "\n",
        "\n",
        "```\n",
        "----------------- Fold 0 -----------------\n",
        "\n",
        "0:\tlearn: 0.6251861\ttest: 0.6263958\tbest: 0.6263958 (0)\ttotal: 698ms\tremaining: 24m 25s\n",
        "100:\tlearn: 0.6475928\ttest: 0.6477361\tbest: 0.6477361 (100)\ttotal: 57s\tremaining: 18m 46s\n",
        "200:\tlearn: 0.6596423\ttest: 0.6606113\tbest: 0.6608103 (198)\ttotal: 1m 53s\tremaining: 17m 50s\n",
        "300:\tlearn: 0.6691474\ttest: 0.6678405\tbest: 0.6679603 (295)\ttotal: 2m 50s\tremaining: 16m 55s\n",
        "400:\tlearn: 0.6771361\ttest: 0.6706509\tbest: 0.6707179 (375)\ttotal: 3m 45s\tremaining: 15m 55s\n",
        "500:\tlearn: 0.6841943\ttest: 0.6723041\tbest: 0.6723131 (499)\ttotal: 4m 41s\tremaining: 14m 57s\n",
        "600:\tlearn: 0.6909437\ttest: 0.6734091\tbest: 0.6737398 (593)\ttotal: 5m 34s\tremaining: 13m 53s\n",
        "700:\tlearn: 0.6973506\ttest: 0.6741371\tbest: 0.6742679 (686)\ttotal: 6m 26s\tremaining: 12m 51s\n",
        "800:\tlearn: 0.7036685\ttest: 0.6740731\tbest: 0.6747530 (730)\ttotal: 7m 19s\tremaining: 11m 51s\n",
        "bestTest = 0.6747529795\n",
        "bestIteration = 730\n",
        "Shrink model to first 731 iterations.\n",
        "CV F1 score: 0.705351\n",
        "\n",
        "----------------- Fold 1 -----------------\n",
        "\n",
        "0:\tlearn: 0.6319002\ttest: 0.6334199\tbest: 0.6334199 (0)\ttotal: 607ms\tremaining: 21m 14s\n",
        "100:\tlearn: 0.6485649\ttest: 0.6512819\tbest: 0.6512998 (98)\ttotal: 56.5s\tremaining: 18m 37s\n",
        "200:\tlearn: 0.6607434\ttest: 0.6639592\tbest: 0.6639858 (198)\ttotal: 1m 52s\tremaining: 17m 39s\n",
        "300:\tlearn: 0.6692984\ttest: 0.6679811\tbest: 0.6683066 (298)\ttotal: 2m 48s\tremaining: 16m 44s\n",
        "400:\tlearn: 0.6778644\ttest: 0.6726720\tbest: 0.6728206 (397)\ttotal: 3m 42s\tremaining: 15m 41s\n",
        "500:\tlearn: 0.6850085\ttest: 0.6740020\tbest: 0.6741150 (497)\ttotal: 4m 39s\tremaining: 14m 50s\n",
        "600:\tlearn: 0.6916299\ttest: 0.6750486\tbest: 0.6752041 (593)\ttotal: 5m 33s\tremaining: 13m 52s\n",
        "700:\tlearn: 0.6980000\ttest: 0.6766882\tbest: 0.6767342 (688)\ttotal: 6m 27s\tremaining: 12m 53s\n",
        "800:\tlearn: 0.7038875\ttest: 0.6771395\tbest: 0.6772380 (795)\ttotal: 7m 20s\tremaining: 11m 54s\n",
        "900:\tlearn: 0.7099811\ttest: 0.6775234\tbest: 0.6777386 (895)\ttotal: 8m 13s\tremaining: 10m 56s\n",
        "1000:\tlearn: 0.7153245\ttest: 0.6779229\tbest: 0.6782558 (959)\ttotal: 9m 4s\tremaining: 9m 56s\n",
        "1100:\tlearn: 0.7201424\ttest: 0.6782979\tbest: 0.6788506 (1063)\ttotal: 9m 55s\tremaining: 8m 59s\n",
        "bestTest = 0.6788505503\n",
        "bestIteration = 1063\n",
        "Shrink model to first 1064 iterations.\n",
        "CV F1 score: 0.707609\n",
        "\n",
        "----------------- Fold 2 -----------------\n",
        "\n",
        "0:\tlearn: 0.6326581\ttest: 0.6266336\tbest: 0.6266336 (0)\ttotal: 695ms\tremaining: 24m 17s\n",
        "100:\tlearn: 0.6490684\ttest: 0.6433576\tbest: 0.6434332 (99)\ttotal: 55.8s\tremaining: 18m 23s\n",
        "200:\tlearn: 0.6606139\ttest: 0.6548769\tbest: 0.6548815 (194)\ttotal: 1m 52s\tremaining: 17m 40s\n",
        "300:\tlearn: 0.6706686\ttest: 0.6621457\tbest: 0.6621457 (300)\ttotal: 2m 48s\tremaining: 16m 45s\n",
        "400:\tlearn: 0.6791609\ttest: 0.6647418\tbest: 0.6647418 (400)\ttotal: 3m 43s\tremaining: 15m 47s\n",
        "500:\tlearn: 0.6867236\ttest: 0.6676882\tbest: 0.6677142 (499)\ttotal: 4m 38s\tremaining: 14m 48s\n",
        "600:\tlearn: 0.6929215\ttest: 0.6697923\tbest: 0.6698804 (594)\ttotal: 5m 31s\tremaining: 13m 46s\n",
        "700:\tlearn: 0.6992501\ttest: 0.6695477\tbest: 0.6704390 (619)\ttotal: 6m 22s\tremaining: 12m 43s\n",
        "bestTest = 0.6704390347\n",
        "bestIteration = 619\n",
        "Shrink model to first 620 iterations.\n",
        "CV F1 score: 0.702465\n",
        "\n",
        "----------------- Fold 3 -----------------\n",
        "\n",
        "0:\tlearn: 0.6255184\ttest: 0.6238619\tbest: 0.6238619 (0)\ttotal: 723ms\tremaining: 25m 17s\n",
        "100:\tlearn: 0.6485452\ttest: 0.6506126\tbest: 0.6508597 (95)\ttotal: 56.2s\tremaining: 18m 31s\n",
        "200:\tlearn: 0.6604876\ttest: 0.6640951\tbest: 0.6641641 (199)\ttotal: 1m 52s\tremaining: 17m 45s\n",
        "300:\tlearn: 0.6701569\ttest: 0.6696937\tbest: 0.6696937 (300)\ttotal: 2m 48s\tremaining: 16m 47s\n",
        "400:\tlearn: 0.6782281\ttest: 0.6715659\tbest: 0.6715659 (400)\ttotal: 3m 44s\tremaining: 15m 48s\n",
        "500:\tlearn: 0.6853787\ttest: 0.6732039\tbest: 0.6733233 (499)\ttotal: 4m 39s\tremaining: 14m 50s\n",
        "600:\tlearn: 0.6915586\ttest: 0.6749101\tbest: 0.6750558 (599)\ttotal: 5m 32s\tremaining: 13m 49s\n",
        "700:\tlearn: 0.6984827\ttest: 0.6757107\tbest: 0.6757107 (700)\ttotal: 6m 24s\tremaining: 12m 47s\n",
        "800:\tlearn: 0.7048791\ttest: 0.6771579\tbest: 0.6773301 (794)\ttotal: 7m 14s\tremaining: 11m 44s\n",
        "900:\tlearn: 0.7104119\ttest: 0.6768007\tbest: 0.6775942 (831)\ttotal: 8m 6s\tremaining: 10m 47s\n",
        "bestTest = 0.6775941872\n",
        "bestIteration = 831\n",
        "Shrink model to first 832 iterations.\n",
        "CV F1 score: 0.706319\n",
        "\n",
        "----------------- Fold 4 -----------------\n",
        "\n",
        "0:\tlearn: 0.6245210\ttest: 0.6275553\tbest: 0.6275553 (0)\ttotal: 614ms\tremaining: 21m 27s\n",
        "100:\tlearn: 0.6464366\ttest: 0.6471011\tbest: 0.6472435 (99)\ttotal: 55.7s\tremaining: 18m 21s\n",
        "200:\tlearn: 0.6588890\ttest: 0.6612023\tbest: 0.6612023 (200)\ttotal: 1m 51s\tremaining: 17m 35s\n",
        "300:\tlearn: 0.6689588\ttest: 0.6686738\tbest: 0.6686738 (299)\ttotal: 2m 46s\tremaining: 16m 36s\n",
        "400:\tlearn: 0.6776242\ttest: 0.6710346\tbest: 0.6711548 (398)\ttotal: 3m 43s\tremaining: 15m 46s\n",
        "500:\tlearn: 0.6848524\ttest: 0.6724523\tbest: 0.6725723 (476)\ttotal: 4m 38s\tremaining: 14m 48s\n",
        "600:\tlearn: 0.6922577\ttest: 0.6745712\tbest: 0.6747007 (595)\ttotal: 5m 32s\tremaining: 13m 47s\n",
        "700:\tlearn: 0.6989838\ttest: 0.6752917\tbest: 0.6753682 (695)\ttotal: 6m 25s\tremaining: 12m 48s\n",
        "800:\tlearn: 0.7053536\ttest: 0.6762103\tbest: 0.6762103 (800)\ttotal: 7m 18s\tremaining: 11m 50s\n",
        "900:\tlearn: 0.7105887\ttest: 0.6771964\tbest: 0.6774044 (893)\ttotal: 8m 10s\tremaining: 10m 51s\n",
        "1000:\tlearn: 0.7158363\ttest: 0.6770096\tbest: 0.6775538 (926)\ttotal: 9m 1s\tremaining: 9m 53s\n",
        "bestTest = 0.6775538293\n",
        "bestIteration = 926\n",
        "Shrink model to first 927 iterations.\n",
        "CV F1 score: 0.707595\n",
        "\n",
        "----------------- Fold 5 -----------------\n",
        "\n",
        "0:\tlearn: 0.6198051\ttest: 0.6262259\tbest: 0.6262259 (0)\ttotal: 662ms\tremaining: 23m 7s\n",
        "100:\tlearn: 0.6478593\ttest: 0.6447282\tbest: 0.6449458 (98)\ttotal: 57.1s\tremaining: 18m 48s\n",
        "200:\tlearn: 0.6602349\ttest: 0.6591299\tbest: 0.6594166 (197)\ttotal: 1m 52s\tremaining: 17m 38s\n",
        "300:\tlearn: 0.6695311\ttest: 0.6661682\tbest: 0.6663660 (296)\ttotal: 2m 49s\tremaining: 16m 49s\n",
        "400:\tlearn: 0.6774738\ttest: 0.6685936\tbest: 0.6686973 (393)\ttotal: 3m 44s\tremaining: 15m 50s\n",
        "500:\tlearn: 0.6850610\ttest: 0.6709758\tbest: 0.6710264 (496)\ttotal: 4m 38s\tremaining: 14m 47s\n",
        "600:\tlearn: 0.6922163\ttest: 0.6724063\tbest: 0.6724063 (600)\ttotal: 5m 31s\tremaining: 13m 46s\n",
        "700:\tlearn: 0.6985033\ttest: 0.6739953\tbest: 0.6739953 (700)\ttotal: 6m 24s\tremaining: 12m 45s\n",
        "800:\tlearn: 0.7044885\ttest: 0.6752068\tbest: 0.6755404 (772)\ttotal: 7m 16s\tremaining: 11m 47s\n",
        "bestTest = 0.6755404138\n",
        "bestIteration = 772\n",
        "Shrink model to first 773 iterations.\n",
        "CV F1 score: 0.705002\n",
        "\n",
        "----------------- Fold 6 -----------------\n",
        "\n",
        "0:\tlearn: 0.6293640\ttest: 0.6361385\tbest: 0.6361385 (0)\ttotal: 672ms\tremaining: 23m 29s\n",
        "100:\tlearn: 0.6479754\ttest: 0.6540539\tbest: 0.6543276 (93)\ttotal: 56s\tremaining: 18m 28s\n",
        "200:\tlearn: 0.6583306\ttest: 0.6655087\tbest: 0.6656023 (199)\ttotal: 1m 52s\tremaining: 17m 42s\n",
        "300:\tlearn: 0.6682678\ttest: 0.6714277\tbest: 0.6714949 (298)\ttotal: 2m 48s\tremaining: 16m 48s\n",
        "400:\tlearn: 0.6769656\ttest: 0.6749085\tbest: 0.6749085 (400)\ttotal: 3m 43s\tremaining: 15m 46s\n",
        "500:\tlearn: 0.6846385\ttest: 0.6770406\tbest: 0.6770406 (500)\ttotal: 4m 37s\tremaining: 14m 43s\n",
        "600:\tlearn: 0.6914008\ttest: 0.6786257\tbest: 0.6786257 (600)\ttotal: 5m 31s\tremaining: 13m 46s\n",
        "700:\tlearn: 0.6976550\ttest: 0.6798427\tbest: 0.6798890 (697)\ttotal: 6m 24s\tremaining: 12m 47s\n",
        "800:\tlearn: 0.7041230\ttest: 0.6798000\tbest: 0.6799068 (703)\ttotal: 7m 17s\tremaining: 11m 48s\n",
        "900:\tlearn: 0.7096360\ttest: 0.6797272\tbest: 0.6802553 (881)\ttotal: 8m 8s\tremaining: 10m 49s\n",
        "1000:\tlearn: 0.7148863\ttest: 0.6798017\tbest: 0.6803971 (935)\ttotal: 9m\tremaining: 9m 53s\n",
        "bestTest = 0.6803971467\n",
        "bestIteration = 935\n",
        "Shrink model to first 936 iterations.\n",
        "CV F1 score: 0.708821\n",
        "\tF1 score: 0.706159\n",
        "```\n",
        "\n"
      ]
    },
    {
      "cell_type": "markdown",
      "metadata": {
        "id": "2-uN2adnxAXl"
      },
      "source": [
        "# Model 4 one_hot_max_size =10 / drop columns\n"
      ]
    },
    {
      "cell_type": "code",
      "execution_count": null,
      "metadata": {
        "id": "dD4CRsZRhvNO"
      },
      "outputs": [],
      "source": [
        "drop_columns_serise=pd.Series(model_cat.feature_importances_,X_train.columns).sort_values(ascending=False)\n",
        "drop_columns=drop_columns_serise[drop_columns_serise<0.08].index.tolist()\n"
      ]
    },
    {
      "cell_type": "code",
      "execution_count": null,
      "metadata": {
        "colab": {
          "base_uri": "https://localhost:8080/"
        },
        "id": "X0Y9abLwiw3a",
        "outputId": "20654b1e-9448-4cda-c627-365bd78a94b8"
      },
      "outputs": [
        {
          "data": {
            "text/plain": [
              "['tar_enc_1_10_div_person_prefer_d_1_s',\n",
              " 'tar_enc_2_10_div_person_prefer_h_3_l',\n",
              " 'tar_enc_2_10_div_person_prefer_d_3_s',\n",
              " 'tar_enc_1_10_div_person_prefer_h_2',\n",
              " 'tar_enc_1_10_div_person_prefer_e',\n",
              " 'tar_enc_2_10_div_contents_attribute_e',\n",
              " 'tar_enc_1_10_div_contents_attribute_l_n',\n",
              " 'tar_enc_1_10_div_person_prefer_h_3_l',\n",
              " 'tar_enc_2_10_div_person_prefer_d_3_l',\n",
              " 'tar_enc_2_10_div_person_prefer_h_2',\n",
              " 'tar_enc_2_10_div_person_prefer_d_2_s',\n",
              " 'tar_enc_2_10_div_contents_attribute_l_s',\n",
              " 'tar_enc_1_10_div_person_prefer_d_2_s',\n",
              " 'tar_enc_2_10_div_person_prefer_d_2_m',\n",
              " 'tar_enc_1_10_div_contents_attribute_l',\n",
              " 'tar_enc_1_10_div_person_prefer_h_2_m',\n",
              " 'tar_enc_2_10_div_person_prefer_d_2_n',\n",
              " 'tar_enc_1_10_div_person_prefer_d_3_n',\n",
              " 'tar_enc_1_10_div_contents_attribute_d_n',\n",
              " 'tar_enc_1_10_div_person_prefer_h_3',\n",
              " 'tar_enc_1_10_div_contents_attribute_l_l',\n",
              " 'tar_enc_2_10_div_contents_attribute_l',\n",
              " 'tar_enc_1_10_div_person_prefer_d_1_l',\n",
              " 'tar_enc_1_10_div_person_prefer_d_2_l',\n",
              " 'tar_enc_1_10_div_person_prefer_h_3_m',\n",
              " 'tar_enc_2_10_div_contents_attribute_l_n',\n",
              " 'tar_enc_2_10_div_person_prefer_d_1_s',\n",
              " 'tar_enc_1_10_div_person_prefer_d_1_n',\n",
              " 'tar_enc_2_10_div_person_prefer_d_3_m',\n",
              " 'tar_enc_2_10_div_person_prefer_h_3_m',\n",
              " 'tar_enc_2_10_div_person_prefer_h_3',\n",
              " 'tar_enc_2_10_div_person_prefer_d_3_n']"
            ]
          },
          "execution_count": 18,
          "metadata": {},
          "output_type": "execute_result"
        }
      ],
      "source": [
        "drop_columns"
      ]
    },
    {
      "cell_type": "code",
      "execution_count": null,
      "metadata": {
        "id": "UwhQGtPIjE8E"
      },
      "outputs": [],
      "source": [
        "X_train = X_train.drop(drop_columns,axis=1)\n",
        "X_test = X_test.drop(drop_columns,axis=1)"
      ]
    },
    {
      "cell_type": "code",
      "execution_count": null,
      "metadata": {
        "id": "1xGlkzkEYoLq"
      },
      "outputs": [],
      "source": [
        "seed = 42\n",
        "n_fold = 7\n",
        "n_class = 1\n",
        "\n",
        "X = X_train.copy()\n",
        "y = y_train"
      ]
    },
    {
      "cell_type": "code",
      "execution_count": null,
      "metadata": {
        "colab": {
          "base_uri": "https://localhost:8080/"
        },
        "id": "7jdHjSgkxDmy",
        "outputId": "96f3bc8a-81f7-4a17-f37d-a7a132fea7eb"
      },
      "outputs": [
        {
          "name": "stdout",
          "output_type": "stream",
          "text": [
            "\n",
            "----------------- Fold 0 -----------------\n",
            "\n",
            "0:\tlearn: 0.6313282\ttest: 0.6332719\tbest: 0.6332719 (0)\ttotal: 450ms\tremaining: 15m 43s\n",
            "100:\tlearn: 0.6473637\ttest: 0.6473985\tbest: 0.6473985 (100)\ttotal: 34.3s\tremaining: 11m 18s\n",
            "200:\tlearn: 0.6605919\ttest: 0.6592481\tbest: 0.6594681 (199)\ttotal: 1m 7s\tremaining: 10m 33s\n",
            "300:\tlearn: 0.6707730\ttest: 0.6675816\tbest: 0.6675816 (300)\ttotal: 1m 38s\tremaining: 9m 50s\n",
            "400:\tlearn: 0.6790079\ttest: 0.6704275\tbest: 0.6706758 (397)\ttotal: 2m 8s\tremaining: 9m 5s\n",
            "500:\tlearn: 0.6860096\ttest: 0.6723648\tbest: 0.6727437 (467)\ttotal: 2m 38s\tremaining: 8m 26s\n",
            "600:\tlearn: 0.6933252\ttest: 0.6751602\tbest: 0.6752967 (599)\ttotal: 3m 8s\tremaining: 7m 49s\n",
            "700:\tlearn: 0.6999172\ttest: 0.6753508\tbest: 0.6759147 (654)\ttotal: 3m 37s\tremaining: 7m 14s\n",
            "800:\tlearn: 0.7060501\ttest: 0.6763141\tbest: 0.6766546 (796)\ttotal: 4m 6s\tremaining: 6m 39s\n",
            "900:\tlearn: 0.7117635\ttest: 0.6769923\tbest: 0.6770851 (897)\ttotal: 4m 35s\tremaining: 6m 5s\n",
            "1000:\tlearn: 0.7169785\ttest: 0.6775224\tbest: 0.6777175 (987)\ttotal: 5m 3s\tremaining: 5m 33s\n",
            "1100:\tlearn: 0.7220042\ttest: 0.6772693\tbest: 0.6777622 (1019)\ttotal: 5m 33s\tremaining: 5m 2s\n",
            "bestTest = 0.6777621817\n",
            "bestIteration = 1019\n",
            "Shrink model to first 1020 iterations.\n",
            "CV F1 score: 0.709925\n",
            "\n",
            "----------------- Fold 1 -----------------\n",
            "\n",
            "0:\tlearn: 0.6305211\ttest: 0.6356816\tbest: 0.6356816 (0)\ttotal: 429ms\tremaining: 14m 59s\n",
            "100:\tlearn: 0.6481844\ttest: 0.6499884\tbest: 0.6502807 (99)\ttotal: 34.1s\tremaining: 11m 14s\n",
            "200:\tlearn: 0.6606543\ttest: 0.6609008\tbest: 0.6610607 (194)\ttotal: 1m 7s\tremaining: 10m 35s\n",
            "300:\tlearn: 0.6697610\ttest: 0.6684831\tbest: 0.6686794 (295)\ttotal: 1m 38s\tremaining: 9m 50s\n",
            "400:\tlearn: 0.6787603\ttest: 0.6726463\tbest: 0.6726463 (400)\ttotal: 2m 9s\tremaining: 9m 7s\n",
            "500:\tlearn: 0.6861851\ttest: 0.6749286\tbest: 0.6749347 (496)\ttotal: 2m 39s\tremaining: 8m 30s\n",
            "600:\tlearn: 0.6933786\ttest: 0.6772438\tbest: 0.6773070 (586)\ttotal: 3m 9s\tremaining: 7m 52s\n",
            "700:\tlearn: 0.6997355\ttest: 0.6787826\tbest: 0.6790753 (693)\ttotal: 3m 38s\tremaining: 7m 16s\n",
            "bestTest = 0.6790752505\n",
            "bestIteration = 693\n",
            "Shrink model to first 694 iterations.\n",
            "CV F1 score: 0.704865\n",
            "\n",
            "----------------- Fold 2 -----------------\n",
            "\n",
            "0:\tlearn: 0.6283659\ttest: 0.6206557\tbest: 0.6206557 (0)\ttotal: 413ms\tremaining: 14m 26s\n",
            "100:\tlearn: 0.6508687\ttest: 0.6457939\tbest: 0.6457939 (100)\ttotal: 34.5s\tremaining: 11m 21s\n",
            "200:\tlearn: 0.6623751\ttest: 0.6563372\tbest: 0.6563372 (200)\ttotal: 1m 7s\tremaining: 10m 33s\n",
            "300:\tlearn: 0.6723104\ttest: 0.6630494\tbest: 0.6630494 (300)\ttotal: 1m 38s\tremaining: 9m 47s\n",
            "400:\tlearn: 0.6804516\ttest: 0.6659393\tbest: 0.6662024 (388)\ttotal: 2m 8s\tremaining: 9m 4s\n",
            "500:\tlearn: 0.6875263\ttest: 0.6688474\tbest: 0.6688474 (500)\ttotal: 2m 38s\tremaining: 8m 26s\n",
            "600:\tlearn: 0.6944829\ttest: 0.6718479\tbest: 0.6719002 (597)\ttotal: 3m 7s\tremaining: 7m 48s\n",
            "700:\tlearn: 0.7008194\ttest: 0.6726600\tbest: 0.6729686 (697)\ttotal: 3m 36s\tremaining: 7m 12s\n",
            "800:\tlearn: 0.7069674\ttest: 0.6726637\tbest: 0.6730544 (726)\ttotal: 4m 5s\tremaining: 6m 37s\n",
            "bestTest = 0.673054371\n",
            "bestIteration = 726\n",
            "Shrink model to first 727 iterations.\n",
            "CV F1 score: 0.704679\n",
            "\n",
            "----------------- Fold 3 -----------------\n",
            "\n",
            "0:\tlearn: 0.6091884\ttest: 0.6058551\tbest: 0.6058551 (0)\ttotal: 403ms\tremaining: 14m 5s\n",
            "100:\tlearn: 0.6475752\ttest: 0.6475441\tbest: 0.6475441 (100)\ttotal: 34.2s\tremaining: 11m 15s\n",
            "200:\tlearn: 0.6606213\ttest: 0.6625743\tbest: 0.6625743 (200)\ttotal: 1m 6s\tremaining: 10m 26s\n",
            "300:\tlearn: 0.6706221\ttest: 0.6689162\tbest: 0.6689162 (300)\ttotal: 1m 37s\tremaining: 9m 43s\n",
            "400:\tlearn: 0.6792506\ttest: 0.6713164\tbest: 0.6713164 (400)\ttotal: 2m 8s\tremaining: 9m 2s\n",
            "500:\tlearn: 0.6863835\ttest: 0.6743018\tbest: 0.6745016 (485)\ttotal: 2m 38s\tremaining: 8m 25s\n",
            "600:\tlearn: 0.6935246\ttest: 0.6753572\tbest: 0.6755700 (593)\ttotal: 3m 7s\tremaining: 7m 48s\n",
            "700:\tlearn: 0.7002505\ttest: 0.6754843\tbest: 0.6761457 (656)\ttotal: 3m 36s\tremaining: 7m 12s\n",
            "800:\tlearn: 0.7065592\ttest: 0.6764503\tbest: 0.6768372 (780)\ttotal: 4m 5s\tremaining: 6m 38s\n",
            "900:\tlearn: 0.7119176\ttest: 0.6770900\tbest: 0.6771561 (896)\ttotal: 4m 34s\tremaining: 6m 4s\n",
            "1000:\tlearn: 0.7171633\ttest: 0.6776998\tbest: 0.6777591 (994)\ttotal: 5m 1s\tremaining: 5m 31s\n",
            "1100:\tlearn: 0.7216817\ttest: 0.6779000\tbest: 0.6783089 (1062)\ttotal: 5m 29s\tremaining: 4m 59s\n",
            "1200:\tlearn: 0.7264259\ttest: 0.6781183\tbest: 0.6783095 (1161)\ttotal: 5m 58s\tremaining: 4m 27s\n",
            "bestTest = 0.6783095123\n",
            "bestIteration = 1161\n",
            "Shrink model to first 1162 iterations.\n",
            "CV F1 score: 0.710253\n",
            "\n",
            "----------------- Fold 4 -----------------\n",
            "\n",
            "0:\tlearn: 0.6285405\ttest: 0.6293393\tbest: 0.6293393 (0)\ttotal: 431ms\tremaining: 15m 3s\n",
            "100:\tlearn: 0.6477522\ttest: 0.6490134\tbest: 0.6490134 (100)\ttotal: 34.2s\tremaining: 11m 16s\n",
            "200:\tlearn: 0.6597697\ttest: 0.6601511\tbest: 0.6602389 (199)\ttotal: 1m 6s\tremaining: 10m 28s\n",
            "300:\tlearn: 0.6697467\ttest: 0.6676759\tbest: 0.6676759 (300)\ttotal: 1m 37s\tremaining: 9m 44s\n",
            "400:\tlearn: 0.6782384\ttest: 0.6712661\tbest: 0.6712661 (400)\ttotal: 2m 8s\tremaining: 9m 3s\n",
            "500:\tlearn: 0.6863943\ttest: 0.6738654\tbest: 0.6740448 (496)\ttotal: 2m 38s\tremaining: 8m 27s\n",
            "600:\tlearn: 0.6936006\ttest: 0.6761620\tbest: 0.6761620 (600)\ttotal: 3m 8s\tremaining: 7m 50s\n",
            "700:\tlearn: 0.7002726\ttest: 0.6765883\tbest: 0.6774215 (641)\ttotal: 3m 37s\tremaining: 7m 14s\n",
            "bestTest = 0.6774214583\n",
            "bestIteration = 641\n",
            "Shrink model to first 642 iterations.\n",
            "CV F1 score: 0.705642\n",
            "\n",
            "----------------- Fold 5 -----------------\n",
            "\n",
            "0:\tlearn: 0.6153782\ttest: 0.6184271\tbest: 0.6184271 (0)\ttotal: 399ms\tremaining: 13m 56s\n",
            "100:\tlearn: 0.6465729\ttest: 0.6430484\tbest: 0.6431589 (95)\ttotal: 34.4s\tremaining: 11m 20s\n",
            "200:\tlearn: 0.6601136\ttest: 0.6571775\tbest: 0.6575014 (194)\ttotal: 1m 6s\tremaining: 10m 29s\n",
            "300:\tlearn: 0.6701723\ttest: 0.6657955\tbest: 0.6660986 (289)\ttotal: 1m 37s\tremaining: 9m 44s\n",
            "400:\tlearn: 0.6783583\ttest: 0.6695894\tbest: 0.6698233 (399)\ttotal: 2m 8s\tremaining: 9m 5s\n",
            "500:\tlearn: 0.6866654\ttest: 0.6712809\tbest: 0.6713651 (496)\ttotal: 2m 38s\tremaining: 8m 26s\n",
            "600:\tlearn: 0.6932174\ttest: 0.6727330\tbest: 0.6727330 (600)\ttotal: 3m 7s\tremaining: 7m 48s\n",
            "700:\tlearn: 0.6996151\ttest: 0.6739656\tbest: 0.6741104 (696)\ttotal: 3m 36s\tremaining: 7m 12s\n",
            "800:\tlearn: 0.7059376\ttest: 0.6746123\tbest: 0.6748145 (792)\ttotal: 4m 5s\tremaining: 6m 38s\n",
            "900:\tlearn: 0.7117570\ttest: 0.6756746\tbest: 0.6756973 (890)\ttotal: 4m 34s\tremaining: 6m 4s\n",
            "1000:\tlearn: 0.7174263\ttest: 0.6763414\tbest: 0.6765088 (993)\ttotal: 5m 2s\tremaining: 5m 32s\n",
            "1100:\tlearn: 0.7223077\ttest: 0.6766792\tbest: 0.6768468 (1098)\ttotal: 5m 31s\tremaining: 5m\n",
            "1200:\tlearn: 0.7272679\ttest: 0.6769264\tbest: 0.6769850 (1118)\ttotal: 6m\tremaining: 4m 29s\n",
            "1300:\tlearn: 0.7318739\ttest: 0.6766761\tbest: 0.6770956 (1202)\ttotal: 6m 28s\tremaining: 3m 58s\n",
            "bestTest = 0.6770956316\n",
            "bestIteration = 1202\n",
            "Shrink model to first 1203 iterations.\n",
            "CV F1 score: 0.709284\n",
            "\n",
            "----------------- Fold 6 -----------------\n",
            "\n",
            "0:\tlearn: 0.6228161\ttest: 0.6284507\tbest: 0.6284507 (0)\ttotal: 411ms\tremaining: 14m 21s\n",
            "100:\tlearn: 0.6479749\ttest: 0.6533577\tbest: 0.6533577 (100)\ttotal: 33.8s\tremaining: 11m 8s\n",
            "200:\tlearn: 0.6598779\ttest: 0.6641076\tbest: 0.6641076 (200)\ttotal: 1m 6s\tremaining: 10m 25s\n",
            "300:\tlearn: 0.6703575\ttest: 0.6714368\tbest: 0.6716253 (299)\ttotal: 1m 37s\tremaining: 9m 40s\n",
            "400:\tlearn: 0.6783722\ttest: 0.6754247\tbest: 0.6754247 (400)\ttotal: 2m 7s\tremaining: 9m\n",
            "500:\tlearn: 0.6862196\ttest: 0.6766262\tbest: 0.6768881 (456)\ttotal: 2m 38s\tremaining: 8m 24s\n",
            "600:\tlearn: 0.6928413\ttest: 0.6785175\tbest: 0.6785770 (599)\ttotal: 3m 7s\tremaining: 7m 47s\n",
            "700:\tlearn: 0.6994446\ttest: 0.6781602\tbest: 0.6786260 (652)\ttotal: 3m 36s\tremaining: 7m 11s\n",
            "800:\tlearn: 0.7055928\ttest: 0.6791175\tbest: 0.6792363 (764)\ttotal: 4m 5s\tremaining: 6m 38s\n",
            "900:\tlearn: 0.7112074\ttest: 0.6787209\tbest: 0.6800253 (831)\ttotal: 4m 34s\tremaining: 6m 5s\n",
            "bestTest = 0.6800253278\n",
            "bestIteration = 831\n",
            "Shrink model to first 832 iterations.\n",
            "CV F1 score: 0.709003\n",
            "\tF1 score: 0.707643\n"
          ]
        }
      ],
      "source": [
        "#k 개의  모델을 다 사용하되 앙상블 처럼 각 모델에서 주는 output 들의 평균값을 사용하여 최종 pred 산출(OOF Ensemble)\n",
        "\n",
        "skfold = StratifiedKFold(n_splits=n_fold, shuffle=True, random_state=seed)\n",
        "folds=[]\n",
        "for train_idx, valid_idx in skfold.split(X, y):\n",
        "        folds.append((train_idx, valid_idx))\n",
        "importances = pd.Series()\n",
        "cat_pred = np.zeros((X.shape[0], n_class))\n",
        "cat_pred_test = 0\n",
        "cat_cols = X_train.columns[X_train.nunique() > 2].tolist()\n",
        "for fold in range(n_fold):\n",
        "  print(f'\\n----------------- Fold {fold} -----------------\\n')\n",
        "  train_idx, valid_idx = folds[fold]\n",
        "  X_train, X_valid, y_train, y_valid = X.iloc[train_idx], X.iloc[valid_idx], y[train_idx], y[valid_idx]\n",
        "  train_data = Pool(data=X_train, label=y_train, cat_features=cat_cols)\n",
        "  valid_data = Pool(data=X_valid, label=y_valid, cat_features=cat_cols)\n",
        "\n",
        "  model_cat = CatBoostClassifier(max_depth=10,learning_rate=0.02,n_estimators=2099,max_bin=231,min_data_in_leaf=61,l2_leaf_reg=0.2193,subsample=0.6525,eval_metric=\"F1\", task_type='GPU',bootstrap_type='Poisson', one_hot_max_size=10)\n",
        "  model_cat.fit(train_data, eval_set=valid_data, use_best_model=True, early_stopping_rounds=100, verbose=100)\n",
        "  importances += pd.Series(model_cat.feature_importances_,X_train.columns).sort_values(ascending=False)\n",
        "  cat_pred[valid_idx] = pd.DataFrame(model_cat.predict_proba(X_valid)[:, 1], index=X_valid.index)\n",
        "  cat_pred_test = cat_pred_test + (model_cat.predict_proba(X_test)[:, 1] / n_fold)\n",
        "  pred = np.where(cat_pred >= 0.4 , 1, 0)\n",
        "  pred_test = np.where(cat_pred_test >= 0.4 , 1, 0)\n",
        "\n",
        "  print(f'CV F1 score: {f1_score(y_valid, pred[valid_idx]):.6f}')\n",
        "    \n",
        "print(f'\\tF1 score: {f1_score(y, pred):.6f}')"
      ]
    },
    {
      "cell_type": "code",
      "execution_count": null,
      "metadata": {
        "colab": {
          "base_uri": "https://localhost:8080/",
          "height": 423
        },
        "id": "vu1S228JhpN_",
        "outputId": "17e2f7cc-22eb-4f9f-db98-9f663dbc59a3"
      },
      "outputs": [
        {
          "data": {
            "text/html": [
              "\n",
              "  <div id=\"df-4be2ab5f-0a47-43e8-9f08-f2396db3fa7a\">\n",
              "    <div class=\"colab-df-container\">\n",
              "      <div>\n",
              "<style scoped>\n",
              "    .dataframe tbody tr th:only-of-type {\n",
              "        vertical-align: middle;\n",
              "    }\n",
              "\n",
              "    .dataframe tbody tr th {\n",
              "        vertical-align: top;\n",
              "    }\n",
              "\n",
              "    .dataframe thead th {\n",
              "        text-align: right;\n",
              "    }\n",
              "</style>\n",
              "<table border=\"1\" class=\"dataframe\">\n",
              "  <thead>\n",
              "    <tr style=\"text-align: right;\">\n",
              "      <th></th>\n",
              "      <th>id</th>\n",
              "      <th>target</th>\n",
              "    </tr>\n",
              "  </thead>\n",
              "  <tbody>\n",
              "    <tr>\n",
              "      <th>0</th>\n",
              "      <td>0</td>\n",
              "      <td>1</td>\n",
              "    </tr>\n",
              "    <tr>\n",
              "      <th>1</th>\n",
              "      <td>1</td>\n",
              "      <td>0</td>\n",
              "    </tr>\n",
              "    <tr>\n",
              "      <th>2</th>\n",
              "      <td>2</td>\n",
              "      <td>1</td>\n",
              "    </tr>\n",
              "    <tr>\n",
              "      <th>3</th>\n",
              "      <td>3</td>\n",
              "      <td>0</td>\n",
              "    </tr>\n",
              "    <tr>\n",
              "      <th>4</th>\n",
              "      <td>4</td>\n",
              "      <td>0</td>\n",
              "    </tr>\n",
              "    <tr>\n",
              "      <th>...</th>\n",
              "      <td>...</td>\n",
              "      <td>...</td>\n",
              "    </tr>\n",
              "    <tr>\n",
              "      <th>46399</th>\n",
              "      <td>46399</td>\n",
              "      <td>1</td>\n",
              "    </tr>\n",
              "    <tr>\n",
              "      <th>46400</th>\n",
              "      <td>46400</td>\n",
              "      <td>1</td>\n",
              "    </tr>\n",
              "    <tr>\n",
              "      <th>46401</th>\n",
              "      <td>46401</td>\n",
              "      <td>1</td>\n",
              "    </tr>\n",
              "    <tr>\n",
              "      <th>46402</th>\n",
              "      <td>46402</td>\n",
              "      <td>1</td>\n",
              "    </tr>\n",
              "    <tr>\n",
              "      <th>46403</th>\n",
              "      <td>46403</td>\n",
              "      <td>1</td>\n",
              "    </tr>\n",
              "  </tbody>\n",
              "</table>\n",
              "<p>46404 rows × 2 columns</p>\n",
              "</div>\n",
              "      <button class=\"colab-df-convert\" onclick=\"convertToInteractive('df-4be2ab5f-0a47-43e8-9f08-f2396db3fa7a')\"\n",
              "              title=\"Convert this dataframe to an interactive table.\"\n",
              "              style=\"display:none;\">\n",
              "        \n",
              "  <svg xmlns=\"http://www.w3.org/2000/svg\" height=\"24px\"viewBox=\"0 0 24 24\"\n",
              "       width=\"24px\">\n",
              "    <path d=\"M0 0h24v24H0V0z\" fill=\"none\"/>\n",
              "    <path d=\"M18.56 5.44l.94 2.06.94-2.06 2.06-.94-2.06-.94-.94-2.06-.94 2.06-2.06.94zm-11 1L8.5 8.5l.94-2.06 2.06-.94-2.06-.94L8.5 2.5l-.94 2.06-2.06.94zm10 10l.94 2.06.94-2.06 2.06-.94-2.06-.94-.94-2.06-.94 2.06-2.06.94z\"/><path d=\"M17.41 7.96l-1.37-1.37c-.4-.4-.92-.59-1.43-.59-.52 0-1.04.2-1.43.59L10.3 9.45l-7.72 7.72c-.78.78-.78 2.05 0 2.83L4 21.41c.39.39.9.59 1.41.59.51 0 1.02-.2 1.41-.59l7.78-7.78 2.81-2.81c.8-.78.8-2.07 0-2.86zM5.41 20L4 18.59l7.72-7.72 1.47 1.35L5.41 20z\"/>\n",
              "  </svg>\n",
              "      </button>\n",
              "      \n",
              "  <style>\n",
              "    .colab-df-container {\n",
              "      display:flex;\n",
              "      flex-wrap:wrap;\n",
              "      gap: 12px;\n",
              "    }\n",
              "\n",
              "    .colab-df-convert {\n",
              "      background-color: #E8F0FE;\n",
              "      border: none;\n",
              "      border-radius: 50%;\n",
              "      cursor: pointer;\n",
              "      display: none;\n",
              "      fill: #1967D2;\n",
              "      height: 32px;\n",
              "      padding: 0 0 0 0;\n",
              "      width: 32px;\n",
              "    }\n",
              "\n",
              "    .colab-df-convert:hover {\n",
              "      background-color: #E2EBFA;\n",
              "      box-shadow: 0px 1px 2px rgba(60, 64, 67, 0.3), 0px 1px 3px 1px rgba(60, 64, 67, 0.15);\n",
              "      fill: #174EA6;\n",
              "    }\n",
              "\n",
              "    [theme=dark] .colab-df-convert {\n",
              "      background-color: #3B4455;\n",
              "      fill: #D2E3FC;\n",
              "    }\n",
              "\n",
              "    [theme=dark] .colab-df-convert:hover {\n",
              "      background-color: #434B5C;\n",
              "      box-shadow: 0px 1px 3px 1px rgba(0, 0, 0, 0.15);\n",
              "      filter: drop-shadow(0px 1px 2px rgba(0, 0, 0, 0.3));\n",
              "      fill: #FFFFFF;\n",
              "    }\n",
              "  </style>\n",
              "\n",
              "      <script>\n",
              "        const buttonEl =\n",
              "          document.querySelector('#df-4be2ab5f-0a47-43e8-9f08-f2396db3fa7a button.colab-df-convert');\n",
              "        buttonEl.style.display =\n",
              "          google.colab.kernel.accessAllowed ? 'block' : 'none';\n",
              "\n",
              "        async function convertToInteractive(key) {\n",
              "          const element = document.querySelector('#df-4be2ab5f-0a47-43e8-9f08-f2396db3fa7a');\n",
              "          const dataTable =\n",
              "            await google.colab.kernel.invokeFunction('convertToInteractive',\n",
              "                                                     [key], {});\n",
              "          if (!dataTable) return;\n",
              "\n",
              "          const docLinkHtml = 'Like what you see? Visit the ' +\n",
              "            '<a target=\"_blank\" href=https://colab.research.google.com/notebooks/data_table.ipynb>data table notebook</a>'\n",
              "            + ' to learn more about interactive tables.';\n",
              "          element.innerHTML = '';\n",
              "          dataTable['output_type'] = 'display_data';\n",
              "          await google.colab.output.renderOutput(dataTable, element);\n",
              "          const docLink = document.createElement('div');\n",
              "          docLink.innerHTML = docLinkHtml;\n",
              "          element.appendChild(docLink);\n",
              "        }\n",
              "      </script>\n",
              "    </div>\n",
              "  </div>\n",
              "  "
            ],
            "text/plain": [
              "          id  target\n",
              "0          0       1\n",
              "1          1       0\n",
              "2          2       1\n",
              "3          3       0\n",
              "4          4       0\n",
              "...      ...     ...\n",
              "46399  46399       1\n",
              "46400  46400       1\n",
              "46401  46401       1\n",
              "46402  46402       1\n",
              "46403  46403       1\n",
              "\n",
              "[46404 rows x 2 columns]"
            ]
          },
          "execution_count": 35,
          "metadata": {},
          "output_type": "execute_result"
        }
      ],
      "source": [
        "submission['target'] = pred_test\n",
        "submission"
      ]
    },
    {
      "cell_type": "code",
      "execution_count": null,
      "metadata": {
        "id": "0W_9gYbYhr5b"
      },
      "outputs": [],
      "source": [
        "submission.to_csv(path + \"prediction_0125_1.csv\", index=False)"
      ]
    },
    {
      "cell_type": "markdown",
      "metadata": {
        "id": "0AN68FPNrnzE"
      },
      "source": [
        "\n",
        "\n",
        "```\n",
        "\n",
        "----------------- Fold 0 -----------------\n",
        "\n",
        "0:\tlearn: 0.6313282\ttest: 0.6332719\tbest: 0.6332719 (0)\ttotal: 450ms\tremaining: 15m 43s\n",
        "100:\tlearn: 0.6473637\ttest: 0.6473985\tbest: 0.6473985 (100)\ttotal: 34.3s\tremaining: 11m 18s\n",
        "200:\tlearn: 0.6605919\ttest: 0.6592481\tbest: 0.6594681 (199)\ttotal: 1m 7s\tremaining: 10m 33s\n",
        "300:\tlearn: 0.6707730\ttest: 0.6675816\tbest: 0.6675816 (300)\ttotal: 1m 38s\tremaining: 9m 50s\n",
        "400:\tlearn: 0.6790079\ttest: 0.6704275\tbest: 0.6706758 (397)\ttotal: 2m 8s\tremaining: 9m 5s\n",
        "500:\tlearn: 0.6860096\ttest: 0.6723648\tbest: 0.6727437 (467)\ttotal: 2m 38s\tremaining: 8m 26s\n",
        "600:\tlearn: 0.6933252\ttest: 0.6751602\tbest: 0.6752967 (599)\ttotal: 3m 8s\tremaining: 7m 49s\n",
        "700:\tlearn: 0.6999172\ttest: 0.6753508\tbest: 0.6759147 (654)\ttotal: 3m 37s\tremaining: 7m 14s\n",
        "800:\tlearn: 0.7060501\ttest: 0.6763141\tbest: 0.6766546 (796)\ttotal: 4m 6s\tremaining: 6m 39s\n",
        "900:\tlearn: 0.7117635\ttest: 0.6769923\tbest: 0.6770851 (897)\ttotal: 4m 35s\tremaining: 6m 5s\n",
        "1000:\tlearn: 0.7169785\ttest: 0.6775224\tbest: 0.6777175 (987)\ttotal: 5m 3s\tremaining: 5m 33s\n",
        "1100:\tlearn: 0.7220042\ttest: 0.6772693\tbest: 0.6777622 (1019)\ttotal: 5m 33s\tremaining: 5m 2s\n",
        "bestTest = 0.6777621817\n",
        "bestIteration = 1019\n",
        "Shrink model to first 1020 iterations.\n",
        "CV F1 score: 0.709925\n",
        "\n",
        "----------------- Fold 1 -----------------\n",
        "\n",
        "0:\tlearn: 0.6305211\ttest: 0.6356816\tbest: 0.6356816 (0)\ttotal: 429ms\tremaining: 14m 59s\n",
        "100:\tlearn: 0.6481844\ttest: 0.6499884\tbest: 0.6502807 (99)\ttotal: 34.1s\tremaining: 11m 14s\n",
        "200:\tlearn: 0.6606543\ttest: 0.6609008\tbest: 0.6610607 (194)\ttotal: 1m 7s\tremaining: 10m 35s\n",
        "300:\tlearn: 0.6697610\ttest: 0.6684831\tbest: 0.6686794 (295)\ttotal: 1m 38s\tremaining: 9m 50s\n",
        "400:\tlearn: 0.6787603\ttest: 0.6726463\tbest: 0.6726463 (400)\ttotal: 2m 9s\tremaining: 9m 7s\n",
        "500:\tlearn: 0.6861851\ttest: 0.6749286\tbest: 0.6749347 (496)\ttotal: 2m 39s\tremaining: 8m 30s\n",
        "600:\tlearn: 0.6933786\ttest: 0.6772438\tbest: 0.6773070 (586)\ttotal: 3m 9s\tremaining: 7m 52s\n",
        "700:\tlearn: 0.6997355\ttest: 0.6787826\tbest: 0.6790753 (693)\ttotal: 3m 38s\tremaining: 7m 16s\n",
        "bestTest = 0.6790752505\n",
        "bestIteration = 693\n",
        "Shrink model to first 694 iterations.\n",
        "CV F1 score: 0.704865\n",
        "\n",
        "----------------- Fold 2 -----------------\n",
        "\n",
        "0:\tlearn: 0.6283659\ttest: 0.6206557\tbest: 0.6206557 (0)\ttotal: 413ms\tremaining: 14m 26s\n",
        "100:\tlearn: 0.6508687\ttest: 0.6457939\tbest: 0.6457939 (100)\ttotal: 34.5s\tremaining: 11m 21s\n",
        "200:\tlearn: 0.6623751\ttest: 0.6563372\tbest: 0.6563372 (200)\ttotal: 1m 7s\tremaining: 10m 33s\n",
        "300:\tlearn: 0.6723104\ttest: 0.6630494\tbest: 0.6630494 (300)\ttotal: 1m 38s\tremaining: 9m 47s\n",
        "400:\tlearn: 0.6804516\ttest: 0.6659393\tbest: 0.6662024 (388)\ttotal: 2m 8s\tremaining: 9m 4s\n",
        "500:\tlearn: 0.6875263\ttest: 0.6688474\tbest: 0.6688474 (500)\ttotal: 2m 38s\tremaining: 8m 26s\n",
        "600:\tlearn: 0.6944829\ttest: 0.6718479\tbest: 0.6719002 (597)\ttotal: 3m 7s\tremaining: 7m 48s\n",
        "700:\tlearn: 0.7008194\ttest: 0.6726600\tbest: 0.6729686 (697)\ttotal: 3m 36s\tremaining: 7m 12s\n",
        "800:\tlearn: 0.7069674\ttest: 0.6726637\tbest: 0.6730544 (726)\ttotal: 4m 5s\tremaining: 6m 37s\n",
        "bestTest = 0.673054371\n",
        "bestIteration = 726\n",
        "Shrink model to first 727 iterations.\n",
        "CV F1 score: 0.704679\n",
        "\n",
        "----------------- Fold 3 -----------------\n",
        "\n",
        "0:\tlearn: 0.6091884\ttest: 0.6058551\tbest: 0.6058551 (0)\ttotal: 403ms\tremaining: 14m 5s\n",
        "100:\tlearn: 0.6475752\ttest: 0.6475441\tbest: 0.6475441 (100)\ttotal: 34.2s\tremaining: 11m 15s\n",
        "200:\tlearn: 0.6606213\ttest: 0.6625743\tbest: 0.6625743 (200)\ttotal: 1m 6s\tremaining: 10m 26s\n",
        "300:\tlearn: 0.6706221\ttest: 0.6689162\tbest: 0.6689162 (300)\ttotal: 1m 37s\tremaining: 9m 43s\n",
        "400:\tlearn: 0.6792506\ttest: 0.6713164\tbest: 0.6713164 (400)\ttotal: 2m 8s\tremaining: 9m 2s\n",
        "500:\tlearn: 0.6863835\ttest: 0.6743018\tbest: 0.6745016 (485)\ttotal: 2m 38s\tremaining: 8m 25s\n",
        "600:\tlearn: 0.6935246\ttest: 0.6753572\tbest: 0.6755700 (593)\ttotal: 3m 7s\tremaining: 7m 48s\n",
        "700:\tlearn: 0.7002505\ttest: 0.6754843\tbest: 0.6761457 (656)\ttotal: 3m 36s\tremaining: 7m 12s\n",
        "800:\tlearn: 0.7065592\ttest: 0.6764503\tbest: 0.6768372 (780)\ttotal: 4m 5s\tremaining: 6m 38s\n",
        "900:\tlearn: 0.7119176\ttest: 0.6770900\tbest: 0.6771561 (896)\ttotal: 4m 34s\tremaining: 6m 4s\n",
        "1000:\tlearn: 0.7171633\ttest: 0.6776998\tbest: 0.6777591 (994)\ttotal: 5m 1s\tremaining: 5m 31s\n",
        "1100:\tlearn: 0.7216817\ttest: 0.6779000\tbest: 0.6783089 (1062)\ttotal: 5m 29s\tremaining: 4m 59s\n",
        "1200:\tlearn: 0.7264259\ttest: 0.6781183\tbest: 0.6783095 (1161)\ttotal: 5m 58s\tremaining: 4m 27s\n",
        "bestTest = 0.6783095123\n",
        "bestIteration = 1161\n",
        "Shrink model to first 1162 iterations.\n",
        "CV F1 score: 0.710253\n",
        "\n",
        "----------------- Fold 4 -----------------\n",
        "\n",
        "0:\tlearn: 0.6285405\ttest: 0.6293393\tbest: 0.6293393 (0)\ttotal: 431ms\tremaining: 15m 3s\n",
        "100:\tlearn: 0.6477522\ttest: 0.6490134\tbest: 0.6490134 (100)\ttotal: 34.2s\tremaining: 11m 16s\n",
        "200:\tlearn: 0.6597697\ttest: 0.6601511\tbest: 0.6602389 (199)\ttotal: 1m 6s\tremaining: 10m 28s\n",
        "300:\tlearn: 0.6697467\ttest: 0.6676759\tbest: 0.6676759 (300)\ttotal: 1m 37s\tremaining: 9m 44s\n",
        "400:\tlearn: 0.6782384\ttest: 0.6712661\tbest: 0.6712661 (400)\ttotal: 2m 8s\tremaining: 9m 3s\n",
        "500:\tlearn: 0.6863943\ttest: 0.6738654\tbest: 0.6740448 (496)\ttotal: 2m 38s\tremaining: 8m 27s\n",
        "600:\tlearn: 0.6936006\ttest: 0.6761620\tbest: 0.6761620 (600)\ttotal: 3m 8s\tremaining: 7m 50s\n",
        "700:\tlearn: 0.7002726\ttest: 0.6765883\tbest: 0.6774215 (641)\ttotal: 3m 37s\tremaining: 7m 14s\n",
        "bestTest = 0.6774214583\n",
        "bestIteration = 641\n",
        "Shrink model to first 642 iterations.\n",
        "CV F1 score: 0.705642\n",
        "\n",
        "----------------- Fold 5 -----------------\n",
        "\n",
        "0:\tlearn: 0.6153782\ttest: 0.6184271\tbest: 0.6184271 (0)\ttotal: 399ms\tremaining: 13m 56s\n",
        "100:\tlearn: 0.6465729\ttest: 0.6430484\tbest: 0.6431589 (95)\ttotal: 34.4s\tremaining: 11m 20s\n",
        "200:\tlearn: 0.6601136\ttest: 0.6571775\tbest: 0.6575014 (194)\ttotal: 1m 6s\tremaining: 10m 29s\n",
        "300:\tlearn: 0.6701723\ttest: 0.6657955\tbest: 0.6660986 (289)\ttotal: 1m 37s\tremaining: 9m 44s\n",
        "400:\tlearn: 0.6783583\ttest: 0.6695894\tbest: 0.6698233 (399)\ttotal: 2m 8s\tremaining: 9m 5s\n",
        "500:\tlearn: 0.6866654\ttest: 0.6712809\tbest: 0.6713651 (496)\ttotal: 2m 38s\tremaining: 8m 26s\n",
        "600:\tlearn: 0.6932174\ttest: 0.6727330\tbest: 0.6727330 (600)\ttotal: 3m 7s\tremaining: 7m 48s\n",
        "700:\tlearn: 0.6996151\ttest: 0.6739656\tbest: 0.6741104 (696)\ttotal: 3m 36s\tremaining: 7m 12s\n",
        "800:\tlearn: 0.7059376\ttest: 0.6746123\tbest: 0.6748145 (792)\ttotal: 4m 5s\tremaining: 6m 38s\n",
        "900:\tlearn: 0.7117570\ttest: 0.6756746\tbest: 0.6756973 (890)\ttotal: 4m 34s\tremaining: 6m 4s\n",
        "1000:\tlearn: 0.7174263\ttest: 0.6763414\tbest: 0.6765088 (993)\ttotal: 5m 2s\tremaining: 5m 32s\n",
        "1100:\tlearn: 0.7223077\ttest: 0.6766792\tbest: 0.6768468 (1098)\ttotal: 5m 31s\tremaining: 5m\n",
        "1200:\tlearn: 0.7272679\ttest: 0.6769264\tbest: 0.6769850 (1118)\ttotal: 6m\tremaining: 4m 29s\n",
        "1300:\tlearn: 0.7318739\ttest: 0.6766761\tbest: 0.6770956 (1202)\ttotal: 6m 28s\tremaining: 3m 58s\n",
        "bestTest = 0.6770956316\n",
        "bestIteration = 1202\n",
        "Shrink model to first 1203 iterations.\n",
        "CV F1 score: 0.709284\n",
        "\n",
        "----------------- Fold 6 -----------------\n",
        "\n",
        "0:\tlearn: 0.6228161\ttest: 0.6284507\tbest: 0.6284507 (0)\ttotal: 411ms\tremaining: 14m 21s\n",
        "100:\tlearn: 0.6479749\ttest: 0.6533577\tbest: 0.6533577 (100)\ttotal: 33.8s\tremaining: 11m 8s\n",
        "200:\tlearn: 0.6598779\ttest: 0.6641076\tbest: 0.6641076 (200)\ttotal: 1m 6s\tremaining: 10m 25s\n",
        "300:\tlearn: 0.6703575\ttest: 0.6714368\tbest: 0.6716253 (299)\ttotal: 1m 37s\tremaining: 9m 40s\n",
        "400:\tlearn: 0.6783722\ttest: 0.6754247\tbest: 0.6754247 (400)\ttotal: 2m 7s\tremaining: 9m\n",
        "500:\tlearn: 0.6862196\ttest: 0.6766262\tbest: 0.6768881 (456)\ttotal: 2m 38s\tremaining: 8m 24s\n",
        "600:\tlearn: 0.6928413\ttest: 0.6785175\tbest: 0.6785770 (599)\ttotal: 3m 7s\tremaining: 7m 47s\n",
        "700:\tlearn: 0.6994446\ttest: 0.6781602\tbest: 0.6786260 (652)\ttotal: 3m 36s\tremaining: 7m 11s\n",
        "800:\tlearn: 0.7055928\ttest: 0.6791175\tbest: 0.6792363 (764)\ttotal: 4m 5s\tremaining: 6m 38s\n",
        "900:\tlearn: 0.7112074\ttest: 0.6787209\tbest: 0.6800253 (831)\ttotal: 4m 34s\tremaining: 6m 5s\n",
        "bestTest = 0.6800253278\n",
        "bestIteration = 831\n",
        "Shrink model to first 832 iterations.\n",
        "CV F1 score: 0.709003\n",
        "\tF1 score: 0.707643\n",
        "```\n",
        "\n"
      ]
    },
    {
      "cell_type": "markdown",
      "metadata": {
        "id": "S3YwnGTu0yLQ"
      },
      "source": [
        "# Model 5 loss_log, cv = 7,est = 2500"
      ]
    },
    {
      "cell_type": "code",
      "execution_count": null,
      "metadata": {
        "id": "qwUT6Z8z03xf"
      },
      "outputs": [],
      "source": [
        "n_est = 2500\n",
        "seed = 42\n",
        "n_fold = 7\n",
        "n_class = 1\n",
        "\n",
        "X = X_train.copy()\n",
        "y = y_train"
      ]
    },
    {
      "cell_type": "code",
      "execution_count": null,
      "metadata": {
        "id": "YbwcVObb06lI"
      },
      "outputs": [],
      "source": [
        "#k 개의  모델을 다 사용하되 앙상블 처럼 각 모델에서 주는 output 들의 평균값을 사용하여 최종 pred 산출(OOF Ensemble)\n",
        "\n",
        "skfold = StratifiedKFold(n_splits=n_fold, shuffle=True, random_state=seed)\n",
        "folds=[]\n",
        "for train_idx, valid_idx in skfold.split(X, y):\n",
        "        folds.append((train_idx, valid_idx))\n",
        "importances = pd.Series()\n",
        "cat_pred = np.zeros((X.shape[0], n_class))\n",
        "cat_pred_test = 0\n",
        "cat_cols = X_train.columns[X_train.nunique() >= 2].tolist()\n",
        "for fold in range(n_fold):\n",
        "  print(f'\\n----------------- Fold {fold} -----------------\\n')\n",
        "  train_idx, valid_idx = folds[fold]\n",
        "  X_train, X_valid, y_train, y_valid = X.iloc[train_idx], X.iloc[valid_idx], y[train_idx], y[valid_idx]\n",
        "  train_data = Pool(data=X_train, label=y_train, cat_features=cat_cols)\n",
        "  valid_data = Pool(data=X_valid, label=y_valid, cat_features=cat_cols)\n",
        "\n",
        "  model_cat = CatBoostClassifier(eval_metric=\"F1\", task_type='GPU',n_estimators=n_est,loss_function= 'Logloss')\n",
        "  model_cat.fit(train_data, eval_set=valid_data, use_best_model=True, early_stopping_rounds=100, verbose=100)\n",
        "  \n",
        "  importances += pd.Series(model_cat.feature_importances_,X_train.columns).sort_values(ascending=False)\n",
        "  cat_pred[valid_idx] = pd.DataFrame(model_cat.predict_proba(X_valid)[:, 1], index=X_valid.index)\n",
        "  cat_pred_test = cat_pred_test + (model_cat.predict_proba(X_test)[:, 1] / n_fold)\n",
        "  pred = np.where(cat_pred >= 0.4 , 1, 0)\n",
        "  pred_test = np.where(cat_pred_test >= 0.4 , 1, 0)\n",
        "\n",
        "  print(f'CV F1 score: {f1_score(y_valid, pred[valid_idx]):.6f}')\n",
        "    \n",
        "print(f'\\tF1 score: {f1_score(y, pred):.6f}')"
      ]
    },
    {
      "cell_type": "markdown",
      "metadata": {
        "id": "HKztFiAb0_82"
      },
      "source": [
        "\n",
        "\n",
        "```\n",
        "\n",
        "----------------- Fold 0 -----------------\n",
        "\n",
        "Custom logger is already specified. Specify more than one logger at same time is not thread safe.Learning rate set to 0.029101\n",
        "0:\tlearn: 0.6027932\ttest: 0.5999866\tbest: 0.5999866 (0)\ttotal: 818ms\tremaining: 34m 4s\n",
        "100:\tlearn: 0.6389774\ttest: 0.6485756\tbest: 0.6485756 (100)\ttotal: 1m 2s\tremaining: 24m 42s\n",
        "200:\tlearn: 0.6486279\ttest: 0.6635527\tbest: 0.6635527 (200)\ttotal: 2m\tremaining: 23m 2s\n",
        "300:\tlearn: 0.6536141\ttest: 0.6702542\tbest: 0.6702876 (292)\ttotal: 2m 57s\tremaining: 21m 37s\n",
        "400:\tlearn: 0.6577742\ttest: 0.6714986\tbest: 0.6717641 (388)\ttotal: 3m 53s\tremaining: 20m 20s\n",
        "500:\tlearn: 0.6615209\ttest: 0.6733650\tbest: 0.6734340 (498)\ttotal: 4m 48s\tremaining: 19m 11s\n",
        "600:\tlearn: 0.6644400\ttest: 0.6740241\tbest: 0.6745975 (586)\ttotal: 5m 43s\tremaining: 18m 5s\n",
        "700:\tlearn: 0.6664918\ttest: 0.6756380\tbest: 0.6760201 (683)\ttotal: 6m 37s\tremaining: 17m\n",
        "bestTest = 0.6760201378\n",
        "bestIteration = 683\n",
        "Shrink model to first 684 iterations.\n",
        "CV F1 score: 0.707808\n",
        "\n",
        "----------------- Fold 1 -----------------\n",
        "\n",
        "Learning rate set to 0.029101\n",
        "0:\tlearn: 0.6128201\ttest: 0.6174224\tbest: 0.6174224 (0)\ttotal: 735ms\tremaining: 30m 37s\n",
        "100:\tlearn: 0.6405461\ttest: 0.6541918\tbest: 0.6541918 (100)\ttotal: 1m 3s\tremaining: 24m 58s\n",
        "200:\tlearn: 0.6493793\ttest: 0.6652294\tbest: 0.6652472 (198)\ttotal: 2m 1s\tremaining: 23m 14s\n",
        "300:\tlearn: 0.6540146\ttest: 0.6726097\tbest: 0.6726097 (300)\ttotal: 2m 57s\tremaining: 21m 37s\n",
        "400:\tlearn: 0.6585676\ttest: 0.6756638\tbest: 0.6756638 (400)\ttotal: 3m 54s\tremaining: 20m 25s\n",
        "500:\tlearn: 0.6616419\ttest: 0.6788564\tbest: 0.6788745 (497)\ttotal: 4m 49s\tremaining: 19m 14s\n",
        "600:\tlearn: 0.6653165\ttest: 0.6790751\tbest: 0.6796402 (529)\ttotal: 5m 44s\tremaining: 18m 7s\n",
        "700:\tlearn: 0.6682468\ttest: 0.6777666\tbest: 0.6800105 (626)\ttotal: 6m 38s\tremaining: 17m 3s\n",
        "bestTest = 0.6800105001\n",
        "bestIteration = 626\n",
        "Shrink model to first 627 iterations.\n",
        "CV F1 score: 0.706628\n",
        "\n",
        "----------------- Fold 2 -----------------\n",
        "\n",
        "Learning rate set to 0.029101\n",
        "0:\tlearn: 0.6128748\ttest: 0.6083786\tbest: 0.6083786 (0)\ttotal: 736ms\tremaining: 30m 38s\n",
        "100:\tlearn: 0.6393916\ttest: 0.6418444\tbest: 0.6418717 (99)\ttotal: 1m 1s\tremaining: 24m 21s\n",
        "200:\tlearn: 0.6489608\ttest: 0.6553756\tbest: 0.6557543 (196)\ttotal: 1m 59s\tremaining: 22m 50s\n",
        "300:\tlearn: 0.6547551\ttest: 0.6626622\tbest: 0.6626622 (300)\ttotal: 2m 56s\tremaining: 21m 26s\n",
        "400:\tlearn: 0.6592850\ttest: 0.6670859\tbest: 0.6673651 (395)\ttotal: 3m 52s\tremaining: 20m 17s\n",
        "500:\tlearn: 0.6627849\ttest: 0.6697572\tbest: 0.6699380 (481)\ttotal: 4m 47s\tremaining: 19m 7s\n",
        "600:\tlearn: 0.6664274\ttest: 0.6718565\tbest: 0.6718565 (600)\ttotal: 5m 42s\tremaining: 18m 3s\n",
        "700:\tlearn: 0.6688910\ttest: 0.6739258\tbest: 0.6742233 (680)\ttotal: 6m 37s\tremaining: 16m 59s\n",
        "800:\tlearn: 0.6708150\ttest: 0.6753024\tbest: 0.6753024 (800)\ttotal: 7m 31s\tremaining: 15m 57s\n",
        "900:\tlearn: 0.6722748\ttest: 0.6760681\tbest: 0.6762110 (898)\ttotal: 8m 24s\tremaining: 14m 56s\n",
        "1000:\tlearn: 0.6733599\ttest: 0.6775232\tbest: 0.6775232 (1000)\ttotal: 9m 19s\tremaining: 13m 57s\n",
        "1100:\tlearn: 0.6744322\ttest: 0.6781293\tbest: 0.6781293 (1100)\ttotal: 10m 12s\tremaining: 12m 58s\n",
        "1200:\tlearn: 0.6754288\ttest: 0.6782484\tbest: 0.6782484 (1200)\ttotal: 11m 6s\tremaining: 12m\n",
        "1300:\tlearn: 0.6762860\ttest: 0.6784874\tbest: 0.6787915 (1293)\ttotal: 11m 59s\tremaining: 11m 3s\n",
        "bestTest = 0.678791482\n",
        "bestIteration = 1293\n",
        "Shrink model to first 1294 iterations.\n",
        "CV F1 score: 0.709444\n",
        "\n",
        "----------------- Fold 3 -----------------\n",
        "\n",
        "Learning rate set to 0.029101\n",
        "0:\tlearn: 0.5799073\ttest: 0.5821077\tbest: 0.5821077 (0)\ttotal: 822ms\tremaining: 34m 13s\n",
        "100:\tlearn: 0.6391378\ttest: 0.6502048\tbest: 0.6502048 (100)\ttotal: 1m 2s\tremaining: 24m 55s\n",
        "200:\tlearn: 0.6484468\ttest: 0.6636190\tbest: 0.6636190 (200)\ttotal: 2m 2s\tremaining: 23m 16s\n",
        "300:\tlearn: 0.6544803\ttest: 0.6689044\tbest: 0.6689304 (299)\ttotal: 2m 57s\tremaining: 21m 40s\n",
        "400:\tlearn: 0.6586064\ttest: 0.6726529\tbest: 0.6726974 (391)\ttotal: 3m 53s\tremaining: 20m 24s\n",
        "500:\tlearn: 0.6622080\ttest: 0.6744962\tbest: 0.6746025 (489)\ttotal: 4m 48s\tremaining: 19m 9s\n",
        "600:\tlearn: 0.6654927\ttest: 0.6754688\tbest: 0.6761200 (589)\ttotal: 5m 41s\tremaining: 18m\n",
        "700:\tlearn: 0.6676997\ttest: 0.6769390\tbest: 0.6771322 (691)\ttotal: 6m 35s\tremaining: 16m 55s\n",
        "800:\tlearn: 0.6698317\ttest: 0.6765447\tbest: 0.6771952 (713)\ttotal: 7m 30s\tremaining: 15m 54s\n",
        "bestTest = 0.6771951655\n",
        "bestIteration = 713\n",
        "Shrink model to first 714 iterations.\n",
        "CV F1 score: 0.707998\n",
        "\n",
        "----------------- Fold 4 -----------------\n",
        "\n",
        "Learning rate set to 0.029101\n",
        "0:\tlearn: 0.6063960\ttest: 0.6096207\tbest: 0.6096207 (0)\ttotal: 721ms\tremaining: 30m 1s\n",
        "100:\tlearn: 0.6391960\ttest: 0.6489370\tbest: 0.6489370 (100)\ttotal: 1m 1s\tremaining: 24m 23s\n",
        "200:\tlearn: 0.6481677\ttest: 0.6643200\tbest: 0.6643200 (200)\ttotal: 2m\tremaining: 22m 59s\n",
        "300:\tlearn: 0.6538195\ttest: 0.6693863\tbest: 0.6693863 (300)\ttotal: 2m 56s\tremaining: 21m 32s\n",
        "400:\tlearn: 0.6583477\ttest: 0.6723811\tbest: 0.6725143 (392)\ttotal: 3m 52s\tremaining: 20m 18s\n",
        "500:\tlearn: 0.6625456\ttest: 0.6762193\tbest: 0.6763899 (497)\ttotal: 4m 49s\tremaining: 19m 14s\n",
        "600:\tlearn: 0.6653854\ttest: 0.6773263\tbest: 0.6774532 (598)\ttotal: 5m 43s\tremaining: 18m 6s\n",
        "700:\tlearn: 0.6681811\ttest: 0.6761971\tbest: 0.6775345 (603)\ttotal: 6m 38s\tremaining: 17m 3s\n",
        "bestTest = 0.6775345199\n",
        "bestIteration = 603\n",
        "Shrink model to first 604 iterations.\n",
        "CV F1 score: 0.706865\n",
        "\n",
        "----------------- Fold 5 -----------------\n",
        "\n",
        "Learning rate set to 0.029101\n",
        "0:\tlearn: 0.6056353\ttest: 0.6081692\tbest: 0.6081692 (0)\ttotal: 736ms\tremaining: 30m 40s\n",
        "100:\tlearn: 0.6396504\ttest: 0.6491199\tbest: 0.6491199 (100)\ttotal: 1m 1s\tremaining: 24m 32s\n",
        "200:\tlearn: 0.6490388\ttest: 0.6631909\tbest: 0.6631909 (200)\ttotal: 2m\tremaining: 22m 53s\n",
        "300:\tlearn: 0.6544709\ttest: 0.6694459\tbest: 0.6694459 (300)\ttotal: 2m 57s\tremaining: 21m 33s\n",
        "400:\tlearn: 0.6585750\ttest: 0.6717123\tbest: 0.6717902 (398)\ttotal: 3m 52s\tremaining: 20m 18s\n",
        "500:\tlearn: 0.6625779\ttest: 0.6742077\tbest: 0.6744405 (484)\ttotal: 4m 48s\tremaining: 19m 9s\n",
        "600:\tlearn: 0.6655290\ttest: 0.6770189\tbest: 0.6770189 (600)\ttotal: 5m 43s\tremaining: 18m 5s\n",
        "700:\tlearn: 0.6676688\ttest: 0.6775010\tbest: 0.6775096 (633)\ttotal: 6m 39s\tremaining: 17m 3s\n",
        "bestTest = 0.6775096372\n",
        "bestIteration = 633\n",
        "Shrink model to first 634 iterations.\n",
        "CV F1 score: 0.705286\n",
        "\n",
        "----------------- Fold 6 -----------------\n",
        "\n",
        "Learning rate set to 0.029101\n",
        "0:\tlearn: 0.6327623\ttest: 0.6383275\tbest: 0.6383275 (0)\ttotal: 825ms\tremaining: 34m 22s\n",
        "100:\tlearn: 0.6389214\ttest: 0.6543704\tbest: 0.6543704 (100)\ttotal: 1m 1s\tremaining: 24m 22s\n",
        "200:\tlearn: 0.6485154\ttest: 0.6689118\tbest: 0.6689118 (200)\ttotal: 1m 59s\tremaining: 22m 44s\n",
        "300:\tlearn: 0.6542150\ttest: 0.6742064\tbest: 0.6742064 (300)\ttotal: 2m 55s\tremaining: 21m 22s\n",
        "400:\tlearn: 0.6579275\ttest: 0.6778875\tbest: 0.6779565 (398)\ttotal: 3m 50s\tremaining: 20m 7s\n",
        "500:\tlearn: 0.6620937\ttest: 0.6794187\tbest: 0.6795396 (499)\ttotal: 4m 45s\tremaining: 18m 57s\n",
        "600:\tlearn: 0.6648922\ttest: 0.6806789\tbest: 0.6811534 (584)\ttotal: 5m 40s\tremaining: 17m 54s\n",
        "700:\tlearn: 0.6673297\ttest: 0.6820608\tbest: 0.6822423 (682)\ttotal: 6m 34s\tremaining: 16m 52s\n",
        "800:\tlearn: 0.6697228\ttest: 0.6822959\tbest: 0.6824606 (759)\ttotal: 7m 28s\tremaining: 15m 50s\n",
        "bestTest = 0.6824605919\n",
        "bestIteration = 759\n",
        "Shrink model to first 760 iterations.\n",
        "CV F1 score: 0.710710\n",
        "\tF1 score: 0.707811\n",
        "```\n",
        "\n"
      ]
    },
    {
      "cell_type": "code",
      "execution_count": null,
      "metadata": {
        "id": "hLcg3GXU1BX7"
      },
      "outputs": [],
      "source": [
        ""
      ]
    },
    {
      "cell_type": "markdown",
      "metadata": {
        "id": "kSl2b6RJlCnl"
      },
      "source": [
        "# MOdel 6 \n",
        "- k=20"
      ]
    },
    {
      "cell_type": "code",
      "execution_count": null,
      "metadata": {
        "id": "EP1I5DPklFYr"
      },
      "outputs": [],
      "source": [
        "n_est = 2500\n",
        "seed = 42\n",
        "n_fold = 20\n",
        "n_class = 1\n",
        "\n",
        "X = X_train.copy()\n",
        "y = y_train"
      ]
    },
    {
      "cell_type": "code",
      "execution_count": null,
      "metadata": {
        "id": "4y7H11G_lI4H"
      },
      "outputs": [],
      "source": [
        "#k 개의  모델을 다 사용하되 앙상블 처럼 각 모델에서 주는 output 들의 평균값을 사용하여 최종 pred 산출(OOF Ensemble)\n",
        "\n",
        "skfold = StratifiedKFold(n_splits=n_fold, shuffle=True, random_state=seed)\n",
        "folds=[]\n",
        "for train_idx, valid_idx in skfold.split(X, y):\n",
        "        folds.append((train_idx, valid_idx))\n",
        "importances = pd.Series()\n",
        "cat_pred = np.zeros((X.shape[0], n_class))\n",
        "cat_pred_test = 0\n",
        "cat_cols = X_train.columns[X_train.nunique() >= 2].tolist()\n",
        "for fold in range(n_fold):\n",
        "  print(f'\\n----------------- Fold {fold} -----------------\\n')\n",
        "  train_idx, valid_idx = folds[fold]\n",
        "  X_train, X_valid, y_train, y_valid = X.iloc[train_idx], X.iloc[valid_idx], y[train_idx], y[valid_idx]\n",
        "  train_data = Pool(data=X_train, label=y_train, cat_features=cat_cols)\n",
        "  valid_data = Pool(data=X_valid, label=y_valid, cat_features=cat_cols)\n",
        "\n",
        "  model_cat = CatBoostClassifier(eval_metric=\"F1\", task_type='GPU',n_estimators=n_est,loss_function= 'Logloss')\n",
        "  model_cat.fit(train_data, eval_set=valid_data, use_best_model=True, early_stopping_rounds=100, verbose=100)\n",
        "  \n",
        "  importances += pd.Series(model_cat.feature_importances_,X_train.columns).sort_values(ascending=False)\n",
        "  cat_pred[valid_idx] = pd.DataFrame(model_cat.predict_proba(X_valid)[:, 1], index=X_valid.index)\n",
        "  cat_pred_test = cat_pred_test + (model_cat.predict_proba(X_test)[:, 1] / n_fold)\n",
        "  pred = np.where(cat_pred >= 0.4 , 1, 0)\n",
        "  pred_test = np.where(cat_pred_test >= 0.4 , 1, 0)\n",
        "\n",
        "  print(f'CV F1 score: {f1_score(y_valid, pred[valid_idx]):.6f}')\n",
        "    \n",
        "print(f'\\tF1 score: {f1_score(y, pred):.6f}')"
      ]
    },
    {
      "cell_type": "markdown",
      "metadata": {
        "id": "P5sF81mplLvR"
      },
      "source": [
        "\n",
        "\n",
        "```\n",
        "----------------- Fold 0 -----------------\n",
        "\n",
        "Learning rate set to 0.028848\n",
        "0:\tlearn: 0.5702392\ttest: 0.5692207\tbest: 0.5692207 (0)\ttotal: 934ms\tremaining: 38m 54s\n",
        "100:\tlearn: 0.6395766\ttest: 0.6488468\tbest: 0.6490390 (96)\ttotal: 1m 16s\tremaining: 30m 9s\n",
        "200:\tlearn: 0.6503510\ttest: 0.6680949\tbest: 0.6680949 (200)\ttotal: 2m 27s\tremaining: 28m 9s\n",
        "300:\tlearn: 0.6552536\ttest: 0.6749426\tbest: 0.6749426 (300)\ttotal: 3m 36s\tremaining: 26m 18s\n",
        "400:\tlearn: 0.6597827\ttest: 0.6766839\tbest: 0.6772301 (399)\ttotal: 4m 43s\tremaining: 24m 42s\n",
        "500:\tlearn: 0.6634491\ttest: 0.6794655\tbest: 0.6800464 (478)\ttotal: 5m 50s\tremaining: 23m 18s\n",
        "600:\tlearn: 0.6665827\ttest: 0.6824117\tbest: 0.6824838 (596)\ttotal: 6m 55s\tremaining: 21m 54s\n",
        "700:\tlearn: 0.6692622\ttest: 0.6824167\tbest: 0.6835048 (690)\ttotal: 8m 3s\tremaining: 20m 39s\n",
        "bestTest = 0.6835047619\n",
        "bestIteration = 690\n",
        "Shrink model to first 691 iterations.\n",
        "CV F1 score: 0.712314\n",
        "\n",
        "----------------- Fold 1 -----------------\n",
        "\n",
        "Learning rate set to 0.028848\n",
        "0:\tlearn: 0.5855280\ttest: 0.5780824\tbest: 0.5780824 (0)\ttotal: 945ms\tremaining: 39m 21s\n",
        "100:\tlearn: 0.6403387\ttest: 0.6466797\tbest: 0.6468163 (95)\ttotal: 1m 14s\tremaining: 29m 27s\n",
        "200:\tlearn: 0.6501969\ttest: 0.6634753\tbest: 0.6637706 (198)\ttotal: 2m 25s\tremaining: 27m 39s\n",
        "300:\tlearn: 0.6557676\ttest: 0.6691763\tbest: 0.6692983 (288)\ttotal: 3m 33s\tremaining: 26m 2s\n",
        "400:\tlearn: 0.6602057\ttest: 0.6715790\tbest: 0.6718023 (398)\ttotal: 4m 40s\tremaining: 24m 28s\n",
        "500:\tlearn: 0.6640143\ttest: 0.6731353\tbest: 0.6734268 (447)\ttotal: 5m 47s\tremaining: 23m 4s\n",
        "bestTest = 0.673426782\n",
        "bestIteration = 447\n",
        "Shrink model to first 448 iterations.\n",
        "CV F1 score: 0.703805\n",
        "\n",
        "----------------- Fold 2 -----------------\n",
        "\n",
        "Learning rate set to 0.028848\n",
        "0:\tlearn: 0.6238606\ttest: 0.6233172\tbest: 0.6233172 (0)\ttotal: 845ms\tremaining: 35m 11s\n",
        "100:\tlearn: 0.6399524\ttest: 0.6489287\tbest: 0.6489287 (100)\ttotal: 1m 15s\tremaining: 29m 49s\n",
        "200:\tlearn: 0.6501867\ttest: 0.6644318\tbest: 0.6650214 (197)\ttotal: 2m 28s\tremaining: 28m 14s\n",
        "300:\tlearn: 0.6555962\ttest: 0.6694617\tbest: 0.6694617 (300)\ttotal: 3m 36s\tremaining: 26m 19s\n",
        "400:\tlearn: 0.6606899\ttest: 0.6720651\tbest: 0.6723109 (395)\ttotal: 4m 42s\tremaining: 24m 40s\n",
        "500:\tlearn: 0.6639841\ttest: 0.6750384\tbest: 0.6758285 (494)\ttotal: 5m 49s\tremaining: 23m 15s\n",
        "600:\tlearn: 0.6669850\ttest: 0.6765071\tbest: 0.6771169 (535)\ttotal: 6m 55s\tremaining: 21m 53s\n",
        "bestTest = 0.6771169279\n",
        "bestIteration = 535\n",
        "Shrink model to first 536 iterations.\n",
        "CV F1 score: 0.703376\n",
        "\n",
        "----------------- Fold 3 -----------------\n",
        "\n",
        "Learning rate set to 0.028848\n",
        "0:\tlearn: 0.6038384\ttest: 0.6157482\tbest: 0.6157482 (0)\ttotal: 856ms\tremaining: 35m 39s\n",
        "100:\tlearn: 0.6399068\ttest: 0.6542484\tbest: 0.6542484 (100)\ttotal: 1m 14s\tremaining: 29m 27s\n",
        "200:\tlearn: 0.6508809\ttest: 0.6695643\tbest: 0.6695643 (200)\ttotal: 2m 25s\tremaining: 27m 43s\n",
        "300:\tlearn: 0.6563671\ttest: 0.6751142\tbest: 0.6752146 (299)\ttotal: 3m 32s\tremaining: 25m 54s\n",
        "400:\tlearn: 0.6608207\ttest: 0.6774517\tbest: 0.6775009 (399)\ttotal: 4m 40s\tremaining: 24m 27s\n",
        "500:\tlearn: 0.6648965\ttest: 0.6790267\tbest: 0.6797130 (499)\ttotal: 5m 49s\tremaining: 23m 13s\n",
        "600:\tlearn: 0.6677567\ttest: 0.6806437\tbest: 0.6807499 (588)\ttotal: 6m 53s\tremaining: 21m 46s\n",
        "700:\tlearn: 0.6697625\ttest: 0.6831559\tbest: 0.6831559 (700)\ttotal: 7m 59s\tremaining: 20m 30s\n",
        "800:\tlearn: 0.6715266\ttest: 0.6841045\tbest: 0.6842565 (799)\ttotal: 9m 4s\tremaining: 19m 15s\n",
        "900:\tlearn: 0.6730428\ttest: 0.6837469\tbest: 0.6843872 (824)\ttotal: 10m 9s\tremaining: 18m 2s\n",
        "1000:\tlearn: 0.6745681\ttest: 0.6846909\tbest: 0.6850816 (952)\ttotal: 11m 14s\tremaining: 16m 49s\n",
        "1100:\tlearn: 0.6759619\ttest: 0.6851717\tbest: 0.6858307 (1081)\ttotal: 12m 18s\tremaining: 15m 38s\n",
        "bestTest = 0.6858306752\n",
        "bestIteration = 1081\n",
        "Shrink model to first 1082 iterations.\n",
        "CV F1 score: 0.713815\n",
        "\n",
        "----------------- Fold 4 -----------------\n",
        "\n",
        "Learning rate set to 0.028848\n",
        "0:\tlearn: 0.6137439\ttest: 0.6182854\tbest: 0.6182854 (0)\ttotal: 862ms\tremaining: 35m 53s\n",
        "100:\tlearn: 0.6388906\ttest: 0.6458972\tbest: 0.6461029 (85)\ttotal: 1m 15s\tremaining: 29m 42s\n",
        "200:\tlearn: 0.6487639\ttest: 0.6584133\tbest: 0.6586363 (199)\ttotal: 2m 24s\tremaining: 27m 34s\n",
        "300:\tlearn: 0.6553731\ttest: 0.6675609\tbest: 0.6681569 (298)\ttotal: 3m 33s\tremaining: 25m 57s\n",
        "400:\tlearn: 0.6595660\ttest: 0.6724711\tbest: 0.6729195 (396)\ttotal: 4m 39s\tremaining: 24m 24s\n",
        "500:\tlearn: 0.6633875\ttest: 0.6767783\tbest: 0.6767783 (500)\ttotal: 5m 46s\tremaining: 23m 2s\n",
        "600:\tlearn: 0.6663444\ttest: 0.6767899\tbest: 0.6771367 (582)\ttotal: 6m 52s\tremaining: 21m 44s\n",
        "700:\tlearn: 0.6689291\ttest: 0.6780477\tbest: 0.6780477 (700)\ttotal: 7m 58s\tremaining: 20m 28s\n",
        "800:\tlearn: 0.6704208\ttest: 0.6794533\tbest: 0.6797045 (796)\ttotal: 9m 3s\tremaining: 19m 13s\n",
        "900:\tlearn: 0.6721836\ttest: 0.6817606\tbest: 0.6817606 (900)\ttotal: 10m 9s\tremaining: 18m 1s\n",
        "1000:\tlearn: 0.6735246\ttest: 0.6818059\tbest: 0.6823149 (998)\ttotal: 11m 14s\tremaining: 16m 50s\n",
        "1100:\tlearn: 0.6746040\ttest: 0.6821514\tbest: 0.6830546 (1075)\ttotal: 12m 19s\tremaining: 15m 40s\n",
        "bestTest = 0.6830546351\n",
        "bestIteration = 1075\n",
        "Shrink model to first 1076 iterations.\n",
        "CV F1 score: 0.713222\n",
        "\n",
        "----------------- Fold 5 -----------------\n",
        "\n",
        "Learning rate set to 0.028848\n",
        "0:\tlearn: 0.6105431\ttest: 0.6100348\tbest: 0.6100348 (0)\ttotal: 838ms\tremaining: 34m 55s\n",
        "100:\tlearn: 0.6396562\ttest: 0.6491597\tbest: 0.6497398 (98)\ttotal: 1m 15s\tremaining: 29m 56s\n",
        "200:\tlearn: 0.6491666\ttest: 0.6633685\tbest: 0.6635670 (198)\ttotal: 2m 25s\tremaining: 27m 49s\n",
        "300:\tlearn: 0.6547997\ttest: 0.6693149\tbest: 0.6695623 (289)\ttotal: 3m 34s\tremaining: 26m 6s\n",
        "400:\tlearn: 0.6592932\ttest: 0.6740535\tbest: 0.6740788 (398)\ttotal: 4m 40s\tremaining: 24m 29s\n",
        "500:\tlearn: 0.6628414\ttest: 0.6773464\tbest: 0.6775495 (496)\ttotal: 5m 46s\tremaining: 23m 4s\n",
        "600:\tlearn: 0.6668094\ttest: 0.6813187\tbest: 0.6813187 (600)\ttotal: 6m 52s\tremaining: 21m 43s\n",
        "700:\tlearn: 0.6697277\ttest: 0.6828189\tbest: 0.6835366 (674)\ttotal: 7m 58s\tremaining: 20m 28s\n",
        "bestTest = 0.6835365854\n",
        "bestIteration = 674\n",
        "Shrink model to first 675 iterations.\n",
        "CV F1 score: 0.711158\n",
        "\n",
        "----------------- Fold 6 -----------------\n",
        "\n",
        "Learning rate set to 0.028848\n",
        "0:\tlearn: 0.5708947\ttest: 0.5686893\tbest: 0.5686893 (0)\ttotal: 955ms\tremaining: 39m 47s\n",
        "100:\tlearn: 0.6406582\ttest: 0.6474098\tbest: 0.6474573 (99)\ttotal: 1m 15s\tremaining: 30m 4s\n",
        "200:\tlearn: 0.6500146\ttest: 0.6638058\tbest: 0.6640241 (192)\ttotal: 2m 27s\tremaining: 28m 7s\n",
        "300:\tlearn: 0.6556981\ttest: 0.6683959\tbest: 0.6688117 (294)\ttotal: 3m 35s\tremaining: 26m 15s\n",
        "400:\tlearn: 0.6596780\ttest: 0.6709519\tbest: 0.6712476 (389)\ttotal: 4m 41s\tremaining: 24m 33s\n",
        "500:\tlearn: 0.6642177\ttest: 0.6748857\tbest: 0.6748857 (500)\ttotal: 5m 48s\tremaining: 23m 9s\n",
        "600:\tlearn: 0.6672026\ttest: 0.6772618\tbest: 0.6774872 (596)\ttotal: 6m 55s\tremaining: 21m 51s\n",
        "700:\tlearn: 0.6697015\ttest: 0.6778995\tbest: 0.6783705 (695)\ttotal: 8m\tremaining: 20m 33s\n",
        "800:\tlearn: 0.6716127\ttest: 0.6791016\tbest: 0.6791016 (800)\ttotal: 9m 7s\tremaining: 19m 20s\n",
        "900:\tlearn: 0.6734443\ttest: 0.6800703\tbest: 0.6802019 (899)\ttotal: 10m 11s\tremaining: 18m 5s\n",
        "1000:\tlearn: 0.6746556\ttest: 0.6803530\tbest: 0.6807828 (919)\ttotal: 11m 16s\tremaining: 16m 53s\n",
        "bestTest = 0.6807827549\n",
        "bestIteration = 919\n",
        "Shrink model to first 920 iterations.\n",
        "CV F1 score: 0.711416\n",
        "\n",
        "----------------- Fold 7 -----------------\n",
        "\n",
        "Learning rate set to 0.028848\n",
        "0:\tlearn: 0.5687612\ttest: 0.5622782\tbest: 0.5622782 (0)\ttotal: 956ms\tremaining: 39m 49s\n",
        "100:\tlearn: 0.6402481\ttest: 0.6476177\tbest: 0.6476177 (100)\ttotal: 1m 15s\tremaining: 29m 56s\n",
        "200:\tlearn: 0.6502934\ttest: 0.6604710\tbest: 0.6604947 (198)\ttotal: 2m 26s\tremaining: 27m 59s\n",
        "300:\tlearn: 0.6566554\ttest: 0.6665174\tbest: 0.6671377 (288)\ttotal: 3m 34s\tremaining: 26m 9s\n",
        "400:\tlearn: 0.6611173\ttest: 0.6705194\tbest: 0.6708191 (398)\ttotal: 4m 42s\tremaining: 24m 36s\n",
        "500:\tlearn: 0.6646695\ttest: 0.6729965\tbest: 0.6729965 (500)\ttotal: 5m 49s\tremaining: 23m 13s\n",
        "600:\tlearn: 0.6675150\ttest: 0.6760649\tbest: 0.6760649 (600)\ttotal: 6m 54s\tremaining: 21m 48s\n",
        "700:\tlearn: 0.6697700\ttest: 0.6773009\tbest: 0.6783626 (640)\ttotal: 8m 1s\tremaining: 20m 35s\n",
        "800:\tlearn: 0.6717047\ttest: 0.6779022\tbest: 0.6793814 (747)\ttotal: 9m 6s\tremaining: 19m 19s\n",
        "bestTest = 0.6793814037\n",
        "bestIteration = 747\n",
        "Shrink model to first 748 iterations.\n",
        "CV F1 score: 0.709443\n",
        "\n",
        "----------------- Fold 8 -----------------\n",
        "\n",
        "Learning rate set to 0.028848\n",
        "0:\tlearn: 0.6171077\ttest: 0.6226756\tbest: 0.6226756 (0)\ttotal: 845ms\tremaining: 35m 12s\n",
        "100:\tlearn: 0.6390721\ttest: 0.6490144\tbest: 0.6490144 (100)\ttotal: 1m 16s\tremaining: 30m 9s\n",
        "200:\tlearn: 0.6504492\ttest: 0.6673254\tbest: 0.6673254 (200)\ttotal: 2m 27s\tremaining: 28m 4s\n",
        "300:\tlearn: 0.6565073\ttest: 0.6728999\tbest: 0.6729226 (298)\ttotal: 3m 35s\tremaining: 26m 17s\n",
        "400:\tlearn: 0.6605336\ttest: 0.6764217\tbest: 0.6769140 (394)\ttotal: 4m 43s\tremaining: 24m 41s\n",
        "500:\tlearn: 0.6644076\ttest: 0.6781093\tbest: 0.6782323 (499)\ttotal: 5m 49s\tremaining: 23m 15s\n",
        "600:\tlearn: 0.6679029\ttest: 0.6802172\tbest: 0.6803961 (554)\ttotal: 6m 56s\tremaining: 21m 56s\n",
        "700:\tlearn: 0.6701204\ttest: 0.6799803\tbest: 0.6806137 (604)\ttotal: 8m 2s\tremaining: 20m 39s\n",
        "bestTest = 0.6806136681\n",
        "bestIteration = 604\n",
        "Shrink model to first 605 iterations.\n",
        "CV F1 score: 0.707410\n",
        "\n",
        "----------------- Fold 9 -----------------\n",
        "\n",
        "Learning rate set to 0.028848\n",
        "0:\tlearn: 0.5932809\ttest: 0.5872910\tbest: 0.5872910 (0)\ttotal: 943ms\tremaining: 39m 15s\n",
        "100:\tlearn: 0.6412302\ttest: 0.6505043\tbest: 0.6505043 (100)\ttotal: 1m 16s\tremaining: 30m 23s\n",
        "200:\tlearn: 0.6509027\ttest: 0.6644128\tbest: 0.6647074 (199)\ttotal: 2m 27s\tremaining: 28m 10s\n",
        "300:\tlearn: 0.6564293\ttest: 0.6705587\tbest: 0.6707290 (291)\ttotal: 3m 35s\tremaining: 26m 13s\n",
        "400:\tlearn: 0.6608932\ttest: 0.6726270\tbest: 0.6731213 (397)\ttotal: 4m 41s\tremaining: 24m 36s\n",
        "500:\tlearn: 0.6648497\ttest: 0.6745775\tbest: 0.6751530 (496)\ttotal: 5m 48s\tremaining: 23m 11s\n",
        "600:\tlearn: 0.6675155\ttest: 0.6749744\tbest: 0.6762649 (537)\ttotal: 6m 55s\tremaining: 21m 53s\n",
        "bestTest = 0.6762649425\n",
        "bestIteration = 537\n",
        "Shrink model to first 538 iterations.\n",
        "CV F1 score: 0.706710\n",
        "\n",
        "----------------- Fold 10 -----------------\n",
        "\n",
        "Learning rate set to 0.028848\n",
        "0:\tlearn: 0.6158146\ttest: 0.6135684\tbest: 0.6135684 (0)\ttotal: 862ms\tremaining: 35m 53s\n",
        "100:\tlearn: 0.6393571\ttest: 0.6480154\tbest: 0.6483910 (98)\ttotal: 1m 15s\tremaining: 29m 59s\n",
        "200:\tlearn: 0.6498218\ttest: 0.6607308\tbest: 0.6617288 (180)\ttotal: 2m 27s\tremaining: 28m 8s\n",
        "300:\tlearn: 0.6560577\ttest: 0.6686498\tbest: 0.6686498 (300)\ttotal: 3m 35s\tremaining: 26m 12s\n",
        "400:\tlearn: 0.6604100\ttest: 0.6741514\tbest: 0.6744221 (389)\ttotal: 4m 42s\tremaining: 24m 36s\n",
        "500:\tlearn: 0.6640533\ttest: 0.6769892\tbest: 0.6770598 (497)\ttotal: 5m 49s\tremaining: 23m 14s\n",
        "600:\tlearn: 0.6676524\ttest: 0.6798056\tbest: 0.6801214 (594)\ttotal: 6m 56s\tremaining: 21m 55s\n",
        "700:\tlearn: 0.6698826\ttest: 0.6802011\tbest: 0.6812002 (656)\ttotal: 8m 2s\tremaining: 20m 39s\n",
        "800:\tlearn: 0.6713802\ttest: 0.6817748\tbest: 0.6821250 (768)\ttotal: 9m 9s\tremaining: 19m 24s\n",
        "900:\tlearn: 0.6728435\ttest: 0.6824503\tbest: 0.6830072 (852)\ttotal: 10m 13s\tremaining: 18m 9s\n",
        "1000:\tlearn: 0.6742037\ttest: 0.6834637\tbest: 0.6837463 (994)\ttotal: 11m 19s\tremaining: 16m 57s\n",
        "1100:\tlearn: 0.6749787\ttest: 0.6838690\tbest: 0.6840206 (1097)\ttotal: 12m 24s\tremaining: 15m 46s\n",
        "1200:\tlearn: 0.6760887\ttest: 0.6841497\tbest: 0.6841943 (1148)\ttotal: 13m 29s\tremaining: 14m 35s\n",
        "1300:\tlearn: 0.6767954\ttest: 0.6835864\tbest: 0.6842855 (1225)\ttotal: 14m 34s\tremaining: 13m 25s\n",
        "1400:\tlearn: 0.6776742\ttest: 0.6843957\tbest: 0.6848045 (1386)\ttotal: 15m 38s\tremaining: 12m 16s\n",
        "1500:\tlearn: 0.6783411\ttest: 0.6848372\tbest: 0.6850385 (1492)\ttotal: 16m 43s\tremaining: 11m 8s\n",
        "1600:\tlearn: 0.6790284\ttest: 0.6843612\tbest: 0.6850406 (1518)\ttotal: 17m 48s\tremaining: 10m\n",
        "bestTest = 0.6850405876\n",
        "bestIteration = 1518\n",
        "Shrink model to first 1519 iterations.\n",
        "CV F1 score: 0.714682\n",
        "\n",
        "----------------- Fold 11 -----------------\n",
        "\n",
        "Learning rate set to 0.028848\n",
        "0:\tlearn: 0.5698026\ttest: 0.5615569\tbest: 0.5615569 (0)\ttotal: 965ms\tremaining: 40m 11s\n",
        "100:\tlearn: 0.6407615\ttest: 0.6399705\tbest: 0.6399705 (100)\ttotal: 1m 14s\tremaining: 29m 35s\n",
        "200:\tlearn: 0.6511509\ttest: 0.6619878\tbest: 0.6619878 (200)\ttotal: 2m 25s\tremaining: 27m 40s\n",
        "300:\tlearn: 0.6566728\ttest: 0.6658542\tbest: 0.6663719 (296)\ttotal: 3m 31s\tremaining: 25m 46s\n",
        "400:\tlearn: 0.6604215\ttest: 0.6704276\tbest: 0.6704276 (400)\ttotal: 4m 40s\tremaining: 24m 26s\n",
        "500:\tlearn: 0.6643394\ttest: 0.6734381\tbest: 0.6737721 (482)\ttotal: 5m 46s\tremaining: 23m 4s\n",
        "600:\tlearn: 0.6674611\ttest: 0.6743263\tbest: 0.6747910 (558)\ttotal: 6m 53s\tremaining: 21m 46s\n",
        "700:\tlearn: 0.6699315\ttest: 0.6755309\tbest: 0.6760531 (684)\ttotal: 7m 58s\tremaining: 20m 28s\n",
        "800:\tlearn: 0.6715623\ttest: 0.6761359\tbest: 0.6762426 (713)\ttotal: 9m 5s\tremaining: 19m 17s\n",
        "bestTest = 0.6762425901\n",
        "bestIteration = 713\n",
        "Shrink model to first 714 iterations.\n",
        "CV F1 score: 0.710833\n",
        "\n",
        "----------------- Fold 12 -----------------\n",
        "\n",
        "Learning rate set to 0.028848\n",
        "0:\tlearn: 0.6195568\ttest: 0.6221340\tbest: 0.6221340 (0)\ttotal: 872ms\tremaining: 36m 17s\n",
        "100:\tlearn: 0.6405168\ttest: 0.6517464\tbest: 0.6520654 (99)\ttotal: 1m 15s\tremaining: 29m 56s\n",
        "200:\tlearn: 0.6502604\ttest: 0.6678171\tbest: 0.6678171 (200)\ttotal: 2m 26s\tremaining: 27m 52s\n",
        "300:\tlearn: 0.6559710\ttest: 0.6738801\tbest: 0.6738801 (300)\ttotal: 3m 34s\tremaining: 26m 6s\n",
        "400:\tlearn: 0.6606496\ttest: 0.6794929\tbest: 0.6796930 (399)\ttotal: 4m 41s\tremaining: 24m 33s\n",
        "500:\tlearn: 0.6649308\ttest: 0.6816227\tbest: 0.6818471 (496)\ttotal: 5m 48s\tremaining: 23m 10s\n",
        "600:\tlearn: 0.6676542\ttest: 0.6822010\tbest: 0.6826600 (596)\ttotal: 6m 54s\tremaining: 21m 50s\n",
        "700:\tlearn: 0.6698365\ttest: 0.6832492\tbest: 0.6833371 (659)\ttotal: 8m\tremaining: 20m 32s\n",
        "800:\tlearn: 0.6716795\ttest: 0.6835462\tbest: 0.6841463 (772)\ttotal: 9m 5s\tremaining: 19m 18s\n",
        "900:\tlearn: 0.6733226\ttest: 0.6841482\tbest: 0.6845858 (822)\ttotal: 10m 10s\tremaining: 18m 3s\n",
        "bestTest = 0.6845857638\n",
        "bestIteration = 822\n",
        "Shrink model to first 823 iterations.\n",
        "CV F1 score: 0.713944\n",
        "\n",
        "----------------- Fold 13 -----------------\n",
        "\n",
        "Learning rate set to 0.028848\n",
        "0:\tlearn: 0.6392666\ttest: 0.6406320\tbest: 0.6406320 (0)\ttotal: 978ms\tremaining: 40m 42s\n",
        "100:\tlearn: 0.6407015\ttest: 0.6502221\tbest: 0.6502452 (88)\ttotal: 1m 15s\tremaining: 29m 50s\n",
        "200:\tlearn: 0.6504128\ttest: 0.6652986\tbest: 0.6652986 (200)\ttotal: 2m 26s\tremaining: 27m 57s\n",
        "300:\tlearn: 0.6557757\ttest: 0.6711919\tbest: 0.6711919 (300)\ttotal: 3m 35s\tremaining: 26m 12s\n",
        "400:\tlearn: 0.6602540\ttest: 0.6742506\tbest: 0.6744875 (390)\ttotal: 4m 42s\tremaining: 24m 38s\n",
        "500:\tlearn: 0.6635855\ttest: 0.6750989\tbest: 0.6762740 (457)\ttotal: 5m 49s\tremaining: 23m 12s\n",
        "600:\tlearn: 0.6673297\ttest: 0.6777803\tbest: 0.6779852 (573)\ttotal: 6m 54s\tremaining: 21m 51s\n",
        "700:\tlearn: 0.6693780\ttest: 0.6792766\tbest: 0.6794403 (695)\ttotal: 8m 1s\tremaining: 20m 34s\n",
        "800:\tlearn: 0.6715550\ttest: 0.6808592\tbest: 0.6811033 (793)\ttotal: 9m 7s\tremaining: 19m 21s\n",
        "900:\tlearn: 0.6730634\ttest: 0.6813892\tbest: 0.6816914 (893)\ttotal: 10m 12s\tremaining: 18m 6s\n",
        "1000:\tlearn: 0.6743386\ttest: 0.6828074\tbest: 0.6828467 (950)\ttotal: 11m 16s\tremaining: 16m 53s\n",
        "1100:\tlearn: 0.6753345\ttest: 0.6820729\tbest: 0.6828578 (1002)\ttotal: 12m 21s\tremaining: 15m 42s\n",
        "bestTest = 0.6828577985\n",
        "bestIteration = 1002\n",
        "Shrink model to first 1003 iterations.\n",
        "CV F1 score: 0.711344\n",
        "\n",
        "----------------- Fold 14 -----------------\n",
        "\n",
        "Learning rate set to 0.028848\n",
        "0:\tlearn: 0.6126379\ttest: 0.6129262\tbest: 0.6129262 (0)\ttotal: 838ms\tremaining: 34m 55s\n",
        "100:\tlearn: 0.6404467\ttest: 0.6417285\tbest: 0.6417285 (100)\ttotal: 1m 16s\tremaining: 30m 19s\n",
        "200:\tlearn: 0.6497819\ttest: 0.6534808\tbest: 0.6534808 (200)\ttotal: 2m 27s\tremaining: 28m 8s\n",
        "300:\tlearn: 0.6555326\ttest: 0.6626081\tbest: 0.6627065 (297)\ttotal: 3m 35s\tremaining: 26m 17s\n",
        "400:\tlearn: 0.6602109\ttest: 0.6657387\tbest: 0.6663670 (385)\ttotal: 4m 42s\tremaining: 24m 39s\n",
        "500:\tlearn: 0.6644821\ttest: 0.6699135\tbest: 0.6699891 (495)\ttotal: 5m 49s\tremaining: 23m 14s\n",
        "600:\tlearn: 0.6671347\ttest: 0.6726039\tbest: 0.6728547 (598)\ttotal: 6m 56s\tremaining: 21m 55s\n",
        "700:\tlearn: 0.6696516\ttest: 0.6741060\tbest: 0.6744354 (697)\ttotal: 8m 3s\tremaining: 20m 39s\n",
        "800:\tlearn: 0.6714792\ttest: 0.6732469\tbest: 0.6745499 (744)\ttotal: 9m 8s\tremaining: 19m 23s\n",
        "bestTest = 0.6745498932\n",
        "bestIteration = 744\n",
        "Shrink model to first 745 iterations.\n",
        "CV F1 score: 0.705560\n",
        "\n",
        "----------------- Fold 15 -----------------\n",
        "\n",
        "Learning rate set to 0.028848\n",
        "0:\tlearn: 0.5727654\ttest: 0.5719760\tbest: 0.5719760 (0)\ttotal: 969ms\tremaining: 40m 20s\n",
        "100:\tlearn: 0.6396605\ttest: 0.6508383\tbest: 0.6512154 (98)\ttotal: 1m 15s\tremaining: 29m 54s\n",
        "200:\tlearn: 0.6502187\ttest: 0.6660821\tbest: 0.6661309 (199)\ttotal: 2m 27s\tremaining: 28m 2s\n",
        "300:\tlearn: 0.6563593\ttest: 0.6735478\tbest: 0.6737635 (267)\ttotal: 3m 35s\tremaining: 26m 10s\n",
        "400:\tlearn: 0.6610489\ttest: 0.6783535\tbest: 0.6783535 (399)\ttotal: 4m 42s\tremaining: 24m 38s\n",
        "500:\tlearn: 0.6651746\ttest: 0.6790054\tbest: 0.6797653 (446)\ttotal: 5m 48s\tremaining: 23m 12s\n",
        "600:\tlearn: 0.6680355\ttest: 0.6794071\tbest: 0.6801455 (548)\ttotal: 6m 54s\tremaining: 21m 50s\n",
        "bestTest = 0.6801455418\n",
        "bestIteration = 548\n",
        "Shrink model to first 549 iterations.\n",
        "CV F1 score: 0.708141\n",
        "\n",
        "----------------- Fold 16 -----------------\n",
        "\n",
        "Learning rate set to 0.028848\n",
        "0:\tlearn: 0.5799234\ttest: 0.5798569\tbest: 0.5798569 (0)\ttotal: 951ms\tremaining: 39m 36s\n",
        "100:\tlearn: 0.6407039\ttest: 0.6586184\tbest: 0.6586184 (100)\ttotal: 1m 15s\tremaining: 29m 46s\n",
        "200:\tlearn: 0.6510267\ttest: 0.6675497\tbest: 0.6675497 (200)\ttotal: 2m 27s\tremaining: 28m 1s\n",
        "300:\tlearn: 0.6573000\ttest: 0.6748675\tbest: 0.6749166 (299)\ttotal: 3m 35s\tremaining: 26m 11s\n",
        "400:\tlearn: 0.6610181\ttest: 0.6770585\tbest: 0.6772317 (398)\ttotal: 4m 42s\tremaining: 24m 39s\n",
        "500:\tlearn: 0.6647305\ttest: 0.6781242\tbest: 0.6783626 (458)\ttotal: 5m 48s\tremaining: 23m 12s\n",
        "600:\tlearn: 0.6676640\ttest: 0.6803189\tbest: 0.6808928 (577)\ttotal: 6m 56s\tremaining: 21m 54s\n",
        "700:\tlearn: 0.6696644\ttest: 0.6823360\tbest: 0.6824322 (695)\ttotal: 8m 1s\tremaining: 20m 35s\n",
        "800:\tlearn: 0.6712128\ttest: 0.6835886\tbest: 0.6836925 (782)\ttotal: 9m 8s\tremaining: 19m 22s\n",
        "900:\tlearn: 0.6728727\ttest: 0.6853937\tbest: 0.6854679 (899)\ttotal: 10m 13s\tremaining: 18m 8s\n",
        "1000:\tlearn: 0.6740753\ttest: 0.6856049\tbest: 0.6860029 (980)\ttotal: 11m 18s\tremaining: 16m 56s\n",
        "1100:\tlearn: 0.6753615\ttest: 0.6859948\tbest: 0.6862925 (1069)\ttotal: 12m 23s\tremaining: 15m 45s\n",
        "bestTest = 0.6862925483\n",
        "bestIteration = 1069\n",
        "Shrink model to first 1070 iterations.\n",
        "CV F1 score: 0.715237\n",
        "\n",
        "----------------- Fold 17 -----------------\n",
        "\n",
        "Learning rate set to 0.028848\n",
        "0:\tlearn: 0.6220260\ttest: 0.6266053\tbest: 0.6266053 (0)\ttotal: 859ms\tremaining: 35m 47s\n",
        "100:\tlearn: 0.6397175\ttest: 0.6531183\tbest: 0.6531183 (100)\ttotal: 1m 15s\tremaining: 29m 54s\n",
        "200:\tlearn: 0.6502069\ttest: 0.6681409\tbest: 0.6681409 (200)\ttotal: 2m 26s\tremaining: 27m 50s\n",
        "300:\tlearn: 0.6557266\ttest: 0.6744916\tbest: 0.6750074 (295)\ttotal: 3m 32s\tremaining: 25m 53s\n",
        "400:\tlearn: 0.6603509\ttest: 0.6775177\tbest: 0.6775895 (398)\ttotal: 4m 40s\tremaining: 24m 25s\n",
        "500:\tlearn: 0.6644317\ttest: 0.6801483\tbest: 0.6809972 (457)\ttotal: 5m 46s\tremaining: 23m 1s\n",
        "600:\tlearn: 0.6674330\ttest: 0.6817704\tbest: 0.6817704 (600)\ttotal: 6m 52s\tremaining: 21m 43s\n",
        "700:\tlearn: 0.6700047\ttest: 0.6823815\tbest: 0.6830858 (693)\ttotal: 7m 57s\tremaining: 20m 25s\n",
        "800:\tlearn: 0.6720092\ttest: 0.6826762\tbest: 0.6832581 (741)\ttotal: 9m 4s\tremaining: 19m 14s\n",
        "bestTest = 0.6832580902\n",
        "bestIteration = 741\n",
        "Shrink model to first 742 iterations.\n",
        "CV F1 score: 0.712263\n",
        "\n",
        "----------------- Fold 18 -----------------\n",
        "\n",
        "Learning rate set to 0.028848\n",
        "0:\tlearn: 0.6206366\ttest: 0.6208834\tbest: 0.6208834 (0)\ttotal: 859ms\tremaining: 35m 46s\n",
        "100:\tlearn: 0.6399824\ttest: 0.6525324\tbest: 0.6526153 (99)\ttotal: 1m 15s\tremaining: 29m 45s\n",
        "200:\tlearn: 0.6503631\ttest: 0.6657027\tbest: 0.6660491 (199)\ttotal: 2m 25s\tremaining: 27m 47s\n",
        "300:\tlearn: 0.6555954\ttest: 0.6723759\tbest: 0.6731098 (285)\ttotal: 3m 32s\tremaining: 25m 53s\n",
        "400:\tlearn: 0.6605294\ttest: 0.6758227\tbest: 0.6758227 (400)\ttotal: 4m 39s\tremaining: 24m 23s\n",
        "500:\tlearn: 0.6641479\ttest: 0.6786696\tbest: 0.6786696 (500)\ttotal: 5m 47s\tremaining: 23m 5s\n",
        "600:\tlearn: 0.6672262\ttest: 0.6800590\tbest: 0.6803765 (583)\ttotal: 6m 51s\tremaining: 21m 41s\n",
        "700:\tlearn: 0.6696321\ttest: 0.6793247\tbest: 0.6805017 (625)\ttotal: 7m 58s\tremaining: 20m 27s\n",
        "bestTest = 0.6805017104\n",
        "bestIteration = 625\n",
        "Shrink model to first 626 iterations.\n",
        "CV F1 score: 0.711645\n",
        "\n",
        "----------------- Fold 19 -----------------\n",
        "\n",
        "Learning rate set to 0.028848\n",
        "0:\tlearn: 0.5690103\ttest: 0.5718731\tbest: 0.5718731 (0)\ttotal: 971ms\tremaining: 40m 27s\n",
        "100:\tlearn: 0.6389443\ttest: 0.6478174\tbest: 0.6478174 (100)\ttotal: 1m 14s\tremaining: 29m 40s\n",
        "200:\tlearn: 0.6499817\ttest: 0.6630749\tbest: 0.6631008 (194)\ttotal: 2m 25s\tremaining: 27m 47s\n",
        "300:\tlearn: 0.6563406\ttest: 0.6716956\tbest: 0.6717956 (296)\ttotal: 3m 33s\tremaining: 25m 58s\n",
        "400:\tlearn: 0.6602187\ttest: 0.6755996\tbest: 0.6756276 (398)\ttotal: 4m 40s\tremaining: 24m 27s\n",
        "500:\tlearn: 0.6642199\ttest: 0.6780608\tbest: 0.6785488 (495)\ttotal: 5m 47s\tremaining: 23m 7s\n",
        "600:\tlearn: 0.6670488\ttest: 0.6790586\tbest: 0.6792059 (555)\ttotal: 6m 53s\tremaining: 21m 47s\n",
        "700:\tlearn: 0.6696388\ttest: 0.6797475\tbest: 0.6798443 (698)\ttotal: 7m 59s\tremaining: 20m 30s\n",
        "800:\tlearn: 0.6712782\ttest: 0.6821318\tbest: 0.6824627 (789)\ttotal: 9m 4s\tremaining: 19m 15s\n",
        "900:\tlearn: 0.6726262\ttest: 0.6819789\tbest: 0.6829620 (837)\ttotal: 10m 9s\tremaining: 18m 1s\n",
        "bestTest = 0.6829620071\n",
        "bestIteration = 837\n",
        "Shrink model to first 838 iterations.\n",
        "CV F1 score: 0.710164\n",
        "\tF1 score: 0.710289\n",
        "```\n",
        "\n"
      ]
    },
    {
      "cell_type": "markdown",
      "source": [
        "# Last Model"
      ],
      "metadata": {
        "id": "fIm_uhcSjIuq"
      }
    },
    {
      "cell_type": "code",
      "source": [
        "X_train=pd.read_csv(path + \"X_train_1_28_no_means.csv\")\n",
        "X_test= pd.read_csv(path + \"X_test_1_28_no_means.csv\")"
      ],
      "metadata": {
        "id": "Zz1eJmGgkIWd"
      },
      "execution_count": 62,
      "outputs": []
    },
    {
      "cell_type": "code",
      "source": [
        "seed = 42\n",
        "n_fold = 8\n",
        "n_class = 1\n",
        "\n",
        "X = X_train.copy()\n",
        "y = y_train"
      ],
      "metadata": {
        "id": "5qExOovAjKZZ"
      },
      "execution_count": 63,
      "outputs": []
    },
    {
      "cell_type": "code",
      "source": [
        "#k 개의  모델을 다 사용하되 앙상블 처럼 각 모델에서 주는 output 들의 평균값을 사용하여 최종 pred 산출(OOF Ensemble)\n",
        "\n",
        "skfold = StratifiedKFold(n_splits=n_fold, shuffle=True, random_state=seed)\n",
        "folds=[]\n",
        "for train_idx, valid_idx in skfold.split(X, y):\n",
        "        folds.append((train_idx, valid_idx))\n",
        "\n",
        "cat_pred = np.zeros((X.shape[0], n_class))\n",
        "cat_pred_test = 0\n",
        "cat_cols = X_train.columns[X_train.nunique() > 2].tolist()\n",
        "for fold in range(n_fold):\n",
        "  print(f'\\n----------------- Fold {fold} -----------------\\n')\n",
        "  train_idx, valid_idx = folds[fold]\n",
        "  X_train, X_valid, y_train, y_valid = X.iloc[train_idx], X.iloc[valid_idx], y[train_idx], y[valid_idx]\n",
        "  train_data = Pool(data=X_train, label=y_train, cat_features=cat_cols)\n",
        "  valid_data = Pool(data=X_valid, label=y_valid, cat_features=cat_cols)\n",
        "\n",
        "  model_cat2 = CatBoostClassifier(max_depth=10,learning_rate=0.02,n_estimators=2099,max_bin=231,min_data_in_leaf=61,l2_leaf_reg=0.2193,subsample=0.6525,eval_metric=\"F1\", task_type='GPU',bootstrap_type='Poisson')\n",
        "  model_cat2.fit(train_data, eval_set=valid_data, use_best_model=True, early_stopping_rounds=100, verbose=100)\n",
        "  \n",
        "  cat_pred[valid_idx] = pd.DataFrame(model_cat2.predict_proba(X_valid)[:, 1], index=X_valid.index)\n",
        "  cat_pred_test = cat_pred_test + (model_cat2.predict_proba(X_test)[:, 1] / n_fold)\n",
        "  pred = np.where(cat_pred >= 0.4 , 1, 0)\n",
        "  pred_test = np.where(cat_pred_test >= 0.4 , 1, 0)\n",
        "\n",
        "  print(f'CV F1 score: {f1_score(y_valid, pred[valid_idx]):.6f}')\n",
        "    \n",
        "print(f'\\tF1 score: {f1_score(y, pred):.6f}')"
      ],
      "metadata": {
        "id": "OuQuITRFjKzB",
        "outputId": "ee27461f-29e3-45f3-f428-943cc1396459",
        "colab": {
          "base_uri": "https://localhost:8080/"
        }
      },
      "execution_count": 64,
      "outputs": [
        {
          "output_type": "stream",
          "name": "stdout",
          "text": [
            "\n",
            "----------------- Fold 0 -----------------\n",
            "\n",
            "0:\tlearn: 0.6199293\ttest: 0.6210813\tbest: 0.6210813 (0)\ttotal: 989ms\tremaining: 34m 35s\n",
            "100:\tlearn: 0.6483399\ttest: 0.6537680\tbest: 0.6537680 (100)\ttotal: 1m 30s\tremaining: 29m 49s\n",
            "200:\tlearn: 0.6622047\ttest: 0.6667157\tbest: 0.6669309 (193)\ttotal: 2m 50s\tremaining: 26m 49s\n",
            "300:\tlearn: 0.6719037\ttest: 0.6742574\tbest: 0.6742574 (300)\ttotal: 4m 9s\tremaining: 24m 47s\n",
            "400:\tlearn: 0.6798097\ttest: 0.6771532\tbest: 0.6771532 (400)\ttotal: 5m 26s\tremaining: 23m 4s\n",
            "500:\tlearn: 0.6868324\ttest: 0.6792772\tbest: 0.6792772 (500)\ttotal: 6m 44s\tremaining: 21m 28s\n",
            "600:\tlearn: 0.6937591\ttest: 0.6816206\tbest: 0.6818297 (597)\ttotal: 8m 3s\tremaining: 20m 4s\n",
            "700:\tlearn: 0.6995385\ttest: 0.6833087\tbest: 0.6836017 (697)\ttotal: 9m 16s\tremaining: 18m 30s\n",
            "800:\tlearn: 0.7049801\ttest: 0.6841853\tbest: 0.6846691 (782)\ttotal: 10m 28s\tremaining: 16m 57s\n",
            "900:\tlearn: 0.7104598\ttest: 0.6849578\tbest: 0.6853614 (880)\ttotal: 11m 39s\tremaining: 15m 29s\n",
            "1000:\tlearn: 0.7151601\ttest: 0.6858175\tbest: 0.6863305 (987)\ttotal: 12m 50s\tremaining: 14m 5s\n",
            "1100:\tlearn: 0.7197170\ttest: 0.6868931\tbest: 0.6870222 (1098)\ttotal: 13m 59s\tremaining: 12m 40s\n",
            "bestTest = 0.6870222102\n",
            "bestIteration = 1098\n",
            "Shrink model to first 1099 iterations.\n",
            "CV F1 score: 0.712746\n",
            "\n",
            "----------------- Fold 1 -----------------\n",
            "\n",
            "0:\tlearn: 0.6217258\ttest: 0.6243782\tbest: 0.6243782 (0)\ttotal: 987ms\tremaining: 34m 30s\n",
            "100:\tlearn: 0.6487790\ttest: 0.6516001\tbest: 0.6518961 (98)\ttotal: 1m 28s\tremaining: 29m 13s\n",
            "200:\tlearn: 0.6627386\ttest: 0.6641158\tbest: 0.6641347 (199)\ttotal: 2m 49s\tremaining: 26m 44s\n",
            "300:\tlearn: 0.6721966\ttest: 0.6713357\tbest: 0.6713357 (300)\ttotal: 4m 7s\tremaining: 24m 36s\n",
            "400:\tlearn: 0.6801414\ttest: 0.6758178\tbest: 0.6758761 (399)\ttotal: 5m 24s\tremaining: 22m 54s\n",
            "500:\tlearn: 0.6864560\ttest: 0.6780098\tbest: 0.6780098 (500)\ttotal: 6m 41s\tremaining: 21m 21s\n",
            "600:\tlearn: 0.6927856\ttest: 0.6795816\tbest: 0.6795816 (600)\ttotal: 7m 58s\tremaining: 19m 52s\n",
            "700:\tlearn: 0.6989888\ttest: 0.6801550\tbest: 0.6805091 (678)\ttotal: 9m 12s\tremaining: 18m 22s\n",
            "800:\tlearn: 0.7048699\ttest: 0.6815159\tbest: 0.6816134 (791)\ttotal: 10m 24s\tremaining: 16m 51s\n",
            "900:\tlearn: 0.7099344\ttest: 0.6818285\tbest: 0.6823924 (883)\ttotal: 11m 35s\tremaining: 15m 24s\n",
            "1000:\tlearn: 0.7143775\ttest: 0.6821832\tbest: 0.6824940 (931)\ttotal: 12m 46s\tremaining: 14m 1s\n",
            "bestTest = 0.6824940193\n",
            "bestIteration = 931\n",
            "Shrink model to first 932 iterations.\n",
            "CV F1 score: 0.710138\n",
            "\n",
            "----------------- Fold 2 -----------------\n",
            "\n",
            "0:\tlearn: 0.6169733\ttest: 0.6176123\tbest: 0.6176123 (0)\ttotal: 909ms\tremaining: 31m 48s\n",
            "100:\tlearn: 0.6482013\ttest: 0.6454329\tbest: 0.6455523 (97)\ttotal: 1m 32s\tremaining: 30m 31s\n",
            "200:\tlearn: 0.6617483\ttest: 0.6613964\tbest: 0.6613964 (200)\ttotal: 2m 54s\tremaining: 27m 23s\n",
            "300:\tlearn: 0.6714725\ttest: 0.6720893\tbest: 0.6720893 (300)\ttotal: 4m 13s\tremaining: 25m 13s\n",
            "400:\tlearn: 0.6791995\ttest: 0.6753089\tbest: 0.6755146 (398)\ttotal: 5m 31s\tremaining: 23m 24s\n",
            "500:\tlearn: 0.6861392\ttest: 0.6780402\tbest: 0.6781652 (498)\ttotal: 6m 48s\tremaining: 21m 41s\n",
            "600:\tlearn: 0.6925413\ttest: 0.6799893\tbest: 0.6800853 (598)\ttotal: 8m 4s\tremaining: 20m 6s\n",
            "700:\tlearn: 0.6985578\ttest: 0.6818080\tbest: 0.6818080 (700)\ttotal: 9m 16s\tremaining: 18m 30s\n",
            "800:\tlearn: 0.7040591\ttest: 0.6816367\tbest: 0.6819258 (733)\ttotal: 10m 29s\tremaining: 16m 59s\n",
            "900:\tlearn: 0.7090797\ttest: 0.6828137\tbest: 0.6829907 (879)\ttotal: 11m 39s\tremaining: 15m 30s\n",
            "1000:\tlearn: 0.7137339\ttest: 0.6837811\tbest: 0.6838663 (979)\ttotal: 12m 50s\tremaining: 14m 5s\n",
            "1100:\tlearn: 0.7186671\ttest: 0.6839345\tbest: 0.6844435 (1082)\ttotal: 14m\tremaining: 12m 42s\n",
            "1200:\tlearn: 0.7229145\ttest: 0.6845898\tbest: 0.6846590 (1177)\ttotal: 15m 11s\tremaining: 11m 21s\n",
            "1300:\tlearn: 0.7272960\ttest: 0.6845393\tbest: 0.6851319 (1219)\ttotal: 16m 22s\tremaining: 10m 2s\n",
            "bestTest = 0.6851319017\n",
            "bestIteration = 1219\n",
            "Shrink model to first 1220 iterations.\n",
            "CV F1 score: 0.710465\n",
            "\n",
            "----------------- Fold 3 -----------------\n",
            "\n",
            "0:\tlearn: 0.6113306\ttest: 0.6149194\tbest: 0.6149194 (0)\ttotal: 996ms\tremaining: 34m 49s\n",
            "100:\tlearn: 0.6487422\ttest: 0.6480434\tbest: 0.6480434 (100)\ttotal: 1m 29s\tremaining: 29m 32s\n",
            "200:\tlearn: 0.6630817\ttest: 0.6652476\tbest: 0.6654726 (198)\ttotal: 2m 48s\tremaining: 26m 29s\n",
            "300:\tlearn: 0.6719421\ttest: 0.6701178\tbest: 0.6701178 (300)\ttotal: 4m 5s\tremaining: 24m 28s\n",
            "400:\tlearn: 0.6799118\ttest: 0.6731012\tbest: 0.6733169 (399)\ttotal: 5m 24s\tremaining: 22m 53s\n",
            "500:\tlearn: 0.6868418\ttest: 0.6753781\tbest: 0.6754040 (494)\ttotal: 6m 42s\tremaining: 21m 22s\n",
            "600:\tlearn: 0.6928556\ttest: 0.6778816\tbest: 0.6778816 (600)\ttotal: 7m 58s\tremaining: 19m 52s\n",
            "700:\tlearn: 0.6988964\ttest: 0.6786260\tbest: 0.6787764 (699)\ttotal: 9m 11s\tremaining: 18m 19s\n",
            "800:\tlearn: 0.7046643\ttest: 0.6792078\tbest: 0.6793657 (784)\ttotal: 10m 21s\tremaining: 16m 47s\n",
            "900:\tlearn: 0.7098418\ttest: 0.6794878\tbest: 0.6797500 (876)\ttotal: 11m 32s\tremaining: 15m 20s\n",
            "bestTest = 0.6797500075\n",
            "bestIteration = 876\n",
            "Shrink model to first 877 iterations.\n",
            "CV F1 score: 0.709927\n",
            "\n",
            "----------------- Fold 4 -----------------\n",
            "\n",
            "0:\tlearn: 0.6131813\ttest: 0.6160774\tbest: 0.6160774 (0)\ttotal: 1.01s\tremaining: 35m 31s\n",
            "100:\tlearn: 0.6471120\ttest: 0.6430291\tbest: 0.6432591 (99)\ttotal: 1m 29s\tremaining: 29m 24s\n",
            "200:\tlearn: 0.6619751\ttest: 0.6584363\tbest: 0.6585770 (198)\ttotal: 2m 50s\tremaining: 26m 54s\n",
            "300:\tlearn: 0.6718427\ttest: 0.6660531\tbest: 0.6660531 (300)\ttotal: 4m 8s\tremaining: 24m 43s\n",
            "400:\tlearn: 0.6800113\ttest: 0.6689330\tbest: 0.6694156 (392)\ttotal: 5m 25s\tremaining: 22m 57s\n",
            "500:\tlearn: 0.6871462\ttest: 0.6717687\tbest: 0.6720155 (497)\ttotal: 6m 42s\tremaining: 21m 25s\n",
            "600:\tlearn: 0.6932779\ttest: 0.6745085\tbest: 0.6746367 (597)\ttotal: 8m\tremaining: 19m 58s\n",
            "700:\tlearn: 0.6992609\ttest: 0.6757867\tbest: 0.6761241 (687)\ttotal: 9m 14s\tremaining: 18m 25s\n",
            "800:\tlearn: 0.7049260\ttest: 0.6774535\tbest: 0.6775445 (782)\ttotal: 10m 26s\tremaining: 16m 55s\n",
            "900:\tlearn: 0.7098988\ttest: 0.6780605\tbest: 0.6781211 (889)\ttotal: 11m 39s\tremaining: 15m 29s\n",
            "1000:\tlearn: 0.7144750\ttest: 0.6788373\tbest: 0.6789822 (995)\ttotal: 12m 50s\tremaining: 14m 4s\n",
            "1100:\tlearn: 0.7188554\ttest: 0.6796698\tbest: 0.6796698 (1100)\ttotal: 14m\tremaining: 12m 41s\n",
            "1200:\tlearn: 0.7232110\ttest: 0.6805615\tbest: 0.6806684 (1187)\ttotal: 15m 11s\tremaining: 11m 21s\n",
            "1300:\tlearn: 0.7273826\ttest: 0.6813612\tbest: 0.6815614 (1283)\ttotal: 16m 22s\tremaining: 10m 2s\n",
            "1400:\tlearn: 0.7314513\ttest: 0.6814089\tbest: 0.6817302 (1345)\ttotal: 17m 31s\tremaining: 8m 44s\n",
            "bestTest = 0.6817301682\n",
            "bestIteration = 1345\n",
            "Shrink model to first 1346 iterations.\n",
            "CV F1 score: 0.712378\n",
            "\n",
            "----------------- Fold 5 -----------------\n",
            "\n",
            "0:\tlearn: 0.6216987\ttest: 0.6252807\tbest: 0.6252807 (0)\ttotal: 1.03s\tremaining: 36m 9s\n",
            "100:\tlearn: 0.6494931\ttest: 0.6512852\tbest: 0.6513599 (99)\ttotal: 1m 30s\tremaining: 29m 42s\n",
            "200:\tlearn: 0.6618037\ttest: 0.6637679\tbest: 0.6637679 (200)\ttotal: 2m 49s\tremaining: 26m 38s\n",
            "300:\tlearn: 0.6722769\ttest: 0.6702114\tbest: 0.6702114 (300)\ttotal: 4m 7s\tremaining: 24m 38s\n",
            "400:\tlearn: 0.6801402\ttest: 0.6737337\tbest: 0.6738112 (397)\ttotal: 5m 24s\tremaining: 22m 53s\n",
            "500:\tlearn: 0.6874030\ttest: 0.6765125\tbest: 0.6765194 (494)\ttotal: 6m 42s\tremaining: 21m 24s\n",
            "600:\tlearn: 0.6935877\ttest: 0.6782935\tbest: 0.6786667 (598)\ttotal: 8m\tremaining: 19m 57s\n",
            "700:\tlearn: 0.6997983\ttest: 0.6787868\tbest: 0.6790524 (680)\ttotal: 9m 13s\tremaining: 18m 24s\n",
            "800:\tlearn: 0.7054143\ttest: 0.6794758\tbest: 0.6795449 (798)\ttotal: 10m 25s\tremaining: 16m 53s\n",
            "900:\tlearn: 0.7105497\ttest: 0.6805352\tbest: 0.6806871 (850)\ttotal: 11m 35s\tremaining: 15m 25s\n",
            "1000:\tlearn: 0.7155875\ttest: 0.6810344\tbest: 0.6812593 (993)\ttotal: 12m 47s\tremaining: 14m 1s\n",
            "1100:\tlearn: 0.7200285\ttest: 0.6810360\tbest: 0.6813633 (1091)\ttotal: 13m 57s\tremaining: 12m 38s\n",
            "1200:\tlearn: 0.7244980\ttest: 0.6817374\tbest: 0.6818796 (1165)\ttotal: 15m 8s\tremaining: 11m 19s\n",
            "1300:\tlearn: 0.7281742\ttest: 0.6818818\tbest: 0.6822825 (1293)\ttotal: 16m 17s\tremaining: 9m 59s\n",
            "1400:\tlearn: 0.7321521\ttest: 0.6826792\tbest: 0.6829609 (1381)\ttotal: 17m 27s\tremaining: 8m 41s\n",
            "bestTest = 0.6829609363\n",
            "bestIteration = 1381\n",
            "Shrink model to first 1382 iterations.\n",
            "CV F1 score: 0.710725\n",
            "\n",
            "----------------- Fold 6 -----------------\n",
            "\n",
            "0:\tlearn: 0.6169335\ttest: 0.6196248\tbest: 0.6196248 (0)\ttotal: 886ms\tremaining: 30m 58s\n",
            "100:\tlearn: 0.6483247\ttest: 0.6544096\tbest: 0.6544096 (100)\ttotal: 1m 28s\tremaining: 29m 16s\n",
            "200:\tlearn: 0.6626976\ttest: 0.6676443\tbest: 0.6676443 (200)\ttotal: 2m 48s\tremaining: 26m 28s\n",
            "300:\tlearn: 0.6719233\ttest: 0.6756204\tbest: 0.6756204 (300)\ttotal: 4m 7s\tremaining: 24m 37s\n",
            "400:\tlearn: 0.6799381\ttest: 0.6775517\tbest: 0.6775814 (399)\ttotal: 5m 27s\tremaining: 23m 6s\n",
            "500:\tlearn: 0.6862523\ttest: 0.6791229\tbest: 0.6791229 (499)\ttotal: 6m 44s\tremaining: 21m 29s\n",
            "600:\tlearn: 0.6925219\ttest: 0.6811566\tbest: 0.6811566 (600)\ttotal: 8m 1s\tremaining: 20m\n",
            "700:\tlearn: 0.6986244\ttest: 0.6822880\tbest: 0.6823794 (684)\ttotal: 9m 14s\tremaining: 18m 25s\n",
            "800:\tlearn: 0.7039443\ttest: 0.6825660\tbest: 0.6827285 (788)\ttotal: 10m 26s\tremaining: 16m 55s\n",
            "900:\tlearn: 0.7095765\ttest: 0.6831710\tbest: 0.6832071 (894)\ttotal: 11m 41s\tremaining: 15m 32s\n",
            "1000:\tlearn: 0.7142200\ttest: 0.6837099\tbest: 0.6838146 (989)\ttotal: 12m 50s\tremaining: 14m 5s\n",
            "1100:\tlearn: 0.7189016\ttest: 0.6838149\tbest: 0.6841889 (1062)\ttotal: 14m 1s\tremaining: 12m 43s\n",
            "bestTest = 0.6841889491\n",
            "bestIteration = 1062\n",
            "Shrink model to first 1063 iterations.\n",
            "CV F1 score: 0.712865\n",
            "\n",
            "----------------- Fold 7 -----------------\n",
            "\n",
            "0:\tlearn: 0.6243464\ttest: 0.6270176\tbest: 0.6270176 (0)\ttotal: 872ms\tremaining: 30m 28s\n",
            "100:\tlearn: 0.6492686\ttest: 0.6564017\tbest: 0.6564017 (100)\ttotal: 1m 29s\tremaining: 29m 32s\n",
            "200:\tlearn: 0.6627699\ttest: 0.6690665\tbest: 0.6690665 (200)\ttotal: 2m 49s\tremaining: 26m 37s\n",
            "300:\tlearn: 0.6718889\ttest: 0.6756284\tbest: 0.6757047 (297)\ttotal: 4m 6s\tremaining: 24m 33s\n",
            "400:\tlearn: 0.6797234\ttest: 0.6781573\tbest: 0.6785377 (380)\ttotal: 5m 23s\tremaining: 22m 51s\n",
            "500:\tlearn: 0.6867043\ttest: 0.6800149\tbest: 0.6802590 (478)\ttotal: 6m 41s\tremaining: 21m 20s\n",
            "600:\tlearn: 0.6929076\ttest: 0.6818777\tbest: 0.6819264 (599)\ttotal: 7m 57s\tremaining: 19m 48s\n",
            "700:\tlearn: 0.6992779\ttest: 0.6824613\tbest: 0.6825423 (630)\ttotal: 9m 11s\tremaining: 18m 19s\n",
            "800:\tlearn: 0.7048061\ttest: 0.6832876\tbest: 0.6837056 (773)\ttotal: 10m 23s\tremaining: 16m 50s\n",
            "900:\tlearn: 0.7097752\ttest: 0.6836480\tbest: 0.6840825 (822)\ttotal: 11m 34s\tremaining: 15m 23s\n",
            "1000:\tlearn: 0.7145802\ttest: 0.6839491\tbest: 0.6844928 (947)\ttotal: 12m 45s\tremaining: 13m 59s\n",
            "bestTest = 0.6844927842\n",
            "bestIteration = 947\n",
            "Shrink model to first 948 iterations.\n",
            "CV F1 score: 0.710525\n",
            "\tF1 score: 0.711218\n"
          ]
        }
      ]
    },
    {
      "cell_type": "code",
      "source": [
        "submission['target'] = pred_test\n",
        "submission.to_csv(path + \"prediction_0128_3.csv\", index=False)"
      ],
      "metadata": {
        "id": "P56ydCTqjmYC"
      },
      "execution_count": 65,
      "outputs": []
    }
  ],
  "metadata": {
    "colab": {
      "collapsed_sections": [
        "TgoBV3cv83hn",
        "uVWiyejo89u9",
        "LuepCjx4EGYT",
        "cSZzzRHgEJmH",
        "VUNTN7i-rvx7"
      ],
      "name": "main.ipynb의 사본의 사본",
      "provenance": [],
      "mount_file_id": "1bsnPugjbm7eBOEuSsduPRP8B22Vkwhcp",
      "authorship_tag": "ABX9TyP1MRrTQs0LCSlOJkluMO1b",
      "include_colab_link": true
    },
    "kernelspec": {
      "display_name": "Python 3",
      "name": "python3"
    },
    "language_info": {
      "name": "python"
    },
    "accelerator": "GPU"
  },
  "nbformat": 4,
  "nbformat_minor": 0
}
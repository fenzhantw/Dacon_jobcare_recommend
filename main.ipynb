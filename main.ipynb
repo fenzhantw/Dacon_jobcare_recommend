{
  "cells": [
    {
      "cell_type": "markdown",
      "metadata": {
        "id": "glbuyNEBFYTh"
      },
      "source": [
        "# Data Load & Simple Preprocessing"
      ]
    },
    {
      "cell_type": "code",
      "execution_count": 5,
      "metadata": {
        "colab": {
          "base_uri": "https://localhost:8080/"
        },
        "id": "AWP46837X4XJ",
        "outputId": "14673e42-3e3e-49d8-ae04-2708c8982faa"
      },
      "outputs": [
        {
          "output_type": "stream",
          "name": "stdout",
          "text": [
            "Drive already mounted at /content/gdrive/; to attempt to forcibly remount, call drive.mount(\"/content/gdrive/\", force_remount=True).\n"
          ]
        }
      ],
      "source": [
        "from google.colab import drive\n",
        "drive.mount('/content/gdrive/')"
      ]
    },
    {
      "cell_type": "code",
      "execution_count": 6,
      "metadata": {
        "colab": {
          "base_uri": "https://localhost:8080/"
        },
        "id": "o81jZN8gYBDt",
        "outputId": "5c02ae74-430f-4c2c-fa18-d65dbf65b14a"
      },
      "outputs": [
        {
          "output_type": "execute_result",
          "data": {
            "text/plain": [
              "['X_train.csv',\n",
              " 'X_test.csv',\n",
              " 'prediction_12242.csv',\n",
              " '참가자_제공_레이아웃.pdf',\n",
              " '속성_H_코드.csv',\n",
              " '속성_D_코드.csv',\n",
              " '속성_L_코드.csv',\n",
              " 'sample_submission.csv',\n",
              " 'test.csv',\n",
              " 'train.csv',\n",
              " 'X_train_mean.csv',\n",
              " 'X_test_mean.csv',\n",
              " 'y_train.csv']"
            ]
          },
          "metadata": {},
          "execution_count": 6
        }
      ],
      "source": [
        "path = '/content/gdrive/MyDrive/dacon/jobcare/'\n",
        "import os\n",
        "os.listdir(path)"
      ]
    },
    {
      "cell_type": "code",
      "execution_count": 7,
      "metadata": {
        "id": "kj2UVDgKYn4D"
      },
      "outputs": [],
      "source": [
        "import pandas as pd"
      ]
    },
    {
      "cell_type": "code",
      "execution_count": 8,
      "metadata": {
        "id": "SZP4ffE5YYFp"
      },
      "outputs": [],
      "source": [
        "train = pd.read_csv(path + \"train.csv\")\n",
        "X_test = pd.read_csv(path + \"test.csv\")\n",
        "submission = pd.read_csv(path + \"sample_submission.csv\")\n",
        "\n",
        "d_code = pd.read_csv(path + '속성_D_코드.csv', index_col=0).T.to_dict()\n",
        "h_code = pd.read_csv(path + '속성_H_코드.csv', index_col=0).T.to_dict()\n",
        "l_code = pd.read_csv(path + '속성_L_코드.csv', index_col=0).T.to_dict()"
      ]
    },
    {
      "cell_type": "markdown",
      "source": [
        "분류코드에 따라 아래와 같이 구분자를 붙혀 구분합니다.\n",
        "- n: 세분류코드 \n",
        "- s: 소분류코드   \n",
        "- m: 중분류코드 \n",
        "- l: 대분류코드 \n",
        "- u: 상위코드"
      ],
      "metadata": {
        "id": "HPFq6c8WvVsQ"
      }
    },
    {
      "cell_type": "code",
      "execution_count": 9,
      "metadata": {
        "colab": {
          "base_uri": "https://localhost:8080/"
        },
        "id": "pSZCMCZlvVv3",
        "outputId": "732d04e0-869b-4f17-da1d-fb4d3dbe369c"
      },
      "outputs": [
        {
          "output_type": "stream",
          "name": "stdout",
          "text": [
            "train_data.shape:  (501951, 63)\n",
            "test_data.shape:  (46404, 62)\n"
          ]
        }
      ],
      "source": [
        "def add_code(df, d_code, h_code, l_code):\n",
        "    df = df.copy()   \n",
        "\n",
        "    # D Code\n",
        "    df['person_prefer_d_1_n'] = df['person_prefer_d_1'].apply(lambda x: d_code[x]['속성 D 세분류코드'])\n",
        "    df['person_prefer_d_1_s'] = df['person_prefer_d_1'].apply(lambda x: d_code[x]['속성 D 소분류코드'])\n",
        "    df['person_prefer_d_1_m'] = df['person_prefer_d_1'].apply(lambda x: d_code[x]['속성 D 중분류코드'])\n",
        "    df['person_prefer_d_1_l'] = df['person_prefer_d_1'].apply(lambda x: d_code[x]['속성 D 대분류코드'])\n",
        "\n",
        "    df['person_prefer_d_2_n'] = df['person_prefer_d_2'].apply(lambda x: d_code[x]['속성 D 세분류코드'])\n",
        "    df['person_prefer_d_2_s'] = df['person_prefer_d_2'].apply(lambda x: d_code[x]['속성 D 소분류코드'])\n",
        "    df['person_prefer_d_2_m'] = df['person_prefer_d_2'].apply(lambda x: d_code[x]['속성 D 중분류코드'])\n",
        "    df['person_prefer_d_2_l'] = df['person_prefer_d_2'].apply(lambda x: d_code[x]['속성 D 대분류코드'])\n",
        "\n",
        "    df['person_prefer_d_3_n'] = df['person_prefer_d_3'].apply(lambda x: d_code[x]['속성 D 세분류코드'])\n",
        "    df['person_prefer_d_3_s'] = df['person_prefer_d_3'].apply(lambda x: d_code[x]['속성 D 소분류코드'])\n",
        "    df['person_prefer_d_3_m'] = df['person_prefer_d_3'].apply(lambda x: d_code[x]['속성 D 중분류코드'])\n",
        "    df['person_prefer_d_3_l'] = df['person_prefer_d_3'].apply(lambda x: d_code[x]['속성 D 대분류코드'])\n",
        "\n",
        "    df['contents_attribute_d_n'] = df['contents_attribute_d'].apply(lambda x: d_code[x]['속성 D 세분류코드'])\n",
        "    df['contents_attribute_d_s'] = df['contents_attribute_d'].apply(lambda x: d_code[x]['속성 D 소분류코드'])\n",
        "    df['contents_attribute_d_m'] = df['contents_attribute_d'].apply(lambda x: d_code[x]['속성 D 중분류코드'])\n",
        "    df['contents_attribute_d_l'] = df['contents_attribute_d'].apply(lambda x: d_code[x]['속성 D 대분류코드'])\n",
        "\n",
        "    # H Code\n",
        "    df['person_prefer_h_1_m'] = df['person_prefer_h_1'].apply(lambda x: h_code[x]['속성 H 중분류코드'])\n",
        "    df['person_prefer_h_2_m'] = df['person_prefer_h_2'].apply(lambda x: h_code[x]['속성 H 중분류코드'])\n",
        "    df['person_prefer_h_3_m'] = df['person_prefer_h_3'].apply(lambda x: h_code[x]['속성 H 중분류코드'])\n",
        "    df['contents_attribute_h_m'] = df['contents_attribute_h'].apply(lambda x: h_code[x]['속성 H 중분류코드'])\n",
        "\n",
        "    df['person_prefer_h_1_l'] = df['person_prefer_h_1'].apply(lambda x: h_code[x]['속성 H 대분류코드'])\n",
        "    df['person_prefer_h_2_l'] = df['person_prefer_h_2'].apply(lambda x: h_code[x]['속성 H 대분류코드'])\n",
        "    df['person_prefer_h_3_l'] = df['person_prefer_h_3'].apply(lambda x: h_code[x]['속성 H 대분류코드'])\n",
        "    df['contents_attribute_h_l'] = df['contents_attribute_h'].apply(lambda x: h_code[x]['속성 H 대분류코드'])\n",
        "\n",
        "    # L Code\n",
        "    df['contents_attribute_l_n'] = df['contents_attribute_l'].apply(lambda x: l_code[x]['속성 L 세분류코드'])\n",
        "    df['contents_attribute_l_s'] = df['contents_attribute_l'].apply(lambda x: l_code[x]['속성 L 소분류코드'])\n",
        "    df['contents_attribute_l_m'] = df['contents_attribute_l'].apply(lambda x: l_code[x]['속성 L 중분류코드'])\n",
        "    df['contents_attribute_l_l'] = df['contents_attribute_l'].apply(lambda x: l_code[x]['속성 L 대분류코드'])\n",
        "    return df\n",
        "\n",
        "train = add_code(train, d_code, h_code, l_code)\n",
        "X_test = add_code(X_test, d_code, h_code, l_code)\n",
        "print(\"train_data.shape: \", train.shape)\n",
        "print(\"test_data.shape: \", X_test.shape)"
      ]
    },
    {
      "cell_type": "code",
      "execution_count": 10,
      "metadata": {
        "colab": {
          "base_uri": "https://localhost:8080/"
        },
        "id": "8LVwjoiOYvkv",
        "outputId": "946ecd71-9da3-4aa1-d315-d6d5be8b62c6"
      },
      "outputs": [
        {
          "output_type": "stream",
          "name": "stdout",
          "text": [
            "<class 'pandas.core.frame.DataFrame'>\n",
            "RangeIndex: 501951 entries, 0 to 501950\n",
            "Data columns (total 63 columns):\n",
            " #   Column                  Non-Null Count   Dtype \n",
            "---  ------                  --------------   ----- \n",
            " 0   id                      501951 non-null  int64 \n",
            " 1   d_l_match_yn            501951 non-null  bool  \n",
            " 2   d_m_match_yn            501951 non-null  bool  \n",
            " 3   d_s_match_yn            501951 non-null  bool  \n",
            " 4   h_l_match_yn            501951 non-null  bool  \n",
            " 5   h_m_match_yn            501951 non-null  bool  \n",
            " 6   h_s_match_yn            501951 non-null  bool  \n",
            " 7   person_attribute_a      501951 non-null  int64 \n",
            " 8   person_attribute_a_1    501951 non-null  int64 \n",
            " 9   person_attribute_b      501951 non-null  int64 \n",
            " 10  person_prefer_c         501951 non-null  int64 \n",
            " 11  person_prefer_d_1       501951 non-null  int64 \n",
            " 12  person_prefer_d_2       501951 non-null  int64 \n",
            " 13  person_prefer_d_3       501951 non-null  int64 \n",
            " 14  person_prefer_e         501951 non-null  int64 \n",
            " 15  person_prefer_f         501951 non-null  int64 \n",
            " 16  person_prefer_g         501951 non-null  int64 \n",
            " 17  person_prefer_h_1       501951 non-null  int64 \n",
            " 18  person_prefer_h_2       501951 non-null  int64 \n",
            " 19  person_prefer_h_3       501951 non-null  int64 \n",
            " 20  contents_attribute_i    501951 non-null  int64 \n",
            " 21  contents_attribute_a    501951 non-null  int64 \n",
            " 22  contents_attribute_j_1  501951 non-null  int64 \n",
            " 23  contents_attribute_j    501951 non-null  int64 \n",
            " 24  contents_attribute_c    501951 non-null  int64 \n",
            " 25  contents_attribute_k    501951 non-null  int64 \n",
            " 26  contents_attribute_l    501951 non-null  int64 \n",
            " 27  contents_attribute_d    501951 non-null  int64 \n",
            " 28  contents_attribute_m    501951 non-null  int64 \n",
            " 29  contents_attribute_e    501951 non-null  int64 \n",
            " 30  contents_attribute_h    501951 non-null  int64 \n",
            " 31  person_rn               501951 non-null  int64 \n",
            " 32  contents_rn             501951 non-null  int64 \n",
            " 33  contents_open_dt        501951 non-null  object\n",
            " 34  target                  501951 non-null  int64 \n",
            " 35  person_prefer_d_1_n     501951 non-null  int64 \n",
            " 36  person_prefer_d_1_s     501951 non-null  int64 \n",
            " 37  person_prefer_d_1_m     501951 non-null  int64 \n",
            " 38  person_prefer_d_1_l     501951 non-null  int64 \n",
            " 39  person_prefer_d_2_n     501951 non-null  int64 \n",
            " 40  person_prefer_d_2_s     501951 non-null  int64 \n",
            " 41  person_prefer_d_2_m     501951 non-null  int64 \n",
            " 42  person_prefer_d_2_l     501951 non-null  int64 \n",
            " 43  person_prefer_d_3_n     501951 non-null  int64 \n",
            " 44  person_prefer_d_3_s     501951 non-null  int64 \n",
            " 45  person_prefer_d_3_m     501951 non-null  int64 \n",
            " 46  person_prefer_d_3_l     501951 non-null  int64 \n",
            " 47  contents_attribute_d_n  501951 non-null  int64 \n",
            " 48  contents_attribute_d_s  501951 non-null  int64 \n",
            " 49  contents_attribute_d_m  501951 non-null  int64 \n",
            " 50  contents_attribute_d_l  501951 non-null  int64 \n",
            " 51  person_prefer_h_1_m     501951 non-null  int64 \n",
            " 52  person_prefer_h_2_m     501951 non-null  int64 \n",
            " 53  person_prefer_h_3_m     501951 non-null  int64 \n",
            " 54  contents_attribute_h_m  501951 non-null  int64 \n",
            " 55  person_prefer_h_1_l     501951 non-null  int64 \n",
            " 56  person_prefer_h_2_l     501951 non-null  int64 \n",
            " 57  person_prefer_h_3_l     501951 non-null  int64 \n",
            " 58  contents_attribute_h_l  501951 non-null  int64 \n",
            " 59  contents_attribute_l_n  501951 non-null  int64 \n",
            " 60  contents_attribute_l_s  501951 non-null  int64 \n",
            " 61  contents_attribute_l_m  501951 non-null  int64 \n",
            " 62  contents_attribute_l_l  501951 non-null  int64 \n",
            "dtypes: bool(6), int64(56), object(1)\n",
            "memory usage: 221.2+ MB\n"
          ]
        }
      ],
      "source": [
        "train.info()"
      ]
    },
    {
      "cell_type": "code",
      "execution_count": 11,
      "metadata": {
        "id": "ORF9ek6CYvnN"
      },
      "outputs": [],
      "source": [
        "data = [train, X_test]\n",
        "\n",
        "for i in range(2):\n",
        "  data[i].contents_open_dt = pd.to_datetime(data[i].contents_open_dt)\n",
        "\n",
        "  data[i]['month'] = data[i].contents_open_dt.dt.month\n",
        "  data[i]['day'] = data[i].contents_open_dt.dt.day\n",
        "  data[i]['week'] = data[i].contents_open_dt.dt.isocalendar().week\n",
        "  data[i]['dayofweek'] = data[i].contents_open_dt.dt.dayofweek\n",
        "  data[i]['hour'] = data[i].contents_open_dt.dt.hour\n",
        "  data[i]['minute'] = data[i].contents_open_dt.dt.minute\n",
        "\n",
        "  data[i].drop(['id', 'contents_open_dt'], axis=1, inplace=True)"
      ]
    },
    {
      "cell_type": "code",
      "execution_count": 12,
      "metadata": {
        "id": "94R8xxl5aWiI"
      },
      "outputs": [],
      "source": [
        "for i in range(train.shape[1]):\n",
        "  train.iloc[:,i] = train.iloc[:,i].astype(int)\n",
        "for i in range(X_test.shape[1]):\n",
        "  X_test.iloc[:,i] = X_test.iloc[:,i].astype(int)"
      ]
    },
    {
      "cell_type": "code",
      "execution_count": 13,
      "metadata": {
        "id": "MZbZ0EMbyskK"
      },
      "outputs": [],
      "source": [
        "X_train = train.drop('target',axis=1)\n",
        "y_train = train['target']"
      ]
    },
    {
      "cell_type": "code",
      "execution_count": 14,
      "metadata": {
        "id": "FWtpSY0sISlf"
      },
      "outputs": [],
      "source": [
        "X_train = X_train.drop(['person_rn', 'contents_rn', 'person_prefer_f', 'person_prefer_g'],axis=1)\n",
        "X_test = X_test.drop(['person_rn', 'contents_rn', 'person_prefer_f', 'person_prefer_g'],axis=1)\n"
      ]
    },
    {
      "cell_type": "markdown",
      "source": [
        "# 변수처리"
      ],
      "metadata": {
        "id": "LYyBENdLJR99"
      }
    },
    {
      "cell_type": "code",
      "source": [
        "X_train[\"kfold\"] = -1"
      ],
      "metadata": {
        "id": "MY9-aD9BJVE8"
      },
      "execution_count": 11,
      "outputs": []
    },
    {
      "cell_type": "code",
      "source": [
        "from sklearn import model_selection\n",
        "kf = model_selection.KFold(n_splits=5, shuffle=True, random_state=42)\n",
        "for fold, (train_indicies, valid_indicies) in enumerate(kf.split(X=X_train)):\n",
        "    X_train.loc[valid_indicies, \"kfold\"] = fold"
      ],
      "metadata": {
        "id": "mNP3fDXKJVHN"
      },
      "execution_count": 12,
      "outputs": []
    },
    {
      "cell_type": "code",
      "source": [
        "object_cols = X_train.columns[:-1]\n",
        "df = pd.concat([X_train, y_train], axis=1)\n",
        "\n",
        "for col in object_cols:\n",
        "    temp_df = []\n",
        "    temp_test_feat = None\n",
        "    for fold in range(5):\n",
        "        xtrain =  df[df.kfold != fold].reset_index(drop=True)\n",
        "        xvalid = df[df.kfold == fold].reset_index(drop=True)\n",
        "        \n",
        "        # 명목형 변수를 그냥 라벨 처리하기에는 한계가 있으므로 각 값 별로 타겟값의 평균을 대입해주고자 한다.\n",
        "        # 이때 과적합을 막기위해 5-foldCV를 활용하여 각 폴드별 값의 평균을 대입해준다.\n",
        "        feat = xtrain.groupby(col)[\"target\"].agg(\"mean\")\n",
        "        feat = feat.to_dict()\n",
        "        xvalid.loc[:, f\"tar_enc_{col}\"] = xvalid[col].map(feat)\n",
        "        temp_df.append(xvalid)\n",
        "        if temp_test_feat is None:\n",
        "            temp_test_feat = X_test[col].map(feat)\n",
        "        else:\n",
        "            temp_test_feat += X_test[col].map(feat)\n",
        "    \n",
        "    temp_test_feat /= 5\n",
        "    X_test.loc[:, f\"tar_enc_{col}\"] = temp_test_feat\n",
        "    df = pd.concat(temp_df)\n",
        "    \n",
        "\n",
        "X_train = df.copy()"
      ],
      "metadata": {
        "id": "VK5-rzdRJYC9"
      },
      "execution_count": 13,
      "outputs": []
    },
    {
      "cell_type": "code",
      "source": [
        "X_train = X_train.drop(['kfold', 'target'],axis=1)"
      ],
      "metadata": {
        "id": "-pI32u5aJYE_"
      },
      "execution_count": 14,
      "outputs": []
    },
    {
      "cell_type": "code",
      "source": [
        "for i in range(X_train.shape[1]):\n",
        "    X_train.iloc[:,i] = X_train.iloc[:,i].fillna(X_train.iloc[:,i].mean())\n",
        "    X_test.iloc[:,i] = X_test.iloc[:,i].fillna(X_train.iloc[:,i].mean())"
      ],
      "metadata": {
        "id": "Apf0sjfxKppz"
      },
      "execution_count": 15,
      "outputs": []
    },
    {
      "cell_type": "code",
      "source": [
        "X_train_mean = X_train.iloc[:,62:]\n",
        "X_test_mean = X_test.iloc[:,62:]"
      ],
      "metadata": {
        "id": "a-Y03QgmJYHP"
      },
      "execution_count": 20,
      "outputs": []
    },
    {
      "cell_type": "markdown",
      "source": [
        "# LGBM"
      ],
      "metadata": {
        "id": "Cj3XNhvCz0Xz"
      }
    },
    {
      "cell_type": "code",
      "source": [
        "import pandas as pd\n",
        "import numpy as np\n",
        "from google.colab import drive\n",
        "drive.mount('/content/gdrive/')\n",
        "\n",
        "import matplotlib.pyplot as plt\n",
        "import matplotlib.cm as cm\n",
        "import seaborn as sns\n",
        "plt.style.use('fivethirtyeight')\n",
        "import warnings\n",
        "warnings.filterwarnings('ignore')\n",
        "%matplotlib inline\n",
        "from tqdm import tnrange, tqdm_notebook, notebook, tqdm\n",
        "import time\n",
        "import random\n",
        "\n",
        "from sklearn import preprocessing\n",
        "from sklearn.model_selection import cross_val_score, train_test_split, KFold\n",
        "\n",
        "from lightgbm import LGBMClassifier\n",
        "from sklearn.model_selection import GridSearchCV, cross_validate\n",
        "from sklearn.metrics import f1_score"
      ],
      "metadata": {
        "id": "9UafrgGCzzhv",
        "colab": {
          "base_uri": "https://localhost:8080/"
        },
        "outputId": "0051ca12-d644-43c0-c0ae-95b3a5e05efe"
      },
      "execution_count": 2,
      "outputs": [
        {
          "output_type": "stream",
          "name": "stdout",
          "text": [
            "Drive already mounted at /content/gdrive/; to attempt to forcibly remount, call drive.mount(\"/content/gdrive/\", force_remount=True).\n"
          ]
        }
      ]
    },
    {
      "cell_type": "code",
      "source": [
        "model = LGBMClassifier()\n",
        "model.fit(X_train, y_train)"
      ],
      "metadata": {
        "colab": {
          "base_uri": "https://localhost:8080/"
        },
        "id": "IwOu3nguTysW",
        "outputId": "afea447f-058d-40e4-d460-b93d6340dd2c"
      },
      "execution_count": 57,
      "outputs": [
        {
          "output_type": "execute_result",
          "data": {
            "text/plain": [
              "LGBMClassifier()"
            ]
          },
          "metadata": {},
          "execution_count": 57
        }
      ]
    },
    {
      "cell_type": "code",
      "source": [
        "pd.Series(model.feature_importances_,X_train.columns).sort_values(ascending=True).iloc[:17]"
      ],
      "metadata": {
        "colab": {
          "base_uri": "https://localhost:8080/"
        },
        "id": "YYRvpLE3UDMS",
        "outputId": "4a2160e2-25db-4c00-ccdc-6c9649b82d20"
      },
      "execution_count": 68,
      "outputs": [
        {
          "output_type": "execute_result",
          "data": {
            "text/plain": [
              "contents_attribute_h_l    0\n",
              "person_prefer_h_3_l       0\n",
              "contents_attribute_j      0\n",
              "person_prefer_d_1_s       0\n",
              "person_prefer_d_1_m       0\n",
              "person_prefer_d_1_l       0\n",
              "person_prefer_d_2_s       0\n",
              "person_prefer_d_2_m       0\n",
              "person_prefer_d_2_l       0\n",
              "person_prefer_d_3_s       0\n",
              "person_prefer_d_3_m       0\n",
              "contents_attribute_d_s    0\n",
              "contents_attribute_d_m    0\n",
              "contents_attribute_d_l    0\n",
              "contents_attribute_h_m    0\n",
              "person_prefer_h_2_l       0\n",
              "person_prefer_d_3_l       0\n",
              "dtype: int64"
            ]
          },
          "metadata": {},
          "execution_count": 68
        }
      ]
    },
    {
      "cell_type": "code",
      "source": [
        "pd.Series(model.feature_importances_,X_train.columns).sort_values(ascending=False).iloc[:20]"
      ],
      "metadata": {
        "colab": {
          "base_uri": "https://localhost:8080/"
        },
        "id": "m4UESVNXWHy0",
        "outputId": "b5f1242c-1d75-4a4a-caee-20c5ad1ceddb"
      },
      "execution_count": 69,
      "outputs": [
        {
          "output_type": "execute_result",
          "data": {
            "text/plain": [
              "contents_attribute_h            86\n",
              "tar_enc_minute                  82\n",
              "tar_enc_contents_attribute_k    79\n",
              "minute                          78\n",
              "tar_enc_contents_attribute_d    77\n",
              "tar_enc_week                    68\n",
              "tar_enc_day                     67\n",
              "contents_attribute_l            65\n",
              "tar_enc_person_prefer_d_2       64\n",
              "tar_enc_contents_attribute_h    63\n",
              "tar_enc_contents_attribute_l    62\n",
              "hour                            56\n",
              "tar_enc_contents_attribute_c    55\n",
              "tar_enc_person_prefer_h_2       55\n",
              "tar_enc_person_attribute_a      54\n",
              "tar_enc_person_prefer_d_3       53\n",
              "person_prefer_d_2               51\n",
              "tar_enc_person_prefer_h_1       49\n",
              "contents_attribute_d            48\n",
              "tar_enc_hour                    48\n",
              "dtype: int64"
            ]
          },
          "metadata": {},
          "execution_count": 69
        }
      ]
    },
    {
      "cell_type": "code",
      "source": [
        "!pip install catboost"
      ],
      "metadata": {
        "colab": {
          "base_uri": "https://localhost:8080/"
        },
        "id": "RHPMOnHQW9aW",
        "outputId": "1bc653a3-8ef5-4a99-a1e8-dbee8bf82df4"
      },
      "execution_count": 81,
      "outputs": [
        {
          "output_type": "stream",
          "name": "stdout",
          "text": [
            "Collecting catboost\n",
            "  Downloading catboost-1.0.3-cp37-none-manylinux1_x86_64.whl (76.3 MB)\n",
            "\u001b[K     |████████████████████████████████| 76.3 MB 1.2 MB/s \n",
            "\u001b[?25hRequirement already satisfied: matplotlib in /usr/local/lib/python3.7/dist-packages (from catboost) (3.2.2)\n",
            "Requirement already satisfied: six in /usr/local/lib/python3.7/dist-packages (from catboost) (1.15.0)\n",
            "Requirement already satisfied: graphviz in /usr/local/lib/python3.7/dist-packages (from catboost) (0.10.1)\n",
            "Requirement already satisfied: scipy in /usr/local/lib/python3.7/dist-packages (from catboost) (1.4.1)\n",
            "Requirement already satisfied: pandas>=0.24.0 in /usr/local/lib/python3.7/dist-packages (from catboost) (1.1.5)\n",
            "Requirement already satisfied: plotly in /usr/local/lib/python3.7/dist-packages (from catboost) (4.4.1)\n",
            "Requirement already satisfied: numpy>=1.16.0 in /usr/local/lib/python3.7/dist-packages (from catboost) (1.19.5)\n",
            "Requirement already satisfied: pytz>=2017.2 in /usr/local/lib/python3.7/dist-packages (from pandas>=0.24.0->catboost) (2018.9)\n",
            "Requirement already satisfied: python-dateutil>=2.7.3 in /usr/local/lib/python3.7/dist-packages (from pandas>=0.24.0->catboost) (2.8.2)\n",
            "Requirement already satisfied: pyparsing!=2.0.4,!=2.1.2,!=2.1.6,>=2.0.1 in /usr/local/lib/python3.7/dist-packages (from matplotlib->catboost) (3.0.6)\n",
            "Requirement already satisfied: cycler>=0.10 in /usr/local/lib/python3.7/dist-packages (from matplotlib->catboost) (0.11.0)\n",
            "Requirement already satisfied: kiwisolver>=1.0.1 in /usr/local/lib/python3.7/dist-packages (from matplotlib->catboost) (1.3.2)\n",
            "Requirement already satisfied: retrying>=1.3.3 in /usr/local/lib/python3.7/dist-packages (from plotly->catboost) (1.3.3)\n",
            "Installing collected packages: catboost\n",
            "Successfully installed catboost-1.0.3\n"
          ]
        }
      ]
    },
    {
      "cell_type": "code",
      "source": [
        "from catboost import Pool,CatBoostClassifier"
      ],
      "metadata": {
        "id": "BoLERGMuW70F"
      },
      "execution_count": 3,
      "outputs": []
    },
    {
      "cell_type": "code",
      "source": [
        "X_train = X_train.iloc[:,0:62]\n",
        "cat_features = X_train.columns[X_train.nunique() > 2].tolist()\n",
        "\n",
        "is_holdout = False\n",
        "n_splits = 5\n",
        "iterations = 500\n",
        "patience = 50\n",
        "\n",
        "model = CatBoostClassifier(iterations=iterations,random_state=123,\n",
        "                           cat_features=cat_features, one_hot_max_size=4)\n",
        "model.fit(X_train, y_train)"
      ],
      "metadata": {
        "colab": {
          "base_uri": "https://localhost:8080/"
        },
        "id": "jNqzJCGpWY0R",
        "outputId": "a645c9fc-39de-4a31-a5c1-dc79e93d109a"
      },
      "execution_count": 83,
      "outputs": [
        {
          "output_type": "stream",
          "name": "stdout",
          "text": [
            "Learning rate set to 0.276797\n",
            "0:\tlearn: 0.6931365\ttotal: 9.49s\tremaining: 1h 18m 55s\n",
            "1:\tlearn: 0.6931151\ttotal: 13.9s\tremaining: 57m 42s\n",
            "2:\tlearn: 0.6930890\ttotal: 19.2s\tremaining: 53m 6s\n",
            "3:\tlearn: 0.6930638\ttotal: 23.9s\tremaining: 49m 26s\n",
            "4:\tlearn: 0.6930230\ttotal: 28.7s\tremaining: 47m 16s\n",
            "5:\tlearn: 0.6930144\ttotal: 33.1s\tremaining: 45m 23s\n",
            "6:\tlearn: 0.6929813\ttotal: 37.9s\tremaining: 44m 30s\n",
            "7:\tlearn: 0.6929695\ttotal: 42.5s\tremaining: 43m 36s\n",
            "8:\tlearn: 0.6929445\ttotal: 47.8s\tremaining: 43m 28s\n",
            "9:\tlearn: 0.6929296\ttotal: 52s\tremaining: 42m 30s\n",
            "10:\tlearn: 0.6929109\ttotal: 56.7s\tremaining: 42m\n",
            "11:\tlearn: 0.6928861\ttotal: 1m 1s\tremaining: 41m 27s\n",
            "12:\tlearn: 0.6928694\ttotal: 1m 5s\tremaining: 40m 48s\n",
            "13:\tlearn: 0.6928365\ttotal: 1m 9s\tremaining: 40m 23s\n",
            "14:\tlearn: 0.6928172\ttotal: 1m 14s\tremaining: 39m 58s\n",
            "15:\tlearn: 0.6928050\ttotal: 1m 18s\tremaining: 39m 34s\n",
            "16:\tlearn: 0.6927881\ttotal: 1m 23s\tremaining: 39m 36s\n",
            "17:\tlearn: 0.6927881\ttotal: 1m 24s\tremaining: 37m 46s\n",
            "18:\tlearn: 0.6927777\ttotal: 1m 29s\tremaining: 37m 40s\n",
            "19:\tlearn: 0.6927549\ttotal: 1m 33s\tremaining: 37m 24s\n",
            "20:\tlearn: 0.6927364\ttotal: 1m 39s\tremaining: 37m 42s\n",
            "21:\tlearn: 0.6927227\ttotal: 1m 44s\tremaining: 37m 49s\n",
            "22:\tlearn: 0.6927051\ttotal: 1m 49s\tremaining: 37m 47s\n",
            "23:\tlearn: 0.6926817\ttotal: 1m 53s\tremaining: 37m 39s\n",
            "24:\tlearn: 0.6926747\ttotal: 1m 57s\tremaining: 37m 21s\n",
            "25:\tlearn: 0.6926619\ttotal: 2m 2s\tremaining: 37m 11s\n",
            "26:\tlearn: 0.6926427\ttotal: 2m 6s\tremaining: 37m\n",
            "27:\tlearn: 0.6926250\ttotal: 2m 10s\tremaining: 36m 45s\n",
            "28:\tlearn: 0.6925991\ttotal: 2m 15s\tremaining: 36m 43s\n",
            "29:\tlearn: 0.6925742\ttotal: 2m 20s\tremaining: 36m 40s\n",
            "30:\tlearn: 0.6925619\ttotal: 2m 24s\tremaining: 36m 30s\n",
            "31:\tlearn: 0.6925285\ttotal: 2m 29s\tremaining: 36m 20s\n",
            "32:\tlearn: 0.6925077\ttotal: 2m 33s\tremaining: 36m 16s\n",
            "33:\tlearn: 0.6924944\ttotal: 2m 38s\tremaining: 36m 11s\n",
            "34:\tlearn: 0.6924588\ttotal: 2m 43s\tremaining: 36m 10s\n",
            "35:\tlearn: 0.6924530\ttotal: 2m 49s\tremaining: 36m 21s\n",
            "36:\tlearn: 0.6924295\ttotal: 2m 54s\tremaining: 36m 27s\n",
            "37:\tlearn: 0.6924150\ttotal: 2m 59s\tremaining: 36m 26s\n",
            "38:\tlearn: 0.6924052\ttotal: 3m 4s\tremaining: 36m 19s\n",
            "39:\tlearn: 0.6923761\ttotal: 3m 9s\tremaining: 36m 20s\n",
            "40:\tlearn: 0.6923625\ttotal: 3m 14s\tremaining: 36m 17s\n",
            "41:\tlearn: 0.6923426\ttotal: 3m 19s\tremaining: 36m 15s\n",
            "42:\tlearn: 0.6923321\ttotal: 3m 24s\tremaining: 36m 12s\n",
            "43:\tlearn: 0.6922977\ttotal: 3m 29s\tremaining: 36m 15s\n",
            "44:\tlearn: 0.6922806\ttotal: 3m 34s\tremaining: 36m 7s\n",
            "45:\tlearn: 0.6922524\ttotal: 3m 38s\tremaining: 35m 56s\n",
            "46:\tlearn: 0.6922229\ttotal: 3m 43s\tremaining: 35m 54s\n",
            "47:\tlearn: 0.6921900\ttotal: 3m 48s\tremaining: 35m 49s\n",
            "48:\tlearn: 0.6921704\ttotal: 3m 52s\tremaining: 35m 40s\n",
            "49:\tlearn: 0.6921557\ttotal: 3m 57s\tremaining: 35m 36s\n",
            "50:\tlearn: 0.6921293\ttotal: 4m 2s\tremaining: 35m 34s\n",
            "51:\tlearn: 0.6921147\ttotal: 4m 6s\tremaining: 35m 27s\n",
            "52:\tlearn: 0.6920964\ttotal: 4m 11s\tremaining: 35m 21s\n",
            "53:\tlearn: 0.6920696\ttotal: 4m 16s\tremaining: 35m 19s\n",
            "54:\tlearn: 0.6920431\ttotal: 4m 21s\tremaining: 35m 12s\n",
            "55:\tlearn: 0.6920329\ttotal: 4m 26s\tremaining: 35m 11s\n",
            "56:\tlearn: 0.6920125\ttotal: 4m 30s\tremaining: 35m 5s\n",
            "57:\tlearn: 0.6919795\ttotal: 4m 36s\tremaining: 35m 3s\n",
            "58:\tlearn: 0.6919590\ttotal: 4m 40s\tremaining: 34m 57s\n",
            "59:\tlearn: 0.6919453\ttotal: 4m 45s\tremaining: 34m 53s\n",
            "60:\tlearn: 0.6919208\ttotal: 4m 50s\tremaining: 34m 48s\n",
            "61:\tlearn: 0.6919033\ttotal: 4m 55s\tremaining: 34m 44s\n",
            "62:\tlearn: 0.6918932\ttotal: 5m\tremaining: 34m 41s\n",
            "63:\tlearn: 0.6918723\ttotal: 5m 4s\tremaining: 34m 33s\n",
            "64:\tlearn: 0.6918421\ttotal: 5m 9s\tremaining: 34m 28s\n",
            "65:\tlearn: 0.6918316\ttotal: 5m 13s\tremaining: 34m 21s\n",
            "66:\tlearn: 0.6918192\ttotal: 5m 17s\tremaining: 34m 14s\n",
            "67:\tlearn: 0.6917909\ttotal: 5m 22s\tremaining: 34m 10s\n",
            "68:\tlearn: 0.6917686\ttotal: 5m 27s\tremaining: 34m 6s\n",
            "69:\tlearn: 0.6917579\ttotal: 5m 32s\tremaining: 34m\n",
            "70:\tlearn: 0.6917274\ttotal: 5m 36s\tremaining: 33m 54s\n",
            "71:\tlearn: 0.6917027\ttotal: 5m 40s\tremaining: 33m 46s\n",
            "72:\tlearn: 0.6916880\ttotal: 5m 45s\tremaining: 33m 42s\n",
            "73:\tlearn: 0.6916713\ttotal: 5m 50s\tremaining: 33m 38s\n",
            "74:\tlearn: 0.6916524\ttotal: 5m 55s\tremaining: 33m 33s\n",
            "75:\tlearn: 0.6916325\ttotal: 6m\tremaining: 33m 28s\n",
            "76:\tlearn: 0.6916039\ttotal: 6m 4s\tremaining: 33m 22s\n",
            "77:\tlearn: 0.6915850\ttotal: 6m 9s\tremaining: 33m 19s\n",
            "78:\tlearn: 0.6915477\ttotal: 6m 14s\tremaining: 33m 14s\n",
            "79:\tlearn: 0.6915160\ttotal: 6m 19s\tremaining: 33m 12s\n",
            "80:\tlearn: 0.6914916\ttotal: 6m 25s\tremaining: 33m 14s\n",
            "81:\tlearn: 0.6914731\ttotal: 6m 30s\tremaining: 33m 12s\n",
            "82:\tlearn: 0.6914494\ttotal: 6m 35s\tremaining: 33m 5s\n",
            "83:\tlearn: 0.6914292\ttotal: 6m 40s\tremaining: 33m 3s\n",
            "84:\tlearn: 0.6914087\ttotal: 6m 44s\tremaining: 32m 57s\n",
            "85:\tlearn: 0.6913976\ttotal: 6m 50s\tremaining: 32m 53s\n",
            "86:\tlearn: 0.6913710\ttotal: 6m 54s\tremaining: 32m 47s\n",
            "87:\tlearn: 0.6913605\ttotal: 6m 58s\tremaining: 32m 38s\n",
            "88:\tlearn: 0.6913469\ttotal: 7m 3s\tremaining: 32m 36s\n",
            "89:\tlearn: 0.6913054\ttotal: 7m 8s\tremaining: 32m 33s\n",
            "90:\tlearn: 0.6912809\ttotal: 7m 13s\tremaining: 32m 29s\n",
            "91:\tlearn: 0.6912572\ttotal: 7m 18s\tremaining: 32m 22s\n",
            "92:\tlearn: 0.6912375\ttotal: 7m 23s\tremaining: 32m 21s\n",
            "93:\tlearn: 0.6912157\ttotal: 7m 28s\tremaining: 32m 18s\n",
            "94:\tlearn: 0.6911967\ttotal: 7m 33s\tremaining: 32m 13s\n",
            "95:\tlearn: 0.6911850\ttotal: 7m 37s\tremaining: 32m 6s\n",
            "96:\tlearn: 0.6911733\ttotal: 7m 43s\tremaining: 32m 4s\n",
            "97:\tlearn: 0.6911483\ttotal: 7m 48s\tremaining: 32m 2s\n",
            "98:\tlearn: 0.6911326\ttotal: 7m 53s\tremaining: 31m 56s\n",
            "99:\tlearn: 0.6911132\ttotal: 7m 58s\tremaining: 31m 52s\n",
            "100:\tlearn: 0.6910813\ttotal: 8m 3s\tremaining: 31m 48s\n",
            "101:\tlearn: 0.6910498\ttotal: 8m 7s\tremaining: 31m 44s\n",
            "102:\tlearn: 0.6910290\ttotal: 8m 12s\tremaining: 31m 38s\n",
            "103:\tlearn: 0.6910080\ttotal: 8m 17s\tremaining: 31m 32s\n",
            "104:\tlearn: 0.6909911\ttotal: 8m 21s\tremaining: 31m 28s\n",
            "105:\tlearn: 0.6909630\ttotal: 8m 26s\tremaining: 31m 21s\n",
            "106:\tlearn: 0.6909469\ttotal: 8m 30s\tremaining: 31m 16s\n",
            "107:\tlearn: 0.6909305\ttotal: 8m 35s\tremaining: 31m 10s\n",
            "108:\tlearn: 0.6909119\ttotal: 8m 40s\tremaining: 31m 5s\n",
            "109:\tlearn: 0.6908797\ttotal: 8m 49s\tremaining: 31m 16s\n",
            "110:\tlearn: 0.6908680\ttotal: 8m 59s\tremaining: 31m 32s\n",
            "111:\tlearn: 0.6908492\ttotal: 9m 5s\tremaining: 31m 30s\n",
            "112:\tlearn: 0.6908382\ttotal: 9m 11s\tremaining: 31m 27s\n",
            "113:\tlearn: 0.6908112\ttotal: 9m 15s\tremaining: 31m 22s\n",
            "114:\tlearn: 0.6907826\ttotal: 9m 20s\tremaining: 31m 15s\n",
            "115:\tlearn: 0.6907602\ttotal: 9m 24s\tremaining: 31m 8s\n",
            "116:\tlearn: 0.6907114\ttotal: 9m 28s\tremaining: 31m 2s\n",
            "117:\tlearn: 0.6906951\ttotal: 9m 34s\tremaining: 31m\n",
            "118:\tlearn: 0.6906764\ttotal: 9m 39s\tremaining: 30m 54s\n",
            "119:\tlearn: 0.6906431\ttotal: 9m 44s\tremaining: 30m 50s\n",
            "120:\tlearn: 0.6906176\ttotal: 9m 49s\tremaining: 30m 46s\n",
            "121:\tlearn: 0.6906055\ttotal: 9m 54s\tremaining: 30m 42s\n",
            "122:\tlearn: 0.6905731\ttotal: 9m 59s\tremaining: 30m 37s\n",
            "123:\tlearn: 0.6905487\ttotal: 10m 4s\tremaining: 30m 33s\n",
            "124:\tlearn: 0.6905376\ttotal: 10m 8s\tremaining: 30m 26s\n",
            "125:\tlearn: 0.6905154\ttotal: 10m 13s\tremaining: 30m 22s\n",
            "126:\tlearn: 0.6904836\ttotal: 10m 18s\tremaining: 30m 15s\n",
            "127:\tlearn: 0.6904707\ttotal: 10m 23s\tremaining: 30m 10s\n",
            "128:\tlearn: 0.6904580\ttotal: 10m 28s\tremaining: 30m 6s\n",
            "129:\tlearn: 0.6904455\ttotal: 10m 33s\tremaining: 30m 1s\n",
            "130:\tlearn: 0.6904264\ttotal: 10m 39s\tremaining: 30m\n",
            "131:\tlearn: 0.6904131\ttotal: 10m 44s\tremaining: 29m 55s\n",
            "132:\tlearn: 0.6903970\ttotal: 10m 48s\tremaining: 29m 49s\n",
            "133:\tlearn: 0.6903919\ttotal: 10m 52s\tremaining: 29m 42s\n",
            "134:\tlearn: 0.6903679\ttotal: 10m 57s\tremaining: 29m 38s\n",
            "135:\tlearn: 0.6903391\ttotal: 11m 2s\tremaining: 29m 33s\n",
            "136:\tlearn: 0.6903095\ttotal: 11m 7s\tremaining: 29m 27s\n",
            "137:\tlearn: 0.6902782\ttotal: 11m 11s\tremaining: 29m 22s\n",
            "138:\tlearn: 0.6902544\ttotal: 11m 18s\tremaining: 29m 20s\n",
            "139:\tlearn: 0.6902380\ttotal: 11m 22s\tremaining: 29m 13s\n",
            "140:\tlearn: 0.6902214\ttotal: 11m 27s\tremaining: 29m 10s\n",
            "141:\tlearn: 0.6902042\ttotal: 11m 33s\tremaining: 29m 7s\n",
            "142:\tlearn: 0.6901848\ttotal: 11m 37s\tremaining: 29m\n",
            "143:\tlearn: 0.6901569\ttotal: 11m 41s\tremaining: 28m 54s\n",
            "144:\tlearn: 0.6901510\ttotal: 11m 46s\tremaining: 28m 49s\n",
            "145:\tlearn: 0.6901391\ttotal: 11m 51s\tremaining: 28m 45s\n",
            "146:\tlearn: 0.6901126\ttotal: 11m 56s\tremaining: 28m 40s\n",
            "147:\tlearn: 0.6901022\ttotal: 12m\tremaining: 28m 34s\n",
            "148:\tlearn: 0.6900795\ttotal: 12m 5s\tremaining: 28m 30s\n",
            "149:\tlearn: 0.6900517\ttotal: 12m 10s\tremaining: 28m 25s\n",
            "150:\tlearn: 0.6900291\ttotal: 12m 16s\tremaining: 28m 21s\n",
            "151:\tlearn: 0.6900080\ttotal: 12m 20s\tremaining: 28m 15s\n",
            "152:\tlearn: 0.6899765\ttotal: 12m 25s\tremaining: 28m 10s\n",
            "153:\tlearn: 0.6899555\ttotal: 12m 29s\tremaining: 28m 4s\n",
            "154:\tlearn: 0.6899339\ttotal: 12m 34s\tremaining: 28m\n",
            "155:\tlearn: 0.6899081\ttotal: 12m 40s\tremaining: 27m 57s\n",
            "156:\tlearn: 0.6898962\ttotal: 12m 45s\tremaining: 27m 52s\n",
            "157:\tlearn: 0.6898747\ttotal: 12m 50s\tremaining: 27m 48s\n",
            "158:\tlearn: 0.6898559\ttotal: 12m 55s\tremaining: 27m 44s\n",
            "159:\tlearn: 0.6898314\ttotal: 13m 1s\tremaining: 27m 40s\n",
            "160:\tlearn: 0.6898225\ttotal: 13m 5s\tremaining: 27m 33s\n",
            "161:\tlearn: 0.6898127\ttotal: 13m 10s\tremaining: 27m 29s\n",
            "162:\tlearn: 0.6897923\ttotal: 13m 16s\tremaining: 27m 25s\n",
            "163:\tlearn: 0.6897727\ttotal: 13m 19s\tremaining: 27m 18s\n",
            "164:\tlearn: 0.6897456\ttotal: 13m 25s\tremaining: 27m 15s\n",
            "165:\tlearn: 0.6897344\ttotal: 13m 30s\tremaining: 27m 11s\n",
            "166:\tlearn: 0.6896980\ttotal: 13m 35s\tremaining: 27m 6s\n",
            "167:\tlearn: 0.6896592\ttotal: 13m 41s\tremaining: 27m 2s\n",
            "168:\tlearn: 0.6896328\ttotal: 13m 45s\tremaining: 26m 57s\n",
            "169:\tlearn: 0.6896074\ttotal: 13m 50s\tremaining: 26m 52s\n",
            "170:\tlearn: 0.6895831\ttotal: 13m 55s\tremaining: 26m 48s\n",
            "171:\tlearn: 0.6895532\ttotal: 14m 1s\tremaining: 26m 43s\n",
            "172:\tlearn: 0.6895258\ttotal: 14m 6s\tremaining: 26m 39s\n",
            "173:\tlearn: 0.6895046\ttotal: 14m 11s\tremaining: 26m 34s\n",
            "174:\tlearn: 0.6894826\ttotal: 14m 16s\tremaining: 26m 29s\n",
            "175:\tlearn: 0.6894586\ttotal: 14m 20s\tremaining: 26m 24s\n",
            "176:\tlearn: 0.6894357\ttotal: 14m 26s\tremaining: 26m 20s\n",
            "177:\tlearn: 0.6894245\ttotal: 14m 31s\tremaining: 26m 16s\n",
            "178:\tlearn: 0.6893988\ttotal: 14m 36s\tremaining: 26m 11s\n",
            "179:\tlearn: 0.6893926\ttotal: 14m 42s\tremaining: 26m 8s\n",
            "180:\tlearn: 0.6893757\ttotal: 14m 47s\tremaining: 26m 4s\n",
            "181:\tlearn: 0.6893604\ttotal: 14m 52s\tremaining: 26m\n",
            "182:\tlearn: 0.6893319\ttotal: 14m 58s\tremaining: 25m 56s\n",
            "183:\tlearn: 0.6892912\ttotal: 15m 3s\tremaining: 25m 51s\n",
            "184:\tlearn: 0.6892824\ttotal: 15m 8s\tremaining: 25m 46s\n",
            "185:\tlearn: 0.6892630\ttotal: 15m 12s\tremaining: 25m 41s\n",
            "186:\tlearn: 0.6892397\ttotal: 15m 17s\tremaining: 25m 36s\n",
            "187:\tlearn: 0.6892154\ttotal: 15m 23s\tremaining: 25m 31s\n",
            "188:\tlearn: 0.6891857\ttotal: 15m 27s\tremaining: 25m 26s\n",
            "189:\tlearn: 0.6891763\ttotal: 15m 32s\tremaining: 25m 21s\n",
            "190:\tlearn: 0.6891611\ttotal: 15m 37s\tremaining: 25m 17s\n",
            "191:\tlearn: 0.6891338\ttotal: 15m 42s\tremaining: 25m 12s\n",
            "192:\tlearn: 0.6891150\ttotal: 15m 47s\tremaining: 25m 7s\n",
            "193:\tlearn: 0.6890953\ttotal: 15m 52s\tremaining: 25m 2s\n",
            "194:\tlearn: 0.6890805\ttotal: 15m 57s\tremaining: 24m 58s\n",
            "195:\tlearn: 0.6890520\ttotal: 16m 3s\tremaining: 24m 54s\n",
            "196:\tlearn: 0.6890361\ttotal: 16m 8s\tremaining: 24m 49s\n",
            "197:\tlearn: 0.6890240\ttotal: 16m 12s\tremaining: 24m 44s\n",
            "198:\tlearn: 0.6890077\ttotal: 16m 17s\tremaining: 24m 39s\n",
            "199:\tlearn: 0.6889872\ttotal: 16m 22s\tremaining: 24m 33s\n",
            "200:\tlearn: 0.6889609\ttotal: 16m 28s\tremaining: 24m 30s\n",
            "201:\tlearn: 0.6889486\ttotal: 16m 34s\tremaining: 24m 26s\n",
            "202:\tlearn: 0.6889344\ttotal: 16m 39s\tremaining: 24m 22s\n",
            "203:\tlearn: 0.6889264\ttotal: 16m 44s\tremaining: 24m 17s\n",
            "204:\tlearn: 0.6889034\ttotal: 16m 50s\tremaining: 24m 13s\n",
            "205:\tlearn: 0.6888839\ttotal: 16m 55s\tremaining: 24m 9s\n",
            "206:\tlearn: 0.6888696\ttotal: 17m 1s\tremaining: 24m 5s\n",
            "207:\tlearn: 0.6888588\ttotal: 17m 6s\tremaining: 24m\n",
            "208:\tlearn: 0.6888298\ttotal: 17m 10s\tremaining: 23m 55s\n",
            "209:\tlearn: 0.6888202\ttotal: 17m 15s\tremaining: 23m 50s\n",
            "210:\tlearn: 0.6888003\ttotal: 17m 20s\tremaining: 23m 45s\n",
            "211:\tlearn: 0.6887852\ttotal: 17m 26s\tremaining: 23m 41s\n",
            "212:\tlearn: 0.6887620\ttotal: 17m 31s\tremaining: 23m 36s\n",
            "213:\tlearn: 0.6887404\ttotal: 17m 36s\tremaining: 23m 31s\n",
            "214:\tlearn: 0.6887316\ttotal: 17m 42s\tremaining: 23m 27s\n",
            "215:\tlearn: 0.6887122\ttotal: 17m 48s\tremaining: 23m 24s\n",
            "216:\tlearn: 0.6886932\ttotal: 17m 53s\tremaining: 23m 20s\n",
            "217:\tlearn: 0.6886663\ttotal: 17m 58s\tremaining: 23m 15s\n",
            "218:\tlearn: 0.6886426\ttotal: 18m 3s\tremaining: 23m 10s\n",
            "219:\tlearn: 0.6886076\ttotal: 18m 8s\tremaining: 23m 5s\n",
            "220:\tlearn: 0.6885822\ttotal: 18m 13s\tremaining: 23m\n",
            "221:\tlearn: 0.6885710\ttotal: 18m 18s\tremaining: 22m 56s\n",
            "222:\tlearn: 0.6885437\ttotal: 18m 23s\tremaining: 22m 51s\n",
            "223:\tlearn: 0.6885220\ttotal: 18m 29s\tremaining: 22m 47s\n",
            "224:\tlearn: 0.6885052\ttotal: 18m 34s\tremaining: 22m 42s\n",
            "225:\tlearn: 0.6884876\ttotal: 18m 39s\tremaining: 22m 36s\n",
            "226:\tlearn: 0.6884445\ttotal: 18m 44s\tremaining: 22m 32s\n",
            "227:\tlearn: 0.6884247\ttotal: 18m 49s\tremaining: 22m 27s\n",
            "228:\tlearn: 0.6884149\ttotal: 18m 53s\tremaining: 22m 21s\n",
            "229:\tlearn: 0.6883944\ttotal: 18m 57s\tremaining: 22m 15s\n",
            "230:\tlearn: 0.6883705\ttotal: 19m 2s\tremaining: 22m 10s\n",
            "231:\tlearn: 0.6883455\ttotal: 19m 7s\tremaining: 22m 5s\n",
            "232:\tlearn: 0.6883247\ttotal: 19m 13s\tremaining: 22m 1s\n",
            "233:\tlearn: 0.6883136\ttotal: 19m 18s\tremaining: 21m 57s\n",
            "234:\tlearn: 0.6882940\ttotal: 19m 23s\tremaining: 21m 52s\n",
            "235:\tlearn: 0.6882807\ttotal: 19m 28s\tremaining: 21m 46s\n",
            "236:\tlearn: 0.6882443\ttotal: 19m 33s\tremaining: 21m 42s\n",
            "237:\tlearn: 0.6882310\ttotal: 19m 38s\tremaining: 21m 37s\n",
            "238:\tlearn: 0.6882157\ttotal: 19m 43s\tremaining: 21m 32s\n",
            "239:\tlearn: 0.6882044\ttotal: 19m 48s\tremaining: 21m 27s\n",
            "240:\tlearn: 0.6881786\ttotal: 19m 53s\tremaining: 21m 22s\n",
            "241:\tlearn: 0.6881456\ttotal: 19m 57s\tremaining: 21m 17s\n",
            "242:\tlearn: 0.6881022\ttotal: 20m 3s\tremaining: 21m 12s\n",
            "243:\tlearn: 0.6880814\ttotal: 20m 7s\tremaining: 21m 7s\n",
            "244:\tlearn: 0.6880616\ttotal: 20m 12s\tremaining: 21m 2s\n",
            "245:\tlearn: 0.6880457\ttotal: 20m 17s\tremaining: 20m 57s\n",
            "246:\tlearn: 0.6880175\ttotal: 20m 22s\tremaining: 20m 51s\n",
            "247:\tlearn: 0.6879966\ttotal: 20m 27s\tremaining: 20m 47s\n",
            "248:\tlearn: 0.6879642\ttotal: 20m 32s\tremaining: 20m 42s\n",
            "249:\tlearn: 0.6879409\ttotal: 20m 37s\tremaining: 20m 37s\n",
            "250:\tlearn: 0.6879178\ttotal: 20m 42s\tremaining: 20m 32s\n",
            "251:\tlearn: 0.6879006\ttotal: 20m 47s\tremaining: 20m 28s\n",
            "252:\tlearn: 0.6878854\ttotal: 20m 53s\tremaining: 20m 23s\n",
            "253:\tlearn: 0.6878597\ttotal: 20m 57s\tremaining: 20m 17s\n",
            "254:\tlearn: 0.6878261\ttotal: 21m 2s\tremaining: 20m 12s\n",
            "255:\tlearn: 0.6878077\ttotal: 21m 7s\tremaining: 20m 8s\n",
            "256:\tlearn: 0.6877905\ttotal: 21m 13s\tremaining: 20m 4s\n",
            "257:\tlearn: 0.6877695\ttotal: 21m 18s\tremaining: 19m 59s\n",
            "258:\tlearn: 0.6877613\ttotal: 21m 23s\tremaining: 19m 54s\n",
            "259:\tlearn: 0.6877331\ttotal: 21m 28s\tremaining: 19m 49s\n",
            "260:\tlearn: 0.6877022\ttotal: 21m 33s\tremaining: 19m 44s\n",
            "261:\tlearn: 0.6876718\ttotal: 21m 38s\tremaining: 19m 39s\n",
            "262:\tlearn: 0.6876516\ttotal: 21m 44s\tremaining: 19m 35s\n",
            "263:\tlearn: 0.6876248\ttotal: 21m 50s\tremaining: 19m 31s\n",
            "264:\tlearn: 0.6875970\ttotal: 21m 55s\tremaining: 19m 26s\n",
            "265:\tlearn: 0.6875845\ttotal: 22m\tremaining: 19m 21s\n",
            "266:\tlearn: 0.6875667\ttotal: 22m 6s\tremaining: 19m 17s\n",
            "267:\tlearn: 0.6875415\ttotal: 22m 11s\tremaining: 19m 12s\n",
            "268:\tlearn: 0.6875184\ttotal: 22m 16s\tremaining: 19m 8s\n",
            "269:\tlearn: 0.6874916\ttotal: 22m 21s\tremaining: 19m 2s\n",
            "270:\tlearn: 0.6874719\ttotal: 22m 25s\tremaining: 18m 57s\n",
            "271:\tlearn: 0.6874442\ttotal: 22m 30s\tremaining: 18m 52s\n",
            "272:\tlearn: 0.6874230\ttotal: 22m 35s\tremaining: 18m 46s\n",
            "273:\tlearn: 0.6874161\ttotal: 22m 39s\tremaining: 18m 41s\n",
            "274:\tlearn: 0.6873928\ttotal: 22m 44s\tremaining: 18m 36s\n",
            "275:\tlearn: 0.6873779\ttotal: 22m 50s\tremaining: 18m 32s\n",
            "276:\tlearn: 0.6873521\ttotal: 22m 55s\tremaining: 18m 27s\n",
            "277:\tlearn: 0.6873277\ttotal: 23m\tremaining: 18m 22s\n",
            "278:\tlearn: 0.6872997\ttotal: 23m 5s\tremaining: 18m 17s\n",
            "279:\tlearn: 0.6872897\ttotal: 23m 11s\tremaining: 18m 13s\n",
            "280:\tlearn: 0.6872694\ttotal: 23m 16s\tremaining: 18m 8s\n",
            "281:\tlearn: 0.6872462\ttotal: 23m 21s\tremaining: 18m 3s\n",
            "282:\tlearn: 0.6872188\ttotal: 23m 26s\tremaining: 17m 58s\n",
            "283:\tlearn: 0.6871959\ttotal: 23m 32s\tremaining: 17m 54s\n",
            "284:\tlearn: 0.6871765\ttotal: 23m 37s\tremaining: 17m 49s\n",
            "285:\tlearn: 0.6871598\ttotal: 23m 42s\tremaining: 17m 44s\n",
            "286:\tlearn: 0.6871423\ttotal: 23m 46s\tremaining: 17m 38s\n",
            "287:\tlearn: 0.6871076\ttotal: 23m 51s\tremaining: 17m 33s\n",
            "288:\tlearn: 0.6870879\ttotal: 23m 57s\tremaining: 17m 29s\n",
            "289:\tlearn: 0.6870616\ttotal: 24m 2s\tremaining: 17m 24s\n",
            "290:\tlearn: 0.6870541\ttotal: 24m 8s\tremaining: 17m 19s\n",
            "291:\tlearn: 0.6870239\ttotal: 24m 13s\tremaining: 17m 15s\n",
            "292:\tlearn: 0.6869948\ttotal: 24m 18s\tremaining: 17m 10s\n",
            "293:\tlearn: 0.6869878\ttotal: 24m 23s\tremaining: 17m 5s\n",
            "294:\tlearn: 0.6869703\ttotal: 24m 27s\tremaining: 17m\n",
            "295:\tlearn: 0.6869401\ttotal: 24m 32s\tremaining: 16m 55s\n",
            "296:\tlearn: 0.6869243\ttotal: 24m 37s\tremaining: 16m 50s\n",
            "297:\tlearn: 0.6869154\ttotal: 24m 43s\tremaining: 16m 45s\n",
            "298:\tlearn: 0.6869015\ttotal: 24m 49s\tremaining: 16m 41s\n",
            "299:\tlearn: 0.6868893\ttotal: 24m 53s\tremaining: 16m 35s\n",
            "300:\tlearn: 0.6868774\ttotal: 24m 59s\tremaining: 16m 31s\n",
            "301:\tlearn: 0.6868579\ttotal: 25m 4s\tremaining: 16m 26s\n",
            "302:\tlearn: 0.6868318\ttotal: 25m 9s\tremaining: 16m 21s\n",
            "303:\tlearn: 0.6868177\ttotal: 25m 14s\tremaining: 16m 16s\n",
            "304:\tlearn: 0.6868056\ttotal: 25m 19s\tremaining: 16m 11s\n",
            "305:\tlearn: 0.6867777\ttotal: 25m 23s\tremaining: 16m 5s\n",
            "306:\tlearn: 0.6867598\ttotal: 25m 28s\tremaining: 16m\n",
            "307:\tlearn: 0.6867485\ttotal: 25m 33s\tremaining: 15m 55s\n",
            "308:\tlearn: 0.6867375\ttotal: 25m 38s\tremaining: 15m 50s\n",
            "309:\tlearn: 0.6867131\ttotal: 25m 43s\tremaining: 15m 45s\n",
            "310:\tlearn: 0.6867016\ttotal: 25m 47s\tremaining: 15m 40s\n",
            "311:\tlearn: 0.6866826\ttotal: 25m 53s\tremaining: 15m 35s\n",
            "312:\tlearn: 0.6866674\ttotal: 25m 58s\tremaining: 15m 30s\n",
            "313:\tlearn: 0.6866366\ttotal: 26m 3s\tremaining: 15m 25s\n",
            "314:\tlearn: 0.6866312\ttotal: 26m 8s\tremaining: 15m 21s\n",
            "315:\tlearn: 0.6866145\ttotal: 26m 14s\tremaining: 15m 16s\n",
            "316:\tlearn: 0.6865941\ttotal: 26m 19s\tremaining: 15m 11s\n",
            "317:\tlearn: 0.6865771\ttotal: 26m 24s\tremaining: 15m 6s\n",
            "318:\tlearn: 0.6865612\ttotal: 26m 29s\tremaining: 15m 1s\n",
            "319:\tlearn: 0.6865484\ttotal: 26m 35s\tremaining: 14m 57s\n",
            "320:\tlearn: 0.6865248\ttotal: 26m 40s\tremaining: 14m 52s\n",
            "321:\tlearn: 0.6865014\ttotal: 26m 46s\tremaining: 14m 48s\n",
            "322:\tlearn: 0.6864757\ttotal: 26m 51s\tremaining: 14m 43s\n",
            "323:\tlearn: 0.6864476\ttotal: 26m 57s\tremaining: 14m 38s\n",
            "324:\tlearn: 0.6864270\ttotal: 27m 3s\tremaining: 14m 34s\n",
            "325:\tlearn: 0.6864075\ttotal: 27m 7s\tremaining: 14m 28s\n",
            "326:\tlearn: 0.6863940\ttotal: 27m 12s\tremaining: 14m 23s\n",
            "327:\tlearn: 0.6863750\ttotal: 27m 17s\tremaining: 14m 18s\n",
            "328:\tlearn: 0.6863476\ttotal: 27m 22s\tremaining: 14m 13s\n",
            "329:\tlearn: 0.6863303\ttotal: 27m 27s\tremaining: 14m 8s\n",
            "330:\tlearn: 0.6862994\ttotal: 27m 32s\tremaining: 14m 3s\n",
            "331:\tlearn: 0.6862671\ttotal: 27m 36s\tremaining: 13m 58s\n",
            "332:\tlearn: 0.6862473\ttotal: 27m 42s\tremaining: 13m 53s\n",
            "333:\tlearn: 0.6862301\ttotal: 27m 47s\tremaining: 13m 48s\n",
            "334:\tlearn: 0.6862137\ttotal: 27m 52s\tremaining: 13m 43s\n",
            "335:\tlearn: 0.6861862\ttotal: 27m 58s\tremaining: 13m 39s\n",
            "336:\tlearn: 0.6861703\ttotal: 28m 3s\tremaining: 13m 34s\n",
            "337:\tlearn: 0.6861644\ttotal: 28m 8s\tremaining: 13m 29s\n",
            "338:\tlearn: 0.6861514\ttotal: 28m 13s\tremaining: 13m 24s\n",
            "339:\tlearn: 0.6861415\ttotal: 28m 19s\tremaining: 13m 19s\n",
            "340:\tlearn: 0.6861098\ttotal: 28m 25s\tremaining: 13m 15s\n",
            "341:\tlearn: 0.6860799\ttotal: 28m 29s\tremaining: 13m 9s\n",
            "342:\tlearn: 0.6860658\ttotal: 28m 35s\tremaining: 13m 5s\n",
            "343:\tlearn: 0.6860518\ttotal: 28m 40s\tremaining: 13m\n",
            "344:\tlearn: 0.6860380\ttotal: 28m 45s\tremaining: 12m 55s\n",
            "345:\tlearn: 0.6860204\ttotal: 28m 50s\tremaining: 12m 50s\n",
            "346:\tlearn: 0.6860084\ttotal: 28m 55s\tremaining: 12m 45s\n",
            "347:\tlearn: 0.6859853\ttotal: 29m\tremaining: 12m 40s\n",
            "348:\tlearn: 0.6859639\ttotal: 29m 5s\tremaining: 12m 35s\n",
            "349:\tlearn: 0.6859504\ttotal: 29m 10s\tremaining: 12m 30s\n",
            "350:\tlearn: 0.6859326\ttotal: 29m 16s\tremaining: 12m 25s\n",
            "351:\tlearn: 0.6859220\ttotal: 29m 21s\tremaining: 12m 20s\n",
            "352:\tlearn: 0.6858959\ttotal: 29m 26s\tremaining: 12m 15s\n",
            "353:\tlearn: 0.6858772\ttotal: 29m 31s\tremaining: 12m 10s\n",
            "354:\tlearn: 0.6858580\ttotal: 29m 36s\tremaining: 12m 5s\n",
            "355:\tlearn: 0.6858404\ttotal: 29m 40s\tremaining: 12m\n",
            "356:\tlearn: 0.6858135\ttotal: 29m 46s\tremaining: 11m 55s\n",
            "357:\tlearn: 0.6857968\ttotal: 29m 51s\tremaining: 11m 50s\n",
            "358:\tlearn: 0.6857688\ttotal: 29m 56s\tremaining: 11m 45s\n",
            "359:\tlearn: 0.6857438\ttotal: 30m 2s\tremaining: 11m 40s\n",
            "360:\tlearn: 0.6857263\ttotal: 30m 7s\tremaining: 11m 35s\n",
            "361:\tlearn: 0.6856864\ttotal: 30m 12s\tremaining: 11m 30s\n",
            "362:\tlearn: 0.6856710\ttotal: 30m 17s\tremaining: 11m 25s\n",
            "363:\tlearn: 0.6856525\ttotal: 30m 22s\tremaining: 11m 20s\n",
            "364:\tlearn: 0.6856358\ttotal: 30m 27s\tremaining: 11m 16s\n",
            "365:\tlearn: 0.6856179\ttotal: 30m 34s\tremaining: 11m 11s\n",
            "366:\tlearn: 0.6855966\ttotal: 30m 39s\tremaining: 11m 6s\n",
            "367:\tlearn: 0.6855798\ttotal: 30m 44s\tremaining: 11m 1s\n",
            "368:\tlearn: 0.6855695\ttotal: 30m 50s\tremaining: 10m 56s\n",
            "369:\tlearn: 0.6855365\ttotal: 30m 54s\tremaining: 10m 51s\n",
            "370:\tlearn: 0.6855219\ttotal: 31m\tremaining: 10m 46s\n",
            "371:\tlearn: 0.6854980\ttotal: 31m 5s\tremaining: 10m 41s\n",
            "372:\tlearn: 0.6854899\ttotal: 31m 9s\tremaining: 10m 36s\n",
            "373:\tlearn: 0.6854711\ttotal: 31m 16s\tremaining: 10m 32s\n",
            "374:\tlearn: 0.6854526\ttotal: 31m 21s\tremaining: 10m 27s\n",
            "375:\tlearn: 0.6854441\ttotal: 31m 27s\tremaining: 10m 22s\n",
            "376:\tlearn: 0.6854366\ttotal: 31m 32s\tremaining: 10m 17s\n",
            "377:\tlearn: 0.6854173\ttotal: 31m 37s\tremaining: 10m 12s\n",
            "378:\tlearn: 0.6854001\ttotal: 31m 43s\tremaining: 10m 7s\n",
            "379:\tlearn: 0.6853785\ttotal: 31m 48s\tremaining: 10m 2s\n",
            "380:\tlearn: 0.6853664\ttotal: 31m 54s\tremaining: 9m 57s\n",
            "381:\tlearn: 0.6853453\ttotal: 32m\tremaining: 9m 53s\n",
            "382:\tlearn: 0.6853183\ttotal: 32m 4s\tremaining: 9m 48s\n",
            "383:\tlearn: 0.6852904\ttotal: 32m 9s\tremaining: 9m 42s\n",
            "384:\tlearn: 0.6852743\ttotal: 32m 14s\tremaining: 9m 37s\n",
            "385:\tlearn: 0.6852448\ttotal: 32m 20s\tremaining: 9m 33s\n",
            "386:\tlearn: 0.6852118\ttotal: 32m 25s\tremaining: 9m 28s\n",
            "387:\tlearn: 0.6852030\ttotal: 32m 30s\tremaining: 9m 23s\n",
            "388:\tlearn: 0.6851904\ttotal: 32m 36s\tremaining: 9m 18s\n",
            "389:\tlearn: 0.6851768\ttotal: 32m 41s\tremaining: 9m 13s\n",
            "390:\tlearn: 0.6851654\ttotal: 32m 47s\tremaining: 9m 8s\n",
            "391:\tlearn: 0.6851443\ttotal: 32m 52s\tremaining: 9m 3s\n",
            "392:\tlearn: 0.6851232\ttotal: 32m 58s\tremaining: 8m 58s\n",
            "393:\tlearn: 0.6851047\ttotal: 33m 2s\tremaining: 8m 53s\n",
            "394:\tlearn: 0.6850926\ttotal: 33m 7s\tremaining: 8m 48s\n",
            "395:\tlearn: 0.6850844\ttotal: 33m 12s\tremaining: 8m 43s\n",
            "396:\tlearn: 0.6850627\ttotal: 33m 18s\tremaining: 8m 38s\n",
            "397:\tlearn: 0.6850410\ttotal: 33m 22s\tremaining: 8m 33s\n",
            "398:\tlearn: 0.6850313\ttotal: 33m 28s\tremaining: 8m 28s\n",
            "399:\tlearn: 0.6850167\ttotal: 33m 32s\tremaining: 8m 23s\n",
            "400:\tlearn: 0.6849953\ttotal: 33m 38s\tremaining: 8m 18s\n",
            "401:\tlearn: 0.6849822\ttotal: 33m 44s\tremaining: 8m 13s\n",
            "402:\tlearn: 0.6849630\ttotal: 33m 49s\tremaining: 8m 8s\n",
            "403:\tlearn: 0.6849518\ttotal: 33m 55s\tremaining: 8m 3s\n",
            "404:\tlearn: 0.6849308\ttotal: 34m\tremaining: 7m 58s\n",
            "405:\tlearn: 0.6849131\ttotal: 34m 4s\tremaining: 7m 53s\n",
            "406:\tlearn: 0.6848978\ttotal: 34m 10s\tremaining: 7m 48s\n",
            "407:\tlearn: 0.6848817\ttotal: 34m 15s\tremaining: 7m 43s\n",
            "408:\tlearn: 0.6848662\ttotal: 34m 20s\tremaining: 7m 38s\n",
            "409:\tlearn: 0.6848562\ttotal: 34m 26s\tremaining: 7m 33s\n",
            "410:\tlearn: 0.6848292\ttotal: 34m 31s\tremaining: 7m 28s\n",
            "411:\tlearn: 0.6847983\ttotal: 34m 36s\tremaining: 7m 23s\n",
            "412:\tlearn: 0.6847818\ttotal: 34m 41s\tremaining: 7m 18s\n",
            "413:\tlearn: 0.6847710\ttotal: 34m 47s\tremaining: 7m 13s\n",
            "414:\tlearn: 0.6847545\ttotal: 34m 52s\tremaining: 7m 8s\n",
            "415:\tlearn: 0.6847359\ttotal: 34m 57s\tremaining: 7m 3s\n",
            "416:\tlearn: 0.6847267\ttotal: 35m 3s\tremaining: 6m 58s\n",
            "417:\tlearn: 0.6847137\ttotal: 35m 8s\tremaining: 6m 53s\n",
            "418:\tlearn: 0.6846923\ttotal: 35m 13s\tremaining: 6m 48s\n",
            "419:\tlearn: 0.6846803\ttotal: 35m 19s\tremaining: 6m 43s\n",
            "420:\tlearn: 0.6846617\ttotal: 35m 24s\tremaining: 6m 38s\n",
            "421:\tlearn: 0.6846498\ttotal: 35m 29s\tremaining: 6m 33s\n",
            "422:\tlearn: 0.6846090\ttotal: 35m 34s\tremaining: 6m 28s\n",
            "423:\tlearn: 0.6845971\ttotal: 35m 39s\tremaining: 6m 23s\n",
            "424:\tlearn: 0.6845560\ttotal: 35m 44s\tremaining: 6m 18s\n",
            "425:\tlearn: 0.6845351\ttotal: 35m 48s\tremaining: 6m 13s\n",
            "426:\tlearn: 0.6845158\ttotal: 35m 53s\tremaining: 6m 8s\n",
            "427:\tlearn: 0.6844733\ttotal: 35m 58s\tremaining: 6m 3s\n",
            "428:\tlearn: 0.6844486\ttotal: 36m 3s\tremaining: 5m 58s\n",
            "429:\tlearn: 0.6844364\ttotal: 36m 8s\tremaining: 5m 53s\n",
            "430:\tlearn: 0.6844245\ttotal: 36m 14s\tremaining: 5m 48s\n",
            "431:\tlearn: 0.6844005\ttotal: 36m 19s\tremaining: 5m 43s\n",
            "432:\tlearn: 0.6843853\ttotal: 36m 25s\tremaining: 5m 38s\n",
            "433:\tlearn: 0.6843700\ttotal: 36m 31s\tremaining: 5m 33s\n",
            "434:\tlearn: 0.6843467\ttotal: 36m 37s\tremaining: 5m 28s\n",
            "435:\tlearn: 0.6843331\ttotal: 36m 43s\tremaining: 5m 23s\n",
            "436:\tlearn: 0.6843186\ttotal: 36m 47s\tremaining: 5m 18s\n",
            "437:\tlearn: 0.6842964\ttotal: 36m 51s\tremaining: 5m 13s\n",
            "438:\tlearn: 0.6842910\ttotal: 36m 57s\tremaining: 5m 8s\n",
            "439:\tlearn: 0.6842650\ttotal: 37m 2s\tremaining: 5m 3s\n",
            "440:\tlearn: 0.6842536\ttotal: 37m 7s\tremaining: 4m 58s\n",
            "441:\tlearn: 0.6842337\ttotal: 37m 12s\tremaining: 4m 53s\n",
            "442:\tlearn: 0.6842027\ttotal: 37m 18s\tremaining: 4m 48s\n",
            "443:\tlearn: 0.6841920\ttotal: 37m 24s\tremaining: 4m 43s\n",
            "444:\tlearn: 0.6841731\ttotal: 37m 29s\tremaining: 4m 37s\n",
            "445:\tlearn: 0.6841500\ttotal: 37m 34s\tremaining: 4m 32s\n",
            "446:\tlearn: 0.6841208\ttotal: 37m 39s\tremaining: 4m 27s\n",
            "447:\tlearn: 0.6841010\ttotal: 37m 44s\tremaining: 4m 22s\n",
            "448:\tlearn: 0.6840921\ttotal: 37m 49s\tremaining: 4m 17s\n",
            "449:\tlearn: 0.6840617\ttotal: 37m 54s\tremaining: 4m 12s\n",
            "450:\tlearn: 0.6840287\ttotal: 37m 59s\tremaining: 4m 7s\n",
            "451:\tlearn: 0.6840075\ttotal: 38m 4s\tremaining: 4m 2s\n",
            "452:\tlearn: 0.6839894\ttotal: 38m 9s\tremaining: 3m 57s\n",
            "453:\tlearn: 0.6839819\ttotal: 38m 14s\tremaining: 3m 52s\n",
            "454:\tlearn: 0.6839680\ttotal: 38m 20s\tremaining: 3m 47s\n",
            "455:\tlearn: 0.6839439\ttotal: 38m 26s\tremaining: 3m 42s\n",
            "456:\tlearn: 0.6839212\ttotal: 38m 32s\tremaining: 3m 37s\n",
            "457:\tlearn: 0.6838911\ttotal: 38m 38s\tremaining: 3m 32s\n",
            "458:\tlearn: 0.6838752\ttotal: 38m 43s\tremaining: 3m 27s\n",
            "459:\tlearn: 0.6838479\ttotal: 38m 48s\tremaining: 3m 22s\n",
            "460:\tlearn: 0.6838270\ttotal: 38m 53s\tremaining: 3m 17s\n",
            "461:\tlearn: 0.6837959\ttotal: 38m 58s\tremaining: 3m 12s\n",
            "462:\tlearn: 0.6837829\ttotal: 39m 3s\tremaining: 3m 7s\n",
            "463:\tlearn: 0.6837567\ttotal: 39m 9s\tremaining: 3m 2s\n",
            "464:\tlearn: 0.6837414\ttotal: 39m 13s\tremaining: 2m 57s\n",
            "465:\tlearn: 0.6837170\ttotal: 39m 19s\tremaining: 2m 52s\n",
            "466:\tlearn: 0.6837031\ttotal: 39m 25s\tremaining: 2m 47s\n",
            "467:\tlearn: 0.6836806\ttotal: 39m 30s\tremaining: 2m 42s\n",
            "468:\tlearn: 0.6836540\ttotal: 39m 36s\tremaining: 2m 37s\n",
            "469:\tlearn: 0.6836315\ttotal: 39m 40s\tremaining: 2m 31s\n",
            "470:\tlearn: 0.6836094\ttotal: 39m 46s\tremaining: 2m 26s\n",
            "471:\tlearn: 0.6835868\ttotal: 39m 51s\tremaining: 2m 21s\n",
            "472:\tlearn: 0.6835748\ttotal: 39m 56s\tremaining: 2m 16s\n",
            "473:\tlearn: 0.6835511\ttotal: 40m 1s\tremaining: 2m 11s\n",
            "474:\tlearn: 0.6835423\ttotal: 40m 6s\tremaining: 2m 6s\n",
            "475:\tlearn: 0.6835033\ttotal: 40m 11s\tremaining: 2m 1s\n",
            "476:\tlearn: 0.6834760\ttotal: 40m 16s\tremaining: 1m 56s\n",
            "477:\tlearn: 0.6834514\ttotal: 40m 21s\tremaining: 1m 51s\n",
            "478:\tlearn: 0.6834352\ttotal: 40m 27s\tremaining: 1m 46s\n",
            "479:\tlearn: 0.6834111\ttotal: 40m 33s\tremaining: 1m 41s\n",
            "480:\tlearn: 0.6833966\ttotal: 40m 37s\tremaining: 1m 36s\n",
            "481:\tlearn: 0.6833886\ttotal: 40m 43s\tremaining: 1m 31s\n",
            "482:\tlearn: 0.6833727\ttotal: 40m 48s\tremaining: 1m 26s\n",
            "483:\tlearn: 0.6833563\ttotal: 40m 54s\tremaining: 1m 21s\n",
            "484:\tlearn: 0.6833363\ttotal: 40m 58s\tremaining: 1m 16s\n",
            "485:\tlearn: 0.6833163\ttotal: 41m 3s\tremaining: 1m 10s\n",
            "486:\tlearn: 0.6832876\ttotal: 41m 8s\tremaining: 1m 5s\n",
            "487:\tlearn: 0.6832670\ttotal: 41m 14s\tremaining: 1m\n",
            "488:\tlearn: 0.6832439\ttotal: 41m 19s\tremaining: 55.8s\n",
            "489:\tlearn: 0.6832185\ttotal: 41m 24s\tremaining: 50.7s\n",
            "490:\tlearn: 0.6832043\ttotal: 41m 30s\tremaining: 45.6s\n",
            "491:\tlearn: 0.6831953\ttotal: 41m 35s\tremaining: 40.6s\n",
            "492:\tlearn: 0.6831671\ttotal: 41m 40s\tremaining: 35.5s\n",
            "493:\tlearn: 0.6831578\ttotal: 41m 45s\tremaining: 30.4s\n",
            "494:\tlearn: 0.6831472\ttotal: 41m 50s\tremaining: 25.4s\n",
            "495:\tlearn: 0.6831248\ttotal: 41m 57s\tremaining: 20.3s\n",
            "496:\tlearn: 0.6831093\ttotal: 42m 2s\tremaining: 15.2s\n",
            "497:\tlearn: 0.6830778\ttotal: 42m 7s\tremaining: 10.1s\n",
            "498:\tlearn: 0.6830599\ttotal: 42m 12s\tremaining: 5.07s\n",
            "499:\tlearn: 0.6830433\ttotal: 42m 18s\tremaining: 0us\n"
          ]
        },
        {
          "output_type": "execute_result",
          "data": {
            "text/plain": [
              "<catboost.core.CatBoostClassifier at 0x7f4163816910>"
            ]
          },
          "metadata": {},
          "execution_count": 83
        }
      ]
    },
    {
      "cell_type": "code",
      "source": [
        "pd.Series(model.feature_importances_,X_train.columns).sort_values(ascending=True).iloc[:20]"
      ],
      "metadata": {
        "colab": {
          "base_uri": "https://localhost:8080/"
        },
        "id": "Rlw167LNW3Qv",
        "outputId": "bd450b3c-2bd8-46f0-faa7-e3142bc96d01"
      },
      "execution_count": 85,
      "outputs": [
        {
          "output_type": "execute_result",
          "data": {
            "text/plain": [
              "contents_attribute_k      0.010198\n",
              "h_s_match_yn              0.022790\n",
              "d_m_match_yn              0.025261\n",
              "d_s_match_yn              0.107210\n",
              "contents_attribute_c      0.110214\n",
              "contents_attribute_j      0.166002\n",
              "h_m_match_yn              0.218734\n",
              "h_l_match_yn              0.223196\n",
              "person_attribute_a        0.265188\n",
              "d_l_match_yn              0.420965\n",
              "contents_attribute_a      0.559144\n",
              "contents_attribute_i      0.598577\n",
              "month                     1.007271\n",
              "person_prefer_d_3_m       1.228405\n",
              "contents_attribute_d_l    1.255913\n",
              "person_prefer_h_2_m       1.310975\n",
              "contents_attribute_h_m    1.360736\n",
              "person_prefer_d_2_m       1.365943\n",
              "person_attribute_a_1      1.387063\n",
              "contents_attribute_h_l    1.425039\n",
              "dtype: float64"
            ]
          },
          "metadata": {},
          "execution_count": 85
        }
      ]
    },
    {
      "cell_type": "code",
      "source": [
        "pd.Series(model.feature_importances_,X_train.columns).sort_values(ascending=False).iloc[:20]"
      ],
      "metadata": {
        "colab": {
          "base_uri": "https://localhost:8080/"
        },
        "id": "Yguc8mVIWVPh",
        "outputId": "29c382c3-17ad-4d46-ec7f-5e9b4f0d7ca5"
      },
      "execution_count": 86,
      "outputs": [
        {
          "output_type": "execute_result",
          "data": {
            "text/plain": [
              "contents_attribute_l_s    3.037576\n",
              "week                      2.792591\n",
              "hour                      2.726993\n",
              "contents_attribute_j_1    2.716711\n",
              "person_prefer_d_3         2.560148\n",
              "person_prefer_d_2         2.540283\n",
              "contents_attribute_l      2.499006\n",
              "person_prefer_h_3_m       2.464735\n",
              "contents_attribute_l_m    2.427376\n",
              "contents_attribute_d_n    2.419998\n",
              "person_prefer_h_2         2.361386\n",
              "contents_attribute_h      2.289746\n",
              "person_prefer_e           2.251856\n",
              "person_prefer_d_1         2.237035\n",
              "person_prefer_d_2_n       2.192296\n",
              "person_prefer_d_1_n       2.185965\n",
              "dayofweek                 2.176124\n",
              "contents_attribute_e      2.139223\n",
              "person_prefer_h_2_l       2.136211\n",
              "contents_attribute_d_s    2.091836\n",
              "dtype: float64"
            ]
          },
          "metadata": {},
          "execution_count": 86
        }
      ]
    },
    {
      "cell_type": "code",
      "source": [
        "X_train_mean.to_csv(path + 'X_train_mean.csv')\n",
        "X_test_mean.to_csv(path + 'X_test_mean.csv')\n",
        "y_train.to_csv(path + 'y_train.csv')"
      ],
      "metadata": {
        "id": "SnwEpwE6nH3-"
      },
      "execution_count": 87,
      "outputs": []
    },
    {
      "cell_type": "code",
      "source": [
        "X_train_mean = pd.read_csv(path + \"X_train_mean.csv\")\n",
        "X_test_mean = pd.read_csv(path + \"X_test_mean.csv\")\n",
        "y_train = pd.read_csv(path + \"y_train.csv\")"
      ],
      "metadata": {
        "id": "4XdueJlTnZNe"
      },
      "execution_count": 88,
      "outputs": []
    },
    {
      "cell_type": "code",
      "source": [
        "!pip install bayesian-optimization"
      ],
      "metadata": {
        "colab": {
          "base_uri": "https://localhost:8080/"
        },
        "id": "OBNpP62znHT5",
        "outputId": "f39c0659-f311-40b6-a956-de0090cc45e9"
      },
      "execution_count": 90,
      "outputs": [
        {
          "output_type": "stream",
          "name": "stdout",
          "text": [
            "Collecting bayesian-optimization\n",
            "  Downloading bayesian-optimization-1.2.0.tar.gz (14 kB)\n",
            "Requirement already satisfied: numpy>=1.9.0 in /usr/local/lib/python3.7/dist-packages (from bayesian-optimization) (1.19.5)\n",
            "Requirement already satisfied: scipy>=0.14.0 in /usr/local/lib/python3.7/dist-packages (from bayesian-optimization) (1.4.1)\n",
            "Requirement already satisfied: scikit-learn>=0.18.0 in /usr/local/lib/python3.7/dist-packages (from bayesian-optimization) (1.0.1)\n",
            "Requirement already satisfied: threadpoolctl>=2.0.0 in /usr/local/lib/python3.7/dist-packages (from scikit-learn>=0.18.0->bayesian-optimization) (3.0.0)\n",
            "Requirement already satisfied: joblib>=0.11 in /usr/local/lib/python3.7/dist-packages (from scikit-learn>=0.18.0->bayesian-optimization) (1.1.0)\n",
            "Building wheels for collected packages: bayesian-optimization\n",
            "  Building wheel for bayesian-optimization (setup.py) ... \u001b[?25l\u001b[?25hdone\n",
            "  Created wheel for bayesian-optimization: filename=bayesian_optimization-1.2.0-py3-none-any.whl size=11685 sha256=d492d2bec08fe1a93ab9db7d48a036b33d72dff0d972eeb581f33c064f950aa0\n",
            "  Stored in directory: /root/.cache/pip/wheels/fd/9b/71/f127d694e02eb40bcf18c7ae9613b88a6be4470f57a8528c5b\n",
            "Successfully built bayesian-optimization\n",
            "Installing collected packages: bayesian-optimization\n",
            "Successfully installed bayesian-optimization-1.2.0\n"
          ]
        }
      ]
    },
    {
      "cell_type": "code",
      "source": [
        "from bayes_opt import BayesianOptimization"
      ],
      "metadata": {
        "id": "uNRRfISeoQ9-"
      },
      "execution_count": 91,
      "outputs": []
    },
    {
      "cell_type": "code",
      "source": [
        "# create purpose function\n",
        "def lgbm_cv(learning_rate, n_estimators, max_depth, num_leaves, subsample, min_child_weight, colsample_bytree, max_bin, reg_alpha, reg_lambda):\n",
        "    model = LGBMClassifier(learning_rate = learning_rate,\n",
        "                                n_estimators = int(n_estimators),\n",
        "                                num_leaves = int(round(num_leaves)),\n",
        "                                max_depth = int(round(max_depth)),\n",
        "                                n_jobs = -1,\n",
        "                                random_state = 0,\n",
        "                                subsample = max(subsample, 0),\n",
        "                                min_child_weight = int(round(min_child_weight)),\n",
        "                                colsample_bytree = colsample_bytree,\n",
        "                                max_bin = int(round(max_bin)),\n",
        "                                reg_alpha = max(reg_alpha, 0),\n",
        "                                reg_lambda = max(reg_lambda, 0)\n",
        "                               )\n",
        "    scores = cross_validate(model, X_train_mean, y_train, cv=5, n_jobs = -1, scoring='f1')\n",
        "    return np.mean(scores['test_score'])"
      ],
      "metadata": {
        "id": "LQ_wyzedoStS"
      },
      "execution_count": 92,
      "outputs": []
    },
    {
      "cell_type": "code",
      "source": [
        "# Interval to be explored for input values\n",
        "pbounds = {'learning_rate': (0.005, 0.1),\n",
        "           'n_estimators': (100, 2000),\n",
        "           'max_depth': (5, 50),\n",
        "           'num_leaves': (0, 100),\n",
        "           'subsample': (0, 0.99),\n",
        "           'min_child_weight' : (0, 100),\n",
        "           'colsample_bytree': (0, 0.99),\n",
        "           'max_bin': (0, 1000),\n",
        "           'reg_alpha': (0, 1),\n",
        "           'reg_lambda' : (0, 1)\n",
        "          }"
      ],
      "metadata": {
        "id": "vRLpRMo4ih3b"
      },
      "execution_count": 98,
      "outputs": []
    },
    {
      "cell_type": "code",
      "source": [
        "lgbmBO = BayesianOptimization(f = lgbm_cv, pbounds = pbounds, verbose = 2, random_state = 0)"
      ],
      "metadata": {
        "id": "JiarzJHhih57"
      },
      "execution_count": 99,
      "outputs": []
    },
    {
      "cell_type": "code",
      "source": [
        "lgbmBO.maximize(init_points=5, n_iter = 20, acq='ei', xi=0.01)"
      ],
      "metadata": {
        "colab": {
          "base_uri": "https://localhost:8080/",
          "height": 722
        },
        "id": "Gl8J-qwLih8d",
        "outputId": "8b5df00b-fdc6-4709-b744-409f59763988"
      },
      "execution_count": 100,
      "outputs": [
        {
          "output_type": "stream",
          "name": "stdout",
          "text": [
            "|   iter    |  target   | colsam... | learni... |  max_bin  | max_depth | min_ch... | n_esti... | num_le... | reg_alpha | reg_la... | subsample |\n",
            "-------------------------------------------------------------------------------------------------------------------------------------------------\n",
            "| \u001b[0m 1       \u001b[0m | \u001b[0m 0.3006  \u001b[0m | \u001b[0m 0.5433  \u001b[0m | \u001b[0m 0.07294 \u001b[0m | \u001b[0m 602.8   \u001b[0m | \u001b[0m 29.52   \u001b[0m | \u001b[0m 42.37   \u001b[0m | \u001b[0m 1.327e+0\u001b[0m | \u001b[0m 43.76   \u001b[0m | \u001b[0m 0.8918  \u001b[0m | \u001b[0m 0.9637  \u001b[0m | \u001b[0m 0.3796  \u001b[0m |\n",
            "| \u001b[0m 2       \u001b[0m | \u001b[0m 0.2781  \u001b[0m | \u001b[0m 0.7838  \u001b[0m | \u001b[0m 0.05525 \u001b[0m | \u001b[0m 568.0   \u001b[0m | \u001b[0m 46.65   \u001b[0m | \u001b[0m 7.104   \u001b[0m | \u001b[0m 265.5   \u001b[0m | \u001b[0m 2.022   \u001b[0m | \u001b[0m 0.8326  \u001b[0m | \u001b[0m 0.7782  \u001b[0m | \u001b[0m 0.8613  \u001b[0m |\n",
            "| \u001b[0m 3       \u001b[0m | \u001b[0m 0.2919  \u001b[0m | \u001b[0m 0.9688  \u001b[0m | \u001b[0m 0.08092 \u001b[0m | \u001b[0m 461.5   \u001b[0m | \u001b[0m 40.12   \u001b[0m | \u001b[0m 11.83   \u001b[0m | \u001b[0m 1.316e+0\u001b[0m | \u001b[0m 14.34   \u001b[0m | \u001b[0m 0.9447  \u001b[0m | \u001b[0m 0.5218  \u001b[0m | \u001b[0m 0.4105  \u001b[0m |\n",
            "| \u001b[0m 4       \u001b[0m | \u001b[0m 0.2989  \u001b[0m | \u001b[0m 0.2619  \u001b[0m | \u001b[0m 0.07855 \u001b[0m | \u001b[0m 456.2   \u001b[0m | \u001b[0m 30.58   \u001b[0m | \u001b[0m 1.879   \u001b[0m | \u001b[0m 1.274e+0\u001b[0m | \u001b[0m 61.21   \u001b[0m | \u001b[0m 0.6169  \u001b[0m | \u001b[0m 0.9437  \u001b[0m | \u001b[0m 0.675   \u001b[0m |\n",
            "| \u001b[0m 5       \u001b[0m | \u001b[0m 0.2901  \u001b[0m | \u001b[0m 0.3559  \u001b[0m | \u001b[0m 0.04652 \u001b[0m | \u001b[0m 697.6   \u001b[0m | \u001b[0m 7.71    \u001b[0m | \u001b[0m 66.68   \u001b[0m | \u001b[0m 1.374e+0\u001b[0m | \u001b[0m 21.04   \u001b[0m | \u001b[0m 0.1289  \u001b[0m | \u001b[0m 0.3154  \u001b[0m | \u001b[0m 0.3601  \u001b[0m |\n",
            "| \u001b[0m 6       \u001b[0m | \u001b[0m 0.3006  \u001b[0m | \u001b[0m 0.8307  \u001b[0m | \u001b[0m 0.05838 \u001b[0m | \u001b[0m 518.7   \u001b[0m | \u001b[0m 39.65   \u001b[0m | \u001b[0m 66.15   \u001b[0m | \u001b[0m 1.2e+03 \u001b[0m | \u001b[0m 54.33   \u001b[0m | \u001b[0m 0.7689  \u001b[0m | \u001b[0m 0.9709  \u001b[0m | \u001b[0m 0.3019  \u001b[0m |\n",
            "| \u001b[0m 7       \u001b[0m | \u001b[0m 0.293   \u001b[0m | \u001b[0m 0.4067  \u001b[0m | \u001b[0m 0.02265 \u001b[0m | \u001b[0m 578.8   \u001b[0m | \u001b[0m 24.98   \u001b[0m | \u001b[0m 19.71   \u001b[0m | \u001b[0m 1.23e+03\u001b[0m | \u001b[0m 98.39   \u001b[0m | \u001b[0m 0.1399  \u001b[0m | \u001b[0m 0.224   \u001b[0m | \u001b[0m 0.863   \u001b[0m |\n",
            "| \u001b[0m 8       \u001b[0m | \u001b[0m 0.2908  \u001b[0m | \u001b[0m 0.09852 \u001b[0m | \u001b[0m 0.09524 \u001b[0m | \u001b[0m 92.23   \u001b[0m | \u001b[0m 13.39   \u001b[0m | \u001b[0m 83.28   \u001b[0m | \u001b[0m 202.4   \u001b[0m | \u001b[0m 80.72   \u001b[0m | \u001b[0m 0.01603 \u001b[0m | \u001b[0m 0.9311  \u001b[0m | \u001b[0m 0.4808  \u001b[0m |\n",
            "| \u001b[0m 9       \u001b[0m | \u001b[0m 0.2788  \u001b[0m | \u001b[0m 0.2365  \u001b[0m | \u001b[0m 0.03693 \u001b[0m | \u001b[0m 918.1   \u001b[0m | \u001b[0m 34.91   \u001b[0m | \u001b[0m 91.77   \u001b[0m | \u001b[0m 111.5   \u001b[0m | \u001b[0m 14.24   \u001b[0m | \u001b[0m 0.5877  \u001b[0m | \u001b[0m 0.1317  \u001b[0m | \u001b[0m 0.1387  \u001b[0m |\n",
            "| \u001b[0m 10      \u001b[0m | \u001b[0m 0.3     \u001b[0m | \u001b[0m 0.02004 \u001b[0m | \u001b[0m 0.08715 \u001b[0m | \u001b[0m 427.3   \u001b[0m | \u001b[0m 37.3    \u001b[0m | \u001b[0m 41.05   \u001b[0m | \u001b[0m 1.177e+0\u001b[0m | \u001b[0m 58.43   \u001b[0m | \u001b[0m 0.7538  \u001b[0m | \u001b[0m 0.7417  \u001b[0m | \u001b[0m 0.5418  \u001b[0m |\n",
            "| \u001b[0m 11      \u001b[0m | \u001b[0m 0.3001  \u001b[0m | \u001b[0m 0.6435  \u001b[0m | \u001b[0m 0.05277 \u001b[0m | \u001b[0m 518.6   \u001b[0m | \u001b[0m 28.47   \u001b[0m | \u001b[0m 58.42   \u001b[0m | \u001b[0m 1.204e+0\u001b[0m | \u001b[0m 62.94   \u001b[0m | \u001b[0m 0.3294  \u001b[0m | \u001b[0m 0.2475  \u001b[0m | \u001b[0m 0.8817  \u001b[0m |\n",
            "| \u001b[0m 12      \u001b[0m | \u001b[0m 0.2874  \u001b[0m | \u001b[0m 0.4597  \u001b[0m | \u001b[0m 0.03135 \u001b[0m | \u001b[0m 502.2   \u001b[0m | \u001b[0m 41.08   \u001b[0m | \u001b[0m 85.34   \u001b[0m | \u001b[0m 1.038e+0\u001b[0m | \u001b[0m 25.53   \u001b[0m | \u001b[0m 0.4543  \u001b[0m | \u001b[0m 0.5995  \u001b[0m | \u001b[0m 0.9871  \u001b[0m |\n"
          ]
        },
        {
          "output_type": "error",
          "ename": "KeyboardInterrupt",
          "evalue": "ignored",
          "traceback": [
            "\u001b[0;31m---------------------------------------------------------------------------\u001b[0m",
            "\u001b[0;31mKeyError\u001b[0m                                  Traceback (most recent call last)",
            "\u001b[0;32m/usr/local/lib/python3.7/dist-packages/bayes_opt/target_space.py\u001b[0m in \u001b[0;36mprobe\u001b[0;34m(self, params)\u001b[0m\n\u001b[1;32m    190\u001b[0m         \u001b[0;32mtry\u001b[0m\u001b[0;34m:\u001b[0m\u001b[0;34m\u001b[0m\u001b[0;34m\u001b[0m\u001b[0m\n\u001b[0;32m--> 191\u001b[0;31m             \u001b[0mtarget\u001b[0m \u001b[0;34m=\u001b[0m \u001b[0mself\u001b[0m\u001b[0;34m.\u001b[0m\u001b[0m_cache\u001b[0m\u001b[0;34m[\u001b[0m\u001b[0m_hashable\u001b[0m\u001b[0;34m(\u001b[0m\u001b[0mx\u001b[0m\u001b[0;34m)\u001b[0m\u001b[0;34m]\u001b[0m\u001b[0;34m\u001b[0m\u001b[0;34m\u001b[0m\u001b[0m\n\u001b[0m\u001b[1;32m    192\u001b[0m         \u001b[0;32mexcept\u001b[0m \u001b[0mKeyError\u001b[0m\u001b[0;34m:\u001b[0m\u001b[0;34m\u001b[0m\u001b[0;34m\u001b[0m\u001b[0m\n",
            "\u001b[0;31mKeyError\u001b[0m: (0.9330433244955444, 0.0227502434296166, 518.1550262146257, 33.27264981571949, 99.92835459428133, 1318.3480051094766, 98.90550193500054, 0.47096225808202963, 0.17873596341019604, 0.6823762481437791)",
            "\nDuring handling of the above exception, another exception occurred:\n",
            "\u001b[0;31mKeyboardInterrupt\u001b[0m                         Traceback (most recent call last)",
            "\u001b[0;32m<ipython-input-100-cdc627e395a9>\u001b[0m in \u001b[0;36m<module>\u001b[0;34m()\u001b[0m\n\u001b[0;32m----> 1\u001b[0;31m \u001b[0mlgbmBO\u001b[0m\u001b[0;34m.\u001b[0m\u001b[0mmaximize\u001b[0m\u001b[0;34m(\u001b[0m\u001b[0minit_points\u001b[0m\u001b[0;34m=\u001b[0m\u001b[0;36m5\u001b[0m\u001b[0;34m,\u001b[0m \u001b[0mn_iter\u001b[0m \u001b[0;34m=\u001b[0m \u001b[0;36m20\u001b[0m\u001b[0;34m,\u001b[0m \u001b[0macq\u001b[0m\u001b[0;34m=\u001b[0m\u001b[0;34m'ei'\u001b[0m\u001b[0;34m,\u001b[0m \u001b[0mxi\u001b[0m\u001b[0;34m=\u001b[0m\u001b[0;36m0.01\u001b[0m\u001b[0;34m)\u001b[0m\u001b[0;34m\u001b[0m\u001b[0;34m\u001b[0m\u001b[0m\n\u001b[0m",
            "\u001b[0;32m/usr/local/lib/python3.7/dist-packages/bayes_opt/bayesian_optimization.py\u001b[0m in \u001b[0;36mmaximize\u001b[0;34m(self, init_points, n_iter, acq, kappa, kappa_decay, kappa_decay_delay, xi, **gp_params)\u001b[0m\n\u001b[1;32m    183\u001b[0m                 \u001b[0miteration\u001b[0m \u001b[0;34m+=\u001b[0m \u001b[0;36m1\u001b[0m\u001b[0;34m\u001b[0m\u001b[0;34m\u001b[0m\u001b[0m\n\u001b[1;32m    184\u001b[0m \u001b[0;34m\u001b[0m\u001b[0m\n\u001b[0;32m--> 185\u001b[0;31m             \u001b[0mself\u001b[0m\u001b[0;34m.\u001b[0m\u001b[0mprobe\u001b[0m\u001b[0;34m(\u001b[0m\u001b[0mx_probe\u001b[0m\u001b[0;34m,\u001b[0m \u001b[0mlazy\u001b[0m\u001b[0;34m=\u001b[0m\u001b[0;32mFalse\u001b[0m\u001b[0;34m)\u001b[0m\u001b[0;34m\u001b[0m\u001b[0;34m\u001b[0m\u001b[0m\n\u001b[0m\u001b[1;32m    186\u001b[0m \u001b[0;34m\u001b[0m\u001b[0m\n\u001b[1;32m    187\u001b[0m             \u001b[0;32mif\u001b[0m \u001b[0mself\u001b[0m\u001b[0;34m.\u001b[0m\u001b[0m_bounds_transformer\u001b[0m\u001b[0;34m:\u001b[0m\u001b[0;34m\u001b[0m\u001b[0;34m\u001b[0m\u001b[0m\n",
            "\u001b[0;32m/usr/local/lib/python3.7/dist-packages/bayes_opt/bayesian_optimization.py\u001b[0m in \u001b[0;36mprobe\u001b[0;34m(self, params, lazy)\u001b[0m\n\u001b[1;32m    114\u001b[0m             \u001b[0mself\u001b[0m\u001b[0;34m.\u001b[0m\u001b[0m_queue\u001b[0m\u001b[0;34m.\u001b[0m\u001b[0madd\u001b[0m\u001b[0;34m(\u001b[0m\u001b[0mparams\u001b[0m\u001b[0;34m)\u001b[0m\u001b[0;34m\u001b[0m\u001b[0;34m\u001b[0m\u001b[0m\n\u001b[1;32m    115\u001b[0m         \u001b[0;32melse\u001b[0m\u001b[0;34m:\u001b[0m\u001b[0;34m\u001b[0m\u001b[0;34m\u001b[0m\u001b[0m\n\u001b[0;32m--> 116\u001b[0;31m             \u001b[0mself\u001b[0m\u001b[0;34m.\u001b[0m\u001b[0m_space\u001b[0m\u001b[0;34m.\u001b[0m\u001b[0mprobe\u001b[0m\u001b[0;34m(\u001b[0m\u001b[0mparams\u001b[0m\u001b[0;34m)\u001b[0m\u001b[0;34m\u001b[0m\u001b[0;34m\u001b[0m\u001b[0m\n\u001b[0m\u001b[1;32m    117\u001b[0m             \u001b[0mself\u001b[0m\u001b[0;34m.\u001b[0m\u001b[0mdispatch\u001b[0m\u001b[0;34m(\u001b[0m\u001b[0mEvents\u001b[0m\u001b[0;34m.\u001b[0m\u001b[0mOPTIMIZATION_STEP\u001b[0m\u001b[0;34m)\u001b[0m\u001b[0;34m\u001b[0m\u001b[0;34m\u001b[0m\u001b[0m\n\u001b[1;32m    118\u001b[0m \u001b[0;34m\u001b[0m\u001b[0m\n",
            "\u001b[0;32m/usr/local/lib/python3.7/dist-packages/bayes_opt/target_space.py\u001b[0m in \u001b[0;36mprobe\u001b[0;34m(self, params)\u001b[0m\n\u001b[1;32m    192\u001b[0m         \u001b[0;32mexcept\u001b[0m \u001b[0mKeyError\u001b[0m\u001b[0;34m:\u001b[0m\u001b[0;34m\u001b[0m\u001b[0;34m\u001b[0m\u001b[0m\n\u001b[1;32m    193\u001b[0m             \u001b[0mparams\u001b[0m \u001b[0;34m=\u001b[0m \u001b[0mdict\u001b[0m\u001b[0;34m(\u001b[0m\u001b[0mzip\u001b[0m\u001b[0;34m(\u001b[0m\u001b[0mself\u001b[0m\u001b[0;34m.\u001b[0m\u001b[0m_keys\u001b[0m\u001b[0;34m,\u001b[0m \u001b[0mx\u001b[0m\u001b[0;34m)\u001b[0m\u001b[0;34m)\u001b[0m\u001b[0;34m\u001b[0m\u001b[0;34m\u001b[0m\u001b[0m\n\u001b[0;32m--> 194\u001b[0;31m             \u001b[0mtarget\u001b[0m \u001b[0;34m=\u001b[0m \u001b[0mself\u001b[0m\u001b[0;34m.\u001b[0m\u001b[0mtarget_func\u001b[0m\u001b[0;34m(\u001b[0m\u001b[0;34m**\u001b[0m\u001b[0mparams\u001b[0m\u001b[0;34m)\u001b[0m\u001b[0;34m\u001b[0m\u001b[0;34m\u001b[0m\u001b[0m\n\u001b[0m\u001b[1;32m    195\u001b[0m             \u001b[0mself\u001b[0m\u001b[0;34m.\u001b[0m\u001b[0mregister\u001b[0m\u001b[0;34m(\u001b[0m\u001b[0mx\u001b[0m\u001b[0;34m,\u001b[0m \u001b[0mtarget\u001b[0m\u001b[0;34m)\u001b[0m\u001b[0;34m\u001b[0m\u001b[0;34m\u001b[0m\u001b[0m\n\u001b[1;32m    196\u001b[0m         \u001b[0;32mreturn\u001b[0m \u001b[0mtarget\u001b[0m\u001b[0;34m\u001b[0m\u001b[0;34m\u001b[0m\u001b[0m\n",
            "\u001b[0;32m<ipython-input-92-f132c6b4d02f>\u001b[0m in \u001b[0;36mlgbm_cv\u001b[0;34m(learning_rate, n_estimators, max_depth, num_leaves, subsample, min_child_weight, colsample_bytree, max_bin, reg_alpha, reg_lambda)\u001b[0m\n\u001b[1;32m     14\u001b[0m                                 \u001b[0mreg_lambda\u001b[0m \u001b[0;34m=\u001b[0m \u001b[0mmax\u001b[0m\u001b[0;34m(\u001b[0m\u001b[0mreg_lambda\u001b[0m\u001b[0;34m,\u001b[0m \u001b[0;36m0\u001b[0m\u001b[0;34m)\u001b[0m\u001b[0;34m\u001b[0m\u001b[0;34m\u001b[0m\u001b[0m\n\u001b[1;32m     15\u001b[0m                                )\n\u001b[0;32m---> 16\u001b[0;31m     \u001b[0mscores\u001b[0m \u001b[0;34m=\u001b[0m \u001b[0mcross_validate\u001b[0m\u001b[0;34m(\u001b[0m\u001b[0mmodel\u001b[0m\u001b[0;34m,\u001b[0m \u001b[0mX_train_mean\u001b[0m\u001b[0;34m,\u001b[0m \u001b[0my_train\u001b[0m\u001b[0;34m,\u001b[0m \u001b[0mcv\u001b[0m\u001b[0;34m=\u001b[0m\u001b[0;36m5\u001b[0m\u001b[0;34m,\u001b[0m \u001b[0mn_jobs\u001b[0m \u001b[0;34m=\u001b[0m \u001b[0;34m-\u001b[0m\u001b[0;36m1\u001b[0m\u001b[0;34m,\u001b[0m \u001b[0mscoring\u001b[0m\u001b[0;34m=\u001b[0m\u001b[0;34m'f1'\u001b[0m\u001b[0;34m)\u001b[0m\u001b[0;34m\u001b[0m\u001b[0;34m\u001b[0m\u001b[0m\n\u001b[0m\u001b[1;32m     17\u001b[0m     \u001b[0;32mreturn\u001b[0m \u001b[0mnp\u001b[0m\u001b[0;34m.\u001b[0m\u001b[0mmean\u001b[0m\u001b[0;34m(\u001b[0m\u001b[0mscores\u001b[0m\u001b[0;34m[\u001b[0m\u001b[0;34m'test_score'\u001b[0m\u001b[0;34m]\u001b[0m\u001b[0;34m)\u001b[0m\u001b[0;34m\u001b[0m\u001b[0;34m\u001b[0m\u001b[0m\n",
            "\u001b[0;32m/usr/local/lib/python3.7/dist-packages/sklearn/model_selection/_validation.py\u001b[0m in \u001b[0;36mcross_validate\u001b[0;34m(estimator, X, y, groups, scoring, cv, n_jobs, verbose, fit_params, pre_dispatch, return_train_score, return_estimator, error_score)\u001b[0m\n\u001b[1;32m    281\u001b[0m             \u001b[0merror_score\u001b[0m\u001b[0;34m=\u001b[0m\u001b[0merror_score\u001b[0m\u001b[0;34m,\u001b[0m\u001b[0;34m\u001b[0m\u001b[0;34m\u001b[0m\u001b[0m\n\u001b[1;32m    282\u001b[0m         )\n\u001b[0;32m--> 283\u001b[0;31m         \u001b[0;32mfor\u001b[0m \u001b[0mtrain\u001b[0m\u001b[0;34m,\u001b[0m \u001b[0mtest\u001b[0m \u001b[0;32min\u001b[0m \u001b[0mcv\u001b[0m\u001b[0;34m.\u001b[0m\u001b[0msplit\u001b[0m\u001b[0;34m(\u001b[0m\u001b[0mX\u001b[0m\u001b[0;34m,\u001b[0m \u001b[0my\u001b[0m\u001b[0;34m,\u001b[0m \u001b[0mgroups\u001b[0m\u001b[0;34m)\u001b[0m\u001b[0;34m\u001b[0m\u001b[0;34m\u001b[0m\u001b[0m\n\u001b[0m\u001b[1;32m    284\u001b[0m     )\n\u001b[1;32m    285\u001b[0m \u001b[0;34m\u001b[0m\u001b[0m\n",
            "\u001b[0;32m/usr/local/lib/python3.7/dist-packages/joblib/parallel.py\u001b[0m in \u001b[0;36m__call__\u001b[0;34m(self, iterable)\u001b[0m\n\u001b[1;32m   1054\u001b[0m \u001b[0;34m\u001b[0m\u001b[0m\n\u001b[1;32m   1055\u001b[0m             \u001b[0;32mwith\u001b[0m \u001b[0mself\u001b[0m\u001b[0;34m.\u001b[0m\u001b[0m_backend\u001b[0m\u001b[0;34m.\u001b[0m\u001b[0mretrieval_context\u001b[0m\u001b[0;34m(\u001b[0m\u001b[0;34m)\u001b[0m\u001b[0;34m:\u001b[0m\u001b[0;34m\u001b[0m\u001b[0;34m\u001b[0m\u001b[0m\n\u001b[0;32m-> 1056\u001b[0;31m                 \u001b[0mself\u001b[0m\u001b[0;34m.\u001b[0m\u001b[0mretrieve\u001b[0m\u001b[0;34m(\u001b[0m\u001b[0;34m)\u001b[0m\u001b[0;34m\u001b[0m\u001b[0;34m\u001b[0m\u001b[0m\n\u001b[0m\u001b[1;32m   1057\u001b[0m             \u001b[0;31m# Make sure that we get a last message telling us we are done\u001b[0m\u001b[0;34m\u001b[0m\u001b[0;34m\u001b[0m\u001b[0;34m\u001b[0m\u001b[0m\n\u001b[1;32m   1058\u001b[0m             \u001b[0melapsed_time\u001b[0m \u001b[0;34m=\u001b[0m \u001b[0mtime\u001b[0m\u001b[0;34m.\u001b[0m\u001b[0mtime\u001b[0m\u001b[0;34m(\u001b[0m\u001b[0;34m)\u001b[0m \u001b[0;34m-\u001b[0m \u001b[0mself\u001b[0m\u001b[0;34m.\u001b[0m\u001b[0m_start_time\u001b[0m\u001b[0;34m\u001b[0m\u001b[0;34m\u001b[0m\u001b[0m\n",
            "\u001b[0;32m/usr/local/lib/python3.7/dist-packages/joblib/parallel.py\u001b[0m in \u001b[0;36mretrieve\u001b[0;34m(self)\u001b[0m\n\u001b[1;32m    933\u001b[0m             \u001b[0;32mtry\u001b[0m\u001b[0;34m:\u001b[0m\u001b[0;34m\u001b[0m\u001b[0;34m\u001b[0m\u001b[0m\n\u001b[1;32m    934\u001b[0m                 \u001b[0;32mif\u001b[0m \u001b[0mgetattr\u001b[0m\u001b[0;34m(\u001b[0m\u001b[0mself\u001b[0m\u001b[0;34m.\u001b[0m\u001b[0m_backend\u001b[0m\u001b[0;34m,\u001b[0m \u001b[0;34m'supports_timeout'\u001b[0m\u001b[0;34m,\u001b[0m \u001b[0;32mFalse\u001b[0m\u001b[0;34m)\u001b[0m\u001b[0;34m:\u001b[0m\u001b[0;34m\u001b[0m\u001b[0;34m\u001b[0m\u001b[0m\n\u001b[0;32m--> 935\u001b[0;31m                     \u001b[0mself\u001b[0m\u001b[0;34m.\u001b[0m\u001b[0m_output\u001b[0m\u001b[0;34m.\u001b[0m\u001b[0mextend\u001b[0m\u001b[0;34m(\u001b[0m\u001b[0mjob\u001b[0m\u001b[0;34m.\u001b[0m\u001b[0mget\u001b[0m\u001b[0;34m(\u001b[0m\u001b[0mtimeout\u001b[0m\u001b[0;34m=\u001b[0m\u001b[0mself\u001b[0m\u001b[0;34m.\u001b[0m\u001b[0mtimeout\u001b[0m\u001b[0;34m)\u001b[0m\u001b[0;34m)\u001b[0m\u001b[0;34m\u001b[0m\u001b[0;34m\u001b[0m\u001b[0m\n\u001b[0m\u001b[1;32m    936\u001b[0m                 \u001b[0;32melse\u001b[0m\u001b[0;34m:\u001b[0m\u001b[0;34m\u001b[0m\u001b[0;34m\u001b[0m\u001b[0m\n\u001b[1;32m    937\u001b[0m                     \u001b[0mself\u001b[0m\u001b[0;34m.\u001b[0m\u001b[0m_output\u001b[0m\u001b[0;34m.\u001b[0m\u001b[0mextend\u001b[0m\u001b[0;34m(\u001b[0m\u001b[0mjob\u001b[0m\u001b[0;34m.\u001b[0m\u001b[0mget\u001b[0m\u001b[0;34m(\u001b[0m\u001b[0;34m)\u001b[0m\u001b[0;34m)\u001b[0m\u001b[0;34m\u001b[0m\u001b[0;34m\u001b[0m\u001b[0m\n",
            "\u001b[0;32m/usr/local/lib/python3.7/dist-packages/joblib/_parallel_backends.py\u001b[0m in \u001b[0;36mwrap_future_result\u001b[0;34m(future, timeout)\u001b[0m\n\u001b[1;32m    540\u001b[0m         AsyncResults.get from multiprocessing.\"\"\"\n\u001b[1;32m    541\u001b[0m         \u001b[0;32mtry\u001b[0m\u001b[0;34m:\u001b[0m\u001b[0;34m\u001b[0m\u001b[0;34m\u001b[0m\u001b[0m\n\u001b[0;32m--> 542\u001b[0;31m             \u001b[0;32mreturn\u001b[0m \u001b[0mfuture\u001b[0m\u001b[0;34m.\u001b[0m\u001b[0mresult\u001b[0m\u001b[0;34m(\u001b[0m\u001b[0mtimeout\u001b[0m\u001b[0;34m=\u001b[0m\u001b[0mtimeout\u001b[0m\u001b[0;34m)\u001b[0m\u001b[0;34m\u001b[0m\u001b[0;34m\u001b[0m\u001b[0m\n\u001b[0m\u001b[1;32m    543\u001b[0m         \u001b[0;32mexcept\u001b[0m \u001b[0mCfTimeoutError\u001b[0m \u001b[0;32mas\u001b[0m \u001b[0me\u001b[0m\u001b[0;34m:\u001b[0m\u001b[0;34m\u001b[0m\u001b[0;34m\u001b[0m\u001b[0m\n\u001b[1;32m    544\u001b[0m             \u001b[0;32mraise\u001b[0m \u001b[0mTimeoutError\u001b[0m \u001b[0;32mfrom\u001b[0m \u001b[0me\u001b[0m\u001b[0;34m\u001b[0m\u001b[0;34m\u001b[0m\u001b[0m\n",
            "\u001b[0;32m/usr/lib/python3.7/concurrent/futures/_base.py\u001b[0m in \u001b[0;36mresult\u001b[0;34m(self, timeout)\u001b[0m\n\u001b[1;32m    428\u001b[0m                 \u001b[0;32mreturn\u001b[0m \u001b[0mself\u001b[0m\u001b[0;34m.\u001b[0m\u001b[0m__get_result\u001b[0m\u001b[0;34m(\u001b[0m\u001b[0;34m)\u001b[0m\u001b[0;34m\u001b[0m\u001b[0;34m\u001b[0m\u001b[0m\n\u001b[1;32m    429\u001b[0m \u001b[0;34m\u001b[0m\u001b[0m\n\u001b[0;32m--> 430\u001b[0;31m             \u001b[0mself\u001b[0m\u001b[0;34m.\u001b[0m\u001b[0m_condition\u001b[0m\u001b[0;34m.\u001b[0m\u001b[0mwait\u001b[0m\u001b[0;34m(\u001b[0m\u001b[0mtimeout\u001b[0m\u001b[0;34m)\u001b[0m\u001b[0;34m\u001b[0m\u001b[0;34m\u001b[0m\u001b[0m\n\u001b[0m\u001b[1;32m    431\u001b[0m \u001b[0;34m\u001b[0m\u001b[0m\n\u001b[1;32m    432\u001b[0m             \u001b[0;32mif\u001b[0m \u001b[0mself\u001b[0m\u001b[0;34m.\u001b[0m\u001b[0m_state\u001b[0m \u001b[0;32min\u001b[0m \u001b[0;34m[\u001b[0m\u001b[0mCANCELLED\u001b[0m\u001b[0;34m,\u001b[0m \u001b[0mCANCELLED_AND_NOTIFIED\u001b[0m\u001b[0;34m]\u001b[0m\u001b[0;34m:\u001b[0m\u001b[0;34m\u001b[0m\u001b[0;34m\u001b[0m\u001b[0m\n",
            "\u001b[0;32m/usr/lib/python3.7/threading.py\u001b[0m in \u001b[0;36mwait\u001b[0;34m(self, timeout)\u001b[0m\n\u001b[1;32m    294\u001b[0m         \u001b[0;32mtry\u001b[0m\u001b[0;34m:\u001b[0m    \u001b[0;31m# restore state no matter what (e.g., KeyboardInterrupt)\u001b[0m\u001b[0;34m\u001b[0m\u001b[0;34m\u001b[0m\u001b[0m\n\u001b[1;32m    295\u001b[0m             \u001b[0;32mif\u001b[0m \u001b[0mtimeout\u001b[0m \u001b[0;32mis\u001b[0m \u001b[0;32mNone\u001b[0m\u001b[0;34m:\u001b[0m\u001b[0;34m\u001b[0m\u001b[0;34m\u001b[0m\u001b[0m\n\u001b[0;32m--> 296\u001b[0;31m                 \u001b[0mwaiter\u001b[0m\u001b[0;34m.\u001b[0m\u001b[0macquire\u001b[0m\u001b[0;34m(\u001b[0m\u001b[0;34m)\u001b[0m\u001b[0;34m\u001b[0m\u001b[0;34m\u001b[0m\u001b[0m\n\u001b[0m\u001b[1;32m    297\u001b[0m                 \u001b[0mgotit\u001b[0m \u001b[0;34m=\u001b[0m \u001b[0;32mTrue\u001b[0m\u001b[0;34m\u001b[0m\u001b[0;34m\u001b[0m\u001b[0m\n\u001b[1;32m    298\u001b[0m             \u001b[0;32melse\u001b[0m\u001b[0;34m:\u001b[0m\u001b[0;34m\u001b[0m\u001b[0;34m\u001b[0m\u001b[0m\n",
            "\u001b[0;31mKeyboardInterrupt\u001b[0m: "
          ]
        }
      ]
    },
    {
      "cell_type": "code",
      "source": [
        "f1 =[]\n",
        "model_names =[]\n",
        "categorical_features_indices = np.where(X_train.dtypes != np.float)[0]\n",
        "\n",
        "X_tra, X_val, y_tra, y_val = train_test_split(X_train, y_train, test_size=0.3, random_state=42)\n",
        "\n",
        "model = CatBoostClassifier(verbose=False,random_state=0)\n",
        "\n",
        "model.fit(X_tra, y_tra, cat_features=categorical_features_indices, eval_set=(X_val, y_val))\n",
        "y_pred = model.predict(X_val)\n",
        "f1_score.append(round(accuracy_score(y_val, y_pred),4))\n",
        "\n",
        "model_names = ['Catboost_default']\n",
        "result = pd.DataFrame({'f1':f1_score}, index=model_names)\n",
        "result"
      ],
      "metadata": {
        "colab": {
          "base_uri": "https://localhost:8080/",
          "height": 245
        },
        "id": "lZLRJ5cbih-5",
        "outputId": "da2dc42a-8e77-475f-d006-c48d20bc0201"
      },
      "execution_count": 15,
      "outputs": [
        {
          "output_type": "error",
          "ename": "AttributeError",
          "evalue": "ignored",
          "traceback": [
            "\u001b[0;31m---------------------------------------------------------------------------\u001b[0m",
            "\u001b[0;31mAttributeError\u001b[0m                            Traceback (most recent call last)",
            "\u001b[0;32m<ipython-input-15-3b5db098bc89>\u001b[0m in \u001b[0;36m<module>\u001b[0;34m()\u001b[0m\n\u001b[1;32m      9\u001b[0m \u001b[0mmodel\u001b[0m\u001b[0;34m.\u001b[0m\u001b[0mfit\u001b[0m\u001b[0;34m(\u001b[0m\u001b[0mX_tra\u001b[0m\u001b[0;34m,\u001b[0m \u001b[0my_tra\u001b[0m\u001b[0;34m,\u001b[0m \u001b[0mcat_features\u001b[0m\u001b[0;34m=\u001b[0m\u001b[0mcategorical_features_indices\u001b[0m\u001b[0;34m,\u001b[0m \u001b[0meval_set\u001b[0m\u001b[0;34m=\u001b[0m\u001b[0;34m(\u001b[0m\u001b[0mX_val\u001b[0m\u001b[0;34m,\u001b[0m \u001b[0my_val\u001b[0m\u001b[0;34m)\u001b[0m\u001b[0;34m)\u001b[0m\u001b[0;34m\u001b[0m\u001b[0;34m\u001b[0m\u001b[0m\n\u001b[1;32m     10\u001b[0m \u001b[0my_pred\u001b[0m \u001b[0;34m=\u001b[0m \u001b[0mmodel\u001b[0m\u001b[0;34m.\u001b[0m\u001b[0mpredict\u001b[0m\u001b[0;34m(\u001b[0m\u001b[0mX_val\u001b[0m\u001b[0;34m)\u001b[0m\u001b[0;34m\u001b[0m\u001b[0;34m\u001b[0m\u001b[0m\n\u001b[0;32m---> 11\u001b[0;31m \u001b[0mf1_score\u001b[0m\u001b[0;34m.\u001b[0m\u001b[0mappend\u001b[0m\u001b[0;34m(\u001b[0m\u001b[0mround\u001b[0m\u001b[0;34m(\u001b[0m\u001b[0maccuracy_score\u001b[0m\u001b[0;34m(\u001b[0m\u001b[0my_val\u001b[0m\u001b[0;34m,\u001b[0m \u001b[0my_pred\u001b[0m\u001b[0;34m)\u001b[0m\u001b[0;34m,\u001b[0m\u001b[0;36m4\u001b[0m\u001b[0;34m)\u001b[0m\u001b[0;34m)\u001b[0m\u001b[0;34m\u001b[0m\u001b[0;34m\u001b[0m\u001b[0m\n\u001b[0m\u001b[1;32m     12\u001b[0m \u001b[0;34m\u001b[0m\u001b[0m\n\u001b[1;32m     13\u001b[0m \u001b[0mmodel_names\u001b[0m \u001b[0;34m=\u001b[0m \u001b[0;34m[\u001b[0m\u001b[0;34m'Catboost_default'\u001b[0m\u001b[0;34m]\u001b[0m\u001b[0;34m\u001b[0m\u001b[0;34m\u001b[0m\u001b[0m\n",
            "\u001b[0;31mAttributeError\u001b[0m: 'function' object has no attribute 'append'"
          ]
        }
      ]
    },
    {
      "cell_type": "code",
      "source": [
        "def objective(trial):\n",
        "\n",
        "    categorical_features_indices = np.where(X.dtypes != np.float)[0]\n",
        "    \n",
        "    X_tra, X_val, y_tra, y_val = train_test_split(X_train, y_train, test_size=0.3, random_state=42)\n",
        "\n",
        "    param = {\n",
        "        \"objective\": trial.suggest_categorical(\"objective\", [\"Logloss\", \"CrossEntropy\"]),\n",
        "        \"colsample_bylevel\": trial.suggest_float(\"colsample_bylevel\", 0.01, 0.1),\n",
        "        \"depth\": trial.suggest_int(\"depth\", 1, 12),\n",
        "        \"boosting_type\": trial.suggest_categorical(\"boosting_type\", [\"Ordered\", \"Plain\"]),\n",
        "        \"bootstrap_type\": trial.suggest_categorical(\n",
        "            \"bootstrap_type\", [\"Bayesian\", \"Bernoulli\", \"MVS\"]\n",
        "        ),\n",
        "        \"used_ram_limit\": \"3gb\",\n",
        "    }\n",
        "\n",
        "    if param[\"bootstrap_type\"] == \"Bayesian\":\n",
        "        param[\"bagging_temperature\"] = trial.suggest_float(\"bagging_temperature\", 0, 10)\n",
        "    elif param[\"bootstrap_type\"] == \"Bernoulli\":\n",
        "        param[\"subsample\"] = trial.suggest_float(\"subsample\", 0.1, 1)\n",
        "\n",
        "    cat_cls = CatBoostClassifier(**param)\n",
        "\n",
        "    cat_cls.fit(X_tra, y_tra, eval_set=[(X_val, y_val)], cat_features=categorical_features_indices,verbose=0, early_stopping_rounds=100)\n",
        "\n",
        "    preds = cat_cls.predict(X_val)\n",
        "    pred_labels = np.rint(preds)\n",
        "    f1 = f1_score(y_val, pred_labels)\n",
        "    return f1\n",
        "\n",
        "\n",
        "if __name__ == \"__main__\":\n",
        "    study = optuna.create_study(direction=\"maximize\")\n",
        "    study.optimize(objective, n_trials=50, timeout=600)\n",
        "\n",
        "    print(\"Number of finished trials: {}\".format(len(study.trials)))\n",
        "\n",
        "    print(\"Best trial:\")\n",
        "    trial = study.best_trial\n",
        "\n",
        "    print(\"  Value: {}\".format(trial.value))\n",
        "\n",
        "    print(\"  Params: \")\n",
        "    for key, value in trial.params.items():\n",
        "        print(\"    {}: {}\".format(key, value))"
      ],
      "metadata": {
        "id": "o64lvk32iiBH"
      },
      "execution_count": null,
      "outputs": []
    },
    {
      "cell_type": "code",
      "source": [
        "f1 =[]\n",
        "model_names =[]\n",
        "\n",
        "categorical_features_indices = np.where(X.dtypes != np.float)[0]\n",
        "\n",
        "X_train, X_test, y_train, y_test = train_test_split(X, y, test_size=0.3, random_state=42)\n",
        "\n",
        "model = CatBoostClassifier(verbose=False,random_state=0,\n",
        "                          objective= 'CrossEntropy',\n",
        "    colsample_bylevel= 0.04292240490294766,\n",
        "    depth= 10,\n",
        "    boosting_type= 'Plain',\n",
        "    bootstrap_type= 'MVS')\n",
        "\n",
        "model.fit(X_train, y_train,cat_features=categorical_features_indices,eval_set=(X_test, y_test))\n",
        "y_pred = model.predict(X_test)\n",
        "accuracy.append(round(accuracy_score(y_test, y_pred),4))\n",
        "print(classification_report(y_test, y_pred))\n",
        "\n",
        "model_names = ['Catboost_tuned']\n",
        "result_df6 = pd.DataFrame({'Accuracy':accuracy}, index=model_names)\n",
        "result_df6"
      ],
      "metadata": {
        "id": "GZOl11gGiiDY"
      },
      "execution_count": null,
      "outputs": []
    },
    {
      "cell_type": "code",
      "source": [
        ""
      ],
      "metadata": {
        "id": "EKwbjnxsiiF1"
      },
      "execution_count": null,
      "outputs": []
    },
    {
      "cell_type": "code",
      "source": [
        ""
      ],
      "metadata": {
        "id": "b5gqs_fxiiJD"
      },
      "execution_count": null,
      "outputs": []
    }
  ],
  "metadata": {
    "colab": {
      "collapsed_sections": [
        "glbuyNEBFYTh",
        "16mdSPcQFKXZ"
      ],
      "name": "dacon_jobcare (1).ipynb",
      "provenance": []
    },
    "kernelspec": {
      "display_name": "Python 3",
      "name": "python3"
    }
  },
  "nbformat": 4,
  "nbformat_minor": 0
}